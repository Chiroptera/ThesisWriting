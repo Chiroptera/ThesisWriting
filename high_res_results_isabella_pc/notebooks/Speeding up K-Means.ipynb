{
 "cells": [
  {
   "cell_type": "code",
   "execution_count": 1,
   "metadata": {
    "collapsed": false
   },
   "outputs": [
    {
     "name": "stdout",
     "output_type": "stream",
     "text": [
      "Populating the interactive namespace from numpy and matplotlib\n"
     ]
    }
   ],
   "source": [
    "%pylab inline\n",
    "import numbapro\n",
    "from numbapro import *"
   ]
  },
  {
   "cell_type": "code",
   "execution_count": 4,
   "metadata": {
    "collapsed": false
   },
   "outputs": [
    {
     "name": "stdout",
     "output_type": "stream",
     "text": [
      "------------------------------libraries detection-------------------------------\n",
      "Finding cublas\n",
      "\tlocated at /home/chiroptera/anaconda/lib/libcublas.so.6.0.37\n",
      "\ttrying to open library...\tok\n",
      "Finding cusparse\n",
      "\tlocated at /home/chiroptera/anaconda/lib/libcusparse.so.6.0.37\n",
      "\ttrying to open library...\tok\n",
      "Finding cufft\n",
      "\tlocated at /home/chiroptera/anaconda/lib/libcufft.so.6.0.37\n",
      "\ttrying to open library...\tok\n",
      "Finding curand\n",
      "\tlocated at /home/chiroptera/anaconda/lib/libcurand.so.6.0.37\n",
      "\ttrying to open library...\tok\n",
      "Finding nvvm\n",
      "\tlocated at /home/chiroptera/anaconda/lib/libnvvm.so.2.0.0\n",
      "\ttrying to open library...\tok\n",
      "\tfinding libdevice for compute_20...\tok\n",
      "\tfinding libdevice for compute_30...\tok\n",
      "\tfinding libdevice for compute_35...\tok\n",
      "-------------------------------hardware detection-------------------------------\n",
      "Found 1 CUDA devices\n",
      "id 0         GeForce GT 520M                              [SUPPORTED]\n",
      "                      compute capability: 2.1\n",
      "                           pci device id: 0\n",
      "                              pci bus id: 1\n",
      "Summary:\n",
      "\t1/1 devices are supported\n",
      "PASSED\n"
     ]
    },
    {
     "data": {
      "text/plain": [
       "True"
      ]
     },
     "execution_count": 4,
     "metadata": {},
     "output_type": "execute_result"
    }
   ],
   "source": [
    "numbapro.check_cuda()"
   ]
  },
  {
   "cell_type": "code",
   "execution_count": 2,
   "metadata": {
    "collapsed": false
   },
   "outputs": [],
   "source": [
    "%load https://raw.githubusercontent.com/Chiroptera/QCThesis/master/CUDA/K_Means.py"
   ]
  },
  {
   "cell_type": "code",
   "execution_count": 2,
   "metadata": {
    "collapsed": false
   },
   "outputs": [
    {
     "ename": "CudaSupportError",
     "evalue": "Error at driver init: \nCall to cuInit results in CUDA_ERROR_UNKNOWN:",
     "output_type": "error",
     "traceback": [
      "\u001b[1;31m---------------------------------------------------------------------------\u001b[0m\n\u001b[1;31mCudaSupportError\u001b[0m                          Traceback (most recent call last)",
      "\u001b[1;32m<ipython-input-2-f64f068dcd5d>\u001b[0m in \u001b[0;36m<module>\u001b[1;34m()\u001b[0m\n\u001b[0;32m      9\u001b[0m \u001b[1;32mfrom\u001b[0m \u001b[0mnumbapro\u001b[0m \u001b[1;32mimport\u001b[0m \u001b[1;33m*\u001b[0m\u001b[1;33m\u001b[0m\u001b[0m\n\u001b[0;32m     10\u001b[0m \u001b[1;33m\u001b[0m\u001b[0m\n\u001b[1;32m---> 11\u001b[1;33m \u001b[1;32mclass\u001b[0m \u001b[0mK_Means\u001b[0m\u001b[1;33m:\u001b[0m\u001b[1;33m\u001b[0m\u001b[0m\n\u001b[0m\u001b[0;32m     12\u001b[0m \u001b[1;33m\u001b[0m\u001b[0m\n\u001b[0;32m     13\u001b[0m \u001b[1;33m\u001b[0m\u001b[0m\n",
      "\u001b[1;32m<ipython-input-2-f64f068dcd5d>\u001b[0m in \u001b[0;36mK_Means\u001b[1;34m()\u001b[0m\n\u001b[0;32m    176\u001b[0m \u001b[1;33m\u001b[0m\u001b[0m\n\u001b[0;32m    177\u001b[0m \u001b[1;33m\u001b[0m\u001b[0m\n\u001b[1;32m--> 178\u001b[1;33m     \u001b[1;33m@\u001b[0m\u001b[0mnumbapro\u001b[0m\u001b[1;33m.\u001b[0m\u001b[0mcuda\u001b[0m\u001b[1;33m.\u001b[0m\u001b[0mjit\u001b[0m\u001b[1;33m(\u001b[0m\u001b[1;34m\"void(float32[:,:], float32[:,:], float32[:,:])\"\u001b[0m\u001b[1;33m)\u001b[0m\u001b[1;33m\u001b[0m\u001b[0m\n\u001b[0m\u001b[0;32m    179\u001b[0m     \u001b[1;32mdef\u001b[0m \u001b[0m_cu_dist_kernel\u001b[0m\u001b[1;33m(\u001b[0m\u001b[0ma\u001b[0m\u001b[1;33m,\u001b[0m\u001b[0mb\u001b[0m\u001b[1;33m,\u001b[0m\u001b[0mc\u001b[0m\u001b[1;33m)\u001b[0m\u001b[1;33m:\u001b[0m\u001b[1;33m\u001b[0m\u001b[0m\n\u001b[0;32m    180\u001b[0m         \u001b[0mk\u001b[0m\u001b[1;33m,\u001b[0m\u001b[0mn\u001b[0m \u001b[1;33m=\u001b[0m \u001b[0mnumbapro\u001b[0m\u001b[1;33m.\u001b[0m\u001b[0mcuda\u001b[0m\u001b[1;33m.\u001b[0m\u001b[0mgrid\u001b[0m\u001b[1;33m(\u001b[0m\u001b[1;36m2\u001b[0m\u001b[1;33m)\u001b[0m\u001b[1;33m\u001b[0m\u001b[0m\n",
      "\u001b[1;32m/home/chiroptera/anaconda/lib/python2.7/site-packages/numba/cuda/decorators.pyc\u001b[0m in \u001b[0;36mkernel_jit\u001b[1;34m(func)\u001b[0m\n\u001b[0;32m    122\u001b[0m             \u001b[1;31m# Force compilation for the current context\u001b[0m\u001b[1;33m\u001b[0m\u001b[1;33m\u001b[0m\u001b[0m\n\u001b[0;32m    123\u001b[0m             \u001b[1;32mif\u001b[0m \u001b[0mbind\u001b[0m\u001b[1;33m:\u001b[0m\u001b[1;33m\u001b[0m\u001b[0m\n\u001b[1;32m--> 124\u001b[1;33m                 \u001b[0mkernel\u001b[0m\u001b[1;33m.\u001b[0m\u001b[0mbind\u001b[0m\u001b[1;33m(\u001b[0m\u001b[1;33m)\u001b[0m\u001b[1;33m\u001b[0m\u001b[0m\n\u001b[0m\u001b[0;32m    125\u001b[0m \u001b[1;33m\u001b[0m\u001b[0m\n\u001b[0;32m    126\u001b[0m             \u001b[1;32mreturn\u001b[0m \u001b[0mkernel\u001b[0m\u001b[1;33m\u001b[0m\u001b[0m\n",
      "\u001b[1;32m/home/chiroptera/anaconda/lib/python2.7/site-packages/numba/cuda/compiler.pyc\u001b[0m in \u001b[0;36mbind\u001b[1;34m(self)\u001b[0m\n\u001b[0;32m    311\u001b[0m         \u001b[0mForce\u001b[0m \u001b[0mbinding\u001b[0m \u001b[0mto\u001b[0m \u001b[0mcurrent\u001b[0m \u001b[0mCUDA\u001b[0m \u001b[0mcontext\u001b[0m\u001b[1;33m\u001b[0m\u001b[0m\n\u001b[0;32m    312\u001b[0m         \"\"\"\n\u001b[1;32m--> 313\u001b[1;33m         \u001b[0mself\u001b[0m\u001b[1;33m.\u001b[0m\u001b[0m_func\u001b[0m\u001b[1;33m.\u001b[0m\u001b[0mget\u001b[0m\u001b[1;33m(\u001b[0m\u001b[1;33m)\u001b[0m\u001b[1;33m\u001b[0m\u001b[0m\n\u001b[0m\u001b[0;32m    314\u001b[0m \u001b[1;33m\u001b[0m\u001b[0m\n\u001b[0;32m    315\u001b[0m     \u001b[1;33m@\u001b[0m\u001b[0mproperty\u001b[0m\u001b[1;33m\u001b[0m\u001b[0m\n",
      "\u001b[1;32m/home/chiroptera/anaconda/lib/python2.7/site-packages/numba/cuda/compiler.pyc\u001b[0m in \u001b[0;36mget\u001b[1;34m(self)\u001b[0m\n\u001b[0;32m    249\u001b[0m \u001b[1;33m\u001b[0m\u001b[0m\n\u001b[0;32m    250\u001b[0m     \u001b[1;32mdef\u001b[0m \u001b[0mget\u001b[0m\u001b[1;33m(\u001b[0m\u001b[0mself\u001b[0m\u001b[1;33m)\u001b[0m\u001b[1;33m:\u001b[0m\u001b[1;33m\u001b[0m\u001b[0m\n\u001b[1;32m--> 251\u001b[1;33m         \u001b[0mcuctx\u001b[0m \u001b[1;33m=\u001b[0m \u001b[0mget_context\u001b[0m\u001b[1;33m(\u001b[0m\u001b[1;33m)\u001b[0m\u001b[1;33m\u001b[0m\u001b[0m\n\u001b[0m\u001b[0;32m    252\u001b[0m         \u001b[0mdevice\u001b[0m \u001b[1;33m=\u001b[0m \u001b[0mcuctx\u001b[0m\u001b[1;33m.\u001b[0m\u001b[0mdevice\u001b[0m\u001b[1;33m\u001b[0m\u001b[0m\n\u001b[0;32m    253\u001b[0m         \u001b[0mcufunc\u001b[0m \u001b[1;33m=\u001b[0m \u001b[0mself\u001b[0m\u001b[1;33m.\u001b[0m\u001b[0mcache\u001b[0m\u001b[1;33m.\u001b[0m\u001b[0mget\u001b[0m\u001b[1;33m(\u001b[0m\u001b[0mdevice\u001b[0m\u001b[1;33m.\u001b[0m\u001b[0mid\u001b[0m\u001b[1;33m)\u001b[0m\u001b[1;33m\u001b[0m\u001b[0m\n",
      "\u001b[1;32m/home/chiroptera/anaconda/lib/python2.7/site-packages/numba/cuda/cudadrv/devices.pyc\u001b[0m in \u001b[0;36mget_context\u001b[1;34m(devnum)\u001b[0m\n\u001b[0;32m    226\u001b[0m     \u001b[1;32mreturn\u001b[0m \u001b[0mthe\u001b[0m \u001b[0mCUDA\u001b[0m \u001b[0mcontext\u001b[0m\u001b[1;33m.\u001b[0m\u001b[1;33m\u001b[0m\u001b[0m\n\u001b[0;32m    227\u001b[0m     \"\"\"\n\u001b[1;32m--> 228\u001b[1;33m     \u001b[1;32mreturn\u001b[0m \u001b[0m_runtime\u001b[0m\u001b[1;33m.\u001b[0m\u001b[0mget_or_create_context\u001b[0m\u001b[1;33m(\u001b[0m\u001b[0mdevnum\u001b[0m\u001b[1;33m)\u001b[0m\u001b[1;33m\u001b[0m\u001b[0m\n\u001b[0m\u001b[0;32m    229\u001b[0m \u001b[1;33m\u001b[0m\u001b[0m\n\u001b[0;32m    230\u001b[0m \u001b[1;33m\u001b[0m\u001b[0m\n",
      "\u001b[1;32m/home/chiroptera/anaconda/lib/python2.7/site-packages/numba/cuda/cudadrv/devices.pyc\u001b[0m in \u001b[0;36mget_or_create_context\u001b[1;34m(self, devnum)\u001b[0m\n\u001b[0;32m    188\u001b[0m             \u001b[1;32mreturn\u001b[0m \u001b[0mself\u001b[0m\u001b[1;33m.\u001b[0m\u001b[0mcurrent_context\u001b[0m\u001b[1;33m\u001b[0m\u001b[0m\n\u001b[0;32m    189\u001b[0m         \u001b[1;32melse\u001b[0m\u001b[1;33m:\u001b[0m\u001b[1;33m\u001b[0m\u001b[0m\n\u001b[1;32m--> 190\u001b[1;33m             \u001b[1;32mreturn\u001b[0m \u001b[0m_runtime\u001b[0m\u001b[1;33m.\u001b[0m\u001b[0mpush_context\u001b[0m\u001b[1;33m(\u001b[0m\u001b[0mself\u001b[0m\u001b[1;33m.\u001b[0m\u001b[0mgpus\u001b[0m\u001b[1;33m[\u001b[0m\u001b[0mdevnum\u001b[0m\u001b[1;33m]\u001b[0m\u001b[1;33m)\u001b[0m\u001b[1;33m\u001b[0m\u001b[0m\n\u001b[0m\u001b[0;32m    191\u001b[0m \u001b[1;33m\u001b[0m\u001b[0m\n\u001b[0;32m    192\u001b[0m     \u001b[1;32mdef\u001b[0m \u001b[0mreset\u001b[0m\u001b[1;33m(\u001b[0m\u001b[0mself\u001b[0m\u001b[1;33m)\u001b[0m\u001b[1;33m:\u001b[0m\u001b[1;33m\u001b[0m\u001b[0m\n",
      "\u001b[1;32m/home/chiroptera/anaconda/lib/python2.7/site-packages/numba/cuda/cudadrv/devices.pyc\u001b[0m in \u001b[0;36m__getitem__\u001b[1;34m(self, devnum)\u001b[0m\n\u001b[0;32m     35\u001b[0m \u001b[1;33m\u001b[0m\u001b[0m\n\u001b[0;32m     36\u001b[0m     \u001b[1;32mdef\u001b[0m \u001b[0m__getitem__\u001b[0m\u001b[1;33m(\u001b[0m\u001b[0mself\u001b[0m\u001b[1;33m,\u001b[0m \u001b[0mdevnum\u001b[0m\u001b[1;33m)\u001b[0m\u001b[1;33m:\u001b[0m\u001b[1;33m\u001b[0m\u001b[0m\n\u001b[1;32m---> 37\u001b[1;33m         \u001b[1;32mreturn\u001b[0m \u001b[0mself\u001b[0m\u001b[1;33m.\u001b[0m\u001b[0mlst\u001b[0m\u001b[1;33m[\u001b[0m\u001b[0mdevnum\u001b[0m\u001b[1;33m]\u001b[0m\u001b[1;33m\u001b[0m\u001b[0m\n\u001b[0m\u001b[0;32m     38\u001b[0m \u001b[1;33m\u001b[0m\u001b[0m\n\u001b[0;32m     39\u001b[0m     \u001b[1;32mdef\u001b[0m \u001b[0m__str__\u001b[0m\u001b[1;33m(\u001b[0m\u001b[0mself\u001b[0m\u001b[1;33m)\u001b[0m\u001b[1;33m:\u001b[0m\u001b[1;33m\u001b[0m\u001b[0m\n",
      "\u001b[1;32m/home/chiroptera/anaconda/lib/python2.7/site-packages/numba/cuda/cudadrv/devices.pyc\u001b[0m in \u001b[0;36m__getattr__\u001b[1;34m(self, attr)\u001b[0m\n\u001b[0;32m     24\u001b[0m             \u001b[1;31m# Device list is not initialized.\u001b[0m\u001b[1;33m\u001b[0m\u001b[1;33m\u001b[0m\u001b[0m\n\u001b[0;32m     25\u001b[0m             \u001b[1;31m# Query all CUDA devices.\u001b[0m\u001b[1;33m\u001b[0m\u001b[1;33m\u001b[0m\u001b[0m\n\u001b[1;32m---> 26\u001b[1;33m             \u001b[0mnumdev\u001b[0m \u001b[1;33m=\u001b[0m \u001b[0mdriver\u001b[0m\u001b[1;33m.\u001b[0m\u001b[0mget_device_count\u001b[0m\u001b[1;33m(\u001b[0m\u001b[1;33m)\u001b[0m\u001b[1;33m\u001b[0m\u001b[0m\n\u001b[0m\u001b[0;32m     27\u001b[0m             gpus = [_DeviceContextManager(driver.get_device(devid))\n\u001b[0;32m     28\u001b[0m                     for devid in range(numdev)]\n",
      "\u001b[1;32m/home/chiroptera/anaconda/lib/python2.7/site-packages/numba/cuda/cudadrv/driver.pyc\u001b[0m in \u001b[0;36mget_device_count\u001b[1;34m(self)\u001b[0m\n\u001b[0;32m    254\u001b[0m     \u001b[1;32mdef\u001b[0m \u001b[0mget_device_count\u001b[0m\u001b[1;33m(\u001b[0m\u001b[0mself\u001b[0m\u001b[1;33m)\u001b[0m\u001b[1;33m:\u001b[0m\u001b[1;33m\u001b[0m\u001b[0m\n\u001b[0;32m    255\u001b[0m         \u001b[0mcount\u001b[0m \u001b[1;33m=\u001b[0m \u001b[0mc_int\u001b[0m\u001b[1;33m(\u001b[0m\u001b[1;33m)\u001b[0m\u001b[1;33m\u001b[0m\u001b[0m\n\u001b[1;32m--> 256\u001b[1;33m         \u001b[0mself\u001b[0m\u001b[1;33m.\u001b[0m\u001b[0mcuDeviceGetCount\u001b[0m\u001b[1;33m(\u001b[0m\u001b[0mbyref\u001b[0m\u001b[1;33m(\u001b[0m\u001b[0mcount\u001b[0m\u001b[1;33m)\u001b[0m\u001b[1;33m)\u001b[0m\u001b[1;33m\u001b[0m\u001b[0m\n\u001b[0m\u001b[0;32m    257\u001b[0m         \u001b[1;32mreturn\u001b[0m \u001b[0mcount\u001b[0m\u001b[1;33m.\u001b[0m\u001b[0mvalue\u001b[0m\u001b[1;33m\u001b[0m\u001b[0m\n\u001b[0;32m    258\u001b[0m \u001b[1;33m\u001b[0m\u001b[0m\n",
      "\u001b[1;32m/home/chiroptera/anaconda/lib/python2.7/site-packages/numba/cuda/cudadrv/driver.pyc\u001b[0m in \u001b[0;36m__getattr__\u001b[1;34m(self, fname)\u001b[0m\n\u001b[0;32m    199\u001b[0m         \u001b[1;31m# Initialize driver\u001b[0m\u001b[1;33m\u001b[0m\u001b[1;33m\u001b[0m\u001b[0m\n\u001b[0;32m    200\u001b[0m         \u001b[1;32mif\u001b[0m \u001b[1;32mnot\u001b[0m \u001b[0mself\u001b[0m\u001b[1;33m.\u001b[0m\u001b[0mis_initialized\u001b[0m\u001b[1;33m:\u001b[0m\u001b[1;33m\u001b[0m\u001b[0m\n\u001b[1;32m--> 201\u001b[1;33m             \u001b[0mself\u001b[0m\u001b[1;33m.\u001b[0m\u001b[0minitialize\u001b[0m\u001b[1;33m(\u001b[0m\u001b[1;33m)\u001b[0m\u001b[1;33m\u001b[0m\u001b[0m\n\u001b[0m\u001b[0;32m    202\u001b[0m \u001b[1;33m\u001b[0m\u001b[0m\n\u001b[0;32m    203\u001b[0m         \u001b[1;32mif\u001b[0m \u001b[0mself\u001b[0m\u001b[1;33m.\u001b[0m\u001b[0minitialization_error\u001b[0m \u001b[1;32mis\u001b[0m \u001b[1;32mnot\u001b[0m \u001b[0mNone\u001b[0m\u001b[1;33m:\u001b[0m\u001b[1;33m\u001b[0m\u001b[0m\n",
      "\u001b[1;32m/home/chiroptera/anaconda/lib/python2.7/site-packages/numba/cuda/cudadrv/driver.pyc\u001b[0m in \u001b[0;36minitialize\u001b[1;34m(self)\u001b[0m\n\u001b[0;32m    180\u001b[0m         \u001b[1;32mexcept\u001b[0m \u001b[0mCudaAPIError\u001b[0m \u001b[1;32mas\u001b[0m \u001b[0me\u001b[0m\u001b[1;33m:\u001b[0m\u001b[1;33m\u001b[0m\u001b[0m\n\u001b[0;32m    181\u001b[0m             \u001b[0mself\u001b[0m\u001b[1;33m.\u001b[0m\u001b[0minitialization_error\u001b[0m \u001b[1;33m=\u001b[0m \u001b[0me\u001b[0m\u001b[1;33m\u001b[0m\u001b[0m\n\u001b[1;32m--> 182\u001b[1;33m             \u001b[1;32mraise\u001b[0m \u001b[0mCudaSupportError\u001b[0m\u001b[1;33m(\u001b[0m\u001b[1;34m\"Error at driver init: \\n%s:\"\u001b[0m \u001b[1;33m%\u001b[0m \u001b[0me\u001b[0m\u001b[1;33m)\u001b[0m\u001b[1;33m\u001b[0m\u001b[0m\n\u001b[0m\u001b[0;32m    183\u001b[0m \u001b[1;33m\u001b[0m\u001b[0m\n\u001b[0;32m    184\u001b[0m     \u001b[1;33m@\u001b[0m\u001b[0mproperty\u001b[0m\u001b[1;33m\u001b[0m\u001b[0m\n",
      "\u001b[1;31mCudaSupportError\u001b[0m: Error at driver init: \nCall to cuInit results in CUDA_ERROR_UNKNOWN:"
     ]
    }
   ],
   "source": [
    "\"\"\"\n",
    "Created on Fri Mar 27 08:53:20 2015\n",
    "\n",
    "@author: Diogo Silva\n",
    "\"\"\"\n",
    "\n",
    "import numpy as np\n",
    "import numbapro\n",
    "from numbapro import *\n",
    "\n",
    "class K_Means:       \n",
    "       \n",
    "    \n",
    "    def __init__(self,N=None,D=None,K=None):\n",
    "        self.N = N\n",
    "        self.D = D\n",
    "        self.K = K\n",
    "        \n",
    "        self._cudaDataRef = None\n",
    "        \n",
    "        self.__cuda = True\n",
    "        self.__cuda_mem = \"auto\"\n",
    "\n",
    "    @property    \n",
    "    def cuda_mem(self):\n",
    "        return self.__cuda_mem\n",
    "\n",
    "    @cuda_mem.setter\n",
    "    def cuda_mem(self,cuda_mem):\n",
    "        if cuda_mem not in ['manual','auto']:\n",
    "            raise Exception(\"cuda_mem = \\'manual\\' or \\'auto\\'\")\n",
    "    \n",
    "    def fit(self,data,K,iters=3,cuda=True):\n",
    " \n",
    "        if iters == 0:\n",
    "            return\n",
    "       \n",
    "        N,D = data.shape\n",
    "            \n",
    "        self.N = N\n",
    "        self.D = D\n",
    "        self.K = K\n",
    "        \n",
    "        centroids = self._init_centroids(data)\n",
    "        \n",
    "        for i in xrange(iters):\n",
    "            dist_mat = self._calc_dists(data,centroids,cuda=cuda)\n",
    "            assign,grouped_data = self._assign_data(data,dist_mat)\n",
    "            centroids =  self._np_recompute_centroids(grouped_data)\n",
    "            self.centroids = centroids\n",
    "\n",
    "    def _init_centroids(self,data):\n",
    "        \n",
    "        centroids = np.empty((self.K,self.D),dtype=data.dtype)\n",
    "        random_init = np.random.randint(0,self.N,self.K)\n",
    "        self.init_seed = random_init\n",
    "        \n",
    "        for k in xrange(self.K):\n",
    "            centroids[k] = data[random_init[k]]\n",
    "        \n",
    "        self.centroids = centroids\n",
    "        \n",
    "        return centroids\n",
    "\n",
    "    def _calc_dists(self,data,centroids,cuda=False):\n",
    "        if cuda:\n",
    "            dist_mat = self._cu_calc_dists(data,centroids,gridDim=None,\n",
    "                                           blockDim=None,memManage='manual')\n",
    "        else:\n",
    "            dist_mat = self._np_calc_dists(data,centroids)\n",
    "            \n",
    "        return dist_mat\n",
    "            \n",
    "    def _py_calc_dists(data,centroids):\n",
    "        N,D = data.shape\n",
    "        K,cD = centroids.shape\n",
    "\n",
    "        for n in range(N):\n",
    "            for k in range(K):\n",
    "                dist=0\n",
    "                for d in range(dim):\n",
    "                    diff = a[n,d]-b[k,d]\n",
    "                    dist += diff ** 2\n",
    "                c[n,k]=dist\n",
    "            \n",
    "    def _np_calc_dists(self,data,centroids):\n",
    "        \"\"\"\n",
    "        NumPy implementation - much faster than vanilla Python\n",
    "        \"\"\"\n",
    "        N,D = data.shape\n",
    "        K,cD = centroids.shape\n",
    "\n",
    "        dist_mat = np.empty((N,K),dtype=data.dtype)    \n",
    "        \n",
    "        for k in xrange(K):\n",
    "            dist = data - centroids[k]\n",
    "            dist = dist ** 2\n",
    "            dist_mat[:,k] = dist.sum(axis=1)\n",
    "            \n",
    "        return dist_mat\n",
    "    \n",
    "    def _cu_calc_dists(self,data,centroids,gridDim=None,blockDim=None,\n",
    "                       memManage='auto',keepDataRef=True):\n",
    "        \"\"\"\n",
    "        TODO:\n",
    "            - deal with gigantic data / distance matrix\n",
    "            - deal with heavely assymetric distance matrix\n",
    "                - if the number of blocks on any given dimension of \n",
    "                the grid > 2**16, divide that dimension by another dimension\n",
    "                - don't forget to change the index computation in the kernel\n",
    "        \"\"\"\n",
    "        \n",
    "        \n",
    "        N,D = data.shape\n",
    "        K,cD = centroids.shape\n",
    "        \n",
    "        self.cuda_mem = memManage\n",
    "        \n",
    "        if self.__cuda_mem  not in ('manual','auto'):\n",
    "            raise Exception(\"Invalid value for \\'memManage\\'.\")\n",
    "\n",
    "            \n",
    "        if gridDim is None or blockDim is None:\n",
    "            #dists shape\n",
    "            \n",
    "\n",
    "            MAX_THREADS_BLOCK = 16 * 20 # GT520M has 48 CUDA cores\n",
    "            MAX_GRID_XYZ_DIM = 65535\n",
    "\n",
    "            if K <= 28:\n",
    "                blockWidth = K\n",
    "                blockHeight = np.floor(MAX_THREADS_BLOCK / blockWidth)\n",
    "                blockHeight = np.int(blockHeight)\n",
    "            else:\n",
    "                blockWidth = 20\n",
    "                blockHeight = 16\n",
    "\n",
    "            # grid width/height is the number of blocks necessary to fill\n",
    "            # the columns/rows of the matrix\n",
    "            gridWidth = np.ceil(np.float(K) / blockWidth)\n",
    "            gridHeight = np.ceil(np.float(N) / blockHeight)\n",
    "\n",
    "    \n",
    "            blockDim = blockWidth, blockHeight\n",
    "            gridDim = np.int(gridWidth), np.int(gridHeight)\n",
    "        \n",
    "        self.blockDim = blockDim\n",
    "        self.gridDim = gridDim        \n",
    "        \n",
    "        distShape =  N,K\n",
    "        dist_mat = np.empty(distShape,dtype=data.dtype)\n",
    "        \n",
    "        if self.__cuda_mem == 'manual':\n",
    "            \n",
    "            if keepDataRef:\n",
    "                if self._cudaDataRef is None:\n",
    "                    dData = cuda.to_device(data)\n",
    "                    self._cudaDataRef = dData\n",
    "                else:\n",
    "                    dData = self._cudaDataRef\n",
    "            else:\n",
    "                dData = cuda.to_device(data)\n",
    "                \n",
    "            dCentroids = cuda.to_device(centroids)\n",
    "            dDists = numbapro.cuda.device_array_like(dist_mat)\n",
    "            \n",
    "            self._cu_dist_kernel[gridDim,blockDim](dData,dCentroids,dDists)        \n",
    "        \n",
    "            dDists.copy_to_host(ary=dist_mat)\n",
    "            numbapro.cuda.synchronize()\n",
    "\n",
    "        elif self.__cuda_mem == 'auto':\n",
    "            self._cu_dist_kernel[gridDim,blockDim](data,centroids,dist_mat) \n",
    "        \n",
    "        return dist_mat\n",
    "        \n",
    "    \n",
    "    @numbapro.cuda.jit(\"void(float32[:,:], float32[:,:], float32[:,:])\")\n",
    "    def _cu_dist_kernel(a,b,c):\n",
    "        k,n = numbapro.cuda.grid(2)\n",
    "\n",
    "        ch, cw = c.shape # c width and height\n",
    "\n",
    "        if n >= ch or k >= cw:\n",
    "            return\n",
    "\n",
    "        dist = 0.0\n",
    "        for d in range(a.shape[1]):\n",
    "            diff = a[n,d]-b[k,d]\n",
    "            dist += diff ** 2\n",
    "        c[n,k]= dist\n",
    "    \n",
    "        \n",
    "    def _assign_data(self,data,dist_mat):\n",
    "        \n",
    "        N,K = dist_mat.shape\n",
    "        \n",
    "        assign = np.argmin(dist_mat,axis=1)\n",
    "        \n",
    "        grouped_data=[[] for i in xrange(K)]\n",
    "        \n",
    "        \n",
    "        for n in xrange(N):\n",
    "            # add datum i to its assigned cluster assign[i]\n",
    "            grouped_data[assign[n]].append(data[n])\n",
    "        \n",
    "        for k in xrange(K):\n",
    "            grouped_data[k] = np.array(grouped_data[k])\n",
    "        \n",
    "        return assign,grouped_data\n",
    "    \n",
    "    def _np_recompute_centroids(self,grouped_data):\n",
    "        \n",
    "        # change to get dimension from class or search a non-empty cluster\n",
    "        #dim = grouped_data[0][0].shape[1]\n",
    "        dim = self.D\n",
    "        K = len(grouped_data)\n",
    "        \n",
    "        centroids = np.empty((K,dim))\n",
    "        for k in xrange(K):\n",
    "            centroids[k] = np.mean(grouped_data[k],axis=0)\n",
    "        \n",
    "        return centroids\n",
    "\n",
    "\n",
    "    def _cu_mean(self):\n",
    "\n",
    "        pass"
   ]
  },
  {
   "cell_type": "code",
   "execution_count": 125,
   "metadata": {
    "collapsed": false
   },
   "outputs": [
    {
     "name": "stdout",
     "output_type": "stream",
     "text": [
      "Memory used by arrays:\t85937.65625 \tKBytes\n",
      "\t\t\t83.9234924316 \tMBytes\n",
      "Memory used by data:  \t7812.5 \tKBytes\n"
     ]
    }
   ],
   "source": [
    "##generate data\n",
    "n = 1e6\n",
    "d = 2\n",
    "k = 20\n",
    "\n",
    "## Generate data\n",
    "from sklearn import datasets\n",
    "#data = np.random.random((n,d)).astype(np.float32)\n",
    "data, groundTruth = datasets.make_blobs(n_samples=np.int(n),n_features=d,centers=k,\n",
    "                                        center_box=(-1000.0,1000.0))\n",
    "\n",
    "total_bytes = (n * d + k * d + n * k) * 4\n",
    "print 'Memory used by arrays:\\t',total_bytes/1024,'\\tKBytes'\n",
    "print '\\t\\t\\t',total_bytes/(1024*1024),'\\tMBytes'\n",
    "\n",
    "print 'Memory used by data:  \\t',n * d * 4 / 1024,'\\t','KBytes'\n",
    "\n",
    "data = np.random.random((n,d)).astype(np.float32)"
   ]
  },
  {
   "cell_type": "code",
   "execution_count": 6,
   "metadata": {
    "collapsed": false
   },
   "outputs": [],
   "source": [
    "from timeit import default_timer as timer"
   ]
  },
  {
   "cell_type": "code",
   "execution_count": 7,
   "metadata": {
    "collapsed": false
   },
   "outputs": [],
   "source": [
    "times=dict()"
   ]
  },
  {
   "cell_type": "code",
   "execution_count": 127,
   "metadata": {
    "collapsed": false
   },
   "outputs": [
    {
     "name": "stdout",
     "output_type": "stream",
     "text": [
      "4.95243692398\n"
     ]
    }
   ],
   "source": [
    "start = timer()\n",
    "grouperCUDA = K_Means()\n",
    "grouperCUDA.fit(data,k,iters=3,cuda=True)\n",
    "times['cuda'] = timer() - start\n",
    "print times['cuda']"
   ]
  },
  {
   "cell_type": "code",
   "execution_count": 129,
   "metadata": {
    "collapsed": false
   },
   "outputs": [
    {
     "name": "stdout",
     "output_type": "stream",
     "text": [
      "8.96777701378\n"
     ]
    }
   ],
   "source": [
    "#%debug\n",
    "start = timer()\n",
    "grouperNP = K_Means()\n",
    "grouperNP.fit(data,k,cuda=False)\n",
    "times['numpy'] = timer() - start\n",
    "print times['numpy']"
   ]
  },
  {
   "cell_type": "code",
   "execution_count": 10,
   "metadata": {
    "collapsed": false
   },
   "outputs": [
    {
     "name": "stdout",
     "output_type": "stream",
     "text": [
      "Times\n",
      "CUDA  \t4.96065402031\n",
      "NumPy \t8.92235088348\n"
     ]
    }
   ],
   "source": [
    "print 'Times'\n",
    "print 'CUDA ','\\t',times['cuda']\n",
    "print 'NumPy','\\t',times['numpy']"
   ]
  },
  {
   "cell_type": "code",
   "execution_count": 11,
   "metadata": {
    "collapsed": false
   },
   "outputs": [],
   "source": [
    "import cProfile\n",
    "#from line_profiler import LineProfiler"
   ]
  },
  {
   "cell_type": "code",
   "execution_count": 12,
   "metadata": {
    "collapsed": false
   },
   "outputs": [
    {
     "name": "stdout",
     "output_type": "stream",
     "text": [
      "         3003022 function calls (3002977 primitive calls) in 5.397 seconds\n",
      "\n",
      "   Ordered by: standard name\n",
      "\n",
      "   ncalls  tottime  percall  cumtime  percall filename:lineno(function)\n",
      "        3    0.000    0.000    0.710    0.237 <ipython-input-4-994d974b26e9>:102(_cu_calc_dists)\n",
      "        3    2.802    0.934    4.541    1.514 <ipython-input-4-994d974b26e9>:194(_assign_data)\n",
      "        3    0.000    0.000    0.126    0.042 <ipython-input-4-994d974b26e9>:212(_np_recompute_centroids)\n",
      "        1    0.012    0.012    5.391    5.391 <ipython-input-4-994d974b26e9>:33(fit)\n",
      "        1    0.001    0.001    0.001    0.001 <ipython-input-4-994d974b26e9>:52(_init_centroids)\n",
      "        3    0.000    0.000    0.710    0.237 <ipython-input-4-994d974b26e9>:65(_calc_dists)\n",
      "        1    0.006    0.006    5.397    5.397 <string>:1(<module>)\n",
      "        9    0.000    0.000    0.000    0.000 <string>:8(__new__)\n",
      "       18    0.000    0.000    0.001    0.000 _methods.py:34(_prod)\n",
      "       60    0.000    0.000    0.000    0.000 _methods.py:43(_count_reduce_items)\n",
      "       60    0.001    0.000    0.126    0.002 _methods.py:53(_mean)\n",
      "       18    0.002    0.000    0.002    0.000 arrayobj.py:46(make_array_ctype)\n",
      "       18    0.000    0.000    0.000    0.000 arrayobj.py:61(c_array)\n",
      "        3    0.000    0.000    0.000    0.000 compiler.py:172(copy)\n",
      "        3    0.000    0.000    0.000    0.000 compiler.py:175(configure)\n",
      "        3    0.000    0.000    0.000    0.000 compiler.py:201(__getitem__)\n",
      "        3    0.000    0.000    0.000    0.000 compiler.py:250(get)\n",
      "        3    0.000    0.000    0.710    0.237 compiler.py:301(__call__)\n",
      "        3    0.000    0.000    0.709    0.236 compiler.py:326(_kernel_call)\n",
      "        9    0.000    0.000    0.085    0.009 compiler.py:377(_prepare_args)\n",
      "        9    0.000    0.000    0.623    0.069 compiler.py:381(<lambda>)\n",
      "        9    0.000    0.000    0.000    0.000 contextlib.py:12(__init__)\n",
      "        9    0.000    0.000    0.000    0.000 contextlib.py:15(__enter__)\n",
      "        9    0.000    0.000    0.000    0.000 contextlib.py:21(__exit__)\n",
      "        9    0.000    0.000    0.000    0.000 contextlib.py:82(helper)\n",
      "        6    0.000    0.000    0.000    0.000 copy.py:306(_reconstruct)\n",
      "        6    0.000    0.000    0.001    0.000 copy.py:66(copy)\n",
      "        6    0.000    0.000    0.000    0.000 copy_reg.py:92(__newobj__)\n",
      "        9    0.000    0.000    0.000    0.000 devicearray.py:123(__del__)\n",
      "       18    0.000    0.000    0.000    0.000 devicearray.py:129(_default_stream)\n",
      "       18    0.000    0.000    0.000    0.000 devicearray.py:141(device_ctypes_pointer)\n",
      "        9    0.000    0.000    0.073    0.008 devicearray.py:151(copy_to_device)\n",
      "        9    0.000    0.000    0.623    0.069 devicearray.py:168(copy_to_host)\n",
      "        9    0.000    0.000    0.000    0.000 devicearray.py:232(as_cuda_arg)\n",
      "        9    0.000    0.000    0.012    0.001 devicearray.py:332(from_array_like)\n",
      "        9    0.000    0.000    0.000    0.000 devicearray.py:347(sentry_contiguous)\n",
      "        9    0.000    0.000    0.085    0.009 devicearray.py:353(auto_device)\n",
      "        9    0.000    0.000    0.012    0.001 devicearray.py:56(__init__)\n",
      "       21    0.000    0.000    0.001    0.000 devices.py:108(current_context)\n",
      "       21    0.000    0.000    0.001    0.000 devices.py:183(get_or_create_context)\n",
      "       21    0.000    0.000    0.001    0.000 devices.py:224(get_context)\n",
      "        3    0.000    0.000    0.000    0.000 driver.py:1018(configure)\n",
      "        3    0.000    0.000    0.000    0.000 driver.py:1035(__call__)\n",
      "        3    0.000    0.000    0.000    0.000 driver.py:1070(launch_kernel)\n",
      "       27    0.000    0.000    0.000    0.000 driver.py:1247(host_pointer)\n",
      "        9    0.000    0.000    0.000    0.000 driver.py:1258(host_memory_extents)\n",
      "        9    0.000    0.000    0.000    0.000 driver.py:1263(memory_size_from_info)\n",
      "        9    0.000    0.000    0.000    0.000 driver.py:1273(host_memory_size)\n",
      "       36    0.000    0.000    0.001    0.000 driver.py:1280(device_pointer)\n",
      "       45    0.000    0.000    0.001    0.000 driver.py:1285(device_ctypes_pointer)\n",
      "       72    0.000    0.000    0.000    0.000 driver.py:1293(is_device_memory)\n",
      "       45    0.000    0.000    0.000    0.000 driver.py:1304(require_device_memory)\n",
      "        9    0.000    0.000    0.000    0.000 driver.py:1311(device_memory_depends)\n",
      "       18    0.000    0.000    0.074    0.004 driver.py:1321(host_to_device)\n",
      "        9    0.000    0.000    0.623    0.069 driver.py:1339(device_to_host)\n",
      "       87    0.700    0.008    0.700    0.008 driver.py:212(safe_cuda_api_call)\n",
      "       87    0.000    0.000    0.000    0.000 driver.py:241(_check_error)\n",
      "       21    0.000    0.000    0.000    0.000 driver.py:270(get_context)\n",
      "        9    0.000    0.000    0.000    0.000 driver.py:291(add_trash)\n",
      "        9    0.000    0.000    0.002    0.000 driver.py:294(process)\n",
      "        9    0.000    0.000    0.004    0.000 driver.py:498(memalloc)\n",
      "        9    0.000    0.000    0.000    0.000 driver.py:664(_make_mem_finalizer)\n",
      "        9    0.000    0.000    0.000    0.000 driver.py:665(mem_finalize)\n",
      "        9    0.000    0.000    0.000    0.000 driver.py:669(core)\n",
      "        9    0.000    0.000    0.002    0.000 driver.py:670(cleanup)\n",
      "        9    0.000    0.000    0.000    0.000 driver.py:728(__init__)\n",
      "        9    0.000    0.000    0.000    0.000 driver.py:739(__del__)\n",
      "        9    0.000    0.000    0.000    0.000 driver.py:746(own)\n",
      "        9    0.000    0.000    0.000    0.000 driver.py:749(free)\n",
      "       45    0.000    0.000    0.000    0.000 driver.py:778(device_ctypes_pointer)\n",
      "        9    0.000    0.000    0.000    0.000 driver.py:838(__init__)\n",
      "        9    0.000    0.000    0.000    0.000 driver.py:847(__del__)\n",
      "       90    0.000    0.000    0.000    0.000 driver.py:858(__getattr__)\n",
      "        9    0.000    0.000    0.000    0.000 driver.py:911(query)\n",
      "        9    0.000    0.000    0.000    0.000 driver.py:925(record)\n",
      "       18    0.000    0.000    0.000    0.000 dummyarray.py:104(is_contiguous)\n",
      "       18    0.000    0.000    0.000    0.000 dummyarray.py:108(compute_index)\n",
      "       54    0.000    0.000    0.000    0.000 dummyarray.py:109(<genexpr>)\n",
      "        9    0.000    0.000    0.001    0.000 dummyarray.py:148(from_desc)\n",
      "        9    0.000    0.000    0.001    0.000 dummyarray.py:157(__init__)\n",
      "       27    0.000    0.000    0.000    0.000 dummyarray.py:160(<genexpr>)\n",
      "       27    0.000    0.000    0.000    0.000 dummyarray.py:161(<genexpr>)\n",
      "        9    0.000    0.000    0.000    0.000 dummyarray.py:167(_compute_layout)\n",
      "        9    0.000    0.000    0.000    0.000 dummyarray.py:172(is_contig)\n",
      "        9    0.000    0.000    0.000    0.000 dummyarray.py:184(_compute_extent)\n",
      "       18    0.000    0.000    0.000    0.000 dummyarray.py:27(__init__)\n",
      "       36    0.000    0.000    0.000    0.000 dummyarray.py:80(get_offset)\n",
      "       18    0.000    0.000    0.001    0.000 fromnumeric.py:2259(prod)\n",
      "       60    0.000    0.000    0.126    0.002 fromnumeric.py:2651(mean)\n",
      "        3    0.000    0.000    0.149    0.050 fromnumeric.py:946(argmin)\n",
      "        9    0.000    0.000    0.005    0.001 ndarray.py:130(ndarray_populate_head)\n",
      "        9    0.000    0.000    0.000    0.000 ndarray.py:42(__new__)\n",
      "       18    0.000    0.000    0.000    0.000 ndarray.py:69(get_stage)\n",
      "        9    0.000    0.000    0.001    0.000 ndarray.py:80(allocate)\n",
      "        9    0.000    0.000    0.000    0.000 ndarray.py:91(free)\n",
      "        9    0.000    0.000    0.002    0.000 ndarray.py:96(write)\n",
      "       60    0.000    0.000    0.000    0.000 numeric.py:464(asanyarray)\n",
      "        9    0.000    0.000    0.002    0.000 service.py:18(service)\n",
      "       42    0.000    0.000    0.000    0.000 threadlocal.py:13(stack)\n",
      "       21    0.000    0.000    0.000    0.000 threadlocal.py:29(top)\n",
      "       21    0.000    0.000    0.000    0.000 threadlocal.py:33(is_empty)\n",
      "       21    0.000    0.000    0.000    0.000 threadlocal.py:37(__bool__)\n",
      "       21    0.000    0.000    0.000    0.000 threadlocal.py:40(__nonzero__)\n",
      "        9    0.000    0.000    0.000    0.000 utils.py:142(__setitem__)\n",
      "        9    0.000    0.000    0.000    0.000 {_ctypes.addressof}\n",
      "       30    0.000    0.000    0.000    0.000 {_ctypes.byref}\n",
      "       18    0.000    0.000    0.000    0.000 {_ctypes.sizeof}\n",
      "       38    0.000    0.000    0.000    0.000 {_warnings.warn}\n",
      "       18    0.000    0.000    0.000    0.000 {_weakref.proxy}\n",
      "       15    0.000    0.000    0.000    0.000 {built-in method __new__ of type object at 0x7f4c0a07ad00}\n",
      "  183/138    0.000    0.000    0.000    0.000 {getattr}\n",
      "       44    0.000    0.000    0.000    0.000 {hasattr}\n",
      "        6    0.000    0.000    0.000    0.000 {id}\n",
      "      198    0.000    0.000    0.000    0.000 {isinstance}\n",
      "       60    0.000    0.000    0.000    0.000 {issubclass}\n",
      "      102    0.000    0.000    0.000    0.000 {len}\n",
      "        6    0.000    0.000    0.000    0.000 {method '__reduce_ex__' of 'object' objects}\n",
      "        9    0.000    0.000    0.000    0.000 {method 'add' of 'set' objects}\n",
      "       18    0.000    0.000    0.000    0.000 {method 'append' of 'collections.deque' objects}\n",
      "  3000051    0.270    0.000    0.270    0.000 {method 'append' of 'list' objects}\n",
      "        3    0.149    0.050    0.149    0.050 {method 'argmin' of 'numpy.ndarray' objects}\n",
      "        1    0.000    0.000    0.000    0.000 {method 'disable' of '_lsprof.Profiler' objects}\n",
      "        9    0.000    0.000    0.000    0.000 {method 'discard' of 'set' objects}\n",
      "        9    0.000    0.000    0.000    0.000 {method 'extend' of 'list' objects}\n",
      "       24    0.000    0.000    0.000    0.000 {method 'get' of 'dict' objects}\n",
      "        9    0.000    0.000    0.000    0.000 {method 'pop' of 'list' objects}\n",
      "       18    0.000    0.000    0.000    0.000 {method 'popleft' of 'collections.deque' objects}\n",
      "        1    0.000    0.000    0.000    0.000 {method 'randint' of 'mtrand.RandomState' objects}\n",
      "       78    0.124    0.002    0.124    0.002 {method 'reduce' of 'numpy.ufunc' objects}\n",
      "        6    0.000    0.000    0.000    0.000 {method 'update' of 'dict' objects}\n",
      "        9    0.000    0.000    0.000    0.000 {min}\n",
      "       18    0.000    0.000    0.002    0.000 {next}\n",
      "       27    0.000    0.000    0.000    0.000 {numba.mviewbuf.memoryview_get_buffer}\n",
      "        9    0.000    0.000    0.000    0.000 {numba.mviewbuf.memoryview_get_extents_info}\n",
      "        9    0.000    0.000    0.000    0.000 {numba.mviewbuf.memoryview_get_extents}\n",
      "      120    1.321    0.011    1.321    0.011 {numpy.core.multiarray.array}\n",
      "        7    0.000    0.000    0.000    0.000 {numpy.core.multiarray.empty}\n",
      "       18    0.000    0.000    0.000    0.000 {sum}\n",
      "       30    0.000    0.000    0.000    0.000 {zip}\n",
      "\n",
      "\n"
     ]
    }
   ],
   "source": [
    "#profile = LineProfiler(grouperCUDA.fit(data,k,iters=3,cuda=True))\n",
    "#profile.print_stats()\n",
    "cProfile.run(\"grouperCUDA.fit(data,k,iters=3,cuda=True)\")"
   ]
  },
  {
   "cell_type": "code",
   "execution_count": null,
   "metadata": {
    "collapsed": false
   },
   "outputs": [],
   "source": [
    "#profile = LineProfiler(grouperCUDA.fit(data,k,iters=3,cuda=True))\n",
    "#profile.print_stats()\n",
    "#cProfile.run(\"grouperCUDA.fit(data,k,iters=3,cuda=False)\")"
   ]
  },
  {
   "cell_type": "code",
   "execution_count": 23,
   "metadata": {
    "collapsed": false
   },
   "outputs": [
    {
     "name": "stdout",
     "output_type": "stream",
     "text": [
      "Speedup: \t\t4.28526645768\n",
      "Centroids portion \t0.812903225806\n"
     ]
    }
   ],
   "source": [
    "print 'Speedup:','\\t\\t', 1.367/0.319\n",
    "print 'Centroids portion','\\t',25.2/31"
   ]
  },
  {
   "cell_type": "markdown",
   "metadata": {},
   "source": [
    "# Centroid computation"
   ]
  },
  {
   "cell_type": "markdown",
   "metadata": {},
   "source": [
    "The "
   ]
  }
 ],
 "metadata": {
  "kernelspec": {
   "display_name": "Python 2",
   "language": "python",
   "name": "python2"
  },
  "language_info": {
   "codemirror_mode": {
    "name": "ipython",
    "version": 2
   },
   "file_extension": ".py",
   "mimetype": "text/x-python",
   "name": "python",
   "nbconvert_exporter": "python",
   "pygments_lexer": "ipython2",
   "version": "2.7.9"
  }
 },
 "nbformat": 4,
 "nbformat_minor": 0
}
