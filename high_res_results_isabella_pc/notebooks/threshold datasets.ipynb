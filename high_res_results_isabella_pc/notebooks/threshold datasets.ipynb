{
 "cells": [
  {
   "cell_type": "code",
   "execution_count": 1,
   "metadata": {
    "collapsed": false
   },
   "outputs": [
    {
     "name": "stderr",
     "output_type": "stream",
     "text": [
      "/home/chiroptera/anaconda/lib/python2.7/site-packages/numba/cuda/decorators.py:106: UserWarning: autojit is deprecated and will be removed in a future release. Use jit instead.\n",
      "  warn('autojit is deprecated and will be removed in a future release. Use jit instead.')\n"
     ]
    }
   ],
   "source": [
    "import numpy as np\n",
    "import seaborn as sb\n",
    "import pandas as pd\n",
    "import MyML.cluster.K_Means3 as myKM\n",
    "import MyML.cluster.eac as eac\n",
    "import MyML.helper.partition as mpart\n",
    "import MyML.metrics.accuracy as accuracy\n",
    "import MyML.cluster.linkage as linkage"
   ]
  },
  {
   "cell_type": "markdown",
   "metadata": {},
   "source": [
    "# Prepare dataset"
   ]
  },
  {
   "cell_type": "code",
   "execution_count": 2,
   "metadata": {
    "collapsed": false
   },
   "outputs": [
    {
     "name": "stdout",
     "output_type": "stream",
     "text": [
      "data_leadI_todos.mat  ecg_it.data  ecg_it.names\r\n"
     ]
    }
   ],
   "source": [
    "ls ../datasets/ecg_it/"
   ]
  },
  {
   "cell_type": "code",
   "execution_count": 31,
   "metadata": {
    "collapsed": true
   },
   "outputs": [],
   "source": [
    "foldername = \"/home/chiroptera/QCThesis/datasets/\" + \"ecg_it/\"\n",
    "dataname = foldername + \"ecg_it.data\""
   ]
  },
  {
   "cell_type": "code",
   "execution_count": 515,
   "metadata": {
    "collapsed": false
   },
   "outputs": [],
   "source": [
    "np.savetxt(foldername + \"data.csv\", data, delimiter=',')\n",
    "np.savetxt(foldername + \"ground_truth.csv\", gt, delimiter=',')"
   ]
  },
  {
   "cell_type": "code",
   "execution_count": 32,
   "metadata": {
    "collapsed": false
   },
   "outputs": [
    {
     "name": "stdout",
     "output_type": "stream",
     "text": [
      "(5252, 11)\n"
     ]
    },
    {
     "data": {
      "text/html": [
       "<div style=\"max-height:1000px;max-width:1500px;overflow:auto;\">\n",
       "<table border=\"1\" class=\"dataframe\">\n",
       "  <thead>\n",
       "    <tr style=\"text-align: right;\">\n",
       "      <th></th>\n",
       "      <th>0</th>\n",
       "      <th>1</th>\n",
       "      <th>2</th>\n",
       "      <th>3</th>\n",
       "      <th>4</th>\n",
       "      <th>5</th>\n",
       "      <th>6</th>\n",
       "      <th>7</th>\n",
       "      <th>8</th>\n",
       "      <th>9</th>\n",
       "      <th>10</th>\n",
       "    </tr>\n",
       "  </thead>\n",
       "  <tbody>\n",
       "    <tr>\n",
       "      <th>0</th>\n",
       "      <td>NaN</td>\n",
       "      <td>0.000000</td>\n",
       "      <td>1.000000</td>\n",
       "      <td>2.000000</td>\n",
       "      <td>3.000000</td>\n",
       "      <td>4.000000</td>\n",
       "      <td>5.000000</td>\n",
       "      <td>6.000000</td>\n",
       "      <td>7.000000</td>\n",
       "      <td>8.000000</td>\n",
       "      <td>9</td>\n",
       "    </tr>\n",
       "    <tr>\n",
       "      <th>1</th>\n",
       "      <td>0</td>\n",
       "      <td>36.323065</td>\n",
       "      <td>127.324016</td>\n",
       "      <td>366.239635</td>\n",
       "      <td>940.892115</td>\n",
       "      <td>1442.984831</td>\n",
       "      <td>875.125756</td>\n",
       "      <td>29.243837</td>\n",
       "      <td>280.000000</td>\n",
       "      <td>50.919775</td>\n",
       "      <td>1</td>\n",
       "    </tr>\n",
       "    <tr>\n",
       "      <th>2</th>\n",
       "      <td>1</td>\n",
       "      <td>31.364310</td>\n",
       "      <td>103.658958</td>\n",
       "      <td>248.793275</td>\n",
       "      <td>520.264406</td>\n",
       "      <td>674.872210</td>\n",
       "      <td>528.115100</td>\n",
       "      <td>20.809815</td>\n",
       "      <td>496.888889</td>\n",
       "      <td>53.699668</td>\n",
       "      <td>1</td>\n",
       "    </tr>\n",
       "    <tr>\n",
       "      <th>3</th>\n",
       "      <td>2</td>\n",
       "      <td>13.115809</td>\n",
       "      <td>42.837888</td>\n",
       "      <td>98.186910</td>\n",
       "      <td>200.074959</td>\n",
       "      <td>298.550081</td>\n",
       "      <td>276.768066</td>\n",
       "      <td>10.456345</td>\n",
       "      <td>531.333333</td>\n",
       "      <td>9.533566</td>\n",
       "      <td>0</td>\n",
       "    </tr>\n",
       "    <tr>\n",
       "      <th>4</th>\n",
       "      <td>3</td>\n",
       "      <td>61.169188</td>\n",
       "      <td>232.372398</td>\n",
       "      <td>773.890215</td>\n",
       "      <td>1802.451147</td>\n",
       "      <td>2282.307487</td>\n",
       "      <td>1784.527244</td>\n",
       "      <td>73.703583</td>\n",
       "      <td>599.857143</td>\n",
       "      <td>14.055284</td>\n",
       "      <td>1</td>\n",
       "    </tr>\n",
       "  </tbody>\n",
       "</table>\n",
       "</div>"
      ],
      "text/plain": [
       "   0          1           2           3            4            5   \\\n",
       "0 NaN   0.000000    1.000000    2.000000     3.000000     4.000000   \n",
       "1   0  36.323065  127.324016  366.239635   940.892115  1442.984831   \n",
       "2   1  31.364310  103.658958  248.793275   520.264406   674.872210   \n",
       "3   2  13.115809   42.837888   98.186910   200.074959   298.550081   \n",
       "4   3  61.169188  232.372398  773.890215  1802.451147  2282.307487   \n",
       "\n",
       "            6          7           8          9   10  \n",
       "0     5.000000   6.000000    7.000000   8.000000   9  \n",
       "1   875.125756  29.243837  280.000000  50.919775   1  \n",
       "2   528.115100  20.809815  496.888889  53.699668   1  \n",
       "3   276.768066  10.456345  531.333333   9.533566   0  \n",
       "4  1784.527244  73.703583  599.857143  14.055284   1  "
      ]
     },
     "execution_count": 32,
     "metadata": {},
     "output_type": "execute_result"
    }
   ],
   "source": [
    "dataset = pd.read_csv(dataname, header=None, sep=\",\")\n",
    "print dataset.shape\n",
    "dataset.head()"
   ]
  },
  {
   "cell_type": "code",
   "execution_count": 24,
   "metadata": {
    "collapsed": false
   },
   "outputs": [
    {
     "data": {
      "text/html": [
       "<div style=\"max-height:1000px;max-width:1500px;overflow:auto;\">\n",
       "<table border=\"1\" class=\"dataframe\">\n",
       "  <thead>\n",
       "    <tr style=\"text-align: right;\">\n",
       "      <th></th>\n",
       "      <th>0</th>\n",
       "      <th>1</th>\n",
       "      <th>2</th>\n",
       "      <th>3</th>\n",
       "      <th>4</th>\n",
       "      <th>5</th>\n",
       "      <th>6</th>\n",
       "      <th>7</th>\n",
       "      <th>8</th>\n",
       "      <th>9</th>\n",
       "    </tr>\n",
       "  </thead>\n",
       "  <tbody>\n",
       "    <tr>\n",
       "      <th>0</th>\n",
       "      <td>36.323065</td>\n",
       "      <td>127.324016</td>\n",
       "      <td>366.239635</td>\n",
       "      <td>940.892115</td>\n",
       "      <td>1442.984831</td>\n",
       "      <td>875.125756</td>\n",
       "      <td>29.243837</td>\n",
       "      <td>280.000000</td>\n",
       "      <td>50.919775</td>\n",
       "      <td>1</td>\n",
       "    </tr>\n",
       "    <tr>\n",
       "      <th>1</th>\n",
       "      <td>31.364310</td>\n",
       "      <td>103.658958</td>\n",
       "      <td>248.793275</td>\n",
       "      <td>520.264406</td>\n",
       "      <td>674.872210</td>\n",
       "      <td>528.115100</td>\n",
       "      <td>20.809815</td>\n",
       "      <td>496.888889</td>\n",
       "      <td>53.699668</td>\n",
       "      <td>1</td>\n",
       "    </tr>\n",
       "    <tr>\n",
       "      <th>2</th>\n",
       "      <td>13.115809</td>\n",
       "      <td>42.837888</td>\n",
       "      <td>98.186910</td>\n",
       "      <td>200.074959</td>\n",
       "      <td>298.550081</td>\n",
       "      <td>276.768066</td>\n",
       "      <td>10.456345</td>\n",
       "      <td>531.333333</td>\n",
       "      <td>9.533566</td>\n",
       "      <td>0</td>\n",
       "    </tr>\n",
       "    <tr>\n",
       "      <th>3</th>\n",
       "      <td>61.169188</td>\n",
       "      <td>232.372398</td>\n",
       "      <td>773.890215</td>\n",
       "      <td>1802.451147</td>\n",
       "      <td>2282.307487</td>\n",
       "      <td>1784.527244</td>\n",
       "      <td>73.703583</td>\n",
       "      <td>599.857143</td>\n",
       "      <td>14.055284</td>\n",
       "      <td>1</td>\n",
       "    </tr>\n",
       "    <tr>\n",
       "      <th>4</th>\n",
       "      <td>44.265739</td>\n",
       "      <td>151.741567</td>\n",
       "      <td>365.092849</td>\n",
       "      <td>458.897507</td>\n",
       "      <td>332.241997</td>\n",
       "      <td>170.878889</td>\n",
       "      <td>9.968925</td>\n",
       "      <td>376.769231</td>\n",
       "      <td>93.317616</td>\n",
       "      <td>0</td>\n",
       "    </tr>\n",
       "  </tbody>\n",
       "</table>\n",
       "</div>"
      ],
      "text/plain": [
       "           0           1           2            3            4            5  \\\n",
       "0  36.323065  127.324016  366.239635   940.892115  1442.984831   875.125756   \n",
       "1  31.364310  103.658958  248.793275   520.264406   674.872210   528.115100   \n",
       "2  13.115809   42.837888   98.186910   200.074959   298.550081   276.768066   \n",
       "3  61.169188  232.372398  773.890215  1802.451147  2282.307487  1784.527244   \n",
       "4  44.265739  151.741567  365.092849   458.897507   332.241997   170.878889   \n",
       "\n",
       "           6           7          8  9  \n",
       "0  29.243837  280.000000  50.919775  1  \n",
       "1  20.809815  496.888889  53.699668  1  \n",
       "2  10.456345  531.333333   9.533566  0  \n",
       "3  73.703583  599.857143  14.055284  1  \n",
       "4   9.968925  376.769231  93.317616  0  "
      ]
     },
     "execution_count": 24,
     "metadata": {},
     "output_type": "execute_result"
    }
   ],
   "source": [
    "raw = dataset.values[1:,1:]\n",
    "dataset = pd.DataFrame(raw)\n",
    "dataset.head()"
   ]
  },
  {
   "cell_type": "code",
   "execution_count": 29,
   "metadata": {
    "collapsed": false
   },
   "outputs": [],
   "source": [
    "dataset.to_csv(dataname)"
   ]
  },
  {
   "cell_type": "code",
   "execution_count": 664,
   "metadata": {
    "collapsed": false
   },
   "outputs": [
    {
     "name": "stdout",
     "output_type": "stream",
     "text": [
      "[0 7 4 6 2 5 8 1 9 3]\n",
      "10\n"
     ]
    }
   ],
   "source": [
    "print dataset[64].unique()\n",
    "print dataset[64].unique().size"
   ]
  },
  {
   "cell_type": "code",
   "execution_count": 421,
   "metadata": {
    "collapsed": false
   },
   "outputs": [],
   "source": [
    "dataset[dataset == 'y'] = 1"
   ]
  },
  {
   "cell_type": "code",
   "execution_count": 500,
   "metadata": {
    "collapsed": false
   },
   "outputs": [
    {
     "data": {
      "text/plain": [
       "array(['MIT', 'NUC', 'CYT', 'ME1', 'EXC', 'ME2', 'ME3', 'VAC', 'POX', 'ERL'], dtype=object)"
      ]
     },
     "execution_count": 500,
     "metadata": {},
     "output_type": "execute_result"
    }
   ],
   "source": [
    "dataset[9].unique()"
   ]
  },
  {
   "cell_type": "code",
   "execution_count": 427,
   "metadata": {
    "collapsed": true
   },
   "outputs": [],
   "source": [
    "dataset[dataset=='republican']=1"
   ]
  },
  {
   "cell_type": "code",
   "execution_count": 431,
   "metadata": {
    "collapsed": false
   },
   "outputs": [],
   "source": [
    "dataset = dataset.astype(np.int32)"
   ]
  },
  {
   "cell_type": "code",
   "execution_count": 436,
   "metadata": {
    "collapsed": false
   },
   "outputs": [],
   "source": [
    "new_cols = dataset.columns.astype(np.object)"
   ]
  },
  {
   "cell_type": "code",
   "execution_count": 416,
   "metadata": {
    "collapsed": false
   },
   "outputs": [],
   "source": [
    "for i in range(1,17):\n",
    "    dataset = dataset[dataset[i] != '?']"
   ]
  },
  {
   "cell_type": "code",
   "execution_count": 417,
   "metadata": {
    "collapsed": false
   },
   "outputs": [
    {
     "data": {
      "text/plain": [
       "(232, 17)"
      ]
     },
     "execution_count": 417,
     "metadata": {},
     "output_type": "execute_result"
    }
   ],
   "source": [
    "dataset.shape"
   ]
  },
  {
   "cell_type": "code",
   "execution_count": 400,
   "metadata": {
    "collapsed": false
   },
   "outputs": [
    {
     "data": {
      "text/plain": [
       "(379, 17)"
      ]
     },
     "execution_count": 400,
     "metadata": {},
     "output_type": "execute_result"
    }
   ],
   "source": [
    "dataset.shape"
   ]
  },
  {
   "cell_type": "code",
   "execution_count": 518,
   "metadata": {
    "collapsed": true
   },
   "outputs": [],
   "source": [
    "dataset=load_iris()"
   ]
  },
  {
   "cell_type": "code",
   "execution_count": 520,
   "metadata": {
    "collapsed": true
   },
   "outputs": [],
   "source": [
    "data=dataset.data.astype(np.float32)\n",
    "gt=dataset.target"
   ]
  },
  {
   "cell_type": "code",
   "execution_count": 667,
   "metadata": {
    "collapsed": false
   },
   "outputs": [],
   "source": [
    "data = dataset.get_values()[:,:-1]"
   ]
  },
  {
   "cell_type": "code",
   "execution_count": 668,
   "metadata": {
    "collapsed": false
   },
   "outputs": [
    {
     "data": {
      "text/plain": [
       "(3823, 64)"
      ]
     },
     "execution_count": 668,
     "metadata": {},
     "output_type": "execute_result"
    }
   ],
   "source": [
    "data = data.astype(np.float32)\n",
    "data.shape"
   ]
  },
  {
   "cell_type": "code",
   "execution_count": 669,
   "metadata": {
    "collapsed": true
   },
   "outputs": [],
   "source": [
    "gt=dataset.get_values()[:,-1]"
   ]
  },
  {
   "cell_type": "code",
   "execution_count": 670,
   "metadata": {
    "collapsed": false
   },
   "outputs": [],
   "source": [
    "gt = gt.astype(np.int32)"
   ]
  },
  {
   "cell_type": "code",
   "execution_count": 506,
   "metadata": {
    "collapsed": false
   },
   "outputs": [],
   "source": [
    "l=0\n",
    "for i in np.unique(gt):\n",
    "    gt[gt==i] = l\n",
    "    l+=1"
   ]
  },
  {
   "cell_type": "code",
   "execution_count": 671,
   "metadata": {
    "collapsed": false
   },
   "outputs": [
    {
     "data": {
      "text/plain": [
       "array([0, 0, 7, ..., 6, 6, 7], dtype=int32)"
      ]
     },
     "execution_count": 671,
     "metadata": {},
     "output_type": "execute_result"
    }
   ],
   "source": [
    "gt"
   ]
  },
  {
   "cell_type": "code",
   "execution_count": 566,
   "metadata": {
    "collapsed": false
   },
   "outputs": [],
   "source": [
    "gt=np.zeros(600, dtype=np.int32)\n",
    "for i in range(6):\n",
    "    gt[i * 100 : i * 100 + 100] = i"
   ]
  },
  {
   "cell_type": "markdown",
   "metadata": {
    "collapsed": false
   },
   "source": [
    "## iris"
   ]
  },
  {
   "cell_type": "code",
   "execution_count": 77,
   "metadata": {
    "collapsed": true
   },
   "outputs": [],
   "source": [
    "from sklearn.datasets import load_iris\n",
    "\n",
    "iris=load_iris()\n",
    "data=iris.data.astype(np.float32)\n",
    "gt=iris.target"
   ]
  },
  {
   "cell_type": "markdown",
   "metadata": {},
   "source": [
    "## ionosphere"
   ]
  },
  {
   "cell_type": "code",
   "execution_count": 824,
   "metadata": {
    "collapsed": false
   },
   "outputs": [
    {
     "name": "stdout",
     "output_type": "stream",
     "text": [
      "(351, 35)\n"
     ]
    }
   ],
   "source": [
    "foldername = \"/home/diogoaos/QCThesis/datasets/\" + \"ionosphere/\"\n",
    "dataname = foldername + \"ionosphere.data\"\n",
    "\n",
    "dataset = pd.read_csv(dataname, header=None, sep=\",\")\n",
    "print dataset.shape\n",
    "dataset.head()\n",
    "\n",
    "data = dataset.values[:,:-1].astype(np.float32)\n",
    "gt = dataset.values[:,-1]\n",
    "gt[gt=='g']=1\n",
    "gt[gt=='b']=0\n",
    "gt = gt.astype(np.int32)"
   ]
  },
  {
   "cell_type": "markdown",
   "metadata": {},
   "source": [
    "## optdigits"
   ]
  },
  {
   "cell_type": "code",
   "execution_count": 681,
   "metadata": {
    "collapsed": false
   },
   "outputs": [],
   "source": [
    "foldername = \"/home/diogoaos/QCThesis/datasets/\" + \"optdigits/\"\n",
    "dataname = foldername + \"optdigits.tra\"\n",
    "\n",
    "dataset = pd.read_csv(dataname, header=None, sep=\",\")\n",
    "data = dataset.get_values()[:,:-1]\n",
    "data = data.astype(np.float32)\n",
    "gt=dataset.get_values()[:,-1]\n",
    "gt = gt.astype(np.int32)"
   ]
  },
  {
   "cell_type": "markdown",
   "metadata": {},
   "source": [
    "## mfeat-fou"
   ]
  },
  {
   "cell_type": "code",
   "execution_count": 701,
   "metadata": {
    "collapsed": true
   },
   "outputs": [],
   "source": [
    "foldername = \"/home/diogoaos/QCThesis/datasets/\" + \"mfeat/\"\n",
    "dataname = foldername + \"mfeat-fou.asc\"\n",
    "\n",
    "dataset = pd.read_csv(dataname, header=None, sep=\"  \")\n",
    "data = dataset.get_values().astype(np.float32)\n",
    "gt = np.empty(dataset.shape[0], dtype=np.int32)\n",
    "for i in range(10):\n",
    "    gt[i*200 : i*200+200]=i"
   ]
  },
  {
   "cell_type": "markdown",
   "metadata": {},
   "source": [
    "## isolet"
   ]
  },
  {
   "cell_type": "code",
   "execution_count": 149,
   "metadata": {
    "collapsed": false
   },
   "outputs": [],
   "source": [
    "foldername = \"/home/chiroptera/QCThesis/datasets/\" + \"isolet/\"\n",
    "dataname = foldername + \"isolet1-5.data\"\n",
    "\n",
    "dataset = pd.read_csv(dataname, header=None, sep=\",\")\n",
    "data = dataset.get_values().astype(np.float32)[:,:-1]\n",
    "gt=dataset.get_values()[:,-1].astype(np.int32)"
   ]
  },
  {
   "cell_type": "markdown",
   "metadata": {},
   "source": [
    "## ECG IT"
   ]
  },
  {
   "cell_type": "code",
   "execution_count": 90,
   "metadata": {
    "collapsed": false
   },
   "outputs": [],
   "source": [
    "foldername = \"/home/chiroptera/QCThesis/datasets/\" + \"ecg_it/\"\n",
    "dataname = foldername + \"ecg_it.data\"\n",
    "dataset = pd.read_csv(dataname, header=None, sep=\",\")\n",
    "data = dataset.values[1:,1:-1].astype(np.float32)\n",
    "gt = dataset.values[1:,-1].astype(np.int32)\n",
    "\n",
    "#remove unlabeled\n",
    "labeled_idx = gt!=2\n",
    "data = data[labeled_idx]\n",
    "gt = gt[labeled_idx]"
   ]
  },
  {
   "cell_type": "code",
   "execution_count": 79,
   "metadata": {
    "collapsed": false
   },
   "outputs": [],
   "source": [
    "gt0 = gt==0\n",
    "gt1 = gt==1"
   ]
  },
  {
   "cell_type": "code",
   "execution_count": 80,
   "metadata": {
    "collapsed": false
   },
   "outputs": [],
   "source": [
    "data = np.concatenate((data[gt0],data[gt1][:600]))\n",
    "gt = np.concatenate((gt[gt0],gt[gt1][:600]))"
   ]
  },
  {
   "cell_type": "markdown",
   "metadata": {},
   "source": [
    "# Process"
   ]
  },
  {
   "cell_type": "code",
   "execution_count": 81,
   "metadata": {
    "collapsed": false
   },
   "outputs": [],
   "source": [
    "from sklearn.cluster import KMeans"
   ]
  },
  {
   "cell_type": "code",
   "execution_count": 143,
   "metadata": {
    "collapsed": false
   },
   "outputs": [
    {
     "data": {
      "text/plain": [
       "<module 'MyML.cluster.K_Means3' from '/home/chiroptera/workspace/QCThesis/MyML/cluster/K_Means3.py'>"
      ]
     },
     "execution_count": 143,
     "metadata": {},
     "output_type": "execute_result"
    }
   ],
   "source": [
    "reload(myKM)"
   ]
  },
  {
   "cell_type": "code",
   "execution_count": 150,
   "metadata": {
    "collapsed": false
   },
   "outputs": [
    {
     "name": "stdout",
     "output_type": "stream",
     "text": [
      "number of samples:  7797\n",
      "interval of clusters:  [45, 89]\n",
      "true number of clusters:  26\n",
      "number of partitions:  100\n",
      "number of rounds:  20\n",
      "maximum clusters assumption:  100\n"
     ]
    }
   ],
   "source": [
    "generator = myKM.K_Means()\n",
    "generator._MAX_THREADS_BLOCK = 256\n",
    "generator._PPT = 8\n",
    "#generator = KMeans(init='random')\n",
    "\n",
    "n_samples = data.shape[0]\n",
    "true_n_clusters=np.unique(gt).size\n",
    "\n",
    "sqrt_nsamples = np.sqrt(n_samples)\n",
    "n_clusters = [sqrt_nsamples/2, sqrt_nsamples]\n",
    "n_clusters = map(np.ceil, n_clusters)\n",
    "n_clusters = map(int, n_clusters)\n",
    "n_partitions = 100\n",
    "rounds = 20\n",
    "max_clusts=100\n",
    "\n",
    "\n",
    "assoc_mode = \"full\"\n",
    "prot_mode = \"none\"\n",
    "\n",
    "print \"number of samples: \", n_samples\n",
    "print \"interval of clusters: \", n_clusters\n",
    "print \"true number of clusters: \", true_n_clusters\n",
    "print \"number of partitions: \", n_partitions\n",
    "print \"number of rounds: \", rounds\n",
    "print \"maximum clusters assumption: \", max_clusts"
   ]
  },
  {
   "cell_type": "code",
   "execution_count": 151,
   "metadata": {
    "collapsed": false,
    "scrolled": true
   },
   "outputs": [
    {
     "ename": "CudaAPIError",
     "evalue": "Call to cuMemcpyDtoH results in UNKNOWN_CUDA_ERROR",
     "output_type": "error",
     "traceback": [
      "\u001b[1;31m---------------------------------------------------------------------------\u001b[0m",
      "\u001b[1;31mCudaAPIError\u001b[0m                              Traceback (most recent call last)",
      "\u001b[1;32m<ipython-input-151-39e88b443a2e>\u001b[0m in \u001b[0;36m<module>\u001b[1;34m()\u001b[0m\n\u001b[1;32m----> 1\u001b[1;33m \u001b[0mget_ipython\u001b[0m\u001b[1;33m(\u001b[0m\u001b[1;33m)\u001b[0m\u001b[1;33m.\u001b[0m\u001b[0mmagic\u001b[0m\u001b[1;33m(\u001b[0m\u001b[1;34mu'time ensemble = mpart.generateEnsemble(data, generator, n_clusters=n_clusters, npartitions=n_partitions, iters=3)'\u001b[0m\u001b[1;33m)\u001b[0m\u001b[1;33m\u001b[0m\u001b[0m\n\u001b[0m",
      "\u001b[1;32m/home/chiroptera/anaconda/lib/python2.7/site-packages/IPython/core/interactiveshell.pyc\u001b[0m in \u001b[0;36mmagic\u001b[1;34m(self, arg_s)\u001b[0m\n\u001b[0;32m   2305\u001b[0m         \u001b[0mmagic_name\u001b[0m\u001b[1;33m,\u001b[0m \u001b[0m_\u001b[0m\u001b[1;33m,\u001b[0m \u001b[0mmagic_arg_s\u001b[0m \u001b[1;33m=\u001b[0m \u001b[0marg_s\u001b[0m\u001b[1;33m.\u001b[0m\u001b[0mpartition\u001b[0m\u001b[1;33m(\u001b[0m\u001b[1;34m' '\u001b[0m\u001b[1;33m)\u001b[0m\u001b[1;33m\u001b[0m\u001b[0m\n\u001b[0;32m   2306\u001b[0m         \u001b[0mmagic_name\u001b[0m \u001b[1;33m=\u001b[0m \u001b[0mmagic_name\u001b[0m\u001b[1;33m.\u001b[0m\u001b[0mlstrip\u001b[0m\u001b[1;33m(\u001b[0m\u001b[0mprefilter\u001b[0m\u001b[1;33m.\u001b[0m\u001b[0mESC_MAGIC\u001b[0m\u001b[1;33m)\u001b[0m\u001b[1;33m\u001b[0m\u001b[0m\n\u001b[1;32m-> 2307\u001b[1;33m         \u001b[1;32mreturn\u001b[0m \u001b[0mself\u001b[0m\u001b[1;33m.\u001b[0m\u001b[0mrun_line_magic\u001b[0m\u001b[1;33m(\u001b[0m\u001b[0mmagic_name\u001b[0m\u001b[1;33m,\u001b[0m \u001b[0mmagic_arg_s\u001b[0m\u001b[1;33m)\u001b[0m\u001b[1;33m\u001b[0m\u001b[0m\n\u001b[0m\u001b[0;32m   2308\u001b[0m \u001b[1;33m\u001b[0m\u001b[0m\n\u001b[0;32m   2309\u001b[0m     \u001b[1;31m#-------------------------------------------------------------------------\u001b[0m\u001b[1;33m\u001b[0m\u001b[1;33m\u001b[0m\u001b[0m\n",
      "\u001b[1;32m/home/chiroptera/anaconda/lib/python2.7/site-packages/IPython/core/interactiveshell.pyc\u001b[0m in \u001b[0;36mrun_line_magic\u001b[1;34m(self, magic_name, line)\u001b[0m\n\u001b[0;32m   2226\u001b[0m                 \u001b[0mkwargs\u001b[0m\u001b[1;33m[\u001b[0m\u001b[1;34m'local_ns'\u001b[0m\u001b[1;33m]\u001b[0m \u001b[1;33m=\u001b[0m \u001b[0msys\u001b[0m\u001b[1;33m.\u001b[0m\u001b[0m_getframe\u001b[0m\u001b[1;33m(\u001b[0m\u001b[0mstack_depth\u001b[0m\u001b[1;33m)\u001b[0m\u001b[1;33m.\u001b[0m\u001b[0mf_locals\u001b[0m\u001b[1;33m\u001b[0m\u001b[0m\n\u001b[0;32m   2227\u001b[0m             \u001b[1;32mwith\u001b[0m \u001b[0mself\u001b[0m\u001b[1;33m.\u001b[0m\u001b[0mbuiltin_trap\u001b[0m\u001b[1;33m:\u001b[0m\u001b[1;33m\u001b[0m\u001b[0m\n\u001b[1;32m-> 2228\u001b[1;33m                 \u001b[0mresult\u001b[0m \u001b[1;33m=\u001b[0m \u001b[0mfn\u001b[0m\u001b[1;33m(\u001b[0m\u001b[1;33m*\u001b[0m\u001b[0margs\u001b[0m\u001b[1;33m,\u001b[0m\u001b[1;33m**\u001b[0m\u001b[0mkwargs\u001b[0m\u001b[1;33m)\u001b[0m\u001b[1;33m\u001b[0m\u001b[0m\n\u001b[0m\u001b[0;32m   2229\u001b[0m             \u001b[1;32mreturn\u001b[0m \u001b[0mresult\u001b[0m\u001b[1;33m\u001b[0m\u001b[0m\n\u001b[0;32m   2230\u001b[0m \u001b[1;33m\u001b[0m\u001b[0m\n",
      "\u001b[1;32m/home/chiroptera/anaconda/lib/python2.7/site-packages/IPython/core/magics/execution.pyc\u001b[0m in \u001b[0;36mtime\u001b[1;34m(self, line, cell, local_ns)\u001b[0m\n",
      "\u001b[1;32m/home/chiroptera/anaconda/lib/python2.7/site-packages/IPython/core/magic.pyc\u001b[0m in \u001b[0;36m<lambda>\u001b[1;34m(f, *a, **k)\u001b[0m\n\u001b[0;32m    191\u001b[0m     \u001b[1;31m# but it's overkill for just that one bit of state.\u001b[0m\u001b[1;33m\u001b[0m\u001b[1;33m\u001b[0m\u001b[0m\n\u001b[0;32m    192\u001b[0m     \u001b[1;32mdef\u001b[0m \u001b[0mmagic_deco\u001b[0m\u001b[1;33m(\u001b[0m\u001b[0marg\u001b[0m\u001b[1;33m)\u001b[0m\u001b[1;33m:\u001b[0m\u001b[1;33m\u001b[0m\u001b[0m\n\u001b[1;32m--> 193\u001b[1;33m         \u001b[0mcall\u001b[0m \u001b[1;33m=\u001b[0m \u001b[1;32mlambda\u001b[0m \u001b[0mf\u001b[0m\u001b[1;33m,\u001b[0m \u001b[1;33m*\u001b[0m\u001b[0ma\u001b[0m\u001b[1;33m,\u001b[0m \u001b[1;33m**\u001b[0m\u001b[0mk\u001b[0m\u001b[1;33m:\u001b[0m \u001b[0mf\u001b[0m\u001b[1;33m(\u001b[0m\u001b[1;33m*\u001b[0m\u001b[0ma\u001b[0m\u001b[1;33m,\u001b[0m \u001b[1;33m**\u001b[0m\u001b[0mk\u001b[0m\u001b[1;33m)\u001b[0m\u001b[1;33m\u001b[0m\u001b[0m\n\u001b[0m\u001b[0;32m    194\u001b[0m \u001b[1;33m\u001b[0m\u001b[0m\n\u001b[0;32m    195\u001b[0m         \u001b[1;32mif\u001b[0m \u001b[0mcallable\u001b[0m\u001b[1;33m(\u001b[0m\u001b[0marg\u001b[0m\u001b[1;33m)\u001b[0m\u001b[1;33m:\u001b[0m\u001b[1;33m\u001b[0m\u001b[0m\n",
      "\u001b[1;32m/home/chiroptera/anaconda/lib/python2.7/site-packages/IPython/core/magics/execution.pyc\u001b[0m in \u001b[0;36mtime\u001b[1;34m(self, line, cell, local_ns)\u001b[0m\n\u001b[0;32m   1164\u001b[0m         \u001b[1;32melse\u001b[0m\u001b[1;33m:\u001b[0m\u001b[1;33m\u001b[0m\u001b[0m\n\u001b[0;32m   1165\u001b[0m             \u001b[0mst\u001b[0m \u001b[1;33m=\u001b[0m \u001b[0mclock2\u001b[0m\u001b[1;33m(\u001b[0m\u001b[1;33m)\u001b[0m\u001b[1;33m\u001b[0m\u001b[0m\n\u001b[1;32m-> 1166\u001b[1;33m             \u001b[1;32mexec\u001b[0m\u001b[1;33m(\u001b[0m\u001b[0mcode\u001b[0m\u001b[1;33m,\u001b[0m \u001b[0mglob\u001b[0m\u001b[1;33m,\u001b[0m \u001b[0mlocal_ns\u001b[0m\u001b[1;33m)\u001b[0m\u001b[1;33m\u001b[0m\u001b[0m\n\u001b[0m\u001b[0;32m   1167\u001b[0m             \u001b[0mend\u001b[0m \u001b[1;33m=\u001b[0m \u001b[0mclock2\u001b[0m\u001b[1;33m(\u001b[0m\u001b[1;33m)\u001b[0m\u001b[1;33m\u001b[0m\u001b[0m\n\u001b[0;32m   1168\u001b[0m             \u001b[0mout\u001b[0m \u001b[1;33m=\u001b[0m \u001b[0mNone\u001b[0m\u001b[1;33m\u001b[0m\u001b[0m\n",
      "\u001b[1;32m<timed exec>\u001b[0m in \u001b[0;36m<module>\u001b[1;34m()\u001b[0m\n",
      "\u001b[1;32m/home/chiroptera/workspace/QCThesis/MyML/helper/partition.pyc\u001b[0m in \u001b[0;36mgenerateEnsemble\u001b[1;34m(data, generator, n_clusters, npartitions, iters)\u001b[0m\n\u001b[0;32m    113\u001b[0m             \u001b[0mgenerator\u001b[0m\u001b[1;33m.\u001b[0m\u001b[0mn_clusters\u001b[0m \u001b[1;33m=\u001b[0m \u001b[0mk\u001b[0m\u001b[1;33m\u001b[0m\u001b[0m\n\u001b[0;32m    114\u001b[0m \u001b[1;33m\u001b[0m\u001b[0m\n\u001b[1;32m--> 115\u001b[1;33m         \u001b[0mgenerator\u001b[0m\u001b[1;33m.\u001b[0m\u001b[0mfit\u001b[0m\u001b[1;33m(\u001b[0m\u001b[0mdata\u001b[0m\u001b[1;33m)\u001b[0m\u001b[1;33m\u001b[0m\u001b[0m\n\u001b[0m\u001b[0;32m    116\u001b[0m         \u001b[0mensemble\u001b[0m\u001b[1;33m[\u001b[0m\u001b[0mx\u001b[0m\u001b[1;33m]\u001b[0m \u001b[1;33m=\u001b[0m \u001b[0mconvertClusterStringToIndex\u001b[0m\u001b[1;33m(\u001b[0m\u001b[0mgenerator\u001b[0m\u001b[1;33m.\u001b[0m\u001b[0mlabels_\u001b[0m\u001b[1;33m)\u001b[0m\u001b[1;33m\u001b[0m\u001b[0m\n\u001b[0;32m    117\u001b[0m \u001b[1;33m\u001b[0m\u001b[0m\n",
      "\u001b[1;32m/home/chiroptera/workspace/QCThesis/MyML/cluster/K_Means3.py\u001b[0m in \u001b[0;36mfit\u001b[1;34m(self, data)\u001b[0m\n\u001b[0;32m    111\u001b[0m         \u001b[1;32mwhile\u001b[0m \u001b[1;32mnot\u001b[0m \u001b[0mstopcond\u001b[0m\u001b[1;33m:\u001b[0m\u001b[1;33m\u001b[0m\u001b[0m\n\u001b[0;32m    112\u001b[0m             \u001b[1;31m# compute labels\u001b[0m\u001b[1;33m\u001b[0m\u001b[1;33m\u001b[0m\u001b[0m\n\u001b[1;32m--> 113\u001b[1;33m             \u001b[0mlabels\u001b[0m \u001b[1;33m=\u001b[0m \u001b[0mself\u001b[0m\u001b[1;33m.\u001b[0m\u001b[0m_label\u001b[0m\u001b[1;33m(\u001b[0m\u001b[0mdata\u001b[0m\u001b[1;33m,\u001b[0m\u001b[0mself\u001b[0m\u001b[1;33m.\u001b[0m\u001b[0mcentroids\u001b[0m\u001b[1;33m)\u001b[0m\u001b[1;33m\u001b[0m\u001b[0m\n\u001b[0m\u001b[0;32m    114\u001b[0m \u001b[1;33m\u001b[0m\u001b[0m\n\u001b[0;32m    115\u001b[0m             \u001b[0mself\u001b[0m\u001b[1;33m.\u001b[0m\u001b[0miters_\u001b[0m \u001b[1;33m+=\u001b[0m \u001b[1;36m1\u001b[0m \u001b[1;31m#increment iteration counter\u001b[0m\u001b[1;33m\u001b[0m\u001b[0m\n",
      "\u001b[1;32m/home/chiroptera/workspace/QCThesis/MyML/cluster/K_Means3.py\u001b[0m in \u001b[0;36m_label\u001b[1;34m(self, data, centroids)\u001b[0m\n\u001b[0;32m    182\u001b[0m         \u001b[1;31m# we need array for distances to check convergence\u001b[0m\u001b[1;33m\u001b[0m\u001b[1;33m\u001b[0m\u001b[0m\n\u001b[0;32m    183\u001b[0m         \u001b[1;32mif\u001b[0m \u001b[0mself\u001b[0m\u001b[1;33m.\u001b[0m\u001b[0m_mode\u001b[0m \u001b[1;33m==\u001b[0m \u001b[1;34m\"cuda\"\u001b[0m\u001b[1;33m:\u001b[0m\u001b[1;33m\u001b[0m\u001b[0m\n\u001b[1;32m--> 184\u001b[1;33m             \u001b[0mlabels\u001b[0m \u001b[1;33m=\u001b[0m \u001b[0mself\u001b[0m\u001b[1;33m.\u001b[0m\u001b[0m_cu_label\u001b[0m\u001b[1;33m(\u001b[0m\u001b[0mdata\u001b[0m\u001b[1;33m,\u001b[0m \u001b[0mcentroids\u001b[0m\u001b[1;33m)\u001b[0m\u001b[1;33m\u001b[0m\u001b[0m\n\u001b[0m\u001b[0;32m    185\u001b[0m         \u001b[1;32melif\u001b[0m \u001b[0mself\u001b[0m\u001b[1;33m.\u001b[0m\u001b[0m_mode\u001b[0m \u001b[1;33m==\u001b[0m \u001b[1;34m\"special\"\u001b[0m\u001b[1;33m:\u001b[0m \u001b[1;31m#for tests only\u001b[0m\u001b[1;33m\u001b[0m\u001b[0m\n\u001b[0;32m    186\u001b[0m             \u001b[0mlabels\u001b[0m\u001b[1;33m=\u001b[0m\u001b[0mnp\u001b[0m\u001b[1;33m.\u001b[0m\u001b[0mempty\u001b[0m\u001b[1;33m(\u001b[0m\u001b[0mself\u001b[0m\u001b[1;33m.\u001b[0m\u001b[0mN\u001b[0m\u001b[1;33m,\u001b[0m \u001b[0mdtype\u001b[0m\u001b[1;33m=\u001b[0m\u001b[0mnp\u001b[0m\u001b[1;33m.\u001b[0m\u001b[0mint32\u001b[0m\u001b[1;33m)\u001b[0m\u001b[1;33m\u001b[0m\u001b[0m\n",
      "\u001b[1;32m/home/chiroptera/workspace/QCThesis/MyML/cluster/K_Means3.py\u001b[0m in \u001b[0;36m_cu_label\u001b[1;34m(self, data, centroids)\u001b[0m\n\u001b[0;32m    444\u001b[0m                                                                 \u001b[0mcentroids\u001b[0m\u001b[1;33m,\u001b[0m\u001b[1;33m\u001b[0m\u001b[0m\n\u001b[0;32m    445\u001b[0m                                                                 \u001b[0mlabels\u001b[0m\u001b[1;33m,\u001b[0m\u001b[1;33m\u001b[0m\u001b[0m\n\u001b[1;32m--> 446\u001b[1;33m                                                                 self._dists)\n\u001b[0m\u001b[0;32m    447\u001b[0m \u001b[1;33m\u001b[0m\u001b[0m\n\u001b[0;32m    448\u001b[0m         \u001b[1;32melse\u001b[0m\u001b[1;33m:\u001b[0m\u001b[1;33m\u001b[0m\u001b[0m\n",
      "\u001b[1;32m/home/chiroptera/anaconda/lib/python2.7/site-packages/numba/cuda/compiler.pyc\u001b[0m in \u001b[0;36m__call__\u001b[1;34m(self, *args, **kwargs)\u001b[0m\n\u001b[0;32m    313\u001b[0m                           \u001b[0mblockdim\u001b[0m\u001b[1;33m=\u001b[0m\u001b[0mself\u001b[0m\u001b[1;33m.\u001b[0m\u001b[0mblockdim\u001b[0m\u001b[1;33m,\u001b[0m\u001b[1;33m\u001b[0m\u001b[0m\n\u001b[0;32m    314\u001b[0m                           \u001b[0mstream\u001b[0m\u001b[1;33m=\u001b[0m\u001b[0mself\u001b[0m\u001b[1;33m.\u001b[0m\u001b[0mstream\u001b[0m\u001b[1;33m,\u001b[0m\u001b[1;33m\u001b[0m\u001b[0m\n\u001b[1;32m--> 315\u001b[1;33m                           sharedmem=self.sharedmem)\n\u001b[0m\u001b[0;32m    316\u001b[0m \u001b[1;33m\u001b[0m\u001b[0m\n\u001b[0;32m    317\u001b[0m     \u001b[1;32mdef\u001b[0m \u001b[0mbind\u001b[0m\u001b[1;33m(\u001b[0m\u001b[0mself\u001b[0m\u001b[1;33m)\u001b[0m\u001b[1;33m:\u001b[0m\u001b[1;33m\u001b[0m\u001b[0m\n",
      "\u001b[1;32m/home/chiroptera/anaconda/lib/python2.7/site-packages/numba/cuda/compiler.pyc\u001b[0m in \u001b[0;36m_kernel_call\u001b[1;34m(self, args, griddim, blockdim, stream, sharedmem)\u001b[0m\n\u001b[0;32m    415\u001b[0m         \u001b[1;31m# retrieve auto converted arrays\u001b[0m\u001b[1;33m\u001b[0m\u001b[1;33m\u001b[0m\u001b[0m\n\u001b[0;32m    416\u001b[0m         \u001b[1;32mfor\u001b[0m \u001b[0mwb\u001b[0m \u001b[1;32min\u001b[0m \u001b[0mretr\u001b[0m\u001b[1;33m:\u001b[0m\u001b[1;33m\u001b[0m\u001b[0m\n\u001b[1;32m--> 417\u001b[1;33m             \u001b[0mwb\u001b[0m\u001b[1;33m(\u001b[0m\u001b[1;33m)\u001b[0m\u001b[1;33m\u001b[0m\u001b[0m\n\u001b[0m\u001b[0;32m    418\u001b[0m \u001b[1;33m\u001b[0m\u001b[0m\n\u001b[0;32m    419\u001b[0m     \u001b[1;32mdef\u001b[0m \u001b[0m_prepare_args\u001b[0m\u001b[1;33m(\u001b[0m\u001b[0mself\u001b[0m\u001b[1;33m,\u001b[0m \u001b[0mty\u001b[0m\u001b[1;33m,\u001b[0m \u001b[0mval\u001b[0m\u001b[1;33m,\u001b[0m \u001b[0mstream\u001b[0m\u001b[1;33m,\u001b[0m \u001b[0mretr\u001b[0m\u001b[1;33m,\u001b[0m \u001b[0mkernelargs\u001b[0m\u001b[1;33m)\u001b[0m\u001b[1;33m:\u001b[0m\u001b[1;33m\u001b[0m\u001b[0m\n",
      "\u001b[1;32m/home/chiroptera/anaconda/lib/python2.7/site-packages/numba/cuda/compiler.pyc\u001b[0m in \u001b[0;36m<lambda>\u001b[1;34m()\u001b[0m\n\u001b[0;32m    424\u001b[0m             \u001b[0mdevary\u001b[0m\u001b[1;33m,\u001b[0m \u001b[0mconv\u001b[0m \u001b[1;33m=\u001b[0m \u001b[0mdevicearray\u001b[0m\u001b[1;33m.\u001b[0m\u001b[0mauto_device\u001b[0m\u001b[1;33m(\u001b[0m\u001b[0mval\u001b[0m\u001b[1;33m,\u001b[0m \u001b[0mstream\u001b[0m\u001b[1;33m=\u001b[0m\u001b[0mstream\u001b[0m\u001b[1;33m)\u001b[0m\u001b[1;33m\u001b[0m\u001b[0m\n\u001b[0;32m    425\u001b[0m             \u001b[1;32mif\u001b[0m \u001b[0mconv\u001b[0m\u001b[1;33m:\u001b[0m\u001b[1;33m\u001b[0m\u001b[0m\n\u001b[1;32m--> 426\u001b[1;33m                 \u001b[0mretr\u001b[0m\u001b[1;33m.\u001b[0m\u001b[0mappend\u001b[0m\u001b[1;33m(\u001b[0m\u001b[1;32mlambda\u001b[0m\u001b[1;33m:\u001b[0m \u001b[0mdevary\u001b[0m\u001b[1;33m.\u001b[0m\u001b[0mcopy_to_host\u001b[0m\u001b[1;33m(\u001b[0m\u001b[0mval\u001b[0m\u001b[1;33m,\u001b[0m \u001b[0mstream\u001b[0m\u001b[1;33m=\u001b[0m\u001b[0mstream\u001b[0m\u001b[1;33m)\u001b[0m\u001b[1;33m)\u001b[0m\u001b[1;33m\u001b[0m\u001b[0m\n\u001b[0m\u001b[0;32m    427\u001b[0m \u001b[1;33m\u001b[0m\u001b[0m\n\u001b[0;32m    428\u001b[0m             \u001b[0mc_intp\u001b[0m \u001b[1;33m=\u001b[0m \u001b[0mctypes\u001b[0m\u001b[1;33m.\u001b[0m\u001b[0mc_ssize_t\u001b[0m\u001b[1;33m\u001b[0m\u001b[0m\n",
      "\u001b[1;32m/home/chiroptera/anaconda/lib/python2.7/site-packages/numba/cuda/cudadrv/devicearray.pyc\u001b[0m in \u001b[0;36mcopy_to_host\u001b[1;34m(self, ary, stream)\u001b[0m\n\u001b[0;32m    193\u001b[0m         \u001b[1;32massert\u001b[0m \u001b[0mself\u001b[0m\u001b[1;33m.\u001b[0m\u001b[0malloc_size\u001b[0m \u001b[1;33m>=\u001b[0m \u001b[1;36m0\u001b[0m\u001b[1;33m,\u001b[0m \u001b[1;34m\"Negative memory size\"\u001b[0m\u001b[1;33m\u001b[0m\u001b[0m\n\u001b[0;32m    194\u001b[0m         \u001b[1;32mif\u001b[0m \u001b[0mself\u001b[0m\u001b[1;33m.\u001b[0m\u001b[0malloc_size\u001b[0m \u001b[1;33m!=\u001b[0m \u001b[1;36m0\u001b[0m\u001b[1;33m:\u001b[0m\u001b[1;33m\u001b[0m\u001b[0m\n\u001b[1;32m--> 195\u001b[1;33m             \u001b[0m_driver\u001b[0m\u001b[1;33m.\u001b[0m\u001b[0mdevice_to_host\u001b[0m\u001b[1;33m(\u001b[0m\u001b[0mhostary\u001b[0m\u001b[1;33m,\u001b[0m \u001b[0mself\u001b[0m\u001b[1;33m,\u001b[0m \u001b[0mself\u001b[0m\u001b[1;33m.\u001b[0m\u001b[0malloc_size\u001b[0m\u001b[1;33m,\u001b[0m \u001b[0mstream\u001b[0m\u001b[1;33m=\u001b[0m\u001b[0mstream\u001b[0m\u001b[1;33m)\u001b[0m\u001b[1;33m\u001b[0m\u001b[0m\n\u001b[0m\u001b[0;32m    196\u001b[0m \u001b[1;33m\u001b[0m\u001b[0m\n\u001b[0;32m    197\u001b[0m         \u001b[1;32mif\u001b[0m \u001b[0mary\u001b[0m \u001b[1;32mis\u001b[0m \u001b[0mNone\u001b[0m\u001b[1;33m:\u001b[0m\u001b[1;33m\u001b[0m\u001b[0m\n",
      "\u001b[1;32m/home/chiroptera/anaconda/lib/python2.7/site-packages/numba/cuda/cudadrv/driver.pyc\u001b[0m in \u001b[0;36mdevice_to_host\u001b[1;34m(dst, src, size, stream)\u001b[0m\n\u001b[0;32m   1377\u001b[0m         \u001b[0mfn\u001b[0m \u001b[1;33m=\u001b[0m \u001b[0mdriver\u001b[0m\u001b[1;33m.\u001b[0m\u001b[0mcuMemcpyDtoH\u001b[0m\u001b[1;33m\u001b[0m\u001b[0m\n\u001b[0;32m   1378\u001b[0m \u001b[1;33m\u001b[0m\u001b[0m\n\u001b[1;32m-> 1379\u001b[1;33m     \u001b[0mfn\u001b[0m\u001b[1;33m(\u001b[0m\u001b[0mhost_pointer\u001b[0m\u001b[1;33m(\u001b[0m\u001b[0mdst\u001b[0m\u001b[1;33m)\u001b[0m\u001b[1;33m,\u001b[0m \u001b[0mdevice_pointer\u001b[0m\u001b[1;33m(\u001b[0m\u001b[0msrc\u001b[0m\u001b[1;33m)\u001b[0m\u001b[1;33m,\u001b[0m \u001b[0msize\u001b[0m\u001b[1;33m,\u001b[0m \u001b[1;33m*\u001b[0m\u001b[0mvarargs\u001b[0m\u001b[1;33m)\u001b[0m\u001b[1;33m\u001b[0m\u001b[0m\n\u001b[0m\u001b[0;32m   1380\u001b[0m \u001b[1;33m\u001b[0m\u001b[0m\n\u001b[0;32m   1381\u001b[0m \u001b[1;33m\u001b[0m\u001b[0m\n",
      "\u001b[1;32m/home/chiroptera/anaconda/lib/python2.7/site-packages/numba/cuda/cudadrv/driver.pyc\u001b[0m in \u001b[0;36msafe_cuda_api_call\u001b[1;34m(*args)\u001b[0m\n\u001b[0;32m    214\u001b[0m         \u001b[1;32mdef\u001b[0m \u001b[0msafe_cuda_api_call\u001b[0m\u001b[1;33m(\u001b[0m\u001b[1;33m*\u001b[0m\u001b[0margs\u001b[0m\u001b[1;33m)\u001b[0m\u001b[1;33m:\u001b[0m\u001b[1;33m\u001b[0m\u001b[0m\n\u001b[0;32m    215\u001b[0m             \u001b[0mretcode\u001b[0m \u001b[1;33m=\u001b[0m \u001b[0mlibfn\u001b[0m\u001b[1;33m(\u001b[0m\u001b[1;33m*\u001b[0m\u001b[0margs\u001b[0m\u001b[1;33m)\u001b[0m\u001b[1;33m\u001b[0m\u001b[0m\n\u001b[1;32m--> 216\u001b[1;33m             \u001b[0mself\u001b[0m\u001b[1;33m.\u001b[0m\u001b[0m_check_error\u001b[0m\u001b[1;33m(\u001b[0m\u001b[0mfname\u001b[0m\u001b[1;33m,\u001b[0m \u001b[0mretcode\u001b[0m\u001b[1;33m)\u001b[0m\u001b[1;33m\u001b[0m\u001b[0m\n\u001b[0m\u001b[0;32m    217\u001b[0m \u001b[1;33m\u001b[0m\u001b[0m\n\u001b[0;32m    218\u001b[0m         \u001b[0msetattr\u001b[0m\u001b[1;33m(\u001b[0m\u001b[0mself\u001b[0m\u001b[1;33m,\u001b[0m \u001b[0mfname\u001b[0m\u001b[1;33m,\u001b[0m \u001b[0msafe_cuda_api_call\u001b[0m\u001b[1;33m)\u001b[0m\u001b[1;33m\u001b[0m\u001b[0m\n",
      "\u001b[1;32m/home/chiroptera/anaconda/lib/python2.7/site-packages/numba/cuda/cudadrv/driver.pyc\u001b[0m in \u001b[0;36m_check_error\u001b[1;34m(self, fname, retcode)\u001b[0m\n\u001b[0;32m    244\u001b[0m             \u001b[0merrname\u001b[0m \u001b[1;33m=\u001b[0m \u001b[0mERROR_MAP\u001b[0m\u001b[1;33m.\u001b[0m\u001b[0mget\u001b[0m\u001b[1;33m(\u001b[0m\u001b[0mretcode\u001b[0m\u001b[1;33m,\u001b[0m \u001b[1;34m\"UNKNOWN_CUDA_ERROR\"\u001b[0m\u001b[1;33m)\u001b[0m\u001b[1;33m\u001b[0m\u001b[0m\n\u001b[0;32m    245\u001b[0m             \u001b[0mmsg\u001b[0m \u001b[1;33m=\u001b[0m \u001b[1;34m\"Call to %s results in %s\"\u001b[0m \u001b[1;33m%\u001b[0m \u001b[1;33m(\u001b[0m\u001b[0mfname\u001b[0m\u001b[1;33m,\u001b[0m \u001b[0merrname\u001b[0m\u001b[1;33m)\u001b[0m\u001b[1;33m\u001b[0m\u001b[0m\n\u001b[1;32m--> 246\u001b[1;33m             \u001b[1;32mraise\u001b[0m \u001b[0mCudaAPIError\u001b[0m\u001b[1;33m(\u001b[0m\u001b[0mretcode\u001b[0m\u001b[1;33m,\u001b[0m \u001b[0mmsg\u001b[0m\u001b[1;33m)\u001b[0m\u001b[1;33m\u001b[0m\u001b[0m\n\u001b[0m\u001b[0;32m    247\u001b[0m \u001b[1;33m\u001b[0m\u001b[0m\n\u001b[0;32m    248\u001b[0m     \u001b[1;32mdef\u001b[0m \u001b[0mget_device\u001b[0m\u001b[1;33m(\u001b[0m\u001b[0mself\u001b[0m\u001b[1;33m,\u001b[0m \u001b[0mdevnum\u001b[0m\u001b[1;33m=\u001b[0m\u001b[1;36m0\u001b[0m\u001b[1;33m)\u001b[0m\u001b[1;33m:\u001b[0m\u001b[1;33m\u001b[0m\u001b[0m\n",
      "\u001b[1;31mCudaAPIError\u001b[0m: Call to cuMemcpyDtoH results in UNKNOWN_CUDA_ERROR"
     ]
    }
   ],
   "source": [
    "%time ensemble = mpart.generateEnsemble(data, generator, n_clusters=n_clusters, npartitions=n_partitions, iters=3)"
   ]
  },
  {
   "cell_type": "code",
   "execution_count": 146,
   "metadata": {
    "collapsed": false
   },
   "outputs": [
    {
     "name": "stdout",
     "output_type": "stream",
     "text": [
      "3\n",
      "6144\n"
     ]
    }
   ],
   "source": [
    "print generator._gridDim\n",
    "print generator._gridDim * generator._MAX_THREADS_BLOCK * generator._PPT"
   ]
  },
  {
   "cell_type": "markdown",
   "metadata": {},
   "source": [
    "sklearn 15.x\n",
    "mykm 2.66 1 ppt\n",
    "mykm "
   ]
  },
  {
   "cell_type": "code",
   "execution_count": 84,
   "metadata": {
    "collapsed": false
   },
   "outputs": [
    {
     "name": "stdout",
     "output_type": "stream",
     "text": [
      "CPU times: user 667 ms, sys: 24 ms, total: 691 ms\n",
      "Wall time: 399 ms\n"
     ]
    }
   ],
   "source": [
    "eacEst = eac.EAC(n_samples=n_samples, mat_sparse=False)\n",
    "%time eacEst.fit(ensemble, assoc_mode=assoc_mode, prot_mode=prot_mode)"
   ]
  },
  {
   "cell_type": "code",
   "execution_count": 85,
   "metadata": {
    "collapsed": false
   },
   "outputs": [
    {
     "data": {
      "text/plain": [
       "array([[  424.,   481.],\n",
       "       [ 1110.,  1344.],\n",
       "       [  140.,  1307.],\n",
       "       ..., \n",
       "       [ 2363.,  3113.],\n",
       "       [ 1043.,  3114.],\n",
       "       [ 1580.,  3115.]])"
      ]
     },
     "execution_count": 85,
     "metadata": {},
     "output_type": "execute_result"
    }
   ],
   "source": [
    "Z = eacEst._apply_linkage()\n",
    "Z[:,:2]"
   ]
  },
  {
   "cell_type": "code",
   "execution_count": 102,
   "metadata": {
    "collapsed": true
   },
   "outputs": [],
   "source": [
    "true_n_clusters=0"
   ]
  },
  {
   "cell_type": "code",
   "execution_count": 86,
   "metadata": {
    "collapsed": false
   },
   "outputs": [
    {
     "name": "stdout",
     "output_type": "stream",
     "text": [
      "CPU times: user 83.3 ms, sys: 0 ns, total: 83.3 ms\n",
      "Wall time: 82.4 ms\n",
      "CPU times: user 17.2 ms, sys: 43 µs, total: 17.3 ms\n",
      "Wall time: 16.2 ms\n",
      "0.616420782553\n"
     ]
    }
   ],
   "source": [
    "%time labels = eacEst._lifetime_clustering(n_clusters=true_n_clusters)\n",
    "accEst = accuracy.HungarianIndex(nsamples=n_samples)\n",
    "%time accEst.score(gt, labels)\n",
    "print accEst.accuracy"
   ]
  },
  {
   "cell_type": "code",
   "execution_count": 66,
   "metadata": {
    "collapsed": false
   },
   "outputs": [
    {
     "name": "stdout",
     "output_type": "stream",
     "text": [
      "0 959\n",
      "1 959\n"
     ]
    }
   ],
   "source": [
    "for l in np.unique(gt):\n",
    "    print l, (gt==l).sum()"
   ]
  },
  {
   "cell_type": "code",
   "execution_count": 87,
   "metadata": {
    "collapsed": false
   },
   "outputs": [
    {
     "name": "stdout",
     "output_type": "stream",
     "text": [
      "0 2\n",
      "1 1557\n"
     ]
    }
   ],
   "source": [
    "for l in np.unique(labels):\n",
    "    print l, (labels==l).sum()"
   ]
  },
  {
   "cell_type": "code",
   "execution_count": 67,
   "metadata": {
    "collapsed": false
   },
   "outputs": [],
   "source": [
    "true_n_clusters = 0"
   ]
  },
  {
   "cell_type": "code",
   "execution_count": 68,
   "metadata": {
    "collapsed": false
   },
   "outputs": [
    {
     "name": "stdout",
     "output_type": "stream",
     "text": [
      ". . . . . . . . . . . . . . . . . . . . \n",
      ". . . . . . . . . . . . . . . . . . . . MAX ACCURACY= 0.777623349548\n"
     ]
    },
    {
     "data": {
      "text/html": [
       "<div style=\"max-height:1000px;max-width:1500px;overflow:auto;\">\n",
       "<table border=\"1\" class=\"dataframe\">\n",
       "  <thead>\n",
       "    <tr style=\"text-align: right;\">\n",
       "      <th></th>\n",
       "      <th>threshold</th>\n",
       "      <th>max assoc</th>\n",
       "      <th>n assocs</th>\n",
       "      <th>accuracy</th>\n",
       "      <th>round</th>\n",
       "      <th>n_clusts</th>\n",
       "    </tr>\n",
       "  </thead>\n",
       "  <tbody>\n",
       "    <tr>\n",
       "      <th>0</th>\n",
       "      <td>0.00</td>\n",
       "      <td>1161</td>\n",
       "      <td>2992955</td>\n",
       "      <td>0.777623</td>\n",
       "      <td>0</td>\n",
       "      <td>2</td>\n",
       "    </tr>\n",
       "    <tr>\n",
       "      <th>1</th>\n",
       "      <td>0.05</td>\n",
       "      <td>756</td>\n",
       "      <td>1874437</td>\n",
       "      <td>0.777623</td>\n",
       "      <td>0</td>\n",
       "      <td>2</td>\n",
       "    </tr>\n",
       "    <tr>\n",
       "      <th>2</th>\n",
       "      <td>0.10</td>\n",
       "      <td>569</td>\n",
       "      <td>1412169</td>\n",
       "      <td>0.777623</td>\n",
       "      <td>0</td>\n",
       "      <td>2</td>\n",
       "    </tr>\n",
       "    <tr>\n",
       "      <th>3</th>\n",
       "      <td>0.15</td>\n",
       "      <td>479</td>\n",
       "      <td>1129645</td>\n",
       "      <td>0.777623</td>\n",
       "      <td>0</td>\n",
       "      <td>2</td>\n",
       "    </tr>\n",
       "    <tr>\n",
       "      <th>4</th>\n",
       "      <td>0.20</td>\n",
       "      <td>387</td>\n",
       "      <td>923003</td>\n",
       "      <td>0.777623</td>\n",
       "      <td>0</td>\n",
       "      <td>2</td>\n",
       "    </tr>\n",
       "    <tr>\n",
       "      <th>5</th>\n",
       "      <td>0.25</td>\n",
       "      <td>321</td>\n",
       "      <td>761271</td>\n",
       "      <td>0.777623</td>\n",
       "      <td>0</td>\n",
       "      <td>2</td>\n",
       "    </tr>\n",
       "    <tr>\n",
       "      <th>6</th>\n",
       "      <td>0.30</td>\n",
       "      <td>264</td>\n",
       "      <td>629641</td>\n",
       "      <td>0.777623</td>\n",
       "      <td>0</td>\n",
       "      <td>2</td>\n",
       "    </tr>\n",
       "    <tr>\n",
       "      <th>7</th>\n",
       "      <td>0.35</td>\n",
       "      <td>233</td>\n",
       "      <td>518523</td>\n",
       "      <td>0.777623</td>\n",
       "      <td>0</td>\n",
       "      <td>2</td>\n",
       "    </tr>\n",
       "    <tr>\n",
       "      <th>8</th>\n",
       "      <td>0.40</td>\n",
       "      <td>207</td>\n",
       "      <td>424195</td>\n",
       "      <td>0.777623</td>\n",
       "      <td>0</td>\n",
       "      <td>2</td>\n",
       "    </tr>\n",
       "    <tr>\n",
       "      <th>9</th>\n",
       "      <td>0.45</td>\n",
       "      <td>190</td>\n",
       "      <td>344023</td>\n",
       "      <td>0.777623</td>\n",
       "      <td>0</td>\n",
       "      <td>2</td>\n",
       "    </tr>\n",
       "    <tr>\n",
       "      <th>10</th>\n",
       "      <td>0.50</td>\n",
       "      <td>169</td>\n",
       "      <td>274889</td>\n",
       "      <td>0.777392</td>\n",
       "      <td>0</td>\n",
       "      <td>3</td>\n",
       "    </tr>\n",
       "    <tr>\n",
       "      <th>11</th>\n",
       "      <td>0.55</td>\n",
       "      <td>145</td>\n",
       "      <td>216929</td>\n",
       "      <td>0.776928</td>\n",
       "      <td>0</td>\n",
       "      <td>5</td>\n",
       "    </tr>\n",
       "    <tr>\n",
       "      <th>12</th>\n",
       "      <td>0.60</td>\n",
       "      <td>116</td>\n",
       "      <td>167605</td>\n",
       "      <td>0.773917</td>\n",
       "      <td>0</td>\n",
       "      <td>15</td>\n",
       "    </tr>\n",
       "    <tr>\n",
       "      <th>13</th>\n",
       "      <td>0.65</td>\n",
       "      <td>100</td>\n",
       "      <td>125645</td>\n",
       "      <td>0.766273</td>\n",
       "      <td>0</td>\n",
       "      <td>43</td>\n",
       "    </tr>\n",
       "    <tr>\n",
       "      <th>14</th>\n",
       "      <td>0.70</td>\n",
       "      <td>81</td>\n",
       "      <td>91273</td>\n",
       "      <td>0.755386</td>\n",
       "      <td>0</td>\n",
       "      <td>86</td>\n",
       "    </tr>\n",
       "    <tr>\n",
       "      <th>15</th>\n",
       "      <td>0.75</td>\n",
       "      <td>62</td>\n",
       "      <td>63223</td>\n",
       "      <td>-1.000000</td>\n",
       "      <td>0</td>\n",
       "      <td>206</td>\n",
       "    </tr>\n",
       "    <tr>\n",
       "      <th>16</th>\n",
       "      <td>0.80</td>\n",
       "      <td>51</td>\n",
       "      <td>41579</td>\n",
       "      <td>-1.000000</td>\n",
       "      <td>0</td>\n",
       "      <td>504</td>\n",
       "    </tr>\n",
       "    <tr>\n",
       "      <th>17</th>\n",
       "      <td>0.85</td>\n",
       "      <td>36</td>\n",
       "      <td>25401</td>\n",
       "      <td>-1.000000</td>\n",
       "      <td>0</td>\n",
       "      <td>1163</td>\n",
       "    </tr>\n",
       "    <tr>\n",
       "      <th>18</th>\n",
       "      <td>0.90</td>\n",
       "      <td>23</td>\n",
       "      <td>14269</td>\n",
       "      <td>-1.000000</td>\n",
       "      <td>0</td>\n",
       "      <td>2179</td>\n",
       "    </tr>\n",
       "    <tr>\n",
       "      <th>19</th>\n",
       "      <td>0.95</td>\n",
       "      <td>13</td>\n",
       "      <td>7765</td>\n",
       "      <td>-1.000000</td>\n",
       "      <td>0</td>\n",
       "      <td>3246</td>\n",
       "    </tr>\n",
       "    <tr>\n",
       "      <th>20</th>\n",
       "      <td>1.00</td>\n",
       "      <td>5</td>\n",
       "      <td>5271</td>\n",
       "      <td>-1.000000</td>\n",
       "      <td>0</td>\n",
       "      <td>3898</td>\n",
       "    </tr>\n",
       "    <tr>\n",
       "      <th>21</th>\n",
       "      <td>0.00</td>\n",
       "      <td>1157</td>\n",
       "      <td>2907841</td>\n",
       "      <td>0.777392</td>\n",
       "      <td>1</td>\n",
       "      <td>3</td>\n",
       "    </tr>\n",
       "    <tr>\n",
       "      <th>22</th>\n",
       "      <td>0.05</td>\n",
       "      <td>685</td>\n",
       "      <td>1823803</td>\n",
       "      <td>0.777392</td>\n",
       "      <td>1</td>\n",
       "      <td>3</td>\n",
       "    </tr>\n",
       "    <tr>\n",
       "      <th>23</th>\n",
       "      <td>0.10</td>\n",
       "      <td>558</td>\n",
       "      <td>1377829</td>\n",
       "      <td>0.777392</td>\n",
       "      <td>1</td>\n",
       "      <td>3</td>\n",
       "    </tr>\n",
       "    <tr>\n",
       "      <th>24</th>\n",
       "      <td>0.15</td>\n",
       "      <td>450</td>\n",
       "      <td>1105509</td>\n",
       "      <td>0.777392</td>\n",
       "      <td>1</td>\n",
       "      <td>3</td>\n",
       "    </tr>\n",
       "    <tr>\n",
       "      <th>25</th>\n",
       "      <td>0.20</td>\n",
       "      <td>365</td>\n",
       "      <td>907021</td>\n",
       "      <td>0.777392</td>\n",
       "      <td>1</td>\n",
       "      <td>3</td>\n",
       "    </tr>\n",
       "    <tr>\n",
       "      <th>26</th>\n",
       "      <td>0.25</td>\n",
       "      <td>300</td>\n",
       "      <td>750443</td>\n",
       "      <td>0.777392</td>\n",
       "      <td>1</td>\n",
       "      <td>3</td>\n",
       "    </tr>\n",
       "    <tr>\n",
       "      <th>27</th>\n",
       "      <td>0.30</td>\n",
       "      <td>255</td>\n",
       "      <td>620843</td>\n",
       "      <td>0.777392</td>\n",
       "      <td>1</td>\n",
       "      <td>3</td>\n",
       "    </tr>\n",
       "    <tr>\n",
       "      <th>28</th>\n",
       "      <td>0.35</td>\n",
       "      <td>231</td>\n",
       "      <td>513063</td>\n",
       "      <td>0.777392</td>\n",
       "      <td>1</td>\n",
       "      <td>3</td>\n",
       "    </tr>\n",
       "    <tr>\n",
       "      <th>29</th>\n",
       "      <td>0.40</td>\n",
       "      <td>204</td>\n",
       "      <td>420757</td>\n",
       "      <td>0.777392</td>\n",
       "      <td>1</td>\n",
       "      <td>3</td>\n",
       "    </tr>\n",
       "    <tr>\n",
       "      <th>...</th>\n",
       "      <td>...</td>\n",
       "      <td>...</td>\n",
       "      <td>...</td>\n",
       "      <td>...</td>\n",
       "      <td>...</td>\n",
       "      <td>...</td>\n",
       "    </tr>\n",
       "    <tr>\n",
       "      <th>390</th>\n",
       "      <td>0.60</td>\n",
       "      <td>139</td>\n",
       "      <td>181587</td>\n",
       "      <td>0.774612</td>\n",
       "      <td>18</td>\n",
       "      <td>14</td>\n",
       "    </tr>\n",
       "    <tr>\n",
       "      <th>391</th>\n",
       "      <td>0.65</td>\n",
       "      <td>114</td>\n",
       "      <td>136273</td>\n",
       "      <td>0.768589</td>\n",
       "      <td>18</td>\n",
       "      <td>28</td>\n",
       "    </tr>\n",
       "    <tr>\n",
       "      <th>392</th>\n",
       "      <td>0.70</td>\n",
       "      <td>85</td>\n",
       "      <td>99049</td>\n",
       "      <td>0.747510</td>\n",
       "      <td>18</td>\n",
       "      <td>87</td>\n",
       "    </tr>\n",
       "    <tr>\n",
       "      <th>393</th>\n",
       "      <td>0.75</td>\n",
       "      <td>65</td>\n",
       "      <td>69385</td>\n",
       "      <td>-1.000000</td>\n",
       "      <td>18</td>\n",
       "      <td>193</td>\n",
       "    </tr>\n",
       "    <tr>\n",
       "      <th>394</th>\n",
       "      <td>0.80</td>\n",
       "      <td>47</td>\n",
       "      <td>45991</td>\n",
       "      <td>-1.000000</td>\n",
       "      <td>18</td>\n",
       "      <td>479</td>\n",
       "    </tr>\n",
       "    <tr>\n",
       "      <th>395</th>\n",
       "      <td>0.85</td>\n",
       "      <td>37</td>\n",
       "      <td>28347</td>\n",
       "      <td>-1.000000</td>\n",
       "      <td>18</td>\n",
       "      <td>1086</td>\n",
       "    </tr>\n",
       "    <tr>\n",
       "      <th>396</th>\n",
       "      <td>0.90</td>\n",
       "      <td>26</td>\n",
       "      <td>15883</td>\n",
       "      <td>-1.000000</td>\n",
       "      <td>18</td>\n",
       "      <td>2048</td>\n",
       "    </tr>\n",
       "    <tr>\n",
       "      <th>397</th>\n",
       "      <td>0.95</td>\n",
       "      <td>13</td>\n",
       "      <td>8129</td>\n",
       "      <td>-1.000000</td>\n",
       "      <td>18</td>\n",
       "      <td>3148</td>\n",
       "    </tr>\n",
       "    <tr>\n",
       "      <th>398</th>\n",
       "      <td>1.00</td>\n",
       "      <td>4</td>\n",
       "      <td>5269</td>\n",
       "      <td>-1.000000</td>\n",
       "      <td>18</td>\n",
       "      <td>3891</td>\n",
       "    </tr>\n",
       "    <tr>\n",
       "      <th>399</th>\n",
       "      <td>0.00</td>\n",
       "      <td>1114</td>\n",
       "      <td>3015729</td>\n",
       "      <td>0.777623</td>\n",
       "      <td>19</td>\n",
       "      <td>2</td>\n",
       "    </tr>\n",
       "    <tr>\n",
       "      <th>400</th>\n",
       "      <td>0.05</td>\n",
       "      <td>711</td>\n",
       "      <td>1919825</td>\n",
       "      <td>0.777623</td>\n",
       "      <td>19</td>\n",
       "      <td>2</td>\n",
       "    </tr>\n",
       "    <tr>\n",
       "      <th>401</th>\n",
       "      <td>0.10</td>\n",
       "      <td>541</td>\n",
       "      <td>1450437</td>\n",
       "      <td>0.777623</td>\n",
       "      <td>19</td>\n",
       "      <td>2</td>\n",
       "    </tr>\n",
       "    <tr>\n",
       "      <th>402</th>\n",
       "      <td>0.15</td>\n",
       "      <td>427</td>\n",
       "      <td>1166765</td>\n",
       "      <td>0.777623</td>\n",
       "      <td>19</td>\n",
       "      <td>2</td>\n",
       "    </tr>\n",
       "    <tr>\n",
       "      <th>403</th>\n",
       "      <td>0.20</td>\n",
       "      <td>361</td>\n",
       "      <td>958693</td>\n",
       "      <td>0.777623</td>\n",
       "      <td>19</td>\n",
       "      <td>2</td>\n",
       "    </tr>\n",
       "    <tr>\n",
       "      <th>404</th>\n",
       "      <td>0.25</td>\n",
       "      <td>294</td>\n",
       "      <td>794781</td>\n",
       "      <td>0.777623</td>\n",
       "      <td>19</td>\n",
       "      <td>2</td>\n",
       "    </tr>\n",
       "    <tr>\n",
       "      <th>405</th>\n",
       "      <td>0.30</td>\n",
       "      <td>260</td>\n",
       "      <td>659607</td>\n",
       "      <td>0.777623</td>\n",
       "      <td>19</td>\n",
       "      <td>2</td>\n",
       "    </tr>\n",
       "    <tr>\n",
       "      <th>406</th>\n",
       "      <td>0.35</td>\n",
       "      <td>240</td>\n",
       "      <td>545229</td>\n",
       "      <td>0.777623</td>\n",
       "      <td>19</td>\n",
       "      <td>2</td>\n",
       "    </tr>\n",
       "    <tr>\n",
       "      <th>407</th>\n",
       "      <td>0.40</td>\n",
       "      <td>216</td>\n",
       "      <td>447497</td>\n",
       "      <td>0.777623</td>\n",
       "      <td>19</td>\n",
       "      <td>2</td>\n",
       "    </tr>\n",
       "    <tr>\n",
       "      <th>408</th>\n",
       "      <td>0.45</td>\n",
       "      <td>186</td>\n",
       "      <td>363527</td>\n",
       "      <td>0.777623</td>\n",
       "      <td>19</td>\n",
       "      <td>2</td>\n",
       "    </tr>\n",
       "    <tr>\n",
       "      <th>409</th>\n",
       "      <td>0.50</td>\n",
       "      <td>156</td>\n",
       "      <td>291901</td>\n",
       "      <td>0.777392</td>\n",
       "      <td>19</td>\n",
       "      <td>3</td>\n",
       "    </tr>\n",
       "    <tr>\n",
       "      <th>410</th>\n",
       "      <td>0.55</td>\n",
       "      <td>122</td>\n",
       "      <td>229567</td>\n",
       "      <td>0.774612</td>\n",
       "      <td>19</td>\n",
       "      <td>7</td>\n",
       "    </tr>\n",
       "    <tr>\n",
       "      <th>411</th>\n",
       "      <td>0.60</td>\n",
       "      <td>105</td>\n",
       "      <td>177419</td>\n",
       "      <td>0.773454</td>\n",
       "      <td>19</td>\n",
       "      <td>13</td>\n",
       "    </tr>\n",
       "    <tr>\n",
       "      <th>412</th>\n",
       "      <td>0.65</td>\n",
       "      <td>85</td>\n",
       "      <td>133807</td>\n",
       "      <td>0.767199</td>\n",
       "      <td>19</td>\n",
       "      <td>38</td>\n",
       "    </tr>\n",
       "    <tr>\n",
       "      <th>413</th>\n",
       "      <td>0.70</td>\n",
       "      <td>75</td>\n",
       "      <td>97603</td>\n",
       "      <td>0.757239</td>\n",
       "      <td>19</td>\n",
       "      <td>73</td>\n",
       "    </tr>\n",
       "    <tr>\n",
       "      <th>414</th>\n",
       "      <td>0.75</td>\n",
       "      <td>63</td>\n",
       "      <td>68581</td>\n",
       "      <td>-1.000000</td>\n",
       "      <td>19</td>\n",
       "      <td>212</td>\n",
       "    </tr>\n",
       "    <tr>\n",
       "      <th>415</th>\n",
       "      <td>0.80</td>\n",
       "      <td>50</td>\n",
       "      <td>45281</td>\n",
       "      <td>-1.000000</td>\n",
       "      <td>19</td>\n",
       "      <td>451</td>\n",
       "    </tr>\n",
       "    <tr>\n",
       "      <th>416</th>\n",
       "      <td>0.85</td>\n",
       "      <td>42</td>\n",
       "      <td>27833</td>\n",
       "      <td>-1.000000</td>\n",
       "      <td>19</td>\n",
       "      <td>1058</td>\n",
       "    </tr>\n",
       "    <tr>\n",
       "      <th>417</th>\n",
       "      <td>0.90</td>\n",
       "      <td>25</td>\n",
       "      <td>15537</td>\n",
       "      <td>-1.000000</td>\n",
       "      <td>19</td>\n",
       "      <td>2070</td>\n",
       "    </tr>\n",
       "    <tr>\n",
       "      <th>418</th>\n",
       "      <td>0.95</td>\n",
       "      <td>18</td>\n",
       "      <td>8125</td>\n",
       "      <td>-1.000000</td>\n",
       "      <td>19</td>\n",
       "      <td>3177</td>\n",
       "    </tr>\n",
       "    <tr>\n",
       "      <th>419</th>\n",
       "      <td>1.00</td>\n",
       "      <td>5</td>\n",
       "      <td>5279</td>\n",
       "      <td>-1.000000</td>\n",
       "      <td>19</td>\n",
       "      <td>3895</td>\n",
       "    </tr>\n",
       "  </tbody>\n",
       "</table>\n",
       "<p>420 rows × 6 columns</p>\n",
       "</div>"
      ],
      "text/plain": [
       "     threshold  max assoc  n assocs  accuracy  round  n_clusts\n",
       "0         0.00       1161   2992955  0.777623      0         2\n",
       "1         0.05        756   1874437  0.777623      0         2\n",
       "2         0.10        569   1412169  0.777623      0         2\n",
       "3         0.15        479   1129645  0.777623      0         2\n",
       "4         0.20        387    923003  0.777623      0         2\n",
       "5         0.25        321    761271  0.777623      0         2\n",
       "6         0.30        264    629641  0.777623      0         2\n",
       "7         0.35        233    518523  0.777623      0         2\n",
       "8         0.40        207    424195  0.777623      0         2\n",
       "9         0.45        190    344023  0.777623      0         2\n",
       "10        0.50        169    274889  0.777392      0         3\n",
       "11        0.55        145    216929  0.776928      0         5\n",
       "12        0.60        116    167605  0.773917      0        15\n",
       "13        0.65        100    125645  0.766273      0        43\n",
       "14        0.70         81     91273  0.755386      0        86\n",
       "15        0.75         62     63223 -1.000000      0       206\n",
       "16        0.80         51     41579 -1.000000      0       504\n",
       "17        0.85         36     25401 -1.000000      0      1163\n",
       "18        0.90         23     14269 -1.000000      0      2179\n",
       "19        0.95         13      7765 -1.000000      0      3246\n",
       "20        1.00          5      5271 -1.000000      0      3898\n",
       "21        0.00       1157   2907841  0.777392      1         3\n",
       "22        0.05        685   1823803  0.777392      1         3\n",
       "23        0.10        558   1377829  0.777392      1         3\n",
       "24        0.15        450   1105509  0.777392      1         3\n",
       "25        0.20        365    907021  0.777392      1         3\n",
       "26        0.25        300    750443  0.777392      1         3\n",
       "27        0.30        255    620843  0.777392      1         3\n",
       "28        0.35        231    513063  0.777392      1         3\n",
       "29        0.40        204    420757  0.777392      1         3\n",
       "..         ...        ...       ...       ...    ...       ...\n",
       "390       0.60        139    181587  0.774612     18        14\n",
       "391       0.65        114    136273  0.768589     18        28\n",
       "392       0.70         85     99049  0.747510     18        87\n",
       "393       0.75         65     69385 -1.000000     18       193\n",
       "394       0.80         47     45991 -1.000000     18       479\n",
       "395       0.85         37     28347 -1.000000     18      1086\n",
       "396       0.90         26     15883 -1.000000     18      2048\n",
       "397       0.95         13      8129 -1.000000     18      3148\n",
       "398       1.00          4      5269 -1.000000     18      3891\n",
       "399       0.00       1114   3015729  0.777623     19         2\n",
       "400       0.05        711   1919825  0.777623     19         2\n",
       "401       0.10        541   1450437  0.777623     19         2\n",
       "402       0.15        427   1166765  0.777623     19         2\n",
       "403       0.20        361    958693  0.777623     19         2\n",
       "404       0.25        294    794781  0.777623     19         2\n",
       "405       0.30        260    659607  0.777623     19         2\n",
       "406       0.35        240    545229  0.777623     19         2\n",
       "407       0.40        216    447497  0.777623     19         2\n",
       "408       0.45        186    363527  0.777623     19         2\n",
       "409       0.50        156    291901  0.777392     19         3\n",
       "410       0.55        122    229567  0.774612     19         7\n",
       "411       0.60        105    177419  0.773454     19        13\n",
       "412       0.65         85    133807  0.767199     19        38\n",
       "413       0.70         75     97603  0.757239     19        73\n",
       "414       0.75         63     68581 -1.000000     19       212\n",
       "415       0.80         50     45281 -1.000000     19       451\n",
       "416       0.85         42     27833 -1.000000     19      1058\n",
       "417       0.90         25     15537 -1.000000     19      2070\n",
       "418       0.95         18      8125 -1.000000     19      3177\n",
       "419       1.00          5      5279 -1.000000     19      3895\n",
       "\n",
       "[420 rows x 6 columns]"
      ]
     },
     "execution_count": 68,
     "metadata": {},
     "output_type": "execute_result"
    }
   ],
   "source": [
    "thresholds = np.arange(0.05,1.01,0.05)\n",
    "res = np.empty(((thresholds.size + 1) * rounds, 5))\n",
    "# threshold, max_assocs, n_assocs, acc\n",
    "n_cluster_ary = np.empty((thresholds.size + 1) * rounds, dtype=np.int32)\n",
    "\n",
    "#progress bar\n",
    "print \". \" * rounds\n",
    "\n",
    "i = 0\n",
    "for r in range(rounds):\n",
    "    \n",
    "    print \".\",\n",
    "\n",
    "    ensemble = mpart.generateEnsemble(data, generator, n_clusters=n_clusters, npartitions=n_partitions, iters=3)\n",
    "\n",
    "    eacEst = eac.EAC(n_samples=n_samples, mat_sparse=False)\n",
    "    eacEst.fit(ensemble, assoc_mode=assoc_mode, prot_mode=prot_mode)\n",
    "\n",
    "    max_assocs, max_idx = eacEst.getMaxAssocs()\n",
    "    n_assocs = eacEst.getNNZAssocs()\n",
    "    labels = eacEst._lifetime_clustering(n_clusters=true_n_clusters)\n",
    "    accEst = accuracy.HungarianIndex(nsamples=n_samples)\n",
    "    \n",
    "    # HungarianIndex takes a huge time for a high cluster imbalance\n",
    "    if np.unique(labels).size > max_clusts:\n",
    "        accEst.accuracy = -1\n",
    "    else:\n",
    "        accEst.score(gt, labels)\n",
    "\n",
    "    res[i, 0] = 0\n",
    "    res[i, 1] = max_assocs\n",
    "    res[i, 2] = n_assocs\n",
    "    res[i, 3] = accEst.accuracy\n",
    "    res[i, 4] = r\n",
    "    n_cluster_ary[i] = np.unique(labels).size\n",
    "    i += 1\n",
    "\n",
    "    for j in range(thresholds.size):\n",
    "\n",
    "        eacEst.apply_threshold(thresholds[j])\n",
    "\n",
    "        max_assocs, max_idx = eacEst.getMaxAssocs()\n",
    "        n_assocs = eacEst.getNNZAssocs()\n",
    "        \n",
    "        labels = eacEst._lifetime_clustering(n_clusters=true_n_clusters)\n",
    "        \n",
    "        accEst = accuracy.HungarianIndex(nsamples=n_samples)\n",
    "        \n",
    "        if np.unique(labels).size > max_clusts:\n",
    "            accEst.accuracy = -1\n",
    "        else:\n",
    "            accEst.score(gt, labels)        \n",
    "\n",
    "        max_assocs, max_idx = eacEst.getMaxAssocs()\n",
    "        nnz_pc = eacEst.getNNZAssocs()\n",
    "\n",
    "        res[i, 0] = thresholds[j]\n",
    "        res[i, 1] = max_assocs\n",
    "        res[i, 2] = nnz_pc\n",
    "        res[i, 3] = accEst.accuracy\n",
    "        res[i, 4] = r\n",
    "        \n",
    "        n_cluster_ary[i] = np.unique(labels).size\n",
    "        \n",
    "        i += 1\n",
    "\n",
    "resPD = pd.DataFrame(data=res, columns=[\"threshold\", \"max assoc\", \"n assocs\", \"accuracy\", \"round\"])\n",
    "print \"MAX ACCURACY=\", resPD['accuracy'].max()\n",
    "if true_n_clusters == 0:\n",
    "    resPD['n_clusts']=n_cluster_ary\n",
    "resPD"
   ]
  },
  {
   "cell_type": "code",
   "execution_count": 922,
   "metadata": {
    "collapsed": false
   },
   "outputs": [
    {
     "name": "stdout",
     "output_type": "stream",
     "text": [
      "/home/diogoaos/QCThesis/datasets/ionosphere/ionosphere.data\n"
     ]
    }
   ],
   "source": [
    "print dataname"
   ]
  },
  {
   "cell_type": "code",
   "execution_count": 923,
   "metadata": {
    "collapsed": false
   },
   "outputs": [],
   "source": [
    "save_folder = \"/home/diogoaos/QCThesis/experiments/threshold/\"\n",
    "save_name = \"ionosphere_lifetime\""
   ]
  },
  {
   "cell_type": "code",
   "execution_count": 924,
   "metadata": {
    "collapsed": true
   },
   "outputs": [],
   "source": [
    "resPD.to_csv(path_or_buf = save_folder + save_name + \".csv\", index=False)"
   ]
  }
 ],
 "metadata": {
  "kernelspec": {
   "display_name": "Python 2",
   "language": "python",
   "name": "python2"
  },
  "language_info": {
   "codemirror_mode": {
    "name": "ipython",
    "version": 2
   },
   "file_extension": ".py",
   "mimetype": "text/x-python",
   "name": "python",
   "nbconvert_exporter": "python",
   "pygments_lexer": "ipython2",
   "version": "2.7.10"
  }
 },
 "nbformat": 4,
 "nbformat_minor": 0
}
