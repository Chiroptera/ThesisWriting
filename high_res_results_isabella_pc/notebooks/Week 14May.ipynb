{
 "cells": [
  {
   "cell_type": "markdown",
   "metadata": {},
   "source": [
    "author: Diogo Silva"
   ]
  },
  {
   "cell_type": "code",
   "execution_count": 1,
   "metadata": {
    "collapsed": false
   },
   "outputs": [
    {
     "name": "stdout",
     "output_type": "stream",
     "text": [
      "Populating the interactive namespace from numpy and matplotlib\n"
     ]
    }
   ],
   "source": [
    "%pylab inline"
   ]
  },
  {
   "cell_type": "code",
   "execution_count": 3,
   "metadata": {
    "collapsed": false
   },
   "outputs": [
    {
     "name": "stdout",
     "output_type": "stream",
     "text": [
      "/home/chiroptera/workspace/QCThesis\n"
     ]
    }
   ],
   "source": [
    "cd ~/QCThesis/"
   ]
  },
  {
   "cell_type": "code",
   "execution_count": 4,
   "metadata": {
    "collapsed": false
   },
   "outputs": [],
   "source": [
    "import seaborn as sns\n",
    "from sklearn.cluster import KMeans as KMeans_skl\n",
    "import MyML.cluster.eac as eac\n",
    "import MyML.cluster.K_Means3 as K_Means\n",
    "import MyML.metrics.accuracy as accuracy"
   ]
  },
  {
   "cell_type": "code",
   "execution_count": null,
   "metadata": {
    "collapsed": true
   },
   "outputs": [],
   "source": [
    "center1=(0,0)\n",
    "center2=(10,10)\n",
    "\n",
    "cov1=1\n",
    "cov2=1\n",
    "\n",
    "n1=100\n",
    "n2=100\n",
    "nsamples=n1+n2\n",
    "dim=2\n",
    "\n",
    "g1 = np.random.normal(loc=center1,scale=cov1,size=(n1,dim))\n",
    "g2 = np.random.normal(loc=center2,scale=cov2,size=(n2,dim))\n",
    "\n",
    "data = np.vstack((g1,g2))\n",
    "gt=np.zeros(data.shape[0],dtype=np.int32)\n",
    "gt[100:]=1\n",
    "\n",
    "figData=plt.figure()\n",
    "plt.plot(g1[:,0],g1[:,1],'.')\n",
    "plt.plot(g2[:,0],g2[:,1],'.')"
   ]
  }
 ],
 "metadata": {
  "kernelspec": {
   "display_name": "Python 2",
   "language": "python",
   "name": "python2"
  },
  "language_info": {
   "codemirror_mode": {
    "name": "ipython",
    "version": 2
   },
   "file_extension": ".py",
   "mimetype": "text/x-python",
   "name": "python",
   "nbconvert_exporter": "python",
   "pygments_lexer": "ipython2",
   "version": "2.7.9"
  }
 },
 "nbformat": 4,
 "nbformat_minor": 0
}
