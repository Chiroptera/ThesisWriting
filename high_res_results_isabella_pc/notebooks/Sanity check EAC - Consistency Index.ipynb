{
 "cells": [
  {
   "cell_type": "markdown",
   "metadata": {},
   "source": [
    "author: Diogo Silva\n",
    "\n",
    "I'll analyze a small dataset of a gaussian mix with very well separated clusters. 6 clusters. 30 partitions will form an ensemble. The partitions' number of clusters will vary."
   ]
  },
  {
   "cell_type": "code",
   "execution_count": 1,
   "metadata": {
    "collapsed": false
   },
   "outputs": [
    {
     "name": "stdout",
     "output_type": "stream",
     "text": [
      "Populating the interactive namespace from numpy and matplotlib\n"
     ]
    }
   ],
   "source": [
    "%pylab inline\n",
    "#%qtconsole"
   ]
  },
  {
   "cell_type": "code",
   "execution_count": 9,
   "metadata": {
    "collapsed": true
   },
   "outputs": [],
   "source": [
    "home = %env HOME"
   ]
  },
  {
   "cell_type": "code",
   "execution_count": 11,
   "metadata": {
    "collapsed": false
   },
   "outputs": [
    {
     "name": "stdout",
     "output_type": "stream",
     "text": [
      "/home/chiroptera/workspace/QCThesis\n"
     ]
    }
   ],
   "source": [
    "cd $home/QCThesis/"
   ]
  },
  {
   "cell_type": "code",
   "execution_count": 12,
   "metadata": {
    "collapsed": false
   },
   "outputs": [
    {
     "data": {
      "text/plain": [
       "<module 'hadock.metrics.accuracy' from 'hadock/metrics/accuracy.pyc'>"
      ]
     },
     "execution_count": 12,
     "metadata": {},
     "output_type": "execute_result"
    }
   ],
   "source": [
    "from sklearn.cluster import KMeans as KMeans_skl\n",
    "import MyML.cluster.eac as eac\n",
    "reload(eac)\n",
    "import MyML.cluster.K_Means3 as K_Means3\n",
    "reload(K_Means3)\n",
    "import MyML.metrics.accuracy as determine_ci\n",
    "reload(determine_ci)"
   ]
  },
  {
   "cell_type": "code",
   "execution_count": 5,
   "metadata": {
    "collapsed": true
   },
   "outputs": [],
   "source": [
    "def k_analysis(partition_files,ground_truth,nprots,iters=\"converge\",rounds=20):\n",
    "    \n",
    "    all_acc = list()\n",
    "    \n",
    "    for r in xrange(rounds):\n",
    "        prot_mode=\"random\"\n",
    "\n",
    "        estimator=eac.EAC(nsamples)\n",
    "        estimator.fit(partition_files,files=True,assoc_mode='prot', prot_mode=prot_mode, nprot=nprots,build_only=True)\n",
    "\n",
    "        kmeans_mode = \"numpy\"\n",
    "        nclusters = np.unique(ground_truth).shape[0]\n",
    "\n",
    "        grouper = K_Means3.K_Means()\n",
    "        grouper._centroid_mode = \"index\"\n",
    "        grouper.fit(estimator._coassoc, nclusters, iters=iters, mode=kmeans_mode, cuda_mem='manual',tol=1e-4,max_iters=300)\n",
    "\n",
    "        ci=determine_ci.ConsistencyIndex(N=nsamples)\n",
    "        accuracy=ci.score(ground_truth,grouper.labels_,format='array')\n",
    "        all_acc.append(accuracy)\n",
    "    return np.mean(all_acc),np.var(all_acc),np.max(all_acc),np.min(all_acc)\n",
    "\n",
    "def k_skl_analysis(partition_files,ground_truth,nprots,iters=\"converge\",rounds=20):\n",
    "    \n",
    "    all_acc = list()\n",
    "    \n",
    "    for r in xrange(rounds):\n",
    "        prot_mode=\"random\"\n",
    "\n",
    "        estimator=eac.EAC(nsamples)\n",
    "        estimator.fit(partition_files,files=True,assoc_mode='prot', prot_mode=prot_mode, nprot=nprots,build_only=True)\n",
    "\n",
    "        kmeans_mode = \"numpy\"\n",
    "        nclusters = np.unique(ground_truth).shape[0]\n",
    "\n",
    "\n",
    "        grouper = KMeans(n_clusters=nclusters,n_init=1,init=\"random\")\n",
    "        grouper.fit(estimator._coassoc)\n",
    "        \n",
    "        ci=determine_ci.ConsistencyIndex(N=nsamples)\n",
    "        accuracy=ci.score(ground_truth,grouper.labels_,format='array')\n",
    "        all_acc.append(accuracy)\n",
    "    return np.mean(all_acc),np.var(all_acc),np.max(all_acc),np.min(all_acc)\n",
    "\n"
   ]
  },
  {
   "cell_type": "code",
   "execution_count": 6,
   "metadata": {
    "collapsed": true
   },
   "outputs": [],
   "source": [
    "def stat_my_kmeans(data,nclusters,gtruth,rounds=20):\n",
    "    all_acc = list()\n",
    "    for r in xrange(rounds):\n",
    "        iters=\"converge\"\n",
    "        kmeans_mode=\"numpy\"\n",
    "\n",
    "        grouper = K_Means3.K_Means()\n",
    "        grouper._centroid_mode = \"index\"\n",
    "        grouper.fit(data, nclusters, iters=iters, mode=kmeans_mode, cuda_mem='manual',tol=1e-4,max_iters=300)\n",
    "\n",
    "        ci=determine_ci.ConsistencyIndex(N=nsamples)\n",
    "        accuracy=ci.score(gtruth,grouper.labels_,format='array')\n",
    "        all_acc.append(accuracy)\n",
    "        \n",
    "        \n",
    "    return np.mean(all_acc),np.var(all_acc),np.max(all_acc),np.min(all_acc)\n",
    "    \n",
    "def stat_skl_kmeans(data,nclusters,gtruth,rounds=20,init='k-means++'):\n",
    "    all_acc = list()\n",
    "    for r in xrange(rounds):\n",
    "        iters=\"converge\"\n",
    "        kmeans_mode=\"numpy\"\n",
    "\n",
    "        gSKL = KMeans(n_clusters=nclusters,n_init=1,init=init)\n",
    "        gSKL.fit(data)\n",
    "\n",
    "        ci=determine_ci.ConsistencyIndex(N=nsamples)\n",
    "        accuracy=ci.score(gtruth,gSKL.labels_,format='array')\n",
    "        all_acc.append(accuracy)\n",
    "        \n",
    "        \n",
    "    return np.mean(all_acc),np.var(all_acc),np.max(all_acc),np.min(all_acc)"
   ]
  },
  {
   "cell_type": "markdown",
   "metadata": {},
   "source": [
    "# Well separated data\n",
    "## 10 clusters per partition"
   ]
  },
  {
   "cell_type": "code",
   "execution_count": 7,
   "metadata": {
    "collapsed": false
   },
   "outputs": [
    {
     "name": "stderr",
     "output_type": "stream",
     "text": [
      "2015-05-06 23:59:56,416 - status - INFO - Start of logging.\n",
      "INFO:status:Start of logging.\n",
      "2015-05-06 23:59:56,442 - status - INFO - Generating data:nsamples=100,ndims=2,centers=6\n",
      "INFO:status:Generating data:nsamples=100,ndims=2,centers=6\n",
      "2015-05-06 23:59:57,340 - status - INFO - Generating partition: #0, clusters=10\n",
      "INFO:status:Generating partition: #0, clusters=10\n",
      "2015-05-06 23:59:57,349 - status - INFO - Saved partition: test/sanity_cem_10k__partition_0.csv\n",
      "INFO:status:Saved partition: test/sanity_cem_10k__partition_0.csv\n",
      "2015-05-06 23:59:57,351 - status - INFO - Generating partition: #1, clusters=10\n",
      "INFO:status:Generating partition: #1, clusters=10\n",
      "2015-05-06 23:59:57,360 - status - INFO - Saved partition: test/sanity_cem_10k__partition_1.csv\n",
      "INFO:status:Saved partition: test/sanity_cem_10k__partition_1.csv\n",
      "2015-05-06 23:59:57,362 - status - INFO - Generating partition: #2, clusters=10\n",
      "INFO:status:Generating partition: #2, clusters=10\n",
      "2015-05-06 23:59:57,370 - status - INFO - Saved partition: test/sanity_cem_10k__partition_2.csv\n",
      "INFO:status:Saved partition: test/sanity_cem_10k__partition_2.csv\n",
      "2015-05-06 23:59:57,372 - status - INFO - Generating partition: #3, clusters=10\n",
      "INFO:status:Generating partition: #3, clusters=10\n",
      "2015-05-06 23:59:57,381 - status - INFO - Saved partition: test/sanity_cem_10k__partition_3.csv\n",
      "INFO:status:Saved partition: test/sanity_cem_10k__partition_3.csv\n",
      "2015-05-06 23:59:57,383 - status - INFO - Generating partition: #4, clusters=10\n",
      "INFO:status:Generating partition: #4, clusters=10\n",
      "2015-05-06 23:59:57,392 - status - INFO - Saved partition: test/sanity_cem_10k__partition_4.csv\n",
      "INFO:status:Saved partition: test/sanity_cem_10k__partition_4.csv\n",
      "2015-05-06 23:59:57,394 - status - INFO - Generating partition: #5, clusters=10\n",
      "INFO:status:Generating partition: #5, clusters=10\n",
      "2015-05-06 23:59:57,403 - status - INFO - Saved partition: test/sanity_cem_10k__partition_5.csv\n",
      "INFO:status:Saved partition: test/sanity_cem_10k__partition_5.csv\n",
      "2015-05-06 23:59:57,405 - status - INFO - Generating partition: #6, clusters=10\n",
      "INFO:status:Generating partition: #6, clusters=10\n",
      "2015-05-06 23:59:57,414 - status - INFO - Saved partition: test/sanity_cem_10k__partition_6.csv\n",
      "INFO:status:Saved partition: test/sanity_cem_10k__partition_6.csv\n",
      "2015-05-06 23:59:57,416 - status - INFO - Generating partition: #7, clusters=10\n",
      "INFO:status:Generating partition: #7, clusters=10\n",
      "2015-05-06 23:59:57,425 - status - INFO - Saved partition: test/sanity_cem_10k__partition_7.csv\n",
      "INFO:status:Saved partition: test/sanity_cem_10k__partition_7.csv\n",
      "2015-05-06 23:59:57,427 - status - INFO - Generating partition: #8, clusters=10\n",
      "INFO:status:Generating partition: #8, clusters=10\n",
      "2015-05-06 23:59:57,436 - status - INFO - Saved partition: test/sanity_cem_10k__partition_8.csv\n",
      "INFO:status:Saved partition: test/sanity_cem_10k__partition_8.csv\n",
      "2015-05-06 23:59:57,438 - status - INFO - Generating partition: #9, clusters=10\n",
      "INFO:status:Generating partition: #9, clusters=10\n",
      "2015-05-06 23:59:57,449 - status - INFO - Saved partition: test/sanity_cem_10k__partition_9.csv\n",
      "INFO:status:Saved partition: test/sanity_cem_10k__partition_9.csv\n",
      "2015-05-06 23:59:57,451 - status - INFO - Generating partition: #10, clusters=10\n",
      "INFO:status:Generating partition: #10, clusters=10\n",
      "2015-05-06 23:59:57,460 - status - INFO - Saved partition: test/sanity_cem_10k__partition_10.csv\n",
      "INFO:status:Saved partition: test/sanity_cem_10k__partition_10.csv\n",
      "2015-05-06 23:59:57,463 - status - INFO - Generating partition: #11, clusters=10\n",
      "INFO:status:Generating partition: #11, clusters=10\n",
      "2015-05-06 23:59:57,472 - status - INFO - Saved partition: test/sanity_cem_10k__partition_11.csv\n",
      "INFO:status:Saved partition: test/sanity_cem_10k__partition_11.csv\n",
      "2015-05-06 23:59:57,474 - status - INFO - Generating partition: #12, clusters=10\n",
      "INFO:status:Generating partition: #12, clusters=10\n",
      "2015-05-06 23:59:57,484 - status - INFO - Saved partition: test/sanity_cem_10k__partition_12.csv\n",
      "INFO:status:Saved partition: test/sanity_cem_10k__partition_12.csv\n",
      "2015-05-06 23:59:57,486 - status - INFO - Generating partition: #13, clusters=10\n",
      "INFO:status:Generating partition: #13, clusters=10\n",
      "2015-05-06 23:59:57,495 - status - INFO - Saved partition: test/sanity_cem_10k__partition_13.csv\n",
      "INFO:status:Saved partition: test/sanity_cem_10k__partition_13.csv\n",
      "2015-05-06 23:59:57,500 - status - INFO - Generating partition: #14, clusters=10\n",
      "INFO:status:Generating partition: #14, clusters=10\n",
      "2015-05-06 23:59:57,513 - status - INFO - Saved partition: test/sanity_cem_10k__partition_14.csv\n",
      "INFO:status:Saved partition: test/sanity_cem_10k__partition_14.csv\n",
      "2015-05-06 23:59:57,518 - status - INFO - Generating partition: #15, clusters=10\n",
      "INFO:status:Generating partition: #15, clusters=10\n",
      "2015-05-06 23:59:57,529 - status - INFO - Saved partition: test/sanity_cem_10k__partition_15.csv\n",
      "INFO:status:Saved partition: test/sanity_cem_10k__partition_15.csv\n",
      "2015-05-06 23:59:57,535 - status - INFO - Generating partition: #16, clusters=10\n",
      "INFO:status:Generating partition: #16, clusters=10\n",
      "2015-05-06 23:59:57,545 - status - INFO - Saved partition: test/sanity_cem_10k__partition_16.csv\n",
      "INFO:status:Saved partition: test/sanity_cem_10k__partition_16.csv\n",
      "2015-05-06 23:59:57,550 - status - INFO - Generating partition: #17, clusters=10\n",
      "INFO:status:Generating partition: #17, clusters=10\n",
      "2015-05-06 23:59:57,561 - status - INFO - Saved partition: test/sanity_cem_10k__partition_17.csv\n",
      "INFO:status:Saved partition: test/sanity_cem_10k__partition_17.csv\n",
      "2015-05-06 23:59:57,566 - status - INFO - Generating partition: #18, clusters=10\n",
      "INFO:status:Generating partition: #18, clusters=10\n",
      "2015-05-06 23:59:57,577 - status - INFO - Saved partition: test/sanity_cem_10k__partition_18.csv\n",
      "INFO:status:Saved partition: test/sanity_cem_10k__partition_18.csv\n",
      "2015-05-06 23:59:57,582 - status - INFO - Generating partition: #19, clusters=10\n",
      "INFO:status:Generating partition: #19, clusters=10\n",
      "2015-05-06 23:59:57,593 - status - INFO - Saved partition: test/sanity_cem_10k__partition_19.csv\n",
      "INFO:status:Saved partition: test/sanity_cem_10k__partition_19.csv\n",
      "2015-05-06 23:59:57,599 - status - INFO - Generating partition: #20, clusters=10\n",
      "INFO:status:Generating partition: #20, clusters=10\n",
      "2015-05-06 23:59:57,611 - status - INFO - Saved partition: test/sanity_cem_10k__partition_20.csv\n",
      "INFO:status:Saved partition: test/sanity_cem_10k__partition_20.csv\n",
      "2015-05-06 23:59:57,616 - status - INFO - Generating partition: #21, clusters=10\n",
      "INFO:status:Generating partition: #21, clusters=10\n",
      "2015-05-06 23:59:57,628 - status - INFO - Saved partition: test/sanity_cem_10k__partition_21.csv\n",
      "INFO:status:Saved partition: test/sanity_cem_10k__partition_21.csv\n",
      "2015-05-06 23:59:57,633 - status - INFO - Generating partition: #22, clusters=10\n",
      "INFO:status:Generating partition: #22, clusters=10\n",
      "2015-05-06 23:59:57,645 - status - INFO - Saved partition: test/sanity_cem_10k__partition_22.csv\n",
      "INFO:status:Saved partition: test/sanity_cem_10k__partition_22.csv\n",
      "2015-05-06 23:59:57,650 - status - INFO - Generating partition: #23, clusters=10\n",
      "INFO:status:Generating partition: #23, clusters=10\n",
      "2015-05-06 23:59:57,661 - status - INFO - Saved partition: test/sanity_cem_10k__partition_23.csv\n",
      "INFO:status:Saved partition: test/sanity_cem_10k__partition_23.csv\n",
      "2015-05-06 23:59:57,666 - status - INFO - Generating partition: #24, clusters=10\n",
      "INFO:status:Generating partition: #24, clusters=10\n",
      "2015-05-06 23:59:57,677 - status - INFO - Saved partition: test/sanity_cem_10k__partition_24.csv\n",
      "INFO:status:Saved partition: test/sanity_cem_10k__partition_24.csv\n",
      "2015-05-06 23:59:57,683 - status - INFO - Generating partition: #25, clusters=10\n",
      "INFO:status:Generating partition: #25, clusters=10\n",
      "2015-05-06 23:59:57,694 - status - INFO - Saved partition: test/sanity_cem_10k__partition_25.csv\n",
      "INFO:status:Saved partition: test/sanity_cem_10k__partition_25.csv\n",
      "2015-05-06 23:59:57,700 - status - INFO - Generating partition: #26, clusters=10\n",
      "INFO:status:Generating partition: #26, clusters=10\n",
      "2015-05-06 23:59:57,711 - status - INFO - Saved partition: test/sanity_cem_10k__partition_26.csv\n",
      "INFO:status:Saved partition: test/sanity_cem_10k__partition_26.csv\n",
      "2015-05-06 23:59:57,716 - status - INFO - Generating partition: #27, clusters=10\n",
      "INFO:status:Generating partition: #27, clusters=10\n",
      "2015-05-06 23:59:57,728 - status - INFO - Saved partition: test/sanity_cem_10k__partition_27.csv\n",
      "INFO:status:Saved partition: test/sanity_cem_10k__partition_27.csv\n",
      "2015-05-06 23:59:57,733 - status - INFO - Generating partition: #28, clusters=10\n",
      "INFO:status:Generating partition: #28, clusters=10\n",
      "2015-05-06 23:59:57,746 - status - INFO - Saved partition: test/sanity_cem_10k__partition_28.csv\n",
      "INFO:status:Saved partition: test/sanity_cem_10k__partition_28.csv\n",
      "2015-05-06 23:59:57,751 - status - INFO - Generating partition: #29, clusters=10\n",
      "INFO:status:Generating partition: #29, clusters=10\n",
      "2015-05-06 23:59:57,764 - status - INFO - Saved partition: test/sanity_cem_10k__partition_29.csv\n",
      "INFO:status:Saved partition: test/sanity_cem_10k__partition_29.csv\n"
     ]
    }
   ],
   "source": [
    "%run generatePartitions.py -d synthetic -n 100 -D 2 -C 6 -i 3 -m numpy -s sanity_cem_10k_ -np 30 -mc 10 -Mc 11 -dir test/"
   ]
  },
  {
   "cell_type": "code",
   "execution_count": 8,
   "metadata": {
    "collapsed": false
   },
   "outputs": [
    {
     "ename": "SyntaxError",
     "evalue": "invalid syntax (<ipython-input-8-f289dfce3f41>, line 11)",
     "output_type": "error",
     "traceback": [
      "\u001b[1;36m  File \u001b[1;32m\"<ipython-input-8-f289dfce3f41>\"\u001b[1;36m, line \u001b[1;32m11\u001b[0m\n\u001b[1;33m    ground_truth_file = home + \"/QCThesis/EAC/test/\" + prefix + \"_ground_truth.csv\"%%!\u001b[0m\n\u001b[1;37m                                                                                    ^\u001b[0m\n\u001b[1;31mSyntaxError\u001b[0m\u001b[1;31m:\u001b[0m invalid syntax\n"
     ]
    }
   ],
   "source": [
    "nsamples=100\n",
    "prefix=\"sanity_cem_10k_\"\n",
    "\n",
    "files=!ls $home/QCThesis/EAC/test\n",
    "folder= home + \"/QCThesis/EAC/test/\"\n",
    "for i,f in enumerate(files):\n",
    "    files[i] = folder+f\n",
    "\n",
    "partition_files = [f for f in files if \"_partition_\" in f and prefix in f]\n",
    "data_file = home + \"/QCThesis/EAC/test/\" + prefix + \"_data.csv\"\n",
    "ground_truth_file = home + \"/QCThesis/EAC/test/\" + prefix + \"_ground_truth.csv\"%%!"
   ]
  },
  {
   "cell_type": "code",
   "execution_count": null,
   "metadata": {
    "collapsed": true
   },
   "outputs": [],
   "source": [
    "data = np.genfromtxt(data_file,dtype=np.int32)\n",
    "ground_truth = np.genfromtxt(ground_truth_file,dtype=np.int32)"
   ]
  },
  {
   "cell_type": "code",
   "execution_count": null,
   "metadata": {
    "collapsed": true
   },
   "outputs": [],
   "source": [
    "nprots=100\n",
    "prot_mode=\"random\"\n",
    "\n",
    "estimator=eac.EAC(nsamples)\n",
    "estimator.fit(partition_files,files=True,assoc_mode='full', prot_mode=prot_mode, nprot=5,build_only=True)\n",
    "\n",
    "kmeans_mode = \"numpy\"\n",
    "iters=\"converge\"\n",
    "nclusters = 6\n",
    "\n",
    "grouper = K_Means3.K_Means()\n",
    "grouper._centroid_mode = \"index\"\n",
    "grouper.fit(estimator._coassoc, nclusters, iters=iters, mode=kmeans_mode, cuda_mem='manual',tol=1e-4,max_iters=300)\n",
    "\n",
    "ci=determine_ci.ConsistencyIndex(N=nsamples)\n",
    "accuracy=ci.score(ground_truth,grouper.labels_,format='array')\n",
    "print accuracy"
   ]
  },
  {
   "cell_type": "code",
   "execution_count": null,
   "metadata": {
    "collapsed": true
   },
   "outputs": [],
   "source": [
    "k_skl_analysis(partition_files,ground_truth,nprots=5,iters=\"converge\",rounds=100)"
   ]
  },
  {
   "cell_type": "code",
   "execution_count": null,
   "metadata": {
    "collapsed": true
   },
   "outputs": [],
   "source": [
    "nprots=[5,10,20,30,40,50,60,70,80,90,100]\n",
    "results_k10=list()\n",
    "for n in nprots:\n",
    "    r=k_skl_analysis(partition_files,ground_truth,nprots=n,iters=\"converge\",rounds=100)\n",
    "    results_k10.append(r)"
   ]
  },
  {
   "cell_type": "code",
   "execution_count": null,
   "metadata": {
    "collapsed": true
   },
   "outputs": [],
   "source": [
    "mean_k10=[res[0] for res in results_k10]\n",
    "var_k10=[res[1] for res in results_k10]\n",
    "best_k10=[res[2] for res in results_k10]\n",
    "worst_k10=[res[3] for res in results_k10]"
   ]
  },
  {
   "cell_type": "code",
   "execution_count": null,
   "metadata": {
    "collapsed": true
   },
   "outputs": [],
   "source": [
    "plt.plot(mean_k10)\n",
    "plt.plot(best_k10)\n",
    "plt.plot(worst_k10)\n",
    "plt.plot([0, 10], [0.5, 0.5], 'k-', lw=1) #slowdown/speedup threshold"
   ]
  },
  {
   "cell_type": "markdown",
   "metadata": {},
   "source": [
    "## clusters = 25"
   ]
  },
  {
   "cell_type": "code",
   "execution_count": null,
   "metadata": {
    "collapsed": true
   },
   "outputs": [],
   "source": [
    "%run generatePartitions.py -d synthetic -n 100 -D 2 -C 6 -i 3 -m numpy -s sanity_cem_25k_ -np 30 -mc 25 -Mc 26 -dir test/"
   ]
  },
  {
   "cell_type": "code",
   "execution_count": null,
   "metadata": {
    "collapsed": true
   },
   "outputs": [],
   "source": [
    "nsamples=100\n",
    "prefix=\"sanity_cem_25k_\"\n",
    "\n",
    "files=!ls $home/QCThesis/EAC/test\n",
    "folder= home + \"/QCThesis/EAC/test/\"\n",
    "for i,f in enumerate(files):\n",
    "    files[i] = folder+f\n",
    "\n",
    "partition_files = [f for f in files if \"_partition_\" in f and prefix in f]\n",
    "data_file = home + \"/QCThesis/EAC/test/\" + prefix + \"_data.csv\"\n",
    "ground_truth_file = home + \"/QCThesis/EAC/test/\" + prefix + \"_ground_truth.csv\""
   ]
  },
  {
   "cell_type": "code",
   "execution_count": null,
   "metadata": {
    "collapsed": true
   },
   "outputs": [],
   "source": [
    "data = np.genfromtxt(data_file,delimiter=',',dtype=np.float32)\n",
    "ground_truth = np.genfromtxt(ground_truth_file,dtype=np.int32)"
   ]
  },
  {
   "cell_type": "code",
   "execution_count": null,
   "metadata": {
    "collapsed": true
   },
   "outputs": [],
   "source": [
    "nprots=100\n",
    "prot_mode=\"random\"\n",
    "\n",
    "estimator=eac.EAC(nsamples)\n",
    "estimator.fit(partition_files,files=True,assoc_mode='full', prot_mode=prot_mode, nprot=nprots,build_only=True)\n",
    "\n",
    "kmeans_mode = \"numpy\"\n",
    "iters=\"converge\"\n",
    "nclusters = 6\n",
    "\n",
    "grouper = K_Means3.K_Means()\n",
    "grouper._centroid_mode = \"index\"\n",
    "grouper.fit(estimator._coassoc, nclusters, iters=iters, mode=kmeans_mode, cuda_mem='manual',tol=1e-4,max_iters=300)\n",
    "\n",
    "ci=determine_ci.ConsistencyIndex(N=nsamples)\n",
    "accuracy=ci.score(ground_truth,grouper.labels_,format='array')\n",
    "print accuracy"
   ]
  },
  {
   "cell_type": "code",
   "execution_count": null,
   "metadata": {
    "collapsed": true
   },
   "outputs": [],
   "source": [
    "nprots=[5,10,20,30,40,50,60,70,80,90,100]\n",
    "results_k25=list()\n",
    "for n in nprots:\n",
    "    r=k_skl_analysis(partition_files,ground_truth,nprots=n,iters=\"converge\",rounds=100)\n",
    "    results_k25.append(r)"
   ]
  },
  {
   "cell_type": "code",
   "execution_count": null,
   "metadata": {
    "collapsed": true
   },
   "outputs": [],
   "source": [
    "mean_k25=[res[0] for res in results_k25]\n",
    "var_k25=[res[1] for res in results_k25]\n",
    "best_k25=[res[2] for res in results_k25]\n",
    "worst_k25=[res[3] for res in results_k25]"
   ]
  },
  {
   "cell_type": "code",
   "execution_count": null,
   "metadata": {
    "collapsed": true
   },
   "outputs": [],
   "source": [
    "plt.plot(mean_k25)\n",
    "plt.plot(best_k25)\n",
    "plt.plot(worst_k25)\n",
    "plt.plot([0, 10], [0.5, 0.5], 'k-', lw=1) #slowdown/speedup threshold"
   ]
  },
  {
   "cell_type": "code",
   "execution_count": null,
   "metadata": {
    "collapsed": true
   },
   "outputs": [],
   "source": [
    "k_analysis(partition_files,ground_truth,10,iters=\"converge\",rounds=100)"
   ]
  },
  {
   "cell_type": "markdown",
   "metadata": {},
   "source": [
    "## Only K-Means"
   ]
  },
  {
   "cell_type": "code",
   "execution_count": null,
   "metadata": {
    "collapsed": true
   },
   "outputs": [],
   "source": [
    "iters=\"converge\"\n",
    "kmeans_mode=\"numpy\"\n",
    "nclusters=6\n",
    "\n",
    "grouper = K_Means3.K_Means()\n",
    "grouper._centroid_mode = \"index\"\n",
    "grouper.fit(data, nclusters, iters=iters, mode=kmeans_mode, cuda_mem='manual',tol=1e-4,max_iters=300)\n",
    "\n",
    "ci=determine_ci.ConsistencyIndex(N=nsamples)\n",
    "accuracy=ci.score(ground_truth,grouper.labels_,format='array')\n",
    "print \"iters: \",grouper.iters_\n",
    "print \"accuracy: \",accuracy"
   ]
  },
  {
   "cell_type": "code",
   "execution_count": null,
   "metadata": {
    "collapsed": true
   },
   "outputs": [],
   "source": [
    "stat_my_kmeans(data,6,ground_truth,rounds=100)"
   ]
  },
  {
   "cell_type": "code",
   "execution_count": null,
   "metadata": {
    "collapsed": true
   },
   "outputs": [],
   "source": [
    "stat_skl_kmeans(data,6,ground_truth,rounds=100,init=\"random\")"
   ]
  },
  {
   "cell_type": "code",
   "execution_count": null,
   "metadata": {
    "collapsed": true
   },
   "outputs": [],
   "source": [
    "gSKL = KMeans(n_clusters=6,n_init=1)\n",
    "gSKL.fit(data)\n",
    "ci=determine_ci.ConsistencyIndex(N=nsamples)\n",
    "accuracy=ci.score(ground_truth,gSKL.labels_,format='array')\n",
    "print \"accuracy: \",accuracy"
   ]
  },
  {
   "cell_type": "code",
   "execution_count": null,
   "metadata": {
    "collapsed": true
   },
   "outputs": [],
   "source": [
    "gSKL = KMeans(n_clusters=6,n_init=1)\n",
    "gSKL.fit(estimator._coassoc)\n",
    "ci=determine_ci.ConsistencyIndex(N=nsamples)\n",
    "accuracy=ci.score(ground_truth,gSKL.labels_,format='array')\n",
    "print \"accuracy: \",accuracy"
   ]
  },
  {
   "cell_type": "code",
   "execution_count": null,
   "metadata": {
    "collapsed": true
   },
   "outputs": [],
   "source": [
    "plt.plot(data[:,0],data[:,1],'.')"
   ]
  },
  {
   "cell_type": "code",
   "execution_count": null,
   "metadata": {
    "collapsed": true
   },
   "outputs": [],
   "source": [
    "for c in grouper.partition:\n",
    "    plt.plot(data[c,0],data[c,1],'.')"
   ]
  },
  {
   "cell_type": "markdown",
   "metadata": {},
   "source": [
    "# Close data"
   ]
  },
  {
   "cell_type": "code",
   "execution_count": null,
   "metadata": {
    "collapsed": true
   },
   "outputs": [],
   "source": [
    "from sklearn.datasets import make_blobs # generate gaussian mixture\n",
    "\n",
    "n_samples=100\n",
    "ndims=2\n",
    "centers=6\n",
    "data, ground_truth = make_blobs(n_samples=nsamples,n_features=ndims,centers=centers)\n",
    "\n",
    "plt.plot(data[:,0],data[:,1],'.')"
   ]
  },
  {
   "cell_type": "code",
   "execution_count": null,
   "metadata": {
    "collapsed": true
   },
   "outputs": [],
   "source": [
    "filename_base = home + \"/QCThesis/EAC/test/\" + \"close_data\"\n",
    "\n",
    "np.savetxt(filename_base + \"_ground_truth.csv\", groundTruth, delimiter=',')\n",
    "np.savetxt(filename_base + \"_data.csv\", data, delimiter=',')"
   ]
  },
  {
   "cell_type": "markdown",
   "metadata": {},
   "source": [
    "## 10 cluster per partition"
   ]
  },
  {
   "cell_type": "code",
   "execution_count": null,
   "metadata": {
    "collapsed": true
   },
   "outputs": [],
   "source": [
    "%run generatePartitions.py -d test/close_data_data.csv -n 100 -D 2 -C 6 -i 3 -m numpy -s sanity_close_data_25k_ -np 30 -mc 10 -Mc 11 -dir test/"
   ]
  },
  {
   "cell_type": "code",
   "execution_count": null,
   "metadata": {
    "collapsed": true
   },
   "outputs": [],
   "source": [
    "nsamples=100\n",
    "prefix=\"sanity_close_data_10k_\"\n",
    "\n",
    "files=!ls $home/QCThesis/EAC/test\n",
    "folder= home + \"/QCThesis/EAC/test/\"\n",
    "for i,f in enumerate(files):\n",
    "    files[i] = folder+f\n",
    "\n",
    "partition_files = [f for f in files if \"_partition_\" in f and prefix in f]\n",
    "data_file = home + \"/QCThesis/EAC/test/\" + prefix + \"_data.csv\"\n",
    "ground_truth_file = home + \"/QCThesis/EAC/test/\" + prefix + \"_ground_truth.csv\""
   ]
  },
  {
   "cell_type": "code",
   "execution_count": null,
   "metadata": {
    "collapsed": true
   },
   "outputs": [],
   "source": [
    "nprots=[5,10,20,30,40,50,60,70,80,90,100]\n",
    "results_close_k10=list()\n",
    "for n in nprots:\n",
    "    r=k_skl_analysis(partition_files,ground_truth,nprots=n,iters=\"converge\",rounds=100)\n",
    "    results_close_k10.append(r)\n",
    "    \n",
    "mean_close_k10=[res[0] for res in results_close_k10]\n",
    "var_close_k10=[res[1] for res in results_close_k10]\n",
    "best_close_k10=[res[2] for res in results_close_k10]\n",
    "worst_close_k10=[res[3] for res in results_close_k10]"
   ]
  },
  {
   "cell_type": "code",
   "execution_count": null,
   "metadata": {
    "collapsed": true
   },
   "outputs": [],
   "source": [
    "plt.plot(mean_close_k10)\n",
    "plt.plot(best_close_k10)\n",
    "plt.plot(worst_close_k10)\n",
    "plt.plot([0, 10], [0.5, 0.5], 'k-', lw=1) #slowdown/speedup threshold"
   ]
  },
  {
   "cell_type": "markdown",
   "metadata": {},
   "source": [
    "## 25 cluster per partition"
   ]
  },
  {
   "cell_type": "code",
   "execution_count": null,
   "metadata": {
    "collapsed": true
   },
   "outputs": [],
   "source": [
    "%run generatePartitions.py -d test/close_data_data.csv -n 100 -D 2 -C 6 -i 3 -m numpy -s sanity_close_data_25k_ -np 30 -mc 25 -Mc 26 -dir test/"
   ]
  },
  {
   "cell_type": "code",
   "execution_count": null,
   "metadata": {
    "collapsed": true
   },
   "outputs": [],
   "source": [
    "nsamples=100\n",
    "prefix=\"sanity_close_data_25k_\"\n",
    "\n",
    "files=!ls $home/QCThesis/EAC/test\n",
    "folder= home + \"/QCThesis/EAC/test/\"\n",
    "for i,f in enumerate(files):\n",
    "    files[i] = folder+f\n",
    "\n",
    "partition_files = [f for f in files if \"_partition_\" in f and prefix in f]\n",
    "data_file = home + \"/QCThesis/EAC/test/\" + prefix + \"_data.csv\"\n",
    "ground_truth_file = home + \"/QCThesis/EAC/test/\" + prefix + \"_ground_truth.csv\""
   ]
  },
  {
   "cell_type": "code",
   "execution_count": null,
   "metadata": {
    "collapsed": true
   },
   "outputs": [],
   "source": [
    "nprots=[5,10,20,30,40,50,60,70,80,90,100]\n",
    "results_close_k25=list()\n",
    "for n in nprots:\n",
    "    r=k_skl_analysis(partition_files,ground_truth,nprots=n,iters=\"converge\",rounds=100)\n",
    "    results_close_k25.append(r)\n",
    "    \n",
    "mean_close_k25=[res[0] for res in results_close_k25]\n",
    "var_close_k25=[res[1] for res in results_close_k25]\n",
    "best_close_k25=[res[2] for res in results_close_k25]\n",
    "worst_close_k25=[res[3] for res in results_close_k25]"
   ]
  },
  {
   "cell_type": "code",
   "execution_count": null,
   "metadata": {
    "collapsed": true
   },
   "outputs": [],
   "source": [
    "plt.plot(mean_close_k25)\n",
    "plt.plot(best_close_k25)\n",
    "plt.plot(worst_close_k25)\n",
    "plt.plot([0, 10], [0.5, 0.5], 'k-', lw=1) #slowdown/speedup threshold"
   ]
  },
  {
   "cell_type": "markdown",
   "metadata": {},
   "source": [
    "## Only K-Means"
   ]
  },
  {
   "cell_type": "code",
   "execution_count": null,
   "metadata": {
    "collapsed": true
   },
   "outputs": [],
   "source": [
    "mean,var,best,worst=stat_skl_kmeans(data,6,ground_truth,rounds=100,init=\"random\")\n",
    "print \"\\\n",
    "mean:\\t{}\\n\\\n",
    "var:\\t{}\\n\\\n",
    "best:\\t{}\\n\\\n",
    "worst:\\t{}\".format(mean,var,best,worst)"
   ]
  },
  {
   "cell_type": "markdown",
   "metadata": {},
   "source": [
    "# All results\n",
    "## Well separated, partitions of 10 clusters"
   ]
  },
  {
   "cell_type": "code",
   "execution_count": null,
   "metadata": {
    "collapsed": true
   },
   "outputs": [],
   "source": [
    "plt.plot(mean_k10)\n",
    "plt.plot(best_k10)\n",
    "plt.plot(worst_k10)\n",
    "plt.plot([0, 10], [0.5, 0.5], 'k-', lw=1) #slowdown/speedup threshold\n",
    "plt.xticks(range(len(nprots)),nprots)\n",
    "plt.xlabel(\"# prototypes\")\n",
    "plt.ylabel(\"accuracy\")"
   ]
  },
  {
   "cell_type": "markdown",
   "metadata": {},
   "source": [
    "## Well separated, partitions of 25 clusters"
   ]
  },
  {
   "cell_type": "code",
   "execution_count": null,
   "metadata": {
    "collapsed": true
   },
   "outputs": [],
   "source": [
    "plt.plot(mean_k25)\n",
    "plt.plot(best_k25)\n",
    "plt.plot(worst_k25)\n",
    "plt.plot([0, 10], [0.5, 0.5], 'k-', lw=1) #slowdown/speedup threshold\n",
    "plt.xticks(range(len(nprots)),nprots)\n",
    "plt.xlabel(\"# prototypes\")\n",
    "plt.ylabel(\"accuracy\")"
   ]
  },
  {
   "cell_type": "markdown",
   "metadata": {},
   "source": [
    "## Closer clusters, partitions of 10 clusters"
   ]
  },
  {
   "cell_type": "code",
   "execution_count": null,
   "metadata": {
    "collapsed": true
   },
   "outputs": [],
   "source": [
    "plt.plot(mean_close_k10)\n",
    "plt.plot(best_close_k10)\n",
    "plt.plot(worst_close_k10)\n",
    "plt.plot([0, 10], [0.5, 0.5], 'k-', lw=1) #slowdown/speedup threshold\n",
    "plt.xticks(range(len(nprots)),nprots)\n",
    "plt.xlabel(\"# prototypes\")\n",
    "plt.ylabel(\"accuracy\")"
   ]
  },
  {
   "cell_type": "markdown",
   "metadata": {},
   "source": [
    "## Closer clusters, partitions of 25 clusters"
   ]
  },
  {
   "cell_type": "code",
   "execution_count": null,
   "metadata": {
    "collapsed": true
   },
   "outputs": [],
   "source": [
    "plt.plot(mean_close_k25)\n",
    "plt.plot(best_close_k25)\n",
    "plt.plot(worst_close_k25)\n",
    "plt.plot([0, 10], [0.5, 0.5], 'k-', lw=1) #slowdown/speedup threshold\n",
    "plt.xticks(range(len(nprots)),nprots)\n",
    "plt.xlabel(\"# prototypes\")\n",
    "plt.ylabel(\"accuracy\")"
   ]
  }
 ],
 "metadata": {
  "kernelspec": {
   "display_name": "Python 2",
   "language": "python",
   "name": "python2"
  },
  "language_info": {
   "codemirror_mode": {
    "name": "ipython",
    "version": 2
   },
   "file_extension": ".py",
   "mimetype": "text/x-python",
   "name": "python",
   "nbconvert_exporter": "python",
   "pygments_lexer": "ipython2",
   "version": "2.7.9"
  }
 },
 "nbformat": 4,
 "nbformat_minor": 0
}
