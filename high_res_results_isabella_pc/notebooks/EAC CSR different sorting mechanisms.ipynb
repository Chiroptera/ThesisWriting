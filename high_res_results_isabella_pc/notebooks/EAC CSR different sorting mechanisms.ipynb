{
 "cells": [
  {
   "cell_type": "code",
   "execution_count": 1,
   "metadata": {
    "collapsed": false
   },
   "outputs": [
    {
     "name": "stderr",
     "output_type": "stream",
     "text": [
      "/home/chiroptera/anaconda/lib/python2.7/site-packages/numba/cuda/decorators.py:106: UserWarning: autojit is deprecated and will be removed in a future release. Use jit instead.\n",
      "  warn('autojit is deprecated and will be removed in a future release. Use jit instead.')\n"
     ]
    }
   ],
   "source": [
    "import numpy as np\n",
    "import MyML.helper.partition as myPart\n",
    "import MyML.cluster.K_Means3 as myKM\n",
    "import MyML.utils.sparse as mySparse\n",
    "import MyML.cluster.eac as eac\n",
    "from sklearn.datasets import make_blobs"
   ]
  },
  {
   "cell_type": "code",
   "execution_count": 2,
   "metadata": {
    "collapsed": false
   },
   "outputs": [
    {
     "data": {
      "text/plain": [
       "<module 'MyML.utils.sparse' from '/home/chiroptera/workspace/QCThesis/MyML/utils/sparse.pyc'>"
      ]
     },
     "execution_count": 2,
     "metadata": {},
     "output_type": "execute_result"
    }
   ],
   "source": [
    "reload(mySparse)"
   ]
  },
  {
   "cell_type": "code",
   "execution_count": 4,
   "metadata": {
    "collapsed": false
   },
   "outputs": [],
   "source": [
    "data,gt = make_blobs(n_samples=5000, n_features=2, centers=6)\n",
    "data = data.astype(np.float32)\n",
    "n_samples = data.shape[0]"
   ]
  },
  {
   "cell_type": "code",
   "execution_count": 5,
   "metadata": {
    "collapsed": true
   },
   "outputs": [],
   "source": [
    "generator = myKM.K_Means(cuda_mem=\"manual\")\n",
    "generator._MAX_THREADS_BLOCK = 256"
   ]
  },
  {
   "cell_type": "code",
   "execution_count": 6,
   "metadata": {
    "collapsed": true
   },
   "outputs": [],
   "source": [
    "sqrt_rule = lambda n: map(int, map(np.ceil, [np.sqrt(n) / 2, np.sqrt(n)]))\n",
    "n_clusters = sqrt_rule(data.shape[0])"
   ]
  },
  {
   "cell_type": "code",
   "execution_count": 7,
   "metadata": {
    "collapsed": false
   },
   "outputs": [
    {
     "name": "stdout",
     "output_type": "stream",
     "text": [
      "CPU times: user 1.77 s, sys: 112 ms, total: 1.89 s\n",
      "Wall time: 1.88 s\n"
     ]
    }
   ],
   "source": [
    "%time ensemble = myPart.generateEnsemble(data, generator, n_clusters, npartitions=100)"
   ]
  },
  {
   "cell_type": "code",
   "execution_count": 8,
   "metadata": {
    "collapsed": false
   },
   "outputs": [
    {
     "name": "stdout",
     "output_type": "stream",
     "text": [
      "1242\n"
     ]
    }
   ],
   "source": [
    "bgs = mySparse._compute_max_assocs_from_ensemble(ensemble)\n",
    "max_assocs = bgs * 3\n",
    "print max_assocs"
   ]
  },
  {
   "cell_type": "code",
   "execution_count": null,
   "metadata": {
    "collapsed": false
   },
   "outputs": [],
   "source": [
    "mat0 = mySparse.EAC_CSR(n_samples=n_samples, max_assocs=max_assocs)\n",
    "%time mat0._update_ensemble(ensemble)\n",
    "%time mat0._condense()"
   ]
  },
  {
   "cell_type": "code",
   "execution_count": 9,
   "metadata": {
    "collapsed": false
   },
   "outputs": [
    {
     "name": "stdout",
     "output_type": "stream",
     "text": [
      "CPU times: user 7.71 s, sys: 23.4 ms, total: 7.73 s\n",
      "Wall time: 7.74 s\n",
      "CPU times: user 193 ms, sys: 3.93 ms, total: 196 ms\n",
      "Wall time: 197 ms\n"
     ]
    }
   ],
   "source": [
    "mat1 = mySparse.EAC_CSR(n_samples=n_samples, max_assocs=max_assocs)\n",
    "mat1.sort_mode = \"online\"\n",
    "mat1.update_cluster_function = mySparse.update_cluster_sorted\n",
    "%time mat1._update_ensemble(ensemble)\n",
    "%time mat1._condense()"
   ]
  },
  {
   "cell_type": "code",
   "execution_count": 140,
   "metadata": {
    "collapsed": true
   },
   "outputs": [
    {
     "name": "stdout",
     "output_type": "stream",
     "text": [
      "NOTE: Enter 'c' at the ipdb>  prompt to continue execution.\n",
      "> \u001b[1;32m<string>\u001b[0m(1)\u001b[0;36m<module>\u001b[1;34m()\u001b[0m\n",
      "\n",
      "ipdb> b MyML/utils/sparse.py:57\n",
      "Breakpoint 1 at /home/chiroptera/workspace/QCThesis/MyML/utils/sparse.py:57\n",
      "ipdb> c\n",
      "> \u001b[1;32m/home/chiroptera/workspace/QCThesis/MyML/utils/sparse.py\u001b[0m(57)\u001b[0;36mupdate_partition\u001b[1;34m()\u001b[0m\n",
      "\u001b[1;32m     56 \u001b[1;33m\u001b[1;33m\u001b[0m\u001b[0m\n",
      "\u001b[0m\u001b[1;31m1\u001b[1;32m--> 57 \u001b[1;33m        \u001b[1;32mif\u001b[0m \u001b[0mself\u001b[0m\u001b[1;33m.\u001b[0m\u001b[0msort_mode\u001b[0m \u001b[1;33m==\u001b[0m \u001b[1;34m\"numpy\"\u001b[0m\u001b[1;33m:\u001b[0m\u001b[1;33m\u001b[0m\u001b[0m\n",
      "\u001b[0m\u001b[1;32m     58 \u001b[1;33m                \u001b[0mself\u001b[0m\u001b[1;33m.\u001b[0m\u001b[0m_sort_indices\u001b[0m\u001b[1;33m(\u001b[0m\u001b[1;33m)\u001b[0m\u001b[1;33m\u001b[0m\u001b[0m\n",
      "\u001b[0m\n",
      "ipdb> new_nnz_list\n",
      "[0, 48378, 26920, 0, 27638, 5770, 10228, 5310, 2990, 20884, 8136, 544, 10618, 3840, 18692, 934, 0, 16894, 3130, 11812, 1708, 180, 480, 10304, 9850, 2548, 102, 2300, 1710, 3040, 836, 8268, 600, 0, 4588, 10896, 11966, 6864, 5206, 17700, 68, 3266, 2112, 440, 3020, 3778, 2346, 0, 292]\n",
      "ipdb> c\n",
      "> \u001b[1;32m/home/chiroptera/workspace/QCThesis/MyML/utils/sparse.py\u001b[0m(57)\u001b[0;36mupdate_partition\u001b[1;34m()\u001b[0m\n",
      "\u001b[1;32m     56 \u001b[1;33m\u001b[1;33m\u001b[0m\u001b[0m\n",
      "\u001b[0m\u001b[1;31m1\u001b[1;32m--> 57 \u001b[1;33m        \u001b[1;32mif\u001b[0m \u001b[0mself\u001b[0m\u001b[1;33m.\u001b[0m\u001b[0msort_mode\u001b[0m \u001b[1;33m==\u001b[0m \u001b[1;34m\"numpy\"\u001b[0m\u001b[1;33m:\u001b[0m\u001b[1;33m\u001b[0m\u001b[0m\n",
      "\u001b[0m\u001b[1;32m     58 \u001b[1;33m                \u001b[0mself\u001b[0m\u001b[1;33m.\u001b[0m\u001b[0m_sort_indices\u001b[0m\u001b[1;33m(\u001b[0m\u001b[1;33m)\u001b[0m\u001b[1;33m\u001b[0m\u001b[0m\n",
      "\u001b[0m\n",
      "ipdb> new_nnz_list\n",
      "[0, 178, 0, 7944, 104, 116, 576, 2914, 898, 0, 420, 574, 286, 304, 506, 3100, 144, 3724, 5498, 0, 1098, 20164, 22066, 0, 2006, 528, 268, 0, 54, 1526, 440, 198, 0, 224, 658, 2354, 1998, 2858, 3758, 0, 1076, 28, 1884, 1358, 644, 0, 4778, 5710, 2924, 104, 136, 2808, 1504, 72, 682, 918, 1110, 0, 0, 1036, 0, 0, 240, 0, 222, 172]\n",
      "ipdb> c\n",
      "> \u001b[1;32m/home/chiroptera/workspace/QCThesis/MyML/utils/sparse.py\u001b[0m(57)\u001b[0;36mupdate_partition\u001b[1;34m()\u001b[0m\n",
      "\u001b[1;32m     56 \u001b[1;33m\u001b[1;33m\u001b[0m\u001b[0m\n",
      "\u001b[0m\u001b[1;31m1\u001b[1;32m--> 57 \u001b[1;33m        \u001b[1;32mif\u001b[0m \u001b[0mself\u001b[0m\u001b[1;33m.\u001b[0m\u001b[0msort_mode\u001b[0m \u001b[1;33m==\u001b[0m \u001b[1;34m\"numpy\"\u001b[0m\u001b[1;33m:\u001b[0m\u001b[1;33m\u001b[0m\u001b[0m\n",
      "\u001b[0m\u001b[1;32m     58 \u001b[1;33m                \u001b[0mself\u001b[0m\u001b[1;33m.\u001b[0m\u001b[0m_sort_indices\u001b[0m\u001b[1;33m(\u001b[0m\u001b[1;33m)\u001b[0m\u001b[1;33m\u001b[0m\u001b[0m\n",
      "\u001b[0m\n",
      "ipdb> new_nnz_list\n",
      "[0, 0, 520, 2456, 0, 282, 138, 0, 906, 4376, 1116, 710, 284, 172, 0, 4342, 0, 128, 9484, 0, 140, 426, 480, 4498, 1426, 0, 0, 0, 4116, 1272, 0, 1520, 0, 1340, 3210, 0, 78, 818, 0, 788, 436, 0, 3682, 1596, 3000, 326, 2156, 6838, 6002, 10032, 1320, 5018, 1246, 996, 1268, 17360, 3500]\n",
      "ipdb> c\n",
      "> \u001b[1;32m/home/chiroptera/workspace/QCThesis/MyML/utils/sparse.py\u001b[0m(57)\u001b[0;36mupdate_partition\u001b[1;34m()\u001b[0m\n",
      "\u001b[1;32m     56 \u001b[1;33m\u001b[1;33m\u001b[0m\u001b[0m\n",
      "\u001b[0m\u001b[1;31m1\u001b[1;32m--> 57 \u001b[1;33m        \u001b[1;32mif\u001b[0m \u001b[0mself\u001b[0m\u001b[1;33m.\u001b[0m\u001b[0msort_mode\u001b[0m \u001b[1;33m==\u001b[0m \u001b[1;34m\"numpy\"\u001b[0m\u001b[1;33m:\u001b[0m\u001b[1;33m\u001b[0m\u001b[0m\n",
      "\u001b[0m\u001b[1;32m     58 \u001b[1;33m                \u001b[0mself\u001b[0m\u001b[1;33m.\u001b[0m\u001b[0m_sort_indices\u001b[0m\u001b[1;33m(\u001b[0m\u001b[1;33m)\u001b[0m\u001b[1;33m\u001b[0m\u001b[0m\n",
      "\u001b[0m\n",
      "ipdb> new_nnz_list\n",
      "[0, 226, 52882, 0, 120, 0, 1062, 220, 58, 244, 1516, 32, 6294, 564, 370, 370, 180, 228, 144, 490, 38, 62304, 60, 372, 448, 64, 1050, 4, 288, 160, 436, 0, 472, 2266, 6190, 588, 804, 7236, 868, 1660, 566, 26, 344, 256, 572, 0, 0, 12, 974, 0, 2008, 1606, 10482]\n",
      "ipdb> q\n",
      "CPU times: user 182 ms, sys: 0 ns, total: 182 ms\n",
      "Wall time: 182 ms\n"
     ]
    }
   ],
   "source": [
    "mat2 = mySparse.EAC_CSR(n_samples=n_samples, max_assocs=max_assocs)\n",
    "mat2.sort_mode = \"online\"\n",
    "mat2.update_cluster_function = mySparse.update_cluster_sorted_simple\n",
    "%debug mat2._update_ensemble(ensemble)\n",
    "%time mat2._condense()"
   ]
  },
  {
   "cell_type": "code",
   "execution_count": null,
   "metadata": {
    "collapsed": true
   },
   "outputs": [],
   "source": [
    "b MyML/utils/sparse.py:57"
   ]
  },
  {
   "cell_type": "code",
   "execution_count": 146,
   "metadata": {
    "collapsed": false
   },
   "outputs": [
    {
     "name": "stdout",
     "output_type": "stream",
     "text": [
      "[48378, 22066, 17360, 62304]\n",
      "[48378, 23751, 27134, 84705]\n"
     ]
    }
   ],
   "source": [
    "print map(max,nnz2)\n",
    "print map(max,nnz3)"
   ]
  },
  {
   "cell_type": "code",
   "execution_count": 143,
   "metadata": {
    "collapsed": true
   },
   "outputs": [],
   "source": [
    "nnz2 = [\n",
    "    [0, 48378, 26920, 0, 27638, 5770, 10228, 5310, 2990, 20884, 8136, 544, 10618, 3840, 18692, 934, 0, 16894, 3130, 11812, 1708, 180, 480, 10304, 9850, 2548, 102, 2300, 1710, 3040, 836, 8268, 600, 0, 4588, 10896, 11966, 6864, 5206, 17700, 68, 3266, 2112, 440, 3020, 3778, 2346, 0, 292],\n",
    "    [0, 178, 0, 7944, 104, 116, 576, 2914, 898, 0, 420, 574, 286, 304, 506, 3100, 144, 3724, 5498, 0, 1098, 20164, 22066, 0, 2006, 528, 268, 0, 54, 1526, 440, 198, 0, 224, 658, 2354, 1998, 2858, 3758, 0, 1076, 28, 1884, 1358, 644, 0, 4778, 5710, 2924, 104, 136, 2808, 1504, 72, 682, 918, 1110, 0, 0, 1036, 0, 0, 240, 0, 222, 172],\n",
    "    [0, 0, 520, 2456, 0, 282, 138, 0, 906, 4376, 1116, 710, 284, 172, 0, 4342, 0, 128, 9484, 0, 140, 426, 480, 4498, 1426, 0, 0, 0, 4116, 1272, 0, 1520, 0, 1340, 3210, 0, 78, 818, 0, 788, 436, 0, 3682, 1596, 3000, 326, 2156, 6838, 6002, 10032, 1320, 5018, 1246, 996, 1268, 17360, 3500],\n",
    "    [0, 226, 52882, 0, 120, 0, 1062, 220, 58, 244, 1516, 32, 6294, 564, 370, 370, 180, 228, 144, 490, 38, 62304, 60, 372, 448, 64, 1050, 4, 288, 160, 436, 0, 472, 2266, 6190, 588, 804, 7236, 868, 1660, 566, 26, 344, 256, 572, 0, 0, 12, 974, 0, 2008, 1606, 10482]\n",
    "]"
   ]
  },
  {
   "cell_type": "code",
   "execution_count": 142,
   "metadata": {
    "collapsed": true
   },
   "outputs": [],
   "source": [
    "nnz3 = [\n",
    "    [0, 48378, 26920, 0, 27638, 5770, 10228, 5310, 2990, 20884, 8136, 544, 10618, 3840, 18692, 934, 0, 16894, 3130, 11812, 1708, 180, 480, 10304, 9850, 2548, 102, 2300, 1710, 3040, 836, 8268, 600, 0, 4588, 10896, 11966, 6864, 5206, 17700, 68, 3266, 2112, 440, 3020, 3778, 2346, 0, 292],\n",
    "    [1445, 2209, 0, 11207, 257, 289, 648, 7108, 1086, 0, 612, 706, 775, 913, 506, 3452, 592, 3957, 7707, 0, 1687, 23751, 23287, 776, 2073, 657, 380, 492, 198, 2469, 559, 230, 1748, 383, 1297, 2382, 2056, 4117, 4445, 250, 1245, 28, 2228, 2120, 661, 470, 4804, 6725, 3949, 117, 1834, 3851, 1684, 276, 1303, 984, 1331, 1436, 1442, 1659, 52, 26, 249, 2797, 295, 188],\n",
    "    [1940, 561, 1283, 3789, 405, 2298, 7890, 448, 4843, 8488, 1586, 1996, 3994, 1698, 6991, 6612, 153, 1831, 18007, 85, 306, 4734, 1087, 6778, 2812, 1561, 424, 1834, 5598, 3235, 2898, 4233, 3259, 3162, 3632, 3253, 618, 1792, 4161, 1209, 2221, 545, 9031, 6614, 7417, 1007, 4384, 12048, 7772, 13411, 3447, 6668, 2470, 2478, 2595, 27134, 7254],\n",
    "    [91, 6366, 68673, 697, 7975, 39, 5810, 1674, 1099, 3139, 3149, 471, 14740, 2068, 1633, 6038, 5457, 2588, 2707, 1281, 1147, 84705, 327, 1944, 5203, 352, 4328, 2308, 3414, 1620, 5633, 7827, 2631, 4247, 8699, 6755, 5911, 11066, 4590, 3493, 2351, 333, 3916, 2126, 2742, 3928, 3694, 16, 2524, 970, 6562, 3585, 17006]\n",
    "]"
   ]
  },
  {
   "cell_type": "code",
   "execution_count": 144,
   "metadata": {
    "collapsed": false
   },
   "outputs": [
    {
     "data": {
      "text/plain": [
       "True"
      ]
     },
     "execution_count": 144,
     "metadata": {},
     "output_type": "execute_result"
    }
   ],
   "source": []
  },
  {
   "cell_type": "code",
   "execution_count": 198,
   "metadata": {
    "collapsed": false
   },
   "outputs": [
    {
     "name": "stdout",
     "output_type": "stream",
     "text": [
      "CPU times: user 7.79 s, sys: 11.6 ms, total: 7.8 s\n",
      "Wall time: 7.8 s\n"
     ]
    }
   ],
   "source": [
    "reload(mySparse)\n",
    "mat3 = mySparse.EAC_CSR(n_samples=n_samples, max_assocs=max_assocs)\n",
    "mat3.sort_mode = \"online\"\n",
    "mat3.update_cluster_function = mySparse.update_cluster_sorted_surgical\n",
    "%time mat3._update_ensemble(ensemble)"
   ]
  },
  {
   "cell_type": "code",
   "execution_count": null,
   "metadata": {
    "collapsed": true
   },
   "outputs": [],
   "source": [
    "b MyML/utils/sparse.py:360\n",
    "start_idx, end_idx, n_shifts\n",
    "new_assocs_ptr\n",
    "new_assocs_ids[:new_assocs_ptr+1]\n",
    "new_assocs_idx[:new_assocs_ptr+1]\n",
    "data[[idx,idx+n_shifts]], indices[[idx,idx+n_shifts]]"
   ]
  },
  {
   "cell_type": "code",
   "execution_count": 79,
   "metadata": {
    "collapsed": false
   },
   "outputs": [
    {
     "name": "stdout",
     "output_type": "stream",
     "text": [
      "indices True\n",
      "data False\n",
      "degree True\n"
     ]
    }
   ],
   "source": [
    "print \"indices\", (mat1.indices==mat2.indices).all()\n",
    "print \"data\", (mat1.data==mat2.data).all()\n",
    "print \"degree\", (mat1.degree==mat2.degree).all()"
   ]
  },
  {
   "cell_type": "code",
   "execution_count": 36,
   "metadata": {
    "collapsed": false
   },
   "outputs": [
    {
     "data": {
      "text/plain": [
       "array([2502, 2502, 2502, ..., 2502, 2502,    0], dtype=int32)"
      ]
     },
     "execution_count": 36,
     "metadata": {},
     "output_type": "execute_result"
    }
   ],
   "source": [
    "mat3.degree"
   ]
  },
  {
   "cell_type": "code",
   "execution_count": 224,
   "metadata": {
    "collapsed": false
   },
   "outputs": [
    {
     "data": {
      "text/plain": [
       "<module 'MyML.utils.sparse' from '/home/chiroptera/workspace/QCThesis/MyML/utils/sparse.py'>"
      ]
     },
     "execution_count": 224,
     "metadata": {},
     "output_type": "execute_result"
    }
   ],
   "source": [
    "reload(mySparse)"
   ]
  },
  {
   "cell_type": "code",
   "execution_count": 225,
   "metadata": {
    "collapsed": false
   },
   "outputs": [
    {
     "name": "stdout",
     "output_type": "stream",
     "text": [
      "1 loops, best of 3: 9.85 s per loop\n"
     ]
    }
   ],
   "source": [
    "%%timeit\n",
    "mat1 = mySparse.EAC_CSR(n_samples=n_samples, max_assocs=max_assocs)\n",
    "mat1.sort_mode = \"online\"\n",
    "mat1.update_cluster_function = mySparse.update_cluster_sorted\n",
    "mat1._update_ensemble(ensemble)"
   ]
  },
  {
   "cell_type": "code",
   "execution_count": 226,
   "metadata": {
    "collapsed": false
   },
   "outputs": [
    {
     "name": "stdout",
     "output_type": "stream",
     "text": [
      "1 loops, best of 3: 9.82 s per loop\n"
     ]
    }
   ],
   "source": [
    "%%timeit \n",
    "mat2 = mySparse.EAC_CSR(n_samples=n_samples, max_assocs=max_assocs)\n",
    "mat2.sort_mode = \"online\"\n",
    "mat2.update_cluster_function = mySparse.update_cluster_sorted_simple\n",
    "mat2._update_ensemble(ensemble)"
   ]
  },
  {
   "cell_type": "code",
   "execution_count": 227,
   "metadata": {
    "collapsed": false
   },
   "outputs": [
    {
     "name": "stdout",
     "output_type": "stream",
     "text": [
      "1 loops, best of 3: 9.14 s per loop\n"
     ]
    }
   ],
   "source": [
    "%%timeit \n",
    "mat3 = mySparse.EAC_CSR(n_samples=n_samples, max_assocs=max_assocs)\n",
    "mat3.sort_mode = \"online\"\n",
    "mat3.update_cluster_function = mySparse.update_cluster_sorted_surgical\n",
    "mat3._update_ensemble(ensemble)"
   ]
  },
  {
   "cell_type": "code",
   "execution_count": 185,
   "metadata": {
    "collapsed": true
   },
   "outputs": [
    {
     "name": "stdout",
     "output_type": "stream",
     "text": [
      "CPU times: user 15.1 s, sys: 27.2 ms, total: 15.1 s\n",
      "Wall time: 15.4 s\n",
      "CPU times: user 7.51 s, sys: 28.1 ms, total: 7.54 s\n",
      "Wall time: 7.57 s\n",
      "CPU times: user 7.31 s, sys: 15.6 ms, total: 7.33 s\n",
      "Wall time: 7.36 s\n"
     ]
    },
    {
     "ename": "TypingError",
     "evalue": "Caused By:\nTraceback (most recent call last):\n  File \"/home/chiroptera/anaconda/lib/python2.7/site-packages/numba/compiler.py\", line 201, in run\n    res = stage()\n  File \"/home/chiroptera/anaconda/lib/python2.7/site-packages/numba/compiler.py\", line 415, in stage_nopython_frontend\n    self.locals)\n  File \"/home/chiroptera/anaconda/lib/python2.7/site-packages/numba/compiler.py\", line 709, in type_inference_stage\n    infer.build_constrain()\n  File \"/home/chiroptera/anaconda/lib/python2.7/site-packages/numba/typeinfer.py\", line 395, in build_constrain\n    self.constrain_statement(inst)\n  File \"/home/chiroptera/anaconda/lib/python2.7/site-packages/numba/typeinfer.py\", line 519, in constrain_statement\n    self.typeof_assign(inst)\n  File \"/home/chiroptera/anaconda/lib/python2.7/site-packages/numba/typeinfer.py\", line 551, in typeof_assign\n    self.typeof_global(inst, inst.target, value)\n  File \"/home/chiroptera/anaconda/lib/python2.7/site-packages/numba/typeinfer.py\", line 616, in typeof_global\n    loc=inst.loc)\nTypingError: Untyped global name 'idx'\nFile \"MyML/utils/sparse.py\", line 451\n\nFailed at nopython (nopython frontend)\nUntyped global name 'idx'\nFile \"MyML/utils/sparse.py\", line 451",
     "output_type": "error",
     "traceback": [
      "\u001b[1;31m---------------------------------------------------------------------------\u001b[0m",
      "\u001b[1;31mTypingError\u001b[0m                               Traceback (most recent call last)",
      "\u001b[1;32m<ipython-input-185-6b3857928d19>\u001b[0m in \u001b[0;36m<module>\u001b[1;34m()\u001b[0m\n\u001b[0;32m     15\u001b[0m \u001b[0mmat3\u001b[0m\u001b[1;33m.\u001b[0m\u001b[0msort_mode\u001b[0m \u001b[1;33m=\u001b[0m \u001b[1;34m\"online\"\u001b[0m\u001b[1;33m\u001b[0m\u001b[0m\n\u001b[0;32m     16\u001b[0m \u001b[0mmat3\u001b[0m\u001b[1;33m.\u001b[0m\u001b[0mupdate_cluster_function\u001b[0m \u001b[1;33m=\u001b[0m \u001b[0mmySparse\u001b[0m\u001b[1;33m.\u001b[0m\u001b[0mupdate_cluster_sorted_surgical\u001b[0m\u001b[1;33m\u001b[0m\u001b[0m\n\u001b[1;32m---> 17\u001b[1;33m \u001b[0mget_ipython\u001b[0m\u001b[1;33m(\u001b[0m\u001b[1;33m)\u001b[0m\u001b[1;33m.\u001b[0m\u001b[0mmagic\u001b[0m\u001b[1;33m(\u001b[0m\u001b[1;34mu'time mat3._update_ensemble(ensemble)'\u001b[0m\u001b[1;33m)\u001b[0m\u001b[1;33m\u001b[0m\u001b[0m\n\u001b[0m",
      "\u001b[1;32m/home/chiroptera/anaconda/lib/python2.7/site-packages/IPython/core/interactiveshell.pyc\u001b[0m in \u001b[0;36mmagic\u001b[1;34m(self, arg_s)\u001b[0m\n\u001b[0;32m   2305\u001b[0m         \u001b[0mmagic_name\u001b[0m\u001b[1;33m,\u001b[0m \u001b[0m_\u001b[0m\u001b[1;33m,\u001b[0m \u001b[0mmagic_arg_s\u001b[0m \u001b[1;33m=\u001b[0m \u001b[0marg_s\u001b[0m\u001b[1;33m.\u001b[0m\u001b[0mpartition\u001b[0m\u001b[1;33m(\u001b[0m\u001b[1;34m' '\u001b[0m\u001b[1;33m)\u001b[0m\u001b[1;33m\u001b[0m\u001b[0m\n\u001b[0;32m   2306\u001b[0m         \u001b[0mmagic_name\u001b[0m \u001b[1;33m=\u001b[0m \u001b[0mmagic_name\u001b[0m\u001b[1;33m.\u001b[0m\u001b[0mlstrip\u001b[0m\u001b[1;33m(\u001b[0m\u001b[0mprefilter\u001b[0m\u001b[1;33m.\u001b[0m\u001b[0mESC_MAGIC\u001b[0m\u001b[1;33m)\u001b[0m\u001b[1;33m\u001b[0m\u001b[0m\n\u001b[1;32m-> 2307\u001b[1;33m         \u001b[1;32mreturn\u001b[0m \u001b[0mself\u001b[0m\u001b[1;33m.\u001b[0m\u001b[0mrun_line_magic\u001b[0m\u001b[1;33m(\u001b[0m\u001b[0mmagic_name\u001b[0m\u001b[1;33m,\u001b[0m \u001b[0mmagic_arg_s\u001b[0m\u001b[1;33m)\u001b[0m\u001b[1;33m\u001b[0m\u001b[0m\n\u001b[0m\u001b[0;32m   2308\u001b[0m \u001b[1;33m\u001b[0m\u001b[0m\n\u001b[0;32m   2309\u001b[0m     \u001b[1;31m#-------------------------------------------------------------------------\u001b[0m\u001b[1;33m\u001b[0m\u001b[1;33m\u001b[0m\u001b[0m\n",
      "\u001b[1;32m/home/chiroptera/anaconda/lib/python2.7/site-packages/IPython/core/interactiveshell.pyc\u001b[0m in \u001b[0;36mrun_line_magic\u001b[1;34m(self, magic_name, line)\u001b[0m\n\u001b[0;32m   2226\u001b[0m                 \u001b[0mkwargs\u001b[0m\u001b[1;33m[\u001b[0m\u001b[1;34m'local_ns'\u001b[0m\u001b[1;33m]\u001b[0m \u001b[1;33m=\u001b[0m \u001b[0msys\u001b[0m\u001b[1;33m.\u001b[0m\u001b[0m_getframe\u001b[0m\u001b[1;33m(\u001b[0m\u001b[0mstack_depth\u001b[0m\u001b[1;33m)\u001b[0m\u001b[1;33m.\u001b[0m\u001b[0mf_locals\u001b[0m\u001b[1;33m\u001b[0m\u001b[0m\n\u001b[0;32m   2227\u001b[0m             \u001b[1;32mwith\u001b[0m \u001b[0mself\u001b[0m\u001b[1;33m.\u001b[0m\u001b[0mbuiltin_trap\u001b[0m\u001b[1;33m:\u001b[0m\u001b[1;33m\u001b[0m\u001b[0m\n\u001b[1;32m-> 2228\u001b[1;33m                 \u001b[0mresult\u001b[0m \u001b[1;33m=\u001b[0m \u001b[0mfn\u001b[0m\u001b[1;33m(\u001b[0m\u001b[1;33m*\u001b[0m\u001b[0margs\u001b[0m\u001b[1;33m,\u001b[0m\u001b[1;33m**\u001b[0m\u001b[0mkwargs\u001b[0m\u001b[1;33m)\u001b[0m\u001b[1;33m\u001b[0m\u001b[0m\n\u001b[0m\u001b[0;32m   2229\u001b[0m             \u001b[1;32mreturn\u001b[0m \u001b[0mresult\u001b[0m\u001b[1;33m\u001b[0m\u001b[0m\n\u001b[0;32m   2230\u001b[0m \u001b[1;33m\u001b[0m\u001b[0m\n",
      "\u001b[1;32m/home/chiroptera/anaconda/lib/python2.7/site-packages/IPython/core/magics/execution.pyc\u001b[0m in \u001b[0;36mtime\u001b[1;34m(self, line, cell, local_ns)\u001b[0m\n",
      "\u001b[1;32m/home/chiroptera/anaconda/lib/python2.7/site-packages/IPython/core/magic.pyc\u001b[0m in \u001b[0;36m<lambda>\u001b[1;34m(f, *a, **k)\u001b[0m\n\u001b[0;32m    191\u001b[0m     \u001b[1;31m# but it's overkill for just that one bit of state.\u001b[0m\u001b[1;33m\u001b[0m\u001b[1;33m\u001b[0m\u001b[0m\n\u001b[0;32m    192\u001b[0m     \u001b[1;32mdef\u001b[0m \u001b[0mmagic_deco\u001b[0m\u001b[1;33m(\u001b[0m\u001b[0marg\u001b[0m\u001b[1;33m)\u001b[0m\u001b[1;33m:\u001b[0m\u001b[1;33m\u001b[0m\u001b[0m\n\u001b[1;32m--> 193\u001b[1;33m         \u001b[0mcall\u001b[0m \u001b[1;33m=\u001b[0m \u001b[1;32mlambda\u001b[0m \u001b[0mf\u001b[0m\u001b[1;33m,\u001b[0m \u001b[1;33m*\u001b[0m\u001b[0ma\u001b[0m\u001b[1;33m,\u001b[0m \u001b[1;33m**\u001b[0m\u001b[0mk\u001b[0m\u001b[1;33m:\u001b[0m \u001b[0mf\u001b[0m\u001b[1;33m(\u001b[0m\u001b[1;33m*\u001b[0m\u001b[0ma\u001b[0m\u001b[1;33m,\u001b[0m \u001b[1;33m**\u001b[0m\u001b[0mk\u001b[0m\u001b[1;33m)\u001b[0m\u001b[1;33m\u001b[0m\u001b[0m\n\u001b[0m\u001b[0;32m    194\u001b[0m \u001b[1;33m\u001b[0m\u001b[0m\n\u001b[0;32m    195\u001b[0m         \u001b[1;32mif\u001b[0m \u001b[0mcallable\u001b[0m\u001b[1;33m(\u001b[0m\u001b[0marg\u001b[0m\u001b[1;33m)\u001b[0m\u001b[1;33m:\u001b[0m\u001b[1;33m\u001b[0m\u001b[0m\n",
      "\u001b[1;32m/home/chiroptera/anaconda/lib/python2.7/site-packages/IPython/core/magics/execution.pyc\u001b[0m in \u001b[0;36mtime\u001b[1;34m(self, line, cell, local_ns)\u001b[0m\n\u001b[0;32m   1160\u001b[0m         \u001b[1;32mif\u001b[0m \u001b[0mmode\u001b[0m\u001b[1;33m==\u001b[0m\u001b[1;34m'eval'\u001b[0m\u001b[1;33m:\u001b[0m\u001b[1;33m\u001b[0m\u001b[0m\n\u001b[0;32m   1161\u001b[0m             \u001b[0mst\u001b[0m \u001b[1;33m=\u001b[0m \u001b[0mclock2\u001b[0m\u001b[1;33m(\u001b[0m\u001b[1;33m)\u001b[0m\u001b[1;33m\u001b[0m\u001b[0m\n\u001b[1;32m-> 1162\u001b[1;33m             \u001b[0mout\u001b[0m \u001b[1;33m=\u001b[0m \u001b[0meval\u001b[0m\u001b[1;33m(\u001b[0m\u001b[0mcode\u001b[0m\u001b[1;33m,\u001b[0m \u001b[0mglob\u001b[0m\u001b[1;33m,\u001b[0m \u001b[0mlocal_ns\u001b[0m\u001b[1;33m)\u001b[0m\u001b[1;33m\u001b[0m\u001b[0m\n\u001b[0m\u001b[0;32m   1163\u001b[0m             \u001b[0mend\u001b[0m \u001b[1;33m=\u001b[0m \u001b[0mclock2\u001b[0m\u001b[1;33m(\u001b[0m\u001b[1;33m)\u001b[0m\u001b[1;33m\u001b[0m\u001b[0m\n\u001b[0;32m   1164\u001b[0m         \u001b[1;32melse\u001b[0m\u001b[1;33m:\u001b[0m\u001b[1;33m\u001b[0m\u001b[0m\n",
      "\u001b[1;32m<timed eval>\u001b[0m in \u001b[0;36m<module>\u001b[1;34m()\u001b[0m\n",
      "\u001b[1;32m/home/chiroptera/workspace/QCThesis/MyML/utils/sparse.py\u001b[0m in \u001b[0;36m_update_ensemble\u001b[1;34m(self, ensemble)\u001b[0m\n\u001b[0;32m     38\u001b[0m             \u001b[1;32mif\u001b[0m \u001b[0mp\u001b[0m \u001b[1;33m==\u001b[0m \u001b[0mfirst_partition\u001b[0m\u001b[1;33m:\u001b[0m\u001b[1;33m\u001b[0m\u001b[0m\n\u001b[0;32m     39\u001b[0m                 \u001b[1;32mcontinue\u001b[0m\u001b[1;33m\u001b[0m\u001b[0m\n\u001b[1;32m---> 40\u001b[1;33m             \u001b[0mself\u001b[0m\u001b[1;33m.\u001b[0m\u001b[0mupdate_partition\u001b[0m\u001b[1;33m(\u001b[0m\u001b[0mensemble\u001b[0m\u001b[1;33m[\u001b[0m\u001b[0mp\u001b[0m\u001b[1;33m]\u001b[0m\u001b[1;33m)\u001b[0m\u001b[1;33m\u001b[0m\u001b[0m\n\u001b[0m\u001b[0;32m     41\u001b[0m \u001b[1;33m\u001b[0m\u001b[0m\n\u001b[0;32m     42\u001b[0m     \u001b[1;32mdef\u001b[0m \u001b[0mupdate_first_partition\u001b[0m\u001b[1;33m(\u001b[0m\u001b[0mself\u001b[0m\u001b[1;33m,\u001b[0m \u001b[0mpartition\u001b[0m\u001b[1;33m)\u001b[0m\u001b[1;33m:\u001b[0m\u001b[1;33m\u001b[0m\u001b[0m\n",
      "\u001b[1;32m/home/chiroptera/workspace/QCThesis/MyML/utils/sparse.py\u001b[0m in \u001b[0;36mupdate_partition\u001b[1;34m(self, partition)\u001b[0m\n\u001b[0;32m     52\u001b[0m         \u001b[1;32mfor\u001b[0m \u001b[0mcluster\u001b[0m \u001b[1;32min\u001b[0m \u001b[0mpartition\u001b[0m\u001b[1;33m:\u001b[0m\u001b[1;33m\u001b[0m\u001b[0m\n\u001b[0;32m     53\u001b[0m             new_nnz = update_fn(self.indices, self.data, self.indptr,\n\u001b[1;32m---> 54\u001b[1;33m                                 self.degree, cluster, self.max_assocs)\n\u001b[0m\u001b[0;32m     55\u001b[0m             \u001b[0mself\u001b[0m\u001b[1;33m.\u001b[0m\u001b[0mnnz\u001b[0m \u001b[1;33m+=\u001b[0m \u001b[0mnew_nnz\u001b[0m\u001b[1;33m\u001b[0m\u001b[0m\n\u001b[0;32m     56\u001b[0m             \u001b[0mnew_nnz_list\u001b[0m\u001b[1;33m.\u001b[0m\u001b[0mappend\u001b[0m\u001b[1;33m(\u001b[0m\u001b[0mnew_nnz\u001b[0m\u001b[1;33m)\u001b[0m\u001b[1;33m\u001b[0m\u001b[0m\n",
      "\u001b[1;32m/home/chiroptera/anaconda/lib/python2.7/site-packages/numba/dispatcher.pyc\u001b[0m in \u001b[0;36m_compile_for_args\u001b[1;34m(self, *args, **kws)\u001b[0m\n\u001b[0;32m    163\u001b[0m         \u001b[1;32massert\u001b[0m \u001b[1;32mnot\u001b[0m \u001b[0mkws\u001b[0m\u001b[1;33m\u001b[0m\u001b[0m\n\u001b[0;32m    164\u001b[0m         \u001b[0msig\u001b[0m \u001b[1;33m=\u001b[0m \u001b[0mtuple\u001b[0m\u001b[1;33m(\u001b[0m\u001b[1;33m[\u001b[0m\u001b[0mself\u001b[0m\u001b[1;33m.\u001b[0m\u001b[0mtypeof_pyval\u001b[0m\u001b[1;33m(\u001b[0m\u001b[0ma\u001b[0m\u001b[1;33m)\u001b[0m \u001b[1;32mfor\u001b[0m \u001b[0ma\u001b[0m \u001b[1;32min\u001b[0m \u001b[0margs\u001b[0m\u001b[1;33m]\u001b[0m\u001b[1;33m)\u001b[0m\u001b[1;33m\u001b[0m\u001b[0m\n\u001b[1;32m--> 165\u001b[1;33m         \u001b[1;32mreturn\u001b[0m \u001b[0mself\u001b[0m\u001b[1;33m.\u001b[0m\u001b[0mcompile\u001b[0m\u001b[1;33m(\u001b[0m\u001b[0msig\u001b[0m\u001b[1;33m)\u001b[0m\u001b[1;33m\u001b[0m\u001b[0m\n\u001b[0m\u001b[0;32m    166\u001b[0m \u001b[1;33m\u001b[0m\u001b[0m\n\u001b[0;32m    167\u001b[0m     \u001b[1;32mdef\u001b[0m \u001b[0minspect_llvm\u001b[0m\u001b[1;33m(\u001b[0m\u001b[0mself\u001b[0m\u001b[1;33m,\u001b[0m \u001b[0msignature\u001b[0m\u001b[1;33m=\u001b[0m\u001b[0mNone\u001b[0m\u001b[1;33m)\u001b[0m\u001b[1;33m:\u001b[0m\u001b[1;33m\u001b[0m\u001b[0m\n",
      "\u001b[1;32m/home/chiroptera/anaconda/lib/python2.7/site-packages/numba/dispatcher.pyc\u001b[0m in \u001b[0;36mcompile\u001b[1;34m(self, sig)\u001b[0m\n\u001b[0;32m    301\u001b[0m                                           \u001b[0mself\u001b[0m\u001b[1;33m.\u001b[0m\u001b[0mpy_func\u001b[0m\u001b[1;33m,\u001b[0m\u001b[1;33m\u001b[0m\u001b[0m\n\u001b[0;32m    302\u001b[0m                                           \u001b[0margs\u001b[0m\u001b[1;33m=\u001b[0m\u001b[0margs\u001b[0m\u001b[1;33m,\u001b[0m \u001b[0mreturn_type\u001b[0m\u001b[1;33m=\u001b[0m\u001b[0mreturn_type\u001b[0m\u001b[1;33m,\u001b[0m\u001b[1;33m\u001b[0m\u001b[0m\n\u001b[1;32m--> 303\u001b[1;33m                                           flags=flags, locals=self.locals)\n\u001b[0m\u001b[0;32m    304\u001b[0m \u001b[1;33m\u001b[0m\u001b[0m\n\u001b[0;32m    305\u001b[0m             \u001b[1;31m# Check typing error if object mode is used\u001b[0m\u001b[1;33m\u001b[0m\u001b[1;33m\u001b[0m\u001b[0m\n",
      "\u001b[1;32m/home/chiroptera/anaconda/lib/python2.7/site-packages/numba/compiler.pyc\u001b[0m in \u001b[0;36mcompile_extra\u001b[1;34m(typingctx, targetctx, func, args, return_type, flags, locals, library)\u001b[0m\n\u001b[0;32m    593\u001b[0m     pipeline = Pipeline(typingctx, targetctx, library,\n\u001b[0;32m    594\u001b[0m                         args, return_type, flags, locals)\n\u001b[1;32m--> 595\u001b[1;33m     \u001b[1;32mreturn\u001b[0m \u001b[0mpipeline\u001b[0m\u001b[1;33m.\u001b[0m\u001b[0mcompile_extra\u001b[0m\u001b[1;33m(\u001b[0m\u001b[0mfunc\u001b[0m\u001b[1;33m)\u001b[0m\u001b[1;33m\u001b[0m\u001b[0m\n\u001b[0m\u001b[0;32m    596\u001b[0m \u001b[1;33m\u001b[0m\u001b[0m\n\u001b[0;32m    597\u001b[0m \u001b[1;33m\u001b[0m\u001b[0m\n",
      "\u001b[1;32m/home/chiroptera/anaconda/lib/python2.7/site-packages/numba/compiler.pyc\u001b[0m in \u001b[0;36mcompile_extra\u001b[1;34m(self, func)\u001b[0m\n\u001b[0;32m    316\u001b[0m                 \u001b[1;32mraise\u001b[0m \u001b[0me\u001b[0m\u001b[1;33m\u001b[0m\u001b[0m\n\u001b[0;32m    317\u001b[0m \u001b[1;33m\u001b[0m\u001b[0m\n\u001b[1;32m--> 318\u001b[1;33m         \u001b[1;32mreturn\u001b[0m \u001b[0mself\u001b[0m\u001b[1;33m.\u001b[0m\u001b[0mcompile_bytecode\u001b[0m\u001b[1;33m(\u001b[0m\u001b[0mbc\u001b[0m\u001b[1;33m,\u001b[0m \u001b[0mfunc_attr\u001b[0m\u001b[1;33m=\u001b[0m\u001b[0mself\u001b[0m\u001b[1;33m.\u001b[0m\u001b[0mfunc_attr\u001b[0m\u001b[1;33m)\u001b[0m\u001b[1;33m\u001b[0m\u001b[0m\n\u001b[0m\u001b[0;32m    319\u001b[0m \u001b[1;33m\u001b[0m\u001b[0m\n\u001b[0;32m    320\u001b[0m     def compile_bytecode(self, bc, lifted=(), lifted_from=None,\n",
      "\u001b[1;32m/home/chiroptera/anaconda/lib/python2.7/site-packages/numba/compiler.pyc\u001b[0m in \u001b[0;36mcompile_bytecode\u001b[1;34m(self, bc, lifted, lifted_from, func_attr)\u001b[0m\n\u001b[0;32m    325\u001b[0m         \u001b[0mself\u001b[0m\u001b[1;33m.\u001b[0m\u001b[0mlifted_from\u001b[0m \u001b[1;33m=\u001b[0m \u001b[0mlifted_from\u001b[0m\u001b[1;33m\u001b[0m\u001b[0m\n\u001b[0;32m    326\u001b[0m         \u001b[0mself\u001b[0m\u001b[1;33m.\u001b[0m\u001b[0mfunc_attr\u001b[0m \u001b[1;33m=\u001b[0m \u001b[0mfunc_attr\u001b[0m\u001b[1;33m\u001b[0m\u001b[0m\n\u001b[1;32m--> 327\u001b[1;33m         \u001b[1;32mreturn\u001b[0m \u001b[0mself\u001b[0m\u001b[1;33m.\u001b[0m\u001b[0m_compile_bytecode\u001b[0m\u001b[1;33m(\u001b[0m\u001b[1;33m)\u001b[0m\u001b[1;33m\u001b[0m\u001b[0m\n\u001b[0m\u001b[0;32m    328\u001b[0m \u001b[1;33m\u001b[0m\u001b[0m\n\u001b[0;32m    329\u001b[0m     \u001b[1;32mdef\u001b[0m \u001b[0mcompile_internal\u001b[0m\u001b[1;33m(\u001b[0m\u001b[0mself\u001b[0m\u001b[1;33m,\u001b[0m \u001b[0mbc\u001b[0m\u001b[1;33m,\u001b[0m \u001b[0mfunc_attr\u001b[0m\u001b[1;33m=\u001b[0m\u001b[0mDEFAULT_FUNCTION_ATTRIBUTES\u001b[0m\u001b[1;33m)\u001b[0m\u001b[1;33m:\u001b[0m\u001b[1;33m\u001b[0m\u001b[0m\n",
      "\u001b[1;32m/home/chiroptera/anaconda/lib/python2.7/site-packages/numba/compiler.pyc\u001b[0m in \u001b[0;36m_compile_bytecode\u001b[1;34m(self)\u001b[0m\n\u001b[0;32m    580\u001b[0m \u001b[1;33m\u001b[0m\u001b[0m\n\u001b[0;32m    581\u001b[0m         \u001b[0mpm\u001b[0m\u001b[1;33m.\u001b[0m\u001b[0mfinalize\u001b[0m\u001b[1;33m(\u001b[0m\u001b[1;33m)\u001b[0m\u001b[1;33m\u001b[0m\u001b[0m\n\u001b[1;32m--> 582\u001b[1;33m         \u001b[1;32mreturn\u001b[0m \u001b[0mpm\u001b[0m\u001b[1;33m.\u001b[0m\u001b[0mrun\u001b[0m\u001b[1;33m(\u001b[0m\u001b[0mself\u001b[0m\u001b[1;33m.\u001b[0m\u001b[0mstatus\u001b[0m\u001b[1;33m)\u001b[0m\u001b[1;33m\u001b[0m\u001b[0m\n\u001b[0m\u001b[0;32m    583\u001b[0m \u001b[1;33m\u001b[0m\u001b[0m\n\u001b[0;32m    584\u001b[0m \u001b[1;33m\u001b[0m\u001b[0m\n",
      "\u001b[1;32m/home/chiroptera/anaconda/lib/python2.7/site-packages/numba/compiler.pyc\u001b[0m in \u001b[0;36mrun\u001b[1;34m(self, status)\u001b[0m\n\u001b[0;32m    207\u001b[0m                     \u001b[1;31m# No more fallback pipelines?\u001b[0m\u001b[1;33m\u001b[0m\u001b[1;33m\u001b[0m\u001b[0m\n\u001b[0;32m    208\u001b[0m                     \u001b[1;32mif\u001b[0m \u001b[0mis_final_pipeline\u001b[0m\u001b[1;33m:\u001b[0m\u001b[1;33m\u001b[0m\u001b[0m\n\u001b[1;32m--> 209\u001b[1;33m                         \u001b[1;32mraise\u001b[0m \u001b[0mpatched_exception\u001b[0m\u001b[1;33m\u001b[0m\u001b[0m\n\u001b[0m\u001b[0;32m    210\u001b[0m                     \u001b[1;31m# Go to next fallback pipeline\u001b[0m\u001b[1;33m\u001b[0m\u001b[1;33m\u001b[0m\u001b[0m\n\u001b[0;32m    211\u001b[0m                     \u001b[1;32melse\u001b[0m\u001b[1;33m:\u001b[0m\u001b[1;33m\u001b[0m\u001b[0m\n",
      "\u001b[1;31mTypingError\u001b[0m: Caused By:\nTraceback (most recent call last):\n  File \"/home/chiroptera/anaconda/lib/python2.7/site-packages/numba/compiler.py\", line 201, in run\n    res = stage()\n  File \"/home/chiroptera/anaconda/lib/python2.7/site-packages/numba/compiler.py\", line 415, in stage_nopython_frontend\n    self.locals)\n  File \"/home/chiroptera/anaconda/lib/python2.7/site-packages/numba/compiler.py\", line 709, in type_inference_stage\n    infer.build_constrain()\n  File \"/home/chiroptera/anaconda/lib/python2.7/site-packages/numba/typeinfer.py\", line 395, in build_constrain\n    self.constrain_statement(inst)\n  File \"/home/chiroptera/anaconda/lib/python2.7/site-packages/numba/typeinfer.py\", line 519, in constrain_statement\n    self.typeof_assign(inst)\n  File \"/home/chiroptera/anaconda/lib/python2.7/site-packages/numba/typeinfer.py\", line 551, in typeof_assign\n    self.typeof_global(inst, inst.target, value)\n  File \"/home/chiroptera/anaconda/lib/python2.7/site-packages/numba/typeinfer.py\", line 616, in typeof_global\n    loc=inst.loc)\nTypingError: Untyped global name 'idx'\nFile \"MyML/utils/sparse.py\", line 451\n\nFailed at nopython (nopython frontend)\nUntyped global name 'idx'\nFile \"MyML/utils/sparse.py\", line 451"
     ]
    }
   ],
   "source": [
    "mat0 = mySparse.EAC_CSR(n_samples=n_samples, max_assocs=max_assocs)\n",
    "%time mat0._update_ensemble(ensemble)\n",
    "\n",
    "mat1 = mySparse.EAC_CSR(n_samples=n_samples, max_assocs=max_assocs)\n",
    "mat1.sort_mode = \"online\"\n",
    "mat1.update_cluster_function = mySparse.update_cluster_sorted\n",
    "%time mat1._update_ensemble(ensemble)\n",
    "\n",
    "mat2 = mySparse.EAC_CSR(n_samples=n_samples, max_assocs=max_assocs)\n",
    "mat2.sort_mode = \"online\"\n",
    "mat2.update_cluster_function = mySparse.update_cluster_sorted_simple\n",
    "%time mat2._update_ensemble(ensemble)\n",
    "\n",
    "mat3 = mySparse.EAC_CSR(n_samples=n_samples, max_assocs=max_assocs)\n",
    "mat3.sort_mode = \"online\"\n",
    "mat3.update_cluster_function = mySparse.update_cluster_sorted_surgical\n",
    "%time mat3._update_ensemble(ensemble)"
   ]
  },
  {
   "cell_type": "code",
   "execution_count": 206,
   "metadata": {
    "collapsed": true
   },
   "outputs": [],
   "source": [
    "setup1 = \"\"\"import MyML.utils.sparse as mySparse\n",
    "mat1 = mySparse.EAC_CSR(n_samples=n_samples, max_assocs=max_assocs)\n",
    "mat1.sort_mode = \"online\"\n",
    "mat1.update_cluster_function = mySparse.update_cluster_sorted\"\"\""
   ]
  },
  {
   "cell_type": "code",
   "execution_count": 165,
   "metadata": {
    "collapsed": false
   },
   "outputs": [
    {
     "name": "stdout",
     "output_type": "stream",
     "text": [
      "[3826, 4166, 8104, 262, 7130, 80, 17168, 1862, 528, 720, 704, 4016, 2088, 1780, 2224, 710, 3644, 15364, 10480, 15918, 0, 25786, 12662, 0, 1628, 23650, 4200, 1116, 5918, 0, 9282, 1946, 14522, 3060, 4856, 9420, 1560, 152, 1818]\n",
      "[3974, 7101, 8368, 1555, 10766, 82, 17452, 10889, 605, 1306, 4752, 4455, 2293, 1864, 2475, 873, 9293, 21415, 15219, 24665, 79, 27261, 13131, 0, 1782, 27013, 5335, 1209, 10117, 120, 11945, 2112, 20473, 3263, 5062, 11091, 2067, 219, 6458]\n"
     ]
    }
   ],
   "source": [
    "print mat2.new_nnz_list[1]\n",
    "print mat3.new_nnz_list[1]"
   ]
  },
  {
   "cell_type": "code",
   "execution_count": 188,
   "metadata": {
    "collapsed": false
   },
   "outputs": [
    {
     "name": "stdout",
     "output_type": "stream",
     "text": [
      "CPU times: user 309 ms, sys: 4.01 ms, total: 313 ms\n",
      "Wall time: 308 ms\n",
      "CPU times: user 11.6 ms, sys: 0 ns, total: 11.6 ms\n",
      "Wall time: 11.6 ms\n",
      "CPU times: user 11.2 ms, sys: 0 ns, total: 11.2 ms\n",
      "Wall time: 11.4 ms\n",
      "CPU times: user 17.1 ms, sys: 14 µs, total: 17.1 ms\n",
      "Wall time: 17.3 ms\n"
     ]
    }
   ],
   "source": [
    "%time mat0._condense()\n",
    "%time mat1._condense()\n",
    "%time mat2._condense()\n",
    "%time mat3._condense()"
   ]
  },
  {
   "cell_type": "code",
   "execution_count": 189,
   "metadata": {
    "collapsed": false
   },
   "outputs": [
    {
     "name": "stdout",
     "output_type": "stream",
     "text": [
      "CPU times: user 620 ms, sys: 4.01 ms, total: 624 ms\n",
      "Wall time: 621 ms\n"
     ]
    }
   ],
   "source": [
    "eacEst = eac.EAC(n_samples=n_samples)\n",
    "%time eacEst.fit(ensemble)\n",
    "eacEst._getAssocsDegree()"
   ]
  },
  {
   "cell_type": "code",
   "execution_count": 192,
   "metadata": {
    "collapsed": false
   },
   "outputs": [
    {
     "name": "stdout",
     "output_type": "stream",
     "text": [
      "CPU times: user 8.22 s, sys: 35.8 ms, total: 8.25 s\n",
      "Wall time: 8.23 s\n"
     ]
    }
   ],
   "source": [
    "reload(mySparse)\n",
    "mat3 = mySparse.EAC_CSR(n_samples=n_samples, max_assocs=max_assocs)\n",
    "mat3.sort_mode = \"online\"\n",
    "mat3.update_cluster_function = mySparse.update_cluster_sorted_surgical\n",
    "%time mat3._update_ensemble(ensemble)\n",
    "mat3._condense()"
   ]
  },
  {
   "cell_type": "code",
   "execution_count": 199,
   "metadata": {
    "collapsed": false
   },
   "outputs": [
    {
     "name": "stdout",
     "output_type": "stream",
     "text": [
      "check matrices\n",
      "mat0:  True\n",
      "mat1:  True\n",
      "mat2:  True\n",
      "mat3:  False\n"
     ]
    }
   ],
   "source": [
    "print \"check matrices\"\n",
    "print \"mat0: \", (eacEst._coassoc == mat0.todense()).all()\n",
    "print \"mat1: \", (eacEst._coassoc == mat1.todense()).all()\n",
    "print \"mat2: \", (eacEst._coassoc == mat2.todense()).all()\n",
    "print \"mat3: \", (eacEst._coassoc == mat3.todense()).all()"
   ]
  },
  {
   "cell_type": "code",
   "execution_count": 200,
   "metadata": {
    "collapsed": false
   },
   "outputs": [
    {
     "name": "stdout",
     "output_type": "stream",
     "text": [
      "eac:   2976590\n",
      "mat0:  2976590\n",
      "mat1:  2976590\n",
      "mat2:  2976590\n",
      "mat3:  4891864\n"
     ]
    }
   ],
   "source": [
    "print \"eac:  \", eacEst.nnz\n",
    "print \"mat0: \",mat0.nnz\n",
    "print \"mat1: \",mat1.nnz\n",
    "print \"mat2: \",mat2.nnz\n",
    "print \"mat3: \",mat3.nnz"
   ]
  },
  {
   "cell_type": "markdown",
   "metadata": {},
   "source": [
    "# Test linkages"
   ]
  },
  {
   "cell_type": "code",
   "execution_count": 1,
   "metadata": {
    "collapsed": false
   },
   "outputs": [
    {
     "name": "stderr",
     "output_type": "stream",
     "text": [
      "/home/chiroptera/anaconda/lib/python2.7/site-packages/numba/cuda/decorators.py:106: UserWarning: autojit is deprecated and will be removed in a future release. Use jit instead.\n",
      "  warn('autojit is deprecated and will be removed in a future release. Use jit instead.')\n"
     ]
    }
   ],
   "source": [
    "import MyML.metrics.accuracy as myAcc\n",
    "import numpy as np\n",
    "import MyML.helper.partition as myPart\n",
    "import MyML.cluster.K_Means3 as myKM\n",
    "import MyML.utils.sparse as mySparse\n",
    "import MyML.cluster.eac as eac\n",
    "from sklearn.datasets import make_blobs"
   ]
  },
  {
   "cell_type": "code",
   "execution_count": 2,
   "metadata": {
    "collapsed": false
   },
   "outputs": [
    {
     "name": "stdout",
     "output_type": "stream",
     "text": [
      "CPU times: user 1.86 s, sys: 148 ms, total: 2.01 s\n",
      "Wall time: 2.01 s\n",
      "max assocs 2499\n",
      "CPU times: user 7.57 s, sys: 12.2 ms, total: 7.58 s\n",
      "Wall time: 7.56 s\n",
      "CPU times: user 223 ms, sys: 0 ns, total: 223 ms\n",
      "Wall time: 223 ms\n",
      "CPU times: user 810 ms, sys: 20 ms, total: 829 ms\n",
      "Wall time: 829 ms\n",
      "equal mats True\n",
      "3316272\n"
     ]
    }
   ],
   "source": [
    "data,gt = make_blobs(n_samples=5000, n_features=2, centers=6)\n",
    "data = data.astype(np.float32)\n",
    "n_samples = data.shape[0]\n",
    "\n",
    "generator = myKM.K_Means(cuda_mem=\"manual\")\n",
    "generator._MAX_THREADS_BLOCK = 256\n",
    "\n",
    "sqrt_rule = lambda n: map(int, map(np.ceil, [np.sqrt(n) / 2, np.sqrt(n)]))\n",
    "n_clusters = sqrt_rule(data.shape[0])\n",
    "\n",
    "%time ensemble = myPart.generateEnsemble(data, generator, n_clusters, npartitions=100)\n",
    "\n",
    "bgs = mySparse._compute_max_assocs_from_ensemble(ensemble)\n",
    "max_assocs = bgs * 3\n",
    "print \"max assocs\", max_assocs\n",
    "\n",
    "mat1 = mySparse.EAC_CSR(n_samples=n_samples, max_assocs=max_assocs)\n",
    "mat1.sort_mode = \"online\"\n",
    "mat1.update_cluster_function = mySparse.update_cluster_sorted\n",
    "%time mat1._update_ensemble(ensemble)\n",
    "%time mat1._condense()\n",
    "\n",
    "eacEst = eac.EAC(n_samples=n_samples)\n",
    "%time eacEst.fit(ensemble)\n",
    "\n",
    "print \"equal mats\", (eacEst._coassoc == mat1.todense()).all()\n",
    "print mat1.nnz"
   ]
  },
  {
   "cell_type": "code",
   "execution_count": 3,
   "metadata": {
    "collapsed": false
   },
   "outputs": [
    {
     "data": {
      "text/plain": [
       "<module 'MyML.cluster.linkage' from '/home/chiroptera/workspace/QCThesis/MyML/cluster/linkage.pyc'>"
      ]
     },
     "execution_count": 3,
     "metadata": {},
     "output_type": "execute_result"
    }
   ],
   "source": [
    "import MyML.cluster.linkage as myLinkage\n",
    "reload(myLinkage)"
   ]
  },
  {
   "cell_type": "code",
   "execution_count": 4,
   "metadata": {
    "collapsed": false
   },
   "outputs": [
    {
     "name": "stdout",
     "output_type": "stream",
     "text": [
      "CPU times: user 629 ms, sys: 8.21 ms, total: 637 ms\n",
      "Wall time: 627 ms\n",
      "CPU times: user 1.14 s, sys: 249 ms, total: 1.39 s\n",
      "Wall time: 1.38 s\n",
      "0.1668\n"
     ]
    }
   ],
   "source": [
    "eacEst = eac.EAC(n_samples=n_samples)\n",
    "%time eacEst.fit(ensemble)\n",
    "%time labels = eacEst._lifetime_clustering()\n",
    "accScorer = myAcc.HungarianIndex(nsamples=data.shape[0])\n",
    "accScorer.score(gt, labels)\n",
    "print accScorer.accuracy"
   ]
  },
  {
   "cell_type": "code",
   "execution_count": 9,
   "metadata": {
    "collapsed": true
   },
   "outputs": [],
   "source": [
    "dest = mat1.indices\n",
    "weight = mat1.data.max() + 1 - mat1.data\n",
    "fe = mat1.indptr[:-1]\n",
    "od = mat1.indptr[1:]"
   ]
  },
  {
   "cell_type": "code",
   "execution_count": 11,
   "metadata": {
    "collapsed": false
   },
   "outputs": [
    {
     "data": {
      "text/plain": [
       "663.0"
      ]
     },
     "execution_count": 11,
     "metadata": {},
     "output_type": "execute_result"
    }
   ],
   "source": [
    "dest.size / fe.size * 1.0"
   ]
  },
  {
   "cell_type": "code",
   "execution_count": 12,
   "metadata": {
    "collapsed": false,
    "scrolled": true
   },
   "outputs": [
    {
     "name": "stdout",
     "output_type": "stream",
     "text": [
      "CPU times: user 51.5 s, sys: 0 ns, total: 51.5 s\n",
      "Wall time: 51.7 s\n"
     ]
    },
    {
     "data": {
      "text/plain": [
       "array([   0,    1,    2, ..., 4974, 4975, 4976], dtype=int32)"
      ]
     },
     "execution_count": 12,
     "metadata": {},
     "output_type": "execute_result"
    }
   ],
   "source": [
    "reload(myLinkage)\n",
    "%time myLinkage.sl_mst_lifetime_seq(dest, weight, fe, od, disconnect_weight = None)"
   ]
  },
  {
   "cell_type": "code",
   "execution_count": 7,
   "metadata": {
    "collapsed": true
   },
   "outputs": [],
   "source": [
    "import MyML.graph.mst as myMST"
   ]
  },
  {
   "cell_type": "code",
   "execution_count": 8,
   "metadata": {
    "collapsed": false
   },
   "outputs": [
    {
     "data": {
      "text/plain": [
       "(array([  92, 1148, 2274, ...,    0,    0,    0], dtype=int32), 4999)"
      ]
     },
     "execution_count": 8,
     "metadata": {},
     "output_type": "execute_result"
    }
   ],
   "source": [
    "myMST.boruvka_minho_seq(dest, weight, fe, od)"
   ]
  },
  {
   "cell_type": "code",
   "execution_count": null,
   "metadata": {
    "collapsed": true
   },
   "outputs": [],
   "source": [
    "myLinkage.sl_mst_lifetime_gpu(dest, weight, fe, od, disconnect_weight = None)"
   ]
  },
  {
   "cell_type": "code",
   "execution_count": null,
   "metadata": {
    "collapsed": true
   },
   "outputs": [],
   "source": [
    "b MyML/cluster/linkage.py:24"
   ]
  }
 ],
 "metadata": {
  "kernelspec": {
   "display_name": "Python 2",
   "language": "python",
   "name": "python2"
  },
  "language_info": {
   "codemirror_mode": {
    "name": "ipython",
    "version": 2
   },
   "file_extension": ".py",
   "mimetype": "text/x-python",
   "name": "python",
   "nbconvert_exporter": "python",
   "pygments_lexer": "ipython2",
   "version": "2.7.10"
  }
 },
 "nbformat": 4,
 "nbformat_minor": 0
}
