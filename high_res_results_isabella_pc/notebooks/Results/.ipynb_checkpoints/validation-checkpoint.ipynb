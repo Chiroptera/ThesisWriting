{
 "cells": [
  {
   "cell_type": "code",
   "execution_count": null,
   "metadata": {
    "collapsed": false
   },
   "outputs": [],
   "source": [
    "import numpy as np\n",
    "import seaborn as sb\n",
    "import pandas as pd\n",
    "import MyML.cluster.K_Means3 as myKM\n",
    "import MyML.cluster.eac as eac\n",
    "import MyML.helper.partition as mpart\n",
    "import MyML.metrics.accuracy as accuracy\n",
    "import MyML.cluster.linkage as linkage"
   ]
  },
  {
   "cell_type": "markdown",
   "metadata": {},
   "source": [
    "# Prepare datasets"
   ]
  },
  {
   "cell_type": "code",
   "execution_count": 2,
   "metadata": {
    "collapsed": false
   },
   "outputs": [],
   "source": [
    "import sklearn.datasets\n",
    "from sklearn.preprocessing import normalize"
   ]
  },
  {
   "cell_type": "code",
   "execution_count": 3,
   "metadata": {
    "collapsed": true
   },
   "outputs": [],
   "source": [
    "datasets_path = '/home/chiroptera/QCThesis/datasets/'"
   ]
  },
  {
   "cell_type": "code",
   "execution_count": 4,
   "metadata": {
    "collapsed": false
   },
   "outputs": [],
   "source": [
    "datasets = dict()"
   ]
  },
  {
   "cell_type": "markdown",
   "metadata": {
    "collapsed": false
   },
   "source": [
    "## iris"
   ]
  },
  {
   "cell_type": "code",
   "execution_count": 5,
   "metadata": {
    "collapsed": true
   },
   "outputs": [],
   "source": [
    "iris = sklearn.datasets.load_iris()\n",
    "data = iris.data.astype(np.float32)\n",
    "gt = iris.target\n",
    "\n",
    "datasets['iris'] = {'data':data, 'gt':gt}"
   ]
  },
  {
   "cell_type": "markdown",
   "metadata": {},
   "source": [
    "## wine"
   ]
  },
  {
   "cell_type": "code",
   "execution_count": 6,
   "metadata": {
    "collapsed": true
   },
   "outputs": [],
   "source": [
    "wine = sklearn.datasets.fetch_mldata('uci-20070111 wine', data_home='~/')\n",
    "data = wine.data.astype(np.float32)\n",
    "data_norm = normalize(wine.data, axis=0).astype(np.float32)\n",
    "gt = wine.target.astype(np.int32)\n",
    "\n",
    "datasets['wine'] = {'data':data, 'gt':gt}\n",
    "datasets['wine_norm'] = {'data':data_norm, 'gt':gt}"
   ]
  },
  {
   "cell_type": "markdown",
   "metadata": {},
   "source": [
    "## ionosphere"
   ]
  },
  {
   "cell_type": "code",
   "execution_count": 7,
   "metadata": {
    "collapsed": false
   },
   "outputs": [
    {
     "name": "stdout",
     "output_type": "stream",
     "text": [
      "(351, 35)\n"
     ]
    }
   ],
   "source": [
    "dataname = datasets_path + \"ionosphere/ionosphere.data\"\n",
    "\n",
    "dataset = pd.read_csv(dataname, header=None, sep=\",\")\n",
    "print dataset.shape\n",
    "dataset.head()\n",
    "\n",
    "data = dataset.values[:,:-1].astype(np.float32)\n",
    "gt = dataset.values[:,-1]\n",
    "gt[gt=='g'] = 1\n",
    "gt[gt=='b'] = 0\n",
    "gt = gt.astype(np.int32)\n",
    "\n",
    "datasets['ionosphere'] = {'data':data, 'gt':gt}"
   ]
  },
  {
   "cell_type": "markdown",
   "metadata": {},
   "source": [
    "## optdigits"
   ]
  },
  {
   "cell_type": "code",
   "execution_count": 8,
   "metadata": {
    "collapsed": true
   },
   "outputs": [],
   "source": [
    "optdigits = sklearn.datasets.load_digits(n_class=10)\n",
    "data = np.float32(optdigits.data)\n",
    "gt = np.int32(optdigits.target)\n",
    "\n",
    "datasets['optdigits'] = {'data':data, 'gt':gt}"
   ]
  },
  {
   "cell_type": "code",
   "execution_count": 9,
   "metadata": {
    "collapsed": false
   },
   "outputs": [],
   "source": [
    "dataname = datasets_path + 'optdigits/optdigits.tra'\n",
    "\n",
    "dataset = pd.read_csv(dataname, header=None, sep=\",\")\n",
    "data = dataset.get_values()[:,:-1]\n",
    "data = data.astype(np.float32)\n",
    "gt = dataset.get_values()[:,-1]\n",
    "gt = gt.astype(np.int32)\n",
    "\n",
    "datasets['optdigits'] = {'data':data, 'gt':gt}"
   ]
  },
  {
   "cell_type": "markdown",
   "metadata": {},
   "source": [
    "## mfeat-fou"
   ]
  },
  {
   "cell_type": "code",
   "execution_count": 10,
   "metadata": {
    "collapsed": false
   },
   "outputs": [
    {
     "name": "stderr",
     "output_type": "stream",
     "text": [
      "/home/chiroptera/anaconda/lib/python2.7/site-packages/pandas/io/parsers.py:648: ParserWarning: Falling back to the 'python' engine because the 'c' engine does not support regex separators; you can avoid this warning by specifying engine='python'.\n",
      "  ParserWarning)\n"
     ]
    }
   ],
   "source": [
    "dataname = datasets_path + \"mfeat/mfeat-fou.asc\"\n",
    "\n",
    "dataset = pd.read_csv(dataname, header=None, sep=\"  \")\n",
    "data = dataset.get_values().astype(np.float32)\n",
    "gt = np.empty(dataset.shape[0], dtype=np.int32)\n",
    "for i in range(10):\n",
    "    gt[i*200 : i*200+200]=i\n",
    "    \n",
    "datasets['mfeat_fou'] = {'data':data, 'gt':gt}"
   ]
  },
  {
   "cell_type": "markdown",
   "metadata": {},
   "source": [
    "## breast-cancer"
   ]
  },
  {
   "cell_type": "code",
   "execution_count": 11,
   "metadata": {
    "collapsed": true
   },
   "outputs": [],
   "source": [
    "dataname = datasets_path + \"breast-cancer/breast-cancer\"\n",
    "\n",
    "data, gt = sklearn.datasets.load_svmlight_file(dataname)\n",
    "data = data.todense().astype(np.float32)\n",
    "gt = gt.astype(np.int32)\n",
    "\n",
    "datasets['breast_cancer'] = {'data':data, 'gt':gt}"
   ]
  },
  {
   "cell_type": "markdown",
   "metadata": {},
   "source": [
    "## pima"
   ]
  },
  {
   "cell_type": "code",
   "execution_count": 12,
   "metadata": {
    "collapsed": false
   },
   "outputs": [],
   "source": [
    "dataname = datasets_path + \"pima/pima-indians-diabetes.data\"\n",
    "\n",
    "pima = pd.read_csv(dataname, header=None, sep=\",\")\n",
    "data = pima.get_values()[:,:-1].astype(np.float32)\n",
    "data_norm = normalize(data, axis=0).astype(np.float32)\n",
    "gt = pima.get_values()[:,-1].astype(np.int32)\n",
    "    \n",
    "datasets['pima'] = {'data':data, 'gt':gt}\n",
    "datasets['pima_norm'] = {'data':data_norm, 'gt':gt}"
   ]
  },
  {
   "cell_type": "markdown",
   "metadata": {},
   "source": [
    "## isolet"
   ]
  },
  {
   "cell_type": "code",
   "execution_count": 13,
   "metadata": {
    "collapsed": false
   },
   "outputs": [
    {
     "data": {
      "text/plain": [
       "(3823, 64)"
      ]
     },
     "execution_count": 13,
     "metadata": {},
     "output_type": "execute_result"
    }
   ],
   "source": [
    "datasets['optdigits']['data'].shape"
   ]
  },
  {
   "cell_type": "code",
   "execution_count": 14,
   "metadata": {
    "collapsed": false
   },
   "outputs": [],
   "source": [
    "dataname = datasets_path + \"isolet/isolet1-5.data\"\n",
    "\n",
    "dataset = pd.read_csv(dataname, header=None, sep=\",\")\n",
    "data = dataset.get_values().astype(np.float32)[:,:-1]\n",
    "gt = dataset.get_values()[:,-1].astype(np.int32)\n",
    "\n",
    "datasets['isolet'] = {'data':data, 'gt':gt}"
   ]
  },
  {
   "cell_type": "markdown",
   "metadata": {},
   "source": [
    "## ECG IT"
   ]
  },
  {
   "cell_type": "code",
   "execution_count": 15,
   "metadata": {
    "collapsed": false
   },
   "outputs": [],
   "source": [
    "dataname = datasets_path + \"ecg_it/ecg_it.data\"\n",
    "dataset = pd.read_csv(dataname, header=None, sep=\",\")\n",
    "data = dataset.values[1:,1:-1].astype(np.float32)\n",
    "gt = dataset.values[1:,-1].astype(np.int32)\n",
    "\n",
    "#remove unlabeled\n",
    "labeled_idx = gt!=2\n",
    "data = data[labeled_idx]\n",
    "gt = gt[labeled_idx]"
   ]
  },
  {
   "cell_type": "code",
   "execution_count": 16,
   "metadata": {
    "collapsed": false
   },
   "outputs": [],
   "source": [
    "gt0 = gt==0\n",
    "gt1 = gt==1"
   ]
  },
  {
   "cell_type": "code",
   "execution_count": 17,
   "metadata": {
    "collapsed": false
   },
   "outputs": [],
   "source": [
    "data = np.concatenate((data[gt0],data[gt1][:600]))\n",
    "gt = np.concatenate((gt[gt0],gt[gt1][:600]))"
   ]
  },
  {
   "cell_type": "markdown",
   "metadata": {},
   "source": [
    "## MNIST"
   ]
  },
  {
   "cell_type": "code",
   "execution_count": 18,
   "metadata": {
    "collapsed": false
   },
   "outputs": [],
   "source": [
    "import sklearn.datasets\n",
    "mnist = sklearn.datasets.fetch_mldata('MNIST (original)', data_home='~/')\n",
    "data = mnist.data.astype(np.float32)\n",
    "gt = mnist.target.astype(np.int32)\n",
    "\n",
    "datasets['mnist'] = {'data':data, 'gt':gt}"
   ]
  },
  {
   "cell_type": "code",
   "execution_count": 19,
   "metadata": {
    "collapsed": false
   },
   "outputs": [
    {
     "data": {
      "text/plain": [
       "['optdigits',\n",
       " 'iris',\n",
       " 'breast_cancer',\n",
       " 'isolet',\n",
       " 'pima_norm',\n",
       " 'mfeat_fou',\n",
       " 'wine_norm',\n",
       " 'pima',\n",
       " 'ionosphere',\n",
       " 'mnist',\n",
       " 'wine']"
      ]
     },
     "execution_count": 19,
     "metadata": {},
     "output_type": "execute_result"
    }
   ],
   "source": [
    "datasets.keys()"
   ]
  },
  {
   "cell_type": "code",
   "execution_count": 20,
   "metadata": {
    "collapsed": false
   },
   "outputs": [],
   "source": [
    "from scipy.io import savemat"
   ]
  },
  {
   "cell_type": "code",
   "execution_count": 21,
   "metadata": {
    "collapsed": false
   },
   "outputs": [],
   "source": [
    "savemat(datasets_path + 'dataset.mat', datasets)"
   ]
  },
  {
   "cell_type": "markdown",
   "metadata": {},
   "source": [
    "# Process"
   ]
  },
  {
   "cell_type": "code",
   "execution_count": 22,
   "metadata": {
    "collapsed": false
   },
   "outputs": [],
   "source": [
    "import MyML.cluster.K_Means3 as myKM\n",
    "import MyML.EAC.eac_new as eac\n",
    "import MyML.helper.partition as part\n",
    "import MyML.EAC.rules as rules\n",
    "import MyML.metrics.accuracy as acc\n",
    "import MyML.utils.profiling as prof"
   ]
  },
  {
   "cell_type": "code",
   "execution_count": 23,
   "metadata": {
    "collapsed": true
   },
   "outputs": [],
   "source": [
    "data = datasets['iris']['data']\n",
    "gt = datasets['iris']['gt']"
   ]
  },
  {
   "cell_type": "code",
   "execution_count": 24,
   "metadata": {
    "collapsed": false
   },
   "outputs": [
    {
     "name": "stdout",
     "output_type": "stream",
     "text": [
      "(3823, 64) \toptdigits\n",
      "(150, 4) \tiris\n",
      "(683, 10) \tbreast_cancer\n",
      "(7797, 617) \tisolet\n",
      "(768, 8) \tpima_norm\n",
      "(2000, 76) \tmfeat_fou\n",
      "(178, 4) \twine_norm\n",
      "(768, 8) \tpima\n",
      "(351, 34) \tionosphere\n",
      "(70000, 784) \tmnist\n",
      "(178, 4) \twine\n"
     ]
    }
   ],
   "source": [
    "for name, ds in datasets.iteritems():\n",
    "    print ds['data'].shape, '\\t', name"
   ]
  },
  {
   "cell_type": "code",
   "execution_count": 26,
   "metadata": {
    "collapsed": false
   },
   "outputs": [],
   "source": [
    "validation_my_eac = pd.DataFrame(index=datasets.keys(), columns=['accuracy', 'n_clusts','lifetime accuracy', 'lifetime n_clusts', 'ensemble time', 'build time', 'clustering time'])"
   ]
  },
  {
   "cell_type": "code",
   "execution_count": 27,
   "metadata": {
    "collapsed": false
   },
   "outputs": [
    {
     "name": "stdout",
     "output_type": "stream",
     "text": [
      "optdigits float32\n",
      "optdigits: 0.200627779231 - 0.199843055192\n",
      "iris float32\n",
      "iris: 0.973333333333 - 0.666666666667\n",
      "breast_cancer float32\n",
      "breast_cancer: 0.647144948755 - 0.600292825769\n",
      "isolet float32\n",
      "isolet: 0.0592535590612 - 0.0389893548801\n",
      "pima_norm float32\n",
      "pima_norm: 0.649739583333 - 0.649739583333\n",
      "mfeat_fou float32\n",
      "mfeat_fou: 0.1025 - 0.101\n",
      "wine_norm float32\n",
      "wine_norm: 0.780898876404 - 0.522471910112\n",
      "pima float32\n",
      "pima: 0.645833333333 - 0.494791666667\n",
      "ionosphere float32\n",
      "ionosphere: 0.643874643875 - 0.643874643875\n",
      "mnist float32\n"
     ]
    },
    {
     "ename": "MemoryError",
     "evalue": "",
     "output_type": "error",
     "traceback": [
      "\u001b[1;31m---------------------------------------------------------------------------\u001b[0m",
      "\u001b[1;31mMemoryError\u001b[0m                               Traceback (most recent call last)",
      "\u001b[1;32m<ipython-input-27-ecec791fc5e6>\u001b[0m in \u001b[0;36m<module>\u001b[1;34m()\u001b[0m\n\u001b[0;32m     23\u001b[0m     \u001b[0mt\u001b[0m\u001b[1;33m.\u001b[0m\u001b[0mreset\u001b[0m\u001b[1;33m(\u001b[0m\u001b[1;33m)\u001b[0m\u001b[1;33m\u001b[0m\u001b[0m\n\u001b[0;32m     24\u001b[0m     \u001b[0mt\u001b[0m\u001b[1;33m.\u001b[0m\u001b[0mtic\u001b[0m\u001b[1;33m(\u001b[0m\u001b[1;33m)\u001b[0m\u001b[1;33m\u001b[0m\u001b[0m\n\u001b[1;32m---> 25\u001b[1;33m     \u001b[0meacEst\u001b[0m\u001b[1;33m.\u001b[0m\u001b[0mbuildMatrix\u001b[0m\u001b[1;33m(\u001b[0m\u001b[0mensemble\u001b[0m\u001b[1;33m)\u001b[0m\u001b[1;33m\u001b[0m\u001b[0m\n\u001b[0m\u001b[0;32m     26\u001b[0m     \u001b[0mbuild_time\u001b[0m \u001b[1;33m=\u001b[0m \u001b[0mt\u001b[0m\u001b[1;33m.\u001b[0m\u001b[0mtac\u001b[0m\u001b[1;33m(\u001b[0m\u001b[1;33m)\u001b[0m\u001b[1;33m\u001b[0m\u001b[0m\n\u001b[0;32m     27\u001b[0m \u001b[1;33m\u001b[0m\u001b[0m\n",
      "\u001b[1;32m/home/chiroptera/workspace/QCThesis/MyML/EAC/eac_new.pyc\u001b[0m in \u001b[0;36mbuildMatrix\u001b[1;34m(self, ensemble)\u001b[0m\n\u001b[0;32m    128\u001b[0m         \u001b[1;32melif\u001b[0m \u001b[0mself\u001b[0m\u001b[1;33m.\u001b[0m\u001b[0mfull\u001b[0m\u001b[1;33m:\u001b[0m\u001b[1;33m\u001b[0m\u001b[0m\n\u001b[0;32m    129\u001b[0m             coassoc = EAC_FULL(self.n_samples, condensed=self.condensed,\n\u001b[1;32m--> 130\u001b[1;33m                                dtype=self.assoc_dtype)\n\u001b[0m\u001b[0;32m    131\u001b[0m             \u001b[0mcoassoc\u001b[0m\u001b[1;33m.\u001b[0m\u001b[0mupdate_ensemble\u001b[0m\u001b[1;33m(\u001b[0m\u001b[0mensemble\u001b[0m\u001b[1;33m)\u001b[0m\u001b[1;33m\u001b[0m\u001b[0m\n\u001b[0;32m    132\u001b[0m             \u001b[0mcoassoc\u001b[0m\u001b[1;33m.\u001b[0m\u001b[0mget_degree\u001b[0m\u001b[1;33m(\u001b[0m\u001b[1;33m)\u001b[0m \u001b[1;31m# get association degree and nnz\u001b[0m\u001b[1;33m\u001b[0m\u001b[0m\n",
      "\u001b[1;32m/home/chiroptera/workspace/QCThesis/MyML/EAC/full.pyc\u001b[0m in \u001b[0;36m__init__\u001b[1;34m(self, n_samples, dtype, condensed, **kwargs)\u001b[0m\n\u001b[0;32m     23\u001b[0m         \u001b[1;32mif\u001b[0m \u001b[0mself\u001b[0m\u001b[1;33m.\u001b[0m\u001b[0mcondensed\u001b[0m\u001b[1;33m:\u001b[0m\u001b[1;33m\u001b[0m\u001b[0m\n\u001b[0;32m     24\u001b[0m             \u001b[0mn\u001b[0m \u001b[1;33m=\u001b[0m \u001b[0msum\u001b[0m\u001b[1;33m(\u001b[0m\u001b[0mxrange\u001b[0m\u001b[1;33m(\u001b[0m\u001b[1;36m1\u001b[0m\u001b[1;33m,\u001b[0m \u001b[0mn_samples\u001b[0m\u001b[1;33m)\u001b[0m\u001b[1;33m)\u001b[0m\u001b[1;33m\u001b[0m\u001b[0m\n\u001b[1;32m---> 25\u001b[1;33m             \u001b[0mself\u001b[0m\u001b[1;33m.\u001b[0m\u001b[0mcoassoc\u001b[0m \u001b[1;33m=\u001b[0m \u001b[0mnp\u001b[0m\u001b[1;33m.\u001b[0m\u001b[0mzeros\u001b[0m\u001b[1;33m(\u001b[0m\u001b[0mn\u001b[0m\u001b[1;33m,\u001b[0m \u001b[0mdtype\u001b[0m\u001b[1;33m=\u001b[0m\u001b[0mdtype\u001b[0m\u001b[1;33m)\u001b[0m\u001b[1;33m\u001b[0m\u001b[0m\n\u001b[0m\u001b[0;32m     26\u001b[0m             \u001b[0mself\u001b[0m\u001b[1;33m.\u001b[0m\u001b[0mupdate_partition\u001b[0m \u001b[1;33m=\u001b[0m \u001b[0mself\u001b[0m\u001b[1;33m.\u001b[0m\u001b[0m_update_partition_condensed\u001b[0m\u001b[1;33m\u001b[0m\u001b[0m\n\u001b[0;32m     27\u001b[0m         \u001b[1;32melse\u001b[0m\u001b[1;33m:\u001b[0m\u001b[1;33m\u001b[0m\u001b[0m\n",
      "\u001b[1;31mMemoryError\u001b[0m: "
     ]
    }
   ],
   "source": [
    "t = prof.Timer()\n",
    "for name, ds in datasets.iteritems():\n",
    "#name = 'iris'\n",
    "#ds = datasets[name]\n",
    "    data = ds['data']\n",
    "    gt = ds['gt']\n",
    "\n",
    "    # generate ensemble with K-Means\n",
    "    kmGen = myKM.K_Means()\n",
    "    kmGen._MAX_THREADS_BLOCK = 256\n",
    "    kmGen._label_mode = 'numba'\n",
    "\n",
    "    print name, data.dtype\n",
    "    \n",
    "    t.reset()\n",
    "    t.tic()\n",
    "    ensemble = part.generateEnsemble(data, kmGen, n_clusters=rules.rule1(data.shape[0]), npartitions=100, iters=3)\n",
    "    ensemble_time = t.tac()\n",
    "    \n",
    "    # eac clustering\n",
    "    eacEst = eac.EAC(data.shape[0], sparse=False, condensed=True)\n",
    "    \n",
    "    t.reset()\n",
    "    t.tic()\n",
    "    eacEst.buildMatrix(ensemble)\n",
    "    build_time = t.tac()\n",
    "    \n",
    "    t.reset()\n",
    "    t.tic()    \n",
    "    eacEst.finalClustering(np.unique(gt).size)\n",
    "    clustering_time = t.tac()\n",
    "    \n",
    "    # eac clustering with lifetime\n",
    "    eacEst2 = eac.EAC(data.shape[0], sparse=False, condensed=True)\n",
    "    eacEst2.buildMatrix(ensemble)\n",
    "    eacEst2.finalClustering()\n",
    "\n",
    "    # score result\n",
    "    mukresAcc = acc.HungarianIndex(data.shape[0])\n",
    "    accuracy =  mukresAcc.score(gt, eacEst.labels)\n",
    "    accuracy_lt = mukresAcc.score(gt, eacEst2.labels)\n",
    "\n",
    "    print '{}: {} - {}'.format(name, accuracy, accuracy_lt)\n",
    "    validation_my_eac.loc[name] = (accuracy, np.unique(eacEst.labels).size, accuracy_lt, np.unique(eacEst2.labels).size, ensemble_time, build_time, clustering_time)"
   ]
  },
  {
   "cell_type": "code",
   "execution_count": null,
   "metadata": {
    "collapsed": false
   },
   "outputs": [],
   "source": [
    "validation_my_eac['n_samples']=0\n",
    "validation_my_eac['dimension']=0\n",
    "for i in validation_my_eac.index:\n",
    "    validation_my_eac.n_samples.loc[i] = datasets[i]['data'].shape[0]\n",
    "    validation_my_eac.dimension.loc[i] = datasets[i]['data'].shape[1]"
   ]
  },
  {
   "cell_type": "code",
   "execution_count": null,
   "metadata": {
    "collapsed": false
   },
   "outputs": [],
   "source": [
    "validation_my_eac.sort(columns='n_samples')"
   ]
  }
 ],
 "metadata": {
  "kernelspec": {
   "display_name": "Python 2",
   "language": "python",
   "name": "python2"
  },
  "language_info": {
   "codemirror_mode": {
    "name": "ipython",
    "version": 2
   },
   "file_extension": ".py",
   "mimetype": "text/x-python",
   "name": "python",
   "nbconvert_exporter": "python",
   "pygments_lexer": "ipython2",
   "version": "2.7.10"
  }
 },
 "nbformat": 4,
 "nbformat_minor": 0
}
