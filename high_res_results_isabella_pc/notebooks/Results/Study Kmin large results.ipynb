{
 "cells": [
  {
   "cell_type": "code",
   "execution_count": 1,
   "metadata": {
    "collapsed": true
   },
   "outputs": [],
   "source": [
    "import matplotlib.pyplot as plt\n",
    "#%matplotlib inline\n",
    "import numpy as np\n",
    "import os.path\n",
    "import pandas as pd\n",
    "import seaborn as sns\n",
    "#from MyML.helper.plotting import save_fig"
   ]
  },
  {
   "cell_type": "code",
   "execution_count": 2,
   "metadata": {
    "collapsed": false
   },
   "outputs": [],
   "source": [
    "sns.set_style(\"whitegrid\")\n",
    "fig_width = 12\n",
    "fig_height = 8"
   ]
  },
  {
   "cell_type": "code",
   "execution_count": null,
   "metadata": {
    "collapsed": true
   },
   "outputs": [],
   "source": [
    "%matplotlib qt"
   ]
  },
  {
   "cell_type": "code",
   "execution_count": 3,
   "metadata": {
    "collapsed": true
   },
   "outputs": [],
   "source": [
    "import matplotlib\n",
    "matplotlib.rcParams['savefig.dpi'] = 600.0"
   ]
  },
  {
   "cell_type": "code",
   "execution_count": 4,
   "metadata": {
    "collapsed": true
   },
   "outputs": [],
   "source": [
    "plt.ioff()"
   ]
  },
  {
   "cell_type": "code",
   "execution_count": 5,
   "metadata": {
    "collapsed": false
   },
   "outputs": [],
   "source": [
    "# These are the \"Tableau 20\" colors as RGB.  \n",
    "tableau20 = [(31, 119, 180), (174, 199, 232), (255, 127, 14), (255, 187, 120),  \n",
    "             (44, 160, 44), (152, 223, 138), (214, 39, 40), (255, 152, 150),  \n",
    "             (148, 103, 189), (197, 176, 213), (140, 86, 75), (196, 156, 148),  \n",
    "             (227, 119, 194), (247, 182, 210), (127, 127, 127), (199, 199, 199),  \n",
    "             (188, 189, 34), (219, 219, 141), (23, 190, 207), (158, 218, 229)]\n",
    "\n",
    "# Scale the RGB values to the [0, 1] range, which is the format matplotlib accepts.  \n",
    "for i in range(len(tableau20)):  \n",
    "    r, g, b = tableau20[i]  \n",
    "    tableau20[i] = (r / 255., g / 255., b / 255.)\n",
    "    \n",
    "tableau = tableau20[::2]\n",
    "tableau.extend(tableau20[1::2])\n",
    "tableau = sns.color_palette(tableau,20)\n",
    "sns.palplot(tableau)\n",
    "sns.set_palette(tableau, n_colors=20)"
   ]
  },
  {
   "cell_type": "code",
   "execution_count": 6,
   "metadata": {
    "collapsed": true
   },
   "outputs": [],
   "source": [
    "results_path = '/home/chiroptera/QCThesis/datasets/gauss10e6_overlap/results/results_kmin.csv'"
   ]
  },
  {
   "cell_type": "code",
   "execution_count": 7,
   "metadata": {
    "collapsed": true
   },
   "outputs": [],
   "source": [
    "results_path = 'C:\\\\Users\\\\Isabella\\\\Downloads\\\\working_data\\\\working_data\\\\gauss10_overlap\\\\results_kmin.csv'"
   ]
  },
  {
   "cell_type": "code",
   "execution_count": 8,
   "metadata": {
    "collapsed": false
   },
   "outputs": [
    {
     "name": "stdout",
     "output_type": "stream",
     "text": [
      "Unnamed: 0\n",
      "n_samples\n",
      "rule\n",
      "kmin\n",
      "kmax\n",
      "t_ensemble\n",
      "t_build\n",
      "t_sl\n",
      "t_accuracy_CI\n",
      "t_accuracy_H\n",
      "t_sl_disk\n",
      "t_store\n",
      "t_accuracy_CI_disk\n",
      "t_accuracy_H_disk\n",
      "biggest_cluster\n",
      "type_mat\n",
      "n_assocs\n",
      "n_max_degree\n",
      "min_degree\n",
      "max_degree\n",
      "mean_degree\n",
      "std_degree\n",
      "accuracy_CI\n",
      "accuracy_H\n",
      "sl_clusts\n",
      "accuracy_CI_disk\n",
      "accuracy_H_disk\n",
      "sl_clusts_disk\n",
      "round\n",
      "disk\n"
     ]
    }
   ],
   "source": [
    "res = pd.read_csv(results_path)\n",
    "for col in res.columns:\n",
    "    print col "
   ]
  },
  {
   "cell_type": "code",
   "execution_count": 9,
   "metadata": {
    "collapsed": false
   },
   "outputs": [],
   "source": [
    "res['csr_max_row'] = res.biggest_cluster * 3\n",
    "res['csr_topped'] = (res['csr_max_row'] == res['max_degree']) & res.type_mat\n",
    "res = res[np.logical_not(res.n_samples.isnull())]\n",
    "#res.max_assoc = res.max_assoc.apply(lambda s: int(s.strip('()').split(',')[0]))\n",
    "#res['final density'] = res.n_assocs * 1.0 / (res.n_samples ** 2)\n",
    "res['samples_per_kmin']=res['n_samples'] / res['kmin']\n",
    "res['assocs_per_samples'] = res['n_assocs'] / res['n_samples']"
   ]
  },
  {
   "cell_type": "code",
   "execution_count": 10,
   "metadata": {
    "collapsed": false
   },
   "outputs": [],
   "source": [
    "def sp_lin_area(n_s, n_e, val_s, val_e):\n",
    "\n",
    "    tri = (n_e - n_s) * (val_s - val_e) / 2.0\n",
    "    r_rect = (1.0 - n_e) * (val_s - val_e)\n",
    "    cut_area = tri + r_rect\n",
    "\n",
    "    return 1 - cut_area\n",
    "\n",
    "def lin_max_n_assocs(n, bgs):\n",
    "    return n * bgs * 3 * sp_lin_area(0.05, 1.0, 1.0, 0.05)\n",
    "\n",
    "full_idx = res.type_mat == 'full'\n",
    "full_condensed_idx = res.type_mat == 'full condensed'\n",
    "sp_complete_idx = res.type_mat == 'sparse complete'\n",
    "sp_condensed_const_idx = res.type_mat == 'sparse condensed const'\n",
    "sp_lin_idx = res.type_mat == 'sparse condensed linear'\n",
    "\n",
    "sp_const_idx = res.type_mat.isin(['sparse complete', 'sparse condensed const'])\n",
    "sp_idx = res.type_mat.isin(['sparse complete', 'sparse condensed const', 'sparse condensed linear'])\n",
    "\n",
    "# maximum number of associations allowed / pre-allocated\n",
    "res['max_n_assocs'] = 0\n",
    "res.loc[full_idx,'max_n_assocs'] = np.int64(res.n_samples[full_idx] **2)\n",
    "res.loc[full_condensed_idx,'max_n_assocs'] = np.int64(res.n_samples[full_condensed_idx] * (res.n_samples[full_condensed_idx] - 1) / 2)\n",
    "res.loc[sp_const_idx,'max_n_assocs'] = np.int64(res.n_samples[sp_const_idx] * res.biggest_cluster[sp_const_idx] * 3)\n",
    "res.loc[sp_lin_idx,'max_n_assocs'] = np.int64(lin_max_n_assocs(res.n_samples[sp_lin_idx], res.biggest_cluster[sp_lin_idx]))\n",
    "\n",
    "# actual memory used to store the associations\n",
    "res['mem'] = res.max_n_assocs\n",
    "res.loc[sp_idx,'mem'] = res.max_n_assocs[sp_idx] * (1+4) # data + indices\n",
    "\n",
    "res['assoc density'] = 1.0 * res.n_assocs / (res.n_samples ** 2)\n",
    "res['density'] = 1.0 * res.max_n_assocs / (res.n_samples ** 2)\n",
    "res['mem_density'] = 1.0 * res.mem / (res.n_samples ** 2)"
   ]
  },
  {
   "cell_type": "code",
   "execution_count": 11,
   "metadata": {
    "collapsed": false
   },
   "outputs": [],
   "source": [
    "by_rule_n = res.groupby(by=[\"rule\", \"n_samples\", \"type_mat\"])\n",
    "rule_n_mean = by_rule_n.apply(np.mean)\n",
    "rule_n_mean = rule_n_mean[['kmin','kmax','t_ensemble','biggest_cluster',\n",
    "                           'mean_degree','std_degree','min_degree',\n",
    "                           'max_degree','n_assocs','n_max_degree', 'accuracy_CI', 'accuracy_CI_disk',\n",
    "                           't_build', 't_sl', 't_sl_disk', 't_accuracy_CI',\n",
    "                           't_accuracy_CI_disk', 'sl_clusts', 'sl_clusts_disk',\n",
    "                           'csr_max_row', 'csr_topped', 'samples_per_kmin', 'max_n_assocs',\n",
    "                           'mem', 'assoc density', 'density', 'mem_density','assocs_per_samples']]\n",
    "rule_n_mean = rule_n_mean.reset_index()"
   ]
  },
  {
   "cell_type": "markdown",
   "metadata": {},
   "source": [
    "# Build time"
   ]
  },
  {
   "cell_type": "code",
   "execution_count": 12,
   "metadata": {
    "collapsed": false
   },
   "outputs": [],
   "source": [
    "# rules in different plots\n",
    "par_list = res['rule'].unique()\n",
    "rows = 2\n",
    "cols = 2\n",
    "fig1 = plt.figure(figsize=(fig_width * cols, fig_height * rows))\n",
    "fig1.suptitle('Coassoc build time: comparisson between matrix type for each rule', size=16)\n",
    "\n",
    "fig = fig1\n",
    "\n",
    "ax_par_dict = {key: fig.add_subplot(rows, cols, i+1) for i, key in enumerate(par_list)}\n",
    "\n",
    "sns.set_palette(sns.color_palette(\"deep\", 6))\n",
    "\n",
    "for rule, grp in rule_n_mean.groupby(by='rule'):\n",
    "    for type_mat, grp2 in grp.groupby(by='type_mat'):\n",
    "        idx = grp2.n_samples >= 1e3 # ignore datasets smaller than 1000\n",
    "        ax = ax_par_dict[rule]\n",
    "        ax.plot(grp2.n_samples[idx], grp2.t_build[idx], label=type_mat)\n",
    "\n",
    "for par, ax in ax_par_dict.iteritems():\n",
    "    ax.set_xlabel(\"# samples\")\n",
    "    ax.set_ylabel(\"Time [s]\")\n",
    "    ax.set_title(par)\n",
    "    ax.legend(loc=\"lower right\")#loc=(1.1, 0.0))\n",
    "    ax.grid(True, which=\"both\")\n",
    "    ax.set_xscale(\"log\")\n",
    "    ax.set_yscale(\"log\")"
   ]
  },
  {
   "cell_type": "code",
   "execution_count": 13,
   "metadata": {
    "collapsed": false,
    "scrolled": false
   },
   "outputs": [],
   "source": [
    "# rules in different plots\n",
    "par_list = res['type_mat'].unique()\n",
    "rows = 3\n",
    "cols = 2\n",
    "fig2 = plt.figure(figsize=(fig_width * cols, fig_height * rows))\n",
    "fig2.suptitle('Coassoc build time: comparisson between rules for each matrix type', size=16)\n",
    "\n",
    "fig = fig2\n",
    "\n",
    "ax_par_dict = {key: fig.add_subplot(rows, cols, i+1) for i, key in enumerate(par_list)}\n",
    "\n",
    "sns.set_palette(sns.color_palette(\"deep\", 6))\n",
    "\n",
    "for rule, grp in rule_n_mean.groupby(by='type_mat'):\n",
    "    for type_mat, grp2 in grp.groupby(by='rule'):\n",
    "        idx = grp2.n_samples >= 1e3 # ignore datasets smaller than 1000\n",
    "        ax = ax_par_dict[rule]\n",
    "        ax.plot(grp2.n_samples[idx], grp2.t_build[idx], label=type_mat)\n",
    "\n",
    "for par, ax in ax_par_dict.iteritems():\n",
    "    ax.set_xlabel(\"# samples\")\n",
    "    ax.set_ylabel(\"Time [s]\")\n",
    "    ax.set_title(par)\n",
    "    ax.legend(loc=\"lower right\")#loc=(1.1, 0.0))\n",
    "    ax.grid(True, which=\"both\")\n",
    "    ax.set_xscale(\"log\")\n",
    "    ax.set_yscale(\"log\")"
   ]
  },
  {
   "cell_type": "markdown",
   "metadata": {},
   "source": [
    "## for saving"
   ]
  },
  {
   "cell_type": "code",
   "execution_count": 18,
   "metadata": {
    "collapsed": false
   },
   "outputs": [],
   "source": [
    "# rules in different plots\n",
    "\n",
    "build_time_rule = dict()\n",
    "\n",
    "par_list = res['rule'].unique()\n",
    "#fig2.suptitle('Coassoc build time: comparisson between rules for each matrix type', size=16)\n",
    "\n",
    "fig_dict = build_time_rule\n",
    "\n",
    "for rule, grp in rule_n_mean.groupby(by='rule'):\n",
    "    fig = plt.figure(figsize=(fig_width, fig_height))\n",
    "    ax = fig.add_subplot(111)\n",
    "    fig_dict[rule] = ax\n",
    "    for type_mat, grp2 in grp.groupby(by='type_mat'):\n",
    "        idx = grp2.n_samples >= 1e3 # ignore datasets smaller than 1000\n",
    "        ax.plot(grp2.n_samples[idx], grp2.t_build[idx], label=type_mat,)\n",
    "\n",
    "for par, ax in fig_dict.iteritems():\n",
    "    ax.set_xlabel(\"# samples\",fontsize=16)\n",
    "    ax.set_ylabel(\"Time [s]\", fontsize=16)\n",
    "    ax.set_title('Combination execution time, {}={}'.format('rule',par), fontsize=20)\n",
    "    ax.legend(loc=\"lower right\", prop={'size':16})#loc=(1.1, 0.0))\n",
    "    ax.grid(True, which=\"both\")\n",
    "    ax.set_xscale(\"log\")\n",
    "    ax.set_yscale(\"log\")\n",
    "    #,fontsize=16\n",
    "    #,prop={'size':16}\n",
    "    for tick in ax.xaxis.get_major_ticks():\n",
    "        tick.label.set_fontsize(14)\n",
    "    for tick in ax.yaxis.get_major_ticks():\n",
    "        tick.label.set_fontsize(14)     "
   ]
  },
  {
   "cell_type": "code",
   "execution_count": 19,
   "metadata": {
    "collapsed": false
   },
   "outputs": [],
   "source": [
    "# rules in different plots\n",
    "\n",
    "build_time_type_mat = dict()\n",
    "\n",
    "par_list = res['type_mat'].unique()\n",
    "#fig2.suptitle('Coassoc build time: comparisson between rules for each matrix type', size=16)\n",
    "\n",
    "fig_dict = build_time_type_mat\n",
    "\n",
    "for type_mat, grp in rule_n_mean.groupby(by='type_mat'):\n",
    "    fig = plt.figure(figsize=(fig_width, fig_height))\n",
    "    ax = fig.add_subplot(111)\n",
    "    fig_dict[type_mat] = ax\n",
    "    for rule, grp2 in grp.groupby(by='rule'):\n",
    "        idx = grp2.n_samples >= 1e3 # ignore datasets smaller than 1000\n",
    "        ax.plot(grp2.n_samples[idx], grp2.t_build[idx], label=rule,)\n",
    "\n",
    "for par, ax in fig_dict.iteritems():\n",
    "    ax.set_xlabel(\"# samples\",fontsize=16)\n",
    "    ax.set_ylabel(\"Time [s]\", fontsize=16)\n",
    "    ax.set_title('Combination execution time, {}={}'.format('type_mat',par), fontsize=20)\n",
    "    ax.legend(loc=\"lower right\", prop={'size':16})#loc=(1.1, 0.0))\n",
    "    ax.grid(True, which=\"both\")\n",
    "    ax.set_xscale(\"log\")\n",
    "    ax.set_yscale(\"log\")\n",
    "    #,fontsize=16\n",
    "    #,prop={'size':16}\n",
    "    for tick in ax.xaxis.get_major_ticks():\n",
    "        tick.label.set_fontsize(14)\n",
    "    for tick in ax.yaxis.get_major_ticks():\n",
    "        tick.label.set_fontsize(14)     "
   ]
  },
  {
   "cell_type": "code",
   "execution_count": 20,
   "metadata": {
    "collapsed": false
   },
   "outputs": [],
   "source": [
    "img_path = '/home/chiroptera/QCThesis/results/EAC/build_time/'\n",
    "img_path = 'C:\\\\Users\\\\Isabella\\\\Downloads\\\\working_data\\\\working_data\\\\results\\\\eac\\\\build_time\\\\'\n",
    "for name, ax in build_time_type_mat.iteritems():\n",
    "    f = ax.get_figure()\n",
    "    f.savefig('{}{}.eps'.format(img_path,name),bbox_inches='tight')\n",
    "    f.savefig('{}{}.pdf'.format(img_path,name),bbox_inches='tight')\n",
    "    f.savefig('{}{}.png'.format(img_path,name),bbox_inches='tight')\n",
    "    plt.close(f)\n",
    "del build_time_type_mat\n",
    "\n",
    "for name, ax in build_time_rule.iteritems():\n",
    "    f = ax.get_figure()\n",
    "    f.savefig('{}{}.eps'.format(img_path,name),bbox_inches='tight')\n",
    "    f.savefig('{}{}.pdf'.format(img_path,name),bbox_inches='tight')\n",
    "    f.savefig('{}{}.png'.format(img_path,name),bbox_inches='tight')\n",
    "    plt.close(f)\n",
    "del build_time_rule"
   ]
  },
  {
   "cell_type": "markdown",
   "metadata": {},
   "source": [
    "# Single-Clustering time: memory"
   ]
  },
  {
   "cell_type": "code",
   "execution_count": 23,
   "metadata": {
    "collapsed": false
   },
   "outputs": [],
   "source": [
    "par_list = res['rule'].unique()\n",
    "rows = 2\n",
    "cols = 2\n",
    "fig3 = plt.figure(figsize=(fig_width * cols, fig_height * rows))\n",
    "\n",
    "fig = fig3\n",
    "fig.suptitle(\"Single-Link clustering time: comparison between matrix types for each rule\", size=16)\n",
    "\n",
    "ax_par_dict = {key: fig.add_subplot(rows, cols, i+1) for i, key in enumerate(par_list)}\n",
    "\n",
    "\n",
    "sns.set_palette(sns.color_palette(\"deep\", 6))\n",
    "\n",
    "for rule, grp in rule_n_mean.groupby(by='rule'):\n",
    "    for type_mat, grp2 in grp.groupby(by='type_mat'):\n",
    "        idx = grp2.n_samples >= 1e3 # ignore datasets smaller than 1000\n",
    "        ax = ax_par_dict[rule]\n",
    "        trace = '-'\n",
    "        if type_mat in ('full condensed', 'sparse condensed linear'):\n",
    "            trace = '--'\n",
    "        ax.plot(grp2.n_samples[idx], grp2.t_sl[idx], trace, label=type_mat)\n",
    "\n",
    "for par, ax in ax_par_dict.iteritems():\n",
    "    ax.set_xlabel(\"# samples\")\n",
    "    ax.set_ylabel(\"Time [s]\")\n",
    "    ax.set_title(par)\n",
    "    ax.legend(loc=\"lower right\")#loc=(1.1, 0.0))\n",
    "    ax.grid(True, which=\"both\")\n",
    "    ax.set_xscale(\"log\")\n",
    "    ax.set_yscale(\"log\")"
   ]
  },
  {
   "cell_type": "code",
   "execution_count": 24,
   "metadata": {
    "collapsed": false
   },
   "outputs": [],
   "source": [
    "par_list = res['type_mat'].unique()\n",
    "rows = 3\n",
    "cols = 2\n",
    "fig4 = plt.figure(figsize=(fig_width * cols, fig_height * rows))\n",
    "\n",
    "fig = fig4\n",
    "fig.suptitle(\"Single-Link clustering time: comparison between rules for each matrix type\", size=16)\n",
    "\n",
    "ax_par_dict = {key: fig.add_subplot(rows, cols, i+1) for i, key in enumerate(par_list)}\n",
    "\n",
    "sns.set_palette(sns.color_palette(\"deep\", 6))\n",
    "\n",
    "for rule, grp in rule_n_mean.groupby(by='type_mat'):\n",
    "    for type_mat, grp2 in grp.groupby(by='rule'):\n",
    "        idx = grp2.n_samples >= 1e3 # ignore datasets smaller than 1000\n",
    "        ax = ax_par_dict[rule]\n",
    "        ax.plot(grp2.n_samples[idx], grp2.t_sl[idx], label=type_mat)\n",
    "\n",
    "for par, ax in ax_par_dict.iteritems():\n",
    "    ax.set_xlabel(\"# samples\")\n",
    "    ax.set_ylabel(\"Time [s]\")\n",
    "    ax.set_title(par)\n",
    "    ax.legend(loc=\"lower right\")#loc=(1.1, 0.0))\n",
    "    ax.grid(True, which=\"both\")\n",
    "    ax.set_xscale(\"log\")\n",
    "    ax.set_yscale(\"log\")"
   ]
  },
  {
   "cell_type": "markdown",
   "metadata": {},
   "source": [
    "## for saving"
   ]
  },
  {
   "cell_type": "code",
   "execution_count": 25,
   "metadata": {
    "collapsed": false,
    "scrolled": true
   },
   "outputs": [],
   "source": [
    "# rules in different plots\n",
    "\n",
    "sl_mem_time_type_mat = dict()\n",
    "fig_dict = sl_mem_time_type_mat\n",
    "par_list = res['type_mat'].unique()\n",
    "#fig2.suptitle('Coassoc build time: comparisson between rules for each matrix type', size=16)\n",
    "\n",
    "for type_mat, grp in rule_n_mean.groupby(by='type_mat'):\n",
    "    fig = plt.figure(figsize=(fig_width, fig_height))\n",
    "    ax = fig.add_subplot(111)\n",
    "    fig_dict[type_mat] = ax\n",
    "    for rule, grp2 in grp.groupby(by='rule'):\n",
    "        idx = grp2.n_samples >= 1e3 # ignore datasets smaller than 1000\n",
    "        ax.plot(grp2.n_samples[idx], grp2.t_sl[idx], label=rule)\n",
    "\n",
    "for par, ax in fig_dict.iteritems():\n",
    "    ax.set_xlabel(\"# samples\",fontsize=16)\n",
    "    ax.set_ylabel(\"Time [s]\", fontsize=16)\n",
    "    ax.set_title('Single-Link (main memory) execution time, {}={}'.format(par1_name,par), fontsize=20)\n",
    "    ax.legend(loc=\"lower right\", prop={'size':16})#loc=(1.1, 0.0))\n",
    "    ax.grid(True, which=\"both\")\n",
    "    ax.set_xscale(\"log\")\n",
    "    ax.set_yscale(\"log\")\n",
    "    #,fontsize=16\n",
    "    #,prop={'size':16}\n",
    "    for tick in ax.xaxis.get_major_ticks():\n",
    "        tick.label.set_fontsize(14)\n",
    "    for tick in ax.yaxis.get_major_ticks():\n",
    "        tick.label.set_fontsize(14)     "
   ]
  },
  {
   "cell_type": "code",
   "execution_count": 26,
   "metadata": {
    "collapsed": false
   },
   "outputs": [
    {
     "name": "stderr",
     "output_type": "stream",
     "text": [
      "C:\\Users\\Isabella\\Miniconda\\lib\\site-packages\\matplotlib\\pyplot.py:424: RuntimeWarning: More than 20 figures have been opened. Figures created through the pyplot interface (`matplotlib.pyplot.figure`) are retained until explicitly closed and may consume too much memory. (To control this warning, see the rcParam `figure.max_open_warning`).\n",
      "  max_open_warning, RuntimeWarning)\n"
     ]
    }
   ],
   "source": [
    "# rules in different plots\n",
    "\n",
    "sl_mem_time_rule = dict()\n",
    "#par1_name, par2_name = 'type_mat', 'rule'\n",
    "par1_name, par2_name = 'rule', 'type_mat'\n",
    "\n",
    "par_list = res[par1_name].unique()\n",
    "#fig2.suptitle('Coassoc build time: comparisson between rules for each matrix type', size=16)\n",
    "\n",
    "fig_dict = sl_mem_time_rule\n",
    "\n",
    "\n",
    "for par1, grp in rule_n_mean.groupby(by=par1_name):\n",
    "    fig = plt.figure(figsize=(fig_width, fig_height))\n",
    "    ax = fig.add_subplot(111)\n",
    "    fig_dict[par1] = ax\n",
    "    for par2, grp2 in grp.groupby(by=par2_name):\n",
    "        idx = grp2.n_samples >= 1e3 # ignore datasets smaller than 1000\n",
    "        ax.plot(grp2.n_samples[idx], grp2.t_sl[idx], label=par2)\n",
    "\n",
    "for par, ax in fig_dict.iteritems():\n",
    "    ax.set_xlabel(\"# samples\",fontsize=16)\n",
    "    ax.set_ylabel(\"Time [s]\", fontsize=16)\n",
    "    ax.set_title('Single-Link (main memory) execution time, {}={}'.format(par1_name,par), fontsize=20)\n",
    "    ax.legend(loc=\"lower right\", prop={'size':16})#loc=(1.1, 0.0))\n",
    "    ax.grid(True, which=\"both\")\n",
    "    ax.set_xscale(\"log\")\n",
    "    ax.set_yscale(\"log\")\n",
    "    #,fontsize=16\n",
    "    #,prop={'size':16}\n",
    "    for tick in ax.xaxis.get_major_ticks():\n",
    "        tick.label.set_fontsize(14)\n",
    "    for tick in ax.yaxis.get_major_ticks():\n",
    "        tick.label.set_fontsize(14)     "
   ]
  },
  {
   "cell_type": "code",
   "execution_count": 27,
   "metadata": {
    "collapsed": true
   },
   "outputs": [],
   "source": [
    "img_path = '/home/chiroptera/QCThesis/results/EAC/sl_mem_time/'\n",
    "img_path = 'C:\\\\Users\\\\Isabella\\\\Downloads\\\\working_data\\\\working_data\\\\results\\\\eac\\\\sl_mem_time\\\\'\n",
    "for name, ax in sl_mem_time_type_mat.iteritems():\n",
    "    f = ax.get_figure()\n",
    "    f.savefig('{}{}.eps'.format(img_path,name),bbox_inches='tight')\n",
    "    f.savefig('{}{}.pdf'.format(img_path,name),bbox_inches='tight')\n",
    "    f.savefig('{}{}.png'.format(img_path,name),bbox_inches='tight')\n",
    "    plt.close(f)\n",
    "del sl_mem_time_type_mat\n",
    "    \n",
    "for name, ax in sl_mem_time_rule.iteritems():\n",
    "    f = ax.get_figure()\n",
    "    f.savefig('{}{}.eps'.format(img_path,name),bbox_inches='tight')\n",
    "    f.savefig('{}{}.pdf'.format(img_path,name),bbox_inches='tight')\n",
    "    f.savefig('{}{}.png'.format(img_path,name),bbox_inches='tight')\n",
    "    plt.close(f)\n",
    "del sl_mem_time_rule"
   ]
  },
  {
   "cell_type": "markdown",
   "metadata": {},
   "source": [
    "# Single-Clustering time: disk"
   ]
  },
  {
   "cell_type": "code",
   "execution_count": 28,
   "metadata": {
    "collapsed": false
   },
   "outputs": [],
   "source": [
    "# rules in different plots\n",
    "par_list = res.rule.unique()\n",
    "rows = 2\n",
    "cols = 2\n",
    "fig5 = plt.figure(figsize=(fig_width * cols, fig_height * rows))\n",
    "\n",
    "fig = fig5\n",
    "fig.suptitle('Disk-based Single-Link clustering time: comparison between matrix type for each rule', size=16)\n",
    "\n",
    "ax_par_dict = {key: fig.add_subplot(rows, cols, i+1) for i, key in enumerate(par_list)}\n",
    "\n",
    "\n",
    "sns.set_palette(sns.color_palette(\"deep\", 6))\n",
    "\n",
    "for rule, grp in rule_n_mean.groupby(by='rule'):\n",
    "    for type_mat, grp2 in grp.groupby(by='type_mat'):\n",
    "        if grp2.t_sl_disk.isnull().all():\n",
    "            continue\n",
    "        idx = grp2.n_samples >= 5e2\n",
    "        ax = ax_par_dict[rule]\n",
    "        trace = '--' if type_mat == 'sparse condensed linear' else '-'\n",
    "        ax.plot(grp2.n_samples[idx], grp2.t_sl_disk[idx], trace, label=type_mat)\n",
    "\n",
    "for par, ax in ax_par_dict.iteritems():\n",
    "    ax.set_xlabel(\"# samples\")\n",
    "    ax.set_ylabel(\"Time [s]\")\n",
    "    ax.set_title(par)\n",
    "    ax.legend(loc=\"lower right\")#loc=(1.1, 0.0))\n",
    "    ax.grid(True, which=\"both\")\n",
    "    ax.set_xscale(\"log\")\n",
    "    ax.set_yscale(\"log\")"
   ]
  },
  {
   "cell_type": "code",
   "execution_count": 29,
   "metadata": {
    "collapsed": false,
    "scrolled": true
   },
   "outputs": [],
   "source": [
    "# rules in different plots\n",
    "par_list = ['sparse complete', 'sparse condensed const', 'sparse condensed linear']\n",
    "rows = 2\n",
    "cols = 2\n",
    "fig6 = plt.figure(figsize=(fig_width * cols, fig_height * rows))\n",
    "\n",
    "fig = fig6\n",
    "\n",
    "fig.suptitle('Disk-based Single-Link clustering time: comparison between rules for each matrix type', size=16)\n",
    "\n",
    "ax_par_dict = {key: fig.add_subplot(rows, cols, i+1) for i, key in enumerate(par_list)}\n",
    "\n",
    "\n",
    "sns.set_palette(sns.color_palette(\"deep\", 6))\n",
    "\n",
    "for type_mat, grp in rule_n_mean.groupby(by='type_mat'):\n",
    "    for rule, grp2 in grp.groupby(by='rule'):\n",
    "        if grp2.t_sl_disk.isnull().any():\n",
    "            continue\n",
    "        idx = grp2.n_samples >= 5e2\n",
    "        ax = ax_par_dict[type_mat]\n",
    "        ax.plot(grp2.n_samples[idx], grp2.t_sl_disk[idx], label=rule)\n",
    "\n",
    "for par, ax in ax_par_dict.iteritems():\n",
    "    ax.set_xlabel(\"# samples\")\n",
    "    ax.set_ylabel(\"Time [s]\")\n",
    "    ax.set_title(par)\n",
    "    ax.legend(loc=\"lower right\")#loc=(1.1, 0.0))\n",
    "    ax.grid(True, which=\"both\")\n",
    "    ax.set_xscale(\"log\")\n",
    "    ax.set_yscale(\"log\")"
   ]
  },
  {
   "cell_type": "markdown",
   "metadata": {},
   "source": [
    "## for saving"
   ]
  },
  {
   "cell_type": "code",
   "execution_count": 30,
   "metadata": {
    "collapsed": false,
    "scrolled": true
   },
   "outputs": [
    {
     "name": "stderr",
     "output_type": "stream",
     "text": [
      "C:\\Users\\Isabella\\Miniconda\\lib\\site-packages\\matplotlib\\axes\\_axes.py:475: UserWarning: No labelled objects found. Use label='...' kwarg on individual plots.\n",
      "  warnings.warn(\"No labelled objects found. \"\n"
     ]
    }
   ],
   "source": [
    "# rules in different plots\n",
    "\n",
    "sl_disk_time_type_mat = dict()\n",
    "fig_dict = sl_disk_time_type_mat\n",
    "par1_name, par2_name = 'type_mat', 'rule'\n",
    "#par1_name, par2_name = 'rule', 'type_mat'\n",
    "\n",
    "par_list = res[par1_name].unique()\n",
    "#fig2.suptitle('Coassoc build time: comparisson between rules for each matrix type', size=16)\n",
    "\n",
    "for par1, grp in rule_n_mean.groupby(by=par1_name):\n",
    "    fig = plt.figure(figsize=(fig_width, fig_height))\n",
    "    ax = fig.add_subplot(111)\n",
    "    fig_dict[par1] = ax\n",
    "    for par2, grp2 in grp.groupby(by=par2_name):\n",
    "        if grp2.t_sl_disk.isnull().any():\n",
    "            continue\n",
    "        idx = grp2.n_samples >= 1e3 # ignore datasets smaller than 1000\n",
    "        trace = '-'\n",
    "        ax.plot(grp2.n_samples[idx], grp2.t_sl_disk[idx], trace, label=par2)\n",
    "\n",
    "for par, ax in fig_dict.iteritems():\n",
    "    ax.set_xlabel(\"# samples\",fontsize=16)\n",
    "    ax.set_ylabel(\"Time [s]\", fontsize=16)\n",
    "    ax.set_title('Single-Link (disk) execution time, {}={}'.format(par1_name,par), fontsize=20)\n",
    "    ax.legend(loc=\"lower right\", prop={'size':16})#loc=(1.1, 0.0))\n",
    "    ax.grid(True, which=\"both\")\n",
    "    ax.set_xscale(\"log\")\n",
    "    ax.set_yscale(\"log\")\n",
    "    #,fontsize=16\n",
    "    #,prop={'size':16}\n",
    "    for tick in ax.xaxis.get_major_ticks():\n",
    "        tick.label.set_fontsize(14)\n",
    "    for tick in ax.yaxis.get_major_ticks():\n",
    "        tick.label.set_fontsize(14)     "
   ]
  },
  {
   "cell_type": "code",
   "execution_count": 31,
   "metadata": {
    "collapsed": false,
    "scrolled": true
   },
   "outputs": [],
   "source": [
    "# rules in different plots\n",
    "\n",
    "sl_disk_time_rule = dict()\n",
    "fig_dict = sl_disk_time_rule\n",
    "#par1_name, par2_name = 'type_mat', 'rule'\n",
    "par1_name, par2_name = 'rule', 'type_mat'\n",
    "\n",
    "par_list = res[par1_name].unique()\n",
    "#fig2.suptitle('Coassoc build time: comparisson between rules for each matrix type', size=16)\n",
    "\n",
    "\n",
    "for par1, grp in rule_n_mean.groupby(by=par1_name):\n",
    "    fig = plt.figure(figsize=(fig_width, fig_height))\n",
    "    ax = fig.add_subplot(111)\n",
    "    fig_dict[par1] = ax\n",
    "    for par2, grp2 in grp.groupby(by=par2_name):\n",
    "        if grp2.t_sl_disk.isnull().any():\n",
    "            continue        \n",
    "        idx = grp2.n_samples >= 1e3 # ignore datasets smaller than 1000\n",
    "        trace = '--' if par2 == 'sparse condensed linear' else '-'\n",
    "        ax.plot(grp2.n_samples[idx], grp2.t_sl_disk[idx], trace, label=par2)\n",
    "\n",
    "for par, ax in fig_dict.iteritems():\n",
    "    ax.set_xlabel(\"# samples\",fontsize=16)\n",
    "    ax.set_ylabel(\"Time [s]\", fontsize=16)\n",
    "    ax.set_title('Single-Link (disk) execution time, {}={}'.format(par1_name,par), fontsize=20)\n",
    "    ax.legend(loc=\"lower right\", prop={'size':16})#loc=(1.1, 0.0))\n",
    "    ax.grid(True, which=\"both\")\n",
    "    ax.set_xscale(\"log\")\n",
    "    ax.set_yscale(\"log\")\n",
    "    #,fontsize=16\n",
    "    #,prop={'size':16}\n",
    "    for tick in ax.xaxis.get_major_ticks():\n",
    "        tick.label.set_fontsize(14)\n",
    "    for tick in ax.yaxis.get_major_ticks():\n",
    "        tick.label.set_fontsize(14)     "
   ]
  },
  {
   "cell_type": "code",
   "execution_count": 32,
   "metadata": {
    "collapsed": false
   },
   "outputs": [],
   "source": [
    "img_path = '/home/chiroptera/QCThesis/results/EAC/sl_disk_time/'\n",
    "img_path = 'C:\\\\Users\\\\Isabella\\\\Downloads\\\\working_data\\\\working_data\\\\results\\\\eac\\\\sl_disk_time\\\\'\n",
    "for name, ax in sl_disk_time_type_mat.iteritems():\n",
    "    f = ax.get_figure()\n",
    "    f.savefig('{}{}.eps'.format(img_path,name),bbox_inches='tight')\n",
    "    f.savefig('{}{}.pdf'.format(img_path,name),bbox_inches='tight')\n",
    "    f.savefig('{}{}.png'.format(img_path,name),bbox_inches='tight')\n",
    "    plt.close(f)\n",
    "del sl_disk_time_type_mat\n",
    "\n",
    "for name, ax in sl_disk_time_rule.iteritems():\n",
    "    f = ax.get_figure()\n",
    "    f.savefig('{}{}.eps'.format(img_path,name),bbox_inches='tight')\n",
    "    f.savefig('{}{}.pdf'.format(img_path,name),bbox_inches='tight')\n",
    "    f.savefig('{}{}.png'.format(img_path,name),bbox_inches='tight')\n",
    "    plt.close(f)\n",
    "del sl_disk_time_rule"
   ]
  },
  {
   "cell_type": "markdown",
   "metadata": {},
   "source": [
    "# SLINK vs SL-MST vs SL-MST-Disk"
   ]
  },
  {
   "cell_type": "code",
   "execution_count": 36,
   "metadata": {
    "collapsed": false
   },
   "outputs": [],
   "source": [
    "# rules in different plots\n",
    "\n",
    "sl_time_rule = dict()\n",
    "fig_dict = sl_time_rule\n",
    "#par1_name, par2_name = 'type_mat', 'rule'\n",
    "par1_name, par2_name = 'rule', 'type_mat'\n",
    "\n",
    "par_list = res[par1_name].unique()\n",
    "#fig2.suptitle('Coassoc build time: comparisson between rules for each matrix type', size=16)\n",
    "\n",
    "\n",
    "for par1, grp in rule_n_mean.groupby(by=par1_name):\n",
    "    fig = plt.figure(figsize=(fig_width, fig_height))\n",
    "    ax = fig.add_subplot(111)\n",
    "    fig_dict[par1] = ax\n",
    "    \n",
    "    fc = grp.query('type_mat == \"full condensed\"')\n",
    "    idx = fc.n_samples >= 1e3\n",
    "    ax.plot(fc.n_samples[idx], fc.t_sl[idx], label='SLINK')\n",
    "    \n",
    "    fc = grp.query('type_mat == \"sparse condensed linear\"')\n",
    "    idx = fc.n_samples >= 1e3\n",
    "    ax.plot(fc.n_samples[idx], fc.t_sl[idx], label='SL-MST')\n",
    "    ax.plot(fc.n_samples[idx], fc.t_sl_disk[idx], label='SL-MST-Disk')    \n",
    "\n",
    "for par, ax in fig_dict.iteritems():\n",
    "    ax.set_xlabel(\"# samples\",fontsize=16)\n",
    "    ax.set_ylabel(\"Time [s]\", fontsize=16)\n",
    "    ax.set_title('Single-Link execution time, {}={}'.format(par1_name,par), fontsize=20)\n",
    "    ax.legend(loc=\"lower right\", prop={'size':16})#loc=(1.1, 0.0))\n",
    "    ax.grid(True, which=\"both\")\n",
    "    ax.set_xscale(\"log\")\n",
    "    ax.set_yscale(\"log\")\n",
    "    #,fontsize=16\n",
    "    #,prop={'size':16}\n",
    "    for tick in ax.xaxis.get_major_ticks():\n",
    "        tick.label.set_fontsize(14)\n",
    "    for tick in ax.yaxis.get_major_ticks():\n",
    "        tick.label.set_fontsize(14)"
   ]
  },
  {
   "cell_type": "code",
   "execution_count": 37,
   "metadata": {
    "collapsed": false
   },
   "outputs": [],
   "source": [
    "img_path = '/home/chiroptera/QCThesis/results/EAC/sl_time/'\n",
    "img_path = 'C:\\\\Users\\\\Isabella\\\\Downloads\\\\working_data\\\\working_data\\\\results\\\\eac\\\\sl_time\\\\'\n",
    "for name, ax in sl_time_rule.iteritems():\n",
    "    f = ax.get_figure()\n",
    "    f.savefig('{}{}.eps'.format(img_path,name),bbox_inches='tight')\n",
    "    f.savefig('{}{}.pdf'.format(img_path,name),bbox_inches='tight')\n",
    "    f.savefig('{}{}.png'.format(img_path,name),bbox_inches='tight')\n",
    "    plt.close(f)\n",
    "del sl_time_rule"
   ]
  },
  {
   "cell_type": "markdown",
   "metadata": {},
   "source": [
    "# Sparsity: maximum number of assocs."
   ]
  },
  {
   "cell_type": "code",
   "execution_count": 38,
   "metadata": {
    "collapsed": false
   },
   "outputs": [],
   "source": [
    "par_list = res['type_mat'].unique()\n",
    "rows = 3\n",
    "cols = 2\n",
    "fig7 = plt.figure(figsize=(fig_width * cols, fig_height * rows))\n",
    "\n",
    "fig = fig7\n",
    "fig.suptitle('Association density relative to a full complete matrix: comparison between matrix type for each rule', size=16)\n",
    "\n",
    "ax_par_dict = {key: fig.add_subplot(rows, cols, i+1) for i, key in enumerate(par_list)}\n",
    "\n",
    "\n",
    "sns.set_palette(sns.color_palette(\"deep\", 6))\n",
    "\n",
    "for type_mat, grp in rule_n_mean.groupby(by='type_mat'):\n",
    "    for rule, grp2 in grp.groupby(by='rule'):\n",
    "        idx = grp2.n_samples >= 1e3 # ignore datasets smaller than 1000\n",
    "        ax = ax_par_dict[type_mat]\n",
    "        trace = '-'\n",
    "        ax.plot(grp2.n_samples[idx], grp2.density[idx], trace, label=rule)\n",
    "\n",
    "for par, ax in ax_par_dict.iteritems():\n",
    "    ax.set_xlabel(\"# samples\")\n",
    "    ax.set_ylabel(\"Relative density\")\n",
    "    ax.set_title(par)\n",
    "    ax.legend(loc=\"upper right\")#loc=(1.1, 0.0))\n",
    "    ax.grid(True, which=\"both\")\n",
    "    ax.set_xscale(\"log\")\n",
    "    ax.set_yscale(\"log\")"
   ]
  },
  {
   "cell_type": "code",
   "execution_count": 39,
   "metadata": {
    "collapsed": false
   },
   "outputs": [],
   "source": [
    "par_list = res['rule'].unique()\n",
    "rows = 2\n",
    "cols = 2\n",
    "fig8 = plt.figure(figsize=(fig_width * cols, fig_height * rows))\n",
    "\n",
    "fig = fig8\n",
    "fig.suptitle('Association density relative to a full complete matrix: comparison between matrix type for each rule', size=16)\n",
    "\n",
    "ax_par_dict = {key: fig.add_subplot(rows, cols, i+1) for i, key in enumerate(par_list)}\n",
    "\n",
    "\n",
    "sns.set_palette(sns.color_palette(\"deep\", 6))\n",
    "\n",
    "for rule, grp in rule_n_mean.groupby(by='rule'):\n",
    "    for type_mat, grp2 in grp.groupby(by='type_mat'):\n",
    "        idx = grp2.n_samples >= 1e3 # ignore datasets smaller than 1000\n",
    "        ax = ax_par_dict[rule]\n",
    "        trace = '-'\n",
    "        if any(map(lambda x: type_mat==x,['sparse condensed const'])):\n",
    "            trace = '--'\n",
    "        ax.plot(grp2.n_samples[idx], grp2.density[idx], trace, label=type_mat)\n",
    "\n",
    "        \n",
    "for par, ax in ax_par_dict.iteritems():\n",
    "    ax.set_xlabel(\"# samples\")\n",
    "    ax.set_ylabel(\"Relative density\")\n",
    "    ax.set_title(par)\n",
    "    ax.legend(loc=\"lower right\")#loc=(1.1, 0.0))\n",
    "    ax.grid(True, which=\"both\")\n",
    "    ax.set_xscale(\"log\")\n",
    "    ax.set_yscale(\"log\")\n",
    "    ymin,ymax = ax.get_axes().axis()[2:]\n",
    "    ax.set_ylim((ymin,ymax+0.1))"
   ]
  },
  {
   "cell_type": "markdown",
   "metadata": {},
   "source": [
    "## for saving"
   ]
  },
  {
   "cell_type": "code",
   "execution_count": 45,
   "metadata": {
    "collapsed": true
   },
   "outputs": [],
   "source": [
    "img_path = '/home/chiroptera/QCThesis/results/EAC/allocated_density/'\n",
    "img_path = 'C:\\\\Users\\\\Isabella\\\\Downloads\\\\working_data\\\\working_data\\\\results\\\\eac\\\\allocated_density\\\\'\n",
    "for name, ax in allocated_density_type_mat.iteritems():\n",
    "    f = ax.get_figure()\n",
    "    f.savefig('{}{}.eps'.format(img_path,name),bbox_inches='tight')\n",
    "    f.savefig('{}{}.pdf'.format(img_path,name),bbox_inches='tight')\n",
    "    f.savefig('{}{}.png'.format(img_path,name),bbox_inches='tight')\n",
    "    plt.close(f)\n",
    "del allocated_density_type_mat\n",
    "    \n",
    "for name, ax in allocated_density_rule.iteritems():\n",
    "    f = ax.get_figure()\n",
    "    f.savefig('{}{}.eps'.format(img_path,name),bbox_inches='tight')\n",
    "    f.savefig('{}{}.pdf'.format(img_path,name),bbox_inches='tight')\n",
    "    f.savefig('{}{}.png'.format(img_path,name),bbox_inches='tight')\n",
    "    plt.close(f)\n",
    "del allocated_density_rule\n",
    "    \n",
    "img_path = '/home/chiroptera/QCThesis/results/EAC/mem_density/'\n",
    "img_path = 'C:\\\\Users\\\\Isabella\\\\Downloads\\\\working_data\\\\working_data\\\\results\\\\eac\\\\mem_density\\\\'\n",
    "for name, ax in mem_density_type_mat.iteritems():\n",
    "    f = ax.get_figure()\n",
    "    f.savefig('{}{}.eps'.format(img_path,name),bbox_inches='tight')\n",
    "    f.savefig('{}{}.pdf'.format(img_path,name),bbox_inches='tight')\n",
    "    f.savefig('{}{}.png'.format(img_path,name),bbox_inches='tight')\n",
    "    plt.close(f)\n",
    "    \n",
    "for name, ax in mem_density_rule.iteritems():\n",
    "    f = ax.get_figure()\n",
    "    f.savefig('{}{}.eps'.format(img_path,name),bbox_inches='tight')\n",
    "    f.savefig('{}{}.pdf'.format(img_path,name),bbox_inches='tight')\n",
    "    f.savefig('{}{}.png'.format(img_path,name),bbox_inches='tight')\n",
    "    plt.close(f)\n",
    "del mem_density_rule\n",
    "    \n",
    "img_path = '/home/chiroptera/QCThesis/results/EAC/assoc_density/'\n",
    "img_path = 'C:\\\\Users\\\\Isabella\\\\Downloads\\\\working_data\\\\working_data\\\\results\\\\eac\\\\assoc_density\\\\'\n",
    "for name, ax in assoc_density.iteritems():\n",
    "    f = ax.get_figure()\n",
    "    f.savefig('{}{}.eps'.format(img_path,name),bbox_inches='tight')\n",
    "    f.savefig('{}{}.pdf'.format(img_path,name),bbox_inches='tight')\n",
    "    f.savefig('{}{}.png'.format(img_path,name),bbox_inches='tight')\n",
    "    plt.close(f)\n",
    "del assoc_density"
   ]
  },
  {
   "cell_type": "code",
   "execution_count": null,
   "metadata": {
    "collapsed": false
   },
   "outputs": [],
   "source": [
    "%matplotlib qt"
   ]
  },
  {
   "cell_type": "code",
   "execution_count": null,
   "metadata": {
    "collapsed": true
   },
   "outputs": [],
   "source": [
    "plt.ioff()"
   ]
  },
  {
   "cell_type": "code",
   "execution_count": 40,
   "metadata": {
    "collapsed": false
   },
   "outputs": [],
   "source": [
    "# rules in different plots\n",
    "\n",
    "mem_density_rule= dict()\n",
    "fig_dict = mem_density_rule\n",
    "#par1_name, par2_name = 'type_mat', 'rule'\n",
    "par1_name, par2_name = 'rule', 'type_mat'\n",
    "\n",
    "par_list = res[par1_name].unique()\n",
    "#fig2.suptitle('Coassoc build time: comparisson between rules for each matrix type', size=16)\n",
    "\n",
    "for par1, grp in rule_n_mean.groupby(by=par1_name):\n",
    "    fig = plt.figure(figsize=(fig_width, fig_height))\n",
    "    ax = fig.add_subplot(111)\n",
    "    fig_dict[par1] = ax\n",
    "    for par2, grp2 in grp.groupby(by=par2_name):\n",
    "        idx = grp2.n_samples >= 1e3 # ignore datasets smaller than 1000\n",
    "        trace = '-'\n",
    "        if any(map(lambda x: par2==x,['sparse condensed const'])):\n",
    "            trace = '.-'        \n",
    "        ax.plot(grp2.n_samples[idx], grp2.loc[idx,'mem_density'], trace, label=par2)\n",
    "\n",
    "for par, ax in fig_dict.iteritems():\n",
    "    ax.set_xlabel(\"# samples\",fontsize=16)\n",
    "    ax.set_ylabel(\"Density\", fontsize=16)\n",
    "    ax.set_title('Memory used relative to full matrix, {}={}'.format(par1_name,par1), fontsize=20)\n",
    "    ax.legend(loc=\"upper right\", prop={'size':16})#loc=(1.1, 0.0))\n",
    "    ax.grid(True, which=\"both\")\n",
    "    ax.set_xscale(\"log\")\n",
    "    ax.set_yscale(\"log\")\n",
    "    ymin,ymax = ax.get_axes().axis()[2:]\n",
    "    ax.set_ylim((ymin,ymax+0.1))\n",
    "    #,fontsize=16\n",
    "    #,prop={'size':16}\n",
    "    for tick in ax.xaxis.get_major_ticks():\n",
    "        tick.label.set_fontsize(14)\n",
    "    for tick in ax.yaxis.get_major_ticks():\n",
    "        tick.label.set_fontsize(14)"
   ]
  },
  {
   "cell_type": "code",
   "execution_count": 41,
   "metadata": {
    "collapsed": false
   },
   "outputs": [],
   "source": [
    "# rules in different plots\n",
    "\n",
    "mem_density_type_mat = dict()\n",
    "fig_dict = mem_density_type_mat\n",
    "par1_name, par2_name = 'type_mat', 'rule'\n",
    "#par1_name, par2_name = 'rule', 'type_mat'\n",
    "\n",
    "par_list = res[par1_name].unique()\n",
    "#fig2.suptitle('Coassoc build time: comparisson between rules for each matrix type', size=16)\n",
    "\n",
    "\n",
    "for par1, grp in rule_n_mean.groupby(by=par1_name):\n",
    "    fig = plt.figure(figsize=(fig_width, fig_height))\n",
    "    ax = fig.add_subplot(111)\n",
    "    fig_dict[par1] = ax\n",
    "    for par2, grp2 in grp.groupby(by=par2_name):\n",
    "        idx = grp2.n_samples >= 1e3 # ignore datasets smaller than 1000\n",
    "        trace = '-'\n",
    "        if any(map(lambda x: par1==x,['sparse condensed const'])):\n",
    "            trace = '.-'        \n",
    "        ax.plot(grp2.n_samples[idx], grp2.loc[idx,'mem_density'], trace, label=par2)\n",
    "\n",
    "for par, ax in fig_dict.iteritems():\n",
    "    ax.set_xlabel(\"# samples\",fontsize=16)\n",
    "    ax.set_ylabel(\"Density\", fontsize=16)\n",
    "    ax.set_title('Memory used relative to full matrix, {}={}'.format(par1_name,par1), fontsize=20)\n",
    "    ax.legend(loc=\"upper right\", prop={'size':16})#loc=(1.1, 0.0))\n",
    "    ax.grid(True, which=\"both\")\n",
    "    ax.set_xscale(\"log\")\n",
    "    ax.set_yscale(\"log\")\n",
    "    ymin,ymax = ax.get_axes().axis()[2:]\n",
    "    ax.set_ylim((ymin,ymax+0.1))\n",
    "    #,fontsize=16\n",
    "    #,prop={'size':16}\n",
    "    for tick in ax.xaxis.get_major_ticks():\n",
    "        tick.label.set_fontsize(14)\n",
    "    for tick in ax.yaxis.get_major_ticks():\n",
    "        tick.label.set_fontsize(14)    "
   ]
  },
  {
   "cell_type": "code",
   "execution_count": 42,
   "metadata": {
    "collapsed": false
   },
   "outputs": [],
   "source": [
    "# rules in different plots\n",
    "\n",
    "assoc_density = dict()\n",
    "fig_dict = assoc_density\n",
    "par1_name, par2_name = 'type_mat', 'rule'\n",
    "#par1_name, par2_name = 'rule', 'type_mat'\n",
    "\n",
    "par_list = res[par1_name].unique()\n",
    "#fig2.suptitle('Coassoc build time: comparisson between rules for each matrix type', size=16)\n",
    "\n",
    "for par1, grp in rule_n_mean.groupby(by=par1_name):\n",
    "    if par1 != 'sparse condensed const' and par1 != 'sparse condensed linear':\n",
    "        continue\n",
    "    fig = plt.figure(figsize=(fig_width, fig_height))\n",
    "    ax = fig.add_subplot(111)\n",
    "    fig_dict[par1] = ax\n",
    "\n",
    "    for par2, grp2 in grp.groupby(by=par2_name):\n",
    "        idx = grp2.n_samples >= 1e3 # ignore datasets smaller than 1000\n",
    "        trace = '-'\n",
    "        if any(map(lambda x: par1==x,['sparse condensed const'])):\n",
    "            trace = '.-'        \n",
    "        ax.plot(grp2.n_samples[idx], grp2.loc[idx,'assoc density'], trace, label=par2)\n",
    "\n",
    "for par, ax in fig_dict.iteritems():\n",
    "    ax.set_xlabel(\"# samples\",fontsize=16)\n",
    "    ax.set_ylabel(\"Density\", fontsize=16)\n",
    "    ax.set_title('Density of associations relative to full matrix, {}={}'.format(par1_name,par1), fontsize=20)\n",
    "    ax.legend(loc=\"upper right\", prop={'size':16})#loc=(1.1, 0.0))\n",
    "    ax.grid(True, which=\"both\")\n",
    "    ax.set_xscale(\"log\")\n",
    "    ax.set_yscale(\"log\")\n",
    "    ymin,ymax = ax.get_axes().axis()[2:]\n",
    "    ax.set_ylim((ymin,ymax+0.1))\n",
    "    #,fontsize=16\n",
    "    #,prop={'size':16}\n",
    "    for tick in ax.xaxis.get_major_ticks():\n",
    "        tick.label.set_fontsize(14)\n",
    "    for tick in ax.yaxis.get_major_ticks():\n",
    "        tick.label.set_fontsize(14)    "
   ]
  },
  {
   "cell_type": "code",
   "execution_count": 43,
   "metadata": {
    "collapsed": false
   },
   "outputs": [],
   "source": [
    "# rules in different plots\n",
    "\n",
    "allocated_density_type_mat = dict()\n",
    "fig_dict = allocated_density_type_mat\n",
    "par1_name, par2_name = 'type_mat', 'rule'\n",
    "#par1_name, par2_name = 'rule', 'type_mat'\n",
    "\n",
    "par_list = res[par1_name].unique()\n",
    "#fig2.suptitle('Coassoc build time: comparisson between rules for each matrix type', size=16)\n",
    "\n",
    "for par1, grp in rule_n_mean.groupby(by=par1_name):\n",
    "    fig = plt.figure(figsize=(fig_width, fig_height))\n",
    "    ax = fig.add_subplot(111)\n",
    "    fig_dict[par1] = ax\n",
    "    for par2, grp2 in grp.groupby(by=par2_name):\n",
    "        idx = grp2.n_samples >= 1e3 # ignore datasets smaller than 1000\n",
    "        trace = '-'\n",
    "        if any(map(lambda x: par1==x,['sparse condensed const'])):\n",
    "            trace = '.-'        \n",
    "        ax.plot(grp2.n_samples[idx], grp2.density[idx], trace, label=par2)\n",
    "\n",
    "for par, ax in fig_dict.iteritems():\n",
    "    ax.set_xlabel(\"# samples\",fontsize=16)\n",
    "    ax.set_ylabel(\"Density\", fontsize=16)\n",
    "    ax.set_title('Density of allocated associations relative to full matrix, {}={}'.format(par1_name,par), fontsize=20)\n",
    "    ax.legend(loc=\"upper right\", prop={'size':16})#loc=(1.1, 0.0))\n",
    "    ax.grid(True, which=\"both\")\n",
    "    ax.set_xscale(\"log\")\n",
    "    ax.set_yscale(\"log\")\n",
    "    ymin,ymax = ax.get_axes().axis()[2:]\n",
    "    ax.set_ylim((ymin,ymax+0.1))\n",
    "    #,fontsize=16\n",
    "    #,prop={'size':16}\n",
    "    for tick in ax.xaxis.get_major_ticks():\n",
    "        tick.label.set_fontsize(14)\n",
    "    for tick in ax.yaxis.get_major_ticks():\n",
    "        tick.label.set_fontsize(14)    "
   ]
  },
  {
   "cell_type": "code",
   "execution_count": 44,
   "metadata": {
    "collapsed": false
   },
   "outputs": [],
   "source": [
    "# rules in different plots\n",
    "\n",
    "allocated_density_rule = dict()\n",
    "fig_dict = allocated_density_rule\n",
    "#par1_name, par2_name = 'type_mat', 'rule'\n",
    "par1_name, par2_name = 'rule', 'type_mat'\n",
    "\n",
    "par_list = res[par1_name].unique()\n",
    "#fig2.suptitle('Coassoc build time: comparisson between rules for each matrix type', size=16)\n",
    "\n",
    "for par1, grp in rule_n_mean.groupby(by=par1_name):\n",
    "    fig = plt.figure(figsize=(fig_width, fig_height))\n",
    "    ax = fig.add_subplot(111)\n",
    "    fig_dict[par1] = ax\n",
    "    for par2, grp2 in grp.groupby(by=par2_name):\n",
    "        idx = grp2.n_samples >= 1e3 # ignore datasets smaller than 1000\n",
    "        trace = '-'\n",
    "        if any(map(lambda x: par2==x,['sparse condensed const'])):\n",
    "            trace = '.-'        \n",
    "        ax.plot(grp2.n_samples[idx], grp2.density[idx], trace, label=par2)\n",
    "\n",
    "for par, ax in fig_dict.iteritems():\n",
    "    ax.set_xlabel(\"# samples\",fontsize=16)\n",
    "    ax.set_ylabel(\"Density\", fontsize=16)\n",
    "    ax.set_title('Density of allocated associations relative to full matrix, {}={}'.format(par1_name,par), fontsize=20)\n",
    "    ax.legend(loc=\"upper right\", prop={'size':16})#loc=(1.1, 0.0))\n",
    "    ax.grid(True, which=\"both\")\n",
    "    ax.set_xscale(\"log\")\n",
    "    ax.set_yscale(\"log\")\n",
    "    ymin,ymax = ax.get_axes().axis()[2:]\n",
    "    ax.set_ylim((ymin,ymax+0.1))\n",
    "    #,fontsize=16\n",
    "    #,prop={'size':16}\n",
    "    for tick in ax.xaxis.get_major_ticks():\n",
    "        tick.label.set_fontsize(14)\n",
    "    for tick in ax.yaxis.get_major_ticks():\n",
    "        tick.label.set_fontsize(14)    "
   ]
  },
  {
   "cell_type": "markdown",
   "metadata": {},
   "source": [
    "# Sparsity: memory"
   ]
  },
  {
   "cell_type": "code",
   "execution_count": null,
   "metadata": {
    "collapsed": false,
    "scrolled": true
   },
   "outputs": [],
   "source": [
    "par_list = res['type_mat'].unique()\n",
    "rows = 3\n",
    "cols = 2\n",
    "fig9 = plt.figure(figsize=(fig_width * cols, fig_height * rows))\n",
    "\n",
    "fig = fig9\n",
    "fig.suptitle('Memory used relative to a full complete matrix: comparison between matrix type for each rule', size=16)\n",
    "\n",
    "ax_par_dict = {key: fig.add_subplot(rows, cols, i+1) for i, key in enumerate(par_list)}\n",
    "\n",
    "\n",
    "sns.set_palette(sns.color_palette(\"deep\", 6))\n",
    "\n",
    "for type_mat, grp in rule_n_mean.groupby(by='type_mat'):\n",
    "    for rule, grp2 in grp.groupby(by='rule'):\n",
    "        idx = grp2.n_samples >= 1e3 # ignore datasets smaller than 1000\n",
    "        ax = ax_par_dict[type_mat]\n",
    "        trace = '-'\n",
    "        ax.plot(grp2.n_samples[idx], grp2.mem_density[idx], trace, label=rule)\n",
    "\n",
    "for par, ax in ax_par_dict.iteritems():\n",
    "    ax.set_xlabel(\"# samples\")\n",
    "    ax.set_ylabel('Memory ratio')\n",
    "    ax.set_title(par)\n",
    "    ax.legend(loc=\"upper right\")#loc=(1.1, 0.0))\n",
    "    ax.grid(True, which=\"both\")\n",
    "    ax.set_xscale(\"log\")\n",
    "    ax.set_yscale(\"log\")"
   ]
  },
  {
   "cell_type": "code",
   "execution_count": null,
   "metadata": {
    "collapsed": false
   },
   "outputs": [],
   "source": [
    "par_list = res['rule'].unique()\n",
    "rows = 2\n",
    "cols = 2\n",
    "fig10 = plt.figure(figsize=(fig_width * cols, fig_height * rows))\n",
    "\n",
    "fig = fig10\n",
    "fig.suptitle('Memory used relative to a full complete matrix: comparison between matrix type for each rule', size=16)\n",
    "\n",
    "ax_par_dict = {key: fig.add_subplot(rows, cols, i+1) for i, key in enumerate(par_list)}\n",
    "\n",
    "\n",
    "sns.set_palette(sns.color_palette(\"deep\", 6))\n",
    "\n",
    "for rule, grp in rule_n_mean.groupby(by='rule'):\n",
    "    for type_mat, grp2 in grp.groupby(by='type_mat'):\n",
    "        idx = grp2.n_samples >= 1e3 # ignore datasets smaller than 1000\n",
    "        ax = ax_par_dict[rule]\n",
    "        trace = '-'\n",
    "        if type_mat in ('sparse condensed const'):\n",
    "            trace = '--'\n",
    "        ax.plot(grp2.n_samples[idx], grp2.mem_density[idx], trace, label=type_mat)\n",
    "\n",
    "for par, ax in ax_par_dict.iteritems():\n",
    "    ax.set_xlabel(\"# samples\")\n",
    "    ax.set_ylabel(\"Memory ratio\")\n",
    "    ax.set_title(par)\n",
    "    ax.legend(loc=\"lower right\")#loc=(1.1, 0.0))\n",
    "    ax.grid(True, which=\"both\")\n",
    "    ax.set_xscale(\"log\")\n",
    "    ax.set_yscale(\"log\")"
   ]
  },
  {
   "cell_type": "markdown",
   "metadata": {},
   "source": [
    "# Memory / $K_{min}$ relationship"
   ]
  },
  {
   "cell_type": "code",
   "execution_count": null,
   "metadata": {
    "collapsed": false
   },
   "outputs": [],
   "source": [
    "par_list = ['sparse condensed linear']\n",
    "rows = 1\n",
    "cols = 1\n",
    "fig11 = plt.figure(figsize=(fig_width * cols, fig_height * rows))\n",
    "\n",
    "fig = fig11\n",
    "fig.suptitle('Relative memory usage of sparse condensed linear and $K_{min}$ evolution', size=16)\n",
    "\n",
    "sns.set_palette(sns.color_palette(\"deep\", 6))\n",
    "ax_par_dict = {key: fig.add_subplot(rows, cols, i+1) for i, key in enumerate(par_list)}\n",
    "ax = ax_par_dict['sparse condensed linear']\n",
    "sns.set_palette(sns.color_palette(\"dark\", 10))\n",
    "ax_s = ax.twinx()\n",
    "\n",
    "for rule, grp in rule_n_mean.groupby(by='rule'):\n",
    "    idx = grp.n_samples >= 1e3 # ignore datasets smaller than 1000\n",
    "    idx2 = grp.type_mat == 'sparse condensed linear'\n",
    "    idx = np.logical_and(idx, idx2)\n",
    "    trace = '-'\n",
    "    ax.plot(grp.n_samples[idx], grp.mem_density[idx], trace, label=rule)\n",
    "    ax_s.plot(grp.n_samples[idx], grp.kmin[idx], trace, label=rule)    \n",
    "\n",
    "ax.plot([250000,250000],[0,10],'-.k')\n",
    "ax.plot([500000,500000],[0,10],'-.k')\n",
    "\n",
    "ax.plot([0,10e6],[0.1,0.1],'-.k')\n",
    "ax.plot([0,10e6],[1,1],'-.k')\n",
    "    \n",
    "ax.set_xlabel(\"# samples\")\n",
    "ax.set_ylabel('Memory ratio')\n",
    "ax_s.set_ylabel('$K_{min}$')\n",
    "\n",
    "ax.legend(loc=(1.1, 0.0), title=\"Memory ratio\") #loc=(1.1, 0.0))\n",
    "ax.grid(True, which=\"both\")\n",
    "ax.set_xscale(\"log\")\n",
    "ax_s.set_xscale(\"log\")\n",
    "ax.set_yscale(\"log\")\n",
    "ax_s.set_yscale(\"log\")\n",
    "\n",
    "ax_s.legend(loc=(1.1, 0.8), title=\"$K_{min}$\")"
   ]
  },
  {
   "cell_type": "markdown",
   "metadata": {},
   "source": [
    "Analyzing this plot is interesting we can clearly see the effect of $K_{min}$ in the memory usage. Three of the rules have a quadratic growth, while the \"sk=300\" rule has a linear growth. It's obvious that a smaller $K_{min}$ will translate in higher memory consumptions. We can see that as the \"sk=300\" rule crosses the other rules, its correspondent memory usage becomes less than that of those rules."
   ]
  },
  {
   "cell_type": "code",
   "execution_count": 46,
   "metadata": {
    "collapsed": false
   },
   "outputs": [],
   "source": [
    "par_list = ['sparse condensed linear']\n",
    "rows = 1\n",
    "cols = 1\n",
    "fig11 = plt.figure(figsize=(fig_width * cols, fig_height * rows))\n",
    "\n",
    "fig = fig11\n",
    "\n",
    "ax_par_dict = {key: fig.add_subplot(rows, cols, i+1) for i, key in enumerate(par_list)}\n",
    "ax = ax_par_dict['sparse condensed linear']\n",
    "\n",
    "for rule, grp in rule_n_mean.groupby(by='rule'):\n",
    "    idx = grp.n_samples >= 1e3 # ignore datasets smaller than 1000\n",
    "    idx2 = grp.type_mat == 'sparse condensed linear'\n",
    "    idx = np.logical_and(idx, idx2)\n",
    "    trace = '-'\n",
    "    ax.plot(grp.n_samples[idx], grp.assocs_per_samples[idx], trace, label=rule)\n",
    "\n",
    "#ax.plot([250000,250000],[0,10],'-.k')\n",
    "#ax.plot([500000,500000],[0,10],'-.k')\n",
    "\n",
    "#ax.plot([0,10e7],[0.1,0.1],'-.k')\n",
    "#ax.plot([0,10e7],[1,1],'-.k')\n",
    "    \n",
    "ax.set_xlabel(\"# samples\",fontsize=16)\n",
    "ax.set_ylabel('No. associations per sample',fontsize=16)\n",
    "ax.set_title('Number of associations per sample', size=20)\n",
    "\n",
    "ax.legend(loc='lower right', title=\"Rule\",prop={'size':16}) #loc=(1.1, 0.0))\n",
    "ax.grid(True, which=\"both\")\n",
    "ax.set_xscale(\"log\")\n",
    "ax.set_yscale(\"log\")\n",
    "#,fontsize=16\n",
    "#,prop={'size':16}\n",
    "for tick in ax.xaxis.get_major_ticks():\n",
    "    tick.label.set_fontsize(14)\n",
    "for tick in ax.yaxis.get_major_ticks():\n",
    "    tick.label.set_fontsize(14) \n",
    "\n",
    "for fig_format in ('eps','png','pdf'):\n",
    "    img_path = 'C:\\\\Users\\\\Isabella\\\\Downloads\\\\working_data\\\\working_data\\\\results\\\\eac\\\\'\n",
    "    fig.savefig('{}assocs_per_sample.{}'.format(img_path,fig_format), bbox_inches='tight')\n",
    "#plt.close(fig)"
   ]
  },
  {
   "cell_type": "markdown",
   "metadata": {},
   "source": [
    "# Accuracy"
   ]
  },
  {
   "cell_type": "code",
   "execution_count": null,
   "metadata": {
    "collapsed": false,
    "scrolled": true
   },
   "outputs": [],
   "source": [
    "same_accuracy = {n_samples:True for n_samples in res.n_samples.unique()}\n",
    "n_samples_accuracy = {n_samples:0 for n_samples in res.n_samples.unique()}\n",
    "for n_samples, grp in rule_n_mean.groupby(by='n_samples'):\n",
    "    #print n_samples,grp[['accuracy_CI','accuracy_CI_disk']]\n",
    "    #print grp.accuracy_CI\n",
    "    #print grp.accuracy_CI == grp.accuracy_CI[0]\n",
    "    first = True\n",
    "    first_score = 0\n",
    "    for score in np.nditer(grp[['accuracy_CI','accuracy_CI_disk']].values):\n",
    "        if pd.notnull(score):\n",
    "            if first:\n",
    "                first_score = score\n",
    "                n_samples_accuracy[n_samples] = score\n",
    "                first = False\n",
    "            if score != first_score:\n",
    "                same_accuracy[n_samples] = False\n",
    "                break"
   ]
  },
  {
   "cell_type": "code",
   "execution_count": null,
   "metadata": {
    "collapsed": false
   },
   "outputs": [],
   "source": [
    "print 'All accuracies are the same:'\n",
    "print '----------------------------'\n",
    "print '# samples\\tSame'\n",
    "for item in sorted(same_accuracy.iteritems(), key=lambda x: x[0]):\n",
    "    print '{}\\t\\t{}\\t{}'.format(int(item[0]), item[1], n_samples_accuracy[item[0]])"
   ]
  },
  {
   "cell_type": "markdown",
   "metadata": {},
   "source": [
    "Accuracies are the same throughout the whose spectrum of cardinality, for the exception of the first 3 sets. The reason for this is that the 'sk=300' rule yields a very low $K_{min}$ for low cardinality. In this cases the number of clusters in the ensemble is lower that the true number, which is undesirable in EAC."
   ]
  },
  {
   "cell_type": "code",
   "execution_count": 47,
   "metadata": {
    "collapsed": false
   },
   "outputs": [],
   "source": [
    "par_list = ['sparse condensed linear']\n",
    "rows = 1\n",
    "cols = 1\n",
    "fig12 = plt.figure(figsize=(fig_width * cols, fig_height * rows))\n",
    "\n",
    "fig = fig12\n",
    "\n",
    "\n",
    "sns.set_palette(sns.color_palette(\"deep\", 6))\n",
    "ax_par_dict = {key: fig.add_subplot(rows, cols, i+1) for i, key in enumerate(par_list)}\n",
    "ax = ax_par_dict['sparse condensed linear']\n",
    "\n",
    "idx = (res.n_samples >= 1e3) & (res.type_mat == 'sparse condensed linear') & (res.rule == 'sk=300,th=30%')\n",
    "trace='-'\n",
    "ax.plot(res.n_samples[idx], res.accuracy_CI_disk[idx], trace, label='sk=300,th=30%')\n",
    "\n",
    "#ax.plot([0,0,2500000,2500000],[0,1.1,0,1.1],'.k')\n",
    "#ax.plot([500000,500000],[0,1],'-.k')\n",
    "    \n",
    "ax.set_xlabel(\"# samples\", fontsize=16)\n",
    "ax.set_ylabel('Memory ratio', fontsize=16)\n",
    "ax.set_title('Accuracy (CI) evolution with number of samples', size=20)\n",
    "ax.legend(prop={'size':16}, loc=\"best\") #loc=(1.1, 0.0))\n",
    "ax.grid(True, which=\"both\")\n",
    "ax.set_xscale(\"log\")\n",
    "#ax.set_yscale(\"log\")\n",
    "t_axis = plt.axis()\n",
    "t_axis = (t_axis[0], t_axis[1], t_axis[2], t_axis[3] + 0.01)\n",
    "plt.axis(t_axis)\n",
    "#,fontsize=16\n",
    "#,prop={'size':16}\n",
    "for tick in ax.xaxis.get_major_ticks():\n",
    "    tick.label.set_fontsize(14)\n",
    "for tick in ax.yaxis.get_major_ticks():\n",
    "    tick.label.set_fontsize(14) \n",
    "\n",
    "for fig_format in ('eps','png','pdf'):\n",
    "    #fig.savefig('/home/chiroptera/QCThesis/results/EAC/accuracy.{}'.format(fig_format), bbox_inches='tight')\n",
    "    img_path = 'C:\\\\Users\\\\Isabella\\\\Downloads\\\\working_data\\\\working_data\\\\results\\\\eac\\\\'\n",
    "    fig.savefig('{}accuracy.{}'.format(img_path,fig_format), bbox_inches='tight')    \n",
    "#plt.close(fig)"
   ]
  },
  {
   "cell_type": "code",
   "execution_count": 48,
   "metadata": {
    "collapsed": false
   },
   "outputs": [
    {
     "data": {
      "text/plain": [
       "<matplotlib.legend.Legend at 0x25009550>"
      ]
     },
     "execution_count": 48,
     "metadata": {},
     "output_type": "execute_result"
    }
   ],
   "source": [
    "par_list = ['sparse condensed linear']\n",
    "rows = 1\n",
    "cols = 1\n",
    "fig13 = plt.figure(figsize=(fig_width*2 * cols, fig_height*2 * rows))\n",
    "\n",
    "fig = fig13\n",
    "fig.suptitle('Relative memory usage of sparse condensed linear and $K_{min}$ evolution', size=20)\n",
    "\n",
    "sns.set_palette(sns.color_palette(\"deep\", 6))\n",
    "ax_par_dict = {key: fig.add_subplot(rows, cols, i+1) for i, key in enumerate(par_list)}\n",
    "ax = ax_par_dict['sparse condensed linear']\n",
    "sns.set_palette(sns.color_palette(\"dark\", 10))\n",
    "ax_s = ax.twinx()\n",
    "\n",
    "for rule, grp in rule_n_mean.groupby(by='rule'):\n",
    "    idx = grp.n_samples >= 1e3 # ignore datasets smaller than 1000\n",
    "    idx2 = grp.type_mat == 'sparse condensed linear'\n",
    "    idx = np.logical_and(idx, idx2)\n",
    "    trace = '-'\n",
    "    ax.plot(grp.n_samples[idx], grp.n_assocs[idx], trace, label=rule)\n",
    "    ax_s.plot(grp.n_samples[idx], grp.max_n_assocs[idx], '-.', label=rule)    \n",
    "\n",
    "   \n",
    "ax.set_xlabel(\"# samples\", fontsize=16)\n",
    "ax.set_ylabel('# assocs.', fontsize=16)\n",
    "ax.set_xscale(\"log\")\n",
    "ax.set_yscale(\"log\")\n",
    "ax.grid(True, which=\"both\")\n",
    "ax.legend(loc=(1.1, 0.0), title='Number of associations',fontsize=16,prop={'size':16}) #loc=(1.1, 0.0))\n",
    "#,fontsize=16\n",
    "#,prop={'size':16}\n",
    "for tick in ax.xaxis.get_major_ticks():\n",
    "    tick.label.set_fontsize(14)\n",
    "for tick in ax.yaxis.get_major_ticks():\n",
    "    tick.label.set_fontsize(14) \n",
    "\n",
    "\n",
    "#ax_s.set_ylabel('$K_{min}$')\n",
    "ax_s.set_xscale(\"log\")\n",
    "ax_s.set_yscale(\"log\")\n",
    "ax_s.legend(loc=(1.1, 0.8), title='Maximum number of assocs.',fontsize=16)"
   ]
  },
  {
   "cell_type": "code",
   "execution_count": 49,
   "metadata": {
    "collapsed": false
   },
   "outputs": [],
   "source": [
    "# double y axis example\n",
    "rows = 1\n",
    "cols = 1\n",
    "fig14 = plt.figure(figsize=(fig_width * cols, fig_height * rows))\n",
    "\n",
    "fig = fig14\n",
    "\n",
    "ax = fig.add_subplot(rows, cols, 1)\n",
    "for key,grp in rule_n_mean.groupby(by=\"rule\"):\n",
    "    idx = (grp.n_samples >= 1e3) & (grp.type_mat == 'sparse condensed linear')\n",
    "    ax.plot(grp.n_samples[idx], grp.max_degree[idx] / grp.biggest_cluster[idx], label=key)\n",
    "\n",
    "ax.set_xlabel(\"# samples\",fontsize=16)\n",
    "ax.set_ylabel(\"max # assocs / biggest cluster size\",fontsize=16)\n",
    "ax.set_title(\"Relationship between max. num. assocs and biggest cluster size per rule\",fontsize=20)\n",
    "ax.legend(loc=\"lower right\",prop={'size':16})#loc=(1.1, 0.0))\n",
    "ax.grid(True, which=\"both\")\n",
    "ax.set_xscale(\"log\")\n",
    "#,fontsize=16\n",
    "#,prop={'size':16}\n",
    "for tick in ax.xaxis.get_major_ticks():\n",
    "    tick.label.set_fontsize(14)\n",
    "for tick in ax.yaxis.get_major_ticks():\n",
    "    tick.label.set_fontsize(14) \n",
    "\n",
    "for fig_format in ('eps','png','pdf'):\n",
    "    #fig.savefig('/home/chiroptera/QCThesis/results/EAC/max_assoc_bgs.{}'.format(fig_format), bbox_inches='tight')\n",
    "    img_path = 'C:\\\\Users\\\\Isabella\\\\Downloads\\\\working_data\\\\working_data\\\\results\\\\eac\\\\'\n",
    "    fig.savefig('{}max_assocs_bgs.{}'.format(img_path,fig_format), bbox_inches='tight')    \n",
    "plt.close(fig)"
   ]
  },
  {
   "cell_type": "markdown",
   "metadata": {},
   "source": [
    "# delete bad names from images"
   ]
  },
  {
   "cell_type": "code",
   "execution_count": 64,
   "metadata": {
    "collapsed": true
   },
   "outputs": [],
   "source": [
    "# change all files with weird rule names to something latex can read\n",
    "import glob\n",
    "import os\n",
    "for d in glob.glob('C:\\\\Users\\\\Isabella\\\\Downloads\\\\working_data\\\\working_data\\\\results\\\\eac\\\\*'):\n",
    "    for f in glob.glob(d + '\\\\*'):\n",
    "        if 'sk=300,th=30%' in f:\n",
    "            new_name = f.replace('sk=300,th=30%','sk=300')\n",
    "            os.rename(f, new_name)\n",
    "        elif 'sk=sqrt_2,th=30%' in f:\n",
    "            new_name = f.replace('sk=sqrt_2,th=30%','sk=sqrt_2')\n",
    "            os.rename(f, new_name)\n",
    "        elif 'full condensed' in f:\n",
    "            new_name = f.replace('full condensed','full_condensed')\n",
    "            os.rename(f, new_name)\n",
    "        elif 'sparse complete' in f:\n",
    "            new_name = f.replace('sparse complete','sparse_complete')\n",
    "            os.rename(f, new_name)\n",
    "        elif 'sparse condensed const' in f:\n",
    "            new_name = f.replace('sparse condensed const','sparse_condensed_const')\n",
    "            os.rename(f, new_name)\n",
    "        elif 'sparse condensed linear' in f:\n",
    "            new_name = f.replace('sparse condensed linear','sparse_condensed_linear')\n",
    "            os.rename(f, new_name)"
   ]
  },
  {
   "cell_type": "markdown",
   "metadata": {},
   "source": [
    "# Kmin evolution per rule"
   ]
  },
  {
   "cell_type": "code",
   "execution_count": 50,
   "metadata": {
    "collapsed": false,
    "scrolled": true
   },
   "outputs": [],
   "source": [
    "# rules in different plots\n",
    "\n",
    "kmin_per_rule = dict()\n",
    "fig_dict = kmin_per_rule\n",
    "title = '$K_{min}$ evolution per rule'\n",
    "\n",
    "\n",
    "#par1_name : diff plots\n",
    "#par2_name : different curves in plot\n",
    "\n",
    "par1_name, par2_name = 'type_mat', 'rule'\n",
    "#par1_name, par2_name = 'rule', 'type_mat'\n",
    "\n",
    "par_list = res[par1_name].unique()\n",
    "#fig2.suptitle('Coassoc build time: comparisson between rules for each matrix type', size=16)\n",
    "\n",
    "\n",
    "\n",
    "for par1, grp in rule_n_mean.groupby(by=par1_name):\n",
    "    if par1 != 'sparse condensed linear':\n",
    "        continue\n",
    "    fig = plt.figure(figsize=(fig_width, fig_height))\n",
    "    ax = fig.add_subplot(111)\n",
    "    fig_dict[par1] = ax\n",
    "    for par2, grp2 in grp.groupby(by=par2_name):\n",
    "        idx = grp2.n_samples >= 1e3 # ignore datasets smaller than 1000\n",
    "        ax.plot(grp2.n_samples[idx], grp2.loc[idx,'kmin'], label=par2)\n",
    "\n",
    "for par, ax in fig_dict.iteritems():\n",
    "    ax.set_xlabel(\"# samples\",fontsize=16)\n",
    "    ax.set_ylabel(\"Time [s]\", fontsize=16)\n",
    "    ax.set_title('{}, {}={}'.format(title,par1_name,par), fontsize=20)\n",
    "    ax.legend(loc=\"lower right\", prop={'size':16})#loc=(1.1, 0.0))\n",
    "    ax.grid(True, which=\"both\")\n",
    "    ax.set_xscale(\"log\")\n",
    "    ax.set_yscale(\"log\")\n",
    "    #fontsize=16\n",
    "    #prop={'size':16\n",
    "    for tick in ax.xaxis.get_major_ticks():\n",
    "        tick.label.set_fontsize(14)\n",
    "    for tick in ax.yaxis.get_major_ticks():\n",
    "        tick.label.set_fontsize(14)     \n",
    "\n",
    "for fig_format in ('eps','png','pdf'):\n",
    "    #fig.savefig('/home/chiroptera/QCThesis/results/EAC/kmin_evolution.{}'.format(fig_format), bbox_inches='tight')\n",
    "    img_path = 'C:\\\\Users\\\\Isabella\\\\Downloads\\\\working_data\\\\working_data\\\\results\\\\eac\\\\'\n",
    "    fig.savefig('{}kmin_evolution.{}'.format(img_path,fig_format), bbox_inches='tight')    \n",
    "#plt.close(fig)"
   ]
  },
  {
   "cell_type": "markdown",
   "metadata": {},
   "source": [
    "# SL time per rule"
   ]
  },
  {
   "cell_type": "code",
   "execution_count": 51,
   "metadata": {
    "collapsed": false,
    "scrolled": false
   },
   "outputs": [],
   "source": [
    "# rules in different plots\n",
    "\n",
    "sl_different_methods = dict()\n",
    "fig_dict = sl_different_methods\n",
    "title = 'SLINK vs SL-MST vs SL-MST-Disk'\n",
    "\n",
    "\n",
    "#par1_name : diff plots\n",
    "#par2_name : different curves in plot\n",
    "\n",
    "#par1_name, par2_name = 'type_mat', 'rule'\n",
    "par1_name, par2_name = 'rule', 'type_mat'\n",
    "\n",
    "par_list = res[par1_name].unique()\n",
    "#fig2.suptitle('Coassoc build time: comparisson between rules for each matrix type', size=16)\n",
    "\n",
    "\n",
    "\n",
    "for par1, grp in rule_n_mean.groupby(by=par1_name):\n",
    "    if par1 != '2sqrt':\n",
    "        continue\n",
    "    fig = plt.figure(figsize=(fig_width, fig_height))\n",
    "    ax = fig.add_subplot(111)\n",
    "    fig_dict[par1] = ax\n",
    "    for par2, grp2 in grp.groupby(by=par2_name):\n",
    "        if par2 == 'full' or par2 == 'sparse condensed const':\n",
    "            continue\n",
    "        idx = grp2.n_samples >= 1e3 # ignore datasets smaller than 1000\n",
    "        ax.plot(grp2.n_samples[idx], grp2.loc[idx,'t_sl'], label=par2)\n",
    "        if par2 == 'full condensed':\n",
    "            continue\n",
    "        ax.plot(grp2.n_samples[idx], grp2.loc[idx,'t_sl_disk'], label=par2)\n",
    "\n",
    "for par, ax in fig_dict.iteritems():\n",
    "    ax.set_xlabel(\"# samples\",fontsize=16)\n",
    "    ax.set_ylabel(\"Time [s]\", fontsize=16)\n",
    "    ax.set_title('{}, {}={}'.format(title,par1_name,par), fontsize=20)\n",
    "    ax.legend(['SLINK','SL-MST complete','SL-MST-Disk complete','SL-MST condensed','SL-MST-Disk condensed'],loc=\"lower right\", prop={'size':16})#loc=(1.1, 0.0))\n",
    "    ax.grid(True, which=\"both\")\n",
    "    ax.set_xscale(\"log\")\n",
    "    ax.set_yscale(\"log\")\n",
    "    #fontsize=16\n",
    "    #prop={'size':16\n",
    "    for tick in ax.xaxis.get_major_ticks():\n",
    "        tick.label.set_fontsize(14)\n",
    "    for tick in ax.yaxis.get_major_ticks():\n",
    "        tick.label.set_fontsize(14)     \n",
    "    \n",
    "for fig_format in ('eps','png','pdf'):\n",
    "    #fig.savefig('/home/chiroptera/QCThesis/results/EAC/sl_time/slink_vs_sl-mst.{}'.format(fig_format), bbox_inches='tight')\n",
    "    img_path = 'C:\\\\Users\\\\Isabella\\\\Downloads\\\\working_data\\\\working_data\\\\results\\\\eac\\\\sl_time\\\\'\n",
    "    fig.savefig('{}slink_vs_sl-mst.{}'.format(img_path,fig_format), bbox_inches='tight')    \n",
    "#plt.close(fig)"
   ]
  },
  {
   "cell_type": "code",
   "execution_count": null,
   "metadata": {
    "collapsed": false
   },
   "outputs": [],
   "source": [
    "sns.palplot(tableau)"
   ]
  },
  {
   "cell_type": "markdown",
   "metadata": {},
   "source": [
    "# need ensemble time"
   ]
  },
  {
   "cell_type": "code",
   "execution_count": 58,
   "metadata": {
    "collapsed": false
   },
   "outputs": [],
   "source": [
    "ensemble_time_path = 'C:\\\\Users\\\\Isabella\\\\Downloads\\\\working_data\\\\working_data\\\\gauss10_overlap\\\\ensemble_results_kmin.csv'\n",
    "res_t_ensemble = pd.read_csv(ensemble_time_path)\n",
    "res_t_ensemble = res_t_ensemble[['n_samples','rule','kmin','kmax','t_ensemble']].dropna(axis=0)\n",
    "res_t_ensemble = res_t_ensemble.query('n_samples >= 5e2')\n",
    "\n",
    "for key, grp1 in rule_n_mean.groupby(by=['n_samples','rule']):\n",
    "    n, rule = key\n",
    "    idx = rule_n_mean.query('n_samples=={} & rule==\"{}\"'.format(n,rule)).index\n",
    "    t = res_t_ensemble.query('n_samples=={} & rule==\"{}\"'.format(n,rule))['t_ensemble'].values[0]\n",
    "    rule_n_mean.loc[idx, 't_ensemble'] = t"
   ]
  },
  {
   "cell_type": "markdown",
   "metadata": {},
   "source": [
    "# Ensemble time"
   ]
  },
  {
   "cell_type": "code",
   "execution_count": 59,
   "metadata": {
    "collapsed": false
   },
   "outputs": [],
   "source": [
    "# rules in different plots\n",
    "\n",
    "ensemble_time = dict()\n",
    "fig_dict = ensemble_time\n",
    "title = 'Production execution time'\n",
    "\n",
    "#par1_name : diff plots\n",
    "#par2_name : different curves in plot\n",
    "\n",
    "#par1_name, par2_name = 'type_mat', 'rule'\n",
    "par1_name, par2_name = 'rule', 'type_mat'\n",
    "\n",
    "par_list = res[par1_name].unique()\n",
    "#fig2.suptitle('Coassoc build time: comparisson between rules for each matrix type', size=16)\n",
    "\n",
    "\n",
    "\n",
    "fig = plt.figure(figsize=(fig_width, fig_height))\n",
    "ax = fig.add_subplot(111)\n",
    "fig_dict[0] = ax   \n",
    "for par1, grp in rule_n_mean.groupby(by=par1_name):\n",
    "\n",
    "    ax.plot(grp.n_samples, grp.loc[:,'t_ensemble'], label= '{}'.format(par1))\n",
    "    #build = grp.query('type_mat == \"sparse condensed linear\"').loc[:,['n_samples','t_build']]\n",
    "    #ax.plot(build.loc[:,'n_samples'], build.loc[:,'t_build'], label= 'build time {}'.format(par1))\n",
    "\n",
    "for par, ax in fig_dict.iteritems():\n",
    "    ax.set_xlabel(\"# samples\",fontsize=16)\n",
    "    ax.set_ylabel(\"Time [s]\", fontsize=16)\n",
    "    ax.set_title('{}, {}{}'.format(title,'',''), fontsize=20)\n",
    "    ax.legend(loc=\"lower right\", prop={'size':16})#loc=(1.1, 0.0))\n",
    "    ax.grid(True, which=\"both\")\n",
    "    ax.set_xscale(\"log\")\n",
    "    ax.set_yscale(\"log\")\n",
    "    #fontsize=16\n",
    "    #prop={'size':16\n",
    "    for tick in ax.xaxis.get_major_ticks():\n",
    "        tick.label.set_fontsize(14)\n",
    "    for tick in ax.yaxis.get_major_ticks():\n",
    "        tick.label.set_fontsize(14)     \n",
    "    \n",
    "for fig_format in ('eps','png','pdf'):\n",
    "    #fig.savefig('/home/chiroptera/QCThesis/results/EAC/ensemble_time.{}'.format(fig_format), bbox_inches='tight')\n",
    "    img_path = 'C:\\\\Users\\\\Isabella\\\\Downloads\\\\working_data\\\\working_data\\\\results\\\\eac\\\\'\n",
    "    fig.savefig('{}ensemble_time.{}'.format(img_path,fig_format), bbox_inches='tight')        "
   ]
  },
  {
   "cell_type": "markdown",
   "metadata": {},
   "source": [
    "# Total Time"
   ]
  },
  {
   "cell_type": "code",
   "execution_count": 60,
   "metadata": {
    "collapsed": true
   },
   "outputs": [],
   "source": [
    "total = rule_n_mean.query('type_mat == \"sparse condensed linear\"').loc[:,['rule','n_samples','t_build','t_ensemble','t_sl','t_sl_disk']]\n",
    "total['total_mem'] = total[['t_build','t_ensemble','t_sl']].sum(axis=1)\n",
    "total['total_disk'] = total[['t_build','t_ensemble','t_sl_disk']].sum(axis=1)"
   ]
  },
  {
   "cell_type": "code",
   "execution_count": 61,
   "metadata": {
    "collapsed": false
   },
   "outputs": [],
   "source": [
    "# rules in different plots\n",
    "\n",
    "ensemble_time = dict()\n",
    "fig_dict = ensemble_time\n",
    "title = 'Total execution with SL-MST'\n",
    "\n",
    "#par1_name : diff plots\n",
    "#par2_name : different curves in plot\n",
    "\n",
    "#par1_name, par2_name = 'type_mat', 'rule'\n",
    "par1_name, par2_name = 'rule', 'type_mat'\n",
    "\n",
    "par_list = res[par1_name].unique()\n",
    "#fig2.suptitle('Coassoc build time: comparisson between rules for each matrix type', size=16)\n",
    "\n",
    "\n",
    "\n",
    "fig = plt.figure(figsize=(fig_width, fig_height))\n",
    "ax = fig.add_subplot(111)\n",
    "fig_dict[0] = ax\n",
    "for par1, grp in total.groupby(by=par1_name):\n",
    "    grp= grp.dropna()\n",
    "    ax.plot(grp.n_samples, grp.loc[:,'total_mem'], label= '{}'.format(par1))\n",
    "    #build = grp.query('type_mat == \"sparse condensed linear\"').loc[:,['n_samples','t_build']]\n",
    "    #ax.plot(build.loc[:,'n_samples'], build.loc[:,'t_build'], label= 'build time {}'.format(par1))\n",
    "\n",
    "for par, ax in fig_dict.iteritems():\n",
    "    ax.set_xlabel(\"# samples\",fontsize=16)\n",
    "    ax.set_ylabel(\"Time [s]\", fontsize=16)\n",
    "    ax.set_title('{}, {}{}'.format(title,'',''), fontsize=20)\n",
    "    ax.legend(loc=\"lower right\", prop={'size':16})#loc=(1.1, 0.0))\n",
    "    ax.grid(True, which=\"both\")\n",
    "    ax.set_xscale(\"log\")\n",
    "    ax.set_yscale(\"log\")\n",
    "    #fontsize=16\n",
    "    #prop={'size':16\n",
    "    for tick in ax.xaxis.get_major_ticks():\n",
    "        tick.label.set_fontsize(14)\n",
    "    for tick in ax.yaxis.get_major_ticks():\n",
    "        tick.label.set_fontsize(14) \n",
    "    \n",
    "for fig_format in ('eps','png','pdf'):\n",
    "    #fig.savefig('/home/chiroptera/QCThesis/results/EAC/total_time_sl-mst.{}'.format(fig_format), bbox_inches='tight')\n",
    "    img_path = 'C:\\\\Users\\\\Isabella\\\\Downloads\\\\working_data\\\\working_data\\\\results\\\\eac\\\\'\n",
    "    fig.savefig('{}total_time_sl-mst.{}'.format(img_path,fig_format), bbox_inches='tight')"
   ]
  },
  {
   "cell_type": "code",
   "execution_count": 62,
   "metadata": {
    "collapsed": false
   },
   "outputs": [],
   "source": [
    "# rules in different plots\n",
    "\n",
    "ensemble_time = dict()\n",
    "fig_dict = ensemble_time\n",
    "title = 'Total execution with SL-MST-Disk'\n",
    "\n",
    "#par1_name : diff plots\n",
    "#par2_name : different curves in plot\n",
    "\n",
    "#par1_name, par2_name = 'type_mat', 'rule'\n",
    "par1_name, par2_name = 'rule', 'type_mat'\n",
    "\n",
    "par_list = res[par1_name].unique()\n",
    "#fig2.suptitle('Coassoc build time: comparisson between rules for each matrix type', size=16)\n",
    "\n",
    "\n",
    "\n",
    "fig = plt.figure(figsize=(fig_width, fig_height))\n",
    "ax = fig.add_subplot(111)\n",
    "fig_dict[par1] = ax\n",
    "for par1, grp in total.groupby(by=par1_name):\n",
    "\n",
    "    ax.plot(grp.n_samples, grp.loc[:,'total_disk'], label= '{}'.format(par1))\n",
    "    #build = grp.query('type_mat == \"sparse condensed linear\"').loc[:,['n_samples','t_build']]\n",
    "    #ax.plot(build.loc[:,'n_samples'], build.loc[:,'t_build'], label= 'build time {}'.format(par1))\n",
    "\n",
    "for par, ax in fig_dict.iteritems():\n",
    "    ax.set_xlabel(\"# samples\",fontsize=16)\n",
    "    ax.set_ylabel(\"Time [s]\", fontsize=16)\n",
    "    ax.set_title('{}, {}{}'.format(title,'',''), fontsize=20)\n",
    "    ax.legend(loc=\"lower right\", prop={'size':16})#loc=(1.1, 0.0))\n",
    "    ax.grid(True, which=\"both\")\n",
    "    ax.set_xscale(\"log\")\n",
    "    ax.set_yscale(\"log\")\n",
    "    #fontsize=16\n",
    "    #prop={'size':16\n",
    "    for tick in ax.xaxis.get_major_ticks():\n",
    "        tick.label.set_fontsize(14)\n",
    "    for tick in ax.yaxis.get_major_ticks():\n",
    "        tick.label.set_fontsize(14)     \n",
    "    \n",
    "for fig_format in ('eps','png','pdf'):\n",
    "    #fig.savefig('/home/chiroptera/QCThesis/results/EAC/total_time_sl-mst-disk.{}'.format(fig_format), bbox_inches='tight')\n",
    "    img_path = 'C:\\\\Users\\\\Isabella\\\\Downloads\\\\working_data\\\\working_data\\\\results\\\\eac\\\\'\n",
    "    fig.savefig('{}total_time_sl-mst-disk.{}'.format(img_path,fig_format), bbox_inches='tight')    "
   ]
  },
  {
   "cell_type": "markdown",
   "metadata": {},
   "source": [
    "# finding out if there are sparse coassocs with less assocs than full coassocs"
   ]
  },
  {
   "cell_type": "code",
   "execution_count": null,
   "metadata": {
    "collapsed": false
   },
   "outputs": [],
   "source": [
    "n_array = res.n_samples.unique()\n",
    "x_kmin = map(rule_x, n_array)"
   ]
  },
  {
   "cell_type": "code",
   "execution_count": null,
   "metadata": {
    "collapsed": false
   },
   "outputs": [],
   "source": [
    "500 **2"
   ]
  },
  {
   "cell_type": "code",
   "execution_count": null,
   "metadata": {
    "collapsed": false
   },
   "outputs": [],
   "source": [
    "500 * 499 / 2"
   ]
  },
  {
   "cell_type": "code",
   "execution_count": null,
   "metadata": {
    "collapsed": false
   },
   "outputs": [],
   "source": [
    "res[res.n_samples == 500][['n_samples', 'type_mat', 'n_assocs', 'round']]"
   ]
  }
 ],
 "metadata": {
  "kernelspec": {
   "display_name": "Python 2",
   "language": "python",
   "name": "python2"
  },
  "language_info": {
   "codemirror_mode": {
    "name": "ipython",
    "version": 2
   },
   "file_extension": ".py",
   "mimetype": "text/x-python",
   "name": "python",
   "nbconvert_exporter": "python",
   "pygments_lexer": "ipython2",
   "version": "2.7.10"
  }
 },
 "nbformat": 4,
 "nbformat_minor": 0
}
