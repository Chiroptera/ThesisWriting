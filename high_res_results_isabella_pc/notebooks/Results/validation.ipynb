{
 "cells": [
  {
   "cell_type": "code",
   "execution_count": 1,
   "metadata": {
    "collapsed": true
   },
   "outputs": [],
   "source": [
    "import numpy as np\n",
    "import seaborn as sb\n",
    "import pandas as pd\n",
    "import MyML.cluster.K_Means3 as myKM\n",
    "import MyML.cluster.eac as eac\n",
    "import MyML.helper.partition as mpart\n",
    "import MyML.metrics.accuracy as acc\n",
    "import MyML.cluster.linkage as linkage"
   ]
  },
  {
   "cell_type": "markdown",
   "metadata": {},
   "source": [
    "# Prepare datasets"
   ]
  },
  {
   "cell_type": "code",
   "execution_count": 2,
   "metadata": {
    "collapsed": false
   },
   "outputs": [],
   "source": [
    "import sklearn.datasets\n",
    "from sklearn.preprocessing import normalize"
   ]
  },
  {
   "cell_type": "code",
   "execution_count": 3,
   "metadata": {
    "collapsed": true
   },
   "outputs": [],
   "source": [
    "datasets_path = '/home/chiroptera/QCThesis/datasets/'"
   ]
  },
  {
   "cell_type": "code",
   "execution_count": 4,
   "metadata": {
    "collapsed": false
   },
   "outputs": [],
   "source": [
    "datasets = dict()"
   ]
  },
  {
   "cell_type": "markdown",
   "metadata": {
    "collapsed": false
   },
   "source": [
    "## iris"
   ]
  },
  {
   "cell_type": "code",
   "execution_count": 5,
   "metadata": {
    "collapsed": true
   },
   "outputs": [],
   "source": [
    "iris = sklearn.datasets.load_iris()\n",
    "data = iris.data.astype(np.float32)\n",
    "gt = iris.target\n",
    "\n",
    "datasets['iris'] = {'data':data, 'gt':gt}"
   ]
  },
  {
   "cell_type": "markdown",
   "metadata": {},
   "source": [
    "## wine"
   ]
  },
  {
   "cell_type": "code",
   "execution_count": 6,
   "metadata": {
    "collapsed": true
   },
   "outputs": [],
   "source": [
    "wine = sklearn.datasets.fetch_mldata('uci-20070111 wine', data_home='~/')\n",
    "data = wine.data.astype(np.float32)\n",
    "data_norm = normalize(wine.data, axis=0).astype(np.float32)\n",
    "gt = wine.target.astype(np.int32)\n",
    "\n",
    "datasets['wine'] = {'data':data, 'gt':gt}\n",
    "datasets['wine_norm'] = {'data':data_norm, 'gt':gt}"
   ]
  },
  {
   "cell_type": "markdown",
   "metadata": {},
   "source": [
    "## ionosphere"
   ]
  },
  {
   "cell_type": "code",
   "execution_count": 7,
   "metadata": {
    "collapsed": false
   },
   "outputs": [
    {
     "name": "stdout",
     "output_type": "stream",
     "text": [
      "(351, 35)\n"
     ]
    }
   ],
   "source": [
    "dataname = datasets_path + \"ionosphere/ionosphere.data\"\n",
    "\n",
    "dataset = pd.read_csv(dataname, header=None, sep=\",\")\n",
    "print dataset.shape\n",
    "dataset.head()\n",
    "\n",
    "data = dataset.values[:,:-1].astype(np.float32)\n",
    "gt = dataset.values[:,-1]\n",
    "gt[gt=='g'] = 1\n",
    "gt[gt=='b'] = 0\n",
    "gt = gt.astype(np.int32)\n",
    "\n",
    "datasets['ionosphere'] = {'data':data, 'gt':gt}"
   ]
  },
  {
   "cell_type": "markdown",
   "metadata": {},
   "source": [
    "## optdigits"
   ]
  },
  {
   "cell_type": "code",
   "execution_count": 8,
   "metadata": {
    "collapsed": true
   },
   "outputs": [],
   "source": [
    "optdigits = sklearn.datasets.load_digits(n_class=10)\n",
    "data = np.float32(optdigits.data)\n",
    "gt = np.int32(optdigits.target)\n",
    "\n",
    "datasets['optdigits'] = {'data':data, 'gt':gt}"
   ]
  },
  {
   "cell_type": "code",
   "execution_count": 9,
   "metadata": {
    "collapsed": false
   },
   "outputs": [],
   "source": [
    "dataname = datasets_path + 'optdigits/optdigits.tra'\n",
    "\n",
    "dataset = pd.read_csv(dataname, header=None, sep=\",\")\n",
    "data = dataset.get_values()[:,:-1]\n",
    "data = data.astype(np.float32)\n",
    "gt = dataset.get_values()[:,-1]\n",
    "gt = gt.astype(np.int32)\n",
    "\n",
    "datasets['optdigits'] = {'data':data, 'gt':gt}"
   ]
  },
  {
   "cell_type": "markdown",
   "metadata": {},
   "source": [
    "## mfeat-fou"
   ]
  },
  {
   "cell_type": "code",
   "execution_count": 10,
   "metadata": {
    "collapsed": false
   },
   "outputs": [
    {
     "name": "stderr",
     "output_type": "stream",
     "text": [
      "/home/chiroptera/anaconda/lib/python2.7/site-packages/pandas/io/parsers.py:648: ParserWarning: Falling back to the 'python' engine because the 'c' engine does not support regex separators; you can avoid this warning by specifying engine='python'.\n",
      "  ParserWarning)\n"
     ]
    }
   ],
   "source": [
    "dataname = datasets_path + \"mfeat/mfeat-fou.asc\"\n",
    "\n",
    "dataset = pd.read_csv(dataname, header=None, sep=\"  \")\n",
    "data = dataset.get_values().astype(np.float32)\n",
    "gt = np.empty(dataset.shape[0], dtype=np.int32)\n",
    "for i in range(10):\n",
    "    gt[i*200 : i*200+200]=i\n",
    "    \n",
    "datasets['mfeat_fou'] = {'data':data, 'gt':gt}"
   ]
  },
  {
   "cell_type": "markdown",
   "metadata": {},
   "source": [
    "## breast-cancer"
   ]
  },
  {
   "cell_type": "code",
   "execution_count": 11,
   "metadata": {
    "collapsed": true
   },
   "outputs": [],
   "source": [
    "dataname = datasets_path + \"breast-cancer/breast-cancer\"\n",
    "\n",
    "data, gt = sklearn.datasets.load_svmlight_file(dataname)\n",
    "data = data.todense().astype(np.float32)\n",
    "gt = gt.astype(np.int32)\n",
    "\n",
    "datasets['breast_cancer'] = {'data':data, 'gt':gt}"
   ]
  },
  {
   "cell_type": "markdown",
   "metadata": {},
   "source": [
    "## pima"
   ]
  },
  {
   "cell_type": "code",
   "execution_count": 12,
   "metadata": {
    "collapsed": false
   },
   "outputs": [],
   "source": [
    "dataname = datasets_path + \"pima/pima-indians-diabetes.data\"\n",
    "\n",
    "pima = pd.read_csv(dataname, header=None, sep=\",\")\n",
    "data = pima.get_values()[:,:-1].astype(np.float32)\n",
    "data_norm = normalize(data, axis=0).astype(np.float32)\n",
    "gt = pima.get_values()[:,-1].astype(np.int32)\n",
    "    \n",
    "datasets['pima'] = {'data':data, 'gt':gt}\n",
    "datasets['pima_norm'] = {'data':data_norm, 'gt':gt}"
   ]
  },
  {
   "cell_type": "markdown",
   "metadata": {},
   "source": [
    "## isolet"
   ]
  },
  {
   "cell_type": "code",
   "execution_count": 13,
   "metadata": {
    "collapsed": false
   },
   "outputs": [
    {
     "data": {
      "text/plain": [
       "(3823, 64)"
      ]
     },
     "execution_count": 13,
     "metadata": {},
     "output_type": "execute_result"
    }
   ],
   "source": [
    "datasets['optdigits']['data'].shape"
   ]
  },
  {
   "cell_type": "code",
   "execution_count": 14,
   "metadata": {
    "collapsed": false
   },
   "outputs": [],
   "source": [
    "dataname = datasets_path + \"isolet/isolet1-5.data\"\n",
    "\n",
    "dataset = pd.read_csv(dataname, header=None, sep=\",\")\n",
    "data = dataset.get_values().astype(np.float32)[:,:-1]\n",
    "gt = dataset.get_values()[:,-1].astype(np.int32)\n",
    "\n",
    "datasets['isolet'] = {'data':data, 'gt':gt}"
   ]
  },
  {
   "cell_type": "markdown",
   "metadata": {},
   "source": [
    "## ECG IT"
   ]
  },
  {
   "cell_type": "code",
   "execution_count": 15,
   "metadata": {
    "collapsed": false
   },
   "outputs": [],
   "source": [
    "dataname = datasets_path + \"ecg_it/ecg_it.data\"\n",
    "dataset = pd.read_csv(dataname, header=None, sep=\",\")\n",
    "data = dataset.values[1:,1:-1].astype(np.float32)\n",
    "gt = dataset.values[1:,-1].astype(np.int32)\n",
    "\n",
    "#remove unlabeled\n",
    "labeled_idx = gt!=2\n",
    "data = data[labeled_idx]\n",
    "gt = gt[labeled_idx]"
   ]
  },
  {
   "cell_type": "code",
   "execution_count": 16,
   "metadata": {
    "collapsed": false
   },
   "outputs": [],
   "source": [
    "gt0 = gt==0\n",
    "gt1 = gt==1"
   ]
  },
  {
   "cell_type": "code",
   "execution_count": 17,
   "metadata": {
    "collapsed": false
   },
   "outputs": [],
   "source": [
    "data = np.concatenate((data[gt0],data[gt1][:600]))\n",
    "gt = np.concatenate((gt[gt0],gt[gt1][:600]))"
   ]
  },
  {
   "cell_type": "markdown",
   "metadata": {},
   "source": [
    "## MNIST"
   ]
  },
  {
   "cell_type": "code",
   "execution_count": 18,
   "metadata": {
    "collapsed": false
   },
   "outputs": [],
   "source": [
    "import sklearn.datasets\n",
    "mnist = sklearn.datasets.fetch_mldata('MNIST (original)', data_home='~/')\n",
    "data = mnist.data.astype(np.float32)\n",
    "gt = mnist.target.astype(np.int32)\n",
    "\n",
    "datasets['mnist'] = {'data':data, 'gt':gt}"
   ]
  },
  {
   "cell_type": "code",
   "execution_count": 19,
   "metadata": {
    "collapsed": false
   },
   "outputs": [
    {
     "data": {
      "text/plain": [
       "['optdigits',\n",
       " 'iris',\n",
       " 'breast_cancer',\n",
       " 'isolet',\n",
       " 'pima_norm',\n",
       " 'mfeat_fou',\n",
       " 'wine_norm',\n",
       " 'pima',\n",
       " 'ionosphere',\n",
       " 'mnist',\n",
       " 'wine']"
      ]
     },
     "execution_count": 19,
     "metadata": {},
     "output_type": "execute_result"
    }
   ],
   "source": [
    "datasets.keys()"
   ]
  },
  {
   "cell_type": "code",
   "execution_count": 20,
   "metadata": {
    "collapsed": false
   },
   "outputs": [],
   "source": [
    "from scipy.io import savemat"
   ]
  },
  {
   "cell_type": "code",
   "execution_count": 21,
   "metadata": {
    "collapsed": false
   },
   "outputs": [],
   "source": [
    "savemat(datasets_path + 'dataset.mat', datasets)"
   ]
  },
  {
   "cell_type": "markdown",
   "metadata": {},
   "source": [
    "# Process"
   ]
  },
  {
   "cell_type": "code",
   "execution_count": 22,
   "metadata": {
    "collapsed": false
   },
   "outputs": [],
   "source": [
    "import MyML.cluster.K_Means3 as myKM\n",
    "import MyML.EAC.eac_new as eac\n",
    "import MyML.helper.partition as part\n",
    "import MyML.EAC.rules as rules\n",
    "import MyML.metrics.accuracy as acc\n",
    "import MyML.utils.profiling as prof"
   ]
  },
  {
   "cell_type": "code",
   "execution_count": 23,
   "metadata": {
    "collapsed": false
   },
   "outputs": [
    {
     "name": "stdout",
     "output_type": "stream",
     "text": [
      "(3823, 64) \toptdigits\n",
      "(150, 4) \tiris\n",
      "(683, 10) \tbreast_cancer\n",
      "(7797, 617) \tisolet\n",
      "(768, 8) \tpima_norm\n",
      "(2000, 76) \tmfeat_fou\n",
      "(178, 4) \twine_norm\n",
      "(768, 8) \tpima\n",
      "(351, 34) \tionosphere\n",
      "(70000, 784) \tmnist\n",
      "(178, 4) \twine\n"
     ]
    }
   ],
   "source": [
    "for name, ds in datasets.iteritems():\n",
    "    print ds['data'].shape, '\\t', name"
   ]
  },
  {
   "cell_type": "code",
   "execution_count": 24,
   "metadata": {
    "collapsed": true
   },
   "outputs": [],
   "source": [
    "del datasets['mnist']"
   ]
  },
  {
   "cell_type": "code",
   "execution_count": 25,
   "metadata": {
    "collapsed": false
   },
   "outputs": [],
   "source": [
    "validation_my_eac = pd.DataFrame(index=datasets.keys(), columns=['accuracy', 'n_clusts','lifetime accuracy', 'lifetime n_clusts', 'ensemble time', 'build time', 'clustering time'])"
   ]
  },
  {
   "cell_type": "code",
   "execution_count": 42,
   "metadata": {
    "collapsed": false
   },
   "outputs": [
    {
     "name": "stdout",
     "output_type": "stream",
     "text": [
      "optdigits: 0.200627779231 - 0.199581480513\n",
      "iris: 0.973333333333 - 0.666666666667\n",
      "breast_cancer: 0.647144948755 - 0.600292825769\n",
      "isolet: 0.0405284083622 - 0.0387328459664\n",
      "pima_norm: 0.649739583333 - 0.649739583333\n",
      "mfeat_fou: 0.1025 - 0.101\n",
      "wine_norm: 0.52808988764 - 0.52808988764\n",
      "pima: 0.645833333333 - 0.494791666667\n",
      "ionosphere: 0.643874643875 - 0.643874643875\n",
      "wine: 0.410112359551 - 0.404494382022\n"
     ]
    }
   ],
   "source": [
    "t = prof.Timer()\n",
    "for name, ds in datasets.iteritems():\n",
    "\n",
    "#name = 'iris'\n",
    "#ds = datasets[name]\n",
    "    print '{}:'.format(name),\n",
    "    data = ds['data']\n",
    "    gt = ds['gt']\n",
    "\n",
    "    # generate ensemble with K-Means\n",
    "    kmGen = myKM.K_Means()\n",
    "    kmGen._MAX_THREADS_BLOCK = 256\n",
    "    kmGen._label_mode = 'numba'\n",
    "    \n",
    "    t.reset()\n",
    "    t.tic()\n",
    "    ensemble = part.generateEnsemble(data, kmGen, n_clusters=rules.rule1(data.shape[0]), npartitions=100, iters=2)\n",
    "    ensemble_time = t.tac()\n",
    "    \n",
    "    # eac clustering\n",
    "    eacEst = eac.EAC(data.shape[0], sparse=False, condensed=True)\n",
    "    \n",
    "    t.reset()\n",
    "    t.tic()\n",
    "    eacEst.buildMatrix(ensemble)\n",
    "    build_time = t.tac()\n",
    "    \n",
    "    t.reset()\n",
    "    t.tic()    \n",
    "    eacEst.finalClustering(np.unique(gt).size)\n",
    "    clustering_time = t.tac()\n",
    "    \n",
    "    # eac clustering with lifetime\n",
    "    eacEst2 = eac.EAC(data.shape[0], sparse=False, condensed=True)\n",
    "    eacEst2.buildMatrix(ensemble)\n",
    "    t.tic()\n",
    "    eacEst2.finalClustering()\n",
    "    t.tac()\n",
    "\n",
    "    # score result\n",
    "    mukresAcc = acc.HungarianIndex(data.shape[0])\n",
    "    accuracy =  mukresAcc.score(gt, eacEst.labels)\n",
    "    accuracy_lt = mukresAcc.score(gt, eacEst2.labels)\n",
    "\n",
    "    print '{} - {}'.format(accuracy, accuracy_lt)\n",
    "    validation_my_eac.loc[name] = (accuracy, np.unique(eacEst.labels).size, accuracy_lt, np.unique(eacEst2.labels).size, ensemble_time, build_time, clustering_time)"
   ]
  },
  {
   "cell_type": "markdown",
   "metadata": {},
   "source": [
    "# build and cluster from ensemble built by Matlab"
   ]
  },
  {
   "cell_type": "code",
   "execution_count": 43,
   "metadata": {
    "collapsed": true
   },
   "outputs": [],
   "source": [
    "def load_matlab_ensemble(directory, dataset):\n",
    "    import os.path\n",
    "    import scipy.io\n",
    "    import glob\n",
    "\n",
    "    ensemble_directory = os.path.abspath(directory) + os.path.sep\n",
    "    ensemble = list()\n",
    "    for p_file in glob.glob(ensemble_directory + 'kmeans-{}-*.mat'.format(dataset)):\n",
    "\n",
    "        ml_part = scipy.io.loadmat(p_file)\n",
    "        part = ml_part['clusters_m']\n",
    "        py_part = list()\n",
    "        for c in part:\n",
    "            cluster = c[c != 0] - 1\n",
    "            py_part.append(cluster.astype(np.int32))\n",
    "\n",
    "        ensemble.append(py_part)\n",
    "    return ensemble"
   ]
  },
  {
   "cell_type": "code",
   "execution_count": 33,
   "metadata": {
    "collapsed": true
   },
   "outputs": [],
   "source": [
    "validation_ml_ensemble = pd.DataFrame(index=datasets.keys(), columns=['accuracy', 'n_clusts','lifetime accuracy', 'lifetime n_clusts', 'build time', 'clustering time'])"
   ]
  },
  {
   "cell_type": "code",
   "execution_count": 44,
   "metadata": {
    "collapsed": false
   },
   "outputs": [
    {
     "name": "stdout",
     "output_type": "stream",
     "text": [
      "optdigits: 0.200366204551 - 0.199581480513\n",
      "iris: 0.746666666667 - 0.666666666667\n",
      "breast_cancer: 0.647144948755 - 0.600292825769\n",
      "isolet: 0.0977298961139 - 0.0386045915096\n",
      "pima_norm: 0.649739583333 - 0.649739583333\n",
      "mfeat_fou: 0.203 - 0.102\n",
      "wine_norm: 0.52808988764 - 0.522471910112\n",
      "pima: 0.645833333333 - 0.645833333333\n",
      "ionosphere: 0.652421652422 - 0.547008547009\n",
      "wine: 0.404494382022 - 0.404494382022\n"
     ]
    }
   ],
   "source": [
    "t = prof.Timer()\n",
    "ensemble_directory = '/home/chiroptera/workspace/QCThesis/EAC_toolbox/'\n",
    "\n",
    "for name, ds in datasets.iteritems():\n",
    "\n",
    "#name = 'iris'\n",
    "#ds = datasets[name]\n",
    "    data = ds['data']\n",
    "    gt = ds['gt']\n",
    "\n",
    "    ensemble = load_matlab_ensemble(ensemble_directory, name)\n",
    "\n",
    "    # eac clustering\n",
    "    eacEst = eac.EAC(data.shape[0], sparse=False, condensed=True)\n",
    "    \n",
    "    t.reset()\n",
    "    t.tic()\n",
    "    eacEst.buildMatrix(ensemble)\n",
    "    build_time = t.tac()\n",
    "    \n",
    "    t.reset()\n",
    "    t.tic()\n",
    "    eacEst.finalClustering(np.unique(gt).size)\n",
    "    clustering_time = t.tac()\n",
    "    \n",
    "    # eac clustering with lifetime\n",
    "    eacEst2 = eac.EAC(data.shape[0], sparse=False, condensed=True)\n",
    "    eacEst2.buildMatrix(ensemble)\n",
    "    t.tic() # accumulate from with clustering\n",
    "    eacEst2.finalClustering()\n",
    "    t.tac()\n",
    "\n",
    "    # score result\n",
    "    mukresAcc = acc.HungarianIndex(data.shape[0])\n",
    "    accuracy =  mukresAcc.score(gt, eacEst.labels)\n",
    "    accuracy_lt = mukresAcc.score(gt, eacEst2.labels)\n",
    "    print '{}: {} - {}'.format(name, accuracy, accuracy_lt)\n",
    "\n",
    "    validation_ml_ensemble.loc[name] = (accuracy, np.unique(eacEst.labels).size, accuracy_lt, np.unique(eacEst2.labels).size, build_time, clustering_time)"
   ]
  },
  {
   "cell_type": "markdown",
   "metadata": {},
   "source": [
    "# load matlab results"
   ]
  },
  {
   "cell_type": "code",
   "execution_count": 35,
   "metadata": {
    "collapsed": false
   },
   "outputs": [],
   "source": [
    "ml_validation = \"\"\"dataset\taccuracy lifetime\tn_c lifetime\taccuracy fixed\tn_c fixed\tensemble time\tbuild time\tclustering time\n",
    "iris\t0.66667\t2\t0.74667\t3\t0.71809\t0.037135\t0.084747\n",
    "wine\t0.46629\t4\t0.42135\t3\t0.89522\t0.038203\t0.088121\n",
    "wine_norm\t0.52247\t2\t0.52809\t3\t0.88707\t0.040153\t0.088825\n",
    "breast_cancer\t0.60029\t3\t0.64714\t2\t5.2023\t0.082844\t0.26207\n",
    "ionosphere\t0.54701\t9\t0.65242\t2\t2.5557\t0.066384\t0.15149\n",
    "pima\t0.64583\t2\t0.64583\t2\t6.0796\t1.8383\t0.28582\n",
    "pima_norm\t0.64974\t2\t0.64974\t2\t6.1221\t1.757\t0.29261\n",
    "mfeat_fou\t0.102\t6\t0.2975\t10\t36.4247\t1.3105\t2.4198\n",
    "optdigits\t0.19958\t2\t0.20037\t10\t85.8691\t2.0843\t12.2125\n",
    "isolet\t0.038605\t2\t0.09773\t26\t1064.6\t4.1708\t161.2619\n",
    "\"\"\"\n",
    "\n",
    "import StringIO\n",
    "ml_buffer=StringIO.StringIO(buf=ml_validation)\n",
    "ml_df = pd.read_table(ml_buffer)\n",
    "ml_df = ml_df.set_index('dataset')\n",
    "ml_df.rename(columns={'accuracy fixed':'accuracy',\n",
    "                      'accuracy lifetime':'lifetime accuracy',\n",
    "                      'n_c fixed':'n_clusts',\n",
    "                      'n_c lifetime':'lifetime n_clusts'},inplace=True)"
   ]
  },
  {
   "cell_type": "markdown",
   "metadata": {},
   "source": [
    "# analyze results"
   ]
  },
  {
   "cell_type": "code",
   "execution_count": 122,
   "metadata": {
    "collapsed": false
   },
   "outputs": [
    {
     "name": "stdout",
     "output_type": "stream",
     "text": [
      "error of accuracies\n"
     ]
    },
    {
     "data": {
      "text/html": [
       "<div>\n",
       "<table border=\"1\" class=\"dataframe\">\n",
       "  <thead>\n",
       "    <tr style=\"text-align: right;\">\n",
       "      <th></th>\n",
       "      <th>accuracy</th>\n",
       "      <th>lifetime accuracy</th>\n",
       "    </tr>\n",
       "    <tr>\n",
       "      <th>dataset</th>\n",
       "      <th></th>\n",
       "      <th></th>\n",
       "    </tr>\n",
       "  </thead>\n",
       "  <tbody>\n",
       "    <tr>\n",
       "      <th>breast_cancer</th>\n",
       "      <td>4.948755e-06</td>\n",
       "      <td>2.825769e-06</td>\n",
       "    </tr>\n",
       "    <tr>\n",
       "      <th>ionosphere</th>\n",
       "      <td>1.652422e-06</td>\n",
       "      <td>1.452991e-06</td>\n",
       "    </tr>\n",
       "    <tr>\n",
       "      <th>iris</th>\n",
       "      <td>3.333333e-06</td>\n",
       "      <td>3.333333e-06</td>\n",
       "    </tr>\n",
       "    <tr>\n",
       "      <th>isolet</th>\n",
       "      <td>1.038861e-07</td>\n",
       "      <td>4.084904e-07</td>\n",
       "    </tr>\n",
       "    <tr>\n",
       "      <th>mfeat_fou</th>\n",
       "      <td>0.0945</td>\n",
       "      <td>0</td>\n",
       "    </tr>\n",
       "    <tr>\n",
       "      <th>optdigits</th>\n",
       "      <td>3.795449e-06</td>\n",
       "      <td>1.480513e-06</td>\n",
       "    </tr>\n",
       "    <tr>\n",
       "      <th>pima</th>\n",
       "      <td>3.333333e-06</td>\n",
       "      <td>3.333333e-06</td>\n",
       "    </tr>\n",
       "    <tr>\n",
       "      <th>pima_norm</th>\n",
       "      <td>4.166667e-07</td>\n",
       "      <td>4.166667e-07</td>\n",
       "    </tr>\n",
       "    <tr>\n",
       "      <th>wine</th>\n",
       "      <td>0.01685562</td>\n",
       "      <td>0.06179562</td>\n",
       "    </tr>\n",
       "    <tr>\n",
       "      <th>wine_norm</th>\n",
       "      <td>1.123596e-07</td>\n",
       "      <td>1.910112e-06</td>\n",
       "    </tr>\n",
       "  </tbody>\n",
       "</table>\n",
       "</div>"
      ],
      "text/plain": [
       "                   accuracy lifetime accuracy\n",
       "dataset                                      \n",
       "breast_cancer  4.948755e-06      2.825769e-06\n",
       "ionosphere     1.652422e-06      1.452991e-06\n",
       "iris           3.333333e-06      3.333333e-06\n",
       "isolet         1.038861e-07      4.084904e-07\n",
       "mfeat_fou            0.0945                 0\n",
       "optdigits      3.795449e-06      1.480513e-06\n",
       "pima           3.333333e-06      3.333333e-06\n",
       "pima_norm      4.166667e-07      4.166667e-07\n",
       "wine             0.01685562        0.06179562\n",
       "wine_norm      1.123596e-07      1.910112e-06"
      ]
     },
     "execution_count": 122,
     "metadata": {},
     "output_type": "execute_result"
    }
   ],
   "source": [
    "print \"error of accuracies\"\n",
    "accuracy_error = ml_df.sort()[['accuracy','lifetime accuracy']] - validation_ml_ensemble.sort()[['accuracy','lifetime accuracy']]\n",
    "accuracy_error.apply(np.abs)"
   ]
  },
  {
   "cell_type": "code",
   "execution_count": 123,
   "metadata": {
    "collapsed": false
   },
   "outputs": [
    {
     "name": "stdout",
     "output_type": "stream",
     "text": [
      "\\begin{tabular}{lll}\n",
      "\\toprule\n",
      "{} &      accuracy & lifetime accuracy \\\\\n",
      "\\midrule\n",
      "breast\\_cancer &  4.948755e-06 &      2.825769e-06 \\\\\n",
      "ionosphere    &  1.652422e-06 &      1.452991e-06 \\\\\n",
      "iris          &  3.333333e-06 &      3.333333e-06 \\\\\n",
      "isolet        &  1.038861e-07 &      4.084904e-07 \\\\\n",
      "mfeat\\_fou     &        0.0945 &                 0 \\\\\n",
      "optdigits     &  3.795449e-06 &      1.480513e-06 \\\\\n",
      "pima          &  3.333333e-06 &      3.333333e-06 \\\\\n",
      "pima\\_norm     &  4.166667e-07 &      4.166667e-07 \\\\\n",
      "wine          &    0.01685562 &        0.06179562 \\\\\n",
      "wine\\_norm     &  1.123596e-07 &      1.910112e-06 \\\\\n",
      "\\bottomrule\n",
      "\\end{tabular}\n",
      "\n"
     ]
    }
   ],
   "source": [
    "print accuracy_error.apply(np.abs).to_latex(index_names=False)"
   ]
  },
  {
   "cell_type": "code",
   "execution_count": 47,
   "metadata": {
    "collapsed": false,
    "scrolled": true
   },
   "outputs": [
    {
     "name": "stdout",
     "output_type": "stream",
     "text": [
      "Number of clusters equal:\n"
     ]
    },
    {
     "data": {
      "text/html": [
       "<div>\n",
       "<table border=\"1\" class=\"dataframe\">\n",
       "  <thead>\n",
       "    <tr style=\"text-align: right;\">\n",
       "      <th></th>\n",
       "      <th>n_clusts</th>\n",
       "      <th>lifetime n_clusts</th>\n",
       "    </tr>\n",
       "    <tr>\n",
       "      <th>dataset</th>\n",
       "      <th></th>\n",
       "      <th></th>\n",
       "    </tr>\n",
       "  </thead>\n",
       "  <tbody>\n",
       "    <tr>\n",
       "      <th>breast_cancer</th>\n",
       "      <td>True</td>\n",
       "      <td>True</td>\n",
       "    </tr>\n",
       "    <tr>\n",
       "      <th>ionosphere</th>\n",
       "      <td>True</td>\n",
       "      <td>True</td>\n",
       "    </tr>\n",
       "    <tr>\n",
       "      <th>iris</th>\n",
       "      <td>True</td>\n",
       "      <td>True</td>\n",
       "    </tr>\n",
       "    <tr>\n",
       "      <th>isolet</th>\n",
       "      <td>True</td>\n",
       "      <td>True</td>\n",
       "    </tr>\n",
       "    <tr>\n",
       "      <th>mfeat_fou</th>\n",
       "      <td>True</td>\n",
       "      <td>True</td>\n",
       "    </tr>\n",
       "    <tr>\n",
       "      <th>optdigits</th>\n",
       "      <td>True</td>\n",
       "      <td>True</td>\n",
       "    </tr>\n",
       "    <tr>\n",
       "      <th>pima</th>\n",
       "      <td>True</td>\n",
       "      <td>True</td>\n",
       "    </tr>\n",
       "    <tr>\n",
       "      <th>pima_norm</th>\n",
       "      <td>True</td>\n",
       "      <td>True</td>\n",
       "    </tr>\n",
       "    <tr>\n",
       "      <th>wine</th>\n",
       "      <td>True</td>\n",
       "      <td>False</td>\n",
       "    </tr>\n",
       "    <tr>\n",
       "      <th>wine_norm</th>\n",
       "      <td>True</td>\n",
       "      <td>True</td>\n",
       "    </tr>\n",
       "  </tbody>\n",
       "</table>\n",
       "</div>"
      ],
      "text/plain": [
       "              n_clusts lifetime n_clusts\n",
       "dataset                                 \n",
       "breast_cancer     True              True\n",
       "ionosphere        True              True\n",
       "iris              True              True\n",
       "isolet            True              True\n",
       "mfeat_fou         True              True\n",
       "optdigits         True              True\n",
       "pima              True              True\n",
       "pima_norm         True              True\n",
       "wine              True             False\n",
       "wine_norm         True              True"
      ]
     },
     "execution_count": 47,
     "metadata": {},
     "output_type": "execute_result"
    }
   ],
   "source": [
    "print \"Number of clusters equal:\"\n",
    "ml_df.sort()[['n_clusts','lifetime n_clusts']] == validation_ml_ensemble.sort()[['n_clusts','lifetime n_clusts']]"
   ]
  },
  {
   "cell_type": "code",
   "execution_count": 53,
   "metadata": {
    "collapsed": false
   },
   "outputs": [
    {
     "name": "stdout",
     "output_type": "stream",
     "text": [
      "speed-up from same ensemble:\n"
     ]
    },
    {
     "data": {
      "text/html": [
       "<div>\n",
       "<table border=\"1\" class=\"dataframe\">\n",
       "  <thead>\n",
       "    <tr style=\"text-align: right;\">\n",
       "      <th></th>\n",
       "      <th>build time</th>\n",
       "      <th>clustering time</th>\n",
       "    </tr>\n",
       "    <tr>\n",
       "      <th>dataset</th>\n",
       "      <th></th>\n",
       "      <th></th>\n",
       "    </tr>\n",
       "  </thead>\n",
       "  <tbody>\n",
       "    <tr>\n",
       "      <th>breast_cancer</th>\n",
       "      <td>7.713564</td>\n",
       "      <td>15.22334</td>\n",
       "    </tr>\n",
       "    <tr>\n",
       "      <th>ionosphere</th>\n",
       "      <td>9.678288</td>\n",
       "      <td>20.12336</td>\n",
       "    </tr>\n",
       "    <tr>\n",
       "      <th>iris</th>\n",
       "      <td>14.25549</td>\n",
       "      <td>28.4751</td>\n",
       "    </tr>\n",
       "    <tr>\n",
       "      <th>isolet</th>\n",
       "      <td>5.500147</td>\n",
       "      <td>174.4283</td>\n",
       "    </tr>\n",
       "    <tr>\n",
       "      <th>mfeat_fou</th>\n",
       "      <td>26.34002</td>\n",
       "      <td>31.19785</td>\n",
       "    </tr>\n",
       "    <tr>\n",
       "      <th>optdigits</th>\n",
       "      <td>9.783604</td>\n",
       "      <td>53.21466</td>\n",
       "    </tr>\n",
       "    <tr>\n",
       "      <th>pima</th>\n",
       "      <td>85.21744</td>\n",
       "      <td>8.406726</td>\n",
       "    </tr>\n",
       "    <tr>\n",
       "      <th>pima_norm</th>\n",
       "      <td>127.2274</td>\n",
       "      <td>12.89474</td>\n",
       "    </tr>\n",
       "    <tr>\n",
       "      <th>wine</th>\n",
       "      <td>8.485675</td>\n",
       "      <td>24.60761</td>\n",
       "    </tr>\n",
       "    <tr>\n",
       "      <th>wine_norm</th>\n",
       "      <td>8.0178</td>\n",
       "      <td>12.98206</td>\n",
       "    </tr>\n",
       "  </tbody>\n",
       "</table>\n",
       "</div>"
      ],
      "text/plain": [
       "              build time clustering time\n",
       "dataset                                 \n",
       "breast_cancer   7.713564        15.22334\n",
       "ionosphere      9.678288        20.12336\n",
       "iris            14.25549         28.4751\n",
       "isolet          5.500147        174.4283\n",
       "mfeat_fou       26.34002        31.19785\n",
       "optdigits       9.783604        53.21466\n",
       "pima            85.21744        8.406726\n",
       "pima_norm       127.2274        12.89474\n",
       "wine            8.485675        24.60761\n",
       "wine_norm         8.0178        12.98206"
      ]
     },
     "execution_count": 53,
     "metadata": {},
     "output_type": "execute_result"
    }
   ],
   "source": [
    "print 'speed-up from same ensemble:'\n",
    "speed_ups_ml = ml_df.sort_index()[['build time','clustering time']] / validation_ml_ensemble.sort_index()[['build time','clustering time']]\n",
    "speed_ups_ml"
   ]
  },
  {
   "cell_type": "code",
   "execution_count": 54,
   "metadata": {
    "collapsed": false
   },
   "outputs": [
    {
     "name": "stdout",
     "output_type": "stream",
     "text": [
      "\\begin{tabular}{lll}\n",
      "\\toprule\n",
      "{} & build time & clustering time \\\\\n",
      "\\midrule\n",
      "breast\\_cancer &   7.713564 &        15.22334 \\\\\n",
      "ionosphere    &   9.678288 &        20.12336 \\\\\n",
      "iris          &   14.25549 &         28.4751 \\\\\n",
      "isolet        &   5.500147 &        174.4283 \\\\\n",
      "mfeat\\_fou     &   26.34002 &        31.19785 \\\\\n",
      "optdigits     &   9.783604 &        53.21466 \\\\\n",
      "pima          &   85.21744 &        8.406726 \\\\\n",
      "pima\\_norm     &   127.2274 &        12.89474 \\\\\n",
      "wine          &   8.485675 &        24.60761 \\\\\n",
      "wine\\_norm     &     8.0178 &        12.98206 \\\\\n",
      "\\bottomrule\n",
      "\\end{tabular}\n",
      "\n"
     ]
    }
   ],
   "source": [
    "print speed_ups_ml.to_latex(index_names=False)"
   ]
  },
  {
   "cell_type": "code",
   "execution_count": 131,
   "metadata": {
    "collapsed": false
   },
   "outputs": [
    {
     "name": "stdout",
     "output_type": "stream",
     "text": [
      "speed-up from my ensemble:\n"
     ]
    },
    {
     "data": {
      "text/html": [
       "<div>\n",
       "<table border=\"1\" class=\"dataframe\">\n",
       "  <thead>\n",
       "    <tr style=\"text-align: right;\">\n",
       "      <th></th>\n",
       "      <th>No. patterns</th>\n",
       "      <th>No. features</th>\n",
       "      <th>No. classes</th>\n",
       "      <th>ensemble time</th>\n",
       "      <th>build time</th>\n",
       "      <th>clustering time</th>\n",
       "    </tr>\n",
       "    <tr>\n",
       "      <th>dataset</th>\n",
       "      <th></th>\n",
       "      <th></th>\n",
       "      <th></th>\n",
       "      <th></th>\n",
       "      <th></th>\n",
       "      <th></th>\n",
       "    </tr>\n",
       "  </thead>\n",
       "  <tbody>\n",
       "    <tr>\n",
       "      <th>breast_cancer</th>\n",
       "      <td>683</td>\n",
       "      <td>10</td>\n",
       "      <td>2</td>\n",
       "      <td>50.43974</td>\n",
       "      <td>7.544247</td>\n",
       "      <td>15.83316</td>\n",
       "    </tr>\n",
       "    <tr>\n",
       "      <th>ionosphere</th>\n",
       "      <td>351</td>\n",
       "      <td>34</td>\n",
       "      <td>2</td>\n",
       "      <td>21.86286</td>\n",
       "      <td>11.30883</td>\n",
       "      <td>19.97219</td>\n",
       "    </tr>\n",
       "    <tr>\n",
       "      <th>iris</th>\n",
       "      <td>150</td>\n",
       "      <td>4</td>\n",
       "      <td>3</td>\n",
       "      <td>19.76525</td>\n",
       "      <td>14.49562</td>\n",
       "      <td>28.50479</td>\n",
       "    </tr>\n",
       "    <tr>\n",
       "      <th>isolet</th>\n",
       "      <td>7797</td>\n",
       "      <td>617</td>\n",
       "      <td>26</td>\n",
       "      <td>7.010007</td>\n",
       "      <td>6.183124</td>\n",
       "      <td>206.2837</td>\n",
       "    </tr>\n",
       "    <tr>\n",
       "      <th>mfeat_fou</th>\n",
       "      <td>2000</td>\n",
       "      <td>76</td>\n",
       "      <td>10</td>\n",
       "      <td>14.81462</td>\n",
       "      <td>26.43032</td>\n",
       "      <td>31.27446</td>\n",
       "    </tr>\n",
       "    <tr>\n",
       "      <th>optdigits</th>\n",
       "      <td>3823</td>\n",
       "      <td>64</td>\n",
       "      <td>10</td>\n",
       "      <td>17.30209</td>\n",
       "      <td>10.2096</td>\n",
       "      <td>53.02636</td>\n",
       "    </tr>\n",
       "    <tr>\n",
       "      <th>pima</th>\n",
       "      <td>768</td>\n",
       "      <td>8</td>\n",
       "      <td>2</td>\n",
       "      <td>50.65624</td>\n",
       "      <td>141.4828</td>\n",
       "      <td>13.93502</td>\n",
       "    </tr>\n",
       "    <tr>\n",
       "      <th>pima_norm</th>\n",
       "      <td>768</td>\n",
       "      <td>8</td>\n",
       "      <td>2</td>\n",
       "      <td>54.25415</td>\n",
       "      <td>132.8632</td>\n",
       "      <td>14.355</td>\n",
       "    </tr>\n",
       "    <tr>\n",
       "      <th>wine</th>\n",
       "      <td>178</td>\n",
       "      <td>4</td>\n",
       "      <td>3</td>\n",
       "      <td>22.06657</td>\n",
       "      <td>14.60266</td>\n",
       "      <td>24.85751</td>\n",
       "    </tr>\n",
       "    <tr>\n",
       "      <th>wine_norm</th>\n",
       "      <td>178</td>\n",
       "      <td>4</td>\n",
       "      <td>3</td>\n",
       "      <td>22.92404</td>\n",
       "      <td>14.56994</td>\n",
       "      <td>25.27709</td>\n",
       "    </tr>\n",
       "  </tbody>\n",
       "</table>\n",
       "</div>"
      ],
      "text/plain": [
       "               No. patterns  No. features No. classes ensemble time  \\\n",
       "dataset                                                               \n",
       "breast_cancer           683            10           2      50.43974   \n",
       "ionosphere              351            34           2      21.86286   \n",
       "iris                    150             4           3      19.76525   \n",
       "isolet                 7797           617          26      7.010007   \n",
       "mfeat_fou              2000            76          10      14.81462   \n",
       "optdigits              3823            64          10      17.30209   \n",
       "pima                    768             8           2      50.65624   \n",
       "pima_norm               768             8           2      54.25415   \n",
       "wine                    178             4           3      22.06657   \n",
       "wine_norm               178             4           3      22.92404   \n",
       "\n",
       "              build time clustering time  \n",
       "dataset                                   \n",
       "breast_cancer   7.544247        15.83316  \n",
       "ionosphere      11.30883        19.97219  \n",
       "iris            14.49562        28.50479  \n",
       "isolet          6.183124        206.2837  \n",
       "mfeat_fou       26.43032        31.27446  \n",
       "optdigits        10.2096        53.02636  \n",
       "pima            141.4828        13.93502  \n",
       "pima_norm       132.8632          14.355  \n",
       "wine            14.60266        24.85751  \n",
       "wine_norm       14.56994        25.27709  "
      ]
     },
     "execution_count": 131,
     "metadata": {},
     "output_type": "execute_result"
    }
   ],
   "source": [
    "print \"speed-up from my ensemble:\"\n",
    "speed_ups_all = ml_df.sort_index()[['ensemble time','build time','clustering time']] / validation_my_eac.sort()[['ensemble time','build time','clustering time']]\n",
    "speed_ups_all['No. patterns'] = 0\n",
    "speed_ups_all['No. features'] = 0\n",
    "for i in speed_ups_all.index:\n",
    "    speed_ups_all.loc[i,'No. patterns'] = datasets[i]['data'].shape[0]\n",
    "    speed_ups_all.loc[i,'No. features'] = datasets[i]['data'].shape[1]\n",
    "speed_ups_all['No. classes'] = validation_my_eac['n_clusts']\n",
    "speed_ups_all[['No. patterns','No. features','No. classes','ensemble time','build time','clustering time']]"
   ]
  },
  {
   "cell_type": "code",
   "execution_count": 132,
   "metadata": {
    "collapsed": false
   },
   "outputs": [
    {
     "name": "stdout",
     "output_type": "stream",
     "text": [
      "\\begin{tabular}{lrrllll}\n",
      "\\toprule\n",
      "{} &  No. patterns &  No. features & No. classes & ensemble time & build time & clustering time \\\\\n",
      "\\midrule\n",
      "breast\\_cancer &           683 &            10 &           2 &      50.43974 &   7.544247 &        15.83316 \\\\\n",
      "ionosphere    &           351 &            34 &           2 &      21.86286 &   11.30883 &        19.97219 \\\\\n",
      "iris          &           150 &             4 &           3 &      19.76525 &   14.49562 &        28.50479 \\\\\n",
      "isolet        &          7797 &           617 &          26 &      7.010007 &   6.183124 &        206.2837 \\\\\n",
      "mfeat\\_fou     &          2000 &            76 &          10 &      14.81462 &   26.43032 &        31.27446 \\\\\n",
      "optdigits     &          3823 &            64 &          10 &      17.30209 &    10.2096 &        53.02636 \\\\\n",
      "pima          &           768 &             8 &           2 &      50.65624 &   141.4828 &        13.93502 \\\\\n",
      "pima\\_norm     &           768 &             8 &           2 &      54.25415 &   132.8632 &          14.355 \\\\\n",
      "wine          &           178 &             4 &           3 &      22.06657 &   14.60266 &        24.85751 \\\\\n",
      "wine\\_norm     &           178 &             4 &           3 &      22.92404 &   14.56994 &        25.27709 \\\\\n",
      "\\bottomrule\n",
      "\\end{tabular}\n",
      "\n"
     ]
    }
   ],
   "source": [
    "print speed_ups_all[['No. patterns','No. features','No. classes','ensemble time','build time','clustering time']].to_latex(index_names=False)"
   ]
  },
  {
   "cell_type": "code",
   "execution_count": 40,
   "metadata": {
    "collapsed": false
   },
   "outputs": [
    {
     "name": "stdout",
     "output_type": "stream",
     "text": [
      "                accuracy n_clusts lifetime accuracy lifetime n_clusts\n",
      "breast_cancer  0.6471449        2         0.6002928                 3\n",
      "ionosphere     0.6524217        2         0.5470085                 9\n",
      "iris           0.7466667        3         0.6666667                 2\n",
      "isolet         0.0977299       26        0.03860459                 2\n",
      "mfeat_fou          0.203       10             0.102                 6\n",
      "optdigits      0.2003662       10         0.1995815                 2\n",
      "pima           0.6458333        2         0.6458333                 2\n",
      "pima_norm      0.6497396        2         0.6497396                 2\n",
      "wine           0.4044944        3         0.4044944                 2\n",
      "wine_norm      0.5280899        3         0.5224719                 2\n",
      "               accuracy  n_clusts  lifetime accuracy  lifetime n_clusts\n",
      "dataset                                                                \n",
      "breast_cancer   0.64714         2           0.600290                  3\n",
      "ionosphere      0.65242         2           0.547010                  9\n",
      "iris            0.74667         3           0.666670                  2\n",
      "isolet          0.09773        26           0.038605                  2\n",
      "mfeat_fou       0.29750        10           0.102000                  6\n",
      "optdigits       0.20037        10           0.199580                  2\n",
      "pima            0.64583         2           0.645830                  2\n",
      "pima_norm       0.64974         2           0.649740                  2\n",
      "wine            0.42135         3           0.466290                  4\n",
      "wine_norm       0.52809         3           0.522470                  2\n",
      "                accuracy n_clusts lifetime accuracy lifetime n_clusts\n",
      "breast_cancer  0.6471449        2         0.6002928                 3\n",
      "ionosphere     0.6438746        2         0.6438746                 4\n",
      "iris           0.7466667        3         0.6666667                 2\n",
      "isolet         0.0588688       26        0.03898935                 5\n",
      "mfeat_fou          0.102       10             0.101                 4\n",
      "optdigits      0.2984567       10         0.1995815                 2\n",
      "pima           0.6458333        2         0.4947917                 3\n",
      "pima_norm      0.6497396        2         0.6497396                 2\n",
      "wine           0.4101124        3          0.488764                 8\n",
      "wine_norm      0.6348315        3         0.5224719                 2\n"
     ]
    }
   ],
   "source": [
    "print validation_ml_ensemble.sort()[['accuracy','n_clusts','lifetime accuracy','lifetime n_clusts']]\n",
    "print ml_df.sort()[['accuracy','n_clusts','lifetime accuracy','lifetime n_clusts']]\n",
    "print validation_my_eac.sort()[['accuracy','n_clusts','lifetime accuracy','lifetime n_clusts']]\n"
   ]
  },
  {
   "cell_type": "code",
   "execution_count": 128,
   "metadata": {
    "collapsed": true
   },
   "outputs": [],
   "source": []
  },
  {
   "cell_type": "code",
   "execution_count": 127,
   "metadata": {
    "collapsed": false
   },
   "outputs": [
    {
     "data": {
      "text/plain": [
       "optdigits        10\n",
       "iris              3\n",
       "breast_cancer     2\n",
       "isolet           26\n",
       "pima_norm         2\n",
       "mfeat_fou        10\n",
       "wine_norm         3\n",
       "pima              2\n",
       "ionosphere        2\n",
       "wine              3\n",
       "Name: n_clusts, dtype: object"
      ]
     },
     "execution_count": 127,
     "metadata": {},
     "output_type": "execute_result"
    }
   ],
   "source": [
    "validation_my_eac['n_clusts']"
   ]
  },
  {
   "cell_type": "code",
   "execution_count": 149,
   "metadata": {
    "collapsed": false
   },
   "outputs": [
    {
     "name": "stderr",
     "output_type": "stream",
     "text": [
      "/home/chiroptera/anaconda/lib/python2.7/site-packages/pandas/core/indexing.py:115: SettingWithCopyWarning: \n",
      "A value is trying to be set on a copy of a slice from a DataFrame\n",
      "\n",
      "See the the caveats in the documentation: http://pandas.pydata.org/pandas-docs/stable/indexing.html#indexing-view-versus-copy\n",
      "  self._setitem_with_indexer(indexer, value)\n"
     ]
    }
   ],
   "source": [
    "validation_my_eac['n_samples']=0\n",
    "validation_my_eac['dimension']=0\n",
    "for i in validation_my_eac.index:\n",
    "    validation_my_eac.n_samples.loc[i] = datasets[i]['data'].shape[0]\n",
    "    validation_my_eac.dimension.loc[i] = datasets[i]['data'].shape[1]\n",
    "validation_my_eac"
   ]
  },
  {
   "cell_type": "markdown",
   "metadata": {},
   "source": [
    "# read labels from Matlab"
   ]
  },
  {
   "cell_type": "code",
   "execution_count": 38,
   "metadata": {
    "collapsed": true
   },
   "outputs": [],
   "source": [
    "\n",
    "import os.path"
   ]
  },
  {
   "cell_type": "code",
   "execution_count": 204,
   "metadata": {
    "collapsed": false
   },
   "outputs": [],
   "source": [
    "ensemble_directory = '/home/chiroptera/workspace/QCThesis/EAC_toolbox/'"
   ]
  },
  {
   "cell_type": "code",
   "execution_count": 210,
   "metadata": {
    "collapsed": false
   },
   "outputs": [],
   "source": [
    "e_iris = load_matlab_ensemble(ensemble_directory, 'iris')"
   ]
  },
  {
   "cell_type": "code",
   "execution_count": 39,
   "metadata": {
    "collapsed": false
   },
   "outputs": [],
   "source": [
    "ensemble_directory = '/home/chiroptera/workspace/QCThesis/EAC_toolbox/'\n",
    "def load_matlab_ensemble(directory, dataset):\n",
    "    import os.path\n",
    "    import scipy.io\n",
    "    import glob\n",
    "\n",
    "    ensemble_directory = os.path.abspath(directory) + os.path.sep\n",
    "    ensemble = list()\n",
    "    for p_file in glob.glob(ensemble_directory + 'kmeans-{}-*.mat'.format(dataset)):\n",
    "\n",
    "        ml_part = scipy.io.loadmat(p_file)\n",
    "        part = ml_part['clusters_m']\n",
    "        py_part = list()\n",
    "        for c in part:\n",
    "            cluster = c[c != 0] - 1\n",
    "            py_part.append(cluster.astype(np.int32))\n",
    "\n",
    "        ensemble.append(py_part)\n",
    "    return ensemble"
   ]
  },
  {
   "cell_type": "code",
   "execution_count": 129,
   "metadata": {
    "collapsed": true
   },
   "outputs": [],
   "source": [
    "directory = '/home/chiroptera/workspace/QCThesis/EAC_toolbox/eac'\n",
    "\n",
    "def labels_path(dataset, lifetime=True):\n",
    "    labels_type = '-'\n",
    "    if lifetime:\n",
    "        labels_type += 'k-fixo-'\n",
    "    return '{}-eac-kmeans-single{}Stable-combined.mat'.format(dataset,labels_type)"
   ]
  },
  {
   "cell_type": "code",
   "execution_count": 118,
   "metadata": {
    "collapsed": false
   },
   "outputs": [
    {
     "data": {
      "text/plain": [
       "(0.10199999999999999, 0.29749999999999999)"
      ]
     },
     "execution_count": 118,
     "metadata": {},
     "output_type": "execute_result"
    }
   ],
   "source": [
    "accuracy_from_matlab('/home/chiroptera/QCThesis/EAC_toolbox/eac','mfeat_fou')"
   ]
  },
  {
   "cell_type": "code",
   "execution_count": 67,
   "metadata": {
    "collapsed": false
   },
   "outputs": [],
   "source": [
    "def accuracy_from_matlab(directory, dataset):\n",
    "    #load matrix\n",
    "    import scipy.io\n",
    "    import os.path\n",
    "    \n",
    "    def labels_path(dataset, lifetime=True):\n",
    "        labels_type = '-'\n",
    "        if lifetime:\n",
    "            labels_type += 'k-fixo-'\n",
    "        return '{}-eac-kmeans-single{}Stable-combined.mat'.format(dataset,labels_type)\n",
    "\n",
    "    matlab_mat = scipy.io.loadmat(os.path.join(directory, labels_path(dataset,False)))\n",
    "\n",
    "    labels_mat = matlab_mat['clusters_m'].astype(np.int32)\n",
    "    n_samples = labels_mat.max()\n",
    "\n",
    "    labels = np.empty(n_samples, dtype=np.int32)\n",
    "\n",
    "    labels_mat -= 1\n",
    "    for l,c in enumerate(labels_mat):\n",
    "        idx = c[c!=-1]\n",
    "        labels[idx] = l\n",
    "\n",
    "    gt = datasets[dataset]['gt']\n",
    "        \n",
    "    # score result\n",
    "    mukresAcc = acc.HungarianIndex(n_samples)\n",
    "    accuracy_fixed =  mukresAcc.score(gt, labels)\n",
    "    \n",
    "    ## lifetime accuracy\n",
    "    matlab_mat = scipy.io.loadmat(os.path.join(directory, labels_path(dataset,True)))\n",
    "\n",
    "    labels_mat = matlab_mat['clusters_m'].astype(np.int32)\n",
    "    n_samples = labels_mat.max()\n",
    "\n",
    "    labels = np.empty(n_samples, dtype=np.int32)\n",
    "\n",
    "    labels_mat -= 1\n",
    "    for l,c in enumerate(labels_mat):\n",
    "        idx = c[c!=-1]\n",
    "        labels[idx] = l\n",
    "\n",
    "    # score result\n",
    "    mukresAcc = acc.HungarianIndex(n_samples)\n",
    "    accuracy_lt =  mukresAcc.score(gt, labels)    \n",
    "    \n",
    "    return accuracy_fixed,accuracy_lt"
   ]
  },
  {
   "cell_type": "code",
   "execution_count": 148,
   "metadata": {
    "collapsed": false
   },
   "outputs": [
    {
     "data": {
      "text/plain": [
       "(0.66666666666666663, 0.7466666666666667)"
      ]
     },
     "execution_count": 148,
     "metadata": {},
     "output_type": "execute_result"
    }
   ],
   "source": [
    "accuracy_from_matlab('iris')"
   ]
  }
 ],
 "metadata": {
  "kernelspec": {
   "display_name": "Python 2",
   "language": "python",
   "name": "python2"
  },
  "language_info": {
   "codemirror_mode": {
    "name": "ipython",
    "version": 2
   },
   "file_extension": ".py",
   "mimetype": "text/x-python",
   "name": "python",
   "nbconvert_exporter": "python",
   "pygments_lexer": "ipython2",
   "version": "2.7.10"
  }
 },
 "nbformat": 4,
 "nbformat_minor": 0
}
