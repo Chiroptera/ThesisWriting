{
 "cells": [
  {
   "cell_type": "code",
   "execution_count": 2,
   "metadata": {
    "collapsed": true
   },
   "outputs": [],
   "source": [
    "import pandas as pd"
   ]
  },
  {
   "cell_type": "code",
   "execution_count": 3,
   "metadata": {
    "collapsed": true
   },
   "outputs": [],
   "source": [
    "results = pd.read_clipboard()"
   ]
  },
  {
   "cell_type": "code",
   "execution_count": 5,
   "metadata": {
    "collapsed": false
   },
   "outputs": [
    {
     "name": "stdout",
     "output_type": "stream",
     "text": [
      "\\begin{tabular}{lrrrlr}\n",
      "\\toprule\n",
      "Data set alias &  Number of patterns &  Number of features &  Production time &                                   Combination time &  Recovery time \\\\\n",
      "\\midrule\n",
      "      PHYACT 1 &              441568 &                  30 &      2158.694059 &                                      123.858484983 &      19.765186 \\\\\n",
      "      PHYACT 2 &              359170 &                  30 &      1477.346136 &                                      98.8667109013 &      15.796466 \\\\\n",
      "         Kdd99 &             2449216 &                  41 &     10284.166381 &  not possible to run because the bgs was 964287... &            NaN \\\\\n",
      "         esopH &              136127 &                   2 &        17.943892 &                                      35.1568570137 &       3.959914 \\\\\n",
      "      diabetes &              101766 &                  41 &       188.560769 &                                      33.7938790321 &       5.074828 \\\\\n",
      "\\bottomrule\n",
      "\\end{tabular}\n",
      "\n"
     ]
    },
    {
     "data": {
      "text/html": [
       "<div>\n",
       "<table border=\"1\" class=\"dataframe\">\n",
       "  <thead>\n",
       "    <tr style=\"text-align: right;\">\n",
       "      <th></th>\n",
       "      <th>Data set alias</th>\n",
       "      <th>Number of patterns</th>\n",
       "      <th>Number of features</th>\n",
       "      <th>Production time</th>\n",
       "      <th>Combination time</th>\n",
       "      <th>Recovery time</th>\n",
       "    </tr>\n",
       "  </thead>\n",
       "  <tbody>\n",
       "    <tr>\n",
       "      <th>0</th>\n",
       "      <td>PHYACT 1</td>\n",
       "      <td>441568</td>\n",
       "      <td>30</td>\n",
       "      <td>2158.694059</td>\n",
       "      <td>123.858484983</td>\n",
       "      <td>19.765186</td>\n",
       "    </tr>\n",
       "    <tr>\n",
       "      <th>1</th>\n",
       "      <td>PHYACT 2</td>\n",
       "      <td>359170</td>\n",
       "      <td>30</td>\n",
       "      <td>1477.346136</td>\n",
       "      <td>98.8667109013</td>\n",
       "      <td>15.796466</td>\n",
       "    </tr>\n",
       "    <tr>\n",
       "      <th>2</th>\n",
       "      <td>Kdd99</td>\n",
       "      <td>2449216</td>\n",
       "      <td>41</td>\n",
       "      <td>10284.166381</td>\n",
       "      <td>not possible to run because the bgs was 964287...</td>\n",
       "      <td>NaN</td>\n",
       "    </tr>\n",
       "    <tr>\n",
       "      <th>3</th>\n",
       "      <td>esopH</td>\n",
       "      <td>136127</td>\n",
       "      <td>2</td>\n",
       "      <td>17.943892</td>\n",
       "      <td>35.1568570137</td>\n",
       "      <td>3.959914</td>\n",
       "    </tr>\n",
       "    <tr>\n",
       "      <th>4</th>\n",
       "      <td>diabetes</td>\n",
       "      <td>101766</td>\n",
       "      <td>41</td>\n",
       "      <td>188.560769</td>\n",
       "      <td>33.7938790321</td>\n",
       "      <td>5.074828</td>\n",
       "    </tr>\n",
       "  </tbody>\n",
       "</table>\n",
       "</div>"
      ],
      "text/plain": [
       "  Data set alias  Number of patterns  Number of features  Production time  \\\n",
       "0       PHYACT 1              441568                  30      2158.694059   \n",
       "1       PHYACT 2              359170                  30      1477.346136   \n",
       "2          Kdd99             2449216                  41     10284.166381   \n",
       "3          esopH              136127                   2        17.943892   \n",
       "4       diabetes              101766                  41       188.560769   \n",
       "\n",
       "                                    Combination time  Recovery time  \n",
       "0                                      123.858484983      19.765186  \n",
       "1                                      98.8667109013      15.796466  \n",
       "2  not possible to run because the bgs was 964287...            NaN  \n",
       "3                                      35.1568570137       3.959914  \n",
       "4                                      33.7938790321       5.074828  "
      ]
     },
     "execution_count": 5,
     "metadata": {},
     "output_type": "execute_result"
    }
   ],
   "source": [
    "print results[['Data set alias','Number of patterns','Number of features','Production time','Combination time','Recovery time']].to_latex(index=False)\n",
    "results[['Data set alias','Number of patterns','Number of features','Production time','Combination time','Recovery time']]"
   ]
  }
 ],
 "metadata": {
  "kernelspec": {
   "display_name": "Python 2",
   "language": "python",
   "name": "python2"
  },
  "language_info": {
   "codemirror_mode": {
    "name": "ipython",
    "version": 2
   },
   "file_extension": ".py",
   "mimetype": "text/x-python",
   "name": "python",
   "nbconvert_exporter": "python",
   "pygments_lexer": "ipython2",
   "version": "2.7.10"
  }
 },
 "nbformat": 4,
 "nbformat_minor": 0
}
