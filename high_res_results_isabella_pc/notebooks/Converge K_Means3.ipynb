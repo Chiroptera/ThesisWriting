{
 "cells": [
  {
   "cell_type": "markdown",
   "metadata": {},
   "source": [
    "author: Diogo Silva"
   ]
  },
  {
   "cell_type": "markdown",
   "metadata": {},
   "source": [
    "This notebook was created to develop and test the convergence part of the K-Means class.\n",
    "Initial works passes to evaluate summing all the distances on GPU and extracting only a number instead of N numbers form the device."
   ]
  },
  {
   "cell_type": "code",
   "execution_count": 3,
   "metadata": {
    "collapsed": true
   },
   "outputs": [],
   "source": [
    "home = %env HOME"
   ]
  },
  {
   "cell_type": "code",
   "execution_count": 5,
   "metadata": {
    "collapsed": false
   },
   "outputs": [
    {
     "name": "stdout",
     "output_type": "stream",
     "text": [
      "/home/diogoaos/QCThesis/CUDA\n"
     ]
    }
   ],
   "source": [
    "cd $home/QCThesis/CUDA/"
   ]
  },
  {
   "cell_type": "code",
   "execution_count": 6,
   "metadata": {
    "collapsed": true
   },
   "outputs": [],
   "source": [
    "import numpy as np\n",
    "import cProfile"
   ]
  },
  {
   "cell_type": "code",
   "execution_count": 12,
   "metadata": {
    "collapsed": false
   },
   "outputs": [
    {
     "data": {
      "text/plain": [
       "<module 'K_Means3' from 'K_Means3.py'>"
      ]
     },
     "execution_count": 12,
     "metadata": {},
     "output_type": "execute_result"
    }
   ],
   "source": [
    "import K_Means3\n",
    "reload(K_Means3)"
   ]
  },
  {
   "cell_type": "code",
   "execution_count": 9,
   "metadata": {
    "collapsed": true
   },
   "outputs": [],
   "source": [
    "from numbapro import vectorize\n",
    "from numpy import arange\n",
    "\n",
    "@vectorize(['float32(float32, float32)'], target='cpu') # default to 'cpu'\n",
    "def add2(a, b):\n",
    "    return a + b\n",
    "\n",
    "@vectorize(['float32(float32, float32)'], target='gpu') # default to 'cpu'\n",
    "def add2_gpu(a, b):\n",
    "    return a + b\n"
   ]
  },
  {
   "cell_type": "code",
   "execution_count": 10,
   "metadata": {
    "collapsed": false
   },
   "outputs": [
    {
     "name": "stdout",
     "output_type": "stream",
     "text": [
      "Results: 7.99429e+12 8e+12\n",
      "100 loops, best of 3: 9.31 ms per loop\n",
      "100 loops, best of 3: 11.4 ms per loop\n"
     ]
    }
   ],
   "source": [
    "n=4e6\n",
    "X = np.arange(np.int(n), dtype='float32')\n",
    "\n",
    "print 'Results:',add2.reduce(X),add2_gpu.reduce(X)\n",
    "%timeit add2.reduce(X)\n",
    "%timeit add2_gpu.reduce(X)"
   ]
  },
  {
   "cell_type": "code",
   "execution_count": 11,
   "metadata": {
    "collapsed": false
   },
   "outputs": [
    {
     "name": "stdout",
     "output_type": "stream",
     "text": [
      "         12128 function calls (12021 primitive calls) in 0.016 seconds\n",
      "\n",
      "   Ordered by: standard name\n",
      "\n",
      "   ncalls  tottime  percall  cumtime  percall filename:lineno(function)\n",
      "        1    0.000    0.000    0.016    0.016 <string>:1(<module>)\n",
      "       82    0.000    0.000    0.000    0.000 <string>:8(__new__)\n",
      "      164    0.000    0.000    0.002    0.000 _methods.py:34(_prod)\n",
      "        1    0.000    0.000    0.000    0.000 api.py:156(stream)\n",
      "        1    0.000    0.000    0.003    0.003 api.py:23(to_device)\n",
      "       27    0.000    0.000    0.000    0.000 autotune.py:61(by_occupancy)\n",
      "       27    0.000    0.000    0.000    0.000 autotune.py:71(best)\n",
      "       27    0.000    0.000    0.000    0.000 autotune.py:74(max_occupancy_min_blocks)\n",
      "       27    0.000    0.000    0.001    0.000 compiler.py:173(copy)\n",
      "       27    0.000    0.000    0.001    0.000 compiler.py:176(configure)\n",
      "       27    0.000    0.000    0.000    0.000 compiler.py:251(get)\n",
      "       27    0.000    0.000    0.004    0.000 compiler.py:304(__call__)\n",
      "       27    0.000    0.000    0.004    0.000 compiler.py:347(_kernel_call)\n",
      "       81    0.000    0.000    0.001    0.000 compiler.py:400(_prepare_args)\n",
      "        1    0.000    0.000    0.000    0.000 contextlib.py:12(__init__)\n",
      "        1    0.000    0.000    0.000    0.000 contextlib.py:15(__enter__)\n",
      "        1    0.000    0.000    0.000    0.000 contextlib.py:21(__exit__)\n",
      "        1    0.000    0.000    0.000    0.000 contextlib.py:82(helper)\n",
      "       54    0.000    0.000    0.000    0.000 copy.py:306(_reconstruct)\n",
      "       54    0.000    0.000    0.001    0.000 copy.py:66(copy)\n",
      "       54    0.000    0.000    0.000    0.000 copy_reg.py:92(__newobj__)\n",
      "       29    0.000    0.000    0.000    0.000 devicearray.py:113(_default_stream)\n",
      "       83    0.000    0.000    0.000    0.000 devicearray.py:125(device_ctypes_pointer)\n",
      "        1    0.000    0.000    0.003    0.003 devicearray.py:134(copy_to_device)\n",
      "        1    0.000    0.000    0.000    0.000 devicearray.py:151(copy_to_host)\n",
      "       81    0.000    0.000    0.004    0.000 devicearray.py:198(split)\n",
      "      136    0.000    0.000    0.000    0.000 devicearray.py:22(is_cuda_ndarray)\n",
      "       27    0.000    0.000    0.002    0.000 devicearray.py:248(reshape)\n",
      "        1    0.000    0.000    0.000    0.000 devicearray.py:325(from_array_like)\n",
      "        1    0.000    0.000    0.000    0.000 devicearray.py:344(sentry_contiguous)\n",
      "       82    0.000    0.000    0.003    0.000 devicearray.py:354(auto_device)\n",
      "       82    0.001    0.000    0.006    0.000 devicearray.py:55(__init__)\n",
      "       31    0.000    0.000    0.000    0.000 devices.py:108(current_context)\n",
      "       31    0.000    0.000    0.000    0.000 devices.py:183(get_or_create_context)\n",
      "       31    0.000    0.000    0.000    0.000 devices.py:224(get_context)\n",
      "        2    0.000    0.000    0.003    0.002 devices.py:236(_require_cuda_context)\n",
      "       27    0.000    0.000    0.000    0.000 deviceufunc.py:109(_get_actual_args)\n",
      "       27    0.000    0.000    0.000    0.000 deviceufunc.py:118(_broadcast)\n",
      "       54    0.000    0.000    0.000    0.000 deviceufunc.py:123(<lambda>)\n",
      "       27    0.000    0.000    0.001    0.000 deviceufunc.py:147(get_arguments)\n",
      "       27    0.000    0.000    0.000    0.000 deviceufunc.py:157(get_function)\n",
      "       27    0.000    0.000    0.008    0.000 deviceufunc.py:182(call)\n",
      "       27    0.000    0.000    0.000    0.000 deviceufunc.py:34(__init__)\n",
      "       27    0.000    0.000    0.000    0.000 deviceufunc.py:45(_fill_arrays)\n",
      "       27    0.000    0.000    0.000    0.000 deviceufunc.py:60(_fill_argtypes)\n",
      "       27    0.000    0.000    0.000    0.000 deviceufunc.py:68(_resolve_signature)\n",
      "       81    0.000    0.000    0.000    0.000 deviceufunc.py:92(<genexpr>)\n",
      "       27    0.000    0.000    0.005    0.000 dispatch.py:136(launch)\n",
      "      135    0.000    0.000    0.000    0.000 dispatch.py:139(is_device_array)\n",
      "       27    0.000    0.000    0.008    0.000 dispatch.py:26(__call__)\n",
      "        1    0.000    0.000    0.016    0.016 dispatch.py:39(reduce)\n",
      "     27/1    0.000    0.000    0.013    0.013 dispatch.py:68(__reduce)\n",
      "       27    0.000    0.000    0.001    0.000 driver.py:1019(configure)\n",
      "       27    0.000    0.000    0.002    0.000 driver.py:1036(__call__)\n",
      "       27    0.001    0.000    0.001    0.000 driver.py:1071(launch_kernel)\n",
      "       81    0.000    0.000    0.000    0.000 driver.py:1234(device_memory_size)\n",
      "        2    0.000    0.000    0.000    0.000 driver.py:1248(host_pointer)\n",
      "        1    0.000    0.000    0.000    0.000 driver.py:1261(host_memory_extents)\n",
      "        1    0.000    0.000    0.000    0.000 driver.py:1266(memory_size_from_info)\n",
      "        1    0.000    0.000    0.000    0.000 driver.py:1276(host_memory_size)\n",
      "       83    0.000    0.000    0.000    0.000 driver.py:1283(device_pointer)\n",
      "       83    0.000    0.000    0.000    0.000 driver.py:1288(device_ctypes_pointer)\n",
      "      652    0.000    0.000    0.000    0.000 driver.py:1296(is_device_memory)\n",
      "       83    0.000    0.000    0.000    0.000 driver.py:1307(require_device_memory)\n",
      "        1    0.000    0.000    0.003    0.003 driver.py:1324(host_to_device)\n",
      "        1    0.000    0.000    0.000    0.000 driver.py:1342(device_to_host)\n",
      "       65    0.004    0.000    0.004    0.000 driver.py:213(safe_cuda_api_call)\n",
      "       65    0.000    0.000    0.000    0.000 driver.py:242(_check_error)\n",
      "       31    0.000    0.000    0.000    0.000 driver.py:271(get_context)\n",
      "        2    0.000    0.000    0.000    0.000 driver.py:292(add_trash)\n",
      "        2    0.000    0.000    0.000    0.000 driver.py:295(process)\n",
      "        1    0.000    0.000    0.000    0.000 driver.py:499(memalloc)\n",
      "        1    0.000    0.000    0.000    0.000 driver.py:597(create_stream)\n",
      "        1    0.000    0.000    0.000    0.000 driver.py:665(_make_mem_finalizer)\n",
      "        1    0.000    0.000    0.000    0.000 driver.py:666(mem_finalize)\n",
      "        1    0.000    0.000    0.000    0.000 driver.py:670(core)\n",
      "        1    0.000    0.000    0.000    0.000 driver.py:671(cleanup)\n",
      "        1    0.000    0.000    0.000    0.000 driver.py:704(_stream_finalizer)\n",
      "        1    0.000    0.000    0.000    0.000 driver.py:705(core)\n",
      "        1    0.000    0.000    0.000    0.000 driver.py:706(<lambda>)\n",
      "       55    0.000    0.000    0.000    0.000 driver.py:729(__init__)\n",
      "       55    0.000    0.000    0.000    0.000 driver.py:740(__del__)\n",
      "        1    0.000    0.000    0.000    0.000 driver.py:747(own)\n",
      "       26    0.000    0.000    0.000    0.000 driver.py:750(free)\n",
      "       54    0.000    0.000    0.000    0.000 driver.py:768(view)\n",
      "       83    0.000    0.000    0.000    0.000 driver.py:779(device_ctypes_pointer)\n",
      "       55    0.000    0.000    0.000    0.000 driver.py:839(__init__)\n",
      "       55    0.000    0.000    0.000    0.000 driver.py:848(__del__)\n",
      "      218    0.000    0.000    0.000    0.000 driver.py:859(__getattr__)\n",
      "        1    0.000    0.000    0.000    0.000 driver.py:870(__init__)\n",
      "        1    0.000    0.000    0.000    0.000 driver.py:876(__del__)\n",
      "        1    0.000    0.000    0.000    0.000 driver.py:889(synchronize)\n",
      "        2    0.000    0.000    0.000    0.000 driver.py:892(auto_synchronize)\n",
      "      164    0.000    0.000    0.000    0.000 dummyarray.py:104(is_contiguous)\n",
      "      164    0.000    0.000    0.000    0.000 dummyarray.py:108(compute_index)\n",
      "      328    0.000    0.000    0.000    0.000 dummyarray.py:109(<genexpr>)\n",
      "       82    0.000    0.000    0.004    0.000 dummyarray.py:148(from_desc)\n",
      "       82    0.001    0.000    0.003    0.000 dummyarray.py:157(__init__)\n",
      "      164    0.000    0.000    0.000    0.000 dummyarray.py:160(<genexpr>)\n",
      "      164    0.000    0.000    0.000    0.000 dummyarray.py:161(<genexpr>)\n",
      "       82    0.000    0.000    0.000    0.000 dummyarray.py:167(_compute_layout)\n",
      "      164    0.000    0.000    0.000    0.000 dummyarray.py:179(is_contig)\n",
      "       82    0.000    0.000    0.001    0.000 dummyarray.py:191(_compute_extent)\n",
      "       82    0.000    0.000    0.000    0.000 dummyarray.py:27(__init__)\n",
      "      164    0.000    0.000    0.000    0.000 dummyarray.py:80(get_offset)\n",
      "      164    0.001    0.000    0.002    0.000 fromnumeric.py:2259(prod)\n",
      "       27    0.000    0.000    0.000    0.000 plugins.py:21(autotune)\n",
      "       27    0.000    0.000    0.000    0.000 plugins.py:50(forall)\n",
      "       27    0.000    0.000    0.000    0.000 plugins.py:63(_compute_thread_per_block)\n",
      "       27    0.000    0.000    0.000    0.000 plugins.py:77(__init__)\n",
      "       27    0.000    0.000    0.005    0.000 plugins.py:84(__call__)\n",
      "        2    0.000    0.000    0.000    0.000 service.py:18(service)\n",
      "       62    0.000    0.000    0.000    0.000 threadlocal.py:13(stack)\n",
      "       31    0.000    0.000    0.000    0.000 threadlocal.py:29(top)\n",
      "       31    0.000    0.000    0.000    0.000 threadlocal.py:33(is_empty)\n",
      "       31    0.000    0.000    0.000    0.000 threadlocal.py:37(__bool__)\n",
      "       31    0.000    0.000    0.000    0.000 threadlocal.py:40(__nonzero__)\n",
      "        1    0.000    0.000    0.000    0.000 utils.py:140(__setitem__)\n",
      "      486    0.000    0.000    0.000    0.000 {_ctypes.addressof}\n",
      "       33    0.000    0.000    0.000    0.000 {_ctypes.byref}\n",
      "       57    0.000    0.000    0.000    0.000 {_weakref.proxy}\n",
      "       27    0.000    0.000    0.000    0.000 {all}\n",
      "      136    0.000    0.000    0.000    0.000 {built-in method __new__ of type object at 0x7f6f5b3ccd00}\n",
      "1195/1114    0.001    0.000    0.001    0.000 {getattr}\n",
      "       81    0.000    0.000    0.000    0.000 {hasattr}\n",
      "       54    0.000    0.000    0.000    0.000 {id}\n",
      "      576    0.000    0.000    0.000    0.000 {isinstance}\n",
      "       82    0.000    0.000    0.000    0.000 {iter}\n",
      "      682    0.000    0.000    0.000    0.000 {len}\n",
      "       27    0.000    0.000    0.000    0.000 {math.ceil}\n",
      "       27    0.000    0.000    0.000    0.000 {max}\n",
      "       54    0.000    0.000    0.000    0.000 {method '__reduce_ex__' of 'object' objects}\n",
      "     1307    0.000    0.000    0.000    0.000 {method 'append' of 'list' objects}\n",
      "        1    0.000    0.000    0.000    0.000 {method 'disable' of '_lsprof.Profiler' objects}\n",
      "       27    0.000    0.000    0.000    0.000 {method 'extend' of 'list' objects}\n",
      "      135    0.000    0.000    0.000    0.000 {method 'get' of 'dict' objects}\n",
      "        1    0.000    0.000    0.000    0.000 {method 'keys' of 'dict' objects}\n",
      "       54    0.000    0.000    0.000    0.000 {method 'pop' of 'dict' objects}\n",
      "        2    0.000    0.000    0.000    0.000 {method 'pop' of 'list' objects}\n",
      "      164    0.001    0.000    0.001    0.000 {method 'reduce' of 'numpy.ufunc' objects}\n",
      "       54    0.000    0.000    0.000    0.000 {method 'update' of 'dict' objects}\n",
      "       55    0.000    0.000    0.000    0.000 {min}\n",
      "      166    0.000    0.000    0.000    0.000 {next}\n",
      "        2    0.000    0.000    0.000    0.000 {numba.mviewbuf.memoryview_get_buffer}\n",
      "        1    0.000    0.000    0.000    0.000 {numba.mviewbuf.memoryview_get_extents_info}\n",
      "        1    0.000    0.000    0.000    0.000 {numba.mviewbuf.memoryview_get_extents}\n",
      "        1    0.000    0.000    0.000    0.000 {numpy.core.multiarray.array}\n",
      "      189    0.000    0.000    0.000    0.000 {range}\n",
      "      164    0.000    0.000    0.000    0.000 {sum}\n",
      "      300    0.000    0.000    0.000    0.000 {zip}\n",
      "\n",
      "\n"
     ]
    }
   ],
   "source": [
    "a=cProfile.run(\"add2_gpu.reduce(X)\")"
   ]
  },
  {
   "cell_type": "code",
   "execution_count": null,
   "metadata": {
    "collapsed": true
   },
   "outputs": [],
   "source": []
  }
 ],
 "metadata": {
  "kernelspec": {
   "display_name": "Python 2",
   "language": "python",
   "name": "python2"
  },
  "language_info": {
   "codemirror_mode": {
    "name": "ipython",
    "version": 2
   },
   "file_extension": ".py",
   "mimetype": "text/x-python",
   "name": "python",
   "nbconvert_exporter": "python",
   "pygments_lexer": "ipython2",
   "version": "2.7.9"
  }
 },
 "nbformat": 4,
 "nbformat_minor": 0
}
