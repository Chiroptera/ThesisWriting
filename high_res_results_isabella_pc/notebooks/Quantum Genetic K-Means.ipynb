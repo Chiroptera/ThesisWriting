{
 "metadata": {
  "name": ""
 },
 "nbformat": 3,
 "nbformat_minor": 0,
 "worksheets": [
  {
   "cells": [
    {
     "cell_type": "heading",
     "level": 1,
     "metadata": {},
     "source": [
      "Quantum Genetic K-Means"
     ]
    },
    {
     "cell_type": "heading",
     "level": 2,
     "metadata": {},
     "source": [
      "Theoretical introduction"
     ]
    },
    {
     "cell_type": "markdown",
     "metadata": {},
     "source": [
      "The implemented algorithm is described in more detail in [1,3].\n",
      "\n",
      "This algorithm is based on the quantum bit (qubit) model. A qubit can have any value between 0 and 1 (superposition property) until it is observed, which is when the system collapses to either state. However, the probability with which the system collapses to either state  may be different. The superposition property or linear combination of states can be expressed as\n",
      "\n",
      "$$\n",
      "[\\psi] = \\alpha[0] + \\beta[1]\n",
      "$$\n",
      "\n",
      "where $\\psi$ is an arbitrary state vector and $\\alpha$, $\\beta$ are the the probability amplitude coefficients of basis states $[0]$ and $[1]$, respectevely. The basis states correspond to the spin of the modeled particle (in this case, a ferminion, e.g. electron). The coefficients are subjected to the following normalization:\n",
      "\n",
      "$$|\\alpha|^2 + |\\beta|^2 = 1$$\n",
      "\n",
      "where $|\\alpha|^2$, $|\\beta|^2$ are the probabilities of observing states $[0]$ and $[1]$, respectevely. $\\alpha$ and $\\beta$ are complex quantities and represent a qubit:\n",
      "\n",
      "$$\\begin{bmatrix}\n",
      "\\alpha \\\\\n",
      "\\beta\n",
      "\\end{bmatrix}$$\n",
      "\n",
      "Moreover, a qubit string may be represented by:\n",
      "$$\n",
      "\\begin{bmatrix}\n",
      "\\left.\\begin{matrix}\n",
      "\\alpha_1\\\\ \n",
      "\\beta_1\n",
      "\\end{matrix}\\right| & \\left.\\begin{matrix}\n",
      "\\alpha_2\\\\ \n",
      "\\beta_2\n",
      "\\end{matrix}\\right| & \\begin{matrix}\n",
      "\\alpha_3\\\\ \n",
      "\\beta_3\n",
      "\\end{matrix}\n",
      "\\end{bmatrix}\n",
      "$$\n",
      "\n",
      "The probability of observing the state $[000]$ will be $|\\alpha_1|^2 \\times |\\alpha_2|^2 \\times |\\alpha_3|^2$\n"
     ]
    },
    {
     "cell_type": "markdown",
     "metadata": {},
     "source": [
      "To use this model for computing purposes, black-box objects called *oracles* are used. Oracles contain strings of qubits and generate their own input by observing the state of the qubits. After collapsing, the qubit value becomes analog to a classical bit. Each string of qubits represents a number, so the number of qubits in each string will define its precision. The number of strings chosen for the oracles depends on the number of clusters and dimensionality of the problem (e.g. for 3 clusters of 2 dimensions, 6 strings will be used since 6 numbers are required). Each oracle will represent a possible solution."
     ]
    },
    {
     "cell_type": "heading",
     "level": 2,
     "metadata": {},
     "source": [
      "Algorithm"
     ]
    },
    {
     "cell_type": "markdown",
     "metadata": {},
     "source": [
      "The algorithm has the following steps:\n",
      "1. initialize population of oracles\n",
      "2. Collapse oracles\n",
      "3. K-Means\n",
      "4. Compute cluster fitness\n",
      "5. Store\n",
      "6. Quantum Rotation Gate\n",
      "7. Collapse oracles\n",
      "8. Repeat 3-7 until generation (iteration) limit is reached\n",
      "\n",
      "### Initialize population of oracles\n",
      "The oracles are created in this step and all qubit coefficients are initialized with $\\frac{1}{\\sqrt{2}}$, so that the system will observe either state with equal probability.\n",
      "\n",
      "### Collapse oracles\n",
      "Collapsing the oracles implies making an observation of each qubit of each qubit string in each oracle. This is done by first choosing a coefficient to use (which is irrelevant), e.g. $\\alpha$. Then, we generate a random value $r$ between 0 and 1. If $\\alpha \\ge r$ then the system collapses to $[0]$, otherwise to $[1]$.\n",
      "\n",
      "### K-Means\n",
      "In this step we convert the binary representation of the qubit strings to base 10 and use them those values as initial centroids for K-Means. For each oracle, classical K-Means is then executed until it stabilizes or reaches the iteration limit. The solution centroids are returned to the oracles in binary representation.\n",
      "\n",
      "### Compute cluster fitness\n",
      "Cluster fitness is computed using the Davies-Bouldin index for each oracle. The score of each oracle is stored in the oracle itself.\n",
      "\n",
      "### Store\n",
      "The best scoring oracle is stored.\n",
      "\n",
      "### Quantum Rotation Gate\n",
      "So far, we've had classical K-Means with a complex random number generation for the centroids and complicated datastructures. This is the step that fundamentally differs from the classical version. In this step a quantum gate (in this case a rotation gate) is applied to all oracles except the best one. The basic idea is to shift the qubit coefficients of the least scoring oracles so they'll have a higher probability of collapsing into initial centroid values closer to the best solution so far. This way, in future generations, we'll not initiate with the best centroids so far (which will not converge further into a better solution) but we'll be closer while still ensuring diversity (which is also a desired property of the genetic computing paradigm). In conclusion, we want to look for better solutions than the one we got before in each oracle while moving in the direction of the best we found so far.\n",
      "\n",
      "In the original formulation of this algorithm two extra step existed to further increase diversity: quantum crossover and quantum mutation inversion. Both are part of the genetic algorithms toolbox, but were not implemented due to the suggestion from [1] that they are unnecessary steps with the careful choice of the rotatin angle."
     ]
    },
    {
     "cell_type": "heading",
     "level": 2,
     "metadata": {},
     "source": [
      "Import modules"
     ]
    },
    {
     "cell_type": "code",
     "collapsed": false,
     "input": [
      "%matplotlib inline\n",
      "import matplotlib.pyplot as plt\n",
      "from mpl_toolkits.mplot3d import axes3d\n",
      "\n",
      "import numpy as np\n",
      "import sys\n",
      "import os\n",
      "import pickle\n",
      "from datetime import datetime\n",
      "from sklearn.cluster import KMeans"
     ],
     "language": "python",
     "metadata": {},
     "outputs": [],
     "prompt_number": 1
    },
    {
     "cell_type": "markdown",
     "metadata": {},
     "source": [
      "This should be rerun every time the code changes."
     ]
    },
    {
     "cell_type": "code",
     "collapsed": false,
     "input": [
      "# add path for custom modules\n",
      "mypath=os.path.abspath('/home/chiroptera/workspace/thesis/quantum k-means/implementation')\n",
      "if not mypath in sys.path:\n",
      "    sys.path.insert(1, mypath)\n",
      "del mypath\n",
      "\n",
      "import oracle\n",
      "import qubitLib\n",
      "import DaviesBouldin\n",
      "\n",
      "reload(DaviesBouldin)\n",
      "reload(oracle)\n",
      "reload(qubitLib)"
     ],
     "language": "python",
     "metadata": {},
     "outputs": [
      {
       "metadata": {},
       "output_type": "pyout",
       "prompt_number": 245,
       "text": [
        "<module 'qubitLib' from 'qubitLib.pyc'>"
       ]
      }
     ],
     "prompt_number": 245
    },
    {
     "cell_type": "heading",
     "level": 2,
     "metadata": {},
     "source": [
      "Generate data"
     ]
    },
    {
     "cell_type": "markdown",
     "metadata": {},
     "source": [
      "To test the algorithm, a mixture of 4 Gaussian distribution is generated."
     ]
    },
    {
     "cell_type": "code",
     "collapsed": false,
     "input": [
      "class gaussMix:\n",
      "    def __init__(self,**kwargs):\n",
      "        if kwargs is None:\n",
      "            raise Exception('Some arguments must be supplied. dim=[dimension] \\\\\n",
      "                            or pack=[dictionary with a previously created package]')\n",
      "        else:\n",
      "            if 'dim' in kwargs:\n",
      "                self.dim=kwargs['dim']\n",
      "                self.idNum=0\n",
      "                self.gaussList=list()\n",
      "                self.cardinality=0\n",
      "\n",
      "            elif 'pack' in kwargs:\n",
      "                self.unpack(kwargs['pack'])\n",
      "            else:\n",
      "                raise Exception('dim=[dimension] or pack=[dictionary with a previously created package]')\n",
      "        \n",
      "    def unpack(self,pack):\n",
      "        self.dim=pack['dim']\n",
      "        self.gaussList=pack['all']\n",
      "        self.idNum=len(self.gaussList)\n",
      "        self.cardinality=pack['cardinality']\n",
      "        \n",
      "    def add(self,mean,variance,numPoints):\n",
      "        if len(mean)!=self.dim:\n",
      "            raise Exception(\"wrong dimension\")\n",
      "        \n",
      "        self.cardinality += numPoints\n",
      "        \n",
      "        g={'id':self.idNum,'mean':mean,'var':variance,\n",
      "           'card':numPoints,'dist':np.random.normal(mean,variance,(numPoints,self.dim))}\n",
      "        \"\"\"\n",
      "        if self.mixture== None:\n",
      "            self.mixture=g['dist']\n",
      "        else:\n",
      "            self.mixture=np.concatenate((self.mixture,g['dist']))\n",
      "        \"\"\"\n",
      "        self.gaussList.append(g)\n",
      "        self.updateWeights()\n",
      "        \n",
      "        self.idNum+=1\n",
      "        \n",
      "    def getMixture(self):\n",
      "        returnMix=[]\n",
      "        \n",
      "        for i,g in enumerate(self.gaussList):\n",
      "            returnMix.append(g['dist'])\n",
      "            \n",
      "        returnMix=np.concatenate(tuple(returnMix))\n",
      "        return returnMix\n",
      "        \n",
      "    def updateWeights(self):\n",
      "        for g in self.gaussList:\n",
      "            g['weight']=float(g['card'])/self.cardinality\n",
      "\n",
      "    def sample(self,numPoints):\n",
      "        returnMix=[]\n",
      "\n",
      "        if numPoints > self.cardinality:\n",
      "            return self.getMixture()\n",
      "       \n",
      "        for i,g in enumerate(self.gaussList):\n",
      "            num=int(numPoints*g['weight'])\n",
      "            returnMix.append(g['dist'][0:num,:])\n",
      "                \n",
      "        returnMix=np.concatenate(tuple(returnMix))\n",
      "        return returnMix\n",
      "    \n",
      "    def getWeights(self):\n",
      "        w=[0]*len(self.gaussList)\n",
      "        for i,g in enumerate(self.gaussList):\n",
      "            w[i]=g['weight']\n",
      "                   \n",
      "        return w\n",
      "    \n",
      "    def package(self):\n",
      "        pack=dict()\n",
      "\n",
      "        pack['all']=self.gaussList\n",
      "        pack['data']=self.getMixture()\n",
      "        pack['dim']=self.dim\n",
      "        pack['cardinality']=self.cardinality\n",
      "        \n",
      "        return pack\n",
      "    \n",
      "    def gaussAsList(self):\n",
      "        m=list()\n",
      "        for i,g in enumerate(self.gaussList):\n",
      "            m.append(g['dist'])\n",
      "        return m\n",
      "    \n",
      "    \"\"\"\n",
      "    # better function without redundacy\n",
      "    def package(self):\n",
      "        pack=dict()\n",
      "        \n",
      "        pack['all']=[None]*len(self.gaussList)\n",
      "            pack['all']\n",
      "        for i,g in enumerate(self.gaussList):\n",
      "            \n",
      "        pack['all']=self.gaussList\n",
      "        pack['data']=self.getMixture()\n",
      "        pack['dim']=self.dim\n",
      "        pack['cardinality']=self.cardinality\n",
      "        \n",
      "        return pack\n",
      "        \n",
      "        \"\"\""
     ],
     "language": "python",
     "metadata": {},
     "outputs": [],
     "prompt_number": 20
    },
    {
     "cell_type": "heading",
     "level": 2,
     "metadata": {},
     "source": [
      "Genetaring datasets"
     ]
    },
    {
     "cell_type": "markdown",
     "metadata": {},
     "source": [
      "#### bi36\n",
      "\n",
      "Bidimensional, cardinality with order of magnitude 3, 6 gaussians."
     ]
    },
    {
     "cell_type": "code",
     "collapsed": false,
     "input": [
      "name='bi36'\n",
      "m=gaussMix(dim=2)\n",
      "m.add((-5,3),[0.25,2],200)\n",
      "m.add((2,-2),(0.25,0.25),400)\n",
      "m.add((2,10),[0.75,0.25],300)\n",
      "m.add((-3,2),[0.3,0.3],300)\n",
      "m.add((3,7),[0.3,0.3],300)\n",
      "m.add((-2,7),[0.3,1],300)\n",
      "\n",
      "for i,g in enumerate(m.gaussAsList()):\n",
      "    plt.title(name)\n",
      "    plt.plot(g[:,0],g[:,1],'.')\n",
      "    \n",
      "plt.savefig(\"figure.png\") "
     ],
     "language": "python",
     "metadata": {},
     "outputs": [
      {
       "metadata": {},
       "output_type": "display_data",
       "png": "[encoded data removed]",
       "text": [
        "<matplotlib.figure.Figure at 0x7f68a6778990>"
       ]
      }
     ],
     "prompt_number": 24
    },
    {
     "cell_type": "code",
     "collapsed": false,
     "input": [
      "output = open(name+'.pkl', 'wb')\n",
      "\n",
      "pickle.dump(m.package(), output)\n",
      "output.close()\n",
      "\n",
      "!ls *pkl"
     ],
     "language": "python",
     "metadata": {},
     "outputs": [
      {
       "output_type": "stream",
       "stream": "stdout",
       "text": [
        "bi36.pkl  tri36.pkl\r\n"
       ]
      }
     ],
     "prompt_number": 253
    },
    {
     "cell_type": "markdown",
     "metadata": {},
     "source": [
      "#### bi56\n",
      "\n",
      "Bidimensional, cardinality with order of magnitude 5, 6 gaussians."
     ]
    },
    {
     "cell_type": "code",
     "collapsed": false,
     "input": [
      "name='bi46'\n",
      "m=gaussMix(2)\n",
      "m.add((-5,3),[0.25,2],200)\n",
      "m.add((2,-2),(0.25,0.25),400)\n",
      "m.add((2,10),[0.75,0.25],300)\n",
      "m.add((-3,2),[0.3,0.3],300)\n",
      "m.add((3,7),[0.3,0.3],300)\n",
      "m.add((-2,7),[0.3,1],300)\n",
      "s=m.getMixture()\n",
      "plt.title(name)\n",
      "plt.plot(s[:,0],s[:,1],'.')\n"
     ],
     "language": "python",
     "metadata": {},
     "outputs": [
      {
       "metadata": {},
       "output_type": "pyout",
       "prompt_number": 14,
       "text": [
        "[<matplotlib.lines.Line2D at 0x7f68a6905fd0>]"
       ]
      },
      {
       "metadata": {},
       "output_type": "display_data",
       "png": "[encoded data removed]",
       "text": [
        "<matplotlib.figure.Figure at 0x7f68a6900090>"
       ]
      }
     ],
     "prompt_number": 14
    },
    {
     "cell_type": "code",
     "collapsed": false,
     "input": [
      "cd workspace/QCThesis/QuantumGeneticKMeans/datasets/"
     ],
     "language": "python",
     "metadata": {},
     "outputs": [
      {
       "output_type": "stream",
       "stream": "stdout",
       "text": [
        "/home/chiroptera/workspace/QCThesis/QuantumGeneticKMeans/datasets\n"
       ]
      }
     ],
     "prompt_number": 5
    },
    {
     "cell_type": "code",
     "collapsed": false,
     "input": [
      "output = open(name+'.pkl', 'wb')\n",
      "\n",
      "pickle.dump(m.package(), output)\n",
      "output.close()\n",
      "\n",
      "!ls *pkl"
     ],
     "language": "python",
     "metadata": {},
     "outputs": [
      {
       "output_type": "stream",
       "stream": "stdout",
       "text": [
        "bi36_k.pkl\t bi36_qk.pkl  sex36_k.pkl\tsex36_qk.pkl  tri56.pkl\r\n",
        "bi36_params.pkl  bi46.pkl     sex36_params.pkl\tsex56.pkl\r\n",
        "bi36.pkl\t bi56.pkl     sex36.pkl\t\ttri36.pkl\r\n"
       ]
      }
     ],
     "prompt_number": 6
    },
    {
     "cell_type": "markdown",
     "metadata": {},
     "source": [
      "#### tri36\n",
      "\n",
      "Tridimensional, cardinality with order of magnitude 3, 6 gaussians."
     ]
    },
    {
     "cell_type": "code",
     "collapsed": false,
     "input": [
      "name='tri36'\n",
      "m=gaussMix(3)\n",
      "m.add((-5,3,3),[0.25,2,1],200)\n",
      "m.add((2,-2,4),(0.25,0.25,0.25),400)\n",
      "m.add((2,10,5),[0.75,0.25,0.5],300)\n",
      "m.add((-3,2,3),[0.3,0.3,0.3],300)\n",
      "m.add((3,7,4),[0.3,0.3,0.3],300)\n",
      "m.add((-2,7,5),[0.3,1,0.6],300)\n",
      "\n",
      "fig = plt.figure()\n",
      "ax = fig.gca(projection='3d')\n",
      "\n",
      "# plot points in 3D\n",
      "for i,g in enumerate(m.gaussList):\n",
      "    s=g['dist']\n",
      "    ax.plot(s[:,0],s[:,1],s[:,2],'.')\n",
      "    \n",
      "plt.title(name)\n",
      "#ax.view_init(elev=10., azim=45)"
     ],
     "language": "python",
     "metadata": {},
     "outputs": [
      {
       "metadata": {},
       "output_type": "pyout",
       "prompt_number": 271,
       "text": [
        "<matplotlib.text.Text at 0x7f10740510d0>"
       ]
      },
      {
       "metadata": {},
       "output_type": "display_data",
       "png": "[encoded data removed]",
       "text": [
        "<matplotlib.figure.Figure at 0x7f1072fc7910>"
       ]
      }
     ],
     "prompt_number": 271
    },
    {
     "cell_type": "code",
     "collapsed": false,
     "input": [
      "output = open(name+'.pkl', 'wb')\n",
      "\n",
      "pickle.dump(m.package(), output)\n",
      "output.close()\n",
      "\n",
      "!du -sh *pkl"
     ],
     "language": "python",
     "metadata": {},
     "outputs": [
      {
       "output_type": "stream",
       "stream": "stdout",
       "text": [
        "164K\tbi36.pkl\r\n",
        "16M\tbi56.pkl\r\n",
        "240K\ttri36.pkl\r\n",
        "24M\ttri56.pkl\r\n"
       ]
      }
     ],
     "prompt_number": 272
    },
    {
     "cell_type": "markdown",
     "metadata": {},
     "source": [
      "#### tri56\n",
      "\n",
      "Tridimensional, cardinality with order of magnitude 5, 6 gaussians."
     ]
    },
    {
     "cell_type": "code",
     "collapsed": false,
     "input": [
      "name='tri56'\n",
      "m=gaussMix(3)\n",
      "m.add((-5,3,3),[0.25,2,1],20000)\n",
      "m.add((2,-2,4),(0.25,0.25,0.25),40000)\n",
      "m.add((2,10,5),[0.75,0.25,0.5],30000)\n",
      "m.add((-3,2,3),[0.3,0.3,0.3],30000)\n",
      "m.add((3,7,4),[0.3,0.3,0.3],30000)\n",
      "m.add((-2,7,5),[0.3,1,0.6],30000)\n",
      "\n",
      "fig = plt.figure()\n",
      "ax = fig.gca(projection='3d')\n",
      "\n",
      "# plot points in 3D\n",
      "for i,g in enumerate(m.gaussList):\n",
      "    s=g['dist']\n",
      "    ax.plot(s[:,0],s[:,1],s[:,2],'.')\n",
      "    \n",
      "plt.title(name)\n",
      "#ax.view_init(elev=10., azim=45)"
     ],
     "language": "python",
     "metadata": {},
     "outputs": [
      {
       "metadata": {},
       "output_type": "pyout",
       "prompt_number": 269,
       "text": [
        "<matplotlib.text.Text at 0x7f1074140a90>"
       ]
      },
      {
       "metadata": {},
       "output_type": "display_data",
       "png": "[encoded data removed]",
       "text": [
        "<matplotlib.figure.Figure at 0x7f107419b790>"
       ]
      }
     ],
     "prompt_number": 269
    },
    {
     "cell_type": "code",
     "collapsed": false,
     "input": [
      "output = open(name+'.pkl', 'wb')\n",
      "\n",
      "pickle.dump(m.package(), output)\n",
      "output.close()\n",
      "\n",
      "!du -sh *pkl"
     ],
     "language": "python",
     "metadata": {},
     "outputs": [
      {
       "output_type": "stream",
       "stream": "stdout",
       "text": [
        "164K\tbi36.pkl\r\n",
        "16M\tbi56.pkl\r\n",
        "24M\ttri36.pkl\r\n",
        "24M\ttri56.pkl\r\n"
       ]
      }
     ],
     "prompt_number": 270
    },
    {
     "cell_type": "markdown",
     "metadata": {},
     "source": [
      "#### sex36\n",
      "\n",
      "Six-dimensional, cardinality with order of magnitude 3, 6 gaussians."
     ]
    },
    {
     "cell_type": "code",
     "collapsed": false,
     "input": [
      "name='sex46'\n",
      "m=gaussMix(6)\n",
      "m.add((-5,3,3,3,3,3),[0.25,2,1,0.25,0.25,1],2000)\n",
      "m.add((2,-2,4,4,4,4),(0.25,0.25,0.25,0.25,0.25,0.25),4000)\n",
      "m.add((2,10,5,5,5,5),[0.75,0.25,0.5,0.75,0.25,0.5],3000)\n",
      "m.add((-3,2,3,3,3,3),[0.3,0.3,0.3,0.3,0.3,0.3],3000)\n",
      "m.add((3,7,4,4,4,4),[0.3,0.3,0.3,0.3,0.3,0.3],3000)\n",
      "m.add((-2,7,5,5,5,5),[0.3,1,0.6,0.3,1,0.6],3000)\n",
      "\"\"\"\n",
      "fig = plt.figure()\n",
      "ax = fig.gca(projection='3d')\n",
      "\n",
      "# plot points in 3D\n",
      "for i,g in enumerate(m.gaussList):\n",
      "    s=g['dist']\n",
      "    ax.plot(s[:,0],s[:,1],s[:,2],'.')\n",
      "    \n",
      "plt.title(name)\"\"\"\n",
      "#ax.view_init(elev=10., azim=45)"
     ],
     "language": "python",
     "metadata": {},
     "outputs": [
      {
       "metadata": {},
       "output_type": "pyout",
       "prompt_number": 7,
       "text": [
        "\"\\nfig = plt.figure()\\nax = fig.gca(projection='3d')\\n\\n# plot points in 3D\\nfor i,g in enumerate(m.gaussList):\\n    s=g['dist']\\n    ax.plot(s[:,0],s[:,1],s[:,2],'.')\\n    \\nplt.title(name)\""
       ]
      }
     ],
     "prompt_number": 7
    },
    {
     "cell_type": "code",
     "collapsed": false,
     "input": [
      "output = open(name+'.pkl', 'wb')\n",
      "\n",
      "pickle.dump(m.package(), output)\n",
      "output.close()\n",
      "\n",
      "!du -sh *pkl"
     ],
     "language": "python",
     "metadata": {},
     "outputs": [
      {
       "output_type": "stream",
       "stream": "stdout",
       "text": [
        "164K\tbi36.pkl\r\n",
        "1,6M\tbi36_k.pkl\r\n",
        "4,0K\tbi36_params.pkl\r\n",
        "1,8M\tbi36_qk.pkl\r\n",
        "1,6M\tbi46.pkl\r\n",
        "16M\tbi56.pkl\r\n",
        "472K\tsex36.pkl\r\n",
        "4,7M\tsex36_k.pkl\r\n",
        "4,0K\tsex36_params.pkl\r\n",
        "4,8M\tsex36_qk.pkl\r\n",
        "4,6M\tsex46.pkl\r\n",
        "46M\tsex56.pkl\r\n",
        "240K\ttri36.pkl\r\n",
        "24M\ttri56.pkl\r\n"
       ]
      }
     ],
     "prompt_number": 8
    },
    {
     "cell_type": "markdown",
     "metadata": {},
     "source": [
      "#### sex36\n",
      "\n",
      "Six-dimensional, cardinality with order of magnitude 5, 6 gaussians."
     ]
    },
    {
     "cell_type": "code",
     "collapsed": false,
     "input": [
      "name='sex56'\n",
      "m=gaussMix(6)\n",
      "m.add((-5,3,3,3,3,3),[0.25,2,1,0.25,0.25,1],20000)\n",
      "m.add((2,-2,4,4,4,4),(0.25,0.25,0.25,0.25,0.25,0.25),40000)\n",
      "m.add((2,10,5,5,5,5),[0.75,0.25,0.5,0.75,0.25,0.5],30000)\n",
      "m.add((-3,2,3,3,3,3),[0.3,0.3,0.3,0.3,0.3,0.3],30000)\n",
      "m.add((3,7,4,4,4,4),[0.3,0.3,0.3,0.3,0.3,0.3],30000)\n",
      "m.add((-2,7,5,5,5,5),[0.3,1,0.6,0.3,1,0.6],30000)\n",
      "\"\"\"\n",
      "fig = plt.figure()\n",
      "ax = fig.gca(projection='3d')\n",
      "\n",
      "# plot points in 3D\n",
      "for i,g in enumerate(m.gaussList):\n",
      "    s=g['dist']\n",
      "    ax.plot(s[:,0],s[:,1],s[:,2],'.')\n",
      "    \n",
      "plt.title(name)\"\"\"\n",
      "#ax.view_init(elev=10., azim=45)"
     ],
     "language": "python",
     "metadata": {},
     "outputs": [
      {
       "metadata": {},
       "output_type": "pyout",
       "prompt_number": 276,
       "text": [
        "\"\\nfig = plt.figure()\\nax = fig.gca(projection='3d')\\n\\n# plot points in 3D\\nfor i,g in enumerate(m.gaussList):\\n    s=g['dist']\\n    ax.plot(s[:,0],s[:,1],s[:,2],'.')\\n    \\nplt.title(name)\""
       ]
      }
     ],
     "prompt_number": 276
    },
    {
     "cell_type": "code",
     "collapsed": false,
     "input": [
      "output = open(name+'.pkl', 'wb')\n",
      "\n",
      "pickle.dump(m.package(), output)\n",
      "output.close()\n",
      "\n",
      "!du -sh *pkl"
     ],
     "language": "python",
     "metadata": {},
     "outputs": [
      {
       "output_type": "stream",
       "stream": "stdout",
       "text": [
        "164K\tbi36.pkl\r\n",
        "16M\tbi56.pkl\r\n",
        "472K\tsex36.pkl\r\n",
        "46M\tsex56.pkl\r\n",
        "240K\ttri36.pkl\r\n",
        "24M\ttri56.pkl\r\n"
       ]
      }
     ],
     "prompt_number": 277
    },
    {
     "cell_type": "code",
     "collapsed": false,
     "input": [
      "200+400+300+300+300+300"
     ],
     "language": "python",
     "metadata": {},
     "outputs": [
      {
       "metadata": {},
       "output_type": "pyout",
       "prompt_number": 22,
       "text": [
        "1800"
       ]
      }
     ],
     "prompt_number": 22
    },
    {
     "cell_type": "code",
     "collapsed": false,
     "input": [
      "name='sex310'\n",
      "m=gaussMix(10)\n",
      "m.add((-5,3,3,3,3,3,3,3,3,3),0.6,200)\n",
      "m.add((2,-2,4,4,4,4,4,4,4,4),0.25,400)\n",
      "m.add((2,10,5,5,5,5,5,5,5,5),0.4,300)\n",
      "m.add((-3,2,3,3,3,3,3,3,3,3),0.3,300)\n",
      "m.add((3,7,4,4,4,4,4,4,4,4),0.3,300)\n",
      "m.add((-2,7,5,5,5,5,5,5,5,5),0.6,300)\n",
      "\"\"\"\n",
      "fig = plt.figure()\n",
      "ax = fig.gca(projection='3d')\n",
      "\n",
      "# plot points in 3D\n",
      "for i,g in enumerate(m.gaussList):\n",
      "    s=g['dist']\n",
      "    ax.plot(s[:,0],s[:,1],s[:,2],'.')\n",
      "    \n",
      "plt.title(name)\"\"\"\n",
      "#ax.view_init(elev=10., azim=45)"
     ],
     "language": "python",
     "metadata": {},
     "outputs": [
      {
       "metadata": {},
       "output_type": "pyout",
       "prompt_number": 12,
       "text": [
        "\"\\nfig = plt.figure()\\nax = fig.gca(projection='3d')\\n\\n# plot points in 3D\\nfor i,g in enumerate(m.gaussList):\\n    s=g['dist']\\n    ax.plot(s[:,0],s[:,1],s[:,2],'.')\\n    \\nplt.title(name)\""
       ]
      }
     ],
     "prompt_number": 12
    },
    {
     "cell_type": "code",
     "collapsed": false,
     "input": [
      "output = open(name+'.pkl', 'wb')\n",
      "\n",
      "pickle.dump(m.package(), output)\n",
      "output.close()\n",
      "\n",
      "!du -sh *pkl"
     ],
     "language": "python",
     "metadata": {},
     "outputs": [
      {
       "output_type": "stream",
       "stream": "stdout",
       "text": [
        "164K\tbi36.pkl\r\n",
        "1,6M\tbi36_k.pkl\r\n",
        "4,0K\tbi36_params.pkl\r\n",
        "1,8M\tbi36_qk.pkl\r\n",
        "1,6M\tbi46.pkl\r\n",
        "16M\tbi56.pkl\r\n",
        "784K\tsex310.pkl\r\n",
        "472K\tsex36.pkl\r\n",
        "4,7M\tsex36_k.pkl\r\n",
        "4,0K\tsex36_params.pkl\r\n",
        "4,8M\tsex36_qk.pkl\r\n",
        "7,7M\tsex410.pkl\r\n",
        "4,6M\tsex46.pkl\r\n",
        "46M\tsex56.pkl\r\n",
        "240K\ttri36.pkl\r\n",
        "24M\ttri56.pkl\r\n"
       ]
      }
     ],
     "prompt_number": 13
    },
    {
     "cell_type": "heading",
     "level": 2,
     "metadata": {},
     "source": [
      "End generate datasets"
     ]
    },
    {
     "cell_type": "code",
     "collapsed": false,
     "input": [
      "# generate gaussians\n",
      "numPoints=1000\n",
      "numGaussians=6\n",
      "pointsPerGaussian=int(numPoints/numGaussians)\n",
      "gMix=list()\n",
      "gMix.append(np.random.normal((-5,3),[0.25,2],(pointsPerGaussian,2)))\n",
      "gMix.append(np.random.normal((2,-2),[0.25,0.25],(pointsPerGaussian,2)))\n",
      "gMix.append(np.random.normal((2,10),[0.75,0.25],(pointsPerGaussian,2)))\n",
      "gMix.append(np.random.normal((-3,2),[0.3,0.3],(pointsPerGaussian,2)))\n",
      "gMix.append(np.random.normal((3,7),[0.3,0.3],(pointsPerGaussian,2)))\n",
      "gMix.append(np.random.normal((-2,7),[0.3,1],(pointsPerGaussian,2)))\n",
      "\n",
      "mixture=np.concatenate(tuple(gMix))\n",
      "\n",
      "# add outliers\n",
      "\n",
      "# plot data points\n",
      "for i in range(0,len(gMix)):\n",
      "    plt.plot(gMix[i][:,0],gMix[i][:,1],'.')"
     ],
     "language": "python",
     "metadata": {},
     "outputs": [
      {
       "metadata": {},
       "output_type": "display_data",
       "png": "[encoded data removed]",
       "text": [
        "<matplotlib.figure.Figure at 0x7f1075c34a90>"
       ]
      }
     ],
     "prompt_number": 100
    },
    {
     "cell_type": "code",
     "collapsed": false,
     "input": [
      "output = open('data.pkl', 'wb')\n",
      "\n",
      "pickle.dump(mixture, output)\n",
      "output.close()"
     ],
     "language": "python",
     "metadata": {},
     "outputs": [
      {
       "output_type": "stream",
       "stream": "stdout",
       "text": [
        "/home/chiroptera/workspace/QCThesis/QuantumGeneticKMeans\n"
       ]
      }
     ],
     "prompt_number": 77
    },
    {
     "cell_type": "code",
     "collapsed": false,
     "input": [],
     "language": "python",
     "metadata": {},
     "outputs": []
    },
    {
     "cell_type": "heading",
     "level": 2,
     "metadata": {},
     "source": [
      "Quantum Algorithm"
     ]
    },
    {
     "cell_type": "code",
     "collapsed": false,
     "input": [
      "## Initialization  step\n",
      "numClusters=15\n",
      "numOracles=5\n",
      "qubitStringLen=5\n",
      "qGenerations=100"
     ],
     "language": "python",
     "metadata": {},
     "outputs": [],
     "prompt_number": 7
    },
    {
     "cell_type": "code",
     "collapsed": false,
     "input": [
      "%load /home/chiroptera/workspace/QCThesis/QuantumGeneticKMeans/QK-Means.py"
     ],
     "language": "python",
     "metadata": {},
     "outputs": [],
     "prompt_number": 241
    },
    {
     "cell_type": "code",
     "collapsed": false,
     "input": [
      "# needs:\n",
      "#  - mixture\n",
      "#  - numOracles\n",
      "#  - numClusters\n",
      "#  - qubitStringLen\n",
      "#  - qGenerations\n",
      "#  - \n",
      "# returns:\n",
      "#  - qk_timings_cg\n",
      "#  - qk_centroids (centroids of oracles from last generation)\n",
      "#  - qk_assignment(assignment of oracles from last generation)\n",
      "#  - fitnessEvolution\n",
      "#  - qk_total\n",
      "#  - qk_genTimes\n",
      "#  - qk_assignedData\n",
      "def qk_means(mixture,numOracles,numClusters,qubitStringLen,qGenerations):\n",
      "    fitnessEvolution = np.zeros((qGenerations,numOracles+1))\n",
      "    \n",
      "    qk_timings_cg = list()\n",
      "    start = datetime.now()\n",
      "    \n",
      "    best = 0 #index of best oracle (starts at 0)\n",
      "    \n",
      "    oras = list()\n",
      "    qk_centroids = [0]*numOracles\n",
      "    qk_estimator = [0]*numOracles\n",
      "    qk_assignment = [0]*numOracles\n",
      "    \n",
      "    for i in range(0,numOracles):\n",
      "        oras.append(oracle.Oracle())\n",
      "        oras[i].initialization(numClusters*2,qubitStringLen)\n",
      "        oras[i].collapse()\n",
      "    \n",
      "    qk_timings_cg.append((datetime.now() - start).total_seconds())\n",
      "    start = datetime.now()\n",
      "    \n",
      "    for qGen_ in range(0,qGenerations):\n",
      "        ## Clustering step\n",
      "        for i,ora in enumerate(oras):\n",
      "            if qGen_ != 0 and i == best: # current best shouldn't be modified\n",
      "                continue \n",
      "            qk_centroids[i] = np.vstack(np.hsplit(ora.getIntArrays(),numClusters))\n",
      "            qk_estimator[i] = KMeans(n_clusters=numClusters,init=qk_centroids[i],n_init=1)\n",
      "            qk_assignment[i] = qk_estimator[i].fit_predict(mixture)\n",
      "            qk_centroids[i] = qk_estimator[i].cluster_centers_\n",
      "            ora.setIntArrays(np.concatenate(qk_centroids[i]))\n",
      "        \n",
      "        ## Compute fitness\n",
      "            score = DaviesBouldin.DaviesBouldin(mixture,qk_centroids[i],qk_assignment[i])\n",
      "            ora.score = score.eval()\n",
      "        \n",
      "        ## Store best from this generation\n",
      "        for i in range(1,numOracles):\n",
      "            if oras[i].score < oras[best].score:\n",
      "                best = i\n",
      "                \n",
      "        ## Quantum Rotation Gate \n",
      "        for i in range(0,numOracles):\n",
      "            if i == best:\n",
      "                continue\n",
      "            \n",
      "            oras[i].QuantumGateStep(oras[best])\n",
      "            \n",
      "        ## Collapse qubits\n",
      "            oras[i].collapse()\n",
      "            \n",
      "        qk_timings_cg.append((datetime.now() - start).total_seconds())\n",
      "    \n",
      "        for i in range(0,numOracles):\n",
      "            fitnessEvolution[qGen_,i]=oras[i].score\n",
      "            fitnessEvolution[qGen_,-1]=best\n",
      "        print '.', # simple \"progress bar\"\n",
      "        start = datetime.now()\n",
      "        \n",
      "    print 'Done!'\n",
      "    \n",
      "    return qk_centroids,qk_assignment,fitnessEvolution,qk_timings_cg\n",
      "#  - qk_timings_cg\n",
      "#  - qk_centroids (centroids of oracles from last generation)\n",
      "#  - qk_assignment(assignment of oracles from last generation)\n",
      "#  - fitnessEvolution\n",
      "#  - qk_total\n",
      "#  - qk_genTimes\n",
      "#  - qk_assignedData"
     ],
     "language": "python",
     "metadata": {},
     "outputs": [],
     "prompt_number": 8
    },
    {
     "cell_type": "code",
     "collapsed": false,
     "input": [
      "numRounds=5\n",
      "qk_results=list()\n",
      "for i in range(numRounds):\n",
      "    print 'round ',i\n",
      "    qk_centroids,qk_assignment,fitnessEvolution,qk_timings_cg=qk_means(mixture,numOracles,numClusters,qubitStringLen,qGenerations)\n",
      "    qk_results.append([qk_centroids,qk_assignment,fitnessEvolution,qk_timings_cg])"
     ],
     "language": "python",
     "metadata": {},
     "outputs": [
      {
       "output_type": "stream",
       "stream": "stdout",
       "text": [
        "round  0\n",
        "."
       ]
      },
      {
       "output_type": "stream",
       "stream": "stdout",
       "text": [
        " . "
       ]
      },
      {
       "output_type": "stream",
       "stream": "stdout",
       "text": [
        ". "
       ]
      },
      {
       "output_type": "stream",
       "stream": "stdout",
       "text": [
        ". "
       ]
      },
      {
       "output_type": "stream",
       "stream": "stdout",
       "text": [
        ". "
       ]
      },
      {
       "output_type": "stream",
       "stream": "stdout",
       "text": [
        ". "
       ]
      },
      {
       "output_type": "stream",
       "stream": "stdout",
       "text": [
        ". "
       ]
      },
      {
       "output_type": "stream",
       "stream": "stdout",
       "text": [
        ". "
       ]
      },
      {
       "output_type": "stream",
       "stream": "stdout",
       "text": [
        ". "
       ]
      },
      {
       "output_type": "stream",
       "stream": "stdout",
       "text": [
        ". "
       ]
      },
      {
       "output_type": "stream",
       "stream": "stdout",
       "text": [
        ". "
       ]
      },
      {
       "output_type": "stream",
       "stream": "stdout",
       "text": [
        ". "
       ]
      },
      {
       "output_type": "stream",
       "stream": "stdout",
       "text": [
        ". "
       ]
      },
      {
       "output_type": "stream",
       "stream": "stdout",
       "text": [
        ". "
       ]
      },
      {
       "output_type": "stream",
       "stream": "stdout",
       "text": [
        ". "
       ]
      },
      {
       "output_type": "stream",
       "stream": "stdout",
       "text": [
        ". "
       ]
      },
      {
       "output_type": "stream",
       "stream": "stdout",
       "text": [
        ". "
       ]
      },
      {
       "output_type": "stream",
       "stream": "stdout",
       "text": [
        ". "
       ]
      },
      {
       "output_type": "stream",
       "stream": "stdout",
       "text": [
        ". "
       ]
      },
      {
       "output_type": "stream",
       "stream": "stdout",
       "text": [
        ". "
       ]
      },
      {
       "output_type": "stream",
       "stream": "stdout",
       "text": [
        ". "
       ]
      },
      {
       "output_type": "stream",
       "stream": "stdout",
       "text": [
        ". "
       ]
      },
      {
       "output_type": "stream",
       "stream": "stdout",
       "text": [
        ". "
       ]
      },
      {
       "output_type": "stream",
       "stream": "stdout",
       "text": [
        ". "
       ]
      },
      {
       "output_type": "stream",
       "stream": "stdout",
       "text": [
        ". "
       ]
      },
      {
       "output_type": "stream",
       "stream": "stdout",
       "text": [
        ". "
       ]
      },
      {
       "output_type": "stream",
       "stream": "stdout",
       "text": [
        ". "
       ]
      },
      {
       "output_type": "stream",
       "stream": "stdout",
       "text": [
        ". "
       ]
      },
      {
       "output_type": "stream",
       "stream": "stdout",
       "text": [
        ". "
       ]
      },
      {
       "output_type": "stream",
       "stream": "stdout",
       "text": [
        ". "
       ]
      },
      {
       "output_type": "stream",
       "stream": "stdout",
       "text": [
        ". "
       ]
      },
      {
       "output_type": "stream",
       "stream": "stdout",
       "text": [
        ". "
       ]
      },
      {
       "output_type": "stream",
       "stream": "stdout",
       "text": [
        ". "
       ]
      },
      {
       "output_type": "stream",
       "stream": "stdout",
       "text": [
        ". "
       ]
      },
      {
       "output_type": "stream",
       "stream": "stdout",
       "text": [
        ". "
       ]
      },
      {
       "output_type": "stream",
       "stream": "stdout",
       "text": [
        ". "
       ]
      },
      {
       "output_type": "stream",
       "stream": "stdout",
       "text": [
        ". "
       ]
      },
      {
       "output_type": "stream",
       "stream": "stdout",
       "text": [
        ". "
       ]
      },
      {
       "output_type": "stream",
       "stream": "stdout",
       "text": [
        ". "
       ]
      },
      {
       "output_type": "stream",
       "stream": "stdout",
       "text": [
        ". "
       ]
      },
      {
       "output_type": "stream",
       "stream": "stdout",
       "text": [
        ". "
       ]
      },
      {
       "output_type": "stream",
       "stream": "stdout",
       "text": [
        ". "
       ]
      },
      {
       "output_type": "stream",
       "stream": "stdout",
       "text": [
        ". "
       ]
      },
      {
       "output_type": "stream",
       "stream": "stdout",
       "text": [
        ". "
       ]
      },
      {
       "output_type": "stream",
       "stream": "stdout",
       "text": [
        ". "
       ]
      },
      {
       "output_type": "stream",
       "stream": "stdout",
       "text": [
        ". "
       ]
      },
      {
       "output_type": "stream",
       "stream": "stdout",
       "text": [
        ". "
       ]
      },
      {
       "output_type": "stream",
       "stream": "stdout",
       "text": [
        ". "
       ]
      },
      {
       "output_type": "stream",
       "stream": "stdout",
       "text": [
        ". "
       ]
      },
      {
       "output_type": "stream",
       "stream": "stdout",
       "text": [
        ". "
       ]
      },
      {
       "output_type": "stream",
       "stream": "stdout",
       "text": [
        ". "
       ]
      },
      {
       "output_type": "stream",
       "stream": "stdout",
       "text": [
        ". "
       ]
      },
      {
       "output_type": "stream",
       "stream": "stdout",
       "text": [
        ". "
       ]
      },
      {
       "output_type": "stream",
       "stream": "stdout",
       "text": [
        ". "
       ]
      },
      {
       "output_type": "stream",
       "stream": "stdout",
       "text": [
        ". "
       ]
      },
      {
       "output_type": "stream",
       "stream": "stdout",
       "text": [
        ". "
       ]
      },
      {
       "output_type": "stream",
       "stream": "stdout",
       "text": [
        ". "
       ]
      },
      {
       "output_type": "stream",
       "stream": "stdout",
       "text": [
        ". "
       ]
      },
      {
       "output_type": "stream",
       "stream": "stdout",
       "text": [
        ". "
       ]
      },
      {
       "output_type": "stream",
       "stream": "stdout",
       "text": [
        ". "
       ]
      },
      {
       "output_type": "stream",
       "stream": "stdout",
       "text": [
        ". "
       ]
      },
      {
       "output_type": "stream",
       "stream": "stdout",
       "text": [
        ". "
       ]
      },
      {
       "output_type": "stream",
       "stream": "stdout",
       "text": [
        ". "
       ]
      },
      {
       "output_type": "stream",
       "stream": "stdout",
       "text": [
        ". "
       ]
      },
      {
       "output_type": "stream",
       "stream": "stdout",
       "text": [
        ". "
       ]
      },
      {
       "output_type": "stream",
       "stream": "stdout",
       "text": [
        ". "
       ]
      },
      {
       "output_type": "stream",
       "stream": "stdout",
       "text": [
        ". "
       ]
      },
      {
       "output_type": "stream",
       "stream": "stdout",
       "text": [
        ". "
       ]
      },
      {
       "output_type": "stream",
       "stream": "stdout",
       "text": [
        ". "
       ]
      },
      {
       "output_type": "stream",
       "stream": "stdout",
       "text": [
        ". "
       ]
      },
      {
       "output_type": "stream",
       "stream": "stdout",
       "text": [
        ". "
       ]
      },
      {
       "output_type": "stream",
       "stream": "stdout",
       "text": [
        ". "
       ]
      },
      {
       "output_type": "stream",
       "stream": "stdout",
       "text": [
        ". "
       ]
      },
      {
       "output_type": "stream",
       "stream": "stdout",
       "text": [
        ". "
       ]
      },
      {
       "output_type": "stream",
       "stream": "stdout",
       "text": [
        ". "
       ]
      },
      {
       "output_type": "stream",
       "stream": "stdout",
       "text": [
        ". "
       ]
      },
      {
       "output_type": "stream",
       "stream": "stdout",
       "text": [
        ". "
       ]
      },
      {
       "output_type": "stream",
       "stream": "stdout",
       "text": [
        ". "
       ]
      },
      {
       "output_type": "stream",
       "stream": "stdout",
       "text": [
        ". "
       ]
      },
      {
       "output_type": "stream",
       "stream": "stdout",
       "text": [
        ". "
       ]
      },
      {
       "output_type": "stream",
       "stream": "stdout",
       "text": [
        ". "
       ]
      },
      {
       "output_type": "stream",
       "stream": "stdout",
       "text": [
        ". "
       ]
      },
      {
       "output_type": "stream",
       "stream": "stdout",
       "text": [
        ". "
       ]
      },
      {
       "output_type": "stream",
       "stream": "stdout",
       "text": [
        ". "
       ]
      },
      {
       "output_type": "stream",
       "stream": "stdout",
       "text": [
        ". "
       ]
      },
      {
       "output_type": "stream",
       "stream": "stdout",
       "text": [
        ". "
       ]
      },
      {
       "output_type": "stream",
       "stream": "stdout",
       "text": [
        ". "
       ]
      },
      {
       "output_type": "stream",
       "stream": "stdout",
       "text": [
        ". "
       ]
      },
      {
       "output_type": "stream",
       "stream": "stdout",
       "text": [
        ". "
       ]
      },
      {
       "output_type": "stream",
       "stream": "stdout",
       "text": [
        ". "
       ]
      },
      {
       "output_type": "stream",
       "stream": "stdout",
       "text": [
        ". "
       ]
      },
      {
       "output_type": "stream",
       "stream": "stdout",
       "text": [
        ". "
       ]
      },
      {
       "output_type": "stream",
       "stream": "stdout",
       "text": [
        ". "
       ]
      },
      {
       "output_type": "stream",
       "stream": "stdout",
       "text": [
        ". "
       ]
      },
      {
       "output_type": "stream",
       "stream": "stdout",
       "text": [
        ". "
       ]
      },
      {
       "output_type": "stream",
       "stream": "stdout",
       "text": [
        ". "
       ]
      },
      {
       "output_type": "stream",
       "stream": "stdout",
       "text": [
        ". "
       ]
      },
      {
       "output_type": "stream",
       "stream": "stdout",
       "text": [
        ". "
       ]
      },
      {
       "output_type": "stream",
       "stream": "stdout",
       "text": [
        ". "
       ]
      },
      {
       "output_type": "stream",
       "stream": "stdout",
       "text": [
        ". Done!\n",
        "round  1\n",
        "."
       ]
      },
      {
       "output_type": "stream",
       "stream": "stdout",
       "text": [
        " . "
       ]
      },
      {
       "output_type": "stream",
       "stream": "stdout",
       "text": [
        ". "
       ]
      },
      {
       "output_type": "stream",
       "stream": "stdout",
       "text": [
        ". "
       ]
      },
      {
       "output_type": "stream",
       "stream": "stdout",
       "text": [
        ". "
       ]
      },
      {
       "output_type": "stream",
       "stream": "stdout",
       "text": [
        ". "
       ]
      },
      {
       "output_type": "stream",
       "stream": "stdout",
       "text": [
        ". "
       ]
      },
      {
       "output_type": "stream",
       "stream": "stdout",
       "text": [
        ". "
       ]
      },
      {
       "output_type": "stream",
       "stream": "stdout",
       "text": [
        ". "
       ]
      },
      {
       "output_type": "stream",
       "stream": "stdout",
       "text": [
        ". "
       ]
      },
      {
       "output_type": "stream",
       "stream": "stdout",
       "text": [
        ". "
       ]
      },
      {
       "output_type": "stream",
       "stream": "stdout",
       "text": [
        ". "
       ]
      },
      {
       "output_type": "stream",
       "stream": "stdout",
       "text": [
        ". "
       ]
      },
      {
       "output_type": "stream",
       "stream": "stdout",
       "text": [
        ". "
       ]
      },
      {
       "output_type": "stream",
       "stream": "stdout",
       "text": [
        ". "
       ]
      },
      {
       "output_type": "stream",
       "stream": "stdout",
       "text": [
        ". "
       ]
      },
      {
       "output_type": "stream",
       "stream": "stdout",
       "text": [
        ". "
       ]
      },
      {
       "output_type": "stream",
       "stream": "stdout",
       "text": [
        ". "
       ]
      },
      {
       "output_type": "stream",
       "stream": "stdout",
       "text": [
        ". "
       ]
      },
      {
       "output_type": "stream",
       "stream": "stdout",
       "text": [
        ". "
       ]
      },
      {
       "output_type": "stream",
       "stream": "stdout",
       "text": [
        ". "
       ]
      },
      {
       "output_type": "stream",
       "stream": "stdout",
       "text": [
        ". "
       ]
      },
      {
       "output_type": "stream",
       "stream": "stdout",
       "text": [
        ". "
       ]
      },
      {
       "output_type": "stream",
       "stream": "stdout",
       "text": [
        ". "
       ]
      },
      {
       "output_type": "stream",
       "stream": "stdout",
       "text": [
        ". "
       ]
      },
      {
       "output_type": "stream",
       "stream": "stdout",
       "text": [
        ". "
       ]
      },
      {
       "output_type": "stream",
       "stream": "stdout",
       "text": [
        ". "
       ]
      },
      {
       "output_type": "stream",
       "stream": "stdout",
       "text": [
        ". "
       ]
      },
      {
       "output_type": "stream",
       "stream": "stdout",
       "text": [
        ". "
       ]
      },
      {
       "output_type": "stream",
       "stream": "stdout",
       "text": [
        ". "
       ]
      },
      {
       "output_type": "stream",
       "stream": "stdout",
       "text": [
        ". "
       ]
      },
      {
       "output_type": "stream",
       "stream": "stdout",
       "text": [
        ". "
       ]
      },
      {
       "output_type": "stream",
       "stream": "stdout",
       "text": [
        ". "
       ]
      },
      {
       "output_type": "stream",
       "stream": "stdout",
       "text": [
        ". "
       ]
      },
      {
       "output_type": "stream",
       "stream": "stdout",
       "text": [
        ". "
       ]
      },
      {
       "output_type": "stream",
       "stream": "stdout",
       "text": [
        ". "
       ]
      },
      {
       "output_type": "stream",
       "stream": "stdout",
       "text": [
        ". "
       ]
      },
      {
       "output_type": "stream",
       "stream": "stdout",
       "text": [
        ". "
       ]
      },
      {
       "output_type": "stream",
       "stream": "stdout",
       "text": [
        ". "
       ]
      },
      {
       "output_type": "stream",
       "stream": "stdout",
       "text": [
        ". "
       ]
      },
      {
       "output_type": "stream",
       "stream": "stdout",
       "text": [
        ". "
       ]
      },
      {
       "output_type": "stream",
       "stream": "stdout",
       "text": [
        ". "
       ]
      },
      {
       "output_type": "stream",
       "stream": "stdout",
       "text": [
        ". "
       ]
      },
      {
       "output_type": "stream",
       "stream": "stdout",
       "text": [
        ". "
       ]
      },
      {
       "output_type": "stream",
       "stream": "stdout",
       "text": [
        ". "
       ]
      },
      {
       "output_type": "stream",
       "stream": "stdout",
       "text": [
        ". "
       ]
      },
      {
       "output_type": "stream",
       "stream": "stdout",
       "text": [
        ". "
       ]
      },
      {
       "output_type": "stream",
       "stream": "stdout",
       "text": [
        ". "
       ]
      },
      {
       "output_type": "stream",
       "stream": "stdout",
       "text": [
        ". "
       ]
      },
      {
       "output_type": "stream",
       "stream": "stdout",
       "text": [
        ". "
       ]
      },
      {
       "output_type": "stream",
       "stream": "stdout",
       "text": [
        ". "
       ]
      },
      {
       "output_type": "stream",
       "stream": "stdout",
       "text": [
        ". "
       ]
      },
      {
       "output_type": "stream",
       "stream": "stdout",
       "text": [
        ". "
       ]
      },
      {
       "output_type": "stream",
       "stream": "stdout",
       "text": [
        ". "
       ]
      },
      {
       "output_type": "stream",
       "stream": "stdout",
       "text": [
        ". "
       ]
      },
      {
       "output_type": "stream",
       "stream": "stdout",
       "text": [
        ". "
       ]
      },
      {
       "output_type": "stream",
       "stream": "stdout",
       "text": [
        ". "
       ]
      },
      {
       "output_type": "stream",
       "stream": "stdout",
       "text": [
        ". "
       ]
      },
      {
       "output_type": "stream",
       "stream": "stdout",
       "text": [
        ". "
       ]
      },
      {
       "output_type": "stream",
       "stream": "stdout",
       "text": [
        ". "
       ]
      },
      {
       "output_type": "stream",
       "stream": "stdout",
       "text": [
        ". "
       ]
      },
      {
       "output_type": "stream",
       "stream": "stdout",
       "text": [
        ". "
       ]
      },
      {
       "output_type": "stream",
       "stream": "stdout",
       "text": [
        ". "
       ]
      },
      {
       "output_type": "stream",
       "stream": "stdout",
       "text": [
        ". "
       ]
      },
      {
       "output_type": "stream",
       "stream": "stdout",
       "text": [
        ". "
       ]
      },
      {
       "output_type": "stream",
       "stream": "stdout",
       "text": [
        ". "
       ]
      },
      {
       "output_type": "stream",
       "stream": "stdout",
       "text": [
        ". "
       ]
      },
      {
       "output_type": "stream",
       "stream": "stdout",
       "text": [
        ". "
       ]
      },
      {
       "output_type": "stream",
       "stream": "stdout",
       "text": [
        ". "
       ]
      },
      {
       "output_type": "stream",
       "stream": "stdout",
       "text": [
        ". "
       ]
      },
      {
       "output_type": "stream",
       "stream": "stdout",
       "text": [
        ". "
       ]
      },
      {
       "output_type": "stream",
       "stream": "stdout",
       "text": [
        ". "
       ]
      },
      {
       "output_type": "stream",
       "stream": "stdout",
       "text": [
        ". "
       ]
      },
      {
       "output_type": "stream",
       "stream": "stdout",
       "text": [
        ". "
       ]
      },
      {
       "output_type": "stream",
       "stream": "stdout",
       "text": [
        ". "
       ]
      },
      {
       "output_type": "stream",
       "stream": "stdout",
       "text": [
        ". "
       ]
      },
      {
       "output_type": "stream",
       "stream": "stdout",
       "text": [
        ". "
       ]
      },
      {
       "output_type": "stream",
       "stream": "stdout",
       "text": [
        ". "
       ]
      },
      {
       "output_type": "stream",
       "stream": "stdout",
       "text": [
        ". "
       ]
      },
      {
       "output_type": "stream",
       "stream": "stdout",
       "text": [
        ". "
       ]
      },
      {
       "output_type": "stream",
       "stream": "stdout",
       "text": [
        ". "
       ]
      },
      {
       "output_type": "stream",
       "stream": "stdout",
       "text": [
        ". "
       ]
      },
      {
       "output_type": "stream",
       "stream": "stdout",
       "text": [
        ". "
       ]
      },
      {
       "output_type": "stream",
       "stream": "stdout",
       "text": [
        ". "
       ]
      },
      {
       "output_type": "stream",
       "stream": "stdout",
       "text": [
        ". "
       ]
      },
      {
       "output_type": "stream",
       "stream": "stdout",
       "text": [
        ". "
       ]
      },
      {
       "output_type": "stream",
       "stream": "stdout",
       "text": [
        ". "
       ]
      },
      {
       "output_type": "stream",
       "stream": "stdout",
       "text": [
        ". "
       ]
      },
      {
       "output_type": "stream",
       "stream": "stdout",
       "text": [
        ". "
       ]
      },
      {
       "output_type": "stream",
       "stream": "stdout",
       "text": [
        ". "
       ]
      },
      {
       "output_type": "stream",
       "stream": "stdout",
       "text": [
        ". "
       ]
      },
      {
       "output_type": "stream",
       "stream": "stdout",
       "text": [
        ". "
       ]
      },
      {
       "output_type": "stream",
       "stream": "stdout",
       "text": [
        ". "
       ]
      },
      {
       "output_type": "stream",
       "stream": "stdout",
       "text": [
        ". "
       ]
      },
      {
       "output_type": "stream",
       "stream": "stdout",
       "text": [
        ". "
       ]
      },
      {
       "output_type": "stream",
       "stream": "stdout",
       "text": [
        ". "
       ]
      },
      {
       "output_type": "stream",
       "stream": "stdout",
       "text": [
        ". "
       ]
      },
      {
       "output_type": "stream",
       "stream": "stdout",
       "text": [
        ". "
       ]
      },
      {
       "output_type": "stream",
       "stream": "stdout",
       "text": [
        ". "
       ]
      },
      {
       "output_type": "stream",
       "stream": "stdout",
       "text": [
        ". Done!\n",
        "round  2\n",
        "."
       ]
      },
      {
       "output_type": "stream",
       "stream": "stdout",
       "text": [
        " . "
       ]
      },
      {
       "output_type": "stream",
       "stream": "stdout",
       "text": [
        ". "
       ]
      },
      {
       "output_type": "stream",
       "stream": "stdout",
       "text": [
        ". "
       ]
      },
      {
       "output_type": "stream",
       "stream": "stdout",
       "text": [
        ". "
       ]
      },
      {
       "output_type": "stream",
       "stream": "stdout",
       "text": [
        ". "
       ]
      },
      {
       "output_type": "stream",
       "stream": "stdout",
       "text": [
        ". "
       ]
      },
      {
       "output_type": "stream",
       "stream": "stdout",
       "text": [
        ". "
       ]
      },
      {
       "output_type": "stream",
       "stream": "stdout",
       "text": [
        ". "
       ]
      },
      {
       "output_type": "stream",
       "stream": "stdout",
       "text": [
        ". "
       ]
      },
      {
       "output_type": "stream",
       "stream": "stdout",
       "text": [
        ". "
       ]
      },
      {
       "output_type": "stream",
       "stream": "stdout",
       "text": [
        ". "
       ]
      },
      {
       "output_type": "stream",
       "stream": "stdout",
       "text": [
        ". "
       ]
      },
      {
       "output_type": "stream",
       "stream": "stdout",
       "text": [
        ". "
       ]
      },
      {
       "output_type": "stream",
       "stream": "stdout",
       "text": [
        ". "
       ]
      },
      {
       "output_type": "stream",
       "stream": "stdout",
       "text": [
        ". "
       ]
      },
      {
       "output_type": "stream",
       "stream": "stdout",
       "text": [
        ". "
       ]
      },
      {
       "output_type": "stream",
       "stream": "stdout",
       "text": [
        ". "
       ]
      },
      {
       "output_type": "stream",
       "stream": "stdout",
       "text": [
        ". "
       ]
      },
      {
       "output_type": "stream",
       "stream": "stdout",
       "text": [
        ". "
       ]
      },
      {
       "output_type": "stream",
       "stream": "stdout",
       "text": [
        ". "
       ]
      },
      {
       "output_type": "stream",
       "stream": "stdout",
       "text": [
        ". "
       ]
      },
      {
       "output_type": "stream",
       "stream": "stdout",
       "text": [
        ". "
       ]
      },
      {
       "output_type": "stream",
       "stream": "stdout",
       "text": [
        ". "
       ]
      },
      {
       "output_type": "stream",
       "stream": "stdout",
       "text": [
        ". "
       ]
      },
      {
       "output_type": "stream",
       "stream": "stdout",
       "text": [
        ". "
       ]
      },
      {
       "output_type": "stream",
       "stream": "stdout",
       "text": [
        ". "
       ]
      },
      {
       "output_type": "stream",
       "stream": "stdout",
       "text": [
        ". "
       ]
      },
      {
       "output_type": "stream",
       "stream": "stdout",
       "text": [
        ". "
       ]
      },
      {
       "output_type": "stream",
       "stream": "stdout",
       "text": [
        ". "
       ]
      },
      {
       "output_type": "stream",
       "stream": "stdout",
       "text": [
        ". "
       ]
      },
      {
       "output_type": "stream",
       "stream": "stdout",
       "text": [
        ". "
       ]
      },
      {
       "output_type": "stream",
       "stream": "stdout",
       "text": [
        ". "
       ]
      },
      {
       "output_type": "stream",
       "stream": "stdout",
       "text": [
        ". "
       ]
      },
      {
       "output_type": "stream",
       "stream": "stdout",
       "text": [
        ". "
       ]
      },
      {
       "output_type": "stream",
       "stream": "stdout",
       "text": [
        ". "
       ]
      },
      {
       "output_type": "stream",
       "stream": "stdout",
       "text": [
        ". "
       ]
      },
      {
       "output_type": "stream",
       "stream": "stdout",
       "text": [
        ". "
       ]
      },
      {
       "output_type": "stream",
       "stream": "stdout",
       "text": [
        ". "
       ]
      },
      {
       "output_type": "stream",
       "stream": "stdout",
       "text": [
        ". "
       ]
      },
      {
       "output_type": "stream",
       "stream": "stdout",
       "text": [
        ". "
       ]
      },
      {
       "output_type": "stream",
       "stream": "stdout",
       "text": [
        ". "
       ]
      },
      {
       "output_type": "stream",
       "stream": "stdout",
       "text": [
        ". "
       ]
      },
      {
       "output_type": "stream",
       "stream": "stdout",
       "text": [
        ". "
       ]
      },
      {
       "output_type": "stream",
       "stream": "stdout",
       "text": [
        ". "
       ]
      },
      {
       "output_type": "stream",
       "stream": "stdout",
       "text": [
        ". "
       ]
      },
      {
       "output_type": "stream",
       "stream": "stdout",
       "text": [
        ". "
       ]
      },
      {
       "output_type": "stream",
       "stream": "stdout",
       "text": [
        ". "
       ]
      },
      {
       "output_type": "stream",
       "stream": "stdout",
       "text": [
        ". "
       ]
      },
      {
       "output_type": "stream",
       "stream": "stdout",
       "text": [
        ". "
       ]
      },
      {
       "output_type": "stream",
       "stream": "stdout",
       "text": [
        ". "
       ]
      },
      {
       "output_type": "stream",
       "stream": "stdout",
       "text": [
        ". "
       ]
      },
      {
       "output_type": "stream",
       "stream": "stdout",
       "text": [
        ". "
       ]
      },
      {
       "output_type": "stream",
       "stream": "stdout",
       "text": [
        ". "
       ]
      },
      {
       "output_type": "stream",
       "stream": "stdout",
       "text": [
        ". "
       ]
      },
      {
       "output_type": "stream",
       "stream": "stdout",
       "text": [
        ". "
       ]
      },
      {
       "output_type": "stream",
       "stream": "stdout",
       "text": [
        ". "
       ]
      },
      {
       "output_type": "stream",
       "stream": "stdout",
       "text": [
        ". "
       ]
      },
      {
       "output_type": "stream",
       "stream": "stdout",
       "text": [
        ". "
       ]
      },
      {
       "output_type": "stream",
       "stream": "stdout",
       "text": [
        ". "
       ]
      },
      {
       "output_type": "stream",
       "stream": "stdout",
       "text": [
        ". "
       ]
      },
      {
       "output_type": "stream",
       "stream": "stdout",
       "text": [
        ". "
       ]
      },
      {
       "output_type": "stream",
       "stream": "stdout",
       "text": [
        ". "
       ]
      },
      {
       "output_type": "stream",
       "stream": "stdout",
       "text": [
        ". "
       ]
      },
      {
       "output_type": "stream",
       "stream": "stdout",
       "text": [
        ". "
       ]
      },
      {
       "output_type": "stream",
       "stream": "stdout",
       "text": [
        ". "
       ]
      },
      {
       "output_type": "stream",
       "stream": "stdout",
       "text": [
        ". "
       ]
      },
      {
       "output_type": "stream",
       "stream": "stdout",
       "text": [
        ". "
       ]
      },
      {
       "output_type": "stream",
       "stream": "stdout",
       "text": [
        ". "
       ]
      },
      {
       "output_type": "stream",
       "stream": "stdout",
       "text": [
        ". "
       ]
      },
      {
       "output_type": "stream",
       "stream": "stdout",
       "text": [
        ". "
       ]
      },
      {
       "output_type": "stream",
       "stream": "stdout",
       "text": [
        ". "
       ]
      },
      {
       "output_type": "stream",
       "stream": "stdout",
       "text": [
        ". "
       ]
      },
      {
       "output_type": "stream",
       "stream": "stdout",
       "text": [
        ". "
       ]
      },
      {
       "output_type": "stream",
       "stream": "stdout",
       "text": [
        ". "
       ]
      },
      {
       "output_type": "stream",
       "stream": "stdout",
       "text": [
        ". "
       ]
      },
      {
       "output_type": "stream",
       "stream": "stdout",
       "text": [
        ". "
       ]
      },
      {
       "output_type": "stream",
       "stream": "stdout",
       "text": [
        ". "
       ]
      },
      {
       "output_type": "stream",
       "stream": "stdout",
       "text": [
        ". "
       ]
      },
      {
       "output_type": "stream",
       "stream": "stdout",
       "text": [
        ". "
       ]
      },
      {
       "output_type": "stream",
       "stream": "stdout",
       "text": [
        ". "
       ]
      },
      {
       "output_type": "stream",
       "stream": "stdout",
       "text": [
        ". "
       ]
      },
      {
       "output_type": "stream",
       "stream": "stdout",
       "text": [
        ". "
       ]
      },
      {
       "output_type": "stream",
       "stream": "stdout",
       "text": [
        ". "
       ]
      },
      {
       "output_type": "stream",
       "stream": "stdout",
       "text": [
        ". "
       ]
      },
      {
       "output_type": "stream",
       "stream": "stdout",
       "text": [
        ". "
       ]
      },
      {
       "output_type": "stream",
       "stream": "stdout",
       "text": [
        ". "
       ]
      },
      {
       "output_type": "stream",
       "stream": "stdout",
       "text": [
        ". "
       ]
      },
      {
       "output_type": "stream",
       "stream": "stdout",
       "text": [
        ". "
       ]
      },
      {
       "output_type": "stream",
       "stream": "stdout",
       "text": [
        ". "
       ]
      },
      {
       "output_type": "stream",
       "stream": "stdout",
       "text": [
        ". "
       ]
      },
      {
       "output_type": "stream",
       "stream": "stdout",
       "text": [
        ". "
       ]
      },
      {
       "output_type": "stream",
       "stream": "stdout",
       "text": [
        ". "
       ]
      },
      {
       "output_type": "stream",
       "stream": "stdout",
       "text": [
        ". "
       ]
      },
      {
       "output_type": "stream",
       "stream": "stdout",
       "text": [
        ". "
       ]
      },
      {
       "output_type": "stream",
       "stream": "stdout",
       "text": [
        ". "
       ]
      },
      {
       "output_type": "stream",
       "stream": "stdout",
       "text": [
        ". "
       ]
      },
      {
       "output_type": "stream",
       "stream": "stdout",
       "text": [
        ". "
       ]
      },
      {
       "output_type": "stream",
       "stream": "stdout",
       "text": [
        ". "
       ]
      },
      {
       "output_type": "stream",
       "stream": "stdout",
       "text": [
        ". Done!\n",
        "round  3\n",
        "."
       ]
      },
      {
       "output_type": "stream",
       "stream": "stdout",
       "text": [
        " . "
       ]
      },
      {
       "output_type": "stream",
       "stream": "stdout",
       "text": [
        ". "
       ]
      },
      {
       "output_type": "stream",
       "stream": "stdout",
       "text": [
        ". "
       ]
      },
      {
       "output_type": "stream",
       "stream": "stdout",
       "text": [
        ". "
       ]
      },
      {
       "output_type": "stream",
       "stream": "stdout",
       "text": [
        ". "
       ]
      },
      {
       "output_type": "stream",
       "stream": "stdout",
       "text": [
        ". "
       ]
      },
      {
       "output_type": "stream",
       "stream": "stdout",
       "text": [
        ". "
       ]
      },
      {
       "output_type": "stream",
       "stream": "stdout",
       "text": [
        ". "
       ]
      },
      {
       "output_type": "stream",
       "stream": "stdout",
       "text": [
        ". "
       ]
      },
      {
       "output_type": "stream",
       "stream": "stdout",
       "text": [
        ". "
       ]
      },
      {
       "output_type": "stream",
       "stream": "stdout",
       "text": [
        ". "
       ]
      },
      {
       "output_type": "stream",
       "stream": "stdout",
       "text": [
        ". "
       ]
      },
      {
       "output_type": "stream",
       "stream": "stdout",
       "text": [
        ". "
       ]
      },
      {
       "output_type": "stream",
       "stream": "stdout",
       "text": [
        ". "
       ]
      },
      {
       "output_type": "stream",
       "stream": "stdout",
       "text": [
        ". "
       ]
      },
      {
       "output_type": "stream",
       "stream": "stdout",
       "text": [
        ". "
       ]
      },
      {
       "output_type": "stream",
       "stream": "stdout",
       "text": [
        ". "
       ]
      },
      {
       "output_type": "stream",
       "stream": "stdout",
       "text": [
        ". "
       ]
      },
      {
       "output_type": "stream",
       "stream": "stdout",
       "text": [
        ". "
       ]
      },
      {
       "output_type": "stream",
       "stream": "stdout",
       "text": [
        ". "
       ]
      },
      {
       "output_type": "stream",
       "stream": "stdout",
       "text": [
        ". "
       ]
      },
      {
       "output_type": "stream",
       "stream": "stdout",
       "text": [
        ". "
       ]
      },
      {
       "output_type": "stream",
       "stream": "stdout",
       "text": [
        ". "
       ]
      },
      {
       "output_type": "stream",
       "stream": "stdout",
       "text": [
        ". "
       ]
      },
      {
       "output_type": "stream",
       "stream": "stdout",
       "text": [
        ". "
       ]
      },
      {
       "output_type": "stream",
       "stream": "stdout",
       "text": [
        ". "
       ]
      },
      {
       "output_type": "stream",
       "stream": "stdout",
       "text": [
        ". "
       ]
      },
      {
       "output_type": "stream",
       "stream": "stdout",
       "text": [
        ". "
       ]
      },
      {
       "output_type": "stream",
       "stream": "stdout",
       "text": [
        ". "
       ]
      },
      {
       "output_type": "stream",
       "stream": "stdout",
       "text": [
        ". "
       ]
      },
      {
       "output_type": "stream",
       "stream": "stdout",
       "text": [
        ". "
       ]
      },
      {
       "output_type": "stream",
       "stream": "stdout",
       "text": [
        ". "
       ]
      },
      {
       "output_type": "stream",
       "stream": "stdout",
       "text": [
        ". "
       ]
      },
      {
       "output_type": "stream",
       "stream": "stdout",
       "text": [
        ". "
       ]
      },
      {
       "output_type": "stream",
       "stream": "stdout",
       "text": [
        ". "
       ]
      },
      {
       "output_type": "stream",
       "stream": "stdout",
       "text": [
        ". "
       ]
      },
      {
       "output_type": "stream",
       "stream": "stdout",
       "text": [
        ". "
       ]
      },
      {
       "output_type": "stream",
       "stream": "stdout",
       "text": [
        ". "
       ]
      },
      {
       "output_type": "stream",
       "stream": "stdout",
       "text": [
        ". "
       ]
      },
      {
       "output_type": "stream",
       "stream": "stdout",
       "text": [
        ". "
       ]
      },
      {
       "output_type": "stream",
       "stream": "stdout",
       "text": [
        ". "
       ]
      },
      {
       "output_type": "stream",
       "stream": "stdout",
       "text": [
        ". "
       ]
      },
      {
       "output_type": "stream",
       "stream": "stdout",
       "text": [
        ". "
       ]
      },
      {
       "output_type": "stream",
       "stream": "stdout",
       "text": [
        ". "
       ]
      },
      {
       "output_type": "stream",
       "stream": "stdout",
       "text": [
        ". "
       ]
      },
      {
       "output_type": "stream",
       "stream": "stdout",
       "text": [
        ". "
       ]
      },
      {
       "output_type": "stream",
       "stream": "stdout",
       "text": [
        ". "
       ]
      },
      {
       "output_type": "stream",
       "stream": "stdout",
       "text": [
        ". "
       ]
      },
      {
       "output_type": "stream",
       "stream": "stdout",
       "text": [
        ". "
       ]
      },
      {
       "output_type": "stream",
       "stream": "stdout",
       "text": [
        ". "
       ]
      },
      {
       "output_type": "stream",
       "stream": "stdout",
       "text": [
        ". "
       ]
      },
      {
       "output_type": "stream",
       "stream": "stdout",
       "text": [
        ". "
       ]
      },
      {
       "output_type": "stream",
       "stream": "stdout",
       "text": [
        ". "
       ]
      },
      {
       "output_type": "stream",
       "stream": "stdout",
       "text": [
        ". "
       ]
      },
      {
       "output_type": "stream",
       "stream": "stdout",
       "text": [
        ". "
       ]
      },
      {
       "output_type": "stream",
       "stream": "stdout",
       "text": [
        ". "
       ]
      },
      {
       "output_type": "stream",
       "stream": "stdout",
       "text": [
        ". "
       ]
      },
      {
       "output_type": "stream",
       "stream": "stdout",
       "text": [
        ". "
       ]
      },
      {
       "output_type": "stream",
       "stream": "stdout",
       "text": [
        ". "
       ]
      },
      {
       "output_type": "stream",
       "stream": "stdout",
       "text": [
        ". "
       ]
      },
      {
       "output_type": "stream",
       "stream": "stdout",
       "text": [
        ". "
       ]
      },
      {
       "output_type": "stream",
       "stream": "stdout",
       "text": [
        ". "
       ]
      },
      {
       "output_type": "stream",
       "stream": "stdout",
       "text": [
        ". "
       ]
      },
      {
       "output_type": "stream",
       "stream": "stdout",
       "text": [
        ". "
       ]
      },
      {
       "output_type": "stream",
       "stream": "stdout",
       "text": [
        ". "
       ]
      },
      {
       "output_type": "stream",
       "stream": "stdout",
       "text": [
        ". "
       ]
      },
      {
       "output_type": "stream",
       "stream": "stdout",
       "text": [
        ". "
       ]
      },
      {
       "output_type": "stream",
       "stream": "stdout",
       "text": [
        ". "
       ]
      },
      {
       "output_type": "stream",
       "stream": "stdout",
       "text": [
        ". "
       ]
      },
      {
       "output_type": "stream",
       "stream": "stdout",
       "text": [
        ". "
       ]
      },
      {
       "output_type": "stream",
       "stream": "stdout",
       "text": [
        ". "
       ]
      },
      {
       "output_type": "stream",
       "stream": "stdout",
       "text": [
        ". "
       ]
      },
      {
       "output_type": "stream",
       "stream": "stdout",
       "text": [
        ". "
       ]
      },
      {
       "output_type": "stream",
       "stream": "stdout",
       "text": [
        ". "
       ]
      },
      {
       "output_type": "stream",
       "stream": "stdout",
       "text": [
        ". "
       ]
      },
      {
       "output_type": "stream",
       "stream": "stdout",
       "text": [
        ". "
       ]
      },
      {
       "output_type": "stream",
       "stream": "stdout",
       "text": [
        ". "
       ]
      },
      {
       "output_type": "stream",
       "stream": "stdout",
       "text": [
        ". "
       ]
      },
      {
       "output_type": "stream",
       "stream": "stdout",
       "text": [
        ". "
       ]
      },
      {
       "output_type": "stream",
       "stream": "stdout",
       "text": [
        ". "
       ]
      },
      {
       "output_type": "stream",
       "stream": "stdout",
       "text": [
        ". "
       ]
      },
      {
       "output_type": "stream",
       "stream": "stdout",
       "text": [
        ". "
       ]
      },
      {
       "output_type": "stream",
       "stream": "stdout",
       "text": [
        ". "
       ]
      },
      {
       "output_type": "stream",
       "stream": "stdout",
       "text": [
        ". "
       ]
      },
      {
       "output_type": "stream",
       "stream": "stdout",
       "text": [
        ". "
       ]
      },
      {
       "output_type": "stream",
       "stream": "stdout",
       "text": [
        ". "
       ]
      },
      {
       "output_type": "stream",
       "stream": "stdout",
       "text": [
        ". "
       ]
      },
      {
       "output_type": "stream",
       "stream": "stdout",
       "text": [
        ". "
       ]
      },
      {
       "output_type": "stream",
       "stream": "stdout",
       "text": [
        ". "
       ]
      },
      {
       "output_type": "stream",
       "stream": "stdout",
       "text": [
        ". "
       ]
      },
      {
       "output_type": "stream",
       "stream": "stdout",
       "text": [
        ". "
       ]
      },
      {
       "output_type": "stream",
       "stream": "stdout",
       "text": [
        ". "
       ]
      },
      {
       "output_type": "stream",
       "stream": "stdout",
       "text": [
        ". "
       ]
      },
      {
       "output_type": "stream",
       "stream": "stdout",
       "text": [
        ". "
       ]
      },
      {
       "output_type": "stream",
       "stream": "stdout",
       "text": [
        ". "
       ]
      },
      {
       "output_type": "stream",
       "stream": "stdout",
       "text": [
        ". "
       ]
      },
      {
       "output_type": "stream",
       "stream": "stdout",
       "text": [
        ". "
       ]
      },
      {
       "output_type": "stream",
       "stream": "stdout",
       "text": [
        ". "
       ]
      },
      {
       "output_type": "stream",
       "stream": "stdout",
       "text": [
        ". Done!\n",
        "round  4\n",
        "."
       ]
      },
      {
       "output_type": "stream",
       "stream": "stdout",
       "text": [
        " . "
       ]
      },
      {
       "output_type": "stream",
       "stream": "stdout",
       "text": [
        ". "
       ]
      },
      {
       "output_type": "stream",
       "stream": "stdout",
       "text": [
        ". "
       ]
      },
      {
       "output_type": "stream",
       "stream": "stdout",
       "text": [
        ". "
       ]
      },
      {
       "output_type": "stream",
       "stream": "stdout",
       "text": [
        ". "
       ]
      },
      {
       "output_type": "stream",
       "stream": "stdout",
       "text": [
        ". "
       ]
      },
      {
       "output_type": "stream",
       "stream": "stdout",
       "text": [
        ". "
       ]
      },
      {
       "output_type": "stream",
       "stream": "stdout",
       "text": [
        ". "
       ]
      },
      {
       "output_type": "stream",
       "stream": "stdout",
       "text": [
        ". "
       ]
      },
      {
       "output_type": "stream",
       "stream": "stdout",
       "text": [
        ". "
       ]
      },
      {
       "output_type": "stream",
       "stream": "stdout",
       "text": [
        ". "
       ]
      },
      {
       "output_type": "stream",
       "stream": "stdout",
       "text": [
        ". "
       ]
      },
      {
       "output_type": "stream",
       "stream": "stdout",
       "text": [
        ". "
       ]
      },
      {
       "output_type": "stream",
       "stream": "stdout",
       "text": [
        ". "
       ]
      },
      {
       "output_type": "stream",
       "stream": "stdout",
       "text": [
        ". "
       ]
      },
      {
       "output_type": "stream",
       "stream": "stdout",
       "text": [
        ". "
       ]
      },
      {
       "output_type": "stream",
       "stream": "stdout",
       "text": [
        ". "
       ]
      },
      {
       "output_type": "stream",
       "stream": "stdout",
       "text": [
        ". "
       ]
      },
      {
       "output_type": "stream",
       "stream": "stdout",
       "text": [
        ". "
       ]
      },
      {
       "output_type": "stream",
       "stream": "stdout",
       "text": [
        ". "
       ]
      },
      {
       "output_type": "stream",
       "stream": "stdout",
       "text": [
        ". "
       ]
      },
      {
       "output_type": "stream",
       "stream": "stdout",
       "text": [
        ". "
       ]
      },
      {
       "output_type": "stream",
       "stream": "stdout",
       "text": [
        ". "
       ]
      },
      {
       "output_type": "stream",
       "stream": "stdout",
       "text": [
        ". "
       ]
      },
      {
       "output_type": "stream",
       "stream": "stdout",
       "text": [
        ". "
       ]
      },
      {
       "output_type": "stream",
       "stream": "stdout",
       "text": [
        ". "
       ]
      },
      {
       "output_type": "stream",
       "stream": "stdout",
       "text": [
        ". "
       ]
      },
      {
       "output_type": "stream",
       "stream": "stdout",
       "text": [
        ". "
       ]
      },
      {
       "output_type": "stream",
       "stream": "stdout",
       "text": [
        ". "
       ]
      },
      {
       "output_type": "stream",
       "stream": "stdout",
       "text": [
        ". "
       ]
      },
      {
       "output_type": "stream",
       "stream": "stdout",
       "text": [
        ". "
       ]
      },
      {
       "output_type": "stream",
       "stream": "stdout",
       "text": [
        ". "
       ]
      },
      {
       "output_type": "stream",
       "stream": "stdout",
       "text": [
        ". "
       ]
      },
      {
       "output_type": "stream",
       "stream": "stdout",
       "text": [
        ". "
       ]
      },
      {
       "output_type": "stream",
       "stream": "stdout",
       "text": [
        ". "
       ]
      },
      {
       "output_type": "stream",
       "stream": "stdout",
       "text": [
        ". "
       ]
      },
      {
       "output_type": "stream",
       "stream": "stdout",
       "text": [
        ". "
       ]
      },
      {
       "output_type": "stream",
       "stream": "stdout",
       "text": [
        ". "
       ]
      },
      {
       "output_type": "stream",
       "stream": "stdout",
       "text": [
        ". "
       ]
      },
      {
       "output_type": "stream",
       "stream": "stdout",
       "text": [
        ". "
       ]
      },
      {
       "output_type": "stream",
       "stream": "stdout",
       "text": [
        ". "
       ]
      },
      {
       "output_type": "stream",
       "stream": "stdout",
       "text": [
        ". "
       ]
      },
      {
       "output_type": "stream",
       "stream": "stdout",
       "text": [
        ". "
       ]
      },
      {
       "output_type": "stream",
       "stream": "stdout",
       "text": [
        ". "
       ]
      },
      {
       "output_type": "stream",
       "stream": "stdout",
       "text": [
        ". "
       ]
      },
      {
       "output_type": "stream",
       "stream": "stdout",
       "text": [
        ". "
       ]
      },
      {
       "output_type": "stream",
       "stream": "stdout",
       "text": [
        ". "
       ]
      },
      {
       "output_type": "stream",
       "stream": "stdout",
       "text": [
        ". "
       ]
      },
      {
       "output_type": "stream",
       "stream": "stdout",
       "text": [
        ". "
       ]
      },
      {
       "output_type": "stream",
       "stream": "stdout",
       "text": [
        ". "
       ]
      },
      {
       "output_type": "stream",
       "stream": "stdout",
       "text": [
        ". "
       ]
      },
      {
       "output_type": "stream",
       "stream": "stdout",
       "text": [
        ". "
       ]
      },
      {
       "output_type": "stream",
       "stream": "stdout",
       "text": [
        ". "
       ]
      },
      {
       "output_type": "stream",
       "stream": "stdout",
       "text": [
        ". "
       ]
      },
      {
       "output_type": "stream",
       "stream": "stdout",
       "text": [
        ". "
       ]
      },
      {
       "output_type": "stream",
       "stream": "stdout",
       "text": [
        ". "
       ]
      },
      {
       "output_type": "stream",
       "stream": "stdout",
       "text": [
        ". "
       ]
      },
      {
       "output_type": "stream",
       "stream": "stdout",
       "text": [
        ". "
       ]
      },
      {
       "output_type": "stream",
       "stream": "stdout",
       "text": [
        ". "
       ]
      },
      {
       "output_type": "stream",
       "stream": "stdout",
       "text": [
        ". "
       ]
      },
      {
       "output_type": "stream",
       "stream": "stdout",
       "text": [
        ". "
       ]
      },
      {
       "output_type": "stream",
       "stream": "stdout",
       "text": [
        ". "
       ]
      },
      {
       "output_type": "stream",
       "stream": "stdout",
       "text": [
        ". "
       ]
      },
      {
       "output_type": "stream",
       "stream": "stdout",
       "text": [
        ". "
       ]
      },
      {
       "output_type": "stream",
       "stream": "stdout",
       "text": [
        ". "
       ]
      },
      {
       "output_type": "stream",
       "stream": "stdout",
       "text": [
        ". "
       ]
      },
      {
       "output_type": "stream",
       "stream": "stdout",
       "text": [
        ". "
       ]
      },
      {
       "output_type": "stream",
       "stream": "stdout",
       "text": [
        ". "
       ]
      },
      {
       "output_type": "stream",
       "stream": "stdout",
       "text": [
        ". "
       ]
      },
      {
       "output_type": "stream",
       "stream": "stdout",
       "text": [
        ". "
       ]
      },
      {
       "output_type": "stream",
       "stream": "stdout",
       "text": [
        ". "
       ]
      },
      {
       "output_type": "stream",
       "stream": "stdout",
       "text": [
        ". "
       ]
      },
      {
       "output_type": "stream",
       "stream": "stdout",
       "text": [
        ". "
       ]
      },
      {
       "output_type": "stream",
       "stream": "stdout",
       "text": [
        ". "
       ]
      },
      {
       "output_type": "stream",
       "stream": "stdout",
       "text": [
        ". "
       ]
      },
      {
       "output_type": "stream",
       "stream": "stdout",
       "text": [
        ". "
       ]
      },
      {
       "output_type": "stream",
       "stream": "stdout",
       "text": [
        ". "
       ]
      },
      {
       "output_type": "stream",
       "stream": "stdout",
       "text": [
        ". "
       ]
      },
      {
       "output_type": "stream",
       "stream": "stdout",
       "text": [
        ". "
       ]
      },
      {
       "output_type": "stream",
       "stream": "stdout",
       "text": [
        ". "
       ]
      },
      {
       "output_type": "stream",
       "stream": "stdout",
       "text": [
        ". "
       ]
      },
      {
       "output_type": "stream",
       "stream": "stdout",
       "text": [
        ". "
       ]
      },
      {
       "output_type": "stream",
       "stream": "stdout",
       "text": [
        ". "
       ]
      },
      {
       "output_type": "stream",
       "stream": "stdout",
       "text": [
        ". "
       ]
      },
      {
       "output_type": "stream",
       "stream": "stdout",
       "text": [
        ". "
       ]
      },
      {
       "output_type": "stream",
       "stream": "stdout",
       "text": [
        ". "
       ]
      },
      {
       "output_type": "stream",
       "stream": "stdout",
       "text": [
        ". "
       ]
      },
      {
       "output_type": "stream",
       "stream": "stdout",
       "text": [
        ". "
       ]
      },
      {
       "output_type": "stream",
       "stream": "stdout",
       "text": [
        ". "
       ]
      },
      {
       "output_type": "stream",
       "stream": "stdout",
       "text": [
        ". "
       ]
      },
      {
       "output_type": "stream",
       "stream": "stdout",
       "text": [
        ". "
       ]
      },
      {
       "output_type": "stream",
       "stream": "stdout",
       "text": [
        ". "
       ]
      },
      {
       "output_type": "stream",
       "stream": "stdout",
       "text": [
        ". "
       ]
      },
      {
       "output_type": "stream",
       "stream": "stdout",
       "text": [
        ". "
       ]
      },
      {
       "output_type": "stream",
       "stream": "stdout",
       "text": [
        ". "
       ]
      },
      {
       "output_type": "stream",
       "stream": "stdout",
       "text": [
        ". "
       ]
      },
      {
       "output_type": "stream",
       "stream": "stdout",
       "text": [
        ". "
       ]
      },
      {
       "output_type": "stream",
       "stream": "stdout",
       "text": [
        ". "
       ]
      },
      {
       "output_type": "stream",
       "stream": "stdout",
       "text": [
        ". Done!\n"
       ]
      }
     ],
     "prompt_number": 9
    },
    {
     "cell_type": "markdown",
     "metadata": {},
     "source": [
      "Organize data in dictionary."
     ]
    },
    {
     "cell_type": "code",
     "collapsed": false,
     "input": [
      "qk_rounds=dict()\n",
      "qk_rounds['centroids']=list()\n",
      "qk_rounds['assignment']=list()\n",
      "qk_rounds['fitness']=list()\n",
      "qk_rounds['times']=list()\n",
      "\n",
      "for i in range(numRounds):\n",
      "    qk_rounds['centroids'].append(qk_results[i][0])\n",
      "    qk_rounds['assignment'].append(qk_results[i][1])\n",
      "    qk_rounds['fitness'].append(qk_results[i][2])\n",
      "    qk_rounds['times'].append(qk_results[i][3])\n",
      "    \n",
      "print 'Done!'"
     ],
     "language": "python",
     "metadata": {},
     "outputs": [
      {
       "output_type": "stream",
       "stream": "stdout",
       "text": [
        "Done!\n"
       ]
      }
     ],
     "prompt_number": 10
    },
    {
     "cell_type": "code",
     "collapsed": false,
     "input": [
      "len(qk_rounds['centroids'][0]),type(qk_rounds['centroids'][0])"
     ],
     "language": "python",
     "metadata": {},
     "outputs": [
      {
       "metadata": {},
       "output_type": "pyout",
       "prompt_number": 71,
       "text": [
        "(5, list)"
       ]
      }
     ],
     "prompt_number": 71
    },
    {
     "cell_type": "markdown",
     "metadata": {},
     "source": [
      "Assign points to clusters."
     ]
    },
    {
     "cell_type": "code",
     "collapsed": false,
     "input": [
      "qk_rounds['assignedData']=list() #assigned data for the best solution in each round\n",
      "\n",
      "for i in range(numRounds):\n",
      "    # assign clusters to data\n",
      "    best=int(qk_rounds['fitness'][i][-1,-1])\n",
      "    qk_assignment=qk_rounds['assignment'][i]\n",
      "    \n",
      "    qk_assignedData = [None]*numClusters\n",
      "    for i,j in enumerate(qk_assignment[best]):\n",
      "        if qk_assignedData[j] != None:\n",
      "            qk_assignedData[j] = np.vstack((qk_assignedData[j],mixture[i]))\n",
      "        else:\n",
      "            qk_assignedData[j] = mixture[i]\n",
      "    \n",
      "    qk_rounds['assignedData'].append(qk_assignedData)\n",
      "    \n",
      "print 'Done!'"
     ],
     "language": "python",
     "metadata": {},
     "outputs": [
      {
       "output_type": "stream",
       "stream": "stdout",
       "text": [
        "Done!\n"
       ]
      }
     ],
     "prompt_number": 12
    },
    {
     "cell_type": "code",
     "collapsed": false,
     "input": [
      "qk_rounds['assignedData'][0]"
     ],
     "language": "python",
     "metadata": {},
     "outputs": [
      {
       "metadata": {},
       "output_type": "pyout",
       "prompt_number": 67,
       "text": [
        "[array([[-2.81844067,  2.04388705],\n",
        "       [-3.47245889,  2.03520442],\n",
        "       [-2.55025048,  2.22325261],\n",
        "       [-3.13337199,  1.31342035],\n",
        "       [-3.21986356,  2.108664  ],\n",
        "       [-3.17934404,  1.9791999 ],\n",
        "       [-3.58053078,  1.99544435],\n",
        "       [-3.56222564,  2.39310111],\n",
        "       [-2.96841403,  1.94929658],\n",
        "       [-2.85475116,  1.97013862],\n",
        "       [-2.51571827,  1.65281783],\n",
        "       [-2.31088815,  1.59751511],\n",
        "       [-2.56787069,  2.005329  ],\n",
        "       [-2.35943764,  2.16084927],\n",
        "       [-2.91066039,  2.07297591],\n",
        "       [-2.70256397,  1.92951459],\n",
        "       [-3.14055209,  1.76980544],\n",
        "       [-3.22671813,  1.90827485],\n",
        "       [-3.30116133,  2.27413584],\n",
        "       [-3.14495889,  1.79469924],\n",
        "       [-2.53883426,  1.97937212],\n",
        "       [-2.67509913,  2.31515326],\n",
        "       [-3.2159128 ,  2.02939127],\n",
        "       [-2.54010794,  2.09783929],\n",
        "       [-3.58712181,  1.79704942],\n",
        "       [-2.73371426,  2.11254948],\n",
        "       [-2.94369471,  2.12891159],\n",
        "       [-2.9666015 ,  1.93497853],\n",
        "       [-2.85813906,  2.17027856],\n",
        "       [-2.72886013,  2.38663958],\n",
        "       [-2.71172757,  2.2618372 ],\n",
        "       [-2.84180167,  2.07595954],\n",
        "       [-2.90200636,  1.84093061]]),\n",
        " array([[ 1.80599869, -1.97854574],\n",
        "       [ 2.26977418, -1.9981279 ],\n",
        "       [ 1.83938192, -2.3668606 ],\n",
        "       [ 1.91903827, -2.45916003],\n",
        "       [ 2.1139499 , -2.12803706],\n",
        "       [ 1.77019371, -2.1532512 ],\n",
        "       [ 1.64384335, -1.63781922],\n",
        "       [ 1.86913919, -2.00822076],\n",
        "       [ 2.52624114, -1.81440902],\n",
        "       [ 2.14613762, -2.15451971],\n",
        "       [ 2.03076633, -1.83792586],\n",
        "       [ 1.74205124, -2.40973226],\n",
        "       [ 2.28912571, -1.96019455],\n",
        "       [ 2.07079299, -2.23545124],\n",
        "       [ 2.16062544, -2.59320126],\n",
        "       [ 2.5371791 , -2.18016623],\n",
        "       [ 2.12455777, -2.2719215 ],\n",
        "       [ 2.06378593, -2.13736807],\n",
        "       [ 1.60914741, -1.81927943],\n",
        "       [ 2.10982045, -1.94449056],\n",
        "       [ 1.93247763, -1.47793567],\n",
        "       [ 1.73366444, -2.15059708],\n",
        "       [ 1.80305615, -1.67695941],\n",
        "       [ 2.2378356 , -2.01001569],\n",
        "       [ 1.9056484 , -2.36253329],\n",
        "       [ 1.96001684, -2.11702957],\n",
        "       [ 2.01187404, -1.96750466],\n",
        "       [ 1.77807163, -2.16814919],\n",
        "       [ 1.90571608, -2.19283456],\n",
        "       [ 2.25183411, -1.59905975],\n",
        "       [ 1.6638006 , -1.85424192],\n",
        "       [ 2.22738762, -1.98533213],\n",
        "       [ 2.06436143, -1.77647238]]),\n",
        " array([-4.98626636, -1.89088356]),\n",
        " array([-4.786391  , -1.28143804]),\n",
        " array([-5.35266205,  0.77689589]),\n",
        " array([-5.07099833,  0.49279954]),\n",
        " array([-4.79500649,  0.178925  ]),\n",
        " array([[-2.03939773,  7.14555792],\n",
        "       [-2.04516803,  7.41250095],\n",
        "       [-2.00989028,  6.99245851],\n",
        "       [-2.15000764,  7.27013382],\n",
        "       [-1.60992514,  4.98810434],\n",
        "       [-2.13517934,  6.09479421],\n",
        "       [-1.7133824 ,  5.90660021],\n",
        "       [-1.83420013,  8.41380829],\n",
        "       [-1.95836298,  7.02755084],\n",
        "       [-1.51806331,  7.32512589],\n",
        "       [-2.22020752,  7.70891907],\n",
        "       [-2.0464847 ,  7.92708097],\n",
        "       [-1.86709163,  7.07750016],\n",
        "       [-1.76884218,  6.45329896],\n",
        "       [-1.83866966,  7.94374372],\n",
        "       [-2.08176506,  6.39050685],\n",
        "       [-1.84344352,  6.26432028],\n",
        "       [-2.33777777,  7.83362974],\n",
        "       [-1.65079476,  6.21876307],\n",
        "       [-1.79689792,  8.55378705],\n",
        "       [-1.97250394,  7.60289793],\n",
        "       [-1.62921441,  5.7073938 ],\n",
        "       [-2.28827001,  4.72750525],\n",
        "       [-1.51781975,  5.67309127],\n",
        "       [-1.61151318,  6.54558852],\n",
        "       [-1.73429593,  6.29415346],\n",
        "       [-2.27421551,  7.19660075],\n",
        "       [-2.24084089,  7.6045606 ],\n",
        "       [-2.29499495,  7.00661758],\n",
        "       [-1.94657533,  7.09857624],\n",
        "       [-1.96397555,  8.66004631],\n",
        "       [-2.33536095,  8.66065374],\n",
        "       [-2.5636781 ,  7.15256652]]),\n",
        " array([-5.10190488,  0.94444428]),\n",
        " array([[  1.61173467,   9.95000258],\n",
        "       [  1.80272473,  10.17155543],\n",
        "       [  2.75922404,   9.82252372],\n",
        "       [  2.3139734 ,   9.74584861],\n",
        "       [  1.59741116,   9.58322703],\n",
        "       [  1.5942076 ,  10.47434604],\n",
        "       [  2.18467774,   9.81124373],\n",
        "       [  2.52380824,  10.02977778],\n",
        "       [  2.17961369,   9.81859972],\n",
        "       [  2.08271347,   9.88393859],\n",
        "       [  2.39295858,  10.21920769],\n",
        "       [  2.40887823,   9.57553507],\n",
        "       [  1.12672866,  10.44684941],\n",
        "       [  1.84158272,  10.33341832],\n",
        "       [  2.64883964,  10.07750906],\n",
        "       [  2.28470621,  10.13549784],\n",
        "       [  0.01627554,  10.2481508 ],\n",
        "       [  3.12158256,   9.97084907],\n",
        "       [  1.21922788,   9.97190406],\n",
        "       [  3.07103531,  10.4704329 ],\n",
        "       [  3.04343441,  10.1000064 ],\n",
        "       [  2.98294705,   9.99884389],\n",
        "       [  0.4947887 ,  10.08214329],\n",
        "       [  1.01783161,   9.87552869],\n",
        "       [  3.20400656,  10.47465276],\n",
        "       [  0.68885269,  10.05567721],\n",
        "       [  3.45276484,  10.22594419],\n",
        "       [  0.76107326,   9.83723146],\n",
        "       [  2.97696155,   9.95116191],\n",
        "       [  3.15047094,   9.65119827],\n",
        "       [  0.60688   ,   9.82376979],\n",
        "       [  1.20836697,  10.00736694],\n",
        "       [  1.13194967,   9.75365396]]),\n",
        " array([[-4.83570808,  2.29719545],\n",
        "       [-4.90612646,  2.12002173],\n",
        "       [-4.72860391,  2.04206386],\n",
        "       [-5.27840819,  1.82161285],\n",
        "       [-5.08401073,  2.0419549 ],\n",
        "       [-5.07549237,  2.41112785],\n",
        "       [-5.34833973,  2.3797585 ],\n",
        "       [-4.87101441,  2.05138828],\n",
        "       [-4.77950279,  2.39399703],\n",
        "       [-5.28731442,  2.25034938]]),\n",
        " array([-4.8583785 ,  1.14855069]),\n",
        " array([[ 3.09741317,  6.99660849],\n",
        "       [ 2.9788277 ,  6.68831087],\n",
        "       [ 2.74910068,  6.58855149],\n",
        "       [ 3.02702051,  6.89963032],\n",
        "       [ 3.55020319,  7.15701474],\n",
        "       [ 2.59218553,  6.96901588],\n",
        "       [ 2.71455305,  7.01311029],\n",
        "       [ 3.15809783,  6.3467808 ],\n",
        "       [ 2.84089602,  6.89733235],\n",
        "       [ 2.95231798,  6.74725147],\n",
        "       [ 3.10971471,  7.15688205],\n",
        "       [ 3.53845282,  7.50570034],\n",
        "       [ 3.35535574,  6.94440068],\n",
        "       [ 2.71463423,  7.23509205],\n",
        "       [ 2.72580882,  7.18817978],\n",
        "       [ 3.52611653,  7.05729893],\n",
        "       [ 3.11292329,  6.90333824],\n",
        "       [ 3.0245853 ,  7.33470118],\n",
        "       [ 3.23177301,  7.11685977],\n",
        "       [ 3.07749271,  6.8955104 ],\n",
        "       [ 3.15926284,  7.40245338],\n",
        "       [ 3.65853419,  6.95601606],\n",
        "       [ 2.92550594,  7.15599989],\n",
        "       [ 3.11705076,  7.06556082],\n",
        "       [ 2.74783644,  6.95333989],\n",
        "       [ 2.7034372 ,  7.23173858],\n",
        "       [ 3.00732531,  6.7380642 ],\n",
        "       [ 3.29325151,  7.41437819],\n",
        "       [ 3.49797518,  6.909729  ],\n",
        "       [ 3.09591001,  6.72645969],\n",
        "       [ 3.00896909,  6.41479346],\n",
        "       [ 3.3682527 ,  6.59713443],\n",
        "       [ 3.4032807 ,  7.28270365]]),\n",
        " array([[-4.64433996,  5.27142362],\n",
        "       [-5.34634873,  4.89349189],\n",
        "       [-5.18540189,  6.38705495],\n",
        "       [-5.31460217,  5.32238062],\n",
        "       [-5.30185408,  7.15571745],\n",
        "       [-4.54760461,  6.00854048],\n",
        "       [-4.96428059,  4.85107797]]),\n",
        " array([[-4.8842357 ,  3.62849661],\n",
        "       [-4.59304761,  2.93016854],\n",
        "       [-4.99435211,  3.60462994],\n",
        "       [-5.019574  ,  3.85115844],\n",
        "       [-4.82434246,  2.87429971],\n",
        "       [-5.06589621,  3.9640957 ],\n",
        "       [-4.80680415,  3.3164272 ],\n",
        "       [-4.94313435,  3.83922991],\n",
        "       [-4.77991258,  3.0603488 ]])]"
       ]
      }
     ],
     "prompt_number": 67
    },
    {
     "cell_type": "markdown",
     "metadata": {},
     "source": [
      "#### Computational time\n",
      "Compute total time for each round, mean, variance, worst, best for all rounds."
     ]
    },
    {
     "cell_type": "code",
     "collapsed": false,
     "input": [
      "qk_rounds['total time'] = list()\n",
      "\n",
      "for i in range(numRounds):\n",
      "    qk_times=qk_rounds['times'][i]\n",
      "    qk_total = np.sum(np.array(qk_times))\n",
      "    qk_rounds['total time'].append(qk_total)\n",
      "\n",
      "qk_time_mean = np.mean(np.array(qk_rounds['total time']))\n",
      "qk_time_var = np.var(np.array(qk_rounds['total time']))\n",
      "qk_time_best = np.min(np.array(qk_rounds['total time']))\n",
      "qk_time_worst = np.max(np.array(qk_rounds['total time']))\n",
      "\n",
      "print 'Total execution times'\n",
      "print 'mean\\t\\tvariance\\tbest\\t\\tworst'\n",
      "print qk_time_mean,'\\t',qk_time_var,'\\t',qk_time_best,'\\t',qk_time_worst"
     ],
     "language": "python",
     "metadata": {},
     "outputs": [
      {
       "output_type": "stream",
       "stream": "stdout",
       "text": [
        "Total execution times\n",
        "mean\t\tvariance\tbest\t\tworst\n",
        "9.692219 \t0.000982871018 \t9.65627 \t9.731704\n"
       ]
      }
     ],
     "prompt_number": 13
    },
    {
     "cell_type": "markdown",
     "metadata": {},
     "source": [
      "#### Population DB index mean and variance, best solution evolution\n",
      "Compute mean and variance of population DB index for each generation.\n",
      "Evolution of DB index for best solution in each generation."
     ]
    },
    {
     "cell_type": "code",
     "collapsed": false,
     "input": [
      "qk_rounds['best evolution'] = list()\n",
      "qk_rounds['pop variance'] = list()\n",
      "qk_rounds['pop mean'] = list()\n",
      "\n",
      "for i in range(numRounds):\n",
      "    bestSeq=[]\n",
      "    bestSeqIndex=[]\n",
      "    fitnessEvolution=qk_rounds['fitness'][i]\n",
      "    for i in range(0,fitnessEvolution.shape[0]):\n",
      "        bestSeq.append(fitnessEvolution[i,fitnessEvolution[i,-1]])\n",
      "    bestSeq=np.array(bestSeq)\n",
      "    \n",
      "    genVar=np.zeros(qGenerations)\n",
      "    genMean=np.zeros(qGenerations)\n",
      "    \n",
      "    for i,ar in enumerate(fitnessEvolution):\n",
      "        genVar[i]=np.var(ar[:-1])\n",
      "        genMean[i]=np.mean(ar[:-1])\n",
      "        \n",
      "    qk_rounds['best evolution'].append(bestSeq)\n",
      "    qk_rounds['pop variance'].append(genVar)\n",
      "    qk_rounds['pop mean'].append(genMean)"
     ],
     "language": "python",
     "metadata": {},
     "outputs": [],
     "prompt_number": 14
    },
    {
     "cell_type": "markdown",
     "metadata": {},
     "source": [
      "#### Plot best solution DB index evolution"
     ]
    },
    {
     "cell_type": "code",
     "collapsed": false,
     "input": [
      "for i in range(numRounds):\n",
      "    plt.plot(range(qGenerations),qk_rounds['best evolution'][i],label=\"round \"+str(i))\n",
      "    \n",
      "plt.legend(loc='best', framealpha=0.3,prop={'size':'small'})"
     ],
     "language": "python",
     "metadata": {},
     "outputs": [
      {
       "metadata": {},
       "output_type": "pyout",
       "prompt_number": 15,
       "text": [
        "<matplotlib.legend.Legend at 0x7f107603fad0>"
       ]
      },
      {
       "metadata": {},
       "output_type": "display_data",
       "png": "[encoded data removed]",
       "text": [
        "<matplotlib.figure.Figure at 0x7f107603fa10>"
       ]
      }
     ],
     "prompt_number": 15
    },
    {
     "cell_type": "markdown",
     "metadata": {},
     "source": [
      "#### Plot population mean per generation"
     ]
    },
    {
     "cell_type": "code",
     "collapsed": false,
     "input": [
      "for i in range(numRounds):\n",
      "    plt.plot(range(qGenerations),qk_rounds['pop mean'][i],label=\"round \"+str(i))\n",
      "    \n",
      "plt.legend(loc='best', framealpha=0.3,prop={'size':'small'})"
     ],
     "language": "python",
     "metadata": {},
     "outputs": [
      {
       "metadata": {},
       "output_type": "pyout",
       "prompt_number": 14,
       "text": [
        "<matplotlib.legend.Legend at 0x7f54ea564610>"
       ]
      },
      {
       "metadata": {},
       "output_type": "display_data",
       "png": "[encoded data removed]",
       "text": [
        "<matplotlib.figure.Figure at 0x7f54ea564ed0>"
       ]
      }
     ],
     "prompt_number": 14
    },
    {
     "cell_type": "markdown",
     "metadata": {},
     "source": [
      "#### Plot population variance per generation"
     ]
    },
    {
     "cell_type": "code",
     "collapsed": false,
     "input": [
      "for i in range(numRounds):\n",
      "    plt.plot(range(qGenerations),qk_rounds['pop variance'][i],label=\"round \"+str(i))\n",
      "    \n",
      "plt.legend(loc='best', framealpha=0.3,prop={'size':'small'})"
     ],
     "language": "python",
     "metadata": {},
     "outputs": [
      {
       "metadata": {},
       "output_type": "pyout",
       "prompt_number": 15,
       "text": [
        "<matplotlib.legend.Legend at 0x7f54ea21d5d0>"
       ]
      },
      {
       "metadata": {},
       "output_type": "display_data",
       "png": "[encoded data removed]",
       "text": [
        "<matplotlib.figure.Figure at 0x7f54ea21dc90>"
       ]
      }
     ],
     "prompt_number": 15
    },
    {
     "cell_type": "heading",
     "level": 4,
     "metadata": {},
     "source": [
      "Save data in files"
     ]
    },
    {
     "cell_type": "markdown",
     "metadata": {},
     "source": [
      "Save QK centroids. Each row has the format:\n",
      "\n",
      "**[number of round, number of oracle, centroids in line]**"
     ]
    },
    {
     "cell_type": "code",
     "collapsed": false,
     "input": [
      "qk_saveCentroids=list()\n",
      "for i in range(numRounds):\n",
      "    for j in range(numOracles):\n",
      "        line=np.concatenate(qk_rounds['centroids'][i][j]).tolist()\n",
      "        line.insert(0,j)\n",
      "        line.insert(0,i)\n",
      "        qk_saveCentroids.append(line)\n",
      "\n",
      "qk_saveCentroids=np.array(qk_saveCentroids)\n",
      "qk_saveCentroids.shape"
     ],
     "language": "python",
     "metadata": {},
     "outputs": [
      {
       "metadata": {},
       "output_type": "pyout",
       "prompt_number": 16,
       "text": [
        "(25, 32)"
       ]
      }
     ],
     "prompt_number": 16
    },
    {
     "cell_type": "heading",
     "level": 2,
     "metadata": {},
     "source": [
      "K-Means"
     ]
    },
    {
     "cell_type": "markdown",
     "metadata": {},
     "source": [
      "To make the run of classic K-Means approximate to that of QK-Means, we'll set the number of initializations to $qGenerations \\times numOracles$. This is chosen since the classical K-Means is executed once for each oracle in each generation."
     ]
    },
    {
     "cell_type": "code",
     "collapsed": false,
     "input": [
      "def k_means(mixture,numClusters,numInits):\n",
      "\n",
      "\tk_timings_cg=list()\n",
      "\tstart=datetime.now()\n",
      "\n",
      "\tk_assignment=list()\n",
      "\tk_centroids=list()\n",
      "\n",
      "\tfor i in range(numInits):\n",
      "\t\testimator = KMeans(n_clusters=numClusters,init='k-means++',n_init=1)\n",
      "\t\tassignment = estimator.fit_predict(mixture)\n",
      "\t\tcentroids = estimator.cluster_centers_\n",
      "\n",
      "\t\tk_centroids.append(centroids)\n",
      "\t\tk_assignment.append(assignment)\n",
      "\n",
      "\t\tk_timings_cg.append((datetime.now() - start).total_seconds())\n",
      "\t\tstart=datetime.now()\n",
      "\n",
      "\treturn k_centroids,k_assignment,k_timings_cg"
     ],
     "language": "python",
     "metadata": {},
     "outputs": [],
     "prompt_number": 16
    },
    {
     "cell_type": "code",
     "collapsed": false,
     "input": [
      "initsPercentage=1.15\n",
      "numInits=np.int(qGenerations*numOracles*initsPercentage)\n",
      "\n",
      "k_results=list()\n",
      "\n",
      "for i in range(numRounds):\n",
      "    print 'round ',i\n",
      "    k_centroids,k_assignment,k_timings=k_means(mixture,numClusters,numInits)\n",
      "    k_results.append([k_centroids,k_assignment,k_timings])\n",
      "print 'done!'"
     ],
     "language": "python",
     "metadata": {},
     "outputs": [
      {
       "output_type": "stream",
       "stream": "stdout",
       "text": [
        "round  0\n",
        "round "
       ]
      },
      {
       "output_type": "stream",
       "stream": "stdout",
       "text": [
        " 1\n",
        "round "
       ]
      },
      {
       "output_type": "stream",
       "stream": "stdout",
       "text": [
        " 2\n",
        "round "
       ]
      },
      {
       "output_type": "stream",
       "stream": "stdout",
       "text": [
        " 3\n",
        "round "
       ]
      },
      {
       "output_type": "stream",
       "stream": "stdout",
       "text": [
        " 4\n",
        "done!"
       ]
      },
      {
       "output_type": "stream",
       "stream": "stdout",
       "text": [
        "\n"
       ]
      }
     ],
     "prompt_number": 17
    },
    {
     "cell_type": "code",
     "collapsed": false,
     "input": [
      "k_rounds=dict()\n",
      "k_rounds['centroids']=list()\n",
      "k_rounds['assignment']=list()\n",
      "k_rounds['times']=list()\n",
      "\n",
      "for i in range(numRounds):\n",
      "    k_rounds['centroids'].append(k_results[i][0])\n",
      "    k_rounds['assignment'].append(k_results[i][1])\n",
      "    k_rounds['times'].append(k_results[i][2])\n",
      "    \n",
      "print 'Done!'"
     ],
     "language": "python",
     "metadata": {},
     "outputs": [
      {
       "output_type": "stream",
       "stream": "stdout",
       "text": [
        "Done!\n"
       ]
      }
     ],
     "prompt_number": 18
    },
    {
     "cell_type": "code",
     "collapsed": false,
     "input": [
      "k_rounds['assignedData']=list() #assigned data for the best solution in each round\n",
      "\n",
      "for i in range(numRounds):\n",
      "    # assign clusters to data\n",
      "    best=int(qk_rounds['fitness'][i][-1,-1])\n",
      "    k_assignment=k_rounds['assignment'][i]\n",
      "    \n",
      "    k_assignedData = [None]*numClusters\n",
      "    for i,j in enumerate(k_assignment[best]):\n",
      "        if k_assignedData[j] != None:\n",
      "            k_assignedData[j] = np.vstack((k_assignedData[j],mixture[i]))\n",
      "        else:\n",
      "            k_assignedData[j] = mixture[i]\n",
      "    \n",
      "    k_rounds['assignedData'].append(k_assignedData)\n",
      "    \n",
      "print 'Done!'"
     ],
     "language": "python",
     "metadata": {},
     "outputs": [
      {
       "output_type": "stream",
       "stream": "stdout",
       "text": [
        "Done!\n"
       ]
      }
     ],
     "prompt_number": 62
    },
    {
     "cell_type": "code",
     "collapsed": false,
     "input": [
      "k_rounds['assignedData'][0]"
     ],
     "language": "python",
     "metadata": {},
     "outputs": [
      {
       "metadata": {},
       "output_type": "pyout",
       "prompt_number": 63,
       "text": [
        "[array([[ 1.80599869, -1.97854574],\n",
        "       [ 2.26977418, -1.9981279 ],\n",
        "       [ 1.83938192, -2.3668606 ],\n",
        "       [ 1.91903827, -2.45916003],\n",
        "       [ 2.1139499 , -2.12803706],\n",
        "       [ 1.77019371, -2.1532512 ],\n",
        "       [ 1.64384335, -1.63781922],\n",
        "       [ 1.86913919, -2.00822076],\n",
        "       [ 2.52624114, -1.81440902],\n",
        "       [ 2.14613762, -2.15451971],\n",
        "       [ 2.03076633, -1.83792586],\n",
        "       [ 1.74205124, -2.40973226],\n",
        "       [ 2.28912571, -1.96019455],\n",
        "       [ 2.07079299, -2.23545124],\n",
        "       [ 2.16062544, -2.59320126],\n",
        "       [ 2.5371791 , -2.18016623],\n",
        "       [ 2.12455777, -2.2719215 ],\n",
        "       [ 2.06378593, -2.13736807],\n",
        "       [ 1.60914741, -1.81927943],\n",
        "       [ 2.10982045, -1.94449056],\n",
        "       [ 1.93247763, -1.47793567],\n",
        "       [ 1.73366444, -2.15059708],\n",
        "       [ 1.80305615, -1.67695941],\n",
        "       [ 2.2378356 , -2.01001569],\n",
        "       [ 1.9056484 , -2.36253329],\n",
        "       [ 1.96001684, -2.11702957],\n",
        "       [ 2.01187404, -1.96750466],\n",
        "       [ 1.77807163, -2.16814919],\n",
        "       [ 1.90571608, -2.19283456],\n",
        "       [ 2.25183411, -1.59905975],\n",
        "       [ 1.6638006 , -1.85424192],\n",
        "       [ 2.22738762, -1.98533213],\n",
        "       [ 2.06436143, -1.77647238]]),\n",
        " array([[-2.13517934,  6.09479421],\n",
        "       [-1.7133824 ,  5.90660021],\n",
        "       [-1.76884218,  6.45329896],\n",
        "       [-2.08176506,  6.39050685],\n",
        "       [-1.84344352,  6.26432028],\n",
        "       [-1.65079476,  6.21876307],\n",
        "       [-1.61151318,  6.54558852],\n",
        "       [-1.73429593,  6.29415346]]),\n",
        " array([[ 3.09741317,  6.99660849],\n",
        "       [ 2.9788277 ,  6.68831087],\n",
        "       [ 2.74910068,  6.58855149],\n",
        "       [ 3.02702051,  6.89963032],\n",
        "       [ 3.55020319,  7.15701474],\n",
        "       [ 2.59218553,  6.96901588],\n",
        "       [ 2.71455305,  7.01311029],\n",
        "       [ 3.15809783,  6.3467808 ],\n",
        "       [ 2.84089602,  6.89733235],\n",
        "       [ 2.95231798,  6.74725147],\n",
        "       [ 3.10971471,  7.15688205],\n",
        "       [ 3.53845282,  7.50570034],\n",
        "       [ 3.35535574,  6.94440068],\n",
        "       [ 2.71463423,  7.23509205],\n",
        "       [ 2.72580882,  7.18817978],\n",
        "       [ 3.52611653,  7.05729893],\n",
        "       [ 3.11292329,  6.90333824],\n",
        "       [ 3.0245853 ,  7.33470118],\n",
        "       [ 3.23177301,  7.11685977],\n",
        "       [ 3.07749271,  6.8955104 ],\n",
        "       [ 3.15926284,  7.40245338],\n",
        "       [ 3.65853419,  6.95601606],\n",
        "       [ 2.92550594,  7.15599989],\n",
        "       [ 3.11705076,  7.06556082],\n",
        "       [ 2.74783644,  6.95333989],\n",
        "       [ 2.7034372 ,  7.23173858],\n",
        "       [ 3.00732531,  6.7380642 ],\n",
        "       [ 3.29325151,  7.41437819],\n",
        "       [ 3.49797518,  6.909729  ],\n",
        "       [ 3.09591001,  6.72645969],\n",
        "       [ 3.00896909,  6.41479346],\n",
        "       [ 3.3682527 ,  6.59713443],\n",
        "       [ 3.4032807 ,  7.28270365]]),\n",
        " array([[-3.47245889,  2.03520442],\n",
        "       [-3.13337199,  1.31342035],\n",
        "       [-3.21986356,  2.108664  ],\n",
        "       [-3.17934404,  1.9791999 ],\n",
        "       [-3.58053078,  1.99544435],\n",
        "       [-3.56222564,  2.39310111],\n",
        "       [-3.14055209,  1.76980544],\n",
        "       [-3.22671813,  1.90827485],\n",
        "       [-3.30116133,  2.27413584],\n",
        "       [-3.14495889,  1.79469924],\n",
        "       [-3.2159128 ,  2.02939127],\n",
        "       [-3.58712181,  1.79704942]]),\n",
        " array([[  2.75922404,   9.82252372],\n",
        "       [  2.3139734 ,   9.74584861],\n",
        "       [  2.18467774,   9.81124373],\n",
        "       [  2.52380824,  10.02977778],\n",
        "       [  2.17961369,   9.81859972],\n",
        "       [  2.08271347,   9.88393859],\n",
        "       [  2.39295858,  10.21920769],\n",
        "       [  2.40887823,   9.57553507],\n",
        "       [  2.64883964,  10.07750906],\n",
        "       [  2.28470621,  10.13549784],\n",
        "       [  3.12158256,   9.97084907],\n",
        "       [  3.07103531,  10.4704329 ],\n",
        "       [  3.04343441,  10.1000064 ],\n",
        "       [  2.98294705,   9.99884389],\n",
        "       [  3.20400656,  10.47465276],\n",
        "       [  3.45276484,  10.22594419],\n",
        "       [  2.97696155,   9.95116191],\n",
        "       [  3.15047094,   9.65119827]]),\n",
        " array([[-4.64433996,  5.27142362],\n",
        "       [-5.34634873,  4.89349189],\n",
        "       [-5.18540189,  6.38705495],\n",
        "       [-5.31460217,  5.32238062],\n",
        "       [-5.30185408,  7.15571745],\n",
        "       [-4.54760461,  6.00854048],\n",
        "       [-4.96428059,  4.85107797]]),\n",
        " array([[-4.83570808,  2.29719545],\n",
        "       [-4.90612646,  2.12002173],\n",
        "       [-4.72860391,  2.04206386],\n",
        "       [-5.27840819,  1.82161285],\n",
        "       [-5.08401073,  2.0419549 ],\n",
        "       [-5.07549237,  2.41112785],\n",
        "       [-5.34833973,  2.3797585 ],\n",
        "       [-4.87101441,  2.05138828],\n",
        "       [-4.77950279,  2.39399703],\n",
        "       [-5.28731442,  2.25034938]]),\n",
        " array([[-4.98626636, -1.89088356],\n",
        "       [-4.786391  , -1.28143804]]),\n",
        " array([[-4.8842357 ,  3.62849661],\n",
        "       [-4.59304761,  2.93016854],\n",
        "       [-4.99435211,  3.60462994],\n",
        "       [-5.019574  ,  3.85115844],\n",
        "       [-4.82434246,  2.87429971],\n",
        "       [-5.06589621,  3.9640957 ],\n",
        "       [-4.80680415,  3.3164272 ],\n",
        "       [-4.94313435,  3.83922991],\n",
        "       [-4.77991258,  3.0603488 ]]),\n",
        " array([[  1.61173467,   9.95000258],\n",
        "       [  1.80272473,  10.17155543],\n",
        "       [  1.59741116,   9.58322703],\n",
        "       [  1.5942076 ,  10.47434604],\n",
        "       [  1.12672866,  10.44684941],\n",
        "       [  1.84158272,  10.33341832],\n",
        "       [  0.01627554,  10.2481508 ],\n",
        "       [  1.21922788,   9.97190406],\n",
        "       [  0.4947887 ,  10.08214329],\n",
        "       [  1.01783161,   9.87552869],\n",
        "       [  0.68885269,  10.05567721],\n",
        "       [  0.76107326,   9.83723146],\n",
        "       [  0.60688   ,   9.82376979],\n",
        "       [  1.20836697,  10.00736694],\n",
        "       [  1.13194967,   9.75365396]]),\n",
        " array([[-1.83420013,  8.41380829],\n",
        "       [-1.79689792,  8.55378705],\n",
        "       [-1.96397555,  8.66004631],\n",
        "       [-2.33536095,  8.66065374]]),\n",
        " array([[-2.81844067,  2.04388705],\n",
        "       [-2.55025048,  2.22325261],\n",
        "       [-2.96841403,  1.94929658],\n",
        "       [-2.85475116,  1.97013862],\n",
        "       [-2.51571827,  1.65281783],\n",
        "       [-2.31088815,  1.59751511],\n",
        "       [-2.56787069,  2.005329  ],\n",
        "       [-2.35943764,  2.16084927],\n",
        "       [-2.91066039,  2.07297591],\n",
        "       [-2.70256397,  1.92951459],\n",
        "       [-2.53883426,  1.97937212],\n",
        "       [-2.67509913,  2.31515326],\n",
        "       [-2.54010794,  2.09783929],\n",
        "       [-2.73371426,  2.11254948],\n",
        "       [-2.94369471,  2.12891159],\n",
        "       [-2.9666015 ,  1.93497853],\n",
        "       [-2.85813906,  2.17027856],\n",
        "       [-2.72886013,  2.38663958],\n",
        "       [-2.71172757,  2.2618372 ],\n",
        "       [-2.84180167,  2.07595954],\n",
        "       [-2.90200636,  1.84093061]]),\n",
        " array([[-2.03939773,  7.14555792],\n",
        "       [-2.04516803,  7.41250095],\n",
        "       [-2.00989028,  6.99245851],\n",
        "       [-2.15000764,  7.27013382],\n",
        "       [-1.95836298,  7.02755084],\n",
        "       [-1.51806331,  7.32512589],\n",
        "       [-2.22020752,  7.70891907],\n",
        "       [-2.0464847 ,  7.92708097],\n",
        "       [-1.86709163,  7.07750016],\n",
        "       [-1.83866966,  7.94374372],\n",
        "       [-2.33777777,  7.83362974],\n",
        "       [-1.97250394,  7.60289793],\n",
        "       [-2.27421551,  7.19660075],\n",
        "       [-2.24084089,  7.6045606 ],\n",
        "       [-2.29499495,  7.00661758],\n",
        "       [-1.94657533,  7.09857624],\n",
        "       [-2.5636781 ,  7.15256652]]),\n",
        " array([[-1.60992514,  4.98810434],\n",
        "       [-1.62921441,  5.7073938 ],\n",
        "       [-2.28827001,  4.72750525],\n",
        "       [-1.51781975,  5.67309127]]),\n",
        " array([[-5.07099833,  0.49279954],\n",
        "       [-5.35266205,  0.77689589],\n",
        "       [-4.8583785 ,  1.14855069],\n",
        "       [-4.79500649,  0.178925  ],\n",
        "       [-5.10190488,  0.94444428]])]"
       ]
      }
     ],
     "prompt_number": 63
    },
    {
     "cell_type": "markdown",
     "metadata": {},
     "source": [
      "#### Computational time\n",
      "Mean computational total time for each round, variance, worst, best for all rounds."
     ]
    },
    {
     "cell_type": "code",
     "collapsed": false,
     "input": [
      "k_rounds['total time'] = list()\n",
      "\n",
      "for i in range(numRounds):\n",
      "    k_times=k_rounds['times'][i]\n",
      "    k_total = np.sum(np.array(k_times))\n",
      "    k_rounds['total time'].append(k_total)\n",
      "\n",
      "k_time_mean = np.mean(np.array(k_rounds['total time']))\n",
      "k_time_var = np.var(np.array(k_rounds['total time']))\n",
      "\n",
      "k_rounds['fastest round']=np.argmin(np.array(k_rounds['total time']))\n",
      "k_rounds['slowest round']=np.argmax(np.array(k_rounds['total time']))\n",
      "\n",
      "k_time_best = k_rounds['total time'][k_rounds['fastest round']]\n",
      "k_time_worst = k_rounds['total time'][k_rounds['slowest round']]\n",
      "\n",
      "print 'Total execution times'\n",
      "print 'mean\\t\\tvariance\\tbest\\t\\tworst'\n",
      "print k_time_mean,'\\t',k_time_var,'\\t',k_time_best,'\\t',k_time_worst"
     ],
     "language": "python",
     "metadata": {},
     "outputs": [
      {
       "output_type": "stream",
       "stream": "stdout",
       "text": [
        "Total execution times\n",
        "mean\t\tvariance\tbest\t\tworst\n",
        "3.5615876 \t0.00744403803544 \t3.502209 \t3.731282\n"
       ]
      }
     ],
     "prompt_number": 20
    },
    {
     "cell_type": "code",
     "collapsed": false,
     "input": [
      "# assign data to clusters\n",
      "k_rounds['assignedData']=[None]*numRounds #assigned data for the best solution in each round\n",
      "\n",
      "for i in range(numRounds):\n",
      "    # assign clusters to data\n",
      "    k_assignment=k_rounds['assignment'][i][k_rounds['fitness best index'][i]]\n",
      "    \n",
      "    k_assignedData = [None]*numClusters\n",
      "    for point,j in enumerate(k_assignment):\n",
      "        if k_assignedData[j] != None:\n",
      "            k_assignedData[j] = np.vstack((k_assignedData[j],mixture[point]))\n",
      "        else:\n",
      "            k_assignedData[j] = mixture[i]\n",
      "    \n",
      "    k_rounds['assignedData'][i]=k_assignedData"
     ],
     "language": "python",
     "metadata": {},
     "outputs": [],
     "prompt_number": 60
    },
    {
     "cell_type": "code",
     "collapsed": false,
     "input": [
      "k_rounds['assignedData'][0]"
     ],
     "language": "python",
     "metadata": {},
     "outputs": [
      {
       "metadata": {},
       "output_type": "pyout",
       "prompt_number": 64,
       "text": [
        "[array([[ 1.80599869, -1.97854574],\n",
        "       [ 2.26977418, -1.9981279 ],\n",
        "       [ 1.83938192, -2.3668606 ],\n",
        "       [ 1.91903827, -2.45916003],\n",
        "       [ 2.1139499 , -2.12803706],\n",
        "       [ 1.77019371, -2.1532512 ],\n",
        "       [ 1.64384335, -1.63781922],\n",
        "       [ 1.86913919, -2.00822076],\n",
        "       [ 2.52624114, -1.81440902],\n",
        "       [ 2.14613762, -2.15451971],\n",
        "       [ 2.03076633, -1.83792586],\n",
        "       [ 1.74205124, -2.40973226],\n",
        "       [ 2.28912571, -1.96019455],\n",
        "       [ 2.07079299, -2.23545124],\n",
        "       [ 2.16062544, -2.59320126],\n",
        "       [ 2.5371791 , -2.18016623],\n",
        "       [ 2.12455777, -2.2719215 ],\n",
        "       [ 2.06378593, -2.13736807],\n",
        "       [ 1.60914741, -1.81927943],\n",
        "       [ 2.10982045, -1.94449056],\n",
        "       [ 1.93247763, -1.47793567],\n",
        "       [ 1.73366444, -2.15059708],\n",
        "       [ 1.80305615, -1.67695941],\n",
        "       [ 2.2378356 , -2.01001569],\n",
        "       [ 1.9056484 , -2.36253329],\n",
        "       [ 1.96001684, -2.11702957],\n",
        "       [ 2.01187404, -1.96750466],\n",
        "       [ 1.77807163, -2.16814919],\n",
        "       [ 1.90571608, -2.19283456],\n",
        "       [ 2.25183411, -1.59905975],\n",
        "       [ 1.6638006 , -1.85424192],\n",
        "       [ 2.22738762, -1.98533213],\n",
        "       [ 2.06436143, -1.77647238]]),\n",
        " array([[-2.13517934,  6.09479421],\n",
        "       [-1.7133824 ,  5.90660021],\n",
        "       [-1.76884218,  6.45329896],\n",
        "       [-2.08176506,  6.39050685],\n",
        "       [-1.84344352,  6.26432028],\n",
        "       [-1.65079476,  6.21876307],\n",
        "       [-1.61151318,  6.54558852],\n",
        "       [-1.73429593,  6.29415346]]),\n",
        " array([[ 3.09741317,  6.99660849],\n",
        "       [ 2.9788277 ,  6.68831087],\n",
        "       [ 2.74910068,  6.58855149],\n",
        "       [ 3.02702051,  6.89963032],\n",
        "       [ 3.55020319,  7.15701474],\n",
        "       [ 2.59218553,  6.96901588],\n",
        "       [ 2.71455305,  7.01311029],\n",
        "       [ 3.15809783,  6.3467808 ],\n",
        "       [ 2.84089602,  6.89733235],\n",
        "       [ 2.95231798,  6.74725147],\n",
        "       [ 3.10971471,  7.15688205],\n",
        "       [ 3.53845282,  7.50570034],\n",
        "       [ 3.35535574,  6.94440068],\n",
        "       [ 2.71463423,  7.23509205],\n",
        "       [ 2.72580882,  7.18817978],\n",
        "       [ 3.52611653,  7.05729893],\n",
        "       [ 3.11292329,  6.90333824],\n",
        "       [ 3.0245853 ,  7.33470118],\n",
        "       [ 3.23177301,  7.11685977],\n",
        "       [ 3.07749271,  6.8955104 ],\n",
        "       [ 3.15926284,  7.40245338],\n",
        "       [ 3.65853419,  6.95601606],\n",
        "       [ 2.92550594,  7.15599989],\n",
        "       [ 3.11705076,  7.06556082],\n",
        "       [ 2.74783644,  6.95333989],\n",
        "       [ 2.7034372 ,  7.23173858],\n",
        "       [ 3.00732531,  6.7380642 ],\n",
        "       [ 3.29325151,  7.41437819],\n",
        "       [ 3.49797518,  6.909729  ],\n",
        "       [ 3.09591001,  6.72645969],\n",
        "       [ 3.00896909,  6.41479346],\n",
        "       [ 3.3682527 ,  6.59713443],\n",
        "       [ 3.4032807 ,  7.28270365]]),\n",
        " array([[-3.47245889,  2.03520442],\n",
        "       [-3.13337199,  1.31342035],\n",
        "       [-3.21986356,  2.108664  ],\n",
        "       [-3.17934404,  1.9791999 ],\n",
        "       [-3.58053078,  1.99544435],\n",
        "       [-3.56222564,  2.39310111],\n",
        "       [-3.14055209,  1.76980544],\n",
        "       [-3.22671813,  1.90827485],\n",
        "       [-3.30116133,  2.27413584],\n",
        "       [-3.14495889,  1.79469924],\n",
        "       [-3.2159128 ,  2.02939127],\n",
        "       [-3.58712181,  1.79704942]]),\n",
        " array([[  2.75922404,   9.82252372],\n",
        "       [  2.3139734 ,   9.74584861],\n",
        "       [  2.18467774,   9.81124373],\n",
        "       [  2.52380824,  10.02977778],\n",
        "       [  2.17961369,   9.81859972],\n",
        "       [  2.08271347,   9.88393859],\n",
        "       [  2.39295858,  10.21920769],\n",
        "       [  2.40887823,   9.57553507],\n",
        "       [  2.64883964,  10.07750906],\n",
        "       [  2.28470621,  10.13549784],\n",
        "       [  3.12158256,   9.97084907],\n",
        "       [  3.07103531,  10.4704329 ],\n",
        "       [  3.04343441,  10.1000064 ],\n",
        "       [  2.98294705,   9.99884389],\n",
        "       [  3.20400656,  10.47465276],\n",
        "       [  3.45276484,  10.22594419],\n",
        "       [  2.97696155,   9.95116191],\n",
        "       [  3.15047094,   9.65119827]]),\n",
        " array([[-4.64433996,  5.27142362],\n",
        "       [-5.34634873,  4.89349189],\n",
        "       [-5.18540189,  6.38705495],\n",
        "       [-5.31460217,  5.32238062],\n",
        "       [-5.30185408,  7.15571745],\n",
        "       [-4.54760461,  6.00854048],\n",
        "       [-4.96428059,  4.85107797]]),\n",
        " array([[-4.83570808,  2.29719545],\n",
        "       [-4.90612646,  2.12002173],\n",
        "       [-4.72860391,  2.04206386],\n",
        "       [-5.27840819,  1.82161285],\n",
        "       [-5.08401073,  2.0419549 ],\n",
        "       [-5.07549237,  2.41112785],\n",
        "       [-5.34833973,  2.3797585 ],\n",
        "       [-4.87101441,  2.05138828],\n",
        "       [-4.77950279,  2.39399703],\n",
        "       [-5.28731442,  2.25034938]]),\n",
        " array([[-4.98626636, -1.89088356],\n",
        "       [-4.786391  , -1.28143804]]),\n",
        " array([[-4.8842357 ,  3.62849661],\n",
        "       [-4.59304761,  2.93016854],\n",
        "       [-4.99435211,  3.60462994],\n",
        "       [-5.019574  ,  3.85115844],\n",
        "       [-4.82434246,  2.87429971],\n",
        "       [-5.06589621,  3.9640957 ],\n",
        "       [-4.80680415,  3.3164272 ],\n",
        "       [-4.94313435,  3.83922991],\n",
        "       [-4.77991258,  3.0603488 ]]),\n",
        " array([[  1.61173467,   9.95000258],\n",
        "       [  1.80272473,  10.17155543],\n",
        "       [  1.59741116,   9.58322703],\n",
        "       [  1.5942076 ,  10.47434604],\n",
        "       [  1.12672866,  10.44684941],\n",
        "       [  1.84158272,  10.33341832],\n",
        "       [  0.01627554,  10.2481508 ],\n",
        "       [  1.21922788,   9.97190406],\n",
        "       [  0.4947887 ,  10.08214329],\n",
        "       [  1.01783161,   9.87552869],\n",
        "       [  0.68885269,  10.05567721],\n",
        "       [  0.76107326,   9.83723146],\n",
        "       [  0.60688   ,   9.82376979],\n",
        "       [  1.20836697,  10.00736694],\n",
        "       [  1.13194967,   9.75365396]]),\n",
        " array([[-1.83420013,  8.41380829],\n",
        "       [-1.79689792,  8.55378705],\n",
        "       [-1.96397555,  8.66004631],\n",
        "       [-2.33536095,  8.66065374]]),\n",
        " array([[-2.81844067,  2.04388705],\n",
        "       [-2.55025048,  2.22325261],\n",
        "       [-2.96841403,  1.94929658],\n",
        "       [-2.85475116,  1.97013862],\n",
        "       [-2.51571827,  1.65281783],\n",
        "       [-2.31088815,  1.59751511],\n",
        "       [-2.56787069,  2.005329  ],\n",
        "       [-2.35943764,  2.16084927],\n",
        "       [-2.91066039,  2.07297591],\n",
        "       [-2.70256397,  1.92951459],\n",
        "       [-2.53883426,  1.97937212],\n",
        "       [-2.67509913,  2.31515326],\n",
        "       [-2.54010794,  2.09783929],\n",
        "       [-2.73371426,  2.11254948],\n",
        "       [-2.94369471,  2.12891159],\n",
        "       [-2.9666015 ,  1.93497853],\n",
        "       [-2.85813906,  2.17027856],\n",
        "       [-2.72886013,  2.38663958],\n",
        "       [-2.71172757,  2.2618372 ],\n",
        "       [-2.84180167,  2.07595954],\n",
        "       [-2.90200636,  1.84093061]]),\n",
        " array([[-2.03939773,  7.14555792],\n",
        "       [-2.04516803,  7.41250095],\n",
        "       [-2.00989028,  6.99245851],\n",
        "       [-2.15000764,  7.27013382],\n",
        "       [-1.95836298,  7.02755084],\n",
        "       [-1.51806331,  7.32512589],\n",
        "       [-2.22020752,  7.70891907],\n",
        "       [-2.0464847 ,  7.92708097],\n",
        "       [-1.86709163,  7.07750016],\n",
        "       [-1.83866966,  7.94374372],\n",
        "       [-2.33777777,  7.83362974],\n",
        "       [-1.97250394,  7.60289793],\n",
        "       [-2.27421551,  7.19660075],\n",
        "       [-2.24084089,  7.6045606 ],\n",
        "       [-2.29499495,  7.00661758],\n",
        "       [-1.94657533,  7.09857624],\n",
        "       [-2.5636781 ,  7.15256652]]),\n",
        " array([[-1.60992514,  4.98810434],\n",
        "       [-1.62921441,  5.7073938 ],\n",
        "       [-2.28827001,  4.72750525],\n",
        "       [-1.51781975,  5.67309127]]),\n",
        " array([[-5.07099833,  0.49279954],\n",
        "       [-5.35266205,  0.77689589],\n",
        "       [-4.8583785 ,  1.14855069],\n",
        "       [-4.79500649,  0.178925  ],\n",
        "       [-5.10190488,  0.94444428]])]"
       ]
      }
     ],
     "prompt_number": 64
    },
    {
     "cell_type": "code",
     "collapsed": false,
     "input": [
      "k_rounds['total time'] = list()\n",
      "\n",
      "\n",
      "for i in range(numRounds):\n",
      "    k_times=k_rounds['times'][i]\n",
      "    k_total = np.sum(np.array(k_times))\n",
      "    k_rounds['total time'].append(k_total)\n",
      "\n",
      "k_rounds['time mean'] = np.mean(np.array(k_rounds['total time']))\n",
      "k_rounds['time variance'] = np.var(np.array(k_rounds['total time']))\n",
      "\n",
      "k_rounds['time best']=np.min(np.array(k_rounds['total time']))\n",
      "k_rounds['time worst']=np.max(np.array(k_rounds['total time']))\n",
      "\n",
      "print 'Total execution times'\n",
      "print 'mean\\t\\tvariance\\t\\tbest\\t\\tworst'\n",
      "print k_rounds['time mean'],'\\t',k_rounds['time variance'],'\\t',k_rounds['time best'],'\\t',k_rounds['time worst']"
     ],
     "language": "python",
     "metadata": {},
     "outputs": [
      {
       "output_type": "stream",
       "stream": "stdout",
       "text": [
        "Total execution times\n",
        "mean\t\tvariance\t\tbest\t\tworst\n",
        "3.5615876 \t0.00744403803544 \t3.502209 \t3.731282\n"
       ]
      }
     ],
     "prompt_number": 38
    },
    {
     "cell_type": "code",
     "collapsed": false,
     "input": [
      "k_score=DaviesBouldin.DaviesBouldin(mixture,k_rounds['centroids'][i][j],k_rounds['assignment'][i][j])\n",
      "print k_score.eval()\n",
      "print numInits\n",
      "print type(k_score.eval())\n",
      "print numInits*64/1024"
     ],
     "language": "python",
     "metadata": {},
     "outputs": [
      {
       "output_type": "stream",
       "stream": "stdout",
       "text": [
        "126.45214826\n",
        "575\n",
        "<type 'numpy.float64'>\n",
        "35\n"
       ]
      }
     ],
     "prompt_number": 30
    },
    {
     "cell_type": "code",
     "collapsed": false,
     "input": [
      "#compute fitnesses\n",
      "k_rounds['fitness']=[np.inf]*numRounds\n",
      "k_rounds['fitness best index']=[None]*numRounds\n",
      "\n",
      "k_bestScore=np.inf\n",
      "for i in range(numRounds):\n",
      "    print 'round ',i\n",
      "    init_scores=list()\n",
      "    k_best=np.inf\n",
      "    for j in range(numInits):\n",
      "        k_score=DaviesBouldin.DaviesBouldin(mixture,k_rounds['centroids'][i][j],k_rounds['assignment'][i][j])\n",
      "        s=k_score.eval()\n",
      "        if s<k_rounds['fitness'][i]:\n",
      "        \tk_rounds['fitness'][i]=s\n",
      "        \tk_rounds['fitness best index'][i]=j"
     ],
     "language": "python",
     "metadata": {},
     "outputs": [
      {
       "output_type": "stream",
       "stream": "stdout",
       "text": [
        "round  0\n",
        "round "
       ]
      },
      {
       "output_type": "stream",
       "stream": "stdout",
       "text": [
        " 1\n",
        "round "
       ]
      },
      {
       "output_type": "stream",
       "stream": "stdout",
       "text": [
        " 2\n",
        "round "
       ]
      },
      {
       "output_type": "stream",
       "stream": "stdout",
       "text": [
        " 3\n",
        "round "
       ]
      },
      {
       "output_type": "stream",
       "stream": "stdout",
       "text": [
        " 4\n"
       ]
      }
     ],
     "prompt_number": 52
    },
    {
     "cell_type": "code",
     "collapsed": false,
     "input": [
      "print k_rounds['fitness']\n",
      "print k_rounds['fitness best index']"
     ],
     "language": "python",
     "metadata": {},
     "outputs": [
      {
       "output_type": "stream",
       "stream": "stdout",
       "text": [
        "[103.17556102215431, 102.77272612874017, 102.37514054643245, 102.77272612874017, 99.158549595131063]\n",
        "[5, 560, 340, 289, 162]\n"
       ]
      }
     ],
     "prompt_number": 55
    },
    {
     "cell_type": "code",
     "collapsed": false,
     "input": [
      "k_rounds['fitness']=list()\n",
      "start=datetime.now()\n",
      "k_bestScore=np.inf\n",
      "for i in range(numRounds):\n",
      "    print 'round ',i\n",
      "    init_scores=list()\n",
      "    for j in range(numInits):\n",
      "        # compute cluster fitness\n",
      "        k_score=DaviesBouldin.DaviesBouldin(mixture,k_rounds['centroids'][i][j],k_rounds['assignment'][i][j])\n",
      "        init_scores.append(k_score.eval())\n",
      "    k_rounds['fitness'].append(np.array(init_scores))\n",
      "    m=np.min(init_scores)\n",
      "    if m < k_bestScore:\n",
      "        k_bestScore=m\n",
      "        k_rounds['best fit round']=i\n",
      "\n",
      "print 'done!',(datetime.now() - start).total_seconds()"
     ],
     "language": "python",
     "metadata": {},
     "outputs": [
      {
       "output_type": "stream",
       "stream": "stdout",
       "text": [
        "round  0\n",
        "round "
       ]
      },
      {
       "output_type": "stream",
       "stream": "stdout",
       "text": [
        " 1\n",
        "round "
       ]
      },
      {
       "output_type": "stream",
       "stream": "stdout",
       "text": [
        " 2\n",
        "round "
       ]
      },
      {
       "output_type": "stream",
       "stream": "stdout",
       "text": [
        " 3\n",
        "round "
       ]
      },
      {
       "output_type": "stream",
       "stream": "stdout",
       "text": [
        " 4\n",
        "done!"
       ]
      },
      {
       "output_type": "stream",
       "stream": "stdout",
       "text": [
        " 27.921954\n"
       ]
      }
     ],
     "prompt_number": 21
    },
    {
     "cell_type": "code",
     "collapsed": false,
     "input": [
      "k_rounds['fitness best']=list()\n",
      "k_rounds['fitness worst']=list()\n",
      "k_rounds['fitness mean']=list()\n",
      "k_rounds['fitness variance']=list()\n",
      "\n",
      "for fit in k_rounds['fitness']:\n",
      "    k_rounds['fitness best'].append(np.min(fit))\n",
      "    k_rounds['fitness worst'].append(np.max(fit))\n",
      "    k_rounds['fitness mean'].append(np.mean(fit))\n",
      "    k_rounds['fitness variance'].append(np.var(fit))\n",
      "\n",
      "for i in range(len(k_rounds['fitness'])):\n",
      "    print k_rounds['fitness best'][i],k_rounds['fitness worst'][i],k_rounds['fitness mean'][i],k_rounds['fitness variance'][i]\n",
      "print np.mean(k_rounds['fitness best']),np.mean(k_rounds['fitness worst']),np.mean(k_rounds['fitness mean']),np.mean(k_rounds['fitness variance'])"
     ],
     "language": "python",
     "metadata": {},
     "outputs": [
      {
       "output_type": "stream",
       "stream": "stdout",
       "text": [
        "103.175561022 175.637446912 131.810391378 199.521647599\n",
        "102.772726129 178.375147637 131.23130278 190.13815772\n",
        "102.375140546 184.108922173 130.285954562 214.903359008\n",
        "102.772726129 176.299144868 130.284179451 196.303710508\n",
        "99.1585495951 174.142560159 129.727510695 174.485941501\n",
        "102.050940684 177.71264435 130.667867773 195.070563267\n"
       ]
      }
     ],
     "prompt_number": 48
    },
    {
     "cell_type": "code",
     "collapsed": false,
     "input": [
      "k_rounds.keys()\n",
      "#choose only best/worst assignment\n",
      "#choose only best/worst centroid"
     ],
     "language": "python",
     "metadata": {},
     "outputs": [
      {
       "metadata": {},
       "output_type": "pyout",
       "prompt_number": 25,
       "text": [
        "['slowest round',\n",
        " 'best fit round',\n",
        " 'total time',\n",
        " 'assignment',\n",
        " 'fastest round',\n",
        " 'centroids',\n",
        " 'times',\n",
        " 'fitness',\n",
        " 'assignedData']"
       ]
      }
     ],
     "prompt_number": 25
    },
    {
     "cell_type": "code",
     "collapsed": false,
     "input": [
      "# save\n",
      "output = open('k_ass.pkl', 'wb')\n",
      "\n",
      "pickle.dump(k_rounds['centroids'], output)\n",
      "output.close()"
     ],
     "language": "python",
     "metadata": {},
     "outputs": [],
     "prompt_number": 30
    },
    {
     "cell_type": "heading",
     "level": 2,
     "metadata": {},
     "source": [
      "Comparison"
     ]
    },
    {
     "cell_type": "heading",
     "level": 3,
     "metadata": {},
     "source": [
      "Accuracy"
     ]
    },
    {
     "cell_type": "code",
     "collapsed": false,
     "input": [
      "# print DB scores\n",
      "print \"Davies-Bouldin cluster fitness (less is better)\"\n",
      "qk_best=np.inf\n",
      "for i in range(numRounds):\n",
      "    m=np.min(qk_rounds['best evolution'][i])\n",
      "    if m < qk_best:\n",
      "        qk_best = m\n",
      "print \"QK-Means cluster fitness (DB score):\\t\",qk_best\n",
      "print \"K-Means cluster fitness (DB score):\\t\",np.min(k_rounds['fitness'])"
     ],
     "language": "python",
     "metadata": {},
     "outputs": [
      {
       "output_type": "stream",
       "stream": "stdout",
       "text": [
        "Davies-Bouldin cluster fitness (less is better)\n",
        "QK-Means cluster fitness (DB score):\t65.6735103941\n",
        "K-Means cluster fitness (DB score):\t99.1585495951\n"
       ]
      }
     ],
     "prompt_number": 54
    },
    {
     "cell_type": "heading",
     "level": 3,
     "metadata": {},
     "source": [
      "Performance"
     ]
    },
    {
     "cell_type": "code",
     "collapsed": false,
     "input": [
      "print 'Total execution times'\n",
      "print '\\t\\tmean\\t\\tvariance\\t\\tbest\\t\\tworst'\n",
      "print 'K-Means:\\t',k_time_mean,'\\t',k_time_var,'\\t',k_time_best,'\\t',k_time_worst\n",
      "print 'QK-Means:\\t',qk_time_mean,'\\t',qk_time_var,'\\t\\t',qk_time_best,'\\t',qk_time_worst\n",
      "\n",
      "\n",
      "print \"\\nQK-Means / K-Means ratio:\\t\",qk_time_mean/k_time_mean"
     ],
     "language": "python",
     "metadata": {},
     "outputs": [
      {
       "output_type": "stream",
       "stream": "stdout",
       "text": [
        "Total execution times\n",
        "\t\tmean\t\tvariance\t\tbest\t\tworst\n",
        "K-Means:\t3.6853944 \t0.00049971065344 \t3.658593 \t3.709445\n",
        "QK-Means:\t10.32754 \t0.565094852961 \t\t9.694789 \t11.742673\n",
        "\n",
        "QK-Means / K-Means ratio:\t2.80228894905\n"
       ]
      }
     ],
     "prompt_number": 182
    },
    {
     "cell_type": "code",
     "collapsed": false,
     "input": [
      "# display results\n",
      "fig1=plt.figure()\n",
      "ax1 = fig1.add_subplot(3,2,1, adjustable='box', aspect=0.5, position=[0.1,0.1, 1, 1])\n",
      "ax2 = fig1.add_subplot(3,2,2,adjustable='box', aspect=0.5,position=[1.2,0.1, 1, 1])\n",
      "ax3 = fig1.add_subplot(3,2,3,adjustable='box', aspect=0.5, position=[0.1,-1.2, 1, 1])\n",
      "\n",
      "ax1.set_title(\"Gaussian mixture\")\n",
      "for i in range(0,len(gMix)):\n",
      "    ax1.plot(gMix[i][:,0],gMix[i][:,1],'.')\n",
      "\n",
      "ax2.set_title(\"QK-Means\")\n",
      "for i in range(0,numClusters):\n",
      "    ax2.plot(qk_assignedData[i][:,0],qk_assignedData[i][:,1],'.')\n",
      "    ax2.plot(qk_centroids[best][i][0],qk_centroids[best][i][1],'ko')\n",
      "\n",
      "ax3.set_title(\"K-Means\")\n",
      "for i in range(0,numClusters):\n",
      "    ax3.plot(k_assignedData[i][:,0],k_assignedData[i][:,1],'.')\n",
      "    ax3.plot(k_centroids[i][0],k_centroids[i][1],'ko')     \n",
      "    \n",
      "fig1.savefig('out.png', dpi=600)"
     ],
     "language": "python",
     "metadata": {},
     "outputs": []
    },
    {
     "cell_type": "heading",
     "level": 2,
     "metadata": {},
     "source": [
      "Conclusion"
     ]
    },
    {
     "cell_type": "markdown",
     "metadata": {},
     "source": [
      "The results in [1] suggest QK-Means presents a moderate improvement on the accuracy of the results relative to K-Means, while the same algorithm in [3] doesn't show significant improvement. The results above suggest that QK-Means presents a marginal accuracy improvement but a big handicap concerning computation time, taking significantly more time than classical K-Means to compute the same number of K-Means executions (each with a 300 iteration limit and $1\\times10^{-4}$ convergence tolerance). It should be noted, however, that the algorithm in [1,3] uses the two quantum genetic operations not implemented here. Plus, their application was in image segmentation, while here we're using data from a mixture of Gaussians.\n",
      "\n",
      "In conclusion, QK-Means doesn't offer a good tradeoff between accuracy improvement and computation time."
     ]
    },
    {
     "cell_type": "heading",
     "level": 2,
     "metadata": {},
     "source": [
      "References"
     ]
    },
    {
     "cell_type": "markdown",
     "metadata": {},
     "source": [
      "[1] E. Casper, C. Hung, E. Jung, and M. Yang, \u201cA Quantum-Modeled K-Means Clustering Algorithm for Multi-band Image Segmentation\u201d\n",
      "\n",
      "[2] W. Liu, H. Chen, Q. Yan, Z. Liu, J. Xu, and Y. Zheng, \u201cA novel quantum-inspired evolutionary algorithm based on variable angle-distance rotation\u201d\n",
      "\n",
      "[3] E. Casper and C. Hung, \u201cQuantum Modeled Clustering Algorithms for Image Segmentation\u201d"
     ]
    }
   ],
   "metadata": {}
  }
 ]
}