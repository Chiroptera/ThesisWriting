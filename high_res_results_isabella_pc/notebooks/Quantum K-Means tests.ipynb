{
 "cells": [
  {
   "cell_type": "code",
   "execution_count": 19,
   "metadata": {
    "collapsed": false
   },
   "outputs": [],
   "source": [
    "%matplotlib inline\n",
    "import matplotlib.pyplot as plt\n",
    "import numpy as np\n",
    "import sys\n",
    "import os\n",
    "\n",
    "# add path for custom modules\n",
    "mypath=os.path.abspath('/home/chiroptera/workspace/thesis/quantum k-means/implementation')\n",
    "if not mypath in sys.path:\n",
    "    sys.path.insert(1, mypath)\n",
    "del mypath"
   ]
  },
  {
   "cell_type": "code",
   "execution_count": 2,
   "metadata": {
    "collapsed": false
   },
   "outputs": [],
   "source": [
    "def rot(angle):\n",
    "    return np.matrix([[np.cos(angle),-np.sin(angle)],[np.sin(angle),np.cos(angle)]])"
   ]
  },
  {
   "cell_type": "code",
   "execution_count": 3,
   "metadata": {
    "collapsed": false
   },
   "outputs": [
    {
     "name": "stdout",
     "output_type": "stream",
     "text": [
      "[[ 0.70710678]\n",
      " [ 0.70710678]]\n",
      "[[  1.11022302e-16]\n",
      " [  1.00000000e+00]]\n"
     ]
    },
    {
     "data": {
      "text/plain": [
       "matrix([[ 1.]])"
      ]
     },
     "execution_count": 3,
     "metadata": {},
     "output_type": "execute_result"
    }
   ],
   "source": [
    "q=np.transpose(np.matrix([1/np.sqrt(2),1/np.sqrt(2)]))\n",
    "print q\n",
    "x=rot(np.pi/4)*q\n",
    "print x\n",
    "np.transpose(x)*x"
   ]
  },
  {
   "cell_type": "markdown",
   "metadata": {},
   "source": [
    "# Testing Davies-Bouldin Score"
   ]
  },
  {
   "cell_type": "markdown",
   "metadata": {},
   "source": [
    "## Import modules"
   ]
  },
  {
   "cell_type": "code",
   "execution_count": 4,
   "metadata": {
    "collapsed": false
   },
   "outputs": [
    {
     "data": {
      "text/plain": [
       "<module 'DaviesBouldin' from '/home/chiroptera/workspace/thesis/quantum k-means/implementation/DaviesBouldin.pyc'>"
      ]
     },
     "execution_count": 4,
     "metadata": {},
     "output_type": "execute_result"
    }
   ],
   "source": [
    "from sklearn.cluster import KMeans\n",
    "\n",
    "import DaviesBouldin\n",
    "reload(DaviesBouldin)"
   ]
  },
  {
   "cell_type": "markdown",
   "metadata": {},
   "source": [
    "## Generate, Cluster & Score"
   ]
  },
  {
   "cell_type": "code",
   "execution_count": 5,
   "metadata": {
    "collapsed": false
   },
   "outputs": [
    {
     "name": "stdout",
     "output_type": "stream",
     "text": [
      "Davies-Bouldin score =  1.99767200752\n"
     ]
    }
   ],
   "source": [
    "# generate gaussians\n",
    "gauss1=np.random.normal((-5,3),[0.25,2],(100,2))\n",
    "gauss2=np.random.normal((2,-2),[0.25,0.25],(100,2))\n",
    "gauss3=np.random.normal((2,2),[0.5,0.25],(100,2))\n",
    "mixture=np.concatenate((gauss1,gauss2,gauss3))\n",
    "\n",
    "# K-Means\n",
    "numClusters=2\n",
    "initType='k-means++'\n",
    "\n",
    "estimator = KMeans(n_clusters=numClusters,init=initType)\n",
    "\n",
    "assignment=estimator.fit_predict(mixture)\n",
    "centroids=estimator.cluster_centers_\n",
    "\n",
    "# Davies-Bouldin\n",
    "score = DaviesBouldin.DaviesBouldin(mixture,centroids,assignment)\n",
    "print \"Davies-Bouldin score = \",score.eval()"
   ]
  },
  {
   "cell_type": "markdown",
   "metadata": {},
   "source": [
    "# Putting it all together\n",
    "Here we'll put together the different modules to go through the steps of Quantum (Genetic) K-Means."
   ]
  },
  {
   "cell_type": "markdown",
   "metadata": {},
   "source": [
    "## Import moules"
   ]
  },
  {
   "cell_type": "code",
   "execution_count": 24,
   "metadata": {
    "collapsed": false
   },
   "outputs": [
    {
     "data": {
      "text/plain": [
       "<module 'qubitLib' from '/home/chiroptera/workspace/thesis/quantum k-means/implementation/qubitLib.pyc'>"
      ]
     },
     "execution_count": 24,
     "metadata": {},
     "output_type": "execute_result"
    }
   ],
   "source": [
    "import oracle\n",
    "import qubitLib\n",
    "import DaviesBouldin\n",
    "from sklearn.cluster import KMeans\n",
    "\n",
    "reload(DaviesBouldin)\n",
    "reload(oracle)\n",
    "reload(qubitLib)"
   ]
  },
  {
   "cell_type": "markdown",
   "metadata": {},
   "source": [
    "## Generate data\n",
    "We start by generating a Gaussian mixture so we have some data to cluster."
   ]
  },
  {
   "cell_type": "code",
   "execution_count": 8,
   "metadata": {
    "collapsed": false
   },
   "outputs": [
    {
     "data": {
      "image/png": "[encoded data removed]",
      "text/plain": [
       "<matplotlib.figure.Figure at 0x7fcdfef295d0>"
      ]
     },
     "metadata": {},
     "output_type": "display_data"
    }
   ],
   "source": [
    "# generate gaussians\n",
    "numGauss=3\n",
    "gMix=list()\n",
    "gMix.append(np.random.normal((-5,3),[0.25,2],(100,2)))\n",
    "gMix.append(np.random.normal((2,-2),[0.25,0.25],(100,2)))\n",
    "gMix.append(np.random.normal((2,10),[0.75,0.25],(100,2)))\n",
    "\n",
    "mixture=np.concatenate(tuple(gMix))\n",
    "\n",
    "# add outliers\n",
    "\n",
    "# plot data points\n",
    "for i in range(0,len(gMix)):\n",
    "    plt.plot(gMix[i][:,0],gMix[i][:,1],'.')"
   ]
  },
  {
   "cell_type": "markdown",
   "metadata": {},
   "source": [
    "## Initialization step\n",
    "We start by creating several oracles (each representing a possible solution) and collapsing them into some values. The values to which the oracles collapsed are shown below. Each Oracle has $numClusters \\times 2$ qubit strings since we're using two dimensional data. The length of the qubit strings specifies the magnitude to which the centroid values can go. In this example the data takes low values so we'll use only 5 bits, ranging the interval $[-16,16]$."
   ]
  },
  {
   "cell_type": "code",
   "execution_count": 48,
   "metadata": {
    "collapsed": false
   },
   "outputs": [
    {
     "name": "stdout",
     "output_type": "stream",
     "text": [
      "Oracle  0\n",
      "[None None None None None None None None None None None None None None]\n",
      "[ -2  -5 -13 -12  13 -10  -2  -1  11  -9 -15  11   4  -5]\n",
      "11110\n",
      "Oracle  1\n",
      "[None None None None None None None None None None None None None None]\n",
      "[-14  -4  -1  -1   6  -9  -3  -3  -1  15  -3 -14   5  -5]\n",
      "10010\n",
      "Oracle  2\n",
      "[None None None None None None None None None None None None None None]\n",
      "[-13  -1   7  -3   5   0 -10 -13  -2  -5  -6   9 -11  -2]\n",
      "10011\n",
      "Oracle  3\n",
      "[None None None None None None None None None None None None None None]\n",
      "[ -9  -3  -1  -9  -9  -1  -1  -9  -9 -11  15  13  -9  -1]\n",
      "10111\n",
      "Oracle  4\n",
      "[None None None None None None None None None None None None None None]\n",
      "[ -1  -1 -15  -6  -6  -9 -15  -2  -5  -5 -13 -15  13 -12]\n",
      "11111\n"
     ]
    }
   ],
   "source": [
    "numClusters=7\n",
    "numOracles=5\n",
    "qubitStringLen=5\n",
    "\n",
    "oras=list()\n",
    "for i in range(0,5):\n",
    "    oras.append(oracle.Oracle())\n",
    "    oras[i].initialization(numClusters*2,qubitStringLen)\n",
    "    oras[i].collapse()\n",
    "    print \"Oracle \",i\n",
    "    print oras[i].getFloatArrays()\n",
    "    print oras[i].getIntArrays()\n",
    "    print oras[i].qstrings[0].binVal"
   ]
  },
  {
   "cell_type": "markdown",
   "metadata": {},
   "source": [
    "## Clustering step\n",
    "We know run the K-Means algoritmn for each oracle solution. We convert the Oracles' values to centroids and hand them over to the K-Means. Then we compute the Davies-Bouldin score on each Oracle and store it."
   ]
  },
  {
   "cell_type": "code",
   "execution_count": 87,
   "metadata": {
    "collapsed": false
   },
   "outputs": [
    {
     "name": "stdout",
     "output_type": "stream",
     "text": [
      "3.0 <type 'int'>\n",
      "Davies-Bouldin score of Oracle 0 = 39.9810939575\n",
      "-5.0 <type 'int'>\n",
      "Davies-Bouldin score of Oracle 1 = 22.9724276213\n",
      "2.0 <type 'int'>\n",
      "Davies-Bouldin score of Oracle 2 = 28.3490093139\n",
      "1.0 <type 'int'>\n",
      "Davies-Bouldin score of Oracle 3 = 31.1869869056\n",
      "2.0 <type 'int'>\n",
      "Davies-Bouldin score of Oracle 4 = 32.9003876142\n"
     ]
    }
   ],
   "source": [
    "for i,ora in enumerate(oras):\n",
    "    centroids = np.vstack(np.hsplit(ora.getIntArrays(),numClusters))\n",
    "    estimator = KMeans(n_clusters=numClusters,init=centroids,n_init=1)\n",
    "    assignment=estimator.fit_predict(mixture)\n",
    "    centroids=estimator.cluster_centers_\n",
    "    ora.setIntArrays(np.concatenate(centroids))\n",
    "    print np.around(np.concatenate(centroids))[0],type(np.int(np.around(np.concatenate(centroids))[0]))\n",
    "    \n",
    "    score = DaviesBouldin.DaviesBouldin(mixture,centroids,assignment)\n",
    "    ora.score=score.eval()\n",
    "    print \"Davies-Bouldin score of Oracle\",i,\"=\",ora.score"
   ]
  },
  {
   "cell_type": "markdown",
   "metadata": {},
   "source": [
    "## Quantum (Rotation) Gate step\n",
    "With the first iteration performed, we compare all the oracles and keep only the best one. The others are subjected to a quantum rotation gate. The results below show the $\\alpha$ and $\\beta$ values of the qubits from the first qubit string of each oracle before and after the quantum rotation gate is applyed."
   ]
  },
  {
   "cell_type": "code",
   "execution_count": 8,
   "metadata": {
    "collapsed": false
   },
   "outputs": [
    {
     "name": "stdout",
     "output_type": "stream",
     "text": [
      "Best oracle was  3\n",
      "Oracle  0\n",
      "Old qubit 1st string:\n",
      "[[ 0.70710678  0.70710678]\n",
      " [ 0.70710678  0.70710678]\n",
      " [ 0.70710678  0.70710678]\n",
      " [ 0.70710678  0.70710678]\n",
      " [ 0.70710678  0.70710678]]\n",
      "New qubit 1st string:\n",
      "[[ 0.8293545   0.55872275]\n",
      " [ 0.70710678  0.70710678]\n",
      " [ 0.4075308   0.91319146]\n",
      " [ 0.52911616  0.8485494 ]\n",
      " [ 0.79570747  0.60568113]]\n",
      "Oracle  1\n",
      "Old qubit 1st string:\n",
      "[[ 0.70710678  0.70710678]\n",
      " [ 0.70710678  0.70710678]\n",
      " [ 0.70710678  0.70710678]\n",
      " [ 0.70710678  0.70710678]\n",
      " [ 0.70710678  0.70710678]]\n",
      "New qubit 1st string:\n",
      "[[ 0.70710678  0.70710678]\n",
      " [ 0.70710678  0.70710678]\n",
      " [ 0.70710678  0.70710678]\n",
      " [ 0.70710678  0.70710678]\n",
      " [ 0.82237887  0.56894024]]\n",
      "Oracle  2\n",
      "Old qubit 1st string:\n",
      "[[ 0.70710678  0.70710678]\n",
      " [ 0.70710678  0.70710678]\n",
      " [ 0.70710678  0.70710678]\n",
      " [ 0.70710678  0.70710678]\n",
      " [ 0.70710678  0.70710678]]\n",
      "New qubit 1st string:\n",
      "[[ 0.79409362  0.60779546]\n",
      " [ 0.70710678  0.70710678]\n",
      " [ 0.70710678  0.70710678]\n",
      " [ 0.50572401  0.86269532]\n",
      " [ 0.70710678  0.70710678]]\n",
      "Oracle  4\n",
      "Old qubit 1st string:\n",
      "[[ 0.70710678  0.70710678]\n",
      " [ 0.70710678  0.70710678]\n",
      " [ 0.70710678  0.70710678]\n",
      " [ 0.70710678  0.70710678]\n",
      " [ 0.70710678  0.70710678]]\n",
      "New qubit 1st string:\n",
      "[[ 0.70710678  0.70710678]\n",
      " [ 0.50315957  0.86419352]\n",
      " [ 0.70710678  0.70710678]\n",
      " [ 0.70710678  0.70710678]\n",
      " [ 0.83866058  0.54465442]]\n"
     ]
    }
   ],
   "source": [
    "best=0\n",
    "for i in range(1,numOracles):\n",
    "    if oras[i].score<oras[i-1].score:\n",
    "        best=i\n",
    "\n",
    "print \"Best oracle was \",best\n",
    "        \n",
    "for i in range(0,numOracles):\n",
    "    if i == best:\n",
    "        continue\n",
    "    \n",
    "    print \"Oracle \",i\n",
    "    qbString=list()\n",
    "    for j in range(0,qubitStringLen):\n",
    "        qbString.append([oras[i].qstrings[0].quString[j].alpha,oras[i].qstrings[0].quString[j].beta])\n",
    "    print \"Old qubit 1st string:\\n\",np.array(qbString)\n",
    "    \n",
    "    oras[i].QuantumGateStep(oras[best])\n",
    "    \n",
    "    qbString=list()\n",
    "    for j in range(0,qubitStringLen):\n",
    "        qbString.append([oras[i].qstrings[0].quString[j].alpha,oras[i].qstrings[0].quString[j].beta])\n",
    "    print \"New qubit 1st string:\\n\",np.array(qbString)\n",
    "    "
   ]
  },
  {
   "cell_type": "markdown",
   "metadata": {},
   "source": [
    "# Automated Quantum (Genetic) K-Means"
   ]
  },
  {
   "cell_type": "code",
   "execution_count": 274,
   "metadata": {
    "collapsed": false
   },
   "outputs": [
    {
     "name": "stdout",
     "output_type": "stream",
     "text": [
      " . . . . . . . . . . . . . . . . . . . . . . . . . . . . . . . . . . . . . . . . . . . . . . . . . . . . . . . . . . . . . . . . . . . . . . . . . . . . . . . . . . . . . . . . . . . . . . . . . . . . . . . . . . . . . . . . . . . . . . . . . . . . . . . . . . . . . . . . . . . . . . . . . . . . . . . . . . . . . . . . . . . . . . . . . . . . . . . . . . . . . . . . . . . . . . . . . . . . . . . . . . . . . . . . . . . . . . . . . . . . . . . . . . . . . . . . . . . . . . . . . . . . . . . . . . . . . . . . . . . . . . . . . . . . . . . . . . . . . . . . . . . . . . . . . . . . . . . . . . . . . . . . . . . . . . . . . . . . . . . . . . . . . . . . . . . . . . . . . . . . . . . . . . . . . . . . . . . . . . . . . . . . . . . . . . . . . . . . . . . . . . . . . . . . . . . . . . . . . . . . . . . . . . . . . . . . . . . . . . . . . . . . . . . . . . . . . . . . . . . . . . . . . . . . . . . . . . . . . . . . . . . . . . . . . . . . . . . . . . . . . . . . . . . . . . . . . . . . . . . . \n",
      "\n",
      "Best Oracle was  3  with score  9.73687028825\n",
      "Score of Oracle 0  was  9.73687028825\n",
      "Score of Oracle 1  was  9.73687028825\n",
      "Score of Oracle 2  was  9.73687028825\n",
      "Score of Oracle 3  was  9.73687028825\n",
      "Score of Oracle 4  was  16.5879698478\n"
     ]
    }
   ],
   "source": [
    "## Initialization  step\n",
    "numClusters=5\n",
    "numOracles=5\n",
    "qubitStringLen=5\n",
    "qGenerations=500\n",
    "\n",
    "best=0 #index of best oracle (starts at 0)\n",
    "\n",
    "oras=list()\n",
    "centroids=[0]*numOracles\n",
    "estimator=[0]*numOracles\n",
    "assignment=[0]*numOracles\n",
    "\n",
    "for i in range(0,numOracles):\n",
    "    oras.append(oracle.Oracle())\n",
    "    oras[i].initialization(numClusters*2,qubitStringLen)\n",
    "    oras[i].collapse()\n",
    "\n",
    "for qGen_ in range(0,qGenerations):\n",
    "    ## Clustering step\n",
    "    for i,ora in enumerate(oras):\n",
    "        centroids[i] = np.vstack(np.hsplit(ora.getIntArrays(),numClusters))\n",
    "        estimator[i] = KMeans(n_clusters=numClusters,init=centroids,n_init=1)\n",
    "        assignment[i] = estimator.fit_predict(mixture)\n",
    "        centroids[i] = estimator.cluster_centers_\n",
    "    \n",
    "    ## Compute fitness\n",
    "        score = DaviesBouldin.DaviesBouldin(mixture,centroids,assignment)\n",
    "        ora.score=score.eval()\n",
    "    \n",
    "    ## Store best from this generation\n",
    "    for i in range(1,numOracles):\n",
    "        if oras[i].score<oras[best].score:\n",
    "            best=i\n",
    "            \n",
    "    ## Quantum Rotation Gate \n",
    "    for i in range(0,numOracles):\n",
    "        if i == best:\n",
    "            continue\n",
    "        \n",
    "        oras[i].QuantumGateStep(oras[best])\n",
    "        \n",
    "    ## Collapse qubits\n",
    "        oras[i].collapse()\n",
    "    \"\"\"print \"\\n-------- It \",qGen_,\" ---------------\"\n",
    "    for i,ora in enumerate(oras):\n",
    "        print \"Score of Oracle\",i,\" was \",ora.score\"\"\"\n",
    "    print '.', # simple \"progress bar\"\n",
    "        \n",
    "\n",
    "for i in range(1,numOracles):\n",
    "    if oras[i].score<oras[best].score:\n",
    "        best=i\n",
    "print \"\\n\\nBest Oracle was \",best,\" with score \",oras[best].score\n",
    "for i,ora in enumerate(oras):\n",
    "    print \"Score of Oracle\",i,\" was \",ora.score\n",
    "    \n"
   ]
  },
  {
   "cell_type": "code",
   "execution_count": 51,
   "metadata": {
    "collapsed": false
   },
   "outputs": [
    {
     "name": "stdout",
     "output_type": "stream",
     "text": [
      "23.143089633\n",
      "23.143089633\n",
      "22.8047921824\n",
      "38.7528696249\n",
      "23.143089633\n",
      "1 23.143089633 23.143089633 1\n",
      "2 22.8047921824 23.143089633 2\n",
      "\n",
      "\n",
      "Best Oracle was  2  with score  22.8047921824\n",
      "38.7528696249 23.143089633\n"
     ]
    }
   ],
   "source": [
    "for i in range(0,5):\n",
    "    print oras[i].score\n",
    "    \n",
    "best=0\n",
    "for i in range(1,numOracles):\n",
    "    if oras[i].score<oras[best].score:\n",
    "        best=i\n",
    "        print i, oras[i].score, oras[i-1].score, best\n",
    "        \n",
    "print \"\\n\\nBest Oracle was \",best,\" with score \",oras[best].score\n",
    "print oras[3].score,oras[4].score"
   ]
  },
  {
   "cell_type": "markdown",
   "metadata": {},
   "source": [
    "# Playing with numpy complex numbers"
   ]
  },
  {
   "cell_type": "code",
   "execution_count": 674,
   "metadata": {
    "collapsed": false
   },
   "outputs": [
    {
     "name": "stdout",
     "output_type": "stream",
     "text": [
      "raw: (0.177353593511+0.450827989118j) (0.785741131715+0.392517725945j)\n",
      "normalized: (0.258861992631+0.658020112741j) (0.632569114193+0.316000499635j)\n",
      "|a|^2 + |b|^2= 1.0\n"
     ]
    },
    {
     "data": {
      "text/plain": [
       "0.78539816339744828"
      ]
     },
     "execution_count": 674,
     "metadata": {},
     "output_type": "execute_result"
    }
   ],
   "source": [
    "a=np.complex(np.random.rand(),np.random.rand())\n",
    "b=np.complex(np.random.rand(),np.random.rand())\n",
    "print \"raw:\",a,b\n",
    "\n",
    "a=a/(np.sqrt(2)*np.abs(a))\n",
    "b=b/(np.sqrt(2)*np.abs(b))\n",
    "print \"normalized:\",a,b\n",
    "print \"|a|^2 + |b|^2=\",pow(np.abs(a),2)+pow(np.abs(b),2)\n",
    "\n",
    "np.arctan(1)"
   ]
  },
  {
   "cell_type": "code",
   "execution_count": 675,
   "metadata": {
    "collapsed": false
   },
   "outputs": [
    {
     "name": "stdout",
     "output_type": "stream",
     "text": [
      "1.11022302463e-16 1.11022302463e-16\n"
     ]
    }
   ],
   "source": [
    "alpha=1/np.sqrt(2)\n",
    "beta=1/np.sqrt(2)\n",
    "\n",
    "\n",
    "qb=np.matrix([[alpha],[beta]])\n",
    "angle=np.arctan(alpha / beta)\n",
    "\n",
    "rot=np.matrix([[np.cos(angle),-np.sin(angle)],[np.sin(angle),np.cos(angle)]])\n",
    "\n",
    "qb=rot*qb\n",
    "\n",
    "alpha=qb.A1[0]\n",
    "beta=qb.A1[0]\n",
    "\n",
    "print alpha,beta\n"
   ]
  },
  {
   "cell_type": "code",
   "execution_count": 98,
   "metadata": {
    "collapsed": false
   },
   "outputs": [
    {
     "data": {
      "text/plain": [
       "array([1, 2, 4])"
      ]
     },
     "execution_count": 98,
     "metadata": {},
     "output_type": "execute_result"
    }
   ],
   "source": [
    "x=np.array([1.2,2.5,3.5])\n",
    "x=np.around(x)\n",
    "x=x.astype(int)\n",
    "x"
   ]
  },
  {
   "cell_type": "code",
   "execution_count": 15,
   "metadata": {
    "collapsed": false
   },
   "outputs": [
    {
     "ename": "TypeError",
     "evalue": "cannot concatenate 'str' and 'int' objects",
     "output_type": "error",
     "traceback": [
      "\u001b[0;31m---------------------------------------------------------------------------\u001b[0m\n\u001b[0;31mTypeError\u001b[0m                                 Traceback (most recent call last)",
      "\u001b[0;32m<ipython-input-15-cea087ece0b1>\u001b[0m in \u001b[0;36m<module>\u001b[0;34m()\u001b[0m\n\u001b[1;32m      4\u001b[0m \u001b[0mbar\u001b[0m\u001b[0;34m.\u001b[0m\u001b[0mint\u001b[0m\u001b[0;34m=\u001b[0m\u001b[0;36m42\u001b[0m\u001b[0;34m\u001b[0m\u001b[0m\n\u001b[1;32m      5\u001b[0m \u001b[0;32mprint\u001b[0m \u001b[0mbar\u001b[0m\u001b[0;34m.\u001b[0m\u001b[0mfloat\u001b[0m\u001b[0;34m\u001b[0m\u001b[0m\n\u001b[0;32m----> 6\u001b[0;31m \u001b[0;32mprint\u001b[0m \u001b[0mint\u001b[0m\u001b[0;34m(\u001b[0m\u001b[0mbar\u001b[0m\u001b[0;34m.\u001b[0m\u001b[0mbin\u001b[0m\u001b[0;34m[\u001b[0m\u001b[0;36m0\u001b[0m\u001b[0;34m]\u001b[0m\u001b[0;34m)\u001b[0m\u001b[0;34m+\u001b[0m\u001b[0;36m1\u001b[0m\u001b[0;34m,\u001b[0m\u001b[0mbar\u001b[0m\u001b[0;34m.\u001b[0m\u001b[0mbin\u001b[0m\u001b[0;34m[\u001b[0m\u001b[0;36m0\u001b[0m\u001b[0;34m]\u001b[0m\u001b[0;34m+\u001b[0m\u001b[0;36m1\u001b[0m\u001b[0;34m\u001b[0m\u001b[0m\n\u001b[0m",
      "\u001b[0;31mTypeError\u001b[0m: cannot concatenate 'str' and 'int' objects"
     ]
    },
    {
     "name": "stdout",
     "output_type": "stream",
     "text": [
      "5.88545355016e-44\n",
      "1"
     ]
    }
   ],
   "source": [
    "from bitstring import BitArray\n",
    "\n",
    "bar=BitArray(length=32)\n",
    "bar.int=42\n",
    "print bar.float\n",
    "print int(bar.bin[0])+1,bar.bin[0]+1"
   ]
  },
  {
   "cell_type": "code",
   "execution_count": 16,
   "metadata": {
    "collapsed": false
   },
   "outputs": [
    {
     "ename": "NameError",
     "evalue": "name 'np' is not defined",
     "output_type": "error",
     "traceback": [
      "\u001b[0;31m---------------------------------------------------------------------------\u001b[0m\n\u001b[0;31mNameError\u001b[0m                                 Traceback (most recent call last)",
      "\u001b[0;32m<ipython-input-16-f599fcd7ae02>\u001b[0m in \u001b[0;36m<module>\u001b[0;34m()\u001b[0m\n\u001b[0;32m----> 1\u001b[0;31m \u001b[0mx\u001b[0m\u001b[0;34m=\u001b[0m\u001b[0mnp\u001b[0m\u001b[0;34m.\u001b[0m\u001b[0mlinspace\u001b[0m\u001b[0;34m(\u001b[0m\u001b[0;34m-\u001b[0m\u001b[0;36m2\u001b[0m\u001b[0;34m*\u001b[0m\u001b[0mnp\u001b[0m\u001b[0;34m.\u001b[0m\u001b[0mpi\u001b[0m\u001b[0;34m,\u001b[0m\u001b[0;36m2\u001b[0m\u001b[0;34m*\u001b[0m\u001b[0mnp\u001b[0m\u001b[0;34m.\u001b[0m\u001b[0mpi\u001b[0m\u001b[0;34m,\u001b[0m\u001b[0;36m200\u001b[0m\u001b[0;34m)\u001b[0m\u001b[0;34m\u001b[0m\u001b[0m\n\u001b[0m\u001b[1;32m      2\u001b[0m \u001b[0my\u001b[0m\u001b[0;34m=\u001b[0m\u001b[0mnp\u001b[0m\u001b[0;34m.\u001b[0m\u001b[0marctan\u001b[0m\u001b[0;34m(\u001b[0m\u001b[0mx\u001b[0m\u001b[0;34m)\u001b[0m\u001b[0;34m\u001b[0m\u001b[0m\n\u001b[1;32m      3\u001b[0m \u001b[0mplt\u001b[0m\u001b[0;34m.\u001b[0m\u001b[0mplot\u001b[0m\u001b[0;34m(\u001b[0m\u001b[0mx\u001b[0m\u001b[0;34m,\u001b[0m\u001b[0my\u001b[0m\u001b[0;34m)\u001b[0m\u001b[0;34m\u001b[0m\u001b[0m\n\u001b[1;32m      4\u001b[0m \u001b[0mplt\u001b[0m\u001b[0;34m.\u001b[0m\u001b[0mgrid\u001b[0m\u001b[0;34m(\u001b[0m\u001b[0;34m)\u001b[0m\u001b[0;34m\u001b[0m\u001b[0m\n\u001b[1;32m      5\u001b[0m \u001b[0mnp\u001b[0m\u001b[0;34m.\u001b[0m\u001b[0marctan\u001b[0m\u001b[0;34m(\u001b[0m\u001b[0;34m-\u001b[0m\u001b[0mnp\u001b[0m\u001b[0;34m.\u001b[0m\u001b[0minf\u001b[0m\u001b[0;34m)\u001b[0m\u001b[0;34m\u001b[0m\u001b[0m\n",
      "\u001b[0;31mNameError\u001b[0m: name 'np' is not defined"
     ]
    }
   ],
   "source": [
    "x=np.linspace(-2*np.pi,2*np.pi,200)\n",
    "y=np.arctan(x)\n",
    "plt.plot(x,y)\n",
    "plt.grid()\n",
    "np.arctan(-np.inf)"
   ]
  }
 ],
 "metadata": {
  "kernelspec": {
   "display_name": "Python 2",
   "language": "python",
   "name": "python2"
  },
  "language_info": {
   "codemirror_mode": {
    "name": "ipython",
    "version": 2
   },
   "file_extension": ".py",
   "mimetype": "text/x-python",
   "name": "python",
   "nbconvert_exporter": "python",
   "pygments_lexer": "ipython2",
   "version": "2.7.10"
  }
 },
 "nbformat": 4,
 "nbformat_minor": 0
}
