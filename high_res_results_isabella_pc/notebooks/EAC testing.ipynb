{
 "cells": [
  {
   "cell_type": "markdown",
   "metadata": {},
   "source": [
    "author: Diogo Silva"
   ]
  },
  {
   "cell_type": "code",
   "execution_count": 1,
   "metadata": {
    "collapsed": false
   },
   "outputs": [
    {
     "name": "stdout",
     "output_type": "stream",
     "text": [
      "Populating the interactive namespace from numpy and matplotlib\n"
     ]
    }
   ],
   "source": [
    "%pylab inline\n",
    "#%qtconsole"
   ]
  },
  {
   "cell_type": "code",
   "execution_count": 49,
   "metadata": {
    "collapsed": false
   },
   "outputs": [],
   "source": [
    "home = %env HOME"
   ]
  },
  {
   "cell_type": "code",
   "execution_count": 50,
   "metadata": {
    "collapsed": false
   },
   "outputs": [
    {
     "name": "stdout",
     "output_type": "stream",
     "text": [
      "/home/diogoaos/QCThesis/EAC\n"
     ]
    }
   ],
   "source": [
    "cd $home/QCThesis/EAC"
   ]
  },
  {
   "cell_type": "markdown",
   "metadata": {
    "collapsed": true
   },
   "source": [
    "# Generate data & data partitions"
   ]
  },
  {
   "cell_type": "code",
   "execution_count": 4,
   "metadata": {
    "collapsed": false
   },
   "outputs": [
    {
     "name": "stderr",
     "output_type": "stream",
     "text": [
      "2015-04-22 09:26:30,627 - status - INFO - Start of logging.\n",
      "2015-04-22 09:26:30,627 - status - INFO - Start of logging.\n",
      "INFO:status:Start of logging.\n",
      "2015-04-22 09:26:30,630 - status - INFO - Generating data:nsamples=100,ndims=2,centers=6\n",
      "2015-04-22 09:26:30,630 - status - INFO - Generating data:nsamples=100,ndims=2,centers=6\n",
      "INFO:status:Generating data:nsamples=100,ndims=2,centers=6\n",
      "2015-04-22 09:26:30,637 - status - INFO - Generating partition: #0, clusters=[11]\n",
      "2015-04-22 09:26:30,637 - status - INFO - Generating partition: #0, clusters=[11]\n",
      "INFO:status:Generating partition: #0, clusters=[11]\n",
      "2015-04-22 09:26:30,654 - status - INFO - Saved partition: test/syn_cem_partition_0.csv\n",
      "2015-04-22 09:26:30,654 - status - INFO - Saved partition: test/syn_cem_partition_0.csv\n",
      "INFO:status:Saved partition: test/syn_cem_partition_0.csv\n",
      "2015-04-22 09:26:30,658 - status - INFO - Generating partition: #1, clusters=[13]\n",
      "2015-04-22 09:26:30,658 - status - INFO - Generating partition: #1, clusters=[13]\n",
      "INFO:status:Generating partition: #1, clusters=[13]\n",
      "2015-04-22 09:26:30,675 - status - INFO - Saved partition: test/syn_cem_partition_1.csv\n",
      "2015-04-22 09:26:30,675 - status - INFO - Saved partition: test/syn_cem_partition_1.csv\n",
      "INFO:status:Saved partition: test/syn_cem_partition_1.csv\n",
      "2015-04-22 09:26:30,679 - status - INFO - Generating partition: #2, clusters=[17]\n",
      "2015-04-22 09:26:30,679 - status - INFO - Generating partition: #2, clusters=[17]\n",
      "INFO:status:Generating partition: #2, clusters=[17]\n",
      "2015-04-22 09:26:30,698 - status - INFO - Saved partition: test/syn_cem_partition_2.csv\n",
      "2015-04-22 09:26:30,698 - status - INFO - Saved partition: test/syn_cem_partition_2.csv\n",
      "INFO:status:Saved partition: test/syn_cem_partition_2.csv\n",
      "2015-04-22 09:26:30,702 - status - INFO - Generating partition: #3, clusters=[12]\n",
      "2015-04-22 09:26:30,702 - status - INFO - Generating partition: #3, clusters=[12]\n",
      "INFO:status:Generating partition: #3, clusters=[12]\n",
      "2015-04-22 09:26:30,721 - status - INFO - Saved partition: test/syn_cem_partition_3.csv\n",
      "2015-04-22 09:26:30,721 - status - INFO - Saved partition: test/syn_cem_partition_3.csv\n",
      "INFO:status:Saved partition: test/syn_cem_partition_3.csv\n",
      "2015-04-22 09:26:30,724 - status - INFO - Generating partition: #4, clusters=[11]\n",
      "2015-04-22 09:26:30,724 - status - INFO - Generating partition: #4, clusters=[11]\n",
      "INFO:status:Generating partition: #4, clusters=[11]\n",
      "2015-04-22 09:26:30,742 - status - INFO - Saved partition: test/syn_cem_partition_4.csv\n",
      "2015-04-22 09:26:30,742 - status - INFO - Saved partition: test/syn_cem_partition_4.csv\n",
      "INFO:status:Saved partition: test/syn_cem_partition_4.csv\n",
      "2015-04-22 09:26:30,746 - status - INFO - Generating partition: #5, clusters=[8]\n",
      "2015-04-22 09:26:30,746 - status - INFO - Generating partition: #5, clusters=[8]\n",
      "INFO:status:Generating partition: #5, clusters=[8]\n",
      "2015-04-22 09:26:30,763 - status - INFO - Saved partition: test/syn_cem_partition_5.csv\n",
      "2015-04-22 09:26:30,763 - status - INFO - Saved partition: test/syn_cem_partition_5.csv\n",
      "INFO:status:Saved partition: test/syn_cem_partition_5.csv\n",
      "2015-04-22 09:26:30,767 - status - INFO - Generating partition: #6, clusters=[4]\n",
      "2015-04-22 09:26:30,767 - status - INFO - Generating partition: #6, clusters=[4]\n",
      "INFO:status:Generating partition: #6, clusters=[4]\n",
      "2015-04-22 09:26:30,784 - status - INFO - Saved partition: test/syn_cem_partition_6.csv\n",
      "2015-04-22 09:26:30,784 - status - INFO - Saved partition: test/syn_cem_partition_6.csv\n",
      "INFO:status:Saved partition: test/syn_cem_partition_6.csv\n",
      "2015-04-22 09:26:30,788 - status - INFO - Generating partition: #7, clusters=[6]\n",
      "2015-04-22 09:26:30,788 - status - INFO - Generating partition: #7, clusters=[6]\n",
      "INFO:status:Generating partition: #7, clusters=[6]\n",
      "2015-04-22 09:26:30,804 - status - INFO - Saved partition: test/syn_cem_partition_7.csv\n",
      "2015-04-22 09:26:30,804 - status - INFO - Saved partition: test/syn_cem_partition_7.csv\n",
      "INFO:status:Saved partition: test/syn_cem_partition_7.csv\n",
      "2015-04-22 09:26:30,808 - status - INFO - Generating partition: #8, clusters=[9]\n",
      "2015-04-22 09:26:30,808 - status - INFO - Generating partition: #8, clusters=[9]\n",
      "INFO:status:Generating partition: #8, clusters=[9]\n",
      "2015-04-22 09:26:30,824 - status - INFO - Saved partition: test/syn_cem_partition_8.csv\n",
      "2015-04-22 09:26:30,824 - status - INFO - Saved partition: test/syn_cem_partition_8.csv\n",
      "INFO:status:Saved partition: test/syn_cem_partition_8.csv\n",
      "2015-04-22 09:26:30,828 - status - INFO - Generating partition: #9, clusters=[22]\n",
      "2015-04-22 09:26:30,828 - status - INFO - Generating partition: #9, clusters=[22]\n",
      "INFO:status:Generating partition: #9, clusters=[22]\n",
      "2015-04-22 09:26:30,848 - status - INFO - Saved partition: test/syn_cem_partition_9.csv\n",
      "2015-04-22 09:26:30,848 - status - INFO - Saved partition: test/syn_cem_partition_9.csv\n",
      "INFO:status:Saved partition: test/syn_cem_partition_9.csv\n",
      "2015-04-22 09:26:30,851 - status - INFO - Generating partition: #10, clusters=[14]\n",
      "2015-04-22 09:26:30,851 - status - INFO - Generating partition: #10, clusters=[14]\n",
      "INFO:status:Generating partition: #10, clusters=[14]\n",
      "2015-04-22 09:26:30,868 - status - INFO - Saved partition: test/syn_cem_partition_10.csv\n",
      "2015-04-22 09:26:30,868 - status - INFO - Saved partition: test/syn_cem_partition_10.csv\n",
      "INFO:status:Saved partition: test/syn_cem_partition_10.csv\n",
      "2015-04-22 09:26:30,872 - status - INFO - Generating partition: #11, clusters=[11]\n",
      "2015-04-22 09:26:30,872 - status - INFO - Generating partition: #11, clusters=[11]\n",
      "INFO:status:Generating partition: #11, clusters=[11]\n",
      "2015-04-22 09:26:30,889 - status - INFO - Saved partition: test/syn_cem_partition_11.csv\n",
      "2015-04-22 09:26:30,889 - status - INFO - Saved partition: test/syn_cem_partition_11.csv\n",
      "INFO:status:Saved partition: test/syn_cem_partition_11.csv\n",
      "2015-04-22 09:26:30,893 - status - INFO - Generating partition: #12, clusters=[10]\n",
      "2015-04-22 09:26:30,893 - status - INFO - Generating partition: #12, clusters=[10]\n",
      "INFO:status:Generating partition: #12, clusters=[10]\n",
      "2015-04-22 09:26:30,910 - status - INFO - Saved partition: test/syn_cem_partition_12.csv\n",
      "2015-04-22 09:26:30,910 - status - INFO - Saved partition: test/syn_cem_partition_12.csv\n",
      "INFO:status:Saved partition: test/syn_cem_partition_12.csv\n",
      "2015-04-22 09:26:30,914 - status - INFO - Generating partition: #13, clusters=[24]\n",
      "2015-04-22 09:26:30,914 - status - INFO - Generating partition: #13, clusters=[24]\n",
      "INFO:status:Generating partition: #13, clusters=[24]\n",
      "2015-04-22 09:26:30,935 - status - INFO - Saved partition: test/syn_cem_partition_13.csv\n",
      "2015-04-22 09:26:30,935 - status - INFO - Saved partition: test/syn_cem_partition_13.csv\n",
      "INFO:status:Saved partition: test/syn_cem_partition_13.csv\n",
      "2015-04-22 09:26:30,938 - status - INFO - Generating partition: #14, clusters=[11]\n",
      "2015-04-22 09:26:30,938 - status - INFO - Generating partition: #14, clusters=[11]\n",
      "INFO:status:Generating partition: #14, clusters=[11]\n",
      "2015-04-22 09:26:30,956 - status - INFO - Saved partition: test/syn_cem_partition_14.csv\n",
      "2015-04-22 09:26:30,956 - status - INFO - Saved partition: test/syn_cem_partition_14.csv\n",
      "INFO:status:Saved partition: test/syn_cem_partition_14.csv\n",
      "2015-04-22 09:26:30,959 - status - INFO - Generating partition: #15, clusters=[16]\n",
      "2015-04-22 09:26:30,959 - status - INFO - Generating partition: #15, clusters=[16]\n",
      "INFO:status:Generating partition: #15, clusters=[16]\n",
      "2015-04-22 09:26:30,978 - status - INFO - Saved partition: test/syn_cem_partition_15.csv\n",
      "2015-04-22 09:26:30,978 - status - INFO - Saved partition: test/syn_cem_partition_15.csv\n",
      "INFO:status:Saved partition: test/syn_cem_partition_15.csv\n",
      "2015-04-22 09:26:30,981 - status - INFO - Generating partition: #16, clusters=[23]\n",
      "2015-04-22 09:26:30,981 - status - INFO - Generating partition: #16, clusters=[23]\n",
      "INFO:status:Generating partition: #16, clusters=[23]\n",
      "2015-04-22 09:26:31,001 - status - INFO - Saved partition: test/syn_cem_partition_16.csv\n",
      "2015-04-22 09:26:31,001 - status - INFO - Saved partition: test/syn_cem_partition_16.csv\n",
      "INFO:status:Saved partition: test/syn_cem_partition_16.csv\n",
      "2015-04-22 09:26:31,004 - status - INFO - Generating partition: #17, clusters=[21]\n",
      "2015-04-22 09:26:31,004 - status - INFO - Generating partition: #17, clusters=[21]\n",
      "INFO:status:Generating partition: #17, clusters=[21]\n",
      "2015-04-22 09:26:31,023 - status - INFO - Saved partition: test/syn_cem_partition_17.csv\n",
      "2015-04-22 09:26:31,023 - status - INFO - Saved partition: test/syn_cem_partition_17.csv\n",
      "INFO:status:Saved partition: test/syn_cem_partition_17.csv\n",
      "2015-04-22 09:26:31,026 - status - INFO - Generating partition: #18, clusters=[9]\n",
      "2015-04-22 09:26:31,026 - status - INFO - Generating partition: #18, clusters=[9]\n",
      "INFO:status:Generating partition: #18, clusters=[9]\n",
      "2015-04-22 09:26:31,043 - status - INFO - Saved partition: test/syn_cem_partition_18.csv\n",
      "2015-04-22 09:26:31,043 - status - INFO - Saved partition: test/syn_cem_partition_18.csv\n",
      "INFO:status:Saved partition: test/syn_cem_partition_18.csv\n",
      "2015-04-22 09:26:31,047 - status - INFO - Generating partition: #19, clusters=[5]\n",
      "2015-04-22 09:26:31,047 - status - INFO - Generating partition: #19, clusters=[5]\n",
      "INFO:status:Generating partition: #19, clusters=[5]\n",
      "2015-04-22 09:26:31,063 - status - INFO - Saved partition: test/syn_cem_partition_19.csv\n",
      "2015-04-22 09:26:31,063 - status - INFO - Saved partition: test/syn_cem_partition_19.csv\n",
      "INFO:status:Saved partition: test/syn_cem_partition_19.csv\n"
     ]
    }
   ],
   "source": [
    "%run generatePartitions.py -d synthetic -n 100 -D 2 -C 6 -i 3 -m cuda -s syn_cem -np 20 -mc 4 -Mc 25 -dir test/"
   ]
  },
  {
   "cell_type": "markdown",
   "metadata": {},
   "source": [
    "# Get test partitions"
   ]
  },
  {
   "cell_type": "code",
   "execution_count": 55,
   "metadata": {
    "collapsed": false
   },
   "outputs": [
    {
     "name": "stdout",
     "output_type": "stream",
     "text": [
      "syn_cem.log                syn_data_partition_1.csv   syn_data_partition_34.csv\r\n",
      "syn_cem_data.csv           syn_data_partition_10.csv  syn_data_partition_35.csv\r\n",
      "syn_cem_ground_truth.csv   syn_data_partition_11.csv  syn_data_partition_36.csv\r\n",
      "syn_cem_partition_0.csv    syn_data_partition_12.csv  syn_data_partition_37.csv\r\n",
      "syn_cem_partition_1.csv    syn_data_partition_13.csv  syn_data_partition_38.csv\r\n",
      "syn_cem_partition_10.csv   syn_data_partition_14.csv  syn_data_partition_39.csv\r\n",
      "syn_cem_partition_11.csv   syn_data_partition_15.csv  syn_data_partition_4.csv\r\n",
      "syn_cem_partition_12.csv   syn_data_partition_16.csv  syn_data_partition_40.csv\r\n",
      "syn_cem_partition_13.csv   syn_data_partition_17.csv  syn_data_partition_41.csv\r\n",
      "syn_cem_partition_14.csv   syn_data_partition_18.csv  syn_data_partition_42.csv\r\n",
      "syn_cem_partition_15.csv   syn_data_partition_19.csv  syn_data_partition_43.csv\r\n",
      "syn_cem_partition_16.csv   syn_data_partition_2.csv   syn_data_partition_44.csv\r\n",
      "syn_cem_partition_17.csv   syn_data_partition_20.csv  syn_data_partition_45.csv\r\n",
      "syn_cem_partition_18.csv   syn_data_partition_21.csv  syn_data_partition_46.csv\r\n",
      "syn_cem_partition_19.csv   syn_data_partition_22.csv  syn_data_partition_47.csv\r\n",
      "syn_cem_partition_2.csv    syn_data_partition_23.csv  syn_data_partition_48.csv\r\n",
      "syn_cem_partition_3.csv    syn_data_partition_24.csv  syn_data_partition_49.csv\r\n",
      "syn_cem_partition_4.csv    syn_data_partition_25.csv  syn_data_partition_5.csv\r\n",
      "syn_cem_partition_5.csv    syn_data_partition_26.csv  syn_data_partition_6.csv\r\n",
      "syn_cem_partition_6.csv    syn_data_partition_27.csv  syn_data_partition_7.csv\r\n",
      "syn_cem_partition_7.csv    syn_data_partition_28.csv  syn_data_partition_8.csv\r\n",
      "syn_cem_partition_8.csv    syn_data_partition_29.csv  syn_data_partition_9.csv\r\n",
      "syn_cem_partition_9.csv    syn_data_partition_3.csv   syn_mil.log\r\n",
      "syn_data.log               syn_data_partition_30.csv  syn_mil_data.csv\r\n",
      "syn_data_data.csv          syn_data_partition_31.csv  syn_mil_ground_truth.csv\r\n",
      "syn_data_ground_truth.csv  syn_data_partition_32.csv\r\n",
      "syn_data_partition_0.csv   syn_data_partition_33.csv\r\n"
     ]
    }
   ],
   "source": [
    "ls test"
   ]
  },
  {
   "cell_type": "code",
   "execution_count": 88,
   "metadata": {
    "collapsed": false
   },
   "outputs": [],
   "source": [
    "files=!ls $home/QCThesis/EAC/test\n",
    "folder= home + \"/QCThesis/EAC/test/\"\n",
    "for i,f in enumerate(files):\n",
    "    files[i] = folder+f\n",
    "\n",
    "partition_files = [f for f in files if \"_partition_\" in f and \"syn_cem\" in f]"
   ]
  },
  {
   "cell_type": "code",
   "execution_count": 89,
   "metadata": {
    "collapsed": false
   },
   "outputs": [
    {
     "data": {
      "text/plain": [
       "['/home/diogoaos/QCThesis/EAC/test/syn_cem_partition_0.csv',\n",
       " '/home/diogoaos/QCThesis/EAC/test/syn_cem_partition_1.csv',\n",
       " '/home/diogoaos/QCThesis/EAC/test/syn_cem_partition_10.csv',\n",
       " '/home/diogoaos/QCThesis/EAC/test/syn_cem_partition_11.csv',\n",
       " '/home/diogoaos/QCThesis/EAC/test/syn_cem_partition_12.csv',\n",
       " '/home/diogoaos/QCThesis/EAC/test/syn_cem_partition_13.csv',\n",
       " '/home/diogoaos/QCThesis/EAC/test/syn_cem_partition_14.csv',\n",
       " '/home/diogoaos/QCThesis/EAC/test/syn_cem_partition_15.csv',\n",
       " '/home/diogoaos/QCThesis/EAC/test/syn_cem_partition_16.csv',\n",
       " '/home/diogoaos/QCThesis/EAC/test/syn_cem_partition_17.csv',\n",
       " '/home/diogoaos/QCThesis/EAC/test/syn_cem_partition_18.csv',\n",
       " '/home/diogoaos/QCThesis/EAC/test/syn_cem_partition_19.csv',\n",
       " '/home/diogoaos/QCThesis/EAC/test/syn_cem_partition_2.csv',\n",
       " '/home/diogoaos/QCThesis/EAC/test/syn_cem_partition_3.csv',\n",
       " '/home/diogoaos/QCThesis/EAC/test/syn_cem_partition_4.csv',\n",
       " '/home/diogoaos/QCThesis/EAC/test/syn_cem_partition_5.csv',\n",
       " '/home/diogoaos/QCThesis/EAC/test/syn_cem_partition_6.csv',\n",
       " '/home/diogoaos/QCThesis/EAC/test/syn_cem_partition_7.csv',\n",
       " '/home/diogoaos/QCThesis/EAC/test/syn_cem_partition_8.csv',\n",
       " '/home/diogoaos/QCThesis/EAC/test/syn_cem_partition_9.csv']"
      ]
     },
     "execution_count": 89,
     "metadata": {},
     "output_type": "execute_result"
    }
   ],
   "source": [
    "partition_files"
   ]
  },
  {
   "cell_type": "markdown",
   "metadata": {},
   "source": [
    "# Cluster"
   ]
  },
  {
   "cell_type": "code",
   "execution_count": 60,
   "metadata": {
    "collapsed": false
   },
   "outputs": [
    {
     "data": {
      "text/plain": [
       "u'/home/diogoaos/QCThesis/EAC'"
      ]
     },
     "execution_count": 60,
     "metadata": {},
     "output_type": "execute_result"
    }
   ],
   "source": [
    "pwd"
   ]
  },
  {
   "cell_type": "code",
   "execution_count": 83,
   "metadata": {
    "collapsed": false
   },
   "outputs": [],
   "source": [
    "import eac"
   ]
  },
  {
   "cell_type": "code",
   "execution_count": 84,
   "metadata": {
    "collapsed": false
   },
   "outputs": [
    {
     "data": {
      "text/plain": [
       "<module 'eac' from 'eac.pyc'>"
      ]
     },
     "execution_count": 84,
     "metadata": {},
     "output_type": "execute_result"
    }
   ],
   "source": [
    "reload(eac)"
   ]
  },
  {
   "cell_type": "code",
   "execution_count": 90,
   "metadata": {
    "collapsed": false
   },
   "outputs": [],
   "source": [
    "#%debug\n",
    "reload(eac)\n",
    "estimator=eac.EAC(100)\n",
    "estimator.fit(partition_files,files=True,assoc_mode='full', prot_mode='random', nprot=None)"
   ]
  },
  {
   "cell_type": "code",
   "execution_count": 91,
   "metadata": {
    "collapsed": false
   },
   "outputs": [
    {
     "data": {
      "text/plain": [
       "140"
      ]
     },
     "execution_count": 91,
     "metadata": {},
     "output_type": "execute_result"
    }
   ],
   "source": [
    "np.where(estimator._coassoc==20)[0].size"
   ]
  },
  {
   "cell_type": "code",
   "execution_count": 92,
   "metadata": {
    "collapsed": false
   },
   "outputs": [
    {
     "name": "stdout",
     "output_type": "stream",
     "text": [
      "(100, 100)\n",
      "[[ 20.  14.  14. ...,  10.  11.   7.]\n",
      " [ 14.  20.  15. ...,  10.  12.   7.]\n",
      " [ 14.  15.  20. ...,  11.  14.   9.]\n",
      " ..., \n",
      " [ 10.  10.  11. ...,  20.   8.   5.]\n",
      " [ 11.  12.  14. ...,   8.  20.  15.]\n",
      " [  7.   7.   9. ...,   5.  15.  20.]]\n",
      "Diagonal\n",
      "[ 20.  20.  20.  20.  20.  20.  20.  20.  20.  20.  20.  20.  20.  20.  20.\n",
      "  20.  20.  20.  20.  20.  20.  20.  20.  20.  20.  20.  20.  20.  20.  20.\n",
      "  20.  20.  20.  20.  20.  20.  20.  20.  20.  20.  20.  20.  20.  20.  20.\n",
      "  20.  20.  20.  20.  20.  20.  20.  20.  20.  20.  20.  20.  20.  20.  20.\n",
      "  20.  20.  20.  20.  20.  20.  20.  20.  20.  20.  20.  20.  20.  20.  20.\n",
      "  20.  20.  20.  20.  20.  20.  20.  20.  20.  20.  20.  20.  20.  20.  20.\n",
      "  20.  20.  20.  20.  20.  20.  20.  20.  20.  20.]\n",
      "Symmetric:\tTrue\n"
     ]
    }
   ],
   "source": [
    "print estimator._coassoc.shape\n",
    "print estimator._coassoc\n",
    "print \"Diagonal\"\n",
    "print estimator._coassoc.diagonal()\n",
    "print \"Symmetric:\\t\",(estimator._coassoc.T == estimator._coassoc).all()"
   ]
  },
  {
   "cell_type": "markdown",
   "metadata": {},
   "source": [
    "# Linkage"
   ]
  },
  {
   "cell_type": "code",
   "execution_count": 20,
   "metadata": {
    "collapsed": true
   },
   "outputs": [],
   "source": [
    "from scipy.cluster.hierarchy import linkage\n",
    "from scipy.spatial.distance import squareform\n",
    "\n",
    "def _apply_linkage(assoc_mat,method='single'):\n",
    "    \"\"\"\n",
    "    SciPy linkage wants a distance array of format pdist. SciPy squareform \n",
    "    converts between the two formats.\n",
    "\n",
    "    assoc_mat \t: pair-wise similarity association matrix\n",
    "    method \t\t: linkage method to use; can be 'single'(default), 'complete',\n",
    "                  'average', 'weighted', 'centroid', 'median', 'ward'\n",
    "    \"\"\"\n",
    "\n",
    "    condensed_assoc = squareform(assoc_mat)\n",
    "\n",
    "    # convert pair-wise similarity array (assoc_mat->condensed_assoc) to dissimilarity\n",
    "    condensed_diss_assoc = condensed_assoc.max() - condensed_assoc\n",
    "\n",
    "    Z = linkage(condensed_diss_assoc,method=method)\n",
    "\n",
    "    return Z"
   ]
  },
  {
   "cell_type": "code",
   "execution_count": 56,
   "metadata": {
    "collapsed": true
   },
   "outputs": [],
   "source": [
    "assoc=estimator._coassoc\n",
    "coassoc = assoc / 20\n",
    "coassoc = coassoc.max() - coassoc"
   ]
  },
  {
   "cell_type": "code",
   "execution_count": 57,
   "metadata": {
    "collapsed": false
   },
   "outputs": [
    {
     "data": {
      "text/plain": [
       "array([[ 0.  ,  0.3 ,  0.3 , ...,  0.5 ,  0.45,  0.65],\n",
       "       [ 0.3 ,  0.  ,  0.25, ...,  0.5 ,  0.4 ,  0.65],\n",
       "       [ 0.3 ,  0.25,  0.  , ...,  0.45,  0.3 ,  0.55],\n",
       "       ..., \n",
       "       [ 0.5 ,  0.5 ,  0.45, ...,  0.  ,  0.6 ,  0.75],\n",
       "       [ 0.45,  0.4 ,  0.3 , ...,  0.6 ,  0.  ,  0.25],\n",
       "       [ 0.65,  0.65,  0.55, ...,  0.75,  0.25,  0.  ]])"
      ]
     },
     "execution_count": 57,
     "metadata": {},
     "output_type": "execute_result"
    }
   ],
   "source": [
    "coassoc"
   ]
  },
  {
   "cell_type": "code",
   "execution_count": 58,
   "metadata": {
    "collapsed": false
   },
   "outputs": [],
   "source": [
    "Z=_apply_linkage(coassoc)"
   ]
  },
  {
   "cell_type": "code",
   "execution_count": 48,
   "metadata": {
    "collapsed": false
   },
   "outputs": [],
   "source": [
    "import scipy.cluster.hierarchy as hie"
   ]
  },
  {
   "cell_type": "code",
   "execution_count": 64,
   "metadata": {
    "collapsed": false
   },
   "outputs": [
    {
     "name": "stdout",
     "output_type": "stream",
     "text": [
      "[  0.  98.   0.   2.]\n",
      "[  34.  100.    0.    3.]\n",
      "[  38.  101.    0.    4.]\n",
      "[  41.  102.    0.    5.]\n",
      "[  42.  103.    0.    6.]\n",
      "[  45.  104.    0.    7.]\n",
      "[  91.  105.    0.    8.]\n",
      "[  47.  106.    0.    9.]\n",
      "[  51.  107.    0.   10.]\n",
      "[  53.  108.    0.   11.]\n",
      "[  55.  109.    0.   12.]\n",
      "[  56.  110.    0.   13.]\n",
      "[  61.  111.    0.   14.]\n",
      "[  63.  112.    0.   15.]\n",
      "[  64.  113.    0.   16.]\n",
      "[  66.  114.    0.   17.]\n",
      "[  67.  115.    0.   18.]\n",
      "[  70.  116.    0.   19.]\n",
      "[  71.  117.    0.   20.]\n",
      "[  75.  118.    0.   21.]\n",
      "[  78.  119.    0.   22.]\n",
      "[  79.  120.    0.   23.]\n",
      "[  81.  121.    0.   24.]\n",
      "[  82.  122.    0.   25.]\n",
      "[  84.  123.    0.   26.]\n",
      "[  85.  124.    0.   27.]\n",
      "[  88.  125.    0.   28.]\n",
      "[  89.  126.    0.   29.]\n",
      "[  33.  127.    0.   30.]\n",
      "[  32.  128.    0.   31.]\n",
      "[  46.  129.    0.   32.]\n",
      "[  16.  130.    0.   33.]\n",
      "[   1.  131.    0.   34.]\n",
      "[   2.  132.    0.   35.]\n",
      "[   6.  133.    0.   36.]\n",
      "[   9.  134.    0.   37.]\n",
      "[  14.  135.    0.   38.]\n",
      "[  18.  136.    0.   39.]\n",
      "[  20.  137.    0.   40.]\n",
      "[  21.  138.    0.   41.]\n",
      "[  22.  139.    0.   42.]\n",
      "[  23.  140.    0.   43.]\n",
      "[  92.  141.    0.   44.]\n",
      "[  24.  142.    0.   45.]\n",
      "[  97.  143.    0.   46.]\n",
      "[  28.  144.    0.   47.]\n",
      "[  27.  145.    0.   48.]\n",
      "[  26.  146.    0.   49.]\n",
      "[  4.30000000e+01   9.90000000e+01   5.00000000e-02   2.00000000e+00]\n",
      "[  6.90000000e+01   1.48000000e+02   5.00000000e-02   3.00000000e+00]\n",
      "[  1.10000000e+01   1.49000000e+02   5.00000000e-02   4.00000000e+00]\n",
      "[  7.20000000e+01   1.50000000e+02   5.00000000e-02   5.00000000e+00]\n",
      "[  7.30000000e+01   1.51000000e+02   5.00000000e-02   6.00000000e+00]\n",
      "[  7.40000000e+01   1.52000000e+02   5.00000000e-02   7.00000000e+00]\n",
      "[  9.30000000e+01   1.53000000e+02   5.00000000e-02   8.00000000e+00]\n",
      "[  7.00000000e+00   1.54000000e+02   5.00000000e-02   9.00000000e+00]\n",
      "[  1.30000000e+01   1.55000000e+02   5.00000000e-02   1.00000000e+01]\n",
      "[  5.00000000e+00   1.56000000e+02   5.00000000e-02   1.10000000e+01]\n",
      "[  8.30000000e+01   1.57000000e+02   5.00000000e-02   1.20000000e+01]\n",
      "[  8.60000000e+01   1.58000000e+02   5.00000000e-02   1.30000000e+01]\n",
      "[  9.00000000e+01   1.59000000e+02   5.00000000e-02   1.40000000e+01]\n",
      "[  3.50000000e+01   1.60000000e+02   5.00000000e-02   1.50000000e+01]\n",
      "[  6.50000000e+01   1.61000000e+02   5.00000000e-02   1.60000000e+01]\n",
      "[  3.10000000e+01   1.62000000e+02   5.00000000e-02   1.70000000e+01]\n",
      "[  6.20000000e+01   1.63000000e+02   5.00000000e-02   1.80000000e+01]\n",
      "[  5.80000000e+01   1.64000000e+02   5.00000000e-02   1.90000000e+01]\n",
      "[  3.70000000e+01   1.65000000e+02   5.00000000e-02   2.00000000e+01]\n",
      "[  4.80000000e+01   1.66000000e+02   5.00000000e-02   2.10000000e+01]\n",
      "[  1.47000000e+02   1.67000000e+02   5.00000000e-02   7.00000000e+01]\n",
      "[  5.00000000e+01   1.68000000e+02   5.00000000e-02   7.10000000e+01]\n",
      "[  3.60000000e+01   1.69000000e+02   1.00000000e-01   7.20000000e+01]\n",
      "[  4.40000000e+01   1.70000000e+02   1.00000000e-01   7.30000000e+01]\n",
      "[  2.90000000e+01   1.71000000e+02   1.00000000e-01   7.40000000e+01]\n",
      "[  4.00000000e+01   1.72000000e+02   1.00000000e-01   7.50000000e+01]\n",
      "[  8.70000000e+01   1.73000000e+02   1.00000000e-01   7.60000000e+01]\n",
      "[  3.90000000e+01   1.74000000e+02   1.00000000e-01   7.70000000e+01]\n",
      "[  3.00000000e+00   1.75000000e+02   1.00000000e-01   7.80000000e+01]\n",
      "[  4.00000000e+00   1.76000000e+02   1.00000000e-01   7.90000000e+01]\n",
      "[  5.20000000e+01   1.77000000e+02   1.00000000e-01   8.00000000e+01]\n",
      "[  8.00000000e+00   1.78000000e+02   1.00000000e-01   8.10000000e+01]\n",
      "[  1.50000000e+01   1.79000000e+02   1.00000000e-01   8.20000000e+01]\n",
      "[  9.40000000e+01   1.80000000e+02   1.00000000e-01   8.30000000e+01]\n",
      "[  7.60000000e+01   1.81000000e+02   1.00000000e-01   8.40000000e+01]\n",
      "[  5.40000000e+01   1.82000000e+02   1.00000000e-01   8.50000000e+01]\n",
      "[  1.70000000e+01   1.83000000e+02   1.00000000e-01   8.60000000e+01]\n",
      "[  9.50000000e+01   1.84000000e+02   1.00000000e-01   8.70000000e+01]\n",
      "[  1.00000000e+01   1.85000000e+02   1.00000000e-01   8.80000000e+01]\n",
      "[  5.90000000e+01   1.86000000e+02   1.00000000e-01   8.90000000e+01]\n",
      "[  6.80000000e+01   1.87000000e+02   1.00000000e-01   9.00000000e+01]\n",
      "[  6.00000000e+01   1.88000000e+02   1.00000000e-01   9.10000000e+01]\n",
      "[  9.60000000e+01   1.89000000e+02   1.00000000e-01   9.20000000e+01]\n",
      "[  1.90000000e+01   1.90000000e+02   1.00000000e-01   9.30000000e+01]\n",
      "[  1.20000000e+01   1.91000000e+02   1.00000000e-01   9.40000000e+01]\n",
      "[  4.90000000e+01   1.92000000e+02   1.50000000e-01   9.50000000e+01]\n",
      "[  7.70000000e+01   1.93000000e+02   1.50000000e-01   9.60000000e+01]\n",
      "[  5.70000000e+01   1.94000000e+02   1.50000000e-01   9.70000000e+01]\n",
      "[  3.00000000e+01   1.95000000e+02   1.50000000e-01   9.80000000e+01]\n",
      "[  2.50000000e+01   1.96000000e+02   1.50000000e-01   9.90000000e+01]\n",
      "[  8.00000000e+01   1.97000000e+02   1.50000000e-01   1.00000000e+02]\n",
      "argmax\t93\n",
      "[  4.90000000e+01   1.92000000e+02   1.50000000e-01   9.50000000e+01]\n"
     ]
    }
   ],
   "source": [
    "for l in Z:\n",
    "    print l\n",
    "    \n",
    "X = [c for c in Z if c[0] >=100 and c[1] >= 100]\n",
    "print \"argmax\\t\",np.argmax(Z[:,2])\n",
    "print Z[np.argmax(Z[:,2])]"
   ]
  },
  {
   "cell_type": "code",
   "execution_count": 125,
   "metadata": {
    "collapsed": false
   },
   "outputs": [
    {
     "data": {
      "image/png": "[encoded data removed]",
      "text/plain": [
       "<matplotlib.figure.Figure at 0x7faa3f1b8ad0>"
      ]
     },
     "metadata": {},
     "output_type": "display_data"
    }
   ],
   "source": [
    "plt.figure(figsize=(16,12))\n",
    "r=hie.dendrogram(Z,leaf_rotation=90,show_contracted=True)"
   ]
  },
  {
   "cell_type": "code",
   "execution_count": 131,
   "metadata": {
    "collapsed": false
   },
   "outputs": [
    {
     "data": {
      "text/plain": [
       "99"
      ]
     },
     "execution_count": 131,
     "metadata": {},
     "output_type": "execute_result"
    }
   ],
   "source": [
    "len(r['color_list'])"
   ]
  },
  {
   "cell_type": "code",
   "execution_count": 123,
   "metadata": {
    "collapsed": true
   },
   "outputs": [],
   "source": [
    "dif=Z[1:,2]-Z[0:-1,2]\n",
    "#[maximo,indice]=max(dif);"
   ]
  },
  {
   "cell_type": "code",
   "execution_count": 124,
   "metadata": {
    "collapsed": false
   },
   "outputs": [
    {
     "name": "stdout",
     "output_type": "stream",
     "text": [
      "max lifetime:  0.05\n",
      "index:  47\n"
     ]
    }
   ],
   "source": [
    "print \"max lifetime: \", dif.max()\n",
    "print \"index: \", dif.argmax()"
   ]
  },
  {
   "cell_type": "markdown",
   "metadata": {},
   "source": [
    "# K random prototypes"
   ]
  },
  {
   "cell_type": "code",
   "execution_count": 100,
   "metadata": {
    "collapsed": false
   },
   "outputs": [],
   "source": [
    "#%debug\n",
    "reload(eac)\n",
    "estimator=eac.EAC(100)\n",
    "estimator.fit(partition_files,files=True,assoc_mode='prot', prot_mode='random', nprot=5)"
   ]
  },
  {
   "cell_type": "code",
   "execution_count": 101,
   "metadata": {
    "collapsed": false
   },
   "outputs": [
    {
     "data": {
      "text/plain": [
       "4274.0"
      ]
     },
     "execution_count": 101,
     "metadata": {},
     "output_type": "execute_result"
    }
   ],
   "source": [
    "estimator._coassoc.sum()"
   ]
  },
  {
   "cell_type": "markdown",
   "metadata": {},
   "source": [
    "# K Centroid-based prototypes"
   ]
  },
  {
   "cell_type": "code",
   "execution_count": 21,
   "metadata": {
    "collapsed": false
   },
   "outputs": [
    {
     "ename": "AttributeError",
     "evalue": "'module' object has no attribute 'shape'",
     "output_type": "error",
     "traceback": [
      "\u001b[1;31m---------------------------------------------------------------------------\u001b[0m",
      "\u001b[1;31mAttributeError\u001b[0m                            Traceback (most recent call last)",
      "\u001b[1;32m<ipython-input-21-799d1632dc67>\u001b[0m in \u001b[0;36m<module>\u001b[1;34m()\u001b[0m\n\u001b[0;32m      2\u001b[0m \u001b[0mreload\u001b[0m\u001b[1;33m(\u001b[0m\u001b[0meac\u001b[0m\u001b[1;33m)\u001b[0m\u001b[1;33m\u001b[0m\u001b[0m\n\u001b[0;32m      3\u001b[0m \u001b[0mestimator\u001b[0m\u001b[1;33m=\u001b[0m\u001b[0meac\u001b[0m\u001b[1;33m.\u001b[0m\u001b[0mEAC\u001b[0m\u001b[1;33m(\u001b[0m\u001b[1;36m100\u001b[0m\u001b[1;33m,\u001b[0m\u001b[0mdata\u001b[0m\u001b[1;33m=\u001b[0m\u001b[0mdata\u001b[0m\u001b[1;33m)\u001b[0m\u001b[1;33m\u001b[0m\u001b[0m\n\u001b[1;32m----> 4\u001b[1;33m \u001b[0mestimator\u001b[0m\u001b[1;33m.\u001b[0m\u001b[0mfit\u001b[0m\u001b[1;33m(\u001b[0m\u001b[0mpartition_files\u001b[0m\u001b[1;33m,\u001b[0m\u001b[0mfiles\u001b[0m\u001b[1;33m=\u001b[0m\u001b[0mTrue\u001b[0m\u001b[1;33m,\u001b[0m\u001b[0massoc_mode\u001b[0m\u001b[1;33m=\u001b[0m\u001b[1;34m'prot'\u001b[0m\u001b[1;33m,\u001b[0m \u001b[0mprot_mode\u001b[0m\u001b[1;33m=\u001b[0m\u001b[1;34m'other'\u001b[0m\u001b[1;33m,\u001b[0m \u001b[0mnprot\u001b[0m\u001b[1;33m=\u001b[0m\u001b[1;36m5\u001b[0m\u001b[1;33m)\u001b[0m\u001b[1;33m\u001b[0m\u001b[0m\n\u001b[0m",
      "\u001b[1;32m/home/chiroptera/workspace/QCThesis/EAC/eac.py\u001b[0m in \u001b[0;36mfit\u001b[1;34m(self, ensemble, files, assoc_mode, prot_mode, nprot, link)\u001b[0m\n\u001b[0;32m     64\u001b[0m \u001b[1;33m\u001b[0m\u001b[0m\n\u001b[0;32m     65\u001b[0m \u001b[1;33m\u001b[0m\u001b[0m\n\u001b[1;32m---> 66\u001b[1;33m                         \u001b[0mself\u001b[0m\u001b[1;33m.\u001b[0m\u001b[0m_build_prototypes\u001b[0m\u001b[1;33m(\u001b[0m\u001b[0mnprot\u001b[0m\u001b[1;33m=\u001b[0m\u001b[0mnprot\u001b[0m\u001b[1;33m,\u001b[0m\u001b[0mmode\u001b[0m\u001b[1;33m=\u001b[0m\u001b[0mprot_mode\u001b[0m\u001b[1;33m,\u001b[0m \u001b[0mdata\u001b[0m\u001b[1;33m=\u001b[0m\u001b[0mself\u001b[0m\u001b[1;33m.\u001b[0m\u001b[0mdata\u001b[0m\u001b[1;33m)\u001b[0m\u001b[1;33m\u001b[0m\u001b[0m\n\u001b[0m\u001b[0;32m     67\u001b[0m \u001b[1;33m\u001b[0m\u001b[0m\n\u001b[0;32m     68\u001b[0m                 \u001b[1;31m# received names of partition files\u001b[0m\u001b[1;33m\u001b[0m\u001b[1;33m\u001b[0m\u001b[0m\n",
      "\u001b[1;32m/home/chiroptera/workspace/QCThesis/EAC/eac.py\u001b[0m in \u001b[0;36m_build_prototypes\u001b[1;34m(self, nprot, mode, data)\u001b[0m\n\u001b[0;32m    146\u001b[0m                         \u001b[1;32mif\u001b[0m \u001b[0mdata\u001b[0m \u001b[1;32mis\u001b[0m \u001b[0mNone\u001b[0m\u001b[1;33m:\u001b[0m\u001b[1;33m\u001b[0m\u001b[0m\n\u001b[0;32m    147\u001b[0m                                 \u001b[1;32mraise\u001b[0m \u001b[0mException\u001b[0m\u001b[1;33m(\u001b[0m\u001b[1;34m\"Data needs to be set for this method of choosing prototypes.\"\u001b[0m\u001b[1;33m)\u001b[0m\u001b[1;33m\u001b[0m\u001b[0m\n\u001b[1;32m--> 148\u001b[1;33m                         \u001b[0mself\u001b[0m\u001b[1;33m.\u001b[0m\u001b[0mk_labels\u001b[0m \u001b[1;33m=\u001b[0m \u001b[0mself\u001b[0m\u001b[1;33m.\u001b[0m\u001b[0m_build_k_prototypes\u001b[0m\u001b[1;33m(\u001b[0m\u001b[0mnprot\u001b[0m\u001b[1;33m,\u001b[0m\u001b[0mdata\u001b[0m\u001b[1;33m)\u001b[0m\u001b[1;33m\u001b[0m\u001b[0m\n\u001b[0m\u001b[0;32m    149\u001b[0m \u001b[1;33m\u001b[0m\u001b[0m\n\u001b[0;32m    150\u001b[0m                 \u001b[1;32melse\u001b[0m\u001b[1;33m:\u001b[0m\u001b[1;33m\u001b[0m\u001b[0m\n",
      "\u001b[1;32m/home/chiroptera/workspace/QCThesis/EAC/eac.py\u001b[0m in \u001b[0;36m_build_k_prototypes\u001b[1;34m(self, nprot, data)\u001b[0m\n\u001b[0;32m    176\u001b[0m             \u001b[0mgrouper\u001b[0m \u001b[1;33m=\u001b[0m \u001b[0mK_Means\u001b[0m\u001b[1;33m(\u001b[0m\u001b[1;33m)\u001b[0m\u001b[1;33m\u001b[0m\u001b[0m\n\u001b[0;32m    177\u001b[0m             \u001b[0mgrouper\u001b[0m\u001b[1;33m.\u001b[0m\u001b[0m_centroid_mode\u001b[0m \u001b[1;33m=\u001b[0m \u001b[1;34m\"index\"\u001b[0m\u001b[1;33m\u001b[0m\u001b[0m\n\u001b[1;32m--> 178\u001b[1;33m             \u001b[0mgrouper\u001b[0m\u001b[1;33m.\u001b[0m\u001b[0mfit\u001b[0m\u001b[1;33m(\u001b[0m\u001b[0mdata\u001b[0m\u001b[1;33m,\u001b[0m \u001b[0mnprot\u001b[0m\u001b[1;33m,\u001b[0m \u001b[0miters\u001b[0m\u001b[1;33m=\u001b[0m\u001b[1;36m300\u001b[0m\u001b[1;33m,\u001b[0m \u001b[0mmode\u001b[0m\u001b[1;33m=\u001b[0m\u001b[1;34m\"cuda\"\u001b[0m\u001b[1;33m,\u001b[0m \u001b[0mcuda_mem\u001b[0m\u001b[1;33m=\u001b[0m\u001b[1;34m'manual'\u001b[0m\u001b[1;33m,\u001b[0m\u001b[0mtol\u001b[0m\u001b[1;33m=\u001b[0m\u001b[1;36m1e-4\u001b[0m\u001b[1;33m,\u001b[0m\u001b[0mmax_iters\u001b[0m\u001b[1;33m=\u001b[0m\u001b[1;36m300\u001b[0m\u001b[1;33m)\u001b[0m\u001b[1;33m\u001b[0m\u001b[0m\n\u001b[0m\u001b[0;32m    179\u001b[0m             \u001b[0mcentroids\u001b[0m \u001b[1;33m=\u001b[0m \u001b[0mgrouper\u001b[0m\u001b[1;33m.\u001b[0m\u001b[0mcentroids\u001b[0m\u001b[1;33m\u001b[0m\u001b[0m\n\u001b[0;32m    180\u001b[0m \u001b[1;33m\u001b[0m\u001b[0m\n",
      "\u001b[1;32m/home/chiroptera/workspace/QCThesis/EAC/K_Means3.pyc\u001b[0m in \u001b[0;36mfit\u001b[1;34m(self, data, K, iters, mode, cuda_mem, tol, max_iters)\u001b[0m\n\u001b[0;32m     51\u001b[0m     \u001b[1;32mdef\u001b[0m \u001b[0mfit\u001b[0m\u001b[1;33m(\u001b[0m\u001b[0mself\u001b[0m\u001b[1;33m,\u001b[0m \u001b[0mdata\u001b[0m\u001b[1;33m,\u001b[0m \u001b[0mK\u001b[0m\u001b[1;33m,\u001b[0m \u001b[0miters\u001b[0m\u001b[1;33m=\u001b[0m\u001b[1;36m3\u001b[0m\u001b[1;33m,\u001b[0m \u001b[0mmode\u001b[0m\u001b[1;33m=\u001b[0m\u001b[1;34m\"cuda\"\u001b[0m\u001b[1;33m,\u001b[0m \u001b[0mcuda_mem\u001b[0m\u001b[1;33m=\u001b[0m\u001b[1;34m'manual'\u001b[0m\u001b[1;33m,\u001b[0m\u001b[0mtol\u001b[0m\u001b[1;33m=\u001b[0m\u001b[1;36m1e-4\u001b[0m\u001b[1;33m,\u001b[0m\u001b[0mmax_iters\u001b[0m\u001b[1;33m=\u001b[0m\u001b[1;36m300\u001b[0m\u001b[1;33m)\u001b[0m\u001b[1;33m:\u001b[0m\u001b[1;33m\u001b[0m\u001b[0m\n\u001b[0;32m     52\u001b[0m \u001b[1;33m\u001b[0m\u001b[0m\n\u001b[1;32m---> 53\u001b[1;33m         \u001b[0mN\u001b[0m\u001b[1;33m,\u001b[0m\u001b[0mD\u001b[0m \u001b[1;33m=\u001b[0m \u001b[0mdata\u001b[0m\u001b[1;33m.\u001b[0m\u001b[0mshape\u001b[0m\u001b[1;33m\u001b[0m\u001b[0m\n\u001b[0m\u001b[0;32m     54\u001b[0m \u001b[1;33m\u001b[0m\u001b[0m\n\u001b[0;32m     55\u001b[0m         \u001b[0mself\u001b[0m\u001b[1;33m.\u001b[0m\u001b[0mN\u001b[0m \u001b[1;33m=\u001b[0m \u001b[0mN\u001b[0m\u001b[1;33m\u001b[0m\u001b[0m\n",
      "\u001b[1;31mAttributeError\u001b[0m: 'module' object has no attribute 'shape'"
     ]
    }
   ],
   "source": [
    "#%%debug -b eac.py:190\n",
    "reload(eac)\n",
    "estimator=eac.EAC(100,data=data)\n",
    "estimator.fit(partition_files,files=True,assoc_mode='prot', prot_mode='other', nprot=5)"
   ]
  },
  {
   "cell_type": "code",
   "execution_count": 112,
   "metadata": {
    "collapsed": false
   },
   "outputs": [
    {
     "data": {
      "text/plain": [
       "array([ 62.,   5.,  32.])"
      ]
     },
     "execution_count": 112,
     "metadata": {},
     "output_type": "execute_result"
    }
   ],
   "source": [
    "b=np.zeros(a.shape[0])\n",
    "for c in xrange(a.shape[0]):\n",
    "    dist = data - a[c]\n",
    "    dist = dist **2\n",
    "    dist = dist.sum(axis=1)\n",
    "    b[c] = np.argmin(dist)\n",
    "b"
   ]
  },
  {
   "cell_type": "code",
   "execution_count": 108,
   "metadata": {
    "collapsed": true
   },
   "outputs": [],
   "source": [
    "a=array([[-778.1035957 ,  728.38305131],\n",
    "       [ 474.98214377,  654.43652209],\n",
    "       [ -62.22709694,  637.21319263]])"
   ]
  },
  {
   "cell_type": "code",
   "execution_count": 115,
   "metadata": {
    "collapsed": false
   },
   "outputs": [
    {
     "data": {
      "text/plain": [
       "array([32,  0], dtype=int32)"
      ]
     },
     "execution_count": 115,
     "metadata": {},
     "output_type": "execute_result"
    }
   ],
   "source": [
    "estimator.k_labels"
   ]
  },
  {
   "cell_type": "code",
   "execution_count": 88,
   "metadata": {
    "collapsed": false
   },
   "outputs": [
    {
     "data": {
      "text/plain": [
       "3730.0"
      ]
     },
     "execution_count": 88,
     "metadata": {},
     "output_type": "execute_result"
    }
   ],
   "source": [
    "estimator._coassoc.sum()"
   ]
  },
  {
   "cell_type": "markdown",
   "metadata": {},
   "source": [
    "# K-Nearest Neighbours\n",
    "This is how it is implemented inside the EAC class.\n",
    "\n",
    "## Load data"
   ]
  },
  {
   "cell_type": "code",
   "execution_count": 7,
   "metadata": {
    "collapsed": false
   },
   "outputs": [
    {
     "name": "stdout",
     "output_type": "stream",
     "text": [
      "/home/chiroptera/workspace/QCThesis/EAC/test/syn_cem_data.csv\n"
     ]
    }
   ],
   "source": [
    "datafile=None\n",
    "for f in files:\n",
    "    if 'syn_cem' in f and 'data' in f:\n",
    "        datafile=f\n",
    "        \n",
    "print datafile"
   ]
  },
  {
   "cell_type": "code",
   "execution_count": 8,
   "metadata": {
    "collapsed": false
   },
   "outputs": [],
   "source": [
    "data = np.genfromtxt(datafile,delimiter=',')"
   ]
  },
  {
   "cell_type": "markdown",
   "metadata": {},
   "source": [
    "## Selecting the neighbours"
   ]
  },
  {
   "cell_type": "code",
   "execution_count": 251,
   "metadata": {
    "collapsed": true
   },
   "outputs": [],
   "source": [
    "from sklearn.neighbors import NearestNeighbors"
   ]
  },
  {
   "cell_type": "code",
   "execution_count": 252,
   "metadata": {
    "collapsed": false
   },
   "outputs": [
    {
     "data": {
      "text/plain": [
       "NearestNeighbors(algorithm='auto', leaf_size=30, metric='minkowski',\n",
       "         metric_params=None, n_neighbors=6, p=2, radius=1.0)"
      ]
     },
     "execution_count": 252,
     "metadata": {},
     "output_type": "execute_result"
    }
   ],
   "source": [
    "K_neigh=6\n",
    "# Minkowski distance is a generalization of Euclidean distance and is equivelent to it for p=2\n",
    "neigh = NearestNeighbors(n_neighbors=K_neigh, radius=1.0, algorithm='auto', leaf_size=30, metric='minkowski', p=2)\n",
    "neigh.fit(data)"
   ]
  },
  {
   "cell_type": "code",
   "execution_count": 253,
   "metadata": {
    "collapsed": false
   },
   "outputs": [],
   "source": [
    "data_neighbours=neigh.kneighbors(X=data,return_distance=False)\n",
    "\n",
    "# the closest neighbour is the point itself - no interest in that\n",
    "data_neighbours = data_neighbours[:,1:]"
   ]
  },
  {
   "cell_type": "code",
   "execution_count": 254,
   "metadata": {
    "collapsed": false
   },
   "outputs": [
    {
     "data": {
      "text/plain": [
       "array([[58, 98, 19, 16,  9],\n",
       "       [61, 31, 35, 11,  6],\n",
       "       [68, 65, 50, 28, 81],\n",
       "       [ 4, 77,  8,  7,  5],\n",
       "       [ 7,  5,  8,  3, 53],\n",
       "       [ 7, 53,  4,  8, 30],\n",
       "       [35, 11, 61, 80, 97],\n",
       "       [ 5, 53,  4,  8, 63],\n",
       "       [14,  4,  7,  5, 90],\n",
       "       [41, 71, 72, 16, 95],\n",
       "       [91, 36, 42, 39, 22],\n",
       "       [80,  6, 61,  1, 35],\n",
       "       [49, 31, 29, 64,  1],\n",
       "       [73, 66, 59, 81, 24],\n",
       "       [90, 54, 60,  8, 85],\n",
       "       [47, 66, 33, 13, 83],\n",
       "       [92,  9, 72, 41, 71],\n",
       "       [23, 55, 78, 94, 38],\n",
       "       [57, 93, 52, 26, 78],\n",
       "       [74, 58,  0, 98, 44],\n",
       "       [80, 11,  6,  1, 97],\n",
       "       [69, 27, 86, 25, 46],\n",
       "       [39, 96, 87, 75, 79],\n",
       "       [17, 94, 38, 78, 51],\n",
       "       [99, 83, 33, 66, 84],\n",
       "       [86, 75, 87, 79, 69],\n",
       "       [52, 57, 18, 93, 78],\n",
       "       [46, 21, 86, 69, 25],\n",
       "       [50, 68, 65, 81, 59],\n",
       "       [82, 35, 61, 31, 49],\n",
       "       [85, 53,  5,  7, 60],\n",
       "       [ 1, 61, 49, 35,  6],\n",
       "       [40, 44, 95, 71, 41],\n",
       "       [83, 24, 99, 66, 84],\n",
       "       [88, 89, 48, 38, 94],\n",
       "       [61,  6,  1, 11, 31],\n",
       "       [42, 10, 25, 86, 91],\n",
       "       [64, 29, 82, 12, 49],\n",
       "       [51, 89, 23, 34, 94],\n",
       "       [22, 96, 87, 75, 79],\n",
       "       [32, 44, 95, 71, 41],\n",
       "       [71, 95,  9, 72, 44],\n",
       "       [36, 46, 86, 10, 25],\n",
       "       [60, 76, 85, 54, 30],\n",
       "       [41, 95, 71, 40, 98],\n",
       "       [67,  0, 16, 92,  9],\n",
       "       [27, 42, 21, 86, 25],\n",
       "       [15, 13, 66, 73, 59],\n",
       "       [88, 34, 89, 93, 38],\n",
       "       [12, 31, 29,  1, 61],\n",
       "       [28, 81, 68, 65, 59],\n",
       "       [38, 89, 23, 34, 94],\n",
       "       [57, 26, 93, 18, 78],\n",
       "       [ 5,  7, 30, 85,  4],\n",
       "       [60, 90, 76, 14, 85],\n",
       "       [78, 17, 94, 23, 52],\n",
       "       [77, 90, 14,  8, 54],\n",
       "       [52, 18, 93, 26, 78],\n",
       "       [98,  0, 44, 41, 19],\n",
       "       [81, 73, 50, 28, 13],\n",
       "       [54, 85, 14, 76, 90],\n",
       "       [35,  6,  1, 11, 31],\n",
       "       [69, 79, 87, 75, 25],\n",
       "       [ 7,  4,  5, 53,  3],\n",
       "       [37, 12, 49, 29, 82],\n",
       "       [68, 28, 50,  2, 84],\n",
       "       [24, 73, 99, 33, 83],\n",
       "       [45, 16, 92,  0,  9],\n",
       "       [65, 50, 28,  2, 81],\n",
       "       [21, 62, 86, 25, 79],\n",
       "       [49, 12, 31,  1, 61],\n",
       "       [95, 41, 72,  9, 44],\n",
       "       [71, 95,  9, 41, 92],\n",
       "       [59, 81, 66, 13, 50],\n",
       "       [19, 58, 98,  0, 44],\n",
       "       [87, 25, 79, 86, 39],\n",
       "       [54, 60, 43, 90, 14],\n",
       "       [56,  8,  3,  4, 14],\n",
       "       [94, 55, 23, 52, 17],\n",
       "       [87, 75, 62, 25, 22],\n",
       "       [11,  6,  1, 61, 35],\n",
       "       [59, 50, 73, 28, 68],\n",
       "       [29, 35, 61,  6, 97],\n",
       "       [33, 24, 99, 66, 84],\n",
       "       [99, 28, 24, 65, 68],\n",
       "       [30, 60, 14, 53, 90],\n",
       "       [25, 75, 69, 87, 21],\n",
       "       [79, 75, 25, 39, 22],\n",
       "       [48, 34, 89, 38, 93],\n",
       "       [38, 51, 34, 94, 88],\n",
       "       [14, 54, 60,  8, 85],\n",
       "       [10, 36, 42, 39, 22],\n",
       "       [16,  9, 72, 71, 41],\n",
       "       [57, 18, 52, 34, 94],\n",
       "       [78, 23, 55, 34, 89],\n",
       "       [71, 41, 72,  9, 44],\n",
       "       [22, 39, 87, 79, 75],\n",
       "       [ 6, 11, 35, 61, 80],\n",
       "       [58, 44, 41,  0, 71],\n",
       "       [24, 83, 84, 33, 66]])"
      ]
     },
     "execution_count": 254,
     "metadata": {},
     "output_type": "execute_result"
    }
   ],
   "source": [
    "data_neighbours"
   ]
  },
  {
   "cell_type": "markdown",
   "metadata": {},
   "source": [
    "## EAC"
   ]
  },
  {
   "cell_type": "code",
   "execution_count": 11,
   "metadata": {
    "collapsed": false
   },
   "outputs": [],
   "source": [
    "#%debug\n",
    "reload(eac)\n",
    "estimator=eac.EAC(100,data=data)\n",
    "estimator.fit(partition_files,files=True,assoc_mode='prot', prot_mode='knn', nprot=5)"
   ]
  },
  {
   "cell_type": "code",
   "execution_count": 12,
   "metadata": {
    "collapsed": false
   },
   "outputs": [
    {
     "data": {
      "text/plain": [
       "3601.0"
      ]
     },
     "execution_count": 12,
     "metadata": {},
     "output_type": "execute_result"
    }
   ],
   "source": [
    "estimator._coassoc.sum()"
   ]
  },
  {
   "cell_type": "markdown",
   "metadata": {},
   "source": [
    "# sparse matrix linkage"
   ]
  },
  {
   "cell_type": "code",
   "execution_count": 197,
   "metadata": {
    "collapsed": true
   },
   "outputs": [],
   "source": [
    "diss_mat = estimator._coassoc\n",
    "diss_labels = estimator.k_neighbours"
   ]
  },
  {
   "cell_type": "code",
   "execution_count": 13,
   "metadata": {
    "collapsed": false
   },
   "outputs": [],
   "source": [
    "from scipy.sparse import *"
   ]
  },
  {
   "cell_type": "code",
   "execution_count": 214,
   "metadata": {
    "collapsed": true
   },
   "outputs": [],
   "source": [
    "smat = csr_matrix((100,100))\n",
    "mat = np.zeros((100,100))"
   ]
  },
  {
   "cell_type": "code",
   "execution_count": 212,
   "metadata": {
    "collapsed": false
   },
   "outputs": [
    {
     "name": "stdout",
     "output_type": "stream",
     "text": [
      "The slowest run took 6.74 times longer than the fastest. This could mean that an intermediate result is being cached \n",
      "10000 loops, best of 3: 179 µs per loop\n",
      "The slowest run took 16.41 times longer than the fastest. This could mean that an intermediate result is being cached \n",
      "10000000 loops, best of 3: 174 ns per loop\n"
     ]
    }
   ],
   "source": [
    "%timeit smat[0,0]=50\n",
    "%timeit mat[0,0]=50"
   ]
  },
  {
   "cell_type": "code",
   "execution_count": 208,
   "metadata": {
    "collapsed": false
   },
   "outputs": [],
   "source": [
    "rows=diss_labels[0]\n",
    "cols=diss_labels[1]"
   ]
  },
  {
   "cell_type": "code",
   "execution_count": 216,
   "metadata": {
    "collapsed": false
   },
   "outputs": [
    {
     "data": {
      "text/plain": [
       "array([58, 98, 19, 16,  9])"
      ]
     },
     "execution_count": 216,
     "metadata": {},
     "output_type": "execute_result"
    }
   ],
   "source": [
    "rows"
   ]
  },
  {
   "cell_type": "code",
   "execution_count": 223,
   "metadata": {
    "collapsed": false
   },
   "outputs": [
    {
     "name": "stdout",
     "output_type": "stream",
     "text": [
      "The slowest run took 66.20 times longer than the fastest. This could mean that an intermediate result is being cached \n",
      "100000 loops, best of 3: 5.8 µs per loop\n",
      "1000 loops, best of 3: 237 µs per loop\n"
     ]
    }
   ],
   "source": [
    "%timeit mat[rows[:,np.newaxis],cols]=1\n",
    "%timeit smat[rows[:,np.newaxis],cols]=1"
   ]
  },
  {
   "cell_type": "code",
   "execution_count": 227,
   "metadata": {
    "collapsed": false
   },
   "outputs": [
    {
     "data": {
      "text/plain": [
       "<100x100 sparse matrix of type '<type 'numpy.float64'>'\n",
       "\twith 25 stored elements in Compressed Sparse Row format>"
      ]
     },
     "execution_count": 227,
     "metadata": {},
     "output_type": "execute_result"
    }
   ],
   "source": [
    "smat*2"
   ]
  },
  {
   "cell_type": "markdown",
   "metadata": {},
   "source": [
    "## Testing updating sparse coassoc"
   ]
  },
  {
   "cell_type": "code",
   "execution_count": 142,
   "metadata": {
    "collapsed": true
   },
   "outputs": [],
   "source": [
    "def _update_coassoc_knn(assoc_mat,clusters,k_neighbours):\n",
    "    \"\"\"\n",
    "    Updates an NxK co-association matrix.\n",
    "    k_neighbours is an NxK array where the k-th element of the i-th row is the index of a data point \n",
    "    that corresponds to the k-th nearest neighbour of the i-th data point. That neighbour is the k-th\n",
    "    prototype of the i-th data point.\n",
    "    \"\"\"\n",
    "    nclusters = len(clusters)\n",
    "    for i in xrange(nclusters):\n",
    "\n",
    "        if clusters[i].shape > 1:\n",
    "\n",
    "            # all data points in cluster - rows to select\n",
    "            n_in_cluster = clusters[i]\n",
    "\n",
    "            # update row j of matrix\n",
    "            for j in n_in_cluster:\n",
    "                # all prototypes in cluster - columns to select\n",
    "                k_in_cluster = np.where(np.in1d(k_neighbours[j]\t,n_in_cluster))\n",
    "\n",
    "                # this indexing selects the rows and columns specified by n_in_cluster and k_in_cluster\n",
    "                assoc_mat[j,k_in_cluster] += 1 # np.newaxis is alias for None\n",
    "        pass\n",
    "\n",
    "def _update_coassoc_knn_sparse(assoc_mat,clusters,k_neighbours):\n",
    "    \"\"\"\n",
    "    Updates an NxK co-association matrix.\n",
    "    k_neighbours is an NxK array where the k-th element of the i-th row is the index of a data point \n",
    "    that corresponds to the k-th nearest neighbour of the i-th data point. That neighbour is the k-th\n",
    "    prototype of the i-th data point.\n",
    "    \"\"\"\n",
    "    nclusters = len(clusters)\n",
    "    for i in xrange(nclusters):\n",
    "\n",
    "        if clusters[i].shape > 1:\n",
    "\n",
    "            # all data points in cluster - rows to select\n",
    "            n_in_cluster = clusters[i]\n",
    "\n",
    "            # update row j of matrix\n",
    "            for j in n_in_cluster:\n",
    "                # all prototypes in cluster - columns to select\n",
    "                # column indices corresponding to the K-prototypes\n",
    "                #k_in_cluster = np.where(np.in1d(n_in_cluster,k_neighbours[j]))[0]\n",
    "                \n",
    "                k_in_cluster = n_in_cluster[np.in1d(n_in_cluster,k_neighbours[j])]\n",
    "                \n",
    "                # this indexing selects the rows and columns specified by n_in_cluster and k_in_cluster\n",
    "                #assoc_mat[j,k_in_cluster] += 1 # np.newaxis is alias for None\n",
    "                assoc_mat[j,k_in_cluster] += np.ones_like(k_in_cluster)\n",
    "        pass\n"
   ]
  },
  {
   "cell_type": "code",
   "execution_count": 10,
   "metadata": {
    "collapsed": true
   },
   "outputs": [],
   "source": [
    "def mat_match(sparse,normal,neigh):\n",
    "\n",
    "    for row in xrange(sparse.shape[0]):\n",
    "        cols_in_sparse = neigh[row][normal[row].astype(bool)]\n",
    "        row_in_sparse = sparse[row,cols_in_sparse]\n",
    "        row_in_normal = normal[row][normal[row].astype(bool)]\n",
    "        if (row_in_sparse != row_in_normal).any():\n",
    "            return False\n",
    "    return True"
   ]
  },
  {
   "cell_type": "code",
   "execution_count": 111,
   "metadata": {
    "collapsed": true
   },
   "outputs": [],
   "source": [
    "def zero_low_tri(sparse):\n",
    "    r,c = sparse.shape\n",
    "    for i in xrange(r):\n",
    "        for j in xrange(c):\n",
    "            if j >= c:\n",
    "                continue\n",
    "            if sparse[i,j] != 0:\n",
    "                return False\n",
    "    return True"
   ]
  },
  {
   "cell_type": "code",
   "execution_count": 202,
   "metadata": {
    "collapsed": true
   },
   "outputs": [],
   "source": [
    "def func1(smat):\n",
    "    \"\"\"\n",
    "    check that, where the matrix is not symetric, at least one of the values is 0\n",
    "    \"\"\"\n",
    "    a=smat.todense()\n",
    "    row,col = np.where(a!=a.T)\n",
    "    row=np.array(row).flatten()\n",
    "    col=np.array(col).flatten()\n",
    "    for i in xrange(row.size):\n",
    "        if a[row[i],col[i]] != 0 and a[col[i],row[i]] != 0:\n",
    "            return False\n",
    "    return True"
   ]
  },
  {
   "cell_type": "code",
   "execution_count": 227,
   "metadata": {
    "collapsed": true
   },
   "outputs": [],
   "source": [
    "def func2(smat):\n",
    "    \"\"\"\n",
    "    true if lower triangle is zero where matrix is not symetric\n",
    "    \"\"\"\n",
    "    a=smat.todense()\n",
    "    row,col = np.where(a!=a.T)\n",
    "    row=np.array(row).flatten()\n",
    "    col=np.array(col).flatten()\n",
    "    for i in xrange(row.size):\n",
    "        if row[i] > col[i] and a[row[i],col[i]] != 0:\n",
    "            return False\n",
    "    return True"
   ]
  },
  {
   "cell_type": "code",
   "execution_count": 226,
   "metadata": {
    "collapsed": true
   },
   "outputs": [],
   "source": [
    "def func3(smat):\n",
    "    \"\"\"\n",
    "    true if upper triangle is zero where matrix is not symetric\n",
    "    \"\"\"\n",
    "    a=smat.todense()\n",
    "    row,col = np.where(a!=a.T)\n",
    "    row=np.array(row).flatten()\n",
    "    col=np.array(col).flatten()\n",
    "    for i in xrange(row.size):\n",
    "        if row[i] < col[i] and a[row[i],col[i]] != 0:\n",
    "            return False\n",
    "    return True"
   ]
  },
  {
   "cell_type": "code",
   "execution_count": 251,
   "metadata": {
    "collapsed": true
   },
   "outputs": [],
   "source": [
    "def func3(smat):\n",
    "    \"\"\"\n",
    "    make dists only on upper triangle\n",
    "    \"\"\"\n",
    "    a=smat.todense()\n",
    "    rows,cols = smat.nonzero()\n",
    "    for i in xrange(rows.size):\n",
    "        if rows[i]>cols[i] and smat[rows[i],cols[i]] != 0:\n",
    "            smat[cols[i],rows[i]] = smat[rows[i],cols[i]]\n",
    "        smat[rows[i],cols[i]] = 0      \n",
    "        \n",
    "    pass"
   ]
  },
  {
   "cell_type": "code",
   "execution_count": 259,
   "metadata": {
    "collapsed": false
   },
   "outputs": [],
   "source": [
    "def func4(smat):\n",
    "    \"\"\"\n",
    "    make dists symmetric\n",
    "    \"\"\"\n",
    "    a=smat.todense()\n",
    "    rows,cols = smat.nonzero()\n",
    "    for i in xrange(rows.size):\n",
    "        if rows[i]<cols[i] and smat[rows[i],cols[i]] != 0:\n",
    "            smat[cols[i],rows[i]] = smat[rows[i],cols[i]]    \n",
    "        \n",
    "    pass"
   ]
  },
  {
   "cell_type": "code",
   "execution_count": 157,
   "metadata": {
    "collapsed": false
   },
   "outputs": [],
   "source": [
    "clusters_a = estimator._readPartition(partition_files[0])\n",
    "neigh_labels = estimator.k_neighbours\n",
    "#sparse_coassoc = csc_matrix((100,100))\n",
    "#sparse_coassoc = csr_matrix((100,100))\n",
    "sparse_coassoc = lil_matrix((100,100))\n",
    "#sparse_coassoc = coo_matrix((100,100)) # doesn't support slicing\n",
    "coassoc = np.zeros((100,neigh_labels.shape[1]))"
   ]
  },
  {
   "cell_type": "code",
   "execution_count": 158,
   "metadata": {
    "collapsed": false
   },
   "outputs": [
    {
     "data": {
      "text/plain": [
       "True"
      ]
     },
     "execution_count": 158,
     "metadata": {},
     "output_type": "execute_result"
    }
   ],
   "source": [
    "for f in partition_files:\n",
    "    clusters_a = estimator._readPartition(f)\n",
    "    _update_coassoc_knn(coassoc,clusters_a,neigh_labels)\n",
    "    _update_coassoc_knn_sparse(sparse_coassoc,clusters_a,neigh_labels)\n",
    "mat_match(sparse_coassoc,coassoc,neigh_labels)"
   ]
  },
  {
   "cell_type": "code",
   "execution_count": 29,
   "metadata": {
    "collapsed": false
   },
   "outputs": [
    {
     "name": "stdout",
     "output_type": "stream",
     "text": [
      "100 loops, best of 3: 10.5 ms per loop\n",
      "10 loops, best of 3: 86.8 ms per loop\n"
     ]
    }
   ],
   "source": [
    "%timeit _update_coassoc_knn(coassoc,clusters_a,neigh_labels)\n",
    "%timeit _update_coassoc_knn_sparse(sparse_coassoc,clusters_a,neigh_labels)"
   ]
  },
  {
   "cell_type": "code",
   "execution_count": 30,
   "metadata": {
    "collapsed": false
   },
   "outputs": [
    {
     "name": "stdout",
     "output_type": "stream",
     "text": [
      "csr/np = 12.8846153846\n",
      "csc/np = 12.5961538462\n",
      "lil/np = 8.34615384615\n"
     ]
    }
   ],
   "source": [
    "print \"csr/np = {}\".format(134/10.4)\n",
    "print \"csc/np = {}\".format(131/10.4)\n",
    "print \"lil/np = {}\".format(86.8/10.4)"
   ]
  },
  {
   "cell_type": "code",
   "execution_count": 31,
   "metadata": {
    "collapsed": true
   },
   "outputs": [],
   "source": [
    "from scipy.cluster.hierarchy import linkage\n",
    "from scipy.spatial.distance import squareform\n",
    "\n",
    "def _apply_linkage(assoc_mat,method='single'):\n",
    "    \"\"\"\n",
    "    SciPy linkage wants a distance array of format pdist. SciPy squareform \n",
    "    converts between the two formats.\n",
    "\n",
    "    assoc_mat \t: pair-wise similarity association matrix\n",
    "    method \t\t: linkage method to use; can be 'single'(default), 'complete',\n",
    "                  'average', 'weighted', 'centroid', 'median', 'ward'\n",
    "    \"\"\"\n",
    "\n",
    "    condensed_assoc = squareform(assoc_mat)\n",
    "\n",
    "    # convert pair-wise similarity array (assoc_mat->condensed_assoc) to dissimilarity\n",
    "    condensed_diss_assoc = condensed_assoc.max() - condensed_assoc\n",
    "\n",
    "    Z = linkage(condensed_diss_assoc,method=method)\n",
    "\n",
    "    return Z"
   ]
  },
  {
   "cell_type": "code",
   "execution_count": 87,
   "metadata": {
    "collapsed": false
   },
   "outputs": [],
   "source": [
    "Y = sparse_coassoc.tocsr()\n",
    "Y[i,j]=Y.max()-Y[i,j]"
   ]
  },
  {
   "cell_type": "code",
   "execution_count": 88,
   "metadata": {
    "collapsed": false
   },
   "outputs": [
    {
     "data": {
      "text/plain": [
       "<100x100 sparse matrix of type '<type 'numpy.float64'>'\n",
       "\twith 167 stored elements in Compressed Sparse Row format>"
      ]
     },
     "execution_count": 88,
     "metadata": {},
     "output_type": "execute_result"
    }
   ],
   "source": []
  },
  {
   "cell_type": "markdown",
   "metadata": {},
   "source": [
    "# Linkage experiment\n",
    "\n",
    "I want to evaluate if complete link is equivalent to single link when the dissimilarity measure is inverted."
   ]
  },
  {
   "cell_type": "code",
   "execution_count": 115,
   "metadata": {
    "collapsed": true
   },
   "outputs": [],
   "source": [
    "import scipy"
   ]
  },
  {
   "cell_type": "code",
   "execution_count": 119,
   "metadata": {
    "collapsed": false
   },
   "outputs": [],
   "source": [
    "points=np.array([[5,5],[5,6],[1,1],[1,2],[-2,-2]])\n",
    "dist=scipy.spatial.distance.pdist(points)\n",
    "invDist=dist.max()-dist"
   ]
  },
  {
   "cell_type": "code",
   "execution_count": 125,
   "metadata": {
    "collapsed": false
   },
   "outputs": [],
   "source": [
    "Z_d=linkage(dist,method=\"single\")\n",
    "Z_id=linkage(invDist,method=\"complete\")"
   ]
  },
  {
   "cell_type": "code",
   "execution_count": 126,
   "metadata": {
    "collapsed": false,
    "scrolled": true
   },
   "outputs": [
    {
     "data": {
      "image/png": "[encoded data removed]",
      "text/plain": [
       "<matplotlib.figure.Figure at 0x7f84fd2c6410>"
      ]
     },
     "metadata": {},
     "output_type": "display_data"
    }
   ],
   "source": [
    "p=scipy.cluster.hierarchy.dendrogram(Z_d)"
   ]
  },
  {
   "cell_type": "code",
   "execution_count": 127,
   "metadata": {
    "collapsed": false
   },
   "outputs": [
    {
     "data": {
      "image/png": "[encoded data removed]",
      "text/plain": [
       "<matplotlib.figure.Figure at 0x7f84fd234050>"
      ]
     },
     "metadata": {},
     "output_type": "display_data"
    }
   ],
   "source": [
    "p=scipy.cluster.hierarchy.dendrogram(Z_id)"
   ]
  },
  {
   "cell_type": "markdown",
   "metadata": {},
   "source": [
    "They're **not equivelent** since the distance between clusters is always **minimized** indepedentely of how the **metric** chosen."
   ]
  },
  {
   "cell_type": "code",
   "execution_count": 138,
   "metadata": {
    "collapsed": true
   },
   "outputs": [],
   "source": [
    "a=np.ones(5)"
   ]
  },
  {
   "cell_type": "code",
   "execution_count": 140,
   "metadata": {
    "collapsed": false
   },
   "outputs": [
    {
     "data": {
      "text/plain": [
       "array([[ 1.],\n",
       "       [ 1.],\n",
       "       [ 1.],\n",
       "       [ 1.],\n",
       "       [ 1.]])"
      ]
     },
     "execution_count": 140,
     "metadata": {},
     "output_type": "execute_result"
    }
   ],
   "source": [
    "a[:,np.newaxis]"
   ]
  }
 ],
 "metadata": {
  "kernelspec": {
   "display_name": "Python 2",
   "language": "python",
   "name": "python2"
  },
  "language_info": {
   "codemirror_mode": {
    "name": "ipython",
    "version": 2
   },
   "file_extension": ".py",
   "mimetype": "text/x-python",
   "name": "python",
   "nbconvert_exporter": "python",
   "pygments_lexer": "ipython2",
   "version": "2.7.9"
  }
 },
 "nbformat": 4,
 "nbformat_minor": 0
}
