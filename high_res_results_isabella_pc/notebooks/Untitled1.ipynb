{
 "cells": [
  {
   "cell_type": "code",
   "execution_count": 1,
   "metadata": {
    "collapsed": true
   },
   "outputs": [],
   "source": [
    "import numpy as np\n",
    "import numba as nb\n",
    "import tables"
   ]
  },
  {
   "cell_type": "code",
   "execution_count": 2,
   "metadata": {
    "collapsed": true
   },
   "outputs": [],
   "source": [
    "sizeme = lambda n: n*9 / (1024.0**2)"
   ]
  },
  {
   "cell_type": "code",
   "execution_count": 7,
   "metadata": {
    "collapsed": false
   },
   "outputs": [
    {
     "data": {
      "text/plain": [
       "429.1534423828125"
      ]
     },
     "execution_count": 7,
     "metadata": {},
     "output_type": "execute_result"
    }
   ],
   "source": [
    "n = 100000000/2\n",
    "sizeme(n)"
   ]
  },
  {
   "cell_type": "code",
   "execution_count": 8,
   "metadata": {
    "collapsed": false
   },
   "outputs": [],
   "source": [
    "\n",
    "data = np.random.randint(0,255,n).astype(np.uint8)\n",
    "col_ind = np.random.randint(0,100,n).astype(np.int32)\n",
    "row_ind = np.random.randint(0,100,n).astype(np.int32)"
   ]
  },
  {
   "cell_type": "code",
   "execution_count": 9,
   "metadata": {
    "collapsed": true
   },
   "outputs": [],
   "source": [
    "arrays_dir = './'\n",
    "index_dir = '/tmp/'"
   ]
  },
  {
   "cell_type": "code",
   "execution_count": 10,
   "metadata": {
    "collapsed": false
   },
   "outputs": [
    {
     "ename": "NameError",
     "evalue": "name 'f' is not defined",
     "output_type": "error",
     "traceback": [
      "\u001b[1;31m---------------------------------------------------------------------------\u001b[0m",
      "\u001b[1;31mNameError\u001b[0m                                 Traceback (most recent call last)",
      "\u001b[1;32m<ipython-input-10-0fe927beb707>\u001b[0m in \u001b[0;36m<module>\u001b[1;34m()\u001b[0m\n\u001b[1;32m----> 1\u001b[1;33m \u001b[0mf\u001b[0m\u001b[1;33m.\u001b[0m\u001b[0mclose\u001b[0m\u001b[1;33m(\u001b[0m\u001b[1;33m)\u001b[0m\u001b[1;33m\u001b[0m\u001b[0m\n\u001b[0m\u001b[0;32m      2\u001b[0m \u001b[0mf2\u001b[0m\u001b[1;33m.\u001b[0m\u001b[0mclose\u001b[0m\u001b[1;33m(\u001b[0m\u001b[1;33m)\u001b[0m\u001b[1;33m\u001b[0m\u001b[0m\n",
      "\u001b[1;31mNameError\u001b[0m: name 'f' is not defined"
     ]
    }
   ],
   "source": [
    "f.close()\n",
    "f2.close()"
   ]
  },
  {
   "cell_type": "code",
   "execution_count": 11,
   "metadata": {
    "collapsed": false
   },
   "outputs": [],
   "source": [
    "#create description of your table\n",
    "class Table_Description(tables.IsDescription):\n",
    "    data = tables.UInt8Col()   # 16-character String\n",
    "    col_ind = tables.Int32Col()\n",
    "    row_ind = tables.Int32Col()\n",
    "    \n",
    "blosc5 = tables.Filters(complib='blosc', complevel=5)\n",
    "#create hdf5 file and table\n",
    "f = tables.open_file(arrays_dir + 'coassoc.h5', mode=\"w\", filters=blosc5)\n",
    "a = f.create_table(\"/\",\"coassoc\",\n",
    "                   description=Table_Description,\n",
    "                   expectedrows=n)\n",
    "\n",
    "cs = a.chunkshape[0] # chunk size"
   ]
  },
  {
   "cell_type": "code",
   "execution_count": 12,
   "metadata": {
    "collapsed": false
   },
   "outputs": [],
   "source": [
    "f2 = tables.open_file(arrays_dir + 'coassoc2.h5', mode=\"w\")\n",
    "a2 = f2.create_table(\"/\",\"coassoc\",\n",
    "                   description=Table_Description,\n",
    "                   expectedrows=n)\n",
    "\n",
    "cs2 = a2.chunkshape[0] # chunk size"
   ]
  },
  {
   "cell_type": "code",
   "execution_count": 14,
   "metadata": {
    "collapsed": false
   },
   "outputs": [
    {
     "name": "stdout",
     "output_type": "stream",
     "text": [
      "CPU times: user 5.81 s, sys: 582 ms, total: 6.39 s\n",
      "Wall time: 6.4 s\n"
     ]
    }
   ],
   "source": [
    "%time a.append((col_ind, data, row_ind))"
   ]
  },
  {
   "cell_type": "code",
   "execution_count": 15,
   "metadata": {
    "collapsed": false
   },
   "outputs": [
    {
     "name": "stdout",
     "output_type": "stream",
     "text": [
      "CPU times: user 2.04 s, sys: 1.29 s, total: 3.33 s\n",
      "Wall time: 3.35 s\n"
     ]
    }
   ],
   "source": [
    "%time a2.append((col_ind, data, row_ind))"
   ]
  },
  {
   "cell_type": "code",
   "execution_count": null,
   "metadata": {
    "collapsed": false
   },
   "outputs": [],
   "source": [
    "%time a.cols.data.create_index(9, kind='full', tmp_dir=index_dir)\n",
    "%time a2.cols.data.create_index(9, kind='full', tmp_dir=index_dir)    "
   ]
  },
  {
   "cell_type": "code",
   "execution_count": 28,
   "metadata": {
    "collapsed": true
   },
   "outputs": [],
   "source": [
    "def wrap():\n",
    "    for i in xrange(50):\n",
    "        start = i*cs\n",
    "        stop = start+cs\n",
    "        b = a.read_sorted(\"data\", checkCSI=True, start=start, stop=stop)\n",
    "        \n",
    "def wrap2():\n",
    "    for i in xrange(50):\n",
    "        start = i*cs2\n",
    "        stop = start+cs2\n",
    "        b2 = a2.read_sorted(\"data\", checkCSI=True, start=start, stop=stop)"
   ]
  },
  {
   "cell_type": "code",
   "execution_count": 29,
   "metadata": {
    "collapsed": false
   },
   "outputs": [
    {
     "name": "stdout",
     "output_type": "stream",
     "text": [
      "CPU times: user 12.9 s, sys: 568 ms, total: 13.5 s\n",
      "Wall time: 13.5 s\n",
      "CPU times: user 3.57 s, sys: 1.48 s, total: 5.04 s\n",
      "Wall time: 5.05 s\n"
     ]
    }
   ],
   "source": [
    "%time wrap()\n",
    "%time wrap2()"
   ]
  },
  {
   "cell_type": "code",
   "execution_count": 27,
   "metadata": {
    "collapsed": false
   },
   "outputs": [
    {
     "name": "stdout",
     "output_type": "stream",
     "text": [
      "CPU times: user 28.8 s, sys: 194 ms, total: 29 s\n",
      "Wall time: 29 s\n",
      "CPU times: user 28 s, sys: 23.1 ms, total: 28 s\n",
      "Wall time: 28 s\n"
     ]
    }
   ],
   "source": [
    "%time b = a.read_sorted(\"data\", checkCSI=True, start=0, stop=50*cs)\n",
    "%time b2 = a2.read_sorted(\"data\", checkCSI=True, start=0, stop=50*cs)"
   ]
  }
 ],
 "metadata": {
  "kernelspec": {
   "display_name": "Python 2",
   "language": "python",
   "name": "python2"
  },
  "language_info": {
   "codemirror_mode": {
    "name": "ipython",
    "version": 2
   },
   "file_extension": ".py",
   "mimetype": "text/x-python",
   "name": "python",
   "nbconvert_exporter": "python",
   "pygments_lexer": "ipython2",
   "version": "2.7.10"
  }
 },
 "nbformat": 4,
 "nbformat_minor": 0
}
