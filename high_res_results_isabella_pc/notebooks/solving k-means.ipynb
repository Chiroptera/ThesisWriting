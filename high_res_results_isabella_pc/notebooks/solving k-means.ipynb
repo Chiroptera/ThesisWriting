{
 "cells": [
  {
   "cell_type": "markdown",
   "metadata": {
    "collapsed": false
   },
   "source": [
    "author: Diogo Silva\n",
    "\n",
    "SKL = SciKit-Learn"
   ]
  },
  {
   "cell_type": "code",
   "execution_count": 1,
   "metadata": {
    "collapsed": false,
    "scrolled": false
   },
   "outputs": [
    {
     "name": "stdout",
     "output_type": "stream",
     "text": [
      "Populating the interactive namespace from numpy and matplotlib\n"
     ]
    }
   ],
   "source": [
    "%pylab inline"
   ]
  },
  {
   "cell_type": "code",
   "execution_count": 2,
   "metadata": {
    "collapsed": false
   },
   "outputs": [],
   "source": [
    "%quickref"
   ]
  },
  {
   "cell_type": "code",
   "execution_count": 3,
   "metadata": {
    "collapsed": true
   },
   "outputs": [],
   "source": [
    "import seaborn as sns"
   ]
  },
  {
   "cell_type": "code",
   "execution_count": 4,
   "metadata": {
    "collapsed": false
   },
   "outputs": [
    {
     "name": "stdout",
     "output_type": "stream",
     "text": [
      "/home/chiroptera/workspace/QCThesis\n"
     ]
    }
   ],
   "source": [
    "cd ~/QCThesis/"
   ]
  },
  {
   "cell_type": "code",
   "execution_count": 5,
   "metadata": {
    "collapsed": false
   },
   "outputs": [
    {
     "data": {
      "text/plain": [
       "<module 'MyML.metrics.accuracy' from 'MyML/metrics/accuracy.pyc'>"
      ]
     },
     "execution_count": 5,
     "metadata": {},
     "output_type": "execute_result"
    }
   ],
   "source": [
    "from sklearn.cluster import KMeans as KMeans_skl\n",
    "import MyML.cluster.eac as eac\n",
    "reload(eac)\n",
    "import MyML.cluster.K_Means3 as K_Means3\n",
    "reload(K_Means3)\n",
    "import MyML.metrics.accuracy as determine_ci\n",
    "reload(determine_ci)"
   ]
  },
  {
   "cell_type": "markdown",
   "metadata": {},
   "source": [
    "# Helper functions"
   ]
  },
  {
   "cell_type": "code",
   "execution_count": 6,
   "metadata": {
    "collapsed": true
   },
   "outputs": [],
   "source": [
    "def stat_my_kmeans(data,nclusters,gtruth,rounds=20):\n",
    "    nsamples=data.shape[0]\n",
    "    all_acc = list()\n",
    "    for r in xrange(rounds):\n",
    "        iters=\"converge\"\n",
    "        kmeans_mode=\"numpy\"\n",
    "\n",
    "        grouper = K_Means3.K_Means(nclusters=nclusters, iters=iters, mode=kmeans_mode, cuda_mem='manual',tol=1e-4,max_iters=300)\n",
    "        grouper._centroid_mode = \"index\"\n",
    "        grouper.fit(data)\n",
    "\n",
    "        ci=determine_ci.ConsistencyIndex(N=nsamples)\n",
    "        accuracy=ci.score(gtruth,grouper.labels_,format='array')\n",
    "        all_acc.append(accuracy)\n",
    "        \n",
    "        \n",
    "    return np.mean(all_acc),np.var(all_acc),np.max(all_acc),np.min(all_acc)\n",
    "    \n",
    "def stat_skl_kmeans(data,nclusters,gtruth,rounds=20,init='random'):\n",
    "    nsamples=data.shape[0]\n",
    "    all_acc = list()\n",
    "    for r in xrange(rounds):\n",
    "        iters=\"converge\"\n",
    "        kmeans_mode=\"numpy\"\n",
    "\n",
    "        gSKL = KMeans_skl(n_clusters=nclusters,n_init=1,init=init)\n",
    "        gSKL.fit(data)\n",
    "\n",
    "        ci=determine_ci.ConsistencyIndex(N=nsamples)\n",
    "        accuracy=ci.score(gtruth,gSKL.labels_,format='array')\n",
    "        all_acc.append(accuracy)\n",
    "        \n",
    "        \n",
    "    return np.mean(all_acc),np.var(all_acc),np.max(all_acc),np.min(all_acc)"
   ]
  },
  {
   "cell_type": "code",
   "execution_count": 96,
   "metadata": {
    "collapsed": false
   },
   "outputs": [],
   "source": [
    "def k_analysis(partition_files,ground_truth,nprots,iters=\"converge\",rounds=20,files=True):\n",
    "    nsamples=data.shape[0]\n",
    "    all_acc = list()\n",
    "    \n",
    "    for r in xrange(rounds):\n",
    "        prot_mode=\"random\"\n",
    "\n",
    "        estimator=eac.EAC(nsamples)\n",
    "        estimator.fit(partition_files,files=files,assoc_mode='prot', prot_mode=prot_mode, nprot=nprots,build_only=True)\n",
    "\n",
    "        kmeans_mode = \"numpy\"\n",
    "        nclusters = np.unique(ground_truth).shape[0]\n",
    "\n",
    "        grouper = K_Means3.K_Means(nclusters=nclusters, iters=iters, mode=kmeans_mode, cuda_mem='manual',tol=1e-4,max_iters=300)\n",
    "        grouper._centroid_mode = \"index\"\n",
    "        grouper.fit(estimator._coassoc)\n",
    "\n",
    "        \n",
    "        sklAcc = determine_ci.HungarianIndex(nsamples=nsamples)\n",
    "        sklAcc.score(gt,grouper.labels_,format='array')\n",
    "        \n",
    "        all_acc.append(sklAcc.accuracy)\n",
    "    return np.mean(all_acc),np.var(all_acc),np.max(all_acc),np.min(all_acc)\n",
    "\n",
    "def k_analysis_better(partition_files,ground_truth,nprots,iters=\"converge\",rounds=20,files=True):\n",
    "    nsamples=data.shape[0]\n",
    "    all_acc = list()\n",
    "    \n",
    "    for r in xrange(rounds):\n",
    "        prot_mode=\"random\"\n",
    "\n",
    "        estimator=eac.EAC(nsamples)\n",
    "        estimator.fit(partition_files,files=files,assoc_mode='prot', prot_mode=prot_mode, nprot=nprots,build_only=True)\n",
    "\n",
    "        kmeans_mode = \"numpy\"\n",
    "        nclusters = np.unique(ground_truth).shape[0]\n",
    "\n",
    "        grouper = K_Means3.K_Means(nclusters=nclusters, iters=iters, mode=kmeans_mode, cuda_mem='manual',tol=1e-4,max_iters=300)\n",
    "        grouper._centroid_mode = \"iter\"\n",
    "        grouper.fit(estimator._coassoc)\n",
    "\n",
    "        sklAcc = determine_ci.HungarianIndex(nsamples=nsamples)\n",
    "        sklAcc.score(gt,grouper.labels_,format='array')\n",
    "        \n",
    "        all_acc.append(sklAcc.accuracy)\n",
    "    return np.mean(all_acc),np.var(all_acc),np.max(all_acc),np.min(all_acc)\n",
    "\n",
    "def k_skl_analysis(partition_files,ground_truth,nprots,rounds=20,files=True):\n",
    "    nsamples=data.shape[0]\n",
    "    all_acc = list()\n",
    "    \n",
    "    for r in xrange(rounds):\n",
    "        prot_mode=\"random\"\n",
    "\n",
    "        estimator=eac.EAC(nsamples)\n",
    "        estimator.fit(partition_files,files=files,assoc_mode='prot', prot_mode=prot_mode, nprot=nprots,build_only=True)\n",
    "\n",
    "        kmeans_mode = \"numpy\"\n",
    "        nclusters = np.unique(ground_truth).shape[0]\n",
    "\n",
    "\n",
    "        grouper = KMeans_skl(n_clusters=nclusters,n_init=1,init=\"random\")\n",
    "        grouper.fit(estimator._coassoc)\n",
    "        \n",
    "        sklAcc = determine_ci.HungarianIndex(nsamples=nsamples)\n",
    "        sklAcc.score(gt,grouper.labels_,format='array')\n",
    "        \n",
    "        all_acc.append(sklAcc.accuracy)\n",
    "    return np.mean(all_acc),np.var(all_acc),np.max(all_acc),np.min(all_acc)"
   ]
  },
  {
   "cell_type": "markdown",
   "metadata": {},
   "source": [
    "# Generate data"
   ]
  },
  {
   "cell_type": "code",
   "execution_count": 8,
   "metadata": {
    "collapsed": false
   },
   "outputs": [
    {
     "data": {
      "text/plain": [
       "[<matplotlib.lines.Line2D at 0x7f6d8ca5e050>]"
      ]
     },
     "execution_count": 8,
     "metadata": {},
     "output_type": "execute_result"
    },
    {
     "data": {
      "image/png": "[encoded data removed]",
      "text/plain": [
       "<matplotlib.figure.Figure at 0x7f6d8c8c23d0>"
      ]
     },
     "metadata": {},
     "output_type": "display_data"
    }
   ],
   "source": [
    "center1=(0,0)\n",
    "center2=(10,10)\n",
    "\n",
    "cov1=1\n",
    "cov2=1\n",
    "\n",
    "n1=100\n",
    "n2=100\n",
    "nsamples=n1+n2\n",
    "dim=2\n",
    "\n",
    "g1 = np.random.normal(loc=center1,scale=cov1,size=(n1,dim))\n",
    "g2 = np.random.normal(loc=center2,scale=cov2,size=(n2,dim))\n",
    "\n",
    "data = np.vstack((g1,g2))\n",
    "gt=np.zeros(data.shape[0],dtype=np.int32)\n",
    "gt[100:]=1\n",
    "\n",
    "figData=plt.figure()\n",
    "plt.plot(g1[:,0],g1[:,1],'.')\n",
    "plt.plot(g2[:,0],g2[:,1],'.')"
   ]
  },
  {
   "cell_type": "markdown",
   "metadata": {},
   "source": [
    "## Generate partitions, k=6,10,[4,25]"
   ]
  },
  {
   "cell_type": "code",
   "execution_count": 9,
   "metadata": {
    "collapsed": true
   },
   "outputs": [],
   "source": [
    "def formatPartition(partition):\n",
    "    nclusters=np.unique(partition).shape[0]\n",
    "    finalPartition=[list() for x in xrange(nclusters)]\n",
    "    for n,c in partition:\n",
    "        finalPartition[c].append(n)\n",
    "        \n",
    "    return finalPartition\n",
    "\n",
    "def generatePartitions(data,npartitions,nclusters,iters=3):\n",
    "    \n",
    "    if type(nclusters) is list:\n",
    "        clusterRange = True\n",
    "        min_ncluster=nclusters[0]\n",
    "        max_ncluster=nclusters[1]\n",
    "    else:\n",
    "        clusterRange = False\n",
    "        k = nclusters\n",
    "        \n",
    "    partitions = list()\n",
    "    \n",
    "    mode = \"numpy\"\n",
    "    for p in xrange(npartitions):\n",
    "        if clusterRange:\n",
    "            k = np.random.randint(min_ncluster,max_ncluster)\n",
    "        \n",
    "        grouper = K_Means3.K_Means(nclusters=k, iters=iters, mode=mode, cuda_mem='manual',tol=1e-4,max_iters=300)\n",
    "        grouper._centroid_mode = \"index\"\n",
    "        grouper.fit(data)\n",
    "        partitions.append(grouper.partition)\n",
    "        \n",
    "    return partitions\n",
    "        \n",
    "def generatePartitionsSKL(data,npartitions,nclusters,iters=3):\n",
    "    \n",
    "    if type(nclusters) is list:\n",
    "        clusterRange = True\n",
    "        min_ncluster=nclusters[0]\n",
    "        max_ncluster=nclusters[1]\n",
    "    else:\n",
    "        clusterRange = False\n",
    "        k = nclusters\n",
    "        \n",
    "    partitions = list()\n",
    "    \n",
    "    mode = \"numpy\"\n",
    "    for p in xrange(npartitions):\n",
    "        if clusterRange:\n",
    "            k = np.random.randint(min_ncluster,max_ncluster)\n",
    "        \n",
    "        gSKL = KMeans_skl(n_clusters=k,n_init=1,init=\"random\",max_iter=iters)\n",
    "        gSKL.fit(data)\n",
    "        partitions.append(formatPartition(gSKL.labels_))\n",
    "        \n",
    "    return partitions\n",
    "    "
   ]
  },
  {
   "cell_type": "code",
   "execution_count": 10,
   "metadata": {
    "collapsed": false
   },
   "outputs": [
    {
     "name": "stdout",
     "output_type": "stream",
     "text": [
      "All partitions have good number of clusters.\n",
      "All partitions have good number of clusters.\n"
     ]
    }
   ],
   "source": [
    "npartitions=30\n",
    "iters=3\n",
    "\n",
    "nclusters=10\n",
    "partitions_my_10 = generatePartitions(data=data,npartitions=npartitions,nclusters=nclusters,iters=iters)\n",
    "partitions_skl_10 = generatePartitions(data=data,npartitions=npartitions,nclusters=nclusters,iters=iters)\n",
    "\n",
    "if type(nclusters) is not list:\n",
    "    allGood=True\n",
    "    for p in xrange(npartitions):\n",
    "        if len(partitions_my_10[p]) != nclusters:\n",
    "            print 'partition {} of partitions_my has different number of clusters:{}'.format(p,len(partitions_my_10[p]))\n",
    "            allGood=False\n",
    "        if len(partitions_skl_10[p]) != nclusters:\n",
    "            print 'partition {} of partitions_my has different number of clusters:{}'.format(p,len(partitions_skl_10[p]))\n",
    "            allGood=False\n",
    "    if allGood:\n",
    "        print 'All partitions have good number of clusters.'\n",
    "\n",
    "nclusters=6\n",
    "partitions_my_6 = generatePartitions(data=data,npartitions=npartitions,nclusters=nclusters,iters=iters)\n",
    "partitions_skl_6 = generatePartitions(data=data,npartitions=npartitions,nclusters=nclusters,iters=iters)\n",
    "\n",
    "if type(nclusters) is not list:\n",
    "    allGood=True\n",
    "    for p in xrange(npartitions):\n",
    "        if len(partitions_my_6[p]) != nclusters:\n",
    "            print 'partition {} of partitions_my has different number of clusters:{}'.format(p,len(partitions_my_6[p]))\n",
    "            allGood=False\n",
    "        if len(partitions_skl_6[p]) != nclusters:\n",
    "            print 'partition {} of partitions_my has different number of clusters:{}'.format(p,len(partitions_skl_6[p]))\n",
    "            allGood=False\n",
    "    if allGood:\n",
    "        print 'All partitions have good number of clusters.'\n",
    "\n",
    "nclusters=[4,25]\n",
    "partitions_my_rand = generatePartitions(data=data,npartitions=npartitions,nclusters=nclusters,iters=iters)\n",
    "partitions_skl_rand = generatePartitions(data=data,npartitions=npartitions,nclusters=nclusters,iters=iters)\n",
    "\n",
    "if type(nclusters) is not list:\n",
    "    allGood=True\n",
    "    for p in xrange(npartitions):\n",
    "        if len(partitions_my_rand[p]) != nclusters:\n",
    "            print 'partition {} of partitions_my has different number of clusters:{}'.format(p,len(partitions_my[p]))\n",
    "            allGood=False\n",
    "        if len(partitions_skl_rand[p]) != nclusters:\n",
    "            print 'partition {} of partitions_my has different number of clusters:{}'.format(p,len(partitions_skl[p]))\n",
    "            allGood=False\n",
    "    if allGood:\n",
    "        print 'All partitions have good number of clusters.'"
   ]
  },
  {
   "cell_type": "markdown",
   "metadata": {},
   "source": [
    "# EAC K-Means"
   ]
  },
  {
   "cell_type": "markdown",
   "metadata": {},
   "source": [
    "## 6 clusters per partition"
   ]
  },
  {
   "cell_type": "code",
   "execution_count": 11,
   "metadata": {
    "collapsed": false
   },
   "outputs": [
    {
     "name": "stdout",
     "output_type": "stream",
     "text": [
      "My Accuracy:\t1.0\n",
      "SKL Accuracy:\t1.0\n"
     ]
    },
    {
     "name": "stderr",
     "output_type": "stream",
     "text": [
      "MyML/helper/partition.py:56: FutureWarning: comparison to `None` will result in an elementwise object comparison in the future.\n",
      "  if clusts == None:\n"
     ]
    },
    {
     "data": {
      "text/plain": [
       "<matplotlib.text.Text at 0x7f6d8c036190>"
      ]
     },
     "execution_count": 11,
     "metadata": {},
     "output_type": "execute_result"
    },
    {
     "data": {
      "image/png": "[encoded data removed]",
      "text/plain": [
       "<matplotlib.figure.Figure at 0x7f6d8caabb90>"
      ]
     },
     "metadata": {},
     "output_type": "display_data"
    }
   ],
   "source": [
    "# generate coassoc\n",
    "prot_mode=\"random\"\n",
    "assoc_mode='full' # prot or full\n",
    "nprots=nsamples # number of prototypes\n",
    "\n",
    "partitions_used = partitions_my_10\n",
    "\n",
    "myEstimator=eac.EAC(nsamples)\n",
    "myEstimator.fit(partitions_used,files=False,assoc_mode=assoc_mode, prot_mode=prot_mode, nprot=nprots,build_only=True)\n",
    "\n",
    "# final clustering with the true number of clusters\n",
    "true_nclusters = np.unique(gt).shape[0]\n",
    "\n",
    "# cluster with my K-Means\n",
    "kmeans_mode = \"numpy\"\n",
    "\n",
    "grouper = K_Means3.K_Means(nclusters=true_nclusters, iters=\"converge\", mode=kmeans_mode, cuda_mem='manual',tol=1e-4,max_iters=300)\n",
    "grouper._centroid_mode = \"index\"\n",
    "grouper.fit(myEstimator._coassoc)\n",
    "\n",
    "# cluster with SKL K-Means\n",
    "gSKL = KMeans_skl(n_clusters=true_nclusters,n_init=1,init=\"random\")\n",
    "gSKL.fit(myEstimator._coassoc)\n",
    "\n",
    "# Hungarian accuracy\n",
    "myAcc = determine_ci.HungarianIndex(nsamples=nsamples)\n",
    "myAcc.score(gt,grouper.labels_,format='array')\n",
    "\n",
    "sklAcc = determine_ci.HungarianIndex(nsamples=nsamples)\n",
    "sklAcc.score(gt,gSKL.labels_,format='array')\n",
    "\n",
    "\n",
    "print 'My Accuracy:\\t',myAcc.accuracy\n",
    "print 'SKL Accuracy:\\t',sklAcc.accuracy\n",
    "\n",
    "figEAC=plt.figure(figsize=(16,6))\n",
    "ax1EAC=figEAC.add_subplot(1,2,1)\n",
    "ax2EAC=figEAC.add_subplot(1,2,2)\n",
    "\n",
    "for c in np.unique(grouper.labels_):\n",
    "    clusterData=grouper.labels_==c\n",
    "    ax1EAC.plot(data[clusterData,0],data[clusterData,1],'.')\n",
    "ax1EAC.set_title(\"Final EAC partition with my K-Means\")\n",
    "\n",
    "for c in np.unique(gSKL.labels_):\n",
    "    clusterData=gSKL.labels_==c\n",
    "    ax2EAC.plot(data[clusterData,0],data[clusterData,1],'.')\n",
    "ax2EAC.set_title(\"Final EAC partition with SKL's K-Means\")"
   ]
  },
  {
   "cell_type": "code",
   "execution_count": 12,
   "metadata": {
    "collapsed": true
   },
   "outputs": [],
   "source": [
    "def accuracy(labels1,labels2):\n",
    "    sklAcc = determine_ci.HungarianIndex(nsamples=nsamples)\n",
    "    sklAcc.score(labels1,labels2,format='array')\n",
    "    return sklAcc.accuracy"
   ]
  },
  {
   "cell_type": "code",
   "execution_count": 13,
   "metadata": {
    "collapsed": true
   },
   "outputs": [],
   "source": [
    "def seek_bad_coassoc(data,rounds=20):\n",
    "    for r in xrange(rounds):\n",
    "        nclusters = 3\n",
    "\n",
    "        grouper = K_Means3.K_Means(nclusters=nclusters, iters=iters, mode=kmeans_mode, cuda_mem='manual',tol=1e-4,max_iters=300)\n",
    "        grouper._centroid_mode = \"index\"\n",
    "        try:\n",
    "            grouper.fit(data)\n",
    "        except:\n",
    "            print \"iterations={}\".format(grouper.iters_)\n",
    "            return estimator\n",
    "        \n",
    "    return None"
   ]
  },
  {
   "cell_type": "code",
   "execution_count": 19,
   "metadata": {
    "collapsed": false
   },
   "outputs": [],
   "source": [
    "test_c=myEstimator._coassoc[[1,1]]"
   ]
  },
  {
   "cell_type": "code",
   "execution_count": 20,
   "metadata": {
    "collapsed": false
   },
   "outputs": [
    {
     "data": {
      "text/plain": [
       "array([[ 30.,   1.,   2., ...,   0.,   0.,   0.],\n",
       "       [  1.,  30.,   1., ...,   0.,   0.,   0.],\n",
       "       [  2.,   1.,  30., ...,   0.,   0.,   0.],\n",
       "       ..., \n",
       "       [  0.,   0.,   0., ...,  30.,   0.,   4.],\n",
       "       [  0.,   0.,   0., ...,   0.,  30.,   8.],\n",
       "       [  0.,   0.,   0., ...,   4.,   8.,  30.]])"
      ]
     },
     "execution_count": 20,
     "metadata": {},
     "output_type": "execute_result"
    }
   ],
   "source": [
    "myEstimator._coassoc"
   ]
  },
  {
   "cell_type": "code",
   "execution_count": 21,
   "metadata": {
    "collapsed": false
   },
   "outputs": [
    {
     "data": {
      "text/plain": [
       "1.0"
      ]
     },
     "execution_count": 21,
     "metadata": {},
     "output_type": "execute_result"
    }
   ],
   "source": [
    "gSKL = KMeans_skl(n_clusters=2,n_init=1,init=\"random\",max_iter=1)\n",
    "gSKL.fit(myEstimator._coassoc)\n",
    "accuracy(gt,gSKL.labels_)"
   ]
  },
  {
   "cell_type": "code",
   "execution_count": 23,
   "metadata": {
    "collapsed": false
   },
   "outputs": [
    {
     "data": {
      "text/plain": [
       "<module 'MyML.cluster.K_Means3' from 'MyML/cluster/K_Means3.pyc'>"
      ]
     },
     "execution_count": 23,
     "metadata": {},
     "output_type": "execute_result"
    }
   ],
   "source": [
    "reload(K_Means3)"
   ]
  },
  {
   "cell_type": "code",
   "execution_count": 56,
   "metadata": {
    "collapsed": false
   },
   "outputs": [
    {
     "data": {
      "text/plain": [
       "1.0"
      ]
     },
     "execution_count": 56,
     "metadata": {},
     "output_type": "execute_result"
    }
   ],
   "source": [
    "#%%timeit\n",
    "grouper = K_Means3.K_Means(nclusters=2, iters=\"converge\", mode=\"numpy\", cuda_mem='manual',tol=1e-4,max_iters=300,centroids=\"random\")\n",
    "grouper.fit(myEstimator._coassoc)\n",
    "accuracy(gt,grouper.labels_)"
   ]
  },
  {
   "cell_type": "code",
   "execution_count": 88,
   "metadata": {
    "collapsed": false
   },
   "outputs": [
    {
     "data": {
      "text/plain": [
       "1.0"
      ]
     },
     "execution_count": 88,
     "metadata": {},
     "output_type": "execute_result"
    }
   ],
   "source": [
    "grouper = K_Means3.K_Means(nclusters=2, iters=\"converge\", mode=\"numpy\", cuda_mem='manual',tol=1e-5,max_iters=300,centroids=\"random\")\n",
    "grouper._centroid_mode = \"iter\"\n",
    "grouper.fit(myEstimator._coassoc)\n",
    "accuracy(gt,grouper.labels_)"
   ]
  },
  {
   "cell_type": "code",
   "execution_count": 97,
   "metadata": {
    "collapsed": false
   },
   "outputs": [
    {
     "name": "stdout",
     "output_type": "stream",
     "text": [
      "(1.0, 0.0, 1.0, 1.0)\n",
      "(1.0, 0.0, 1.0, 1.0)\n",
      "(1.0, 0.0, 1.0, 1.0)\n"
     ]
    }
   ],
   "source": [
    "partitions_used=partitions_my_rand\n",
    "print k_skl_analysis(partitions_used,gt,nsamples,rounds=100,files=False)\n",
    "print k_analysis_better(partitions_used,gt,nsamples,rounds=100,files=False)\n",
    "print k_analysis(partitions_used,gt,nsamples,rounds=100,files=False)"
   ]
  },
  {
   "cell_type": "code",
   "execution_count": 356,
   "metadata": {
    "collapsed": true
   },
   "outputs": [],
   "source": [
    "def _np_label_fast(data,centroids):\n",
    "\n",
    "    N,D = data.shape\n",
    "    C,cD = centroids.shape\n",
    "\n",
    "    labels = np.zeros(N,dtype=np.int32)\n",
    "\n",
    "    # first iteration of all datapoints outside loop\n",
    "    # distance from points to centroid 0\n",
    "    best_dist = data - centroids[0]\n",
    "    best_dist = best_dist ** 2\n",
    "    best_dist = best_dist.sum(axis=1) \n",
    "\n",
    "\n",
    "    for c in xrange(1,C):\n",
    "        # distance from points to centroid c\n",
    "        dist = data - centroids[c]\n",
    "        dist = dist ** 2\n",
    "        dist = dist.sum(axis=1)\n",
    "\n",
    "        #thisCluster = np.full(N,c,dtype=np.int32)\n",
    "        #labels = np.where(dist < bestd_ist,thisCluster,labels)\n",
    "        labels[dist<best_dist] = c\n",
    "        best_dist = np.minimum(dist,best_dist)\n",
    "\n",
    "    return labels"
   ]
  },
  {
   "cell_type": "code",
   "execution_count": 358,
   "metadata": {
    "collapsed": false
   },
   "outputs": [],
   "source": [
    "labels=_np_label_fast(saved_est._coassoc,test_c)"
   ]
  },
  {
   "cell_type": "code",
   "execution_count": 369,
   "metadata": {
    "collapsed": true
   },
   "outputs": [],
   "source": [
    "labelChangedIndex = np.where(labels[1:] != labels[:-1])[0] + 1"
   ]
  },
  {
   "cell_type": "code",
   "execution_count": 371,
   "metadata": {
    "collapsed": false
   },
   "outputs": [
    {
     "data": {
      "text/plain": [
       "0"
      ]
     },
     "execution_count": 371,
     "metadata": {},
     "output_type": "execute_result"
    }
   ],
   "source": [
    "labelChangedIndex.size"
   ]
  },
  {
   "cell_type": "code",
   "execution_count": 277,
   "metadata": {
    "collapsed": false
   },
   "outputs": [
    {
     "name": "stdout",
     "output_type": "stream",
     "text": [
      "labels:  [0 0 0 0 0 0 0 0 0 0 0 0 0 0 0 0 0 0 0 0 0 0 0 0 0 0 0 0 0 0 0 0 0 0 0 0 0\n",
      " 0 0 0 0 0 0 0 0 0 0 0 0 0 0 0 0 0 0 0 0 0 0 0 0 0 0 0 0 0 0 0 0 0 0 0 0 0\n",
      " 0 0 0 0 0 0 0 0 0 0 0 0 0 0 0 0 0 0 0 0 0 0 0 0 0 0 0 0 0 0 0 0 0 0 0 0 0\n",
      " 0 0 0 0 0 0 0 0 0 0 0 0 0 0 0 0 0 0 0 0 0 0 0 0 0 0 0 0 0 0 0 0 0 0 0 0 0\n",
      " 0 0 0 0 0 0 0 0 0 0 0 0 0 0 0 0 0 0 0 0 0 0 0 0 0 0 0 0 0 0 0 0 0 0 0 0 0\n",
      " 0 0 0 0 0 0 0 0 0 0 0 0 0 0 0]\n",
      "centroids:  [[  2.   1.   0.   0.   0.   0.   5.   0.   2.   0.   0.   0.   0.   0.\n",
      "    1.   0.  21.   1.   0.   0.   0.   0.   1.  17.   0.   0.   2.  16.\n",
      "    0.  30.   0.   2.   0.   1.   0.   7.   0.   0.   0.   1.   0.   1.\n",
      "    1.   0.   0.  30.   0.   4.   0.   1.   0.   1.   0.  22.   4.   0.\n",
      "    0.   5.   3.   8.   0.   0.   4.   0.   1.   0.   0.   0.  13.   3.\n",
      "    1.   0.   0.   1.   0.   0.   0.   0.   0.   3.   2.   0.  30.   1.\n",
      "    2.  19.  20.   0.   0.   2.   0.   6.   0.   1.   0.   0.   2.   0.\n",
      "    1.   0.   0.   0.   0.   0.   0.   8.   0.  21.   0.  14.   1.   0.\n",
      "    0.   0.   1.   0.   0.   0.   0.   3.   0.   0.   6.   1.   1.   3.\n",
      "    0.   2.   0.   0.   0.   1.   0.   0.   0.   0.   0.   1.   1.   0.\n",
      "    0.   3.   5.   0.   1.   0.  23.   0.   0.   1.   0.   0.   0.   2.\n",
      "   19.  11.   0.   6.   2.   0.   0.   0.   0.   0.   0.   0.   0.   0.\n",
      "    0.   2.   1.  19.   0.  29.   0.   1.   0.   0.   2.   0.   6.   0.\n",
      "    1.   9.   0.   0.   0.   0.   1.   0.   0.   5.   0.   2.   0.   0.\n",
      "    1.   0.   3.   0.]\n",
      " [  2.   1.   0.   0.   0.   0.   5.   0.   2.   0.   0.   0.   0.   0.\n",
      "    1.   0.  21.   1.   0.   0.   0.   0.   1.  17.   0.   0.   2.  16.\n",
      "    0.  30.   0.   2.   0.   1.   0.   7.   0.   0.   0.   1.   0.   1.\n",
      "    1.   0.   0.  30.   0.   4.   0.   1.   0.   1.   0.  22.   4.   0.\n",
      "    0.   5.   3.   8.   0.   0.   4.   0.   1.   0.   0.   0.  13.   3.\n",
      "    1.   0.   0.   1.   0.   0.   0.   0.   0.   3.   2.   0.  30.   1.\n",
      "    2.  19.  20.   0.   0.   2.   0.   6.   0.   1.   0.   0.   2.   0.\n",
      "    1.   0.   0.   0.   0.   0.   0.   8.   0.  21.   0.  14.   1.   0.\n",
      "    0.   0.   1.   0.   0.   0.   0.   3.   0.   0.   6.   1.   1.   3.\n",
      "    0.   2.   0.   0.   0.   1.   0.   0.   0.   0.   0.   1.   1.   0.\n",
      "    0.   3.   5.   0.   1.   0.  23.   0.   0.   1.   0.   0.   0.   2.\n",
      "   19.  11.   0.   6.   2.   0.   0.   0.   0.   0.   0.   0.   0.   0.\n",
      "    0.   2.   1.  19.   0.  29.   0.   1.   0.   0.   2.   0.   6.   0.\n",
      "    1.   9.   0.   0.   0.   0.   1.   0.   0.   5.   0.   2.   0.   0.\n",
      "    1.   0.   3.   0.]\n",
      " [  2.   1.   0.   0.   0.   0.   5.   0.   2.   0.   0.   0.   0.   0.\n",
      "    1.   0.  21.   1.   0.   0.   0.   0.   1.  17.   0.   0.   2.  16.\n",
      "    0.  30.   0.   2.   0.   1.   0.   7.   0.   0.   0.   1.   0.   1.\n",
      "    1.   0.   0.  30.   0.   4.   0.   1.   0.   1.   0.  22.   4.   0.\n",
      "    0.   5.   3.   8.   0.   0.   4.   0.   1.   0.   0.   0.  13.   3.\n",
      "    1.   0.   0.   1.   0.   0.   0.   0.   0.   3.   2.   0.  30.   1.\n",
      "    2.  19.  20.   0.   0.   2.   0.   6.   0.   1.   0.   0.   2.   0.\n",
      "    1.   0.   0.   0.   0.   0.   0.   8.   0.  21.   0.  14.   1.   0.\n",
      "    0.   0.   1.   0.   0.   0.   0.   3.   0.   0.   6.   1.   1.   3.\n",
      "    0.   2.   0.   0.   0.   1.   0.   0.   0.   0.   0.   1.   1.   0.\n",
      "    0.   3.   5.   0.   1.   0.  23.   0.   0.   1.   0.   0.   0.   2.\n",
      "   19.  11.   0.   6.   2.   0.   0.   0.   0.   0.   0.   0.   0.   0.\n",
      "    0.   2.   1.  19.   0.  29.   0.   1.   0.   0.   2.   0.   6.   0.\n",
      "    1.   9.   0.   0.   0.   0.   1.   0.   0.   5.   0.   2.   0.   0.\n",
      "    1.   0.   3.   0.]]\n",
      "centroids equal: True\n",
      "labelChangedIndex:  []\n",
      "iterations=1\n",
      "False\n"
     ]
    }
   ],
   "source": [
    "bad_est=seek_bad_coassoc(saved_est._coassoc,rounds=10000)\n",
    "print bad_est == None"
   ]
  },
  {
   "cell_type": "markdown",
   "metadata": {},
   "source": [
    "Accuracy is usually 100% in both cases (clustering from my K-Means and SciKit-Learn's). This depends on the ensemble. For some ensembles the accuracy on both is always one, for others it sometimes is not in one or both of the K-Means used (mine vs SKL).\n",
    "\n",
    "The number of prototypes is equal to the number of samples and since there are not repeated prototypes, all the samples are being used. Above are the visualizations of the solutions. "
   ]
  },
  {
   "cell_type": "markdown",
   "metadata": {},
   "source": [
    "### Statistic analysis"
   ]
  },
  {
   "cell_type": "code",
   "execution_count": 107,
   "metadata": {
    "collapsed": false
   },
   "outputs": [
    {
     "name": "stdout",
     "output_type": "stream",
     "text": [
      "type\tmean\tvar\tmax\tmin\n",
      "skl \t0.97345\t0.0044723475\t1.0\t0.76\t\n",
      "my  \t0.90525\t0.0098911875\t1.0\t0.715\t"
     ]
    }
   ],
   "source": [
    "stat_nprots=nsamples\n",
    "print \"{}\\t{}\\t{}\\t{}\\t{}\".format(\"type\",\"mean\",\"var\",\"max\",\"min\")\n",
    "print \"skl \\t\",\n",
    "for metric in k_skl_analysis(partitions_used,files=False,ground_truth=gt,nprots=stat_nprots,rounds=100):\n",
    "    print \"{}\\t\".format(metric),\n",
    "print \"\\nmy  \\t\",\n",
    "for metric in k_analysis(partitions_used,files=False,ground_truth=gt,nprots=stat_nprots,iters=\"converge\",rounds=100):\n",
    "    print \"{}\\t\".format(metric),\n"
   ]
  },
  {
   "cell_type": "code",
   "execution_count": 108,
   "metadata": {
    "collapsed": false
   },
   "outputs": [
    {
     "name": "stdout",
     "output_type": "stream",
     "text": [
      "\n",
      "my  \t0.90835\t0.0090310275\t1.0\t0.725\t"
     ]
    }
   ],
   "source": [
    "print \"\\nmy  \\t\",\n",
    "for metric in k_analysis(partitions_used,files=False,ground_truth=gt,nprots=stat_nprots,iters=\"converge\",rounds=100):\n",
    "    print \"{}\\t\".format(metric),"
   ]
  },
  {
   "cell_type": "code",
   "execution_count": 14,
   "metadata": {
    "collapsed": false
   },
   "outputs": [
    {
     "data": {
      "text/plain": [
       "<matplotlib.legend.Legend at 0x7f568a132d10>"
      ]
     },
     "execution_count": 14,
     "metadata": {},
     "output_type": "execute_result"
    },
    {
     "data": {
      "image/png": "[encoded data removed]",
      "text/plain": [
       "<matplotlib.figure.Figure at 0x7f56905291d0>"
      ]
     },
     "metadata": {},
     "output_type": "display_data"
    }
   ],
   "source": [
    "nprots=[5,20,40,60,80,100,120,140,160,180,200]\n",
    "\n",
    "results_k10=list()\n",
    "for n in nprots:\n",
    "    r=k_skl_analysis(partitions_used,files=False,ground_truth=gt,nprots=stat_nprots,rounds=100)\n",
    "    results_k10.append(r)\n",
    "    \n",
    "mean_k10=[res[0] for res in results_k10]\n",
    "var_k10=[res[1] for res in results_k10]\n",
    "best_k10=[res[2] for res in results_k10]\n",
    "worst_k10=[res[3] for res in results_k10]\n",
    "\n",
    "plt.plot(mean_k10,label='mean')\n",
    "plt.plot(best_k10,label='best')\n",
    "plt.plot(worst_k10,label='worst')\n",
    "plt.plot([0, 10], [0.5, 0.5], 'k-', lw=1)\n",
    "plt.title(\"Analysis of the influence of the number of prototypes\")\n",
    "plt.legend(loc='best')"
   ]
  },
  {
   "cell_type": "markdown",
   "metadata": {},
   "source": [
    "## 10 clusters per partition"
   ]
  },
  {
   "cell_type": "code",
   "execution_count": 15,
   "metadata": {
    "collapsed": false
   },
   "outputs": [
    {
     "name": "stdout",
     "output_type": "stream",
     "text": [
      "My Accuracy:\t0.7\n",
      "SKL Accuracy:\t1.0\n",
      "\n",
      "Statistical analysis\n",
      "type\tmean\tvar\tmax\tmin\n",
      "skl \t0.93705\t0.0112285475\t1.0\t0.685\t\n",
      "my  \t0.87935\t0.0097233275\t1.0\t0.675\t"
     ]
    },
    {
     "data": {
      "image/png": "[encoded data removed]",
      "text/plain": [
       "<matplotlib.figure.Figure at 0x7f568a13ac10>"
      ]
     },
     "metadata": {},
     "output_type": "display_data"
    }
   ],
   "source": [
    "partitions_used = partitions_my_10\n",
    "\n",
    "# generate coassoc\n",
    "prot_mode=\"random\"\n",
    "assoc_mode='prot' # prot or full\n",
    "nprots=nsamples # number of prototypes\n",
    "\n",
    "myEstimator=eac.EAC(nsamples)\n",
    "myEstimator.fit(partitions_used,files=False,assoc_mode=assoc_mode, prot_mode=prot_mode, nprot=nprots,build_only=True)\n",
    "\n",
    "# final clustering with the true number of clusters\n",
    "true_nclusters = np.unique(gt).shape[0]\n",
    "\n",
    "# cluster with my K-Means\n",
    "kmeans_mode = \"numpy\"\n",
    "\n",
    "grouper = K_Means3.K_Means(nclusters=true_nclusters, iters=\"converge\", mode=kmeans_mode, cuda_mem='manual',tol=1e-4,max_iters=300)\n",
    "grouper._centroid_mode = \"index\"\n",
    "grouper.fit(myEstimator._coassoc)\n",
    "\n",
    "# cluster with SKL K-Means\n",
    "gSKL = KMeans_skl(n_clusters=true_nclusters,n_init=1,init=\"random\")\n",
    "gSKL.fit(myEstimator._coassoc)\n",
    "\n",
    "# Hungarian accuracy\n",
    "myAcc = determine_ci.HungarianIndex(nsamples=nsamples)\n",
    "myAcc.score(gt,grouper.labels_,format='array')\n",
    "\n",
    "sklAcc = determine_ci.HungarianIndex(nsamples=nsamples)\n",
    "sklAcc.score(gt,gSKL.labels_,format='array')\n",
    "\n",
    "\n",
    "print 'My Accuracy:\\t',myAcc.accuracy\n",
    "print 'SKL Accuracy:\\t',sklAcc.accuracy\n",
    "\n",
    "figEAC2=plt.figure(figsize=(16,12))\n",
    "ax1EAC2=figEAC2.add_subplot(2,2,1)\n",
    "ax2EAC2=figEAC2.add_subplot(2,2,2)\n",
    "ax3EAC2=figEAC2.add_subplot(2,2,3)\n",
    "\n",
    "for c in np.unique(grouper.labels_):\n",
    "    clusterData=grouper.labels_==c\n",
    "    ax1EAC2.plot(data[clusterData,0],data[clusterData,1],'.')\n",
    "ax1EAC2.set_title(\"Final EAC partition with my K-Means\")\n",
    "\n",
    "for c in np.unique(gSKL.labels_):\n",
    "    clusterData=gSKL.labels_==c\n",
    "    ax2EAC2.plot(data[clusterData,0],data[clusterData,1],'.')\n",
    "ax2EAC2.set_title(\"Final EAC partition with SKL's K-Means\")\n",
    "\n",
    "nprots=[5,20,40,60,80,100,120,140,160,180,200]\n",
    "results_k6=list()\n",
    "for n in nprots:\n",
    "    r=k_skl_analysis(partitions_used,files=False,ground_truth=gt,nprots=stat_nprots,rounds=100)\n",
    "    results_k6.append(r)\n",
    "    \n",
    "mean_k6=[res[0] for res in results_k6]\n",
    "var_k6=[res[1] for res in results_k6]\n",
    "best_k6=[res[2] for res in results_k6]\n",
    "worst_k6=[res[3] for res in results_k6]\n",
    "\n",
    "ax3EAC2.plot(mean_k6)\n",
    "ax3EAC2.plot(best_k6)\n",
    "ax3EAC2.plot(worst_k6)\n",
    "ax3EAC2.plot([0, 10], [0.5, 0.5], 'k-', lw=1)\n",
    "ax3EAC2.set_title(\"Analysis of the influence of the number of prototypes (SKL)\")\n",
    "\n",
    "print \"\\nStatistical analysis\"\n",
    "stat_nprots=nsamples\n",
    "print \"{}\\t{}\\t{}\\t{}\\t{}\".format(\"type\",\"mean\",\"var\",\"max\",\"min\")\n",
    "print \"skl \\t\",\n",
    "for metric in k_skl_analysis(partitions_used,files=False,ground_truth=gt,nprots=stat_nprots,rounds=100):\n",
    "    print \"{}\\t\".format(metric),\n",
    "print \"\\nmy  \\t\",\n",
    "for metric in k_analysis(partitions_used,files=False,ground_truth=gt,nprots=stat_nprots,iters=\"converge\",rounds=100):\n",
    "    print \"{}\\t\".format(metric),"
   ]
  },
  {
   "cell_type": "markdown",
   "metadata": {},
   "source": [
    "## Random number of clusters per partition"
   ]
  },
  {
   "cell_type": "code",
   "execution_count": 16,
   "metadata": {
    "collapsed": false
   },
   "outputs": [
    {
     "name": "stdout",
     "output_type": "stream",
     "text": [
      "My Accuracy:\t0.905\n",
      "SKL Accuracy:\t1.0\n",
      "\n",
      "Statistical analysis\n",
      "type\tmean\tvar\tmax\tmin\n",
      "skl \t0.954\t0.008803\t1.0\t0.695\t\n",
      "my  \t0.91935\t0.0116068275\t1.0\t0.675\t"
     ]
    },
    {
     "data": {
      "image/png": "[encoded data removed]",
      "text/plain": [
       "<matplotlib.figure.Figure at 0x7f568a0e29d0>"
      ]
     },
     "metadata": {},
     "output_type": "display_data"
    }
   ],
   "source": [
    "partitions_used = partitions_my_rand\n",
    "\n",
    "# generate coassoc\n",
    "prot_mode=\"random\"\n",
    "assoc_mode='prot' # prot or full\n",
    "nprots=nsamples # number of prototypes\n",
    "\n",
    "myEstimator=eac.EAC(nsamples)\n",
    "myEstimator.fit(partitions_used,files=False,assoc_mode=assoc_mode, prot_mode=prot_mode, nprot=nprots,build_only=True)\n",
    "\n",
    "# final clustering with the true number of clusters\n",
    "true_nclusters = np.unique(gt).shape[0]\n",
    "\n",
    "# cluster with my K-Means\n",
    "kmeans_mode = \"numpy\"\n",
    "\n",
    "grouper = K_Means3.K_Means(nclusters=true_nclusters, iters=\"converge\", mode=kmeans_mode, cuda_mem='manual',tol=1e-4,max_iters=300)\n",
    "grouper._centroid_mode = \"index\"\n",
    "grouper.fit(myEstimator._coassoc)\n",
    "\n",
    "# cluster with SKL K-Means\n",
    "gSKL = KMeans_skl(n_clusters=true_nclusters,n_init=1,init=\"random\")\n",
    "gSKL.fit(myEstimator._coassoc)\n",
    "\n",
    "# Hungarian accuracy\n",
    "myAcc = determine_ci.HungarianIndex(nsamples=nsamples)\n",
    "myAcc.score(gt,grouper.labels_,format='array')\n",
    "\n",
    "sklAcc = determine_ci.HungarianIndex(nsamples=nsamples)\n",
    "sklAcc.score(gt,gSKL.labels_,format='array')\n",
    "\n",
    "\n",
    "print 'My Accuracy:\\t',myAcc.accuracy\n",
    "print 'SKL Accuracy:\\t',sklAcc.accuracy\n",
    "\n",
    "figEAC2=plt.figure(figsize=(16,12))\n",
    "ax1EAC2=figEAC2.add_subplot(2,2,1)\n",
    "ax2EAC2=figEAC2.add_subplot(2,2,2)\n",
    "ax3EAC2=figEAC2.add_subplot(2,2,3)\n",
    "\n",
    "for c in np.unique(grouper.labels_):\n",
    "    clusterData=grouper.labels_==c\n",
    "    ax1EAC2.plot(data[clusterData,0],data[clusterData,1],'.')\n",
    "ax1EAC2.set_title(\"Final EAC partition with my K-Means\")\n",
    "\n",
    "for c in np.unique(gSKL.labels_):\n",
    "    clusterData=gSKL.labels_==c\n",
    "    ax2EAC2.plot(data[clusterData,0],data[clusterData,1],'.')\n",
    "ax2EAC2.set_title(\"Final EAC partition with SKL's K-Means\")\n",
    "\n",
    "nprots=[5,20,40,60,80,100,120,140,160,180,200]\n",
    "results_k6=list()\n",
    "for n in nprots:\n",
    "    r=k_skl_analysis(partitions_used,files=False,ground_truth=gt,nprots=stat_nprots,rounds=100)\n",
    "    results_k6.append(r)\n",
    "    \n",
    "mean_k6=[res[0] for res in results_k6]\n",
    "var_k6=[res[1] for res in results_k6]\n",
    "best_k6=[res[2] for res in results_k6]\n",
    "worst_k6=[res[3] for res in results_k6]\n",
    "\n",
    "ax3EAC2.plot(mean_k6)\n",
    "ax3EAC2.plot(best_k6)\n",
    "ax3EAC2.plot(worst_k6)\n",
    "ax3EAC2.plot([0, 10], [0.5, 0.5], 'k-', lw=1)\n",
    "ax3EAC2.set_title(\"Analysis of the influence of the number of prototypes (SKL)\")\n",
    "\n",
    "print \"\\nStatistical analysis\"\n",
    "stat_nprots=nsamples\n",
    "print \"{}\\t{}\\t{}\\t{}\\t{}\".format(\"type\",\"mean\",\"var\",\"max\",\"min\")\n",
    "print \"skl \\t\",\n",
    "for metric in k_skl_analysis(partitions_used,files=False,ground_truth=gt,nprots=stat_nprots,rounds=100):\n",
    "    print \"{}\\t\".format(metric),\n",
    "print \"\\nmy  \\t\",\n",
    "for metric in k_analysis(partitions_used,files=False,ground_truth=gt,nprots=stat_nprots,iters=\"converge\",rounds=100):\n",
    "    print \"{}\\t\".format(metric),"
   ]
  },
  {
   "cell_type": "code",
   "execution_count": 159,
   "metadata": {
    "collapsed": false
   },
   "outputs": [
    {
     "data": {
      "text/plain": [
       "<matplotlib.collections.PolyCollection at 0x7fdb7ff825d0>"
      ]
     },
     "execution_count": 159,
     "metadata": {},
     "output_type": "execute_result"
    },
    {
     "data": {
      "image/png": "[encoded data removed]",
      "text/plain": [
       "<matplotlib.figure.Figure at 0x7fdb80367b90>"
      ]
     },
     "metadata": {},
     "output_type": "display_data"
    }
   ],
   "source": [
    "plt.pcolor(myEstimator._coassoc)"
   ]
  },
  {
   "cell_type": "markdown",
   "metadata": {},
   "source": [
    "# K-Means only"
   ]
  },
  {
   "cell_type": "code",
   "execution_count": 18,
   "metadata": {
    "collapsed": false
   },
   "outputs": [
    {
     "name": "stdout",
     "output_type": "stream",
     "text": [
      "type\tmean\tvar\tmax\tmin\n",
      "my  \t1.0\t0.0\t1.0\t1.0\t\n",
      "skl \t1.0\t0.0\t1.0\t1.0\t"
     ]
    }
   ],
   "source": [
    "stat_nprots=nsamples\n",
    "print \"{}\\t{}\\t{}\\t{}\\t{}\".format(\"type\",\"mean\",\"var\",\"max\",\"min\")\n",
    "print \"my  \\t\",\n",
    "for metric in stat_my_kmeans(data,true_nclusters,gt,rounds=100):\n",
    "    print \"{}\\t\".format(metric),\n",
    "print \"\\nskl \\t\",\n",
    "for metric in stat_skl_kmeans(data,true_nclusters,gt,rounds=100):\n",
    "    print \"{}\\t\".format(metric),"
   ]
  },
  {
   "cell_type": "markdown",
   "metadata": {},
   "source": [
    "# EAC K-Medoids"
   ]
  },
  {
   "cell_type": "code",
   "execution_count": 19,
   "metadata": {
    "collapsed": true
   },
   "outputs": [],
   "source": [
    "import MyML.cluster.KMedoids as KMedoids"
   ]
  },
  {
   "cell_type": "markdown",
   "metadata": {},
   "source": [
    "## 6 clusters per partition"
   ]
  },
  {
   "cell_type": "code",
   "execution_count": 36,
   "metadata": {
    "collapsed": false
   },
   "outputs": [
    {
     "name": "stdout",
     "output_type": "stream",
     "text": [
      "K-Medoids Accuracy:\t1.0\n"
     ]
    }
   ],
   "source": [
    "#%%debug\n",
    "partitions_used = partitions_my_6\n",
    "\n",
    "# generate coassoc\n",
    "prot_mode=\"random\"\n",
    "assoc_mode='full' # prot or full\n",
    "nprots=50 # number of prototypes\n",
    "\n",
    "myEstimator=eac.EAC(nsamples)\n",
    "myEstimator.fit(partitions_used,files=False,assoc_mode=assoc_mode, prot_mode=prot_mode, nprot=nprots,build_only=True)\n",
    "\n",
    "# final clustering with the true number of clusters\n",
    "true_nclusters = np.unique(gt).shape[0]\n",
    "\n",
    "# compute diassociation from co-assoc\n",
    "diassoc=myEstimator._coassoc.max()-myEstimator._coassoc\n",
    "\n",
    "#k-medoids\n",
    "labels,medoids=KMedoids.cluster(diassoc,k=true_nclusters)\n",
    "\n",
    "# Hungarian accuracy\n",
    "acc = determine_ci.HungarianIndex(nsamples=nsamples)\n",
    "acc.score(gt,labels,format='array')\n",
    "\n",
    "print 'K-Medoids Accuracy:\\t',acc.accuracy"
   ]
  },
  {
   "cell_type": "markdown",
   "metadata": {},
   "source": [
    "### Statistical analysis"
   ]
  },
  {
   "cell_type": "code",
   "execution_count": 22,
   "metadata": {
    "collapsed": false
   },
   "outputs": [],
   "source": [
    "class acc_medoids():\n",
    "    def __init__(self,data,nclusters,gt):\n",
    "        self.data=data\n",
    "        self.nsamples=data.shape[0]\n",
    "        self.nclusters=nclusters\n",
    "        self.gt=gt\n",
    "        \n",
    "    def run(self):\n",
    "        labels,medoids=KMedoids.cluster(self.data,k=self.nclusters)\n",
    "        # Hungarian accuracy\n",
    "        acc = determine_ci.HungarianIndex(nsamples=self.nsamples)\n",
    "        acc.score(self.gt,labels,format='array')\n",
    "        return acc.accuracy\n",
    "    \n",
    "class acc_skl_kmeans():\n",
    "    def __init__(self,data,nclusters,gt):\n",
    "        self.data=data\n",
    "        self.nclusters=nclusters\n",
    "        self.nsamples=data.shape[0]\n",
    "        self.gt=gt\n",
    "    def run(self):\n",
    "        # cluster with SKL K-Means\n",
    "        gSKL = KMeans_skl(n_clusters=self.nclusters,n_init=1,init=\"random\")\n",
    "        gSKL.fit(self.data)\n",
    "\n",
    "        # Hungarian accuracy\n",
    "        sklAcc = determine_ci.HungarianIndex(nsamples=self.nsamples)\n",
    "        sklAcc.score(self.gt,gSKL.labels_,format='array')\n",
    "        \n",
    "        return sklAcc.accuracy\n",
    "\n",
    "def stat_analysis(method,rounds=20):\n",
    "    rAll = np.zeros(rounds)\n",
    "    for r in xrange(rounds):\n",
    "        rAll[r]=method.run()\n",
    "    return rAll.mean(),rAll.var(),rAll.max(),rAll.min()"
   ]
  },
  {
   "cell_type": "code",
   "execution_count": 23,
   "metadata": {
    "collapsed": false
   },
   "outputs": [
    {
     "name": "stdout",
     "output_type": "stream",
     "text": [
      "diassoc kmedoids\t(1.0, 0.0, 1.0, 1.0)\n",
      "diassoc kmeans  \t(1.0, 0.0, 1.0, 1.0)\n",
      "assoc kmedoids  \t(0.87944999999999995, 0.016268947499999999, 0.98999999999999999, 0.65500000000000003)\n",
      "assoc kmeans    \t(1.0, 0.0, 1.0, 1.0)\n"
     ]
    }
   ],
   "source": [
    "rounds=100\n",
    "diassoc=myEstimator._coassoc.max()-myEstimator._coassoc\n",
    "x=acc_medoids(diassoc,nclusters=true_nclusters,gt=gt)\n",
    "print 'diassoc kmedoids\\t',stat_analysis(x,rounds=rounds)\n",
    "\n",
    "x2=acc_skl_kmeans(diassoc,nclusters=true_nclusters,gt=gt)\n",
    "print 'diassoc kmeans  \\t',stat_analysis(x2,rounds=rounds)\n",
    "\n",
    "x3=acc_medoids(myEstimator._coassoc,nclusters=true_nclusters,gt=gt)\n",
    "print 'assoc kmedoids  \\t',stat_analysis(x3,rounds=rounds)\n",
    "\n",
    "x4=acc_skl_kmeans(myEstimator._coassoc,nclusters=true_nclusters,gt=gt)\n",
    "print 'assoc kmeans    \\t',stat_analysis(x4,rounds=rounds)"
   ]
  },
  {
   "cell_type": "markdown",
   "metadata": {
    "collapsed": false
   },
   "source": [
    "## 10 clusters per partition"
   ]
  },
  {
   "cell_type": "code",
   "execution_count": 27,
   "metadata": {
    "collapsed": false
   },
   "outputs": [
    {
     "name": "stdout",
     "output_type": "stream",
     "text": [
      "K-Medoids Accuracy:\t0.79\n"
     ]
    }
   ],
   "source": [
    "#%%debug\n",
    "partitions_used = partitions_my_10\n",
    "\n",
    "# generate coassoc\n",
    "prot_mode=\"random\"\n",
    "assoc_mode='full' # prot or full\n",
    "nprots=50 # number of prototypes\n",
    "\n",
    "myEstimator=eac.EAC(nsamples)\n",
    "myEstimator.fit(partitions_used,files=False,assoc_mode=assoc_mode, prot_mode=prot_mode, nprot=nprots,build_only=True)\n",
    "\n",
    "# final clustering with the true number of clusters\n",
    "true_nclusters = np.unique(gt).shape[0]\n",
    "\n",
    "# compute diassociation from co-assoc\n",
    "diassoc=myEstimator._coassoc.max()-myEstimator._coassoc\n",
    "\n",
    "#k-medoids\n",
    "labels,medoids=KMedoids.cluster(diassoc,k=true_nclusters)\n",
    "\n",
    "# Hungarian accuracy\n",
    "acc = determine_ci.HungarianIndex(nsamples=nsamples)\n",
    "acc.score(gt,labels,format='array')\n",
    "\n",
    "print 'K-Medoids Accuracy:\\t',acc.accuracy"
   ]
  },
  {
   "cell_type": "markdown",
   "metadata": {},
   "source": [
    "### Statistical analysis"
   ]
  },
  {
   "cell_type": "code",
   "execution_count": 28,
   "metadata": {
    "collapsed": false
   },
   "outputs": [
    {
     "name": "stdout",
     "output_type": "stream",
     "text": [
      "diassoc kmedoids\t(0.88564999999999983, 0.006913827499999998, 0.98999999999999999, 0.70999999999999996)\n",
      "diassoc kmeans  \t(0.94109999999999983, 0.007578790000000001, 1.0, 0.68500000000000005)\n",
      "assoc kmedoids  \t(0.80559999999999998, 0.0076446399999999994, 0.98999999999999999, 0.57999999999999996)\n",
      "assoc kmeans    \t(0.93274999999999997, 0.0096581875000000036, 1.0, 0.68500000000000005)\n"
     ]
    }
   ],
   "source": [
    "rounds=100\n",
    "diassoc=myEstimator._coassoc.max()-myEstimator._coassoc\n",
    "x=acc_medoids(diassoc,nclusters=true_nclusters,gt=gt)\n",
    "print 'diassoc kmedoids\\t',stat_analysis(x,rounds=rounds)\n",
    "\n",
    "x2=acc_skl_kmeans(diassoc,nclusters=true_nclusters,gt=gt)\n",
    "print 'diassoc kmeans  \\t',stat_analysis(x2,rounds=rounds)\n",
    "\n",
    "x3=acc_medoids(myEstimator._coassoc,nclusters=true_nclusters,gt=gt)\n",
    "print 'assoc kmedoids  \\t',stat_analysis(x3,rounds=rounds)\n",
    "\n",
    "x4=acc_skl_kmeans(myEstimator._coassoc,nclusters=true_nclusters,gt=gt)\n",
    "print 'assoc kmeans    \\t',stat_analysis(x4,rounds=rounds)"
   ]
  },
  {
   "cell_type": "markdown",
   "metadata": {},
   "source": [
    "## Random clusters per partition"
   ]
  },
  {
   "cell_type": "code",
   "execution_count": 29,
   "metadata": {
    "collapsed": false
   },
   "outputs": [
    {
     "name": "stdout",
     "output_type": "stream",
     "text": [
      "K-Medoids Accuracy:\t1.0\n"
     ]
    }
   ],
   "source": [
    "#%%debug\n",
    "npartitions=30\n",
    "nclusters=[4,25]\n",
    "iters=3\n",
    "partitions_used = partitions_my_rand\n",
    "\n",
    "# generate coassoc\n",
    "prot_mode=\"random\"\n",
    "assoc_mode='full' # prot or full\n",
    "nprots=50 # number of prototypes\n",
    "\n",
    "myEstimator=eac.EAC(nsamples)\n",
    "myEstimator.fit(partitions_used,files=False,assoc_mode=assoc_mode, prot_mode=prot_mode, nprot=nprots,build_only=True)\n",
    "\n",
    "# final clustering with the true number of clusters\n",
    "true_nclusters = np.unique(gt).shape[0]\n",
    "\n",
    "# compute diassociation from co-assoc\n",
    "diassoc=myEstimator._coassoc.max()-myEstimator._coassoc\n",
    "\n",
    "#k-medoids\n",
    "labels,medoids=KMedoids.cluster(diassoc,k=true_nclusters)\n",
    "\n",
    "# Hungarian accuracy\n",
    "acc = determine_ci.HungarianIndex(nsamples=nsamples)\n",
    "acc.score(gt,labels,format='array')\n",
    "\n",
    "print 'K-Medoids Accuracy:\\t',acc.accuracy"
   ]
  },
  {
   "cell_type": "markdown",
   "metadata": {},
   "source": [
    "### Statistical analysis"
   ]
  },
  {
   "cell_type": "code",
   "execution_count": 30,
   "metadata": {
    "collapsed": false
   },
   "outputs": [
    {
     "name": "stdout",
     "output_type": "stream",
     "text": [
      "diassoc kmedoids\t(1.0, 0.0, 1.0, 1.0)\n",
      "diassoc kmeans  \t(0.94669999999999999, 0.0095141100000000044, 1.0, 0.69499999999999995)\n",
      "assoc kmedoids  \t(0.86844999999999994, 0.019944347500000001, 0.98999999999999999, 0.59999999999999998)\n",
      "assoc kmeans    \t(0.93619999999999992, 0.011716560000000003, 1.0, 0.69499999999999995)\n"
     ]
    }
   ],
   "source": [
    "rounds=100\n",
    "diassoc=myEstimator._coassoc.max()-myEstimator._coassoc\n",
    "x=acc_medoids(diassoc,nclusters=true_nclusters,gt=gt)\n",
    "print 'diassoc kmedoids\\t',stat_analysis(x,rounds=rounds)\n",
    "\n",
    "x2=acc_skl_kmeans(diassoc,nclusters=true_nclusters,gt=gt)\n",
    "print 'diassoc kmeans  \\t',stat_analysis(x2,rounds=rounds)\n",
    "\n",
    "x3=acc_medoids(myEstimator._coassoc,nclusters=true_nclusters,gt=gt)\n",
    "print 'assoc kmedoids  \\t',stat_analysis(x3,rounds=rounds)\n",
    "\n",
    "x4=acc_skl_kmeans(myEstimator._coassoc,nclusters=true_nclusters,gt=gt)\n",
    "print 'assoc kmeans    \\t',stat_analysis(x4,rounds=rounds)"
   ]
  },
  {
   "cell_type": "code",
   "execution_count": 31,
   "metadata": {
    "collapsed": true
   },
   "outputs": [],
   "source": [
    "from sklearn.metrics.pairwise import pairwise_distances"
   ]
  },
  {
   "cell_type": "code",
   "execution_count": 32,
   "metadata": {
    "collapsed": false
   },
   "outputs": [
    {
     "data": {
      "text/plain": [
       "(1.0, 0.0, 1.0, 1.0)"
      ]
     },
     "execution_count": 32,
     "metadata": {},
     "output_type": "execute_result"
    }
   ],
   "source": [
    "pairwise=pairwise_distances(data)\n",
    "y=acc_medoids(pairwise,2,gt=gt)\n",
    "stat_analysis(y,rounds=20)"
   ]
  },
  {
   "cell_type": "markdown",
   "metadata": {},
   "source": [
    "# EAC Single link"
   ]
  },
  {
   "cell_type": "code",
   "execution_count": 1,
   "metadata": {
    "collapsed": false
   },
   "outputs": [
    {
     "ename": "NameError",
     "evalue": "name 'partitions_my_rand' is not defined",
     "output_type": "error",
     "traceback": [
      "\u001b[1;31m---------------------------------------------------------------------------\u001b[0m",
      "\u001b[1;31mNameError\u001b[0m                                 Traceback (most recent call last)",
      "\u001b[1;32m<ipython-input-1-ec74976ec8a2>\u001b[0m in \u001b[0;36m<module>\u001b[1;34m()\u001b[0m\n\u001b[0;32m      3\u001b[0m \u001b[0mnclusters\u001b[0m\u001b[1;33m=\u001b[0m\u001b[1;33m[\u001b[0m\u001b[1;36m4\u001b[0m\u001b[1;33m,\u001b[0m\u001b[1;36m25\u001b[0m\u001b[1;33m]\u001b[0m\u001b[1;33m\u001b[0m\u001b[0m\n\u001b[0;32m      4\u001b[0m \u001b[0miters\u001b[0m\u001b[1;33m=\u001b[0m\u001b[1;36m3\u001b[0m\u001b[1;33m\u001b[0m\u001b[0m\n\u001b[1;32m----> 5\u001b[1;33m \u001b[0mpartitions_used\u001b[0m \u001b[1;33m=\u001b[0m \u001b[0mpartitions_my_rand\u001b[0m\u001b[1;33m\u001b[0m\u001b[0m\n\u001b[0m\u001b[0;32m      6\u001b[0m \u001b[1;33m\u001b[0m\u001b[0m\n\u001b[0;32m      7\u001b[0m \u001b[1;31m# generate coassoc\u001b[0m\u001b[1;33m\u001b[0m\u001b[1;33m\u001b[0m\u001b[0m\n",
      "\u001b[1;31mNameError\u001b[0m: name 'partitions_my_rand' is not defined"
     ]
    }
   ],
   "source": [
    "#%%debug\n",
    "npartitions=30\n",
    "nclusters=[4,25]\n",
    "iters=3\n",
    "partitions_used = partitions_my_rand\n",
    "\n",
    "# generate coassoc\n",
    "prot_mode=\"random\"\n",
    "assoc_mode='full' # prot or full\n",
    "nprots=50 # number of prototypes\n",
    "\n",
    "myEstimator=eac.EAC(nsamples)\n",
    "myEstimator.fit(partitions_used,files=False,assoc_mode=assoc_mode, prot_mode=prot_mode, nprot=nprots,build_only=True)\n",
    "\n",
    "# final clustering with the true number of clusters\n",
    "true_nclusters = np.unique(gt).shape[0]\n",
    "\n",
    "#k-medoids\n",
    "myEstimator._apply_linkage()\n",
    "labels = myEstimator._clusterFromLinkage()\n",
    "\n",
    "# Hungarian accuracy\n",
    "acc = determine_ci.HungarianIndex(nsamples=nsamples)\n",
    "acc.score(gt,labels,format='array')\n",
    "\n",
    "print 'K-Medoids Accuracy:\\t',acc.accuracy"
   ]
  },
  {
   "cell_type": "code",
   "execution_count": 34,
   "metadata": {
    "collapsed": false
   },
   "outputs": [
    {
     "data": {
      "image/png": "[encoded data removed]",
      "text/plain": [
       "<matplotlib.figure.Figure at 0x7f5686f43d90>"
      ]
     },
     "metadata": {},
     "output_type": "display_data"
    }
   ],
   "source": [
    "#generated from: http://tools.medialab.sciences-po.fr/iwanthue/\n",
    "my_colors=[\"#D37E30\",\n",
    "\"#6F6FD8\",\n",
    "\"#3AA579\",\n",
    "\"#D5337B\",\n",
    "\"#4595B8\",\n",
    "\"#3EA729\",\n",
    "\"#D150D7\",\n",
    "\"#4E6E23\",\n",
    "\"#8F4D79\",\n",
    "\"#D64430\",\n",
    "\"#A1952B\",\n",
    "\"#C15257\",\n",
    "\"#AA5BB3\",\n",
    "\"#6A76B0\",\n",
    "\"#8E5723\",\n",
    "\"#2A7464\",\n",
    "\"#D66C9F\",\n",
    "\"#60994E\",\n",
    "\"#73A32D\",\n",
    "\"#33A74F\"]\n",
    "my_pallete=sns.color_palette(my_colors)\n",
    "sns.palplot(my_pallete)\n",
    "sns.set_palette(my_pallete)"
   ]
  },
  {
   "cell_type": "code",
   "execution_count": 35,
   "metadata": {
    "collapsed": false
   },
   "outputs": [
    {
     "ename": "NameError",
     "evalue": "name 'partitions_skl' is not defined",
     "output_type": "error",
     "traceback": [
      "\u001b[1;31m---------------------------------------------------------------------------\u001b[0m",
      "\u001b[1;31mNameError\u001b[0m                                 Traceback (most recent call last)",
      "\u001b[1;32m<ipython-input-35-f5557a10f407>\u001b[0m in \u001b[0;36m<module>\u001b[1;34m()\u001b[0m\n\u001b[0;32m      1\u001b[0m \u001b[0mfigX\u001b[0m\u001b[1;33m=\u001b[0m\u001b[0msns\u001b[0m\u001b[1;33m.\u001b[0m\u001b[0mplt\u001b[0m\u001b[1;33m.\u001b[0m\u001b[0mfigure\u001b[0m\u001b[1;33m(\u001b[0m\u001b[0mfigsize\u001b[0m\u001b[1;33m=\u001b[0m\u001b[1;33m(\u001b[0m\u001b[1;36m12\u001b[0m\u001b[1;33m,\u001b[0m\u001b[1;36m90\u001b[0m\u001b[1;33m)\u001b[0m\u001b[1;33m)\u001b[0m\u001b[1;33m\u001b[0m\u001b[0m\n\u001b[1;32m----> 2\u001b[1;33m \u001b[1;32mfor\u001b[0m \u001b[0mi\u001b[0m\u001b[1;33m,\u001b[0m\u001b[0mp\u001b[0m \u001b[1;32min\u001b[0m \u001b[0menumerate\u001b[0m\u001b[1;33m(\u001b[0m\u001b[0mpartitions_skl\u001b[0m\u001b[1;33m)\u001b[0m\u001b[1;33m:\u001b[0m\u001b[1;33m\u001b[0m\u001b[0m\n\u001b[0m\u001b[0;32m      3\u001b[0m     \u001b[0max\u001b[0m\u001b[1;33m=\u001b[0m\u001b[0mfigX\u001b[0m\u001b[1;33m.\u001b[0m\u001b[0madd_subplot\u001b[0m\u001b[1;33m(\u001b[0m\u001b[1;36m15\u001b[0m\u001b[1;33m,\u001b[0m\u001b[1;36m2\u001b[0m\u001b[1;33m,\u001b[0m\u001b[0mi\u001b[0m\u001b[1;33m+\u001b[0m\u001b[1;36m1\u001b[0m\u001b[1;33m)\u001b[0m\u001b[1;33m\u001b[0m\u001b[0m\n\u001b[0;32m      4\u001b[0m     \u001b[1;32mfor\u001b[0m \u001b[0mc\u001b[0m \u001b[1;32min\u001b[0m \u001b[0mp\u001b[0m\u001b[1;33m:\u001b[0m\u001b[1;33m\u001b[0m\u001b[0m\n\u001b[0;32m      5\u001b[0m         \u001b[0max\u001b[0m\u001b[1;33m.\u001b[0m\u001b[0mplot\u001b[0m\u001b[1;33m(\u001b[0m\u001b[0mdata\u001b[0m\u001b[1;33m[\u001b[0m\u001b[0mc\u001b[0m\u001b[1;33m,\u001b[0m\u001b[1;36m0\u001b[0m\u001b[1;33m]\u001b[0m\u001b[1;33m,\u001b[0m\u001b[0mdata\u001b[0m\u001b[1;33m[\u001b[0m\u001b[0mc\u001b[0m\u001b[1;33m,\u001b[0m\u001b[1;36m1\u001b[0m\u001b[1;33m]\u001b[0m\u001b[1;33m,\u001b[0m\u001b[1;34m'.'\u001b[0m\u001b[1;33m,\u001b[0m\u001b[0mmarkersize\u001b[0m\u001b[1;33m=\u001b[0m\u001b[1;36m12\u001b[0m\u001b[1;33m)\u001b[0m\u001b[1;33m\u001b[0m\u001b[0m\n",
      "\u001b[1;31mNameError\u001b[0m: name 'partitions_skl' is not defined"
     ]
    },
    {
     "data": {
      "text/plain": [
       "<matplotlib.figure.Figure at 0x7f5686ec5b10>"
      ]
     },
     "metadata": {},
     "output_type": "display_data"
    }
   ],
   "source": [
    "figX=sns.plt.figure(figsize=(12,90))\n",
    "for i,p in enumerate(partitions_skl):\n",
    "    ax=figX.add_subplot(15,2,i+1)\n",
    "    for c in p:\n",
    "        ax.plot(data[c,0],data[c,1],'.',markersize=12)\n",
    "        ax.set_title(\"partition {}\".format(i+1))"
   ]
  }
 ],
 "metadata": {
  "kernelspec": {
   "display_name": "Python 2",
   "language": "python",
   "name": "python2"
  },
  "language_info": {
   "codemirror_mode": {
    "name": "ipython",
    "version": 2
   },
   "file_extension": ".py",
   "mimetype": "text/x-python",
   "name": "python",
   "nbconvert_exporter": "python",
   "pygments_lexer": "ipython2",
   "version": "2.7.9"
  }
 },
 "nbformat": 4,
 "nbformat_minor": 0
}
