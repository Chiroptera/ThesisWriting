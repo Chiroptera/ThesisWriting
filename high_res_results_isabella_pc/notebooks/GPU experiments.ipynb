{
 "metadata": {
  "name": "",
  "signature": "sha256:3e32e7c93ecb55c1a447c003fdd4ec4498369b7d702c0694585e4cb4300845cb"
 },
 "nbformat": 3,
 "nbformat_minor": 0,
 "worksheets": [
  {
   "cells": [
    {
     "cell_type": "code",
     "collapsed": false,
     "input": [
      "%pylab inline\n",
      "%qtconsole"
     ],
     "language": "python",
     "metadata": {},
     "outputs": [
      {
       "output_type": "stream",
       "stream": "stdout",
       "text": [
        "Populating the interactive namespace from numpy and matplotlib\n"
       ]
      }
     ],
     "prompt_number": 2
    },
    {
     "cell_type": "code",
     "collapsed": false,
     "input": [
      "import sklearn\n",
      "from sklearn import cluster,datasets"
     ],
     "language": "python",
     "metadata": {},
     "outputs": [],
     "prompt_number": 3
    },
    {
     "cell_type": "markdown",
     "metadata": {},
     "source": [
      "# Dataset\n",
      "\n",
      "Let's generate a simple gaussian mixture to benchmark K-Means."
     ]
    },
    {
     "cell_type": "code",
     "collapsed": false,
     "input": [
      "N=10**4\n",
      "D_gen=2\n",
      "K_gen=10"
     ],
     "language": "python",
     "metadata": {},
     "outputs": [],
     "prompt_number": 7
    },
    {
     "cell_type": "code",
     "collapsed": false,
     "input": [
      "X,A_true=sklearn.datasets.make_blobs(n_samples=N, n_features=D_gen, centers=K_gen, cluster_std=1.0, center_box=(-100.0, 100.0))"
     ],
     "language": "python",
     "metadata": {},
     "outputs": [],
     "prompt_number": 27
    },
    {
     "cell_type": "markdown",
     "metadata": {},
     "source": [
      "# K-Means"
     ]
    },
    {
     "cell_type": "code",
     "collapsed": false,
     "input": [
      "K=10\n",
      "N_inits=500\n",
      "max_iter=20"
     ],
     "language": "python",
     "metadata": {},
     "outputs": [],
     "prompt_number": 12
    },
    {
     "cell_type": "code",
     "collapsed": false,
     "input": [
      "%%timeit\n",
      "centroids,A_clust,c,=sklearn.cluster.k_means(X, K, init='random',\n",
      "                                             precompute_distances=True, n_init=N_inits,\n",
      "                                             max_iter=max_iter, random_state=None, copy_x=True,\n",
      "                                             n_jobs=1)"
     ],
     "language": "python",
     "metadata": {},
     "outputs": [
      {
       "output_type": "stream",
       "stream": "stdout",
       "text": [
        "1 loops, best of 3: 5.07 s per loop\n"
       ]
      }
     ],
     "prompt_number": 17
    },
    {
     "cell_type": "markdown",
     "metadata": {},
     "source": [
      "The documentation claims that the precompute_distances (True by default) will consume more memory but make the algorithm faster. For the our goal (run K-Means many times with a small number of iterations) this is not the case, as shown by the result below. The documentation does not offer insight on the influence that this parameter is having under the hood."
     ]
    },
    {
     "cell_type": "code",
     "collapsed": false,
     "input": [
      "%%timeit\n",
      "centroids,A_clust,c,=sklearn.cluster.k_means(X, K, init='random', \n",
      "                                            precompute_distances=False, n_init=N_inits, \n",
      "                                            max_iter=max_iter, random_state=None, copy_x=True, \n",
      "                                            n_jobs=1)"
     ],
     "language": "python",
     "metadata": {},
     "outputs": [
      {
       "output_type": "stream",
       "stream": "stdout",
       "text": [
        "1 loops, best of 3: 3.66 s per loop\n"
       ]
      }
     ],
     "prompt_number": 18
    },
    {
     "cell_type": "markdown",
     "metadata": {},
     "source": [
      "The K-Means function from the [scikit-learn](http://scikit-learn.org) already supports CPU parallelization by changing a simple parameter in the function. As expected, using multiple cores resulted in a speedup, albeit small. The parallelization is being done on the pairwise distances computation. It breaks down the pairwise matrix by the number of jobs selected."
     ]
    },
    {
     "cell_type": "code",
     "collapsed": false,
     "input": [
      "%%timeit\n",
      "centroids,A_clust,c,=sklearn.cluster.k_means(X, K, init='random',\n",
      "                                             precompute_distances=True, n_init=N_inits,\n",
      "                                             max_iter=max_iter, random_state=None, copy_x=True,\n",
      "                                             n_jobs=-1)"
     ],
     "language": "python",
     "metadata": {},
     "outputs": [
      {
       "output_type": "stream",
       "stream": "stdout",
       "text": [
        "1 loops, best of 3: 6.63 s per loop\n"
       ]
      }
     ],
     "prompt_number": 21
    },
    {
     "cell_type": "code",
     "collapsed": false,
     "input": [
      "%%timeit\n",
      "centroids,A_clust,c,=sklearn.cluster.k_means(X, K, init='random',\n",
      "                                             precompute_distances=False, n_init=N_inits,\n",
      "                                             max_iter=max_iter, random_state=None, copy_x=True,\n",
      "                                             n_jobs=-1)"
     ],
     "language": "python",
     "metadata": {},
     "outputs": [
      {
       "output_type": "stream",
       "stream": "stdout",
       "text": [
        "1 loops, best of 3: 2.29 s per loop\n"
       ]
      }
     ],
     "prompt_number": 24
    },
    {
     "cell_type": "markdown",
     "metadata": {},
     "source": [
      "It should be noted that it seems that this implementation is being accelerated by compiled C code.n"
     ]
    },
    {
     "cell_type": "markdown",
     "metadata": {},
     "source": [
      "This are the times from the code above before the installation of optimized MKL sklearn (from the Anaconda Accelerate addon).\n",
      "```\n",
      "1 loops, best of 3: 5.67 s per loop\n",
      "1 loops, best of 3: 4.05 s per loop\n",
      "1 loops, best of 3: 3.29 s per loop\n",
      "1 loops, best of 3: 2.57 s per loop\n",
      "```"
     ]
    },
    {
     "cell_type": "markdown",
     "metadata": {},
     "source": [
      "# CUDA"
     ]
    },
    {
     "cell_type": "markdown",
     "metadata": {},
     "source": [
      "Following video tutorial on [Youtube](https://www.youtube.com/watch?v=NSutAuBtg1o). Notebook available [here](http://nbviewer.ipython.org/github/ContinuumIO/numbapro-examples/blob/master/webinars/2014_06_17/intro_to_gpu_python.ipynb)."
     ]
    },
    {
     "cell_type": "code",
     "collapsed": false,
     "input": [
      "import numbapro\n",
      "from numbapro import jit, cuda, int32, float32, float64\n",
      "\n",
      "#@jit(complex64(int32, float32, complex64), target=\"cpu\")"
     ],
     "language": "python",
     "metadata": {},
     "outputs": [],
     "prompt_number": 2
    },
    {
     "cell_type": "code",
     "collapsed": false,
     "input": [
      "numbapro.check_cuda()"
     ],
     "language": "python",
     "metadata": {},
     "outputs": [
      {
       "output_type": "stream",
       "stream": "stdout",
       "text": [
        "------------------------------libraries detection-------------------------------\n",
        "Finding cublas\n",
        "\tlocated at /home/chiroptera/anaconda/lib/libcublas.so.6.0.37\n",
        "\ttrying to open library...\tok"
       ]
      },
      {
       "output_type": "stream",
       "stream": "stdout",
       "text": [
        "\n",
        "Finding cusparse\n",
        "\tlocated at /home/chiroptera/anaconda/lib/libcusparse.so.6.0.37\n",
        "\ttrying to open library...\tok"
       ]
      },
      {
       "output_type": "stream",
       "stream": "stdout",
       "text": [
        "\n",
        "Finding cufft\n",
        "\tlocated at /home/chiroptera/anaconda/lib/libcufft.so.6.0.37\n",
        "\ttrying to open library...\tok"
       ]
      },
      {
       "output_type": "stream",
       "stream": "stdout",
       "text": [
        "\n",
        "Finding curand\n",
        "\tlocated at /home/chiroptera/anaconda/lib/libcurand.so.6.0.37\n",
        "\ttrying to open library...\tok"
       ]
      },
      {
       "output_type": "stream",
       "stream": "stdout",
       "text": [
        "\n",
        "Finding nvvm\n",
        "\tlocated at /home/chiroptera/anaconda/lib/libnvvm.so.2.0.0\n",
        "\ttrying to open library...\tok"
       ]
      },
      {
       "output_type": "stream",
       "stream": "stdout",
       "text": [
        "\n",
        "\tfinding libdevice for compute_20...\tok\n",
        "\tfinding libdevice for compute_30...\tok\n",
        "\tfinding libdevice for compute_35...\tok\n",
        "-------------------------------hardware detection-------------------------------\n",
        "Found 1 CUDA devices\n",
        "id 0         GeForce GT 520M                              [SUPPORTED]\n",
        "                      compute capability: 2.1\n",
        "                           pci device id: 0\n",
        "                              pci bus id: 1\n",
        "Summary:\n",
        "\t1/1 devices are supported\n",
        "PASSED\n"
       ]
      },
      {
       "metadata": {},
       "output_type": "pyout",
       "prompt_number": 3,
       "text": [
        "True"
       ]
      }
     ],
     "prompt_number": 3
    },
    {
     "cell_type": "code",
     "collapsed": false,
     "input": [
      "#CPU version\n",
      "@numbapro.vectorize(['float32(float32,float32)',\n",
      "                     'float64(float64,float64)'],target='cpu')\n",
      "def cpu_sincos(x,y):\n",
      "    return math.sin(x) * math.cos(y)\n",
      "\n",
      "#GPU version\n",
      "@numbapro.vectorize(['float32(float32,float32)',\n",
      "                     'float64(float64,float64)'],target='gpu')\n",
      "def gpu_sincos(x,y):\n",
      "    return math.sin(x) * math.cos(y)"
     ],
     "language": "python",
     "metadata": {},
     "outputs": [],
     "prompt_number": 5
    },
    {
     "cell_type": "code",
     "collapsed": false,
     "input": [
      "n=10**6\n",
      "x = np.linspace(0,np.pi,n)\n",
      "y = np.linspace(0,np.pi,n)\n",
      "\n",
      "print 'Data of type ',x.dtype\n",
      "\n",
      "print 'Unoptimized\\t',\n",
      "%timeit np.sin(x) * np.cos(y)\n",
      "print 'CPU vectorize\\t',\n",
      "%timeit cpu_sincos(x,y)\n",
      "print 'GPU vectorize\\t',\n",
      "%timeit gpu_sincos(x,y)\n",
      "\n",
      "del x,y"
     ],
     "language": "python",
     "metadata": {},
     "outputs": [
      {
       "output_type": "stream",
       "stream": "stdout",
       "text": [
        "Data of type  float64\n",
        "Unoptimized\t10 loops, best of 3: 77.5 ms per loop"
       ]
      },
      {
       "output_type": "stream",
       "stream": "stdout",
       "text": [
        "\n",
        "CPU vectorize\t10 loops, best of 3: 73.2 ms per loop"
       ]
      },
      {
       "output_type": "stream",
       "stream": "stdout",
       "text": [
        "\n",
        "GPU vectorize\t100 loops, best of 3: 17.8 ms per loop"
       ]
      },
      {
       "output_type": "stream",
       "stream": "stdout",
       "text": [
        "\n"
       ]
      }
     ],
     "prompt_number": 6
    },
    {
     "cell_type": "markdown",
     "metadata": {},
     "source": [
      "Unoptimized and CPU vectorize times are similar because sin() and cos() calls dominate time. GPU is quite faster already and would get even faster in a better GPU (current GPU has 48 CUDA cores).\n",
      "\n",
      "All the data has to go from the RAM to the GPU memory, band back again. The work is distributed across all threads on the GPU and scheduling and memory management are taken cared of."
     ]
    },
    {
     "cell_type": "markdown",
     "metadata": {},
     "source": [
      "## Another example"
     ]
    },
    {
     "cell_type": "code",
     "collapsed": false,
     "input": [
      "@numbapro.vectorize(['float32(float32,float32,float32,float32)'])\n",
      "def cpu_powers(p,q,r,s):\n",
      "    return math.sqrt(p**2 + q**3 + r**4 + s**5)\n",
      "\n",
      "@numbapro.vectorize(['float32(float32,float32,float32,float32)'],target='gpu')\n",
      "def gpu_powers(p,q,r,s):\n",
      "    return math.sqrt(p**2 + q**3 + r**4 + s**5)"
     ],
     "language": "python",
     "metadata": {},
     "outputs": [],
     "prompt_number": 39
    },
    {
     "cell_type": "markdown",
     "metadata": {},
     "source": [
      "When target is not specified, it defaults to 'cpu'."
     ]
    },
    {
     "cell_type": "code",
     "collapsed": false,
     "input": [
      "## Benchmarking\n",
      "#Generate data\n",
      "n=5e6\n",
      "p = np.random.random(n).astype(np.float32)\n",
      "q = np.random.random(n).astype(np.float32)\n",
      "r = np.random.random(n).astype(np.float32)\n",
      "s = np.random.random(n).astype(np.float32)\n",
      "\n",
      "print 'Unoptimized\\t',\n",
      "%timeit np.sqrt(p**2 + q**3 + r**4 + s**5)\n",
      "print 'CPU vectorize\\t',\n",
      "%timeit cpu_powers(p,q,r,s)\n",
      "print 'GPU vectorize\\t',\n",
      "%timeit gpu_powers(p,q,r,s)\n",
      "\n",
      "del p,q,r,s"
     ],
     "language": "python",
     "metadata": {},
     "outputs": [
      {
       "output_type": "stream",
       "stream": "stdout",
       "text": [
        "Unoptimized\t1 loops, best of 3: 2.99 s per loop"
       ]
      },
      {
       "output_type": "stream",
       "stream": "stdout",
       "text": [
        "\n",
        "CPU vectorize\t1 loops, best of 3: 2.25 s per loop"
       ]
      },
      {
       "output_type": "stream",
       "stream": "stdout",
       "text": [
        "\n",
        "GPU vectorize\t10 loops, best of 3: 80 ms per loop"
       ]
      },
      {
       "output_type": "stream",
       "stream": "stdout",
       "text": [
        "\n"
       ]
      }
     ],
     "prompt_number": 40
    },
    {
     "cell_type": "markdown",
     "metadata": {},
     "source": [
      "Anaconda Accelerate includes the MKL optimization to several libraries. I still have to check if the numpy routines are not faster than the normal ones.\n",
      "\n",
      "The speedup of GPU over CPU is of $$2.1 s / 69.4 ms = 30.26$$ \n",
      "\n",
      "We've now seen that @vectorize accelerates functions, specially on GPU, but it only works on scalar functions. Even though more complex operations like matrix multiplication can be decomposed in several scalar operations over its elements, it would be more convenient to operate on arrays directly."
     ]
    },
    {
     "cell_type": "markdown",
     "metadata": {},
     "source": [
      "## GUVectorize and  General Universal Functions (ufunc)\n",
      "\n",
      "Now the function can't return anything and we should pass as a parameter where we want our result to be stored. Furthermore, it's now clear that the types are arrays and we have an extra descriptive string for the shape signature."
     ]
    },
    {
     "cell_type": "code",
     "collapsed": false,
     "input": [
      "@numbapro.guvectorize(['void(float32[:,:], float32[:,:], float32[:,:])'],'(m,n),(n,p)->(m,p)',target='gpu')\n",
      "def batch_matrix_mult(a,b,c):\n",
      "    for i in range(c.shape[0]):\n",
      "        for j in range(c.shape[1]):\n",
      "            tmp=0\n",
      "            for n in range(a.shape[1]):\n",
      "                tmp += a[i,n] * b[n,j]\n",
      "            c[i,j]=tmp\n",
      "#batch_matrix_mult.max_blocksize = 32  # limits to 32 threads per block"
     ],
     "language": "python",
     "metadata": {},
     "outputs": [],
     "prompt_number": 7
    },
    {
     "cell_type": "markdown",
     "metadata": {},
     "source": [
      "This is the code from the video. It seems to be a simple matrix multiplication though. In the video they say that it's a batch multuplication..."
     ]
    },
    {
     "cell_type": "code",
     "collapsed": false,
     "input": [
      "n=4e6\n",
      "dim=2\n",
      "\n",
      "print 'Memory for both matrices:\\t',((2*n*dim*dim*4)/1024),' KBytes'\n",
      "\n",
      "a=np.random.random(n*dim*dim).astype(np.float32).reshape(n,dim,dim)\n",
      "b=np.random.random(n*dim*dim).astype(np.float32).reshape(n,dim,dim)\n",
      "\n",
      "\n",
      "print 'Exception when too much resources of GPU are used:'\n",
      "try:\n",
      "    batch_matrix_mult(a,b)\n",
      "except Exception as exception:\n",
      "    print exception\n",
      "\n",
      "batch_matrix_mult.max_blocksize = 64  # limits to 32 threads per block    \n",
      "\n",
      "import numpy.core.umath_tests as ut\n",
      "\n",
      "print 'Unoptimized\\t',\n",
      "#c = np.dot(a,b)\n",
      "%timeit c = ut.matrix_multiply(a,b)\n",
      "\n",
      "print 'GUVectorize GPU\\t',\n",
      "%timeit c2 = batch_matrix_mult(a,b)\n",
      "\n",
      "del n,dim,a,b"
     ],
     "language": "python",
     "metadata": {},
     "outputs": [
      {
       "output_type": "stream",
       "stream": "stdout",
       "text": [
        "Memory for both matrices:\t125000.0  KBytes\n",
        "Exception when too much resources of GPU are used:"
       ]
      },
      {
       "output_type": "stream",
       "stream": "stdout",
       "text": [
        "\n",
        "Unoptimized\t"
       ]
      },
      {
       "output_type": "stream",
       "stream": "stdout",
       "text": [
        "1 loops, best of 3: 169 ms per loop\n",
        "GUVectorize GPU\t1 loops, best of 3: 255 ms per loop"
       ]
      },
      {
       "output_type": "stream",
       "stream": "stdout",
       "text": [
        "\n"
       ]
      }
     ],
     "prompt_number": 9
    },
    {
     "cell_type": "code",
     "collapsed": false,
     "input": [
      "del n,dim,a,b"
     ],
     "language": "python",
     "metadata": {},
     "outputs": [],
     "prompt_number": 23
    },
    {
     "cell_type": "markdown",
     "metadata": {},
     "source": [
      "From the [documentation](http://docs.continuum.io/numbapro/CUDAufunc.html):\n",
      "> There are times when the gufunc kernel uses too many of a GPU\u2019s resources, which can cause the kernel launch to fail. The user can explicitly control the maximum size of the thread block by setting the max_blocksize attribute on the compiled gufunc object.\n",
      "\n",
      "To control the size of the thread block we use (e.g. for 32 threds per block):\n",
      "```python\n",
      "very_complex_kernel.max_blocksize = 32\n",
      "```\n",
      "\n",
      "The speedup was of \n",
      "\n"
     ]
    },
    {
     "cell_type": "markdown",
     "metadata": {},
     "source": [
      "## Manual memory management\n",
      "\n",
      "The performance increases when the memory is manually managed. We'll run the same test as before, but now we'll copy the arrays to the GPU's memory and also allocate memory for the result. "
     ]
    },
    {
     "cell_type": "code",
     "collapsed": false,
     "input": [
      "n=4e6\n",
      "dim=2\n",
      "\n",
      "print 'Memory for both matrices:\\t',((2*n*dim*dim*4)/1024),' KBytes'\n",
      "\n",
      "a=np.random.random(n*dim*dim).astype(np.float32).reshape(n,dim,dim)\n",
      "b=np.random.random(n*dim*dim).astype(np.float32).reshape(n,dim,dim)\n",
      "\n",
      "dc = numbapro.cuda.device_array_like(a)\n",
      "da = numbapro.cuda.to_device(a)\n",
      "db = numbapro.cuda.to_device(b)\n",
      "\n",
      "def check_pure_compute_time(da,db,dc):\n",
      "    batch_matrix_mult(da,db,out=dc)\n",
      "    numbapro.cuda.synchronize()\n",
      "    \n",
      "import numpy.core.umath_tests as ut\n",
      "\n",
      "print 'Unoptimized\\t',\n",
      "#c = np.dot(a,b)\n",
      "%timeit c = ut.matrix_multiply(a,b)\n",
      "\n",
      "print 'Memory management'\n",
      "batch_matrix_mult.max_blocksize = 64  # limits to 32 threads per block    \n",
      "\n",
      "print 'Automatic:\\t\\t',\n",
      "%timeit c=batch_matrix_mult(a,b)\n",
      "print 'Manual:\\t\\t\\t',\n",
      "%timeit check_pure_compute_time(da,db,dc)\n",
      "\n",
      "del n,dim,a,b,da,db,dc"
     ],
     "language": "python",
     "metadata": {},
     "outputs": [
      {
       "output_type": "stream",
       "stream": "stdout",
       "text": [
        "Memory for both matrices:\t125000.0  KBytes\n",
        "Unoptimized\t"
       ]
      },
      {
       "output_type": "stream",
       "stream": "stdout",
       "text": [
        "1 loops, best of 3: 161 ms per loop\n",
        "Memory management\n",
        "Automatic:\t\t1 loops, best of 3: 239 ms per loop"
       ]
      },
      {
       "output_type": "stream",
       "stream": "stdout",
       "text": [
        "\n",
        "Manual:\t\t\t10 loops, best of 3: 115 ms per loop"
       ]
      },
      {
       "output_type": "stream",
       "stream": "stdout",
       "text": [
        "\n"
       ]
      }
     ],
     "prompt_number": 11
    },
    {
     "cell_type": "markdown",
     "metadata": {},
     "source": [
      "## CUDA Execution Model\n",
      "\n",
      "Kernel function\n",
      "- are only visible o the host CPU\n",
      "- cannot return any value (use output argument)\n",
      "- associates to a grid\n",
      "\n",
      "A **grid** is a group of blocks (that can be 1D,2D or 3D) and each **block** is a group of threads (which can also be 1D, 2D or 3D). Every thread will execute the same kernel function.\n",
      "\n",
      "When we're using @jit, we're writing functions on the CUDA execution model. However, we wrote functions that executed on GPU before with a return type (which can't happen here). That is because before we were using the @vectorize and not working under the CUDA execution model."
     ]
    },
    {
     "cell_type": "code",
     "collapsed": false,
     "input": [
      "%qtconsole"
     ],
     "language": "python",
     "metadata": {},
     "outputs": [],
     "prompt_number": 19
    },
    {
     "cell_type": "markdown",
     "metadata": {},
     "source": [
      "# Distance calculation"
     ]
    },
    {
     "cell_type": "code",
     "collapsed": false,
     "input": [
      "import numbapro\n",
      "from numbapro import *"
     ],
     "language": "python",
     "metadata": {},
     "outputs": [],
     "prompt_number": 4
    },
    {
     "cell_type": "markdown",
     "metadata": {},
     "source": [
      "Let's define a pure Python implementation of the square of the Euclidean distance between matrices **a** and **b**. This is very inefficient."
     ]
    },
    {
     "cell_type": "code",
     "collapsed": false,
     "input": [
      "def dist(a,b,c):\n",
      "    N,K = c.shape\n",
      "    dim = a.shape[1]\n",
      "   \n",
      "    for n in xrange(N):\n",
      "        for k in xrange(K):\n",
      "            dist=0\n",
      "            for d in xrange(dim):\n",
      "                diff = a[n,d]-b[k,d]\n",
      "                dist += diff ** 2\n",
      "            c[n,k]=dist"
     ],
     "language": "python",
     "metadata": {},
     "outputs": [],
     "prompt_number": 5
    },
    {
     "cell_type": "markdown",
     "metadata": {},
     "source": [
      "This version makes more use of the NumPy module, which has compiled code."
     ]
    },
    {
     "cell_type": "code",
     "collapsed": false,
     "input": [
      "def np_dist(a,b,c):\n",
      "    N,K = c.shape\n",
      "    dim = a.shape[1]\n",
      "   \n",
      "    for k in range(K):\n",
      "        dist = a - b[k]\n",
      "        dist = dist ** 2\n",
      "        c[:,k] = dist.sum(axis=1)"
     ],
     "language": "python",
     "metadata": {},
     "outputs": [],
     "prompt_number": 6
    },
    {
     "cell_type": "code",
     "collapsed": false,
     "input": [
      "@numbapro.guvectorize(['void(float32[:,:], float32[:,:], float32[:,:])'],\n",
      "                      '(m,n),(p,n)->(m,p)',target='gpu')\n",
      "def guvect_dist(a,b,c):\n",
      "    N,K = c.shape\n",
      "    dim = a.shape[1]\n",
      "   \n",
      "    for n in range(N):\n",
      "        for k in range(K):\n",
      "            dist=0\n",
      "            for d in range(dim):\n",
      "                diff = a[n,d]-b[k,d]\n",
      "                #dist += np.power(diff,2)\n",
      "                dist += diff ** 2\n",
      "            c[n,k]=dist"
     ],
     "language": "python",
     "metadata": {},
     "outputs": [],
     "prompt_number": 7
    },
    {
     "cell_type": "markdown",
     "metadata": {},
     "source": [
      "This function defines a lower level implementation of the distance computation. The code of the kernel will be executed by a thread. We want a thread to compute the value of a distance from one point to one cluster so we'll need $n \\times k$ threads to compute the entire distance matrix.\n",
      "\n",
      "Because each thread corresponds to a point in a matrix we have to know which point that is. Each thread as an index inside the block it belongs too (which can be multidimensional). Each block has an index inside the grid (which can also be multidimensional). The dimension of the grid and the blocks doesn't have to match, which means we can have multidimensional blocks inside a unidimensional grid. These hierarchy is logical.\n",
      "\n",
      "We use the `cuda.grid(2)` function to retrieve the bidimensional global index. That index will be the one used to index the distance matrix."
     ]
    },
    {
     "cell_type": "code",
     "collapsed": false,
     "input": [
      "@numbapro.cuda.jit(\"void(float32[:,:], float32[:,:], float32[:,:])\")\n",
      "def cu_dist(a,b,c):\n",
      "\n",
      "    \"\"\"\n",
      "    ## vanilla thread index\n",
      "    # thread ID inside block\n",
      "    tx = cuda.threadIdx.x\n",
      "    ty = cuda.threadIdx.y\n",
      "    \n",
      "    # block ID\n",
      "    bx = cuda.blockIdx.x\n",
      "    by = cuda.blockIdx.y\n",
      "    \n",
      "    # block dimensions\n",
      "    bw = cuda.blockDim.x\n",
      "    bh = cuda.blockDim.y\n",
      "    \n",
      "    # compute thread's x and y index (i.e. datapoint and cluster)\n",
      "    k = tx + bx * bw # column for each cluster\n",
      "    n = ty + by * bh # row for each datapoint\n",
      "    \"\"\"\n",
      "    \n",
      "    \"\"\"\n",
      "    ## long vertical matrix thread index\n",
      "    # thread ID inside block\n",
      "    tx = cuda.threadIdx.x\n",
      "    ty = cuda.threadIdx.y\n",
      "    \n",
      "    # block ID\n",
      "    bx = cuda.blockIdx.x\n",
      "    by = cuda.blockIdx.y\n",
      "    \n",
      "    # block dimensions\n",
      "    bw = cuda.blockDim.x\n",
      "    bh = cuda.blockDim.y\n",
      "    \n",
      "    # grid dimensions\n",
      "    gw = cuda.gridDim.x\n",
      "    gh = cuda.gridDim.y\n",
      "    \n",
      "    # compute thread's x and y index (i.e. datapoint and cluster)\n",
      "    k = tx # block width is the same as matrix width\n",
      "    # the second column of blocks means we want to add\n",
      "    # 2**16 to the index\n",
      "    n = ty + by * bh + bx*gh*bh\n",
      "    \"\"\"\n",
      "    \n",
      "    \n",
      "    \n",
      "    k,n = numbapro.cuda.grid(2)\n",
      "    \n",
      "    ch, cw = c.shape # c width and height\n",
      "\n",
      "    if n >= ch or k >= cw:\n",
      "        return\n",
      "\n",
      "    dist = 0.0\n",
      "    for d in range(a.shape[1]):\n",
      "        diff = a[n,d]-b[k,d]\n",
      "        dist += diff ** 2\n",
      "    c[n,k]= dist\n",
      "\n",
      "    #cuda.syncthreads()\n",
      "    \n",
      "def cu_dist_wrap(a,b,c,blockDim,gridDim):\n",
      "    #stream = cuda.stream()\n",
      "    dA = cuda.to_device(a)\n",
      "    dB = cuda.to_device(b)\n",
      "    #dC = cuda.to_device(c)\n",
      "    #dC = numbapro.cuda.device_array(c.shape)\n",
      "    dC = numbapro.cuda.device_array_like(c)\n",
      "    \n",
      "    cu_dist[gridDim,blockDim](dA,dB,dC)\n",
      "    numbapro.cuda.synchronize()\n",
      "    \n",
      "    \n",
      "    #cu_dist[gridDim,blockDim,stream](dA,dB,dC)\n",
      "    #dC.to_host()\n",
      "    #stream.synchronize() #block untill stream is done\n",
      "    #result=dC.copy_to_host()\n",
      "    dC.copy_to_host(ary=c)\n",
      "   # print 'type of result=',type(result)\n",
      "    #c=result\n",
      "    #return result"
     ],
     "language": "python",
     "metadata": {},
     "outputs": [],
     "prompt_number": 8
    },
    {
     "cell_type": "markdown",
     "metadata": {},
     "source": [
      "The maximum number of blocks in each grid dimension is $2^{16}$. For a big matrix (one of the dimensions bigger than $2^{16}$)"
     ]
    },
    {
     "cell_type": "code",
     "collapsed": false,
     "input": [
      "MAX_GRID_XYZ_DIM = 65535\n",
      "MAX_BLOCK_XY_DIM = 1024\n",
      "MAX_BLOCK_Z_DIM = 64\n",
      "\n",
      "#%debug\n",
      "##generate data\n",
      "n = 1e4\n",
      "d = 2\n",
      "k = 20\n",
      "\n",
      "total_bytes = (n * d + k * d + n * k) * 4\n",
      "print 'Memory used by arrays:\\t',total_bytes/1024,'\\tKBytes'\n",
      "print '\\t\\t\\t',total_bytes/(1024*1024),'\\tMBytes'\n",
      "\n",
      "print 'Memory used by data:  \\t',n * d * 4 / 1024,'\\t','KBytes'\n",
      "\n",
      "data = np.random.random((n,d)).astype(np.float32)\n",
      "clusters = np.random.random((k,d)).astype(np.float32)\n",
      "#dists = np.empty((n,k)).astype(np.float32)\n",
      "distsDim = np.int(n),np.int(k)\n",
      "\n",
      "blockDim = 20,25 # GT520M has 48 CUDA cores\n",
      "tpg = np.prod(blockDim)\n",
      "\n",
      "# blocks per grid\n",
      "bpg = np.ceil( np.float(n * k) / tpg )\n",
      "\n",
      "gridWidth = np.ceil(bpg / MAX_GRID_XYZ_DIM)\n",
      "gridHeight = np.ceil(bpg / gridWidth)\n",
      "\n",
      "gridDim = np.int(gridWidth),np.int(gridHeight)\n",
      "\n",
      "\n",
      "total_threads = np.prod(gridDim) * np.prod(blockDim)\n",
      "needed_threads = n*k\n",
      "print 'Block dimension:  \\t',blockDim\n",
      "print 'Grid dimension:   \\t',gridDim\n",
      "print 'Threads per block:\\t',tpg\n",
      "print 'Blocks per grid:  \\t',bpg\n",
      "print 'Total threads:    \\t',total_threads\n",
      "print 'Excesss threads:  \\t', total_threads - needed_threads\n",
      "\n",
      "if gridDim[0] > MAX_GRID_XYZ_DIM or gridDim[1] > MAX_GRID_XYZ_DIM:\n",
      "    print \"\\n* * * * * * * * * * * * * * * * * * * * * * * * * * *\\n\"\n",
      "    print \"WARNING: Grid dimension too big. Maximum dimension = \", MAX_GRID_XYZ_DIM\n",
      "    print \"\\n* * * * * * * * * * * * * * * * * * * * * * * * * * *\""
     ],
     "language": "python",
     "metadata": {},
     "outputs": [
      {
       "output_type": "stream",
       "stream": "stdout",
       "text": [
        "Memory used by arrays:\t859.53125 \tKBytes\n",
        "\t\t\t0.839385986328 \tMBytes\n",
        "Memory used by data:  \t78.125 \tKBytes\n",
        "Block dimension:  \t(20, 25)\n",
        "Grid dimension:   \t(1, 400)\n",
        "Threads per block:\t500\n",
        "Blocks per grid:  \t400.0\n",
        "Total threads:    \t200000\n",
        "Excesss threads:  \t0.0\n"
       ]
      }
     ],
     "prompt_number": 14
    },
    {
     "cell_type": "code",
     "collapsed": false,
     "input": [
      "my_dev=cuda.get_current_devicet_device()\n",
      "cuda.api.driver.Device.reset(my_dev)\n",
      "cuda.np."
     ],
     "language": "python",
     "metadata": {},
     "outputs": [
      {
       "metadata": {},
       "output_type": "pyout",
       "prompt_number": 50,
       "text": [
        "<module 'numpy' from '/home/chiroptera/anaconda/lib/python2.7/site-packages/numpy/__init__.pyc'>"
       ]
      }
     ],
     "prompt_number": 50
    },
    {
     "cell_type": "code",
     "collapsed": false,
     "input": [
      "%qtconsole"
     ],
     "language": "python",
     "metadata": {},
     "outputs": [],
     "prompt_number": 30
    },
    {
     "cell_type": "code",
     "collapsed": false,
     "input": [
      "#%debug\n",
      "\n",
      "#distsPython = np.empty(distsDim, dtype=np.float32)\n",
      "distsNumPy = np.empty(distsDim, dtype=np.float32)\n",
      "distsCUDA_auto = np.ones(distsDim, dtype=np.float32)*(-1)\n",
      "distsCUDA_manual = np.ones(distsDim, dtype=np.float32)*(-1)\n",
      "distsCUDA_gu = np.empty(distsDim, dtype=np.float32)\n",
      "\n",
      "#dist(data,clusters,distsPython)\n",
      "np_dist(data,clusters,distsNumPy)\n",
      "guvect_dist.max_blocksize = 32  # limits to 32 threads per block\n",
      "#distsCUDA_gu=guvect_dist(data,clusters)\n",
      "cu_dist_wrap(data,clusters,distsCUDA_manual,blockDim,gridDim)\n",
      "cu_dist[gridDim,blockDim](data,clusters,distsCUDA_gu)\n",
      "\n",
      "#print 'Python = NumPy\\t\\t',np.allclose(distsPython,distsNumPy)\n",
      "print 'NumPy = CUDA manual\\t',np.allclose(distsNumPy,distsCUDA_manual)\n",
      "print 'NumPy = CUDA auto\\t',np.allclose(distsNumPy,distsCUDA_auto)\n",
      "#print 'CUDA auto = manual\\t',np.allclose(distsCUDA_auto,distsCUDA_manual)\n",
      "print 'NumPy = CUDA gu\\t',np.allclose(distsNumPy,distsCUDA_gu)\n",
      "\n",
      "if 'distsPython' in locals(): del distsPython\n",
      "if 'distsNumPy' in locals(): del distsNumPy\n",
      "if 'distsCUDA_auto' in locals(): del distsCUDA_auto\n",
      "if 'distsCUDA_manual' in locals(): del distsCUDA_manual\n",
      "if 'distsCUDA_gu' in locals(): del distsCUDA_gu"
     ],
     "language": "python",
     "metadata": {},
     "outputs": [
      {
       "ename": "StopIteration",
       "evalue": "",
       "output_type": "pyerr",
       "traceback": [
        "\u001b[1;31m---------------------------------------------------------------------------\u001b[0m\n\u001b[1;31mStopIteration\u001b[0m                             Traceback (most recent call last)",
        "\u001b[1;32m<ipython-input-43-ffe1d791adc0>\u001b[0m in \u001b[0;36m<module>\u001b[1;34m()\u001b[0m\n\u001b[0;32m     11\u001b[0m \u001b[0mguvect_dist\u001b[0m\u001b[1;33m.\u001b[0m\u001b[0mmax_blocksize\u001b[0m \u001b[1;33m=\u001b[0m \u001b[1;36m32\u001b[0m  \u001b[1;31m# limits to 32 threads per block\u001b[0m\u001b[1;33m\u001b[0m\u001b[0m\n\u001b[0;32m     12\u001b[0m \u001b[1;31m#distsCUDA_gu=guvect_dist(data,clusters)\u001b[0m\u001b[1;33m\u001b[0m\u001b[1;33m\u001b[0m\u001b[0m\n\u001b[1;32m---> 13\u001b[1;33m \u001b[0mcu_dist_wrap\u001b[0m\u001b[1;33m(\u001b[0m\u001b[0mdata\u001b[0m\u001b[1;33m,\u001b[0m\u001b[0mclusters\u001b[0m\u001b[1;33m,\u001b[0m\u001b[0mdistsCUDA_manual\u001b[0m\u001b[1;33m,\u001b[0m\u001b[0mblockDim\u001b[0m\u001b[1;33m,\u001b[0m\u001b[0mgridDim\u001b[0m\u001b[1;33m)\u001b[0m\u001b[1;33m\u001b[0m\u001b[0m\n\u001b[0m\u001b[0;32m     14\u001b[0m \u001b[0mcu_dist\u001b[0m\u001b[1;33m[\u001b[0m\u001b[0mgridDim\u001b[0m\u001b[1;33m,\u001b[0m\u001b[0mblockDim\u001b[0m\u001b[1;33m]\u001b[0m\u001b[1;33m(\u001b[0m\u001b[0mdata\u001b[0m\u001b[1;33m,\u001b[0m\u001b[0mclusters\u001b[0m\u001b[1;33m,\u001b[0m\u001b[0mdistsCUDA_gu\u001b[0m\u001b[1;33m)\u001b[0m\u001b[1;33m\u001b[0m\u001b[0m\n\u001b[0;32m     15\u001b[0m \u001b[1;33m\u001b[0m\u001b[0m\n",
        "\u001b[1;32m<ipython-input-8-47e246677271>\u001b[0m in \u001b[0;36mcu_dist_wrap\u001b[1;34m(a, b, c, blockDim, gridDim)\u001b[0m\n\u001b[0;32m     65\u001b[0m \u001b[1;32mdef\u001b[0m \u001b[0mcu_dist_wrap\u001b[0m\u001b[1;33m(\u001b[0m\u001b[0ma\u001b[0m\u001b[1;33m,\u001b[0m\u001b[0mb\u001b[0m\u001b[1;33m,\u001b[0m\u001b[0mc\u001b[0m\u001b[1;33m,\u001b[0m\u001b[0mblockDim\u001b[0m\u001b[1;33m,\u001b[0m\u001b[0mgridDim\u001b[0m\u001b[1;33m)\u001b[0m\u001b[1;33m:\u001b[0m\u001b[1;33m\u001b[0m\u001b[0m\n\u001b[0;32m     66\u001b[0m     \u001b[1;31m#stream = cuda.stream()\u001b[0m\u001b[1;33m\u001b[0m\u001b[1;33m\u001b[0m\u001b[0m\n\u001b[1;32m---> 67\u001b[1;33m     \u001b[0mdA\u001b[0m \u001b[1;33m=\u001b[0m \u001b[0mcuda\u001b[0m\u001b[1;33m.\u001b[0m\u001b[0mto_device\u001b[0m\u001b[1;33m(\u001b[0m\u001b[0ma\u001b[0m\u001b[1;33m)\u001b[0m\u001b[1;33m\u001b[0m\u001b[0m\n\u001b[0m\u001b[0;32m     68\u001b[0m     \u001b[0mdB\u001b[0m \u001b[1;33m=\u001b[0m \u001b[0mcuda\u001b[0m\u001b[1;33m.\u001b[0m\u001b[0mto_device\u001b[0m\u001b[1;33m(\u001b[0m\u001b[0mb\u001b[0m\u001b[1;33m)\u001b[0m\u001b[1;33m\u001b[0m\u001b[0m\n\u001b[0;32m     69\u001b[0m     \u001b[1;31m#dC = cuda.to_device(c)\u001b[0m\u001b[1;33m\u001b[0m\u001b[1;33m\u001b[0m\u001b[0m\n",
        "\u001b[1;32m/home/chiroptera/anaconda/lib/python2.7/site-packages/numba/cuda/cudadrv/devices.pyc\u001b[0m in \u001b[0;36m_require_cuda_context\u001b[1;34m(*args, **kws)\u001b[0m\n\u001b[0;32m    237\u001b[0m     \u001b[1;32mdef\u001b[0m \u001b[0m_require_cuda_context\u001b[0m\u001b[1;33m(\u001b[0m\u001b[1;33m*\u001b[0m\u001b[0margs\u001b[0m\u001b[1;33m,\u001b[0m \u001b[1;33m**\u001b[0m\u001b[0mkws\u001b[0m\u001b[1;33m)\u001b[0m\u001b[1;33m:\u001b[0m\u001b[1;33m\u001b[0m\u001b[0m\n\u001b[0;32m    238\u001b[0m         \u001b[0mget_context\u001b[0m\u001b[1;33m(\u001b[0m\u001b[1;33m)\u001b[0m\u001b[1;33m\u001b[0m\u001b[0m\n\u001b[1;32m--> 239\u001b[1;33m         \u001b[1;32mreturn\u001b[0m \u001b[0mfn\u001b[0m\u001b[1;33m(\u001b[0m\u001b[1;33m*\u001b[0m\u001b[0margs\u001b[0m\u001b[1;33m,\u001b[0m \u001b[1;33m**\u001b[0m\u001b[0mkws\u001b[0m\u001b[1;33m)\u001b[0m\u001b[1;33m\u001b[0m\u001b[0m\n\u001b[0m\u001b[0;32m    240\u001b[0m \u001b[1;33m\u001b[0m\u001b[0m\n\u001b[0;32m    241\u001b[0m     \u001b[1;32mreturn\u001b[0m \u001b[0m_require_cuda_context\u001b[0m\u001b[1;33m\u001b[0m\u001b[0m\n",
        "\u001b[1;32m/home/chiroptera/anaconda/lib/python2.7/site-packages/numba/cuda/api.pyc\u001b[0m in \u001b[0;36mto_device\u001b[1;34m(ary, stream, copy, to)\u001b[0m\n\u001b[0;32m     53\u001b[0m     \"\"\"\n\u001b[0;32m     54\u001b[0m     \u001b[1;32mif\u001b[0m \u001b[0mto\u001b[0m \u001b[1;32mis\u001b[0m \u001b[0mNone\u001b[0m\u001b[1;33m:\u001b[0m\u001b[1;33m\u001b[0m\u001b[0m\n\u001b[1;32m---> 55\u001b[1;33m         \u001b[0mdevarray\u001b[0m \u001b[1;33m=\u001b[0m \u001b[0mdevicearray\u001b[0m\u001b[1;33m.\u001b[0m\u001b[0mfrom_array_like\u001b[0m\u001b[1;33m(\u001b[0m\u001b[0mary\u001b[0m\u001b[1;33m,\u001b[0m \u001b[0mstream\u001b[0m\u001b[1;33m=\u001b[0m\u001b[0mstream\u001b[0m\u001b[1;33m)\u001b[0m\u001b[1;33m\u001b[0m\u001b[0m\n\u001b[0m\u001b[0;32m     56\u001b[0m     \u001b[1;32melse\u001b[0m\u001b[1;33m:\u001b[0m\u001b[1;33m\u001b[0m\u001b[0m\n\u001b[0;32m     57\u001b[0m         \u001b[0mdevarray\u001b[0m \u001b[1;33m=\u001b[0m \u001b[0mto\u001b[0m\u001b[1;33m\u001b[0m\u001b[0m\n",
        "\u001b[1;32m/home/chiroptera/anaconda/lib/python2.7/site-packages/numba/cuda/cudadrv/devicearray.pyc\u001b[0m in \u001b[0;36mfrom_array_like\u001b[1;34m(ary, stream, gpu_head, gpu_data)\u001b[0m\n\u001b[0;32m    336\u001b[0m     return DeviceNDArray(ary.shape, ary.strides, ary.dtype,\n\u001b[0;32m    337\u001b[0m                          \u001b[0mwriteback\u001b[0m\u001b[1;33m=\u001b[0m\u001b[0mary\u001b[0m\u001b[1;33m,\u001b[0m \u001b[0mstream\u001b[0m\u001b[1;33m=\u001b[0m\u001b[0mstream\u001b[0m\u001b[1;33m,\u001b[0m \u001b[0mgpu_head\u001b[0m\u001b[1;33m=\u001b[0m\u001b[0mgpu_head\u001b[0m\u001b[1;33m,\u001b[0m\u001b[1;33m\u001b[0m\u001b[0m\n\u001b[1;32m--> 338\u001b[1;33m                          gpu_data=gpu_data)\n\u001b[0m\u001b[0;32m    339\u001b[0m \u001b[1;33m\u001b[0m\u001b[0m\n\u001b[0;32m    340\u001b[0m \u001b[1;33m\u001b[0m\u001b[0m\n",
        "\u001b[1;32m/home/chiroptera/anaconda/lib/python2.7/site-packages/numba/cuda/cudadrv/devicearray.pyc\u001b[0m in \u001b[0;36m__init__\u001b[1;34m(self, shape, strides, dtype, stream, writeback, gpu_head, gpu_data)\u001b[0m\n\u001b[0;32m     94\u001b[0m                                                                 \u001b[0mself\u001b[0m\u001b[1;33m.\u001b[0m\u001b[0mstrides\u001b[0m\u001b[1;33m,\u001b[0m\u001b[1;33m\u001b[0m\u001b[0m\n\u001b[0;32m     95\u001b[0m                                                                 self.dtype.itemsize)\n\u001b[1;32m---> 96\u001b[1;33m                 \u001b[0mgpu_data\u001b[0m \u001b[1;33m=\u001b[0m \u001b[0mdevices\u001b[0m\u001b[1;33m.\u001b[0m\u001b[0mget_context\u001b[0m\u001b[1;33m(\u001b[0m\u001b[1;33m)\u001b[0m\u001b[1;33m.\u001b[0m\u001b[0mmemalloc\u001b[0m\u001b[1;33m(\u001b[0m\u001b[0mself\u001b[0m\u001b[1;33m.\u001b[0m\u001b[0malloc_size\u001b[0m\u001b[1;33m)\u001b[0m\u001b[1;33m\u001b[0m\u001b[0m\n\u001b[0m\u001b[0;32m     97\u001b[0m             \u001b[1;32melse\u001b[0m\u001b[1;33m:\u001b[0m\u001b[1;33m\u001b[0m\u001b[0m\n\u001b[0;32m     98\u001b[0m                 \u001b[0mself\u001b[0m\u001b[1;33m.\u001b[0m\u001b[0malloc_size\u001b[0m \u001b[1;33m=\u001b[0m \u001b[0m_driver\u001b[0m\u001b[1;33m.\u001b[0m\u001b[0mdevice_memory_size\u001b[0m\u001b[1;33m(\u001b[0m\u001b[0mgpu_data\u001b[0m\u001b[1;33m)\u001b[0m\u001b[1;33m\u001b[0m\u001b[0m\n",
        "\u001b[1;32m/home/chiroptera/anaconda/lib/python2.7/site-packages/numba/cuda/cudadrv/driver.pyc\u001b[0m in \u001b[0;36mmemalloc\u001b[1;34m(self, bytesize)\u001b[0m\n\u001b[0;32m    497\u001b[0m \u001b[1;33m\u001b[0m\u001b[0m\n\u001b[0;32m    498\u001b[0m     \u001b[1;32mdef\u001b[0m \u001b[0mmemalloc\u001b[0m\u001b[1;33m(\u001b[0m\u001b[0mself\u001b[0m\u001b[1;33m,\u001b[0m \u001b[0mbytesize\u001b[0m\u001b[1;33m)\u001b[0m\u001b[1;33m:\u001b[0m\u001b[1;33m\u001b[0m\u001b[0m\n\u001b[1;32m--> 499\u001b[1;33m         \u001b[0mself\u001b[0m\u001b[1;33m.\u001b[0m\u001b[0mtrashing\u001b[0m\u001b[1;33m.\u001b[0m\u001b[0mservice\u001b[0m\u001b[1;33m(\u001b[0m\u001b[1;33m)\u001b[0m\u001b[1;33m\u001b[0m\u001b[0m\n\u001b[0m\u001b[0;32m    500\u001b[0m         \u001b[0mptr\u001b[0m \u001b[1;33m=\u001b[0m \u001b[0mdrvapi\u001b[0m\u001b[1;33m.\u001b[0m\u001b[0mcu_device_ptr\u001b[0m\u001b[1;33m(\u001b[0m\u001b[1;33m)\u001b[0m\u001b[1;33m\u001b[0m\u001b[0m\n\u001b[0;32m    501\u001b[0m         \u001b[0mdriver\u001b[0m\u001b[1;33m.\u001b[0m\u001b[0mcuMemAlloc\u001b[0m\u001b[1;33m(\u001b[0m\u001b[0mbyref\u001b[0m\u001b[1;33m(\u001b[0m\u001b[0mptr\u001b[0m\u001b[1;33m)\u001b[0m\u001b[1;33m,\u001b[0m \u001b[0mbytesize\u001b[0m\u001b[1;33m)\u001b[0m\u001b[1;33m\u001b[0m\u001b[0m\n",
        "\u001b[1;32m/home/chiroptera/anaconda/lib/python2.7/site-packages/numba/servicelib/service.pyc\u001b[0m in \u001b[0;36mservice\u001b[1;34m(self)\u001b[0m\n\u001b[0;32m     28\u001b[0m                 \u001b[1;31m# Prevent recursion\u001b[0m\u001b[1;33m\u001b[0m\u001b[1;33m\u001b[0m\u001b[0m\n\u001b[0;32m     29\u001b[0m                 \u001b[0mself\u001b[0m\u001b[1;33m.\u001b[0m\u001b[0menabled\u001b[0m \u001b[1;33m=\u001b[0m \u001b[0mFalse\u001b[0m\u001b[1;33m\u001b[0m\u001b[0m\n\u001b[1;32m---> 30\u001b[1;33m                 \u001b[0mnext\u001b[0m\u001b[1;33m(\u001b[0m\u001b[0mself\u001b[0m\u001b[1;33m.\u001b[0m\u001b[0m_task\u001b[0m\u001b[1;33m)\u001b[0m\u001b[1;33m\u001b[0m\u001b[0m\n\u001b[0m\u001b[0;32m     31\u001b[0m             \u001b[1;32mfinally\u001b[0m\u001b[1;33m:\u001b[0m\u001b[1;33m\u001b[0m\u001b[0m\n\u001b[0;32m     32\u001b[0m                 \u001b[0mself\u001b[0m\u001b[1;33m.\u001b[0m\u001b[0menabled\u001b[0m \u001b[1;33m=\u001b[0m \u001b[0menable\u001b[0m\u001b[1;33m\u001b[0m\u001b[0m\n",
        "\u001b[1;31mStopIteration\u001b[0m: "
       ]
      }
     ],
     "prompt_number": 43
    },
    {
     "cell_type": "code",
     "collapsed": false,
     "input": [
      "dists = np.empty(distsDim).astype(np.float32)\n",
      "\n",
      "\n",
      "print 'Pure python:\\t\\t',\n",
      "%timeit -r 1 dist(data,clusters,dists)\n",
      "print 'NumPy optimized:\\t',\n",
      "%timeit np_dist(data,clusters,dists)\n",
      "#print 'GUVectorize:\\t\\t',\n",
      "#%timeit -r 1 guvect_dist(data,clusters,dists)\n",
      "print 'CUDA auto:\\t\\t',\n",
      "%timeit cu_dist[gridDim,blockDim](data,clusters,dists)\n",
      "print 'CUDA manual:\\t\\t',\n",
      "%timeit cu_dist_wrap(data,clusters,dists,blockDim,gridDim)\n",
      "\n",
      "del dists"
     ],
     "language": "python",
     "metadata": {},
     "outputs": [
      {
       "output_type": "stream",
       "stream": "stdout",
       "text": [
        "Pure python:\t\t1 loops, best of 1: 32min 51s per loop"
       ]
      },
      {
       "output_type": "stream",
       "stream": "stdout",
       "text": [
        "\n",
        "NumPy optimized:\t1 loops, best of 3: 6.93 s per loop"
       ]
      },
      {
       "output_type": "stream",
       "stream": "stdout",
       "text": [
        "\n",
        "CUDA auto:\t\t1 loops, best of 3: 1.31 s per loop"
       ]
      },
      {
       "output_type": "stream",
       "stream": "stdout",
       "text": [
        "\n",
        "CUDA manual:\t\t1 loops, best of 3: 1.13 s per loop"
       ]
      },
      {
       "output_type": "stream",
       "stream": "stdout",
       "text": [
        "\n"
       ]
      }
     ],
     "prompt_number": 29
    },
    {
     "cell_type": "markdown",
     "metadata": {},
     "source": [
      "```\n",
      "Pure python:\t\t1 loops, best of 1: 32min 51s per loop\n",
      "NumPy optimized:\t1 loops, best of 3: 6.93 s per loop\n",
      "CUDA auto:\t\t    1 loops, best of 3: 1.31 s per loop\n",
      "CUDA manual:\t\t1 loops, best of 3: 1.13 s per loop\n",
      "```"
     ]
    },
    {
     "cell_type": "code",
     "collapsed": false,
     "input": [
      "speedup=34*60 / 1.13\n",
      "print speedup"
     ],
     "language": "python",
     "metadata": {},
     "outputs": [
      {
       "output_type": "stream",
       "stream": "stdout",
       "text": [
        "1805.30973451\n"
       ]
      }
     ],
     "prompt_number": 31
    },
    {
     "cell_type": "code",
     "collapsed": false,
     "input": [
      "del data,clusters"
     ],
     "language": "python",
     "metadata": {},
     "outputs": [],
     "prompt_number": 32
    },
    {
     "cell_type": "markdown",
     "metadata": {},
     "source": [
      "# Accuracy check\n",
      "\n",
      "This section implements a simple matrix multiplication kernel. The aim here is mainly to test accuracy."
     ]
    },
    {
     "cell_type": "code",
     "collapsed": false,
     "input": [
      "import numbapro\n",
      "from numbapro import *"
     ],
     "language": "python",
     "metadata": {},
     "outputs": [],
     "prompt_number": 2
    },
    {
     "cell_type": "code",
     "collapsed": false,
     "input": [
      "from timeit import default_timer as timer\n",
      "\n",
      "bpg = 150\n",
      "tpb = 6\n",
      "n = bpg * tpb\n",
      "shared_mem_size = (tpb, tpb)\n",
      "griddim = bpg, bpg\n",
      "blockdim = tpb, tpb\n",
      "\n",
      "# Prepare data on the CPU\n",
      "#A = np.array(np.random.random((n, n)), dtype=np.float32)\n",
      "#B = np.array(np.random.random((n, n)), dtype=np.float32)\n",
      "\n",
      "A = np.ones((n, n), dtype=np.float32)\n",
      "B = np.ones((n, n), dtype=np.float32)\n",
      "\n",
      "print \"N = %d x %d\" % (n, n)"
     ],
     "language": "python",
     "metadata": {},
     "outputs": [
      {
       "output_type": "stream",
       "stream": "stdout",
       "text": [
        "N = 900 x 900\n"
       ]
      }
     ],
     "prompt_number": 15
    },
    {
     "cell_type": "code",
     "collapsed": false,
     "input": [
      "@numbapro.cuda.jit(\"void(float32[:,:], float32[:,:], float32[:,:])\")\n",
      "def naive_matrix_mult(A, B, C):\n",
      "    x, y = cuda.grid(2)\n",
      "    if x >= C.shape[1] or y >= C.shape[0]:\n",
      "        return\n",
      "\n",
      "    C[y, x] = 0\n",
      "    for i in range(A.shape[1]):\n",
      "        C[y, x] += A[y, i] * B[i, x]\n",
      "        \n",
      "def py_naive_matrix_mult(A, B, C):\n",
      "\n",
      "    for y in xrange(C.shape[0]):\n",
      "        for x in xrange(C.shape[1]):\n",
      "    \n",
      "            C[y, x] = 0\n",
      "            for i in xrange(A.shape[1]):\n",
      "                C[y, x] += A[y, i] * B[i, x]"
     ],
     "language": "python",
     "metadata": {},
     "outputs": [],
     "prompt_number": 3
    },
    {
     "cell_type": "code",
     "collapsed": false,
     "input": [
      "# Prepare data on the GPU\n",
      "dA = cuda.to_device(A)\n",
      "dB = cuda.to_device(B)\n",
      "dC = cuda.device_array_like(A)\n",
      "\n",
      "# Time the unoptimized version\n",
      "s = timer()\n",
      "naive_matrix_mult[griddim, blockdim](dA, dB, dC)\n",
      "numbapro.cuda.synchronize()\n",
      "e = timer()\n",
      "unopt_ans = dC.copy_to_host()\n",
      "tcuda_unopt = e - s\n",
      "\n",
      "\n",
      "# Time the Python version\n",
      "py_ans = np.empty(unopt_ans.shape)\n",
      "s = timer()\n",
      "#py_naive_matrix_mult(A, B, py_ans)\n",
      "py_ans=A.dot(B)\n",
      "numba.cuda.synchronize()\n",
      "e = timer()\n",
      "t_py = e - s\n",
      "\n",
      "print 'Times'\n",
      "print 'CUDA  \\t',tcuda_unopt\n",
      "print 'Python\\t',t_py\n",
      "print ''\n",
      "print 'Are the same:\\t',np.allclose(unopt_ans,py_ans)"
     ],
     "language": "python",
     "metadata": {},
     "outputs": [
      {
       "output_type": "stream",
       "stream": "stdout",
       "text": [
        "Times\n",
        "CUDA  \t2.46930098534\n",
        "Python\t0.0447430610657\n",
        "\n",
        "Are the same:\tTrue\n"
       ]
      }
     ],
     "prompt_number": 17
    },
    {
     "cell_type": "markdown",
     "metadata": {},
     "source": [
      "# Storing memory for multiple kernels test\n",
      "\n",
      "Using last section's kernel."
     ]
    },
    {
     "cell_type": "code",
     "collapsed": false,
     "input": [
      "bpg = 150\n",
      "tpb = 6\n",
      "n = bpg * tpb\n",
      "shared_mem_size = (tpb, tpb)\n",
      "griddim = bpg, bpg\n",
      "blockdim = tpb, tpb\n",
      "\n",
      "A = np.ones((n, n), dtype=np.float32)\n",
      "B = np.ones((n, n), dtype=np.float32)\n",
      "\n",
      "print \"N = %d x %d\" % (n, n)\n",
      "print \"Memory:\\t\",A.nbytes*3 / 1024, '\\t','KBytes'"
     ],
     "language": "python",
     "metadata": {},
     "outputs": [
      {
       "output_type": "stream",
       "stream": "stdout",
       "text": [
        "N = 900 x 900\n",
        "Memory:\t9492 \tKBytes\n"
       ]
      }
     ],
     "prompt_number": 5
    },
    {
     "cell_type": "code",
     "collapsed": false,
     "input": [
      "# First operation\n",
      "res1 = A.dot(B)\n",
      "\n",
      "dA = cuda.to_device(A)\n",
      "dB = cuda.to_device(B)\n",
      "dC = cuda.device_array_like(A)\n",
      "\n",
      "naive_matrix_mult[griddim, blockdim](dA, dB, dC)\n",
      "numbapro.cuda.synchronize()\n",
      "cuda_res1 = dC.copy_to_host()\n",
      "\n",
      "B += 1 \n",
      "\n",
      "# Second operation\n",
      "res2 = A.dot(B)\n",
      "dB = cuda.to_device(B)\n",
      "dC = cuda.device_array_like(A)\n",
      "\n",
      "naive_matrix_mult[griddim, blockdim](dA, dB, dC)\n",
      "numbapro.cuda.synchronize()\n",
      "cuda_res2 = dC.copy_to_host()\n",
      "\n",
      "# check results\n",
      "print 'Result 1 check:','\\t',np.allclose(res1,cuda_res1)\n",
      "print 'Result 2 check:','\\t',np.allclose(res2,cuda_res2)"
     ],
     "language": "python",
     "metadata": {},
     "outputs": [
      {
       "output_type": "stream",
       "stream": "stdout",
       "text": [
        "Result 1 check: \tTrue\n",
        "Result 2 check: \tTrue\n"
       ]
      }
     ],
     "prompt_number": 6
    }
   ],
   "metadata": {}
  }
 ]
}