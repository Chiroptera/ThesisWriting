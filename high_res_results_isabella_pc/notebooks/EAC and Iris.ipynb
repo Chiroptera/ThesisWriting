{
 "cells": [
  {
   "cell_type": "markdown",
   "metadata": {},
   "source": [
    "author: Diogo Silva"
   ]
  },
  {
   "cell_type": "code",
   "execution_count": 4,
   "metadata": {
    "collapsed": false
   },
   "outputs": [
    {
     "name": "stdout",
     "output_type": "stream",
     "text": [
      "Populating the interactive namespace from numpy and matplotlib\n"
     ]
    }
   ],
   "source": [
    "%pylab inline"
   ]
  },
  {
   "cell_type": "code",
   "execution_count": 5,
   "metadata": {
    "collapsed": false
   },
   "outputs": [
    {
     "name": "stdout",
     "output_type": "stream",
     "text": [
      "/home/chiroptera/workspace/QCThesis\n"
     ]
    }
   ],
   "source": [
    "cd ~/QCThesis/"
   ]
  },
  {
   "cell_type": "code",
   "execution_count": 6,
   "metadata": {
    "collapsed": false
   },
   "outputs": [
    {
     "data": {
      "text/plain": [
       "<module 'MyML.cluster.KMedoids' from 'MyML/cluster/KMedoids.pyc'>"
      ]
     },
     "execution_count": 6,
     "metadata": {},
     "output_type": "execute_result"
    }
   ],
   "source": [
    "import seaborn as sns\n",
    "from sklearn.cluster import KMeans as KMeans_skl\n",
    "import MyML.cluster.eac as eac\n",
    "reload(eac)\n",
    "import MyML.cluster.K_Means3 as K_Means3\n",
    "reload(K_Means3)\n",
    "import MyML.metrics.accuracy as determine_ci\n",
    "reload(determine_ci)\n",
    "import MyML.cluster.KMedoids as KMedoids\n",
    "reload(KMedoids)"
   ]
  },
  {
   "cell_type": "markdown",
   "metadata": {},
   "source": [
    "# Helper functions"
   ]
  },
  {
   "cell_type": "code",
   "execution_count": 4,
   "metadata": {
    "collapsed": true
   },
   "outputs": [],
   "source": [
    "def stat_my_kmeans(data,nclusters,gtruth,rounds=20):\n",
    "    nsamples=data.shape[0]\n",
    "    all_acc = list()\n",
    "    for r in xrange(rounds):\n",
    "        iters=\"converge\"\n",
    "        kmeans_mode=\"numpy\"\n",
    "\n",
    "        grouper = K_Means3.K_Means(nclusters=nclusters, iters=iters, mode=kmeans_mode, cuda_mem='manual',tol=1e-4,max_iters=300)\n",
    "        grouper._centroid_mode = \"index\"\n",
    "        grouper.fit(data)\n",
    "\n",
    "        ci=determine_ci.ConsistencyIndex(N=nsamples)\n",
    "        accuracy=ci.score(gtruth,grouper.labels_,format='array')\n",
    "        all_acc.append(accuracy)\n",
    "        \n",
    "        \n",
    "    return np.mean(all_acc),np.var(all_acc),np.max(all_acc),np.min(all_acc)\n",
    "    \n",
    "def stat_skl_kmeans(data,nclusters,gtruth,rounds=20,init='random'):\n",
    "    nsamples=data.shape[0]\n",
    "    all_acc = list()\n",
    "    for r in xrange(rounds):\n",
    "        iters=\"converge\"\n",
    "        kmeans_mode=\"numpy\"\n",
    "\n",
    "        gSKL = KMeans_skl(n_clusters=nclusters,n_init=1,init=init)\n",
    "        gSKL.fit(data)\n",
    "\n",
    "        ci=determine_ci.ConsistencyIndex(N=nsamples)\n",
    "        accuracy=ci.score(gtruth,gSKL.labels_,format='array')\n",
    "        all_acc.append(accuracy)\n",
    "        \n",
    "        \n",
    "    return np.mean(all_acc),np.var(all_acc),np.max(all_acc),np.min(all_acc)"
   ]
  },
  {
   "cell_type": "code",
   "execution_count": 5,
   "metadata": {
    "collapsed": true
   },
   "outputs": [],
   "source": [
    "def k_analysis(partition_files,ground_truth,nprots,iters=\"converge\",rounds=20,files=True):\n",
    "    nsamples=data.shape[0]\n",
    "    all_acc = list()\n",
    "    \n",
    "    for r in xrange(rounds):\n",
    "        prot_mode=\"random\"\n",
    "\n",
    "        estimator=eac.EAC(nsamples)\n",
    "        estimator.fit(partition_files,files=files,assoc_mode='prot', prot_mode=prot_mode, nprot=nprots,build_only=True)\n",
    "\n",
    "        kmeans_mode = \"numpy\"\n",
    "        nclusters = np.unique(ground_truth).shape[0]\n",
    "\n",
    "        grouper = K_Means3.K_Means(nclusters=nclusters, iters=iters, mode=kmeans_mode, cuda_mem='manual',tol=1e-4,max_iters=300)\n",
    "        grouper._centroid_mode = \"index\"\n",
    "        grouper.fit(estimator._coassoc)\n",
    "\n",
    "        ci=determine_ci.ConsistencyIndex(N=nsamples)\n",
    "        accuracy=ci.score(ground_truth,grouper.labels_,format='array')\n",
    "        all_acc.append(accuracy)\n",
    "    return np.mean(all_acc),np.var(all_acc),np.max(all_acc),np.min(all_acc)\n",
    "\n",
    "def k_skl_analysis(partition_files,ground_truth,nprots,rounds=20,files=True):\n",
    "    nsamples=data.shape[0]\n",
    "    all_acc = list()\n",
    "    \n",
    "    for r in xrange(rounds):\n",
    "        prot_mode=\"random\"\n",
    "\n",
    "        estimator=eac.EAC(nsamples)\n",
    "        estimator.fit(partition_files,files=files,assoc_mode='prot', prot_mode=prot_mode, nprot=nprots,build_only=True)\n",
    "\n",
    "        kmeans_mode = \"numpy\"\n",
    "        nclusters = np.unique(ground_truth).shape[0]\n",
    "\n",
    "\n",
    "        grouper = KMeans_skl(n_clusters=nclusters,n_init=1,init=\"random\")\n",
    "        grouper.fit(estimator._coassoc)\n",
    "        \n",
    "        ci=determine_ci.ConsistencyIndex(N=nsamples)\n",
    "        accuracy=ci.score(ground_truth,grouper.labels_,format='array')\n",
    "        all_acc.append(accuracy)\n",
    "    return np.mean(all_acc),np.var(all_acc),np.max(all_acc),np.min(all_acc)"
   ]
  },
  {
   "cell_type": "code",
   "execution_count": 6,
   "metadata": {
    "collapsed": true
   },
   "outputs": [],
   "source": [
    "def formatPartition(partition):\n",
    "    nclusters=np.unique(partition).shape[0]\n",
    "    finalPartition=[list() for x in xrange(nclusters)]\n",
    "    for n,c in partition:\n",
    "        finalPartition[c].append(n)\n",
    "        \n",
    "    return finalPartition\n",
    "\n",
    "def generatePartitions(data,npartitions,nclusters,iters=3):\n",
    "    \n",
    "    if type(nclusters) is list:\n",
    "        clusterRange = True\n",
    "        min_ncluster=nclusters[0]\n",
    "        max_ncluster=nclusters[1]\n",
    "    else:\n",
    "        clusterRange = False\n",
    "        k = nclusters\n",
    "        \n",
    "    partitions = list()\n",
    "    \n",
    "    mode = \"numpy\"\n",
    "    for p in xrange(npartitions):\n",
    "        if clusterRange:\n",
    "            k = np.random.randint(min_ncluster,max_ncluster)\n",
    "        \n",
    "        grouper = K_Means3.K_Means(nclusters=k, iters=iters, mode=mode, cuda_mem='manual',tol=1e-4,max_iters=300)\n",
    "        grouper._centroid_mode = \"index\"\n",
    "        grouper.fit(data)\n",
    "        partitions.append(grouper.partition)\n",
    "        \n",
    "    return partitions\n",
    "        \n",
    "def generatePartitionsSKL(data,npartitions,nclusters,iters=3):\n",
    "    \n",
    "    if type(nclusters) is list:\n",
    "        clusterRange = True\n",
    "        min_ncluster=nclusters[0]\n",
    "        max_ncluster=nclusters[1]\n",
    "    else:\n",
    "        clusterRange = False\n",
    "        k = nclusters\n",
    "        \n",
    "    partitions = list()\n",
    "    \n",
    "    mode = \"numpy\"\n",
    "    for p in xrange(npartitions):\n",
    "        if clusterRange:\n",
    "            k = np.random.randint(min_ncluster,max_ncluster)\n",
    "        \n",
    "        gSKL = KMeans_skl(n_clusters=k,n_init=1,init=\"random\",max_iter=iters)\n",
    "        gSKL.fit(data)\n",
    "        partitions.append(formatPartition(gSKL.labels_))\n",
    "        \n",
    "    return partitions\n",
    "    "
   ]
  },
  {
   "cell_type": "markdown",
   "metadata": {},
   "source": [
    "# Get data"
   ]
  },
  {
   "cell_type": "code",
   "execution_count": 7,
   "metadata": {
    "collapsed": true
   },
   "outputs": [],
   "source": [
    "from sklearn import datasets\n",
    "irisDS = datasets.load_iris()\n",
    "iris=irisDS.data\n",
    "iris_gt=irisDS.target"
   ]
  },
  {
   "cell_type": "markdown",
   "metadata": {},
   "source": [
    "# Generate partitions"
   ]
  },
  {
   "cell_type": "code",
   "execution_count": 9,
   "metadata": {
    "collapsed": false
   },
   "outputs": [
    {
     "name": "stdout",
     "output_type": "stream",
     "text": [
      "my partition 10 has 9 clusters instead of 10\n",
      "All partitions have good number of clusters.\n"
     ]
    }
   ],
   "source": [
    "npartitions=30\n",
    "iters=3\n",
    "data=iris\n",
    "\n",
    "nclusters=10\n",
    "partitions_my_10 = generatePartitions(data=data,npartitions=npartitions,nclusters=nclusters,iters=iters)\n",
    "partitions_skl_10 = generatePartitions(data=data,npartitions=npartitions,nclusters=nclusters,iters=iters)\n",
    "\n",
    "if type(nclusters) is not list:\n",
    "    allGood=True\n",
    "    for p in xrange(npartitions):\n",
    "        if len(partitions_my_10[p]) != nclusters:\n",
    "            print 'my partition {} has {} clusters instead of {}'.format(p,len(partitions_my_10[p]),nclusters)\n",
    "            allGood=False\n",
    "        if len(partitions_skl_10[p]) != nclusters:\n",
    "            print 'skl partition {} has {} clusters instead of {}'.format(p,len(partitions_skl_10[p]),nclusters)\n",
    "            allGood=False\n",
    "    if allGood:\n",
    "        print 'All partitions have good number of clusters.'\n",
    "\n",
    "nclusters=6\n",
    "partitions_my_6 = generatePartitions(data=data,npartitions=npartitions,nclusters=nclusters,iters=iters)\n",
    "partitions_skl_6 = generatePartitions(data=data,npartitions=npartitions,nclusters=nclusters,iters=iters)\n",
    "\n",
    "if type(nclusters) is not list:\n",
    "    allGood=True\n",
    "    for p in xrange(npartitions):\n",
    "        if len(partitions_my_6[p]) != nclusters:\n",
    "            print 'my partition {} has {} clusters instead of {}'.format(p,len(partitions_my_6[p]),nclusters)\n",
    "            allGood=False\n",
    "        if len(partitions_skl_6[p]) != nclusters:\n",
    "            print 'skl partition {} has {} clusters instead of {}'.format(p,len(partitions_skl_6[p]),nclusters)\n",
    "            allGood=False\n",
    "    if allGood:\n",
    "        print 'All partitions have good number of clusters.'\n",
    "\n",
    "nclusters=[4,25]\n",
    "partitions_my_rand = generatePartitions(data=data,npartitions=npartitions,nclusters=nclusters,iters=iters)\n",
    "partitions_skl_rand = generatePartitions(data=data,npartitions=npartitions,nclusters=nclusters,iters=iters)\n",
    "\n",
    "if type(nclusters) is not list:\n",
    "    allGood=True\n",
    "    for p in xrange(npartitions):\n",
    "        if len(partitions_my_rand[p]) != nclusters:\n",
    "            print 'partition {} of partitions_my has different number of clusters:{}'.format(p,len(partitions_my[p]))\n",
    "            allGood=False\n",
    "        if len(partitions_skl_rand[p]) != nclusters:\n",
    "            print 'partition {} of partitions_my has different number of clusters:{}'.format(p,len(partitions_skl[p]))\n",
    "            allGood=False\n",
    "    if allGood:\n",
    "        print 'All partitions have good number of clusters.'"
   ]
  },
  {
   "cell_type": "code",
   "execution_count": 10,
   "metadata": {
    "collapsed": false
   },
   "outputs": [
    {
     "name": "stdout",
     "output_type": "stream",
     "text": [
      "My Accuracy:\t0.953333333333\n",
      "SKL Accuracy:\t0.726666666667\n"
     ]
    },
    {
     "name": "stderr",
     "output_type": "stream",
     "text": [
      "MyML/helper/partition.py:56: FutureWarning: comparison to `None` will result in an elementwise object comparison in the future.\n",
      "  if clusts == None:\n"
     ]
    },
    {
     "data": {
      "text/plain": [
       "<matplotlib.text.Text at 0x7f64640c8110>"
      ]
     },
     "execution_count": 10,
     "metadata": {},
     "output_type": "execute_result"
    },
    {
     "data": {
      "image/png": "[encoded data removed]",
      "text/plain": [
       "<matplotlib.figure.Figure at 0x7f646410f050>"
      ]
     },
     "metadata": {},
     "output_type": "display_data"
    }
   ],
   "source": [
    "# generate coassoc\n",
    "prot_mode=\"random\"\n",
    "assoc_mode='prot' # prot or full\n",
    "nsamples=data.shape[0]\n",
    "nprots=nsamples # number of prototypes\n",
    "gt=iris_gt\n",
    "\n",
    "partitions_used = partitions_my_rand\n",
    "\n",
    "myEstimator=eac.EAC(nsamples)\n",
    "myEstimator.fit(partitions_used,files=False,assoc_mode=assoc_mode, prot_mode=prot_mode, nprot=nprots,build_only=True)\n",
    "\n",
    "# final clustering with the true number of clusters\n",
    "true_nclusters = np.unique(gt).shape[0]\n",
    "\n",
    "# cluster with my K-Means\n",
    "kmeans_mode = \"numpy\"\n",
    "\n",
    "grouper = K_Means3.K_Means(nclusters=true_nclusters, iters=\"converge\", mode=kmeans_mode, cuda_mem='manual',tol=1e-4,max_iters=300)\n",
    "grouper._centroid_mode = \"index\"\n",
    "grouper.fit(myEstimator._coassoc)\n",
    "\n",
    "# cluster with SKL K-Means\n",
    "gSKL = KMeans_skl(n_clusters=true_nclusters,n_init=1,init=\"random\")\n",
    "gSKL.fit(myEstimator._coassoc)\n",
    "\n",
    "# Hungarian accuracy\n",
    "myAcc = determine_ci.HungarianIndex(nsamples=nsamples)\n",
    "myAcc.score(gt,grouper.labels_,format='array')\n",
    "\n",
    "sklAcc = determine_ci.HungarianIndex(nsamples=nsamples)\n",
    "sklAcc.score(gt,gSKL.labels_,format='array')\n",
    "\n",
    "\n",
    "print 'My Accuracy:\\t',myAcc.accuracy\n",
    "print 'SKL Accuracy:\\t',sklAcc.accuracy\n",
    "\n",
    "figEAC=plt.figure(figsize=(16,6))\n",
    "ax1EAC=figEAC.add_subplot(1,2,1)\n",
    "ax2EAC=figEAC.add_subplot(1,2,2)\n",
    "\n",
    "for c in np.unique(grouper.labels_):\n",
    "    clusterData=grouper.labels_==c\n",
    "    ax1EAC.plot(data[clusterData,0],data[clusterData,1],'.')\n",
    "ax1EAC.set_title(\"Final EAC partition with my K-Means\")\n",
    "\n",
    "for c in np.unique(gSKL.labels_):\n",
    "    clusterData=gSKL.labels_==c\n",
    "    ax2EAC.plot(data[clusterData,0],data[clusterData,1],'.')\n",
    "ax2EAC.set_title(\"Final EAC partition with SKL's K-Means\")"
   ]
  },
  {
   "cell_type": "code",
   "execution_count": 11,
   "metadata": {
    "collapsed": false
   },
   "outputs": [
    {
     "name": "stdout",
     "output_type": "stream",
     "text": [
      "type\tmean\tvar\tmax\tmin\n",
      "skl \t0.721466666667\t0.0268014044444\t0.966666666667\t0.433333333333\t\n",
      "my  \t0.751466666667\t0.0209574044444\t0.966666666667\t0.426666666667\t"
     ]
    }
   ],
   "source": [
    "stat_nprots=nsamples\n",
    "print \"{}\\t{}\\t{}\\t{}\\t{}\".format(\"type\",\"mean\",\"var\",\"max\",\"min\")\n",
    "print \"skl \\t\",\n",
    "for metric in k_skl_analysis(partitions_used,files=False,ground_truth=gt,nprots=stat_nprots,rounds=100):\n",
    "    print \"{}\\t\".format(metric),\n",
    "print \"\\nmy  \\t\",\n",
    "for metric in k_analysis(partitions_used,files=False,ground_truth=gt,nprots=stat_nprots,iters=\"converge\",rounds=100):\n",
    "    print \"{}\\t\".format(metric),\n"
   ]
  },
  {
   "cell_type": "markdown",
   "metadata": {},
   "source": [
    "# K-Means only"
   ]
  },
  {
   "cell_type": "code",
   "execution_count": 12,
   "metadata": {
    "collapsed": false
   },
   "outputs": [
    {
     "name": "stdout",
     "output_type": "stream",
     "text": [
      "type\tmean\tvar\tmax\tmin\n",
      "my  \t0.801133333333\t0.01732716\t0.913333333333\t0.5\t\n",
      "skl \t0.829733333333\t0.0179097066667\t0.893333333333\t0.5\t"
     ]
    }
   ],
   "source": [
    "stat_nprots=nsamples\n",
    "print \"{}\\t{}\\t{}\\t{}\\t{}\".format(\"type\",\"mean\",\"var\",\"max\",\"min\")\n",
    "print \"my  \\t\",\n",
    "for metric in stat_my_kmeans(data,true_nclusters,gt,rounds=100):\n",
    "    print \"{}\\t\".format(metric),\n",
    "print \"\\nskl \\t\",\n",
    "for metric in stat_skl_kmeans(data,true_nclusters,gt,rounds=100):\n",
    "    print \"{}\\t\".format(metric),"
   ]
  },
  {
   "cell_type": "markdown",
   "metadata": {},
   "source": [
    "# EAC K-Medoids"
   ]
  },
  {
   "cell_type": "code",
   "execution_count": 227,
   "metadata": {
    "collapsed": false
   },
   "outputs": [
    {
     "name": "stdout",
     "output_type": "stream",
     "text": [
      "K-Medoids Accuracy:\t0.86\n"
     ]
    }
   ],
   "source": [
    "reload(eac)\n",
    "#%%debug\n",
    "partitions_used = partitions_my_rand\n",
    "\n",
    "# generate coassoc\n",
    "prot_mode=\"random\"\n",
    "assoc_mode='full' # prot or full\n",
    "nprots=50 # number of prototypes\n",
    "\n",
    "myEstimator=eac.EAC(nsamples)\n",
    "myEstimator.fit(partitions_used,files=False,assoc_mode=assoc_mode, prot_mode=prot_mode, nprot=nprots,build_only=True)\n",
    "\n",
    "# final clustering with the true number of clusters\n",
    "true_nclusters = np.unique(gt).shape[0]\n",
    "\n",
    "# compute diassociation from co-assoc\n",
    "diassoc=myEstimator._coassoc.max()-myEstimator._coassoc\n",
    "\n",
    "#k-medoids\n",
    "labels,medoids=KMedoids.cluster(diassoc,k=true_nclusters)\n",
    "\n",
    "# Hungarian accuracy\n",
    "acc = determine_ci.HungarianIndex(nsamples=nsamples)\n",
    "acc.score(gt,labels,format='array')\n",
    "\n",
    "print 'K-Medoids Accuracy:\\t',acc.accuracy"
   ]
  },
  {
   "cell_type": "code",
   "execution_count": 80,
   "metadata": {
    "collapsed": true
   },
   "outputs": [],
   "source": [
    "from timeit import default_timer as timer # timing\n",
    "\n",
    "class acc_medoids():\n",
    "    def __init__(self,data,nclusters,gt,timeit=True):\n",
    "        self.data=data\n",
    "        self.nsamples=data.shape[0]\n",
    "        self.nclusters=nclusters\n",
    "        self.gt=gt\n",
    "        self.timeit=timeit\n",
    "        \n",
    "    def run(self):\n",
    "        if self.timeit:\n",
    "            start=timer()\n",
    "            \n",
    "        labels,medoids=KMedoids.cluster(self.data,k=self.nclusters)\n",
    "        \n",
    "        if self.timeit:\n",
    "            self.time=timer()-start\n",
    "        \n",
    "        # Hungarian accuracy\n",
    "        acc = determine_ci.HungarianIndex(nsamples=self.nsamples)\n",
    "        acc.score(self.gt,labels,format='array')\n",
    "\n",
    "        return acc.accuracy\n",
    "    \n",
    "class acc_skl_kmeans():\n",
    "    def __init__(self,data,nclusters,gt,timeit=True):\n",
    "        self.data=data\n",
    "        self.nclusters=nclusters\n",
    "        self.nsamples=data.shape[0]\n",
    "        self.gt=gt\n",
    "        self.timeit=timeit\n",
    "        \n",
    "    def run(self):\n",
    "        if self.timeit:\n",
    "            start=timer()\n",
    "        \n",
    "        # cluster with SKL K-Means\n",
    "        gSKL = KMeans_skl(n_clusters=self.nclusters,n_init=1,init=\"random\")\n",
    "        gSKL.fit(self.data)\n",
    "        \n",
    "        if self.timeit:\n",
    "            self.time=timer()-start\n",
    "\n",
    "        # Hungarian accuracy\n",
    "        sklAcc = determine_ci.HungarianIndex(nsamples=self.nsamples)\n",
    "        sklAcc.score(self.gt,gSKL.labels_,format='array')\n",
    "        \n",
    "        return sklAcc.accuracy\n",
    "\n",
    "def stat_analysis(method,rounds=20):\n",
    "    rAll = np.zeros(rounds)\n",
    "    times=np.zeros(rounds)\n",
    "    for r in xrange(rounds):\n",
    "        rAll[r]=method.run()\n",
    "        times[r]=method.time\n",
    "    return rAll.mean(),rAll.var(),rAll.max(),rAll.min(),times.mean()"
   ]
  },
  {
   "cell_type": "markdown",
   "metadata": {},
   "source": [
    "## Raw diassocs"
   ]
  },
  {
   "cell_type": "code",
   "execution_count": 19,
   "metadata": {
    "collapsed": false
   },
   "outputs": [
    {
     "name": "stdout",
     "output_type": "stream",
     "text": [
      "                \tmean,variance,max,min,time\n",
      "diassoc kmedoids\t(0.84373333333333334, 0.01749539555555556, 0.95333333333333337, 0.50666666666666671, 0.0023538470268249512)\n",
      "diassoc kmeans  \t(0.75833333333333319, 0.021312333333333332, 0.96666666666666667, 0.48666666666666669, 0.0013846898078918458)\n",
      "assoc kmedoids  \t(0.61266666666666658, 0.0042911111111111101, 0.78666666666666663, 0.47333333333333333, 0.00080596923828125)\n",
      "assoc kmeans    \t(0.75053333333333339, 0.024769048888888881, 0.96666666666666667, 0.43333333333333335, 0.0012806081771850586)\n"
     ]
    }
   ],
   "source": [
    "rounds=100\n",
    "print '                \\t','mean,variance,max,min,time'\n",
    "\n",
    "diassoc=myEstimator._coassoc.max()-myEstimator._coassoc\n",
    "x=acc_medoids(diassoc,nclusters=true_nclusters,gt=gt)\n",
    "print 'diassoc kmedoids\\t',stat_analysis(x,rounds=rounds)\n",
    "\n",
    "x2=acc_skl_kmeans(diassoc,nclusters=true_nclusters,gt=gt)\n",
    "print 'diassoc kmeans  \\t',stat_analysis(x2,rounds=rounds)\n",
    "\n",
    "x3=acc_medoids(myEstimator._coassoc,nclusters=true_nclusters,gt=gt)\n",
    "print 'assoc kmedoids  \\t',stat_analysis(x3,rounds=rounds)\n",
    "\n",
    "x4=acc_skl_kmeans(myEstimator._coassoc,nclusters=true_nclusters,gt=gt)\n",
    "print 'assoc kmeans    \\t',stat_analysis(x4,rounds=rounds)"
   ]
  },
  {
   "cell_type": "markdown",
   "metadata": {},
   "source": [
    "## Normalized diassocs"
   ]
  },
  {
   "cell_type": "code",
   "execution_count": 20,
   "metadata": {
    "collapsed": false
   },
   "outputs": [
    {
     "name": "stdout",
     "output_type": "stream",
     "text": [
      "                \tmean,variance,max,min,time\n",
      "diassoc kmedoids\t(0.81646666666666678, 0.020542626666666668, 0.95333333333333337, 0.51333333333333331, 0.002354393005371094)\n",
      "diassoc kmeans  \t(0.73786666666666667, 0.02502033777777778, 0.96666666666666667, 0.43333333333333335, 0.0013648653030395507)\n",
      "assoc kmedoids  \t"
     ]
    },
    {
     "ename": "KeyboardInterrupt",
     "evalue": "",
     "output_type": "error",
     "traceback": [
      "\u001b[1;31m---------------------------------------------------------------------------\u001b[0m",
      "\u001b[1;31mKeyboardInterrupt\u001b[0m                         Traceback (most recent call last)",
      "\u001b[1;32m<ipython-input-20-b8577de65a5d>\u001b[0m in \u001b[0;36m<module>\u001b[1;34m()\u001b[0m\n\u001b[0;32m      9\u001b[0m \u001b[1;33m\u001b[0m\u001b[0m\n\u001b[0;32m     10\u001b[0m \u001b[0mx3\u001b[0m\u001b[1;33m=\u001b[0m\u001b[0macc_medoids\u001b[0m\u001b[1;33m(\u001b[0m\u001b[0mmyEstimator\u001b[0m\u001b[1;33m.\u001b[0m\u001b[0m_coassoc\u001b[0m\u001b[1;33m,\u001b[0m\u001b[0mnclusters\u001b[0m\u001b[1;33m=\u001b[0m\u001b[0mtrue_nclusters\u001b[0m\u001b[1;33m,\u001b[0m\u001b[0mgt\u001b[0m\u001b[1;33m=\u001b[0m\u001b[0mgt\u001b[0m\u001b[1;33m)\u001b[0m\u001b[1;33m\u001b[0m\u001b[0m\n\u001b[1;32m---> 11\u001b[1;33m \u001b[1;32mprint\u001b[0m \u001b[1;34m'assoc kmedoids  \\t'\u001b[0m\u001b[1;33m,\u001b[0m\u001b[0mstat_analysis\u001b[0m\u001b[1;33m(\u001b[0m\u001b[0mx3\u001b[0m\u001b[1;33m,\u001b[0m\u001b[0mrounds\u001b[0m\u001b[1;33m=\u001b[0m\u001b[0mrounds\u001b[0m\u001b[1;33m)\u001b[0m\u001b[1;33m\u001b[0m\u001b[0m\n\u001b[0m\u001b[0;32m     12\u001b[0m \u001b[1;33m\u001b[0m\u001b[0m\n\u001b[0;32m     13\u001b[0m \u001b[0mx4\u001b[0m\u001b[1;33m=\u001b[0m\u001b[0macc_skl_kmeans\u001b[0m\u001b[1;33m(\u001b[0m\u001b[0mmyEstimator\u001b[0m\u001b[1;33m.\u001b[0m\u001b[0m_coassoc\u001b[0m\u001b[1;33m,\u001b[0m\u001b[0mnclusters\u001b[0m\u001b[1;33m=\u001b[0m\u001b[0mtrue_nclusters\u001b[0m\u001b[1;33m,\u001b[0m\u001b[0mgt\u001b[0m\u001b[1;33m=\u001b[0m\u001b[0mgt\u001b[0m\u001b[1;33m)\u001b[0m\u001b[1;33m\u001b[0m\u001b[0m\n",
      "\u001b[1;32m<ipython-input-18-312963f28611>\u001b[0m in \u001b[0;36mstat_analysis\u001b[1;34m(method, rounds)\u001b[0m\n\u001b[0;32m     53\u001b[0m     \u001b[0mtimes\u001b[0m\u001b[1;33m=\u001b[0m\u001b[0mnp\u001b[0m\u001b[1;33m.\u001b[0m\u001b[0mzeros\u001b[0m\u001b[1;33m(\u001b[0m\u001b[0mrounds\u001b[0m\u001b[1;33m)\u001b[0m\u001b[1;33m\u001b[0m\u001b[0m\n\u001b[0;32m     54\u001b[0m     \u001b[1;32mfor\u001b[0m \u001b[0mr\u001b[0m \u001b[1;32min\u001b[0m \u001b[0mxrange\u001b[0m\u001b[1;33m(\u001b[0m\u001b[0mrounds\u001b[0m\u001b[1;33m)\u001b[0m\u001b[1;33m:\u001b[0m\u001b[1;33m\u001b[0m\u001b[0m\n\u001b[1;32m---> 55\u001b[1;33m         \u001b[0mrAll\u001b[0m\u001b[1;33m[\u001b[0m\u001b[0mr\u001b[0m\u001b[1;33m]\u001b[0m\u001b[1;33m=\u001b[0m\u001b[0mmethod\u001b[0m\u001b[1;33m.\u001b[0m\u001b[0mrun\u001b[0m\u001b[1;33m(\u001b[0m\u001b[1;33m)\u001b[0m\u001b[1;33m\u001b[0m\u001b[0m\n\u001b[0m\u001b[0;32m     56\u001b[0m         \u001b[0mtimes\u001b[0m\u001b[1;33m[\u001b[0m\u001b[0mr\u001b[0m\u001b[1;33m]\u001b[0m\u001b[1;33m=\u001b[0m\u001b[0mmethod\u001b[0m\u001b[1;33m.\u001b[0m\u001b[0mtime\u001b[0m\u001b[1;33m\u001b[0m\u001b[0m\n\u001b[0;32m     57\u001b[0m     \u001b[1;32mreturn\u001b[0m \u001b[0mrAll\u001b[0m\u001b[1;33m.\u001b[0m\u001b[0mmean\u001b[0m\u001b[1;33m(\u001b[0m\u001b[1;33m)\u001b[0m\u001b[1;33m,\u001b[0m\u001b[0mrAll\u001b[0m\u001b[1;33m.\u001b[0m\u001b[0mvar\u001b[0m\u001b[1;33m(\u001b[0m\u001b[1;33m)\u001b[0m\u001b[1;33m,\u001b[0m\u001b[0mrAll\u001b[0m\u001b[1;33m.\u001b[0m\u001b[0mmax\u001b[0m\u001b[1;33m(\u001b[0m\u001b[1;33m)\u001b[0m\u001b[1;33m,\u001b[0m\u001b[0mrAll\u001b[0m\u001b[1;33m.\u001b[0m\u001b[0mmin\u001b[0m\u001b[1;33m(\u001b[0m\u001b[1;33m)\u001b[0m\u001b[1;33m,\u001b[0m\u001b[0mtimes\u001b[0m\u001b[1;33m.\u001b[0m\u001b[0mmean\u001b[0m\u001b[1;33m(\u001b[0m\u001b[1;33m)\u001b[0m\u001b[1;33m\u001b[0m\u001b[0m\n",
      "\u001b[1;32m<ipython-input-18-312963f28611>\u001b[0m in \u001b[0;36mrun\u001b[1;34m(self)\u001b[0m\n\u001b[0;32m     20\u001b[0m         \u001b[1;31m# Hungarian accuracy\u001b[0m\u001b[1;33m\u001b[0m\u001b[1;33m\u001b[0m\u001b[0m\n\u001b[0;32m     21\u001b[0m         \u001b[0macc\u001b[0m \u001b[1;33m=\u001b[0m \u001b[0mdetermine_ci\u001b[0m\u001b[1;33m.\u001b[0m\u001b[0mHungarianIndex\u001b[0m\u001b[1;33m(\u001b[0m\u001b[0mnsamples\u001b[0m\u001b[1;33m=\u001b[0m\u001b[0mself\u001b[0m\u001b[1;33m.\u001b[0m\u001b[0mnsamples\u001b[0m\u001b[1;33m)\u001b[0m\u001b[1;33m\u001b[0m\u001b[0m\n\u001b[1;32m---> 22\u001b[1;33m         \u001b[0macc\u001b[0m\u001b[1;33m.\u001b[0m\u001b[0mscore\u001b[0m\u001b[1;33m(\u001b[0m\u001b[0mself\u001b[0m\u001b[1;33m.\u001b[0m\u001b[0mgt\u001b[0m\u001b[1;33m,\u001b[0m\u001b[0mlabels\u001b[0m\u001b[1;33m,\u001b[0m\u001b[0mformat\u001b[0m\u001b[1;33m=\u001b[0m\u001b[1;34m'array'\u001b[0m\u001b[1;33m)\u001b[0m\u001b[1;33m\u001b[0m\u001b[0m\n\u001b[0m\u001b[0;32m     23\u001b[0m \u001b[1;33m\u001b[0m\u001b[0m\n\u001b[0;32m     24\u001b[0m         \u001b[1;32mreturn\u001b[0m \u001b[0macc\u001b[0m\u001b[1;33m.\u001b[0m\u001b[0maccuracy\u001b[0m\u001b[1;33m\u001b[0m\u001b[0m\n",
      "\u001b[1;32m/home/diogoaos/QCThesis/MyML/metrics/accuracy.pyc\u001b[0m in \u001b[0;36mscore\u001b[1;34m(self, clusts1, clusts2, format, format1, format2)\u001b[0m\n\u001b[0;32m    167\u001b[0m                 \u001b[1;31m# cost/profit matrix is automatically padded to be square with this module\u001b[0m\u001b[1;33m\u001b[0m\u001b[1;33m\u001b[0m\u001b[0m\n\u001b[0;32m    168\u001b[0m                 \u001b[0mhungAcc\u001b[0m \u001b[1;33m=\u001b[0m \u001b[0mhungarian\u001b[0m\u001b[1;33m.\u001b[0m\u001b[0mHungarian\u001b[0m\u001b[1;33m(\u001b[0m\u001b[0mmatch_matrix\u001b[0m\u001b[1;33m,\u001b[0m \u001b[0mis_profit_matrix\u001b[0m\u001b[1;33m=\u001b[0m\u001b[0mTrue\u001b[0m\u001b[1;33m)\u001b[0m\u001b[1;33m\u001b[0m\u001b[0m\n\u001b[1;32m--> 169\u001b[1;33m                 \u001b[0mhungAcc\u001b[0m\u001b[1;33m.\u001b[0m\u001b[0mcalculate\u001b[0m\u001b[1;33m(\u001b[0m\u001b[1;33m)\u001b[0m\u001b[1;33m\u001b[0m\u001b[0m\n\u001b[0m\u001b[0;32m    170\u001b[0m \u001b[1;33m\u001b[0m\u001b[0m\n\u001b[0;32m    171\u001b[0m                 \u001b[0mself\u001b[0m\u001b[1;33m.\u001b[0m\u001b[0mmatch_count\u001b[0m \u001b[1;33m=\u001b[0m \u001b[0mhungAcc\u001b[0m\u001b[1;33m.\u001b[0m\u001b[0mget_total_potential\u001b[0m\u001b[1;33m(\u001b[0m\u001b[1;33m)\u001b[0m\u001b[1;33m\u001b[0m\u001b[0m\n",
      "\u001b[1;32m/home/diogoaos/QCThesis/MyML/metrics/hungarian.pyc\u001b[0m in \u001b[0;36mcalculate\u001b[1;34m(self, input_matrix, is_profit_matrix)\u001b[0m\n\u001b[0;32m    120\u001b[0m         \u001b[1;32mwhile\u001b[0m \u001b[0mtotal_covered\u001b[0m \u001b[1;33m<\u001b[0m \u001b[0mself\u001b[0m\u001b[1;33m.\u001b[0m\u001b[0m_size\u001b[0m\u001b[1;33m:\u001b[0m\u001b[1;33m\u001b[0m\u001b[0m\n\u001b[0;32m    121\u001b[0m             \u001b[1;31m# Find minimum number of lines to cover all zeros in the matrix and find total covered rows and columns.\u001b[0m\u001b[1;33m\u001b[0m\u001b[1;33m\u001b[0m\u001b[0m\n\u001b[1;32m--> 122\u001b[1;33m             \u001b[0mcover_zeros\u001b[0m \u001b[1;33m=\u001b[0m \u001b[0mCoverZeros\u001b[0m\u001b[1;33m(\u001b[0m\u001b[0mresult_matrix\u001b[0m\u001b[1;33m)\u001b[0m\u001b[1;33m\u001b[0m\u001b[0m\n\u001b[0m\u001b[0;32m    123\u001b[0m             \u001b[0mcovered_rows\u001b[0m \u001b[1;33m=\u001b[0m \u001b[0mcover_zeros\u001b[0m\u001b[1;33m.\u001b[0m\u001b[0mget_covered_rows\u001b[0m\u001b[1;33m(\u001b[0m\u001b[1;33m)\u001b[0m\u001b[1;33m\u001b[0m\u001b[0m\n\u001b[0;32m    124\u001b[0m             \u001b[0mcovered_columns\u001b[0m \u001b[1;33m=\u001b[0m \u001b[0mcover_zeros\u001b[0m\u001b[1;33m.\u001b[0m\u001b[0mget_covered_columns\u001b[0m\u001b[1;33m(\u001b[0m\u001b[1;33m)\u001b[0m\u001b[1;33m\u001b[0m\u001b[0m\n",
      "\u001b[1;32m/home/diogoaos/QCThesis/MyML/metrics/hungarian.pyc\u001b[0m in \u001b[0;36m__init__\u001b[1;34m(self, matrix)\u001b[0m\n\u001b[0;32m    283\u001b[0m \u001b[1;33m\u001b[0m\u001b[0m\n\u001b[0;32m    284\u001b[0m         \u001b[1;31m# marks rows and columns\u001b[0m\u001b[1;33m\u001b[0m\u001b[1;33m\u001b[0m\u001b[0m\n\u001b[1;32m--> 285\u001b[1;33m         \u001b[0mself\u001b[0m\u001b[1;33m.\u001b[0m\u001b[0m__calculate\u001b[0m\u001b[1;33m(\u001b[0m\u001b[1;33m)\u001b[0m\u001b[1;33m\u001b[0m\u001b[0m\n\u001b[0m\u001b[0;32m    286\u001b[0m \u001b[1;33m\u001b[0m\u001b[0m\n\u001b[0;32m    287\u001b[0m         \u001b[1;31m# Draw lines through all unmarked rows and all marked columns.\u001b[0m\u001b[1;33m\u001b[0m\u001b[1;33m\u001b[0m\u001b[0m\n",
      "\u001b[1;32m/home/diogoaos/QCThesis/MyML/metrics/hungarian.pyc\u001b[0m in \u001b[0;36m__calculate\u001b[1;34m(self)\u001b[0m\n\u001b[0;32m    354\u001b[0m                     \u001b[1;31m# Find a good row to accomodate swap. Find its column pair.\u001b[0m\u001b[1;33m\u001b[0m\u001b[1;33m\u001b[0m\u001b[0m\n\u001b[0;32m    355\u001b[0m                     \u001b[0mchoice_row_index\u001b[0m\u001b[1;33m,\u001b[0m \u001b[0mnew_choice_column_index\u001b[0m \u001b[1;33m=\u001b[0m\u001b[0;31m \u001b[0m\u001b[0;31m\\\u001b[0m\u001b[1;33m\u001b[0m\u001b[0m\n\u001b[1;32m--> 356\u001b[1;33m                         \u001b[0mself\u001b[0m\u001b[1;33m.\u001b[0m\u001b[0m__find_best_choice_row_and_new_column\u001b[0m\u001b[1;33m(\u001b[0m\u001b[0mchoice_column_index\u001b[0m\u001b[1;33m)\u001b[0m\u001b[1;33m\u001b[0m\u001b[0m\n\u001b[0m\u001b[0;32m    357\u001b[0m \u001b[1;33m\u001b[0m\u001b[0m\n\u001b[0;32m    358\u001b[0m                     \u001b[1;31m# Delete old choice.\u001b[0m\u001b[1;33m\u001b[0m\u001b[1;33m\u001b[0m\u001b[0m\n",
      "\u001b[1;32m/home/diogoaos/QCThesis/MyML/metrics/hungarian.pyc\u001b[0m in \u001b[0;36m__find_best_choice_row_and_new_column\u001b[1;34m(self, choice_column_index)\u001b[0m\n\u001b[0;32m    425\u001b[0m             \u001b[0mcolumn_indices\u001b[0m\u001b[1;33m,\u001b[0m \u001b[1;33m=\u001b[0m \u001b[0mnp\u001b[0m\u001b[1;33m.\u001b[0m\u001b[0mwhere\u001b[0m\u001b[1;33m(\u001b[0m\u001b[0mself\u001b[0m\u001b[1;33m.\u001b[0m\u001b[0m_choices\u001b[0m\u001b[1;33m[\u001b[0m\u001b[0mrow_index\u001b[0m\u001b[1;33m]\u001b[0m\u001b[1;33m)\u001b[0m\u001b[1;33m\u001b[0m\u001b[0m\n\u001b[0;32m    426\u001b[0m             \u001b[0mcolumn_index\u001b[0m \u001b[1;33m=\u001b[0m \u001b[0mcolumn_indices\u001b[0m\u001b[1;33m[\u001b[0m\u001b[1;36m0\u001b[0m\u001b[1;33m]\u001b[0m\u001b[1;33m\u001b[0m\u001b[0m\n\u001b[1;32m--> 427\u001b[1;33m             \u001b[1;32mif\u001b[0m \u001b[0mself\u001b[0m\u001b[1;33m.\u001b[0m\u001b[0m__find_row_without_choice\u001b[0m\u001b[1;33m(\u001b[0m\u001b[0mcolumn_index\u001b[0m\u001b[1;33m)\u001b[0m \u001b[1;32mis\u001b[0m \u001b[1;32mnot\u001b[0m \u001b[0mNone\u001b[0m\u001b[1;33m:\u001b[0m\u001b[1;33m\u001b[0m\u001b[0m\n\u001b[0m\u001b[0;32m    428\u001b[0m                 \u001b[1;32mreturn\u001b[0m \u001b[0mrow_index\u001b[0m\u001b[1;33m,\u001b[0m \u001b[0mcolumn_index\u001b[0m\u001b[1;33m\u001b[0m\u001b[0m\n\u001b[0;32m    429\u001b[0m \u001b[1;33m\u001b[0m\u001b[0m\n",
      "\u001b[1;32m/home/diogoaos/QCThesis/MyML/metrics/hungarian.pyc\u001b[0m in \u001b[0;36m__find_row_without_choice\u001b[1;34m(self, choice_column_index)\u001b[0m\n\u001b[0;32m    410\u001b[0m         \u001b[0mrow_indices\u001b[0m\u001b[1;33m,\u001b[0m \u001b[1;33m=\u001b[0m \u001b[0mnp\u001b[0m\u001b[1;33m.\u001b[0m\u001b[0mwhere\u001b[0m\u001b[1;33m(\u001b[0m\u001b[0mself\u001b[0m\u001b[1;33m.\u001b[0m\u001b[0m_zero_locations\u001b[0m\u001b[1;33m[\u001b[0m\u001b[1;33m:\u001b[0m\u001b[1;33m,\u001b[0m \u001b[0mchoice_column_index\u001b[0m\u001b[1;33m]\u001b[0m\u001b[1;33m)\u001b[0m\u001b[1;33m\u001b[0m\u001b[0m\n\u001b[0;32m    411\u001b[0m         \u001b[1;32mfor\u001b[0m \u001b[0mrow_index\u001b[0m \u001b[1;32min\u001b[0m \u001b[0mrow_indices\u001b[0m\u001b[1;33m:\u001b[0m\u001b[1;33m\u001b[0m\u001b[0m\n\u001b[1;32m--> 412\u001b[1;33m             \u001b[1;32mif\u001b[0m \u001b[1;32mnot\u001b[0m \u001b[0mself\u001b[0m\u001b[1;33m.\u001b[0m\u001b[0m_choices\u001b[0m\u001b[1;33m[\u001b[0m\u001b[0mrow_index\u001b[0m\u001b[1;33m]\u001b[0m\u001b[1;33m.\u001b[0m\u001b[0many\u001b[0m\u001b[1;33m(\u001b[0m\u001b[1;33m)\u001b[0m\u001b[1;33m:\u001b[0m\u001b[1;33m\u001b[0m\u001b[0m\n\u001b[0m\u001b[0;32m    413\u001b[0m                 \u001b[1;32mreturn\u001b[0m \u001b[0mrow_index\u001b[0m\u001b[1;33m\u001b[0m\u001b[0m\n\u001b[0;32m    414\u001b[0m \u001b[1;33m\u001b[0m\u001b[0m\n",
      "\u001b[1;31mKeyboardInterrupt\u001b[0m: "
     ]
    }
   ],
   "source": [
    "rounds=100\n",
    "print '                \\t','mean,variance,max,min,time'\n",
    "diassoc=(myEstimator._coassoc.max()-myEstimator._coassoc)/30\n",
    "x=acc_medoids(diassoc,nclusters=true_nclusters,gt=gt)\n",
    "print 'diassoc kmedoids\\t',stat_analysis(x,rounds=rounds)\n",
    "\n",
    "x2=acc_skl_kmeans(diassoc,nclusters=true_nclusters,gt=gt)\n",
    "print 'diassoc kmeans  \\t',stat_analysis(x2,rounds=rounds)\n",
    "\n",
    "x3=acc_medoids(myEstimator._coassoc,nclusters=true_nclusters,gt=gt)\n",
    "print 'assoc kmedoids  \\t',stat_analysis(x3,rounds=rounds)\n",
    "\n",
    "x4=acc_skl_kmeans(myEstimator._coassoc,nclusters=true_nclusters,gt=gt)\n",
    "print 'assoc kmeans    \\t',stat_analysis(x4,rounds=rounds)"
   ]
  },
  {
   "cell_type": "markdown",
   "metadata": {},
   "source": [
    "# EAC Single-Link"
   ]
  },
  {
   "cell_type": "code",
   "execution_count": 328,
   "metadata": {
    "collapsed": false
   },
   "outputs": [
    {
     "name": "stdout",
     "output_type": "stream",
     "text": [
      "EAC SL Accuracy:\t0.84\n"
     ]
    }
   ],
   "source": [
    "reload(eac)\n",
    "#%%debug\n",
    "partitions_used = partitions_my_rand\n",
    "\n",
    "# generate coassoc\n",
    "prot_mode=\"random\"\n",
    "assoc_mode='full' # prot or full\n",
    "nprots=50 # number of prototypes\n",
    "\n",
    "myEstimator=eac.EAC(nsamples)\n",
    "myEstimator.fit(partitions_used,files=False,assoc_mode=assoc_mode, prot_mode=prot_mode, nprot=nprots,build_only=True)\n",
    "\n",
    "myEstimator._apply_linkage()\n",
    "labels = myEstimator._clusterFromLinkage(nclusters=3)\n",
    "\n",
    "# Hungarian accuracy\n",
    "acc = determine_ci.HungarianIndex(nsamples=nsamples)\n",
    "acc.score(gt,labels,format='array')\n",
    "\n",
    "print 'EAC SL Accuracy:\\t',acc.accuracy"
   ]
  }
 ],
 "metadata": {
  "kernelspec": {
   "display_name": "Python 2",
   "language": "python",
   "name": "python2"
  },
  "language_info": {
   "codemirror_mode": {
    "name": "ipython",
    "version": 2
   },
   "file_extension": ".py",
   "mimetype": "text/x-python",
   "name": "python",
   "nbconvert_exporter": "python",
   "pygments_lexer": "ipython2",
   "version": "2.7.10"
  }
 },
 "nbformat": 4,
 "nbformat_minor": 0
}
