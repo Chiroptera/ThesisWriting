{
 "cells": [
  {
   "cell_type": "code",
   "execution_count": 1,
   "metadata": {
    "collapsed": false
   },
   "outputs": [
    {
     "name": "stdout",
     "output_type": "stream",
     "text": [
      "Populating the interactive namespace from numpy and matplotlib\n"
     ]
    }
   ],
   "source": [
    "%pylab inline"
   ]
  },
  {
   "cell_type": "code",
   "execution_count": 2,
   "metadata": {
    "collapsed": false
   },
   "outputs": [
    {
     "name": "stdout",
     "output_type": "stream",
     "text": [
      "/home/chiroptera/workspace/QCThesis/CUDA\n"
     ]
    }
   ],
   "source": [
    "cd /home/chiroptera/workspace/QCThesis/CUDA/"
   ]
  },
  {
   "cell_type": "code",
   "execution_count": 3,
   "metadata": {
    "collapsed": false
   },
   "outputs": [
    {
     "data": {
      "text/plain": [
       "<module 'K_Means3' from 'K_Means3.pyc'>"
      ]
     },
     "execution_count": 3,
     "metadata": {},
     "output_type": "execute_result"
    }
   ],
   "source": [
    "import K_Means3\n",
    "from K_Means3 import *\n",
    "reload(K_Means3)"
   ]
  },
  {
   "cell_type": "code",
   "execution_count": 4,
   "metadata": {
    "collapsed": true
   },
   "outputs": [],
   "source": [
    "from sklearn import datasets # generate gaussian mixture\n",
    "\n",
    "def generateData(n,d,k):\n",
    "    n_int = np.int(n)\n",
    "\n",
    "    # Generate data\n",
    "    data, groundTruth = datasets.make_blobs(n_samples=n_int,n_features=d,centers=k,\n",
    "                                            center_box=(-1000.0,1000.0))\n",
    "    data = data.astype(np.float32)  \n",
    "    \n",
    "    return data,groundTruth"
   ]
  },
  {
   "cell_type": "code",
   "execution_count": 18,
   "metadata": {
    "collapsed": false
   },
   "outputs": [
    {
     "data": {
      "image/png": "[encoded data removed]",
      "text/plain": [
       "<matplotlib.figure.Figure at 0x7fbd3f9fb650>"
      ]
     },
     "metadata": {},
     "output_type": "display_data"
    }
   ],
   "source": [
    "data,labels = generateData(1e2,2,6)\n",
    "\n",
    "for c in np.unique(labels):\n",
    "    c_data = data[np.where(labels==c)[0]]\n",
    "    plt.plot(c_data[:,0],c_data[:,1],'.',label=\"data\")\n",
    "\n",
    "#plt.plot(data[:,0],data[:,1],'.')"
   ]
  },
  {
   "cell_type": "code",
   "execution_count": 15,
   "metadata": {
    "collapsed": false
   },
   "outputs": [
    {
     "data": {
      "text/plain": [
       "array([0, 0, 3, 5, 5, 2, 1, 3, 4, 2, 5, 1, 4, 2, 0, 4, 2, 0, 5, 3, 3, 0, 1,\n",
       "       3, 0, 1, 3, 4, 1, 1, 2, 5, 4, 2, 4, 5, 0, 3, 0, 1, 0, 3, 2, 3, 1, 0,\n",
       "       1, 2, 4, 4, 4, 4, 2, 1, 1, 5, 5, 4, 3, 0, 2, 1, 0, 3, 0, 3, 3, 0, 4,\n",
       "       5, 2, 4, 2, 1, 2, 5, 2, 2, 4, 5, 1, 5, 5, 5, 5, 3, 1, 5, 2, 1, 1, 4,\n",
       "       0, 0, 3, 0, 3, 4, 3, 2])"
      ]
     },
     "execution_count": 15,
     "metadata": {},
     "output_type": "execute_result"
    }
   ],
   "source": [
    "labels"
   ]
  },
  {
   "cell_type": "code",
   "execution_count": 6,
   "metadata": {
    "collapsed": true
   },
   "outputs": [],
   "source": [
    "k=12\n",
    "iters=100"
   ]
  },
  {
   "cell_type": "code",
   "execution_count": 19,
   "metadata": {
    "collapsed": false
   },
   "outputs": [],
   "source": [
    "#%%debug -b K_Means3.py:577n\n",
    "reload(K_Means3)\n",
    "grouperCUDA = K_Means()\n",
    "grouperCUDA._centroid_mode=\"index\"\n",
    "grouperCUDA._cuda_mem=\"manual\"\n",
    "grouperCUDA.fit(data, k, iters=iters, mode=\"cuda\", cuda_mem='manual',tol=1e-4,max_iters=300)"
   ]
  },
  {
   "cell_type": "code",
   "execution_count": 22,
   "metadata": {
    "collapsed": false
   },
   "outputs": [
    {
     "data": {
      "image/png": "[encoded data removed]",
      "text/plain": [
       "<matplotlib.figure.Figure at 0x7fbd2ffd3f50>"
      ]
     },
     "metadata": {},
     "output_type": "display_data"
    }
   ],
   "source": [
    "for c in np.unique(grouperCUDA.labels_):\n",
    "    c_data = data[np.where(grouperCUDA.labels_==c)[0]]\n",
    "    plt.plot(c_data[:,0],c_data[:,1],'.',label=\"data\")"
   ]
  },
  {
   "cell_type": "code",
   "execution_count": 21,
   "metadata": {
    "collapsed": false
   },
   "outputs": [
    {
     "data": {
      "text/plain": [
       "<matplotlib.legend.Legend at 0x7fbd3d72f410>"
      ]
     },
     "execution_count": 21,
     "metadata": {},
     "output_type": "execute_result"
    },
    {
     "data": {
      "image/png": "[encoded data removed]",
      "text/plain": [
       "<matplotlib.figure.Figure at 0x7fbd3d645310>"
      ]
     },
     "metadata": {},
     "output_type": "display_data"
    }
   ],
   "source": [
    "plt.plot(data[:,0],data[:,1],'.',label=\"data\")\n",
    "plt.plot(grouperCUDA.centroids[:,0],grouperCUDA.centroids[:,1],'yx',mew=2,label=\"centroids\")\n",
    "plt.legend(loc=\"best\")"
   ]
  },
  {
   "cell_type": "code",
   "execution_count": 9,
   "metadata": {
    "collapsed": false
   },
   "outputs": [
    {
     "name": "stdout",
     "output_type": "stream",
     "text": [
      "[[ 992.56048584 -376.89523315]\n",
      " [ 774.58990479  712.4800415 ]\n",
      " [ -64.87361145 -448.95233154]\n",
      " [ -66.11804199 -447.28579712]\n",
      " [-460.16653442  -75.57642365]\n",
      " [-460.33969116  -77.38581085]\n",
      " [ 774.84820557  710.67041016]\n",
      " [ 422.27618408 -486.49133301]\n",
      " [ 992.40844727 -378.55599976]\n",
      " [-442.13818359 -521.44940186]]\n",
      "\n",
      "[41 60 80 11 58 88 86 90  2 37 68]\n",
      "[29 65 26 98 25 59 53 99 89]\n",
      "[39 96 70 14 50]\n",
      "[16 38 44 47 33 91 87 57 10 83 22 61]\n",
      "[84 42 67 63 49 15 28]\n",
      "[82 19 64  1 34 62 72 52 27]\n",
      "[12 71  5 94 30 51 69]\n",
      "[ 8 40 85 78 79 13 81  7 20 92 24 56 32 48 97 43  4]\n",
      "[ 3 66 23  6 35  9]\n",
      "[93 95 36 76 75 74 73 17 18 21 55 54 31 46 45 77  0]\n",
      "\n",
      "[9 5 0 8 7 6 8 7 7 8 3 0 6 7 2 4 3 9 9 5 7 9 3 8 7 1 1 5 4 1 6 9 7 3 5 8 9\n",
      " 0 3 2 7 0 4 7 3 9 9 3 7 4 2 6 5 1 9 9 7 3 0 1 0 3 5 4 5 1 8 4 0 6 2 6 5 9\n",
      " 9 9 9 9 7 7 0 7 5 3 4 7 0 3 0 1 0 3 7 9 6 9 2 7 1 1]\n",
      "\n",
      "# centroids:\t\t10\n",
      "# partition clusters:\t10\n",
      "# label clusters:\t10\n",
      "100\n"
     ]
    }
   ],
   "source": [
    "print grouperCUDA.centroids\n",
    "print \"\"\n",
    "for c in grouperCUDA.partition:\n",
    "    print c\n",
    "print \"\"\n",
    "print grouperCUDA.labels_\n",
    "print \"\"\n",
    "print '# centroids:\\t\\t', len(np.unique(grouperCUDA.labels_))\n",
    "print '# partition clusters:\\t',len(grouperCUDA.partition)\n",
    "print '# label clusters:\\t',np.unique(grouperCUDA.labels_).size\n",
    "\n",
    "def countSamples(partition):\n",
    "    count=0\n",
    "    for c in partition:\n",
    "        count += c.size\n",
    "    return count\n",
    "\n",
    "print countSamples(grouperCUDA.partition)"
   ]
  }
 ],
 "metadata": {
  "kernelspec": {
   "display_name": "Python 2",
   "language": "python",
   "name": "python2"
  },
  "language_info": {
   "codemirror_mode": {
    "name": "ipython",
    "version": 2
   },
   "file_extension": ".py",
   "mimetype": "text/x-python",
   "name": "python",
   "nbconvert_exporter": "python",
   "pygments_lexer": "ipython2",
   "version": "2.7.9"
  }
 },
 "nbformat": 4,
 "nbformat_minor": 0
}
