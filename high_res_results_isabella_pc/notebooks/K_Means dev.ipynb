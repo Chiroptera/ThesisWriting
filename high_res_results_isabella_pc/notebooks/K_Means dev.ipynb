{
 "cells": [
  {
   "cell_type": "code",
   "execution_count": 79,
   "metadata": {
    "collapsed": true
   },
   "outputs": [],
   "source": [
    "%qtconsole"
   ]
  },
  {
   "cell_type": "code",
   "execution_count": 2,
   "metadata": {
    "collapsed": false
   },
   "outputs": [],
   "source": [
    "import numpy as np\n",
    "import numbapro\n",
    "from numbapro import *\n",
    "import matplotlib.pyplot as plt\n",
    "import seaborn as snb\n",
    "%matplotlib inline\n",
    "from sklearn.datasets import make_blobs\n",
    "\n",
    "n_samples = 1e5\n",
    "n_centers = 6\n",
    "n_features = 2\n",
    "\n",
    "n_samples = int(n_samples)"
   ]
  },
  {
   "cell_type": "code",
   "execution_count": 22,
   "metadata": {
    "collapsed": false
   },
   "outputs": [
    {
     "data": {
      "image/png": "[encoded data removed]",
      "text/plain": [
       "<matplotlib.figure.Figure at 0x7fb39ea9ffd0>"
      ]
     },
     "metadata": {},
     "output_type": "display_data"
    }
   ],
   "source": [
    "data, gt = make_blobs(n_samples, n_features, n_centers)\n",
    "\n",
    "data = data.astype(np.float32)\n",
    "\n",
    "fig1=plt.figure()\n",
    "for l in np.unique(gt):\n",
    "    l_data = gt == l\n",
    "    plt.plot(data[l_data,0], data[l_data,1], '.')\n",
    "plt.savefig('foo.eps', dpi=None, bbox_inches='tight')"
   ]
  },
  {
   "cell_type": "code",
   "execution_count": 23,
   "metadata": {
    "collapsed": false
   },
   "outputs": [
    {
     "data": {
      "text/plain": [
       "matplotlib.figure.Figure"
      ]
     },
     "execution_count": 23,
     "metadata": {},
     "output_type": "execute_result"
    }
   ],
   "source": [
    "type(fig1)"
   ]
  },
  {
   "cell_type": "code",
   "execution_count": 32,
   "metadata": {
    "collapsed": false
   },
   "outputs": [],
   "source": [
    "import matplotlib.figure"
   ]
  },
  {
   "cell_type": "code",
   "execution_count": 34,
   "metadata": {
    "collapsed": false
   },
   "outputs": [
    {
     "data": {
      "text/plain": [
       "True"
      ]
     },
     "execution_count": 34,
     "metadata": {},
     "output_type": "execute_result"
    }
   ],
   "source": [
    "isinstance(fig1,matplotlib.figure.Figure)"
   ]
  },
  {
   "cell_type": "code",
   "execution_count": 10,
   "metadata": {
    "collapsed": false
   },
   "outputs": [
    {
     "name": "stdout",
     "output_type": "stream",
     "text": [
      "\u001b[0m\u001b[01;34mBoruvkaUMinho\u001b[0m/  \u001b[01;34mEAC_toolbox\u001b[0m/  hello           mst_seq.csv  od_gpu.csv\r\n",
      "colors_gpu.csv  eid_gpu.csv   \u001b[01;34mHorn\u001b[0m/           \u001b[01;34mMyML\u001b[0m/        od_seq.csv\r\n",
      "colors_seq.csv  eid_seq.csv   \u001b[01;34mKruskal SL\u001b[0m/     nef_gpu.csv  README.md\r\n",
      "\u001b[01;34mdatasets\u001b[0m/       \u001b[01;34mexperiments\u001b[0m/  LICENSE         nef_seq.csv  te_gpu.csv\r\n",
      "\u001b[01;34mdeprecated\u001b[0m/     fe_gpu.csv    \u001b[01;34mMatchClusters\u001b[0m/  nod_gpu.csv  te_seq.csv\r\n",
      "dest_gpu.csv    fe_seq.csv    me_gpu.csv      nod_seq.csv  \u001b[34;42mutils\u001b[0m/\r\n",
      "dest_seq.csv    foo.eps       me_seq.csv      \u001b[01;34mnotebooks\u001b[0m/   weight_gpu.csv\r\n",
      "dev_notes.md    \u001b[01;35mfoo.png\u001b[0m       mst_gpu.csv     nv_gpu.csv   weight_seq.csv\r\n",
      "\u001b[01;34mdoc\u001b[0m/            \u001b[01;34mfsknnv1\u001b[0m/      mst_nvprof.log  nv_seq.csv\r\n"
     ]
    }
   ],
   "source": [
    "ls"
   ]
  },
  {
   "cell_type": "code",
   "execution_count": 9,
   "metadata": {
    "collapsed": false
   },
   "outputs": [
    {
     "data": {
      "text/plain": [
       "<matplotlib.figure.Figure at 0x7fb3d804a410>"
      ]
     },
     "metadata": {},
     "output_type": "display_data"
    }
   ],
   "source": [
    "plt.savefig('foo.png', bbox_inches='tight')"
   ]
  },
  {
   "cell_type": "code",
   "execution_count": 67,
   "metadata": {
    "collapsed": true
   },
   "outputs": [],
   "source": [
    "import MyML.cluster.K_Means3 as myKM"
   ]
  },
  {
   "cell_type": "code",
   "execution_count": 80,
   "metadata": {
    "collapsed": false
   },
   "outputs": [
    {
     "data": {
      "text/plain": [
       "<module 'MyML.cluster.K_Means3' from '/home/chiroptera/workspace/QCThesis/MyML/cluster/K_Means3.pyc'>"
      ]
     },
     "execution_count": 80,
     "metadata": {},
     "output_type": "execute_result"
    }
   ],
   "source": [
    "reload(myKM)"
   ]
  },
  {
   "cell_type": "code",
   "execution_count": 76,
   "metadata": {
    "collapsed": true
   },
   "outputs": [],
   "source": [
    "iters = 3\n",
    "n_clusters = 100\n",
    "init_seed = np.random.randint(0, n_samples, n_clusters)\n",
    "init = data[init_seed]\n",
    "\n",
    "estGPU = myKM.K_Means(n_clusters=n_clusters, mode='cuda', cuda_mem=\"manual\", max_iter=iters, init=init)\n",
    "estCPU = myKM.K_Means(n_clusters=n_clusters, mode='numpy', max_iter=iters, init=init)\n",
    "\n",
    "estGPU2 = myKM.K_Means(n_clusters=n_clusters, mode='cuda', cuda_mem=\"manual\", max_iter=iters, init=init)\n",
    "estGPU2._centroid_mode=\"good_numba\"\n",
    "\n",
    "estCPU2 = myKM.K_Means(n_clusters=n_clusters, mode='numpy', max_iter=iters, init=init)\n",
    "estCPU2._centroid_mode=\"good_numba\"\n",
    "\n",
    "estCPU3 = myKM.K_Means(n_clusters=n_clusters, mode='numba', max_iter=iters, init=init)\n",
    "estCPU3._centroid_mode=\"good_numba\"\n",
    "\n",
    "estCPU4 = myKM.K_Means(n_clusters=n_clusters, mode='numba', max_iter=iters, init=init)\n",
    "estCPU4._centroid_mode=\"good\""
   ]
  },
  {
   "cell_type": "code",
   "execution_count": 78,
   "metadata": {
    "collapsed": false
   },
   "outputs": [
    {
     "name": "stdout",
     "output_type": "stream",
     "text": [
      "[28 77 86 ..., 85  5 18]\n",
      "[28 77 86 ..., 85  5 18]\n",
      "[28 77 86 ..., 85  5 18]\n",
      "[28 77 86 ..., 85  5 18]\n",
      "[28 77 86 ..., 85  5 18]\n",
      "[28 77 86 ..., 85  5 18]\n"
     ]
    }
   ],
   "source": [
    "print estGPU.labels_\n",
    "print estGPU2.labels_\n",
    "\n",
    "print estCPU.labels_\n",
    "print estCPU2.labels_\n",
    "print estCPU3.labels_\n",
    "print estCPU4.labels_"
   ]
  },
  {
   "cell_type": "code",
   "execution_count": 77,
   "metadata": {
    "collapsed": false
   },
   "outputs": [
    {
     "name": "stdout",
     "output_type": "stream",
     "text": [
      "CPU times: user 117 ms, sys: 20.2 ms, total: 137 ms\n",
      "Wall time: 136 ms\n",
      "CPU times: user 245 ms, sys: 28.2 ms, total: 273 ms\n",
      "Wall time: 274 ms\n",
      "CPU times: user 1.41 s, sys: 0 ns, total: 1.41 s\n",
      "Wall time: 1.41 s\n",
      "CPU times: user 1.28 s, sys: 2.77 ms, total: 1.28 s\n",
      "Wall time: 1.29 s\n",
      "CPU times: user 249 ms, sys: 0 ns, total: 249 ms\n",
      "Wall time: 249 ms\n",
      "CPU times: user 391 ms, sys: 0 ns, total: 391 ms\n",
      "Wall time: 390 ms\n"
     ]
    }
   ],
   "source": [
    "%time estGPU2.fit(data)\n",
    "%time estGPU.fit(data)\n",
    "%time estCPU.fit(data)\n",
    "%time estCPU2.fit(data)\n",
    "%time estCPU3.fit(data)\n",
    "%time estCPU4.fit(data)"
   ]
  },
  {
   "cell_type": "code",
   "execution_count": 4,
   "metadata": {
    "collapsed": true
   },
   "outputs": [],
   "source": [
    "from numba import jit"
   ]
  },
  {
   "cell_type": "code",
   "execution_count": 91,
   "metadata": {
    "collapsed": true
   },
   "outputs": [],
   "source": [
    "@jit(nopython=True)\n",
    "def test():\n",
    "    a=np.empty((10,10))\n",
    "    b = np.zeros((10,10))\n",
    "    return a, b"
   ]
  }
 ],
 "metadata": {
  "kernelspec": {
   "display_name": "Python 2",
   "language": "python",
   "name": "python2"
  },
  "language_info": {
   "codemirror_mode": {
    "name": "ipython",
    "version": 2
   },
   "file_extension": ".py",
   "mimetype": "text/x-python",
   "name": "python",
   "nbconvert_exporter": "python",
   "pygments_lexer": "ipython2",
   "version": "2.7.10"
  }
 },
 "nbformat": 4,
 "nbformat_minor": 0
}
