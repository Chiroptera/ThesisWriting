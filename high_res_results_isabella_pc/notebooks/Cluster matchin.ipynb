{
 "metadata": {
  "name": ""
 },
 "nbformat": 3,
 "nbformat_minor": 0,
 "worksheets": [
  {
   "cells": [
    {
     "cell_type": "markdown",
     "metadata": {},
     "source": [
      "# Cluster matching testing\n",
      "\n",
      "This notebook will use the consistency index algorithm to try to match clusters from different partitions and their relative accuracy. This is particular useful if one of the partitions is the ground truth and we want to check how well our clustering algorithm managed to identify natural clusters."
     ]
    },
    {
     "cell_type": "code",
     "collapsed": false,
     "input": [
      "                "
     ],
     "language": "python",
     "metadata": {},
     "outputs": []
    }
   ],
   "metadata": {}
  }
 ]
}