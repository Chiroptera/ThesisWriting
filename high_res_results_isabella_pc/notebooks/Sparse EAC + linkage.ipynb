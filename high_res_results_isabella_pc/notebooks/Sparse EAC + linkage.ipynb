{
 "cells": [
  {
   "cell_type": "code",
   "execution_count": 1,
   "metadata": {
    "collapsed": false
   },
   "outputs": [
    {
     "name": "stderr",
     "output_type": "stream",
     "text": [
      "/home/chiroptera/anaconda/lib/python2.7/site-packages/numba/cuda/decorators.py:106: UserWarning: autojit is deprecated and will be removed in a future release. Use jit instead.\n",
      "  warn('autojit is deprecated and will be removed in a future release. Use jit instead.')\n"
     ]
    }
   ],
   "source": [
    "import numpy as np\n",
    "import MyML.EAC.full as myEacFull\n",
    "import MyML.EAC.sparse as myEacSp\n",
    "import MyML.EAC.eac as myEac\n",
    "import MyML.EAC.eac_new as myNewEac\n",
    "import MyML.cluster.K_Means3 as myKM\n",
    "import MyML.helper.partition as myEacPart\n",
    "import MyML.metrics.accuracy as myAcc\n",
    "\n",
    "import matplotlib.pyplot as plt\n",
    "%matplotlib inline"
   ]
  },
  {
   "cell_type": "code",
   "execution_count": null,
   "metadata": {
    "collapsed": true
   },
   "outputs": [],
   "source": [
    "n_samples = 500000\n",
    "max_assocs = 3892 * 3"
   ]
  },
  {
   "cell_type": "code",
   "execution_count": 88,
   "metadata": {
    "collapsed": false
   },
   "outputs": [],
   "source": [
    "a=np.dtype(np.int32)"
   ]
  },
  {
   "cell_type": "code",
   "execution_count": 89,
   "metadata": {
    "collapsed": false
   },
   "outputs": [
    {
     "data": {
      "text/plain": [
       "numpy.int32"
      ]
     },
     "execution_count": 89,
     "metadata": {},
     "output_type": "execute_result"
    }
   ],
   "source": [
    "a."
   ]
  },
  {
   "cell_type": "code",
   "execution_count": 91,
   "metadata": {
    "collapsed": false
   },
   "outputs": [
    {
     "data": {
      "text/plain": [
       "1"
      ]
     },
     "execution_count": 91,
     "metadata": {},
     "output_type": "execute_result"
    }
   ],
   "source": [
    "1*1"
   ]
  },
  {
   "cell_type": "code",
   "execution_count": null,
   "metadata": {
    "collapsed": true
   },
   "outputs": [],
   "source": []
  },
  {
   "cell_type": "code",
   "execution_count": 92,
   "metadata": {
    "collapsed": false
   },
   "outputs": [
    {
     "data": {
      "text/plain": [
       "1173000000"
      ]
     },
     "execution_count": 92,
     "metadata": {},
     "output_type": "execute_result"
    }
   ],
   "source": [
    "1*(max_assocs*n_samples)"
   ]
  },
  {
   "cell_type": "code",
   "execution_count": null,
   "metadata": {
    "collapsed": true
   },
   "outputs": [],
   "source": [
    "np.uint"
   ]
  },
  {
   "cell_type": "code",
   "execution_count": 75,
   "metadata": {
    "collapsed": false
   },
   "outputs": [
    {
     "data": {
      "text/plain": [
       "False"
      ]
     },
     "execution_count": 75,
     "metadata": {},
     "output_type": "execute_result"
    }
   ],
   "source": [
    "n_samples = 250000\n",
    "max_assocs = 1564 * 3\n",
    "\n",
    "n_samples*max_assocs > 2**31"
   ]
  },
  {
   "cell_type": "code",
   "execution_count": 76,
   "metadata": {
    "collapsed": false
   },
   "outputs": [
    {
     "data": {
      "text/plain": [
       "True"
      ]
     },
     "execution_count": 76,
     "metadata": {},
     "output_type": "execute_result"
    }
   ],
   "source": [
    "50000*2000 > 2**15"
   ]
  },
  {
   "cell_type": "code",
   "execution_count": 84,
   "metadata": {
    "collapsed": false
   },
   "outputs": [
    {
     "data": {
      "text/plain": [
       "2000004"
      ]
     },
     "execution_count": 84,
     "metadata": {},
     "output_type": "execute_result"
    }
   ],
   "source": [
    "y.size * y.itemsize"
   ]
  },
  {
   "cell_type": "code",
   "execution_count": 6,
   "metadata": {
    "collapsed": true
   },
   "outputs": [],
   "source": [
    "y=np.arange(500001)"
   ]
  },
  {
   "cell_type": "code",
   "execution_count": 8,
   "metadata": {
    "collapsed": false
   },
   "outputs": [
    {
     "data": {
      "text/plain": [
       "125000250000"
      ]
     },
     "execution_count": 8,
     "metadata": {},
     "output_type": "execute_result"
    }
   ],
   "source": [
    "myEacSp.ex_prefix_sum(y)"
   ]
  },
  {
   "cell_type": "code",
   "execution_count": 41,
   "metadata": {
    "collapsed": false
   },
   "outputs": [
    {
     "data": {
      "text/plain": [
       "array([        0,     11676,     23352, ..., 568823834, 568824417,\n",
       "       568825000], dtype=int32)"
      ]
     },
     "execution_count": 41,
     "metadata": {},
     "output_type": "execute_result"
    }
   ],
   "source": [
    "n_e = 0.05\n",
    "n_s = 1.0\n",
    "val_s = 1.0\n",
    "val_e = 0.05\n",
    "\n",
    "x = np.arange(n_samples, dtype=np.int32)\n",
    "y = np.empty(n_samples + 1, dtype=np.int32)\n",
    "\n",
    "n_s = n_s * n_samples # where to start to cut\n",
    "n_e = n_e * n_samples # where to end the cut\n",
    "val_s = val_s * max_assocs # start value\n",
    "val_e = val_e * max_assocs # end value\n",
    "\n",
    "m = (val_e - val_s) / (n_e - n_s) \n",
    "b = val_s - n_s * m\n",
    "\n",
    "n_s = int(n_s)\n",
    "n_e = int(n_e)\n",
    "val_s = int(val_s)\n",
    "val_e = int(val_e)\n",
    "\n",
    "y[:n_s] = val_s\n",
    "y[n_s:n_e] = m * x[n_s:n_e] + b\n",
    "y[n_e:] = val_e\n",
    "\n",
    "myEacSp.ex_prefix_sum(y)\n",
    "y"
   ]
  },
  {
   "cell_type": "code",
   "execution_count": 55,
   "metadata": {
    "collapsed": true
   },
   "outputs": [],
   "source": [
    "def indptr_linear(n_samples, max_assocs, n_s, n_e, val_s, val_e):\n",
    "    \"\"\"\n",
    "    This function will return the indptr using a linear model for the maximum\n",
    "    number of association of each sample. This function will take O(2*n_samples)\n",
    "    space.\n",
    "    Inputs:\n",
    "        n_samples       : number of samples\n",
    "        max_assocs      : maximum number of associations\n",
    "        n_s             : start of the cut in percentage relative to n_sample\n",
    "        n_e             : end of the cut in percentage relative to n_sample\n",
    "        pc_s            : initial value in percentage relative to max_assocs\n",
    "        pc_e            : end value in percentage relative to max_assocs\n",
    "    Output:\n",
    "        indptr             : array of size n_samples+1 where the i-th element is the \n",
    "                          start index of the i-th sample. The difference between\n",
    "                          any two consecutive elements (i and i+1) is the number\n",
    "                          of associations of the sample with index i.\n",
    "                          The last element is the total number of associations.\n",
    "    \"\"\"\n",
    "\n",
    "    x = np.arange(n_samples, dtype=np.int32)\n",
    "    y = np.empty(n_samples + 1, dtype=np.int32)\n",
    "\n",
    "    n_s = n_s * n_samples # where to start to cut\n",
    "    n_e = n_e * n_samples # where to end the cut\n",
    "    val_s = val_s * max_assocs # start value\n",
    "    val_e = val_e * max_assocs # end value\n",
    "\n",
    "    m = (val_e - val_s) / (n_e - n_s) \n",
    "    b = val_s - n_s * m\n",
    "\n",
    "    n_s = int(n_s)\n",
    "    n_e = int(n_e)\n",
    "    val_s = int(val_s)\n",
    "    val_e = int(val_e)\n",
    "\n",
    "    y[:n_s] = val_s\n",
    "    y[n_s:n_e] = m * x[n_s:n_e] + b\n",
    "    y[n_e:] = val_e\n",
    "\n",
    "    myEacSp.ex_prefix_sum(y)\n",
    "\n",
    "    return y"
   ]
  },
  {
   "cell_type": "code",
   "execution_count": 71,
   "metadata": {
    "collapsed": false
   },
   "outputs": [
    {
     "name": "stdout",
     "output_type": "stream",
     "text": [
      "NOTE: Enter 'c' at the ipdb>  prompt to continue execution.\n",
      "None\n",
      "> \u001b[1;32m<string>\u001b[0m(1)\u001b[0;36m<module>\u001b[1;34m()\u001b[0m\n",
      "\n",
      "ipdb> s\n",
      "None\n",
      "> \u001b[1;32m<string>\u001b[0m(2)\u001b[0;36m<module>\u001b[1;34m()\u001b[0m\n",
      "\n",
      "ipdb> s\n",
      "None\n",
      "> \u001b[1;32m<string>\u001b[0m(3)\u001b[0;36m<module>\u001b[1;34m()\u001b[0m\n",
      "\n",
      "ipdb> s\n",
      "None\n",
      "> \u001b[1;32m<string>\u001b[0m(4)\u001b[0;36m<module>\u001b[1;34m()\u001b[0m\n",
      "\n",
      "ipdb> s\n",
      "None\n",
      "> \u001b[1;32m<string>\u001b[0m(5)\u001b[0;36m<module>\u001b[1;34m()\u001b[0m\n",
      "\n",
      "ipdb> s\n",
      "None\n",
      "> \u001b[1;32m<string>\u001b[0m(6)\u001b[0;36m<module>\u001b[1;34m()\u001b[0m\n",
      "\n",
      "ipdb> \n",
      "--Call--\n",
      "> \u001b[1;32m<ipython-input-55-6f338208ab6d>\u001b[0m(1)\u001b[0;36mindptr_linear\u001b[1;34m()\u001b[0m\n",
      "\u001b[1;32m----> 1 \u001b[1;33m\u001b[1;32mdef\u001b[0m \u001b[0mindptr_linear\u001b[0m\u001b[1;33m(\u001b[0m\u001b[0mn_samples\u001b[0m\u001b[1;33m,\u001b[0m \u001b[0mmax_assocs\u001b[0m\u001b[1;33m,\u001b[0m \u001b[0mn_s\u001b[0m\u001b[1;33m,\u001b[0m \u001b[0mn_e\u001b[0m\u001b[1;33m,\u001b[0m \u001b[0mval_s\u001b[0m\u001b[1;33m,\u001b[0m \u001b[0mval_e\u001b[0m\u001b[1;33m)\u001b[0m\u001b[1;33m:\u001b[0m\u001b[1;33m\u001b[0m\u001b[0m\n",
      "\u001b[0m\u001b[1;32m      2 \u001b[1;33m    \"\"\"\n",
      "\u001b[0m\u001b[1;32m      3 \u001b[1;33m    \u001b[0mThis\u001b[0m \u001b[0mfunction\u001b[0m \u001b[0mwill\u001b[0m \u001b[1;32mreturn\u001b[0m \u001b[0mthe\u001b[0m \u001b[0mindptr\u001b[0m \u001b[0musing\u001b[0m \u001b[0ma\u001b[0m \u001b[0mlinear\u001b[0m \u001b[0mmodel\u001b[0m \u001b[1;32mfor\u001b[0m \u001b[0mthe\u001b[0m \u001b[0mmaximum\u001b[0m\u001b[1;33m\u001b[0m\u001b[0m\n",
      "\u001b[0m\n",
      "ipdb> b 41\n",
      "Breakpoint 1 at <ipython-input-55-6f338208ab6d>:41\n",
      "ipdb> \n",
      "Breakpoint 2 at <ipython-input-55-6f338208ab6d>:41\n",
      "ipdb> c\n",
      "> \u001b[1;32m<ipython-input-55-6f338208ab6d>\u001b[0m(41)\u001b[0;36mindptr_linear\u001b[1;34m()\u001b[0m\n",
      "\u001b[1;32m     40 \u001b[1;33m\u001b[1;33m\u001b[0m\u001b[0m\n",
      "\u001b[0m\u001b[1;31m2\u001b[1;32m--> 41 \u001b[1;33m    \u001b[0mmyEacSp\u001b[0m\u001b[1;33m.\u001b[0m\u001b[0mex_prefix_sum\u001b[0m\u001b[1;33m(\u001b[0m\u001b[0my\u001b[0m\u001b[1;33m)\u001b[0m\u001b[1;33m\u001b[0m\u001b[0m\n",
      "\u001b[0m\u001b[1;32m     42 \u001b[1;33m\u001b[1;33m\u001b[0m\u001b[0m\n",
      "\u001b[0m\n",
      "ipdb> y\n",
      "array([11676, 11676, 11676, ...,   583,   583,   583], dtype=int32)\n",
      "ipdb> y.sum()\n",
      "3203371125\n",
      "ipdb> 2**32\n",
      "4294967296\n",
      "ipdb> 2**32>3203371125\n",
      "True\n",
      "ipdb> 2**32-3203371125\n",
      "1091596171\n",
      "ipdb> 2**16\n",
      "65536\n",
      "ipdb> 2**31\n",
      "2147483648\n",
      "ipdb> 2**31>3203371125\n",
      "False\n",
      "ipdb> q\n"
     ]
    }
   ],
   "source": [
    "%debug indptr_linear(500000, max_assocs, 0.05, 1.0, 1.0, 0.05)"
   ]
  },
  {
   "cell_type": "code",
   "execution_count": null,
   "metadata": {
    "collapsed": true
   },
   "outputs": [],
   "source": [
    "3203371125"
   ]
  },
  {
   "cell_type": "code",
   "execution_count": 64,
   "metadata": {
    "collapsed": false
   },
   "outputs": [
    {
     "data": {
      "text/plain": [
       "array([          0,       11676,       23352, ..., -1091597920,\n",
       "       -1091597337, -1091596754], dtype=int32)"
      ]
     },
     "execution_count": 64,
     "metadata": {},
     "output_type": "execute_result"
    }
   ],
   "source": [
    "myEacSp.indptr_linear(500000, max_assocs, 0.05, 1.0, 1.0, 0.05)"
   ]
  },
  {
   "cell_type": "code",
   "execution_count": 2,
   "metadata": {
    "collapsed": false
   },
   "outputs": [
    {
     "data": {
      "text/plain": [
       "<module 'MyML.EAC.eac_new' from '/home/chiroptera/workspace/QCThesis/MyML/EAC/eac_new.pyc'>"
      ]
     },
     "execution_count": 2,
     "metadata": {},
     "output_type": "execute_result"
    }
   ],
   "source": [
    "reload(myEacFull)\n",
    "reload(myEacPart)\n",
    "reload(myEacSp)\n",
    "reload(myEac)\n",
    "reload(myNewEac)"
   ]
  },
  {
   "cell_type": "code",
   "execution_count": 3,
   "metadata": {
    "collapsed": true
   },
   "outputs": [],
   "source": [
    "# rules for picking kmin kmax \n",
    "def rule1(n):\n",
    "    \"\"\"sqrt\"\"\"\n",
    "    k = [np.sqrt(n)/2, np.sqrt(n)]\n",
    "    k = map(np.ceil,k)\n",
    "    k = map(int, k)\n",
    "    return k\n",
    "\n",
    "def rule2(n):\n",
    "    \"\"\"2sqrt\"\"\"\n",
    "    k =  map(lambda x:x*2,rule1(n))\n",
    "    return k\n",
    "\n",
    "def rule3(n, sk, th):\n",
    "    \"\"\"fixed s/k\"\"\"\n",
    "    k = [n * 1.0 / sk, th * n * 1.0 / sk]\n",
    "    k = map(np.ceil,k)\n",
    "    k = map(int, k)\n",
    "    return k\n",
    "\n",
    "def rule4(n):\n",
    "    \"\"\"sk=sqrt/2,th=30%\"\"\"\n",
    "    return rule3(n, sk1(n), 1.3)\n",
    "\n",
    "def rule5(n):\n",
    "    \"\"\"sk=300,th=30%\"\"\"\n",
    "    return rule3(n,300, 1.3)\n",
    "\n",
    "# rules for picking number of samples per cluster\n",
    "def sk1(n):\n",
    "    \"\"\"sqrt/2\"\"\"\n",
    "    return int(np.sqrt(n) / 2)"
   ]
  },
  {
   "cell_type": "code",
   "execution_count": 4,
   "metadata": {
    "collapsed": false
   },
   "outputs": [
    {
     "name": "stdout",
     "output_type": "stream",
     "text": [
      "CPU times: user 857 µs, sys: 0 ns, total: 857 µs\n",
      "Wall time: 868 µs\n",
      "CPU times: user 3min 7s, sys: 20.1 s, total: 3min 27s\n",
      "Wall time: 3min 28s\n"
     ]
    },
    {
     "data": {
      "image/png": "[encoded data removed]",
      "text/plain": [
       "<matplotlib.figure.Figure at 0x7f87548edc50>"
      ]
     },
     "metadata": {},
     "output_type": "display_data"
    }
   ],
   "source": [
    "from sklearn.datasets import make_blobs\n",
    "\n",
    "n_samples = 100000\n",
    "data,gt = make_blobs(n_samples, centers=4)\n",
    "%time data = data.astype(np.float32)\n",
    "n_clusts = rule4(n_samples)\n",
    "\n",
    "plt.plot(data[:,0], data[:,1], '.')\n",
    "\n",
    "generator = myKM.K_Means()\n",
    "generator._MAX_THREADS_BLOCK = 256\n",
    "%time ensemble = myEacPart.generateEnsemble(data, generator, n_clusts,npartitions=100)"
   ]
  },
  {
   "cell_type": "code",
   "execution_count": 7,
   "metadata": {
    "collapsed": false
   },
   "outputs": [
    {
     "data": {
      "text/plain": [
       "1422"
      ]
     },
     "execution_count": 7,
     "metadata": {},
     "output_type": "execute_result"
    }
   ],
   "source": [
    "myEacSp._compute_max_assocs_from_ensemble(ensemble)*3"
   ]
  },
  {
   "cell_type": "code",
   "execution_count": 8,
   "metadata": {
    "collapsed": false
   },
   "outputs": [
    {
     "name": "stdout",
     "output_type": "stream",
     "text": [
      "CPU times: user 30 µs, sys: 3 µs, total: 33 µs\n",
      "Wall time: 45.1 µs\n",
      "CPU times: user 3min 34s, sys: 1 s, total: 3min 35s\n",
      "Wall time: 3min 36s\n",
      "CPU times: user 0 ns, sys: 0 ns, total: 0 ns\n",
      "Wall time: 26 µs\n",
      "CPU times: user 1min 48s, sys: 718 ms, total: 1min 49s\n",
      "Wall time: 2min 5s\n"
     ]
    }
   ],
   "source": [
    "%time fullEAC = myNewEac.EAC(n_samples, sparse=True, condensed=False, sparse_keep_degree=True)\n",
    "fullEAC.sp_max_assocs_mode = \"constant\"\n",
    "%time fullEAC.buildMatrix(ensemble)\n",
    "\n",
    "%time spEAC = myNewEac.EAC(n_samples, sparse=True, condensed=True, sparse_keep_degree=True)\n",
    "spEAC.sp_max_assocs_mode = \"constant\"\n",
    "%time spEAC.buildMatrix(ensemble)"
   ]
  },
  {
   "cell_type": "code",
   "execution_count": 11,
   "metadata": {
    "collapsed": false
   },
   "outputs": [
    {
     "name": "stderr",
     "output_type": "stream",
     "text": [
      "/home/chiroptera/anaconda/lib/python2.7/site-packages/numexpr/cpuinfo.py:42: UserWarning: [Errno 12] Cannot allocate memory\n",
      "  warnings.warn(str(e), UserWarning, stacklevel=stacklevel)\n"
     ]
    }
   ],
   "source": [
    "import seaborn as sns\n",
    "sns.set_style(\"darkgrid\")"
   ]
  },
  {
   "cell_type": "code",
   "execution_count": 12,
   "metadata": {
    "collapsed": true
   },
   "outputs": [],
   "source": [
    "sns.set_palette(sns.color_palette(\"deep\", 6))"
   ]
  },
  {
   "cell_type": "code",
   "execution_count": 43,
   "metadata": {
    "collapsed": false
   },
   "outputs": [
    {
     "data": {
      "text/plain": [
       "<matplotlib.legend.Legend at 0x7f408a23d8d0>"
      ]
     },
     "execution_count": 43,
     "metadata": {},
     "output_type": "execute_result"
    },
    {
     "data": {
      "image/png": "[encoded data removed]",
      "text/plain": [
       "<matplotlib.figure.Figure at 0x7f408a34fb50>"
      ]
     },
     "metadata": {},
     "output_type": "display_data"
    }
   ],
   "source": [
    "fig1 = plt.figure(figsize=(16,6))\n",
    "\n",
    "ax = fig1.add_subplot(1,2,1)\n",
    "x = np.arange(n_samples)\n",
    "y = spEAC.coassoc.degree[:-1]\n",
    "\n",
    "ax.plot(y,x, 'k', alpha=1)\n",
    "ax.fill_between(y,0,x,color='k', alpha=1)\n",
    "ax.plot([spEAC.sp_max_assocs, spEAC.sp_max_assocs], [0, n_samples], 'r', label=\"max. number of assocs.\")\n",
    "ax.set_title(\"Number of associations per sample on a condensed matrix\")\n",
    "ax.set_ylabel(\"Sample no.\")\n",
    "ax.set_xlabel(\"Number of associations\")\n",
    "plt.gca().invert_yaxis()\n",
    "ax.legend(loc=\"best\")\n",
    "\n",
    "ax = fig1.add_subplot(1,2,2)\n",
    "x = np.arange(n_samples)\n",
    "y = fullEAC.coassoc.degree[:-1]\n",
    "\n",
    "ax.plot(y,x, 'k', alpha=1)\n",
    "ax.fill_between(y,0,x,color='k', alpha=1)\n",
    "ax.plot([spEAC.sp_max_assocs, spEAC.sp_max_assocs], [0, n_samples], 'r', label=\"max. number of assocs.\")\n",
    "ax.set_title(\"Number of associations per sample on a condensed matrix\")\n",
    "ax.set_ylabel(\"Sample no.\")\n",
    "ax.set_xlabel(\"Number of associations\")\n",
    "plt.gca().invert_yaxis()\n",
    "ax.legend(loc=\"best\")"
   ]
  },
  {
   "cell_type": "code",
   "execution_count": 45,
   "metadata": {
    "collapsed": false
   },
   "outputs": [
    {
     "data": {
      "text/plain": [
       "<matplotlib.legend.Legend at 0x7f0a459edb10>"
      ]
     },
     "execution_count": 45,
     "metadata": {},
     "output_type": "execute_result"
    },
    {
     "data": {
      "image/png": "[encoded data removed]",
      "text/plain": [
       "<matplotlib.figure.Figure at 0x7f0a5b65a150>"
      ]
     },
     "metadata": {},
     "output_type": "display_data"
    }
   ],
   "source": [
    "fig_cond = plt.figure()\n",
    "x = np.arange(n_samples)\n",
    "y = spEAC.coassoc.degree[:-1]\n",
    "\n",
    "plt.barh(x, y)\n",
    "plt.plot([spEAC.sp_max_assocs, spEAC.sp_max_assocs], [0, n_samples], 'r', label=\"max. number of assocs.\")\n",
    "plt.title(\"Number of associations per sample on a condensed matrix\")\n",
    "plt.ylabel(\"Sample no.\")\n",
    "plt.xlabel(\"Number of associations\")\n",
    "plt.gca().invert_yaxis()\n",
    "plt.legend(loc=\"best\")"
   ]
  },
  {
   "cell_type": "code",
   "execution_count": 13,
   "metadata": {
    "collapsed": true
   },
   "outputs": [],
   "source": [
    "from MyML.helper.plotting import save_fig"
   ]
  },
  {
   "cell_type": "code",
   "execution_count": 47,
   "metadata": {
    "collapsed": false
   },
   "outputs": [],
   "source": [
    "save_fig(fig_cond, \"/home/chiroptera/eac_csr_cond_degree\")\n",
    "save_fig(fig_full, \"/home/chiroptera/eac_csr_full_degree\")"
   ]
  },
  {
   "cell_type": "code",
   "execution_count": 46,
   "metadata": {
    "collapsed": false
   },
   "outputs": [
    {
     "data": {
      "text/plain": [
       "<matplotlib.legend.Legend at 0x7f0a3ec75990>"
      ]
     },
     "execution_count": 46,
     "metadata": {},
     "output_type": "execute_result"
    },
    {
     "data": {
      "image/png": "[encoded data removed]",
      "text/plain": [
       "<matplotlib.figure.Figure at 0x7f0a4d60a990>"
      ]
     },
     "metadata": {},
     "output_type": "display_data"
    }
   ],
   "source": [
    "fig_full = plt.figure()\n",
    "x = np.arange(n_samples)\n",
    "y = fullEAC.coassoc.degree[:-1]\n",
    "\n",
    "plt.barh(x, y)\n",
    "plt.plot([spEAC.sp_max_assocs, spEAC.sp_max_assocs], [0, n_samples], 'r', label=\"max. number of assocs.\")\n",
    "plt.title(\"Number of associations per sample on a complete matrix\")\n",
    "plt.ylabel(\"Sample no.\")\n",
    "plt.xlabel(\"Number of associations\")\n",
    "plt.gca().invert_yaxis()\n",
    "plt.legend(loc=\"best\")"
   ]
  },
  {
   "cell_type": "code",
   "execution_count": 7,
   "metadata": {
    "collapsed": false
   },
   "outputs": [
    {
     "name": "stdout",
     "output_type": "stream",
     "text": [
      "CPU times: user 419 ms, sys: 0 ns, total: 419 ms\n",
      "Wall time: 419 ms\n",
      "CPU times: user 300 ms, sys: 12 ms, total: 312 ms\n",
      "Wall time: 311 ms\n"
     ]
    },
    {
     "data": {
      "text/plain": [
       "array([0, 1, 2, ..., 3, 3, 2], dtype=int32)"
      ]
     },
     "execution_count": 7,
     "metadata": {},
     "output_type": "execute_result"
    }
   ],
   "source": [
    "%time fullEAC.finalClustering(n_clusters=0) \n",
    "%time spEAC.finalClustering(n_clusters=0)\n",
    "# b MyML/EAC/eac_new.py:606\n",
    "# b MyML/EAC/eac_new.py:556"
   ]
  },
  {
   "cell_type": "code",
   "execution_count": 100,
   "metadata": {
    "collapsed": false
   },
   "outputs": [
    {
     "name": "stdout",
     "output_type": "stream",
     "text": [
      "full bincount [1250 1250 2500]\n",
      "full bincount [1250 2500 1250]\n"
     ]
    },
    {
     "data": {
      "image/png": "[encoded data removed]",
      "text/plain": [
       "<matplotlib.figure.Figure at 0x7fa5433bb050>"
      ]
     },
     "metadata": {},
     "output_type": "display_data"
    }
   ],
   "source": [
    "histFig = plt.figure(figsize=(16,6))\n",
    "\n",
    "ax = histFig.add_subplot(1,2,1)\n",
    "ax.hist(fullEAC.labels,bins=fullEAC.n_fclusts)\n",
    "ax.set_title(\"Full coassoc\")\n",
    "print \"full bincount\", np.bincount(fullEAC.labels)\n",
    "\n",
    "ax = histFig.add_subplot(1,2,2)\n",
    "ax.hist(spEAC.labels,bins=spEAC.n_fclusts)\n",
    "ax.set_title(\"Sparse coassoc\")\n",
    "print \"full bincount\", np.bincount(spEAC.labels)"
   ]
  },
  {
   "cell_type": "code",
   "execution_count": 101,
   "metadata": {
    "collapsed": false
   },
   "outputs": [
    {
     "data": {
      "text/plain": [
       "0.75"
      ]
     },
     "execution_count": 101,
     "metadata": {},
     "output_type": "execute_result"
    }
   ],
   "source": [
    "acc = myAcc.HungarianIndex(n_samples)\n",
    "acc.score(gt, fullEAC.labels)\n",
    "acc.accuracy"
   ]
  },
  {
   "cell_type": "code",
   "execution_count": 102,
   "metadata": {
    "collapsed": false
   },
   "outputs": [
    {
     "data": {
      "text/plain": [
       "0.0"
      ]
     },
     "execution_count": 102,
     "metadata": {},
     "output_type": "execute_result"
    }
   ],
   "source": [
    "acc = myAcc.HungarianIndex(n_samples)\n",
    "acc.score(gt, spEAC.labels)\n",
    "acc.accuracy"
   ]
  },
  {
   "cell_type": "code",
   "execution_count": 103,
   "metadata": {
    "collapsed": false
   },
   "outputs": [
    {
     "data": {
      "text/plain": [
       "0.75"
      ]
     },
     "execution_count": 103,
     "metadata": {},
     "output_type": "execute_result"
    }
   ],
   "source": [
    "acc2 = myAcc.ConsistencyIndex(N=n_samples)\n",
    "acc2.score(gt, fullEAC.labels)"
   ]
  },
  {
   "cell_type": "code",
   "execution_count": 104,
   "metadata": {
    "collapsed": false
   },
   "outputs": [
    {
     "data": {
      "text/plain": [
       "0.75"
      ]
     },
     "execution_count": 104,
     "metadata": {},
     "output_type": "execute_result"
    }
   ],
   "source": [
    "acc2 = myAcc.ConsistencyIndex(N=n_samples)\n",
    "acc2.score(gt, spEAC.labels)"
   ]
  },
  {
   "cell_type": "code",
   "execution_count": 36,
   "metadata": {
    "collapsed": false
   },
   "outputs": [
    {
     "data": {
      "image/png": "[encoded data removed]",
      "text/plain": [
       "<matplotlib.figure.Figure at 0x7fa5805bdc50>"
      ]
     },
     "metadata": {},
     "output_type": "display_data"
    }
   ],
   "source": [
    "for c in xrange(fullEAC.n_fclusts):\n",
    "    c_idx = fullEAC.labels == c\n",
    "    plt.plot(data[c_idx,0], data[c_idx,1], '.')"
   ]
  },
  {
   "cell_type": "code",
   "execution_count": 37,
   "metadata": {
    "collapsed": false
   },
   "outputs": [
    {
     "data": {
      "image/png": "[encoded data removed]",
      "text/plain": [
       "<matplotlib.figure.Figure at 0x7fa54477cb90>"
      ]
     },
     "metadata": {},
     "output_type": "display_data"
    }
   ],
   "source": [
    "for c in xrange(spEAC.n_fclusts):\n",
    "    c_idx = spEAC.labels == c\n",
    "    plt.plot(data[c_idx,0], data[c_idx,1], '.')"
   ]
  },
  {
   "cell_type": "code",
   "execution_count": 20,
   "metadata": {
    "collapsed": false
   },
   "outputs": [
    {
     "data": {
      "text/plain": [
       "True"
      ]
     },
     "execution_count": 20,
     "metadata": {},
     "output_type": "execute_result"
    }
   ],
   "source": [
    "(fullEAC.coassoc.todense() == (spEAC.coassoc.todense() + spEAC.coassoc.todense().T)).all()"
   ]
  },
  {
   "cell_type": "code",
   "execution_count": 14,
   "metadata": {
    "collapsed": false,
    "scrolled": true
   },
   "outputs": [
    {
     "name": "stdout",
     "output_type": "stream",
     "text": [
      "CPU times: user 1.57 ms, sys: 70 µs, total: 1.64 ms\n",
      "Wall time: 872 µs\n",
      "CPU times: user 274 ms, sys: 3.84 ms, total: 278 ms\n",
      "Wall time: 279 ms\n"
     ]
    }
   ],
   "source": [
    "%time full = myEacFull.EAC_FULL(n_samples, condensed=False)\n",
    "%time full.update_ensemble(ensemble)"
   ]
  },
  {
   "cell_type": "code",
   "execution_count": 15,
   "metadata": {
    "collapsed": false
   },
   "outputs": [
    {
     "name": "stdout",
     "output_type": "stream",
     "text": [
      "CPU times: user 683 µs, sys: 30 µs, total: 713 µs\n",
      "Wall time: 472 µs\n",
      "CPU times: user 69.2 ms, sys: 23 µs, total: 69.2 ms\n",
      "Wall time: 67.1 ms\n"
     ]
    }
   ],
   "source": [
    "%time cfull = myEacFull.EAC_FULL(n_samples, condensed=True)\n",
    "%time cfull.update_ensemble(ensemble)"
   ]
  },
  {
   "cell_type": "code",
   "execution_count": 16,
   "metadata": {
    "collapsed": false
   },
   "outputs": [
    {
     "data": {
      "text/plain": [
       "True"
      ]
     },
     "execution_count": 16,
     "metadata": {},
     "output_type": "execute_result"
    }
   ],
   "source": [
    "(full.coassoc == cfull.todense() + ).all()"
   ]
  },
  {
   "cell_type": "code",
   "execution_count": 17,
   "metadata": {
    "collapsed": false
   },
   "outputs": [
    {
     "name": "stdout",
     "output_type": "stream",
     "text": [
      "CPU times: user 141 µs, sys: 6 µs, total: 147 µs\n",
      "Wall time: 131 µs\n",
      "CPU times: user 3.28 s, sys: 11.3 ms, total: 3.29 s\n",
      "Wall time: 3.28 s\n"
     ]
    }
   ],
   "source": [
    "max_assocs = myEacSp._compute_max_assocs_from_ensemble(ensemble) * 3\n",
    "%time sp = myEacSp.EAC_CSR(n_samples, max_assocs, condensed=False, sort_mode=\"numpy\")\n",
    "%time sp.update_ensemble(ensemble)"
   ]
  },
  {
   "cell_type": "code",
   "execution_count": 18,
   "metadata": {
    "collapsed": false
   },
   "outputs": [
    {
     "name": "stdout",
     "output_type": "stream",
     "text": [
      "CPU times: user 146 µs, sys: 6 µs, total: 152 µs\n",
      "Wall time: 136 µs\n",
      "CPU times: user 1.24 s, sys: 16.2 ms, total: 1.26 s\n",
      "Wall time: 1.24 s\n"
     ]
    }
   ],
   "source": [
    "max_assocs = myEacSp._compute_max_assocs_from_ensemble(ensemble) * 3\n",
    "%time sp2 = myEacSp.EAC_CSR(n_samples, max_assocs, condensed=False, sort_mode=\"surgical\")\n",
    "%time sp2.update_ensemble(ensemble)"
   ]
  },
  {
   "cell_type": "code",
   "execution_count": 21,
   "metadata": {
    "collapsed": false
   },
   "outputs": [
    {
     "name": "stdout",
     "output_type": "stream",
     "text": [
      "True\n",
      "True\n"
     ]
    }
   ],
   "source": [
    "sp._condense(keep_degree=True)\n",
    "sp2._condense(keep_degree=True)\n",
    "print (sp.todense() == sp2.todense()).all()\n",
    "print (sp.todense() == full.coassoc).all()"
   ]
  },
  {
   "cell_type": "code",
   "execution_count": 22,
   "metadata": {
    "collapsed": false
   },
   "outputs": [
    {
     "name": "stdout",
     "output_type": "stream",
     "text": [
      "CPU times: user 269 µs, sys: 10 µs, total: 279 µs\n",
      "Wall time: 223 µs\n",
      "CPU times: user 2.31 s, sys: 3.76 ms, total: 2.31 s\n",
      "Wall time: 2.3 s\n"
     ]
    }
   ],
   "source": [
    "max_assocs = myEacSp._compute_max_assocs_from_ensemble(ensemble) * 3\n",
    "%time csp = myEacSp.EAC_CSR(n_samples, max_assocs, condensed=True, sort_mode=\"numpy\")\n",
    "%time csp.update_ensemble(ensemble)"
   ]
  },
  {
   "cell_type": "code",
   "execution_count": 23,
   "metadata": {
    "collapsed": false
   },
   "outputs": [
    {
     "name": "stdout",
     "output_type": "stream",
     "text": [
      "CPU times: user 140 µs, sys: 4 µs, total: 144 µs\n",
      "Wall time: 131 µs\n",
      "CPU times: user 513 ms, sys: 8.18 ms, total: 521 ms\n",
      "Wall time: 510 ms\n"
     ]
    }
   ],
   "source": [
    "max_assocs = myEacSp._compute_max_assocs_from_ensemble(ensemble) * 3\n",
    "%time csp2 = myEacSp.EAC_CSR(n_samples, max_assocs, condensed=True, sort_mode=\"surgical\")\n",
    "%time csp2.update_ensemble(ensemble)"
   ]
  },
  {
   "cell_type": "code",
   "execution_count": 24,
   "metadata": {
    "collapsed": false
   },
   "outputs": [
    {
     "name": "stdout",
     "output_type": "stream",
     "text": [
      "condensed numpy True\n",
      "condensed surgical True\n"
     ]
    }
   ],
   "source": [
    "csp._condense(keep_degree=True)\n",
    "csp2._condense(keep_degree=True)\n",
    "\n",
    "print \"condensed numpy\", ((csp.todense() + csp.todense().T) == full.coassoc).all()\n",
    "print \"condensed surgical\", ((csp2.todense() + csp2.todense().T) == full.coassoc).all()"
   ]
  },
  {
   "cell_type": "code",
   "execution_count": 25,
   "metadata": {
    "collapsed": false
   },
   "outputs": [
    {
     "name": "stdout",
     "output_type": "stream",
     "text": [
      "CPU times: user 0 ns, sys: 3.91 ms, total: 3.91 ms\n",
      "Wall time: 270 µs\n",
      "CPU times: user 455 ms, sys: 4.12 ms, total: 459 ms\n",
      "Wall time: 455 ms\n"
     ]
    }
   ],
   "source": [
    "max_assocs = myEacSp._compute_max_assocs_from_ensemble(ensemble) * 3\n",
    "%time csp2 = myEacSp.EAC_CSR(n_samples, max_assocs, max_assocs_type='linear', condensed=True, sort_mode=\"surgical\")\n",
    "%time csp2.update_ensemble(ensemble)"
   ]
  },
  {
   "cell_type": "code",
   "execution_count": 26,
   "metadata": {
    "collapsed": true
   },
   "outputs": [],
   "source": [
    "csp2._condense(keep_degree=True)"
   ]
  },
  {
   "cell_type": "code",
   "execution_count": 27,
   "metadata": {
    "collapsed": false
   },
   "outputs": [
    {
     "name": "stdout",
     "output_type": "stream",
     "text": [
      "condensed surgical True\n"
     ]
    }
   ],
   "source": [
    "print \"condensed surgical\", ((csp2.todense() + csp2.todense().T) == full.coassoc).all()"
   ]
  },
  {
   "cell_type": "markdown",
   "metadata": {},
   "source": [
    "# Linkage sparse"
   ]
  },
  {
   "cell_type": "code",
   "execution_count": 4,
   "metadata": {
    "collapsed": false
   },
   "outputs": [],
   "source": [
    "import scipy.sparse.csgraph as csgraph"
   ]
  },
  {
   "cell_type": "code",
   "execution_count": 65,
   "metadata": {
    "collapsed": false
   },
   "outputs": [
    {
     "data": {
      "text/plain": [
       "<module 'scipy.sparse.csgraph' from '/home/chiroptera/anaconda/lib/python2.7/site-packages/scipy/sparse/csgraph/__init__.pyc'>"
      ]
     },
     "execution_count": 65,
     "metadata": {},
     "output_type": "execute_result"
    }
   ],
   "source": [
    "reload(csgraph)"
   ]
  },
  {
   "cell_type": "code",
   "execution_count": 202,
   "metadata": {
    "collapsed": false
   },
   "outputs": [
    {
     "data": {
      "text/plain": [
       "array([   0,    2,    4, ..., 1997, 1997, 1997], dtype=int32)"
      ]
     },
     "execution_count": 202,
     "metadata": {},
     "output_type": "execute_result"
    }
   ],
   "source": [
    "mst.indptr"
   ]
  },
  {
   "cell_type": "code",
   "execution_count": 54,
   "metadata": {
    "collapsed": true
   },
   "outputs": [],
   "source": [
    "from scipy.sparse.csgraph._validation import validate_graph"
   ]
  },
  {
   "cell_type": "code",
   "execution_count": 63,
   "metadata": {
    "collapsed": true
   },
   "outputs": [],
   "source": [
    "c2 = validate_graph(coassoc, True, dtype=coassoc.dtype, dense_output=False)"
   ]
  },
  {
   "cell_type": "code",
   "execution_count": 64,
   "metadata": {
    "collapsed": false
   },
   "outputs": [
    {
     "data": {
      "text/plain": [
       "<5000x5000 sparse matrix of type '<type 'numpy.float64'>'\n",
       "\twith 2091859 stored elements in Compressed Sparse Row format>"
      ]
     },
     "execution_count": 64,
     "metadata": {},
     "output_type": "execute_result"
    }
   ],
   "source": [
    "c2"
   ]
  },
  {
   "cell_type": "code",
   "execution_count": 13,
   "metadata": {
    "collapsed": false
   },
   "outputs": [],
   "source": [
    "import scipy_numba.sparse.csgraph._min_spanning_tree as myMST"
   ]
  },
  {
   "cell_type": "code",
   "execution_count": 53,
   "metadata": {
    "collapsed": false
   },
   "outputs": [
    {
     "ename": "ImportError",
     "evalue": "No module named _tools",
     "output_type": "error",
     "traceback": [
      "\u001b[1;31m---------------------------------------------------------------------------\u001b[0m",
      "\u001b[1;31mImportError\u001b[0m                               Traceback (most recent call last)",
      "\u001b[1;32m<ipython-input-53-1145d448f1ad>\u001b[0m in \u001b[0;36m<module>\u001b[1;34m()\u001b[0m\n\u001b[1;32m----> 1\u001b[1;33m \u001b[0mreload\u001b[0m\u001b[1;33m(\u001b[0m\u001b[0mmyMST\u001b[0m\u001b[1;33m)\u001b[0m\u001b[1;33m\u001b[0m\u001b[0m\n\u001b[0m",
      "\u001b[1;32m/home/chiroptera/workspace/scipy_numba/scipy_numba/sparse/csgraph/_min_spanning_tree.py\u001b[0m in \u001b[0;36m<module>\u001b[1;34m()\u001b[0m\n\u001b[0;32m     10\u001b[0m \u001b[1;32mfrom\u001b[0m \u001b[0mscipy\u001b[0m\u001b[1;33m.\u001b[0m\u001b[0msparse\u001b[0m \u001b[1;32mimport\u001b[0m \u001b[0mcsr_matrix\u001b[0m\u001b[1;33m,\u001b[0m \u001b[0misspmatrix_csc\u001b[0m\u001b[1;33m,\u001b[0m \u001b[0misspmatrix\u001b[0m\u001b[1;33m\u001b[0m\u001b[0m\n\u001b[0;32m     11\u001b[0m \u001b[1;32mfrom\u001b[0m \u001b[0mscipy\u001b[0m\u001b[1;33m.\u001b[0m\u001b[0msparse\u001b[0m\u001b[1;33m.\u001b[0m\u001b[0mcsgraph\u001b[0m\u001b[1;33m.\u001b[0m\u001b[0m_validation\u001b[0m \u001b[1;32mimport\u001b[0m \u001b[0mvalidate_graph\u001b[0m\u001b[1;33m\u001b[0m\u001b[0m\n\u001b[1;32m---> 12\u001b[1;33m \u001b[1;32mfrom\u001b[0m \u001b[0mscipy_numba\u001b[0m\u001b[1;33m.\u001b[0m\u001b[0msparse\u001b[0m\u001b[1;33m.\u001b[0m\u001b[0mcsgraph\u001b[0m\u001b[1;33m.\u001b[0m\u001b[0m_validation\u001b[0m \u001b[1;32mimport\u001b[0m \u001b[0mvalidate_graph\u001b[0m\u001b[1;33m\u001b[0m\u001b[0m\n\u001b[0m\u001b[0;32m     13\u001b[0m \u001b[1;33m\u001b[0m\u001b[0m\n\u001b[0;32m     14\u001b[0m \u001b[1;31m#include 'parameters.pxi'\u001b[0m\u001b[1;33m\u001b[0m\u001b[1;33m\u001b[0m\u001b[0m\n",
      "\u001b[1;32m/home/chiroptera/workspace/scipy_numba/scipy_numba/sparse/csgraph/_validation.py\u001b[0m in \u001b[0;36m<module>\u001b[1;34m()\u001b[0m\n\u001b[0;32m      3\u001b[0m \u001b[1;32mimport\u001b[0m \u001b[0mnumpy\u001b[0m \u001b[1;32mas\u001b[0m \u001b[0mnp\u001b[0m\u001b[1;33m\u001b[0m\u001b[0m\n\u001b[0;32m      4\u001b[0m \u001b[1;32mfrom\u001b[0m \u001b[0mscipy\u001b[0m\u001b[1;33m.\u001b[0m\u001b[0msparse\u001b[0m \u001b[1;32mimport\u001b[0m \u001b[0mcsr_matrix\u001b[0m\u001b[1;33m,\u001b[0m \u001b[0misspmatrix\u001b[0m\u001b[1;33m,\u001b[0m \u001b[0misspmatrix_csc\u001b[0m\u001b[1;33m\u001b[0m\u001b[0m\n\u001b[1;32m----> 5\u001b[1;33m \u001b[1;32mfrom\u001b[0m \u001b[1;33m.\u001b[0m\u001b[0m_tools\u001b[0m \u001b[1;32mimport\u001b[0m \u001b[0mcsgraph_to_dense\u001b[0m\u001b[1;33m,\u001b[0m \u001b[0mcsgraph_from_dense\u001b[0m\u001b[1;33m,\u001b[0m\u001b[0;31m\\\u001b[0m\u001b[1;33m\u001b[0m\u001b[0m\n\u001b[0m\u001b[0;32m      6\u001b[0m     \u001b[0mcsgraph_masked_from_dense\u001b[0m\u001b[1;33m,\u001b[0m \u001b[0mcsgraph_from_masked\u001b[0m\u001b[1;33m\u001b[0m\u001b[0m\n\u001b[0;32m      7\u001b[0m \u001b[1;33m\u001b[0m\u001b[0m\n",
      "\u001b[1;31mImportError\u001b[0m: No module named _tools"
     ]
    }
   ],
   "source": [
    "reload(myMST)"
   ]
  },
  {
   "cell_type": "code",
   "execution_count": 23,
   "metadata": {
    "collapsed": false
   },
   "outputs": [
    {
     "name": "stdout",
     "output_type": "stream",
     "text": [
      "CPU times: user 340 ms, sys: 7.97 ms, total: 348 ms\n",
      "Wall time: 347 ms\n"
     ]
    }
   ],
   "source": [
    "coassoc2 = spEAC.coassoc.csr.copy()\n",
    "coassoc2.data = coassoc2.data.max() + 1 - coassoc2.data\n",
    "\n",
    "%time mst2 = myMST.minimum_spanning_tree(coassoc2)"
   ]
  },
  {
   "cell_type": "code",
   "execution_count": 39,
   "metadata": {
    "collapsed": true
   },
   "outputs": [],
   "source": [
    "coassoc = spEAC.coassoc.csr.copy()\n",
    "coassoc.data = coassoc.data.max() + 1 - coassoc.data"
   ]
  },
  {
   "cell_type": "code",
   "execution_count": 24,
   "metadata": {
    "collapsed": false
   },
   "outputs": [
    {
     "name": "stdout",
     "output_type": "stream",
     "text": [
      "CPU times: user 381 ms, sys: 7.59 ms, total: 389 ms\n",
      "Wall time: 389 ms\n"
     ]
    }
   ],
   "source": [
    "coassoc = spEAC.coassoc.csr.copy()\n",
    "coassoc.data = coassoc.data.max() + 1 - coassoc.data\n",
    "\n",
    "%time mst = csgraph._min_spanning_tree.minimum_spanning_tree(coassoc)"
   ]
  },
  {
   "cell_type": "code",
   "execution_count": 27,
   "metadata": {
    "collapsed": false
   },
   "outputs": [],
   "source": [
    "mst = mst.astype(mst2.dtype)"
   ]
  },
  {
   "cell_type": "code",
   "execution_count": 42,
   "metadata": {
    "collapsed": false
   },
   "outputs": [],
   "source": [
    "coassoc_val = csgraph._validation.validate_graph(coassoc, True, dense_output=False)"
   ]
  },
  {
   "cell_type": "code",
   "execution_count": 52,
   "metadata": {
    "collapsed": false
   },
   "outputs": [
    {
     "data": {
      "text/plain": [
       "array([  60.,   99.,  100., ...,  100.,   86.,   81.])"
      ]
     },
     "execution_count": 52,
     "metadata": {},
     "output_type": "execute_result"
    }
   ],
   "source": [
    "coassoc_val.data"
   ]
  },
  {
   "cell_type": "code",
   "execution_count": 51,
   "metadata": {
    "collapsed": false
   },
   "outputs": [],
   "source": [
    "coassoc.data[0]=95"
   ]
  },
  {
   "cell_type": "code",
   "execution_count": 46,
   "metadata": {
    "collapsed": false
   },
   "outputs": [
    {
     "data": {
      "text/plain": [
       "array([  59,   13,   24, ..., 4998, 4998, 4999], dtype=int32)"
      ]
     },
     "execution_count": 46,
     "metadata": {},
     "output_type": "execute_result"
    }
   ],
   "source": [
    "coassoc_val.indices"
   ]
  },
  {
   "cell_type": "code",
   "execution_count": 36,
   "metadata": {
    "collapsed": true
   },
   "outputs": [],
   "source": [
    "a = csgraph.connected_components(mst)"
   ]
  },
  {
   "cell_type": "code",
   "execution_count": 35,
   "metadata": {
    "collapsed": false
   },
   "outputs": [
    {
     "data": {
      "text/plain": [
       "(array([ 142.,  276.,  374.,  442.,  458.,  504.,  478.,  472.,  408.,\n",
       "         358.,  290.,  265.,  189.,  148.,   85.,   38.,   26.,   20.,\n",
       "          10.,    4.,    4.,    0.,    0.,    2.,    1.,    1.,    0.,\n",
       "           0.,    0.,    0.,    0.,    0.,    0.,    1.,    0.,    0.,\n",
       "           0.,    0.,    0.,    0.,    0.,    0.,    0.,    0.,    0.,\n",
       "           0.,    0.,    0.,    0.,    0.,    0.,    0.,    0.,    0.,\n",
       "           0.,    0.,    0.,    0.,    0.,    0.,    0.,    0.,    0.,\n",
       "           0.,    0.,    0.,    0.,    0.,    0.,    1.,    0.,    0.,\n",
       "           0.,    0.,    0.,    0.,    0.,    0.,    0.,    0.,    0.,\n",
       "           0.,    0.,    0.,    0.,    0.,    0.,    0.,    0.,    0.,\n",
       "           0.,    0.,    0.,    1.,    0.,    0.,    0.,    0.,    0.,    1.]),\n",
       " array([   1.  ,    1.99,    2.98,    3.97,    4.96,    5.95,    6.94,\n",
       "           7.93,    8.92,    9.91,   10.9 ,   11.89,   12.88,   13.87,\n",
       "          14.86,   15.85,   16.84,   17.83,   18.82,   19.81,   20.8 ,\n",
       "          21.79,   22.78,   23.77,   24.76,   25.75,   26.74,   27.73,\n",
       "          28.72,   29.71,   30.7 ,   31.69,   32.68,   33.67,   34.66,\n",
       "          35.65,   36.64,   37.63,   38.62,   39.61,   40.6 ,   41.59,\n",
       "          42.58,   43.57,   44.56,   45.55,   46.54,   47.53,   48.52,\n",
       "          49.51,   50.5 ,   51.49,   52.48,   53.47,   54.46,   55.45,\n",
       "          56.44,   57.43,   58.42,   59.41,   60.4 ,   61.39,   62.38,\n",
       "          63.37,   64.36,   65.35,   66.34,   67.33,   68.32,   69.31,\n",
       "          70.3 ,   71.29,   72.28,   73.27,   74.26,   75.25,   76.24,\n",
       "          77.23,   78.22,   79.21,   80.2 ,   81.19,   82.18,   83.17,\n",
       "          84.16,   85.15,   86.14,   87.13,   88.12,   89.11,   90.1 ,\n",
       "          91.09,   92.08,   93.07,   94.06,   95.05,   96.04,   97.03,\n",
       "          98.02,   99.01,  100.  ]),\n",
       " <a list of 100 Patch objects>)"
      ]
     },
     "execution_count": 35,
     "metadata": {},
     "output_type": "execute_result"
    },
    {
     "data": {
      "image/png": "[encoded data removed]",
      "text/plain": [
       "<matplotlib.figure.Figure at 0x7f1e2f2bcd90>"
      ]
     },
     "metadata": {},
     "output_type": "display_data"
    }
   ],
   "source": [
    "fig = plt.figure(figsize=(16,6))\n",
    "ax = fig.add_subplot(1,2,1)\n",
    "plt.hist(mst.data, bins=mst.max())\n",
    "ax = fig.add_subplot(1,2,2)\n",
    "plt.hist(mst2.data, bins=mst2.max())"
   ]
  },
  {
   "cell_type": "code",
   "execution_count": 131,
   "metadata": {
    "collapsed": true
   },
   "outputs": [],
   "source": [
    "# inputs\n",
    "n_clusters = 4\n",
    "n_partitions = 100"
   ]
  },
  {
   "cell_type": "code",
   "execution_count": 132,
   "metadata": {
    "collapsed": false
   },
   "outputs": [],
   "source": [
    "# converting to diassociations\n",
    "coassoc.data = coassoc.data.max() + 1 - coassoc.data\n",
    "\n",
    "# get minimum spanning tree\n",
    "mst = csgraph.minimum_spanning_tree(coassoc).astype(np.uint8)\n",
    "\n",
    "# compute number of disconnected components\n",
    "n_disconnect_clusters = mst.shape[0] - mst.nnz\n",
    "\n",
    "# sort associations by weights\n",
    "asort = mst.data.argsort()\n",
    "sorted_weights = mst.data[asort]\n",
    "\n",
    "if n_clusters == 0:\n",
    "    # compute lifetimes\n",
    "    lifetimes = sorted_weights[1:] - sorted_weights[:-1]\n",
    "\n",
    "    # add 1 to n_partitions as the maximum weight because I also added\n",
    "    # 1 when converting to diassoc to avoid having zero weights\n",
    "    disconnect_lifetime = n_partitions + 1 - sorted_weights[-1]\n",
    "\n",
    "    # maximum lifetime\n",
    "    m_index = np.argmax(lifetimes)\n",
    "    th = lifetimes[m_index]\n",
    "\n",
    "    # get number of clusters from lifetimes\n",
    "    indices = np.where(mst.data > mst.data[m_index])[0]\n",
    "    if indices.size == 0:\n",
    "        cont = 1\n",
    "    else:\n",
    "        cont = indices.size + 1\n",
    "\n",
    "    #testing the situation when only 1 cluster is present\n",
    "    # if maximum lifetime is smaller than 2 times the minimum\n",
    "    # don't make any cuts (= 1 cluster)\n",
    "    # max>2*min_interval -> nc=1\n",
    "    close_to_zero_indices = np.where(np.isclose(lifetimes, 0))\n",
    "    minimum = np.min(lifetimes[close_to_zero_indices])\n",
    "\n",
    "    if th < 2 * minimum:\n",
    "        cont = 1\n",
    "\n",
    "    # add disconnected clusters to number of clusters if disconnected\n",
    "    # lifetime is smaller\n",
    "    if th > disconnect_lifetime:\n",
    "        cont += n_disconnect_clusters\n",
    "    else:\n",
    "        cont = n_disconnect_clusters\n",
    "\n",
    "    nc_stable = cont\n",
    "else:\n",
    "    nc_stable = n_clusters\n",
    "\n",
    "  \n",
    "    \n",
    "n_comps, labels = csgraph.connected_components(mst)"
   ]
  },
  {
   "cell_type": "code",
   "execution_count": 133,
   "metadata": {
    "collapsed": false
   },
   "outputs": [
    {
     "name": "stdout",
     "output_type": "stream",
     "text": [
      "4 [0 1 0 ..., 2 1 1]\n"
     ]
    },
    {
     "data": {
      "text/plain": [
       "(array([ 667.,  666.,  666.,    1.]),\n",
       " array([ 0.  ,  0.75,  1.5 ,  2.25,  3.  ]),\n",
       " <a list of 4 Patch objects>)"
      ]
     },
     "execution_count": 133,
     "metadata": {},
     "output_type": "execute_result"
    },
    {
     "data": {
      "image/png": "[encoded data removed]",
      "text/plain": [
       "<matplotlib.figure.Figure at 0x7f1acdcd6250>"
      ]
     },
     "metadata": {},
     "output_type": "display_data"
    }
   ],
   "source": [
    "print n_comps, labels\n",
    "plt.hist(labels, bins=n_comps, log=True)"
   ]
  },
  {
   "cell_type": "code",
   "execution_count": 134,
   "metadata": {
    "collapsed": false
   },
   "outputs": [
    {
     "data": {
      "image/png": "[encoded data removed]",
      "text/plain": [
       "<matplotlib.figure.Figure at 0x7f1acd236390>"
      ]
     },
     "metadata": {},
     "output_type": "display_data"
    }
   ],
   "source": [
    "for c in xrange(n_comps):\n",
    "    c_idx = labels == c\n",
    "    plt.plot(data[c_idx,0],data[c_idx,1],'.')"
   ]
  },
  {
   "cell_type": "code",
   "execution_count": 33,
   "metadata": {
    "collapsed": false
   },
   "outputs": [
    {
     "data": {
      "text/plain": [
       "3"
      ]
     },
     "execution_count": 33,
     "metadata": {},
     "output_type": "execute_result"
    }
   ],
   "source": [
    "nc_stable"
   ]
  },
  {
   "cell_type": "code",
   "execution_count": 66,
   "metadata": {
    "collapsed": false
   },
   "outputs": [
    {
     "data": {
      "text/plain": [
       "2"
      ]
     },
     "execution_count": 66,
     "metadata": {},
     "output_type": "execute_result"
    }
   ],
   "source": [
    "nc_stable"
   ]
  },
  {
   "cell_type": "code",
   "execution_count": null,
   "metadata": {
    "collapsed": true
   },
   "outputs": [],
   "source": [
    "        if n_clusters == 0:\n",
    "            # lifetime is here computed as the distance difference between \n",
    "            # any two consecutive nodes, i.e. the distance between passing\n",
    "            # from n to n-1 clusters\n",
    "\n",
    "            lifetimes = Z[1:,2] - Z[:-1,2]\n",
    "\n",
    "            m_index = np.argmax(lifetimes)\n",
    "\n",
    "            # Z is ordered in increasing order by weight of connection\n",
    "            # the connection whose weight is higher than the one specified\n",
    "            # by m_index MUST be the one from which the jump originated the\n",
    "            # maximum lifetime; all connections above that (and including)\n",
    "            # will be removed for the final clustering\n",
    "            indices = np.where(Z[:,2] > Z[m_index, 2])[0]\n",
    "            #indices = np.arange(m_index+1, Z.shape[0])\n",
    "            if indices.size == 0:\n",
    "                cont = 1\n",
    "            else:\n",
    "                cont = indices.size + 1\n",
    "\n",
    "            # store maximum lifetime\n",
    "            th = lifetimes[m_index]\n",
    "\n",
    "            #testing the situation when only 1 cluster is present\n",
    "            # if maximum lifetime is smaller than 2 times the minimum\n",
    "            # don't make any cuts (= 1 cluster)\n",
    "            #max>2*min_interval -> nc=1\n",
    "            close_to_zero_indices = np.where(np.isclose(lifetimes, 0))\n",
    "            minimum = np.min(lifetimes[close_to_zero_indices])\n",
    "\n",
    "            if th < 2 * minimum:\n",
    "                cont = 1\n",
    "\n",
    "            nc_stable = cont\n",
    "\n",
    "        else:\n",
    "            nc_stable = n_clusters\n",
    "\n",
    "        if nc_stable > 1:\n",
    "            # only the labels are of interest\n",
    "\n",
    "            labels = labels_from_Z(Z, n_clusters=nc_stable)\n",
    "\n",
    "            # rename labels\n",
    "            i=0\n",
    "            for l in np.unique(labels):\n",
    "                labels[labels == l] = i\n",
    "                i += 1\n",
    "        else:\n",
    "            labels = np.zeros(self.n_samples, dtype = np.int32)\n",
    "\n",
    "        self.labels_ = labels\n",
    "        return labels"
   ]
  },
  {
   "cell_type": "markdown",
   "metadata": {},
   "source": [
    "# linkage full"
   ]
  },
  {
   "cell_type": "code",
   "execution_count": 159,
   "metadata": {
    "collapsed": true
   },
   "outputs": [],
   "source": [
    "from scipy.cluster.hierarchy import linkage"
   ]
  },
  {
   "cell_type": "code",
   "execution_count": 204,
   "metadata": {
    "collapsed": false
   },
   "outputs": [],
   "source": [
    "coassoc = cfull.coassoc.copy()"
   ]
  },
  {
   "cell_type": "code",
   "execution_count": 207,
   "metadata": {
    "collapsed": false
   },
   "outputs": [
    {
     "name": "stdout",
     "output_type": "stream",
     "text": [
      "CPU times: user 3.01 s, sys: 9.12 ms, total: 3.02 s\n",
      "Wall time: 3.03 s\n"
     ]
    }
   ],
   "source": [
    "myEac.make_diassoc_1d(coassoc, n_partitions)\n",
    "\n",
    "# apply linkage\n",
    "%time Z = myEac.linkage(coassoc, method=\"average\")"
   ]
  },
  {
   "cell_type": "code",
   "execution_count": 208,
   "metadata": {
    "collapsed": false
   },
   "outputs": [
    {
     "data": {
      "text/plain": [
       "array([[  3.10000000e+01,   2.06000000e+02,   1.00000000e+00,\n",
       "          2.00000000e+00],\n",
       "       [  2.31000000e+02,   9.47000000e+02,   1.00000000e+00,\n",
       "          2.00000000e+00],\n",
       "       [  2.55000000e+02,   1.66400000e+03,   1.00000000e+00,\n",
       "          2.00000000e+00],\n",
       "       ..., \n",
       "       [  3.98900000e+03,   3.99300000e+03,   9.96209231e+01,\n",
       "          6.67000000e+02],\n",
       "       [  3.99400000e+03,   3.99600000e+03,   1.01000000e+02,\n",
       "          1.33400000e+03],\n",
       "       [  3.99500000e+03,   3.99700000e+03,   1.01000000e+02,\n",
       "          2.00000000e+03]])"
      ]
     },
     "execution_count": 208,
     "metadata": {},
     "output_type": "execute_result"
    }
   ],
   "source": [
    "Z"
   ]
  },
  {
   "cell_type": "code",
   "execution_count": 185,
   "metadata": {
    "collapsed": false
   },
   "outputs": [],
   "source": [
    "labels = myEac.labels_from_Z(Z, n_clusters=100)\n",
    "# rename labels\n",
    "i=0\n",
    "for l in np.unique(labels):\n",
    "    labels[labels == l] = i\n",
    "    i += 1"
   ]
  },
  {
   "cell_type": "code",
   "execution_count": 209,
   "metadata": {
    "collapsed": false
   },
   "outputs": [
    {
     "data": {
      "text/plain": [
       "(array([ 35.,   0.,   0., ...,   0.,   0.,   2.]),\n",
       " array([   1.        ,    1.05002501,    1.10005003, ...,  100.89994997,\n",
       "         100.94997499,  101.        ]),\n",
       " <a list of 1999 Patch objects>)"
      ]
     },
     "execution_count": 209,
     "metadata": {},
     "output_type": "execute_result"
    },
    {
     "data": {
      "image/png": "[encoded data removed]",
      "text/plain": [
       "<matplotlib.figure.Figure at 0x7f1ac79b49d0>"
      ]
     },
     "metadata": {},
     "output_type": "display_data"
    }
   ],
   "source": [
    "plt.hist(Z[:,2], bins=Z.shape[0])"
   ]
  },
  {
   "cell_type": "code",
   "execution_count": 186,
   "metadata": {
    "collapsed": false
   },
   "outputs": [
    {
     "name": "stdout",
     "output_type": "stream",
     "text": [
      "[98 95 63 ..., 71 95 82]\n"
     ]
    },
    {
     "data": {
      "text/plain": [
       "(array([   1.,    1.,    1.,    1.,    1.,    1.,    1.,    1.,    1.,\n",
       "           1.,    1.,    1.,    1.,    1.,    1.,    1.,    1.,    1.,\n",
       "           1.,    1.,    1.,    1.,    1.,    1.,    1.,    1.,    1.,\n",
       "           1.,    1.,    1.,    1.,    1.,    1.,    1.,    1.,    1.,\n",
       "           1.,    1.,    1.,    1.,    1.,    1.,    2.,    3.,    2.,\n",
       "           3.,    3.,    2.,    2.,    2.,   12.,    2.,    2.,    4.,\n",
       "           4.,    3.,    3.,    6.,    9.,    2.,    4.,    2.,   15.,\n",
       "          20.,    7.,    3.,   41.,    3.,   15.,    3.,   17.,   25.,\n",
       "          39.,    7.,   39.,   14.,   42.,   50.,    4.,    2.,    7.,\n",
       "          51.,   45.,    7.,    5.,   14.,    7.,   49.,  260.,   51.,\n",
       "          57.,   47.,   47.,   45.,    4.,  394.,   74.,    3.,  191.,  182.]),\n",
       " array([  0.  ,   0.99,   1.98,   2.97,   3.96,   4.95,   5.94,   6.93,\n",
       "          7.92,   8.91,   9.9 ,  10.89,  11.88,  12.87,  13.86,  14.85,\n",
       "         15.84,  16.83,  17.82,  18.81,  19.8 ,  20.79,  21.78,  22.77,\n",
       "         23.76,  24.75,  25.74,  26.73,  27.72,  28.71,  29.7 ,  30.69,\n",
       "         31.68,  32.67,  33.66,  34.65,  35.64,  36.63,  37.62,  38.61,\n",
       "         39.6 ,  40.59,  41.58,  42.57,  43.56,  44.55,  45.54,  46.53,\n",
       "         47.52,  48.51,  49.5 ,  50.49,  51.48,  52.47,  53.46,  54.45,\n",
       "         55.44,  56.43,  57.42,  58.41,  59.4 ,  60.39,  61.38,  62.37,\n",
       "         63.36,  64.35,  65.34,  66.33,  67.32,  68.31,  69.3 ,  70.29,\n",
       "         71.28,  72.27,  73.26,  74.25,  75.24,  76.23,  77.22,  78.21,\n",
       "         79.2 ,  80.19,  81.18,  82.17,  83.16,  84.15,  85.14,  86.13,\n",
       "         87.12,  88.11,  89.1 ,  90.09,  91.08,  92.07,  93.06,  94.05,\n",
       "         95.04,  96.03,  97.02,  98.01,  99.  ]),\n",
       " <a list of 100 Patch objects>)"
      ]
     },
     "execution_count": 186,
     "metadata": {},
     "output_type": "execute_result"
    },
    {
     "data": {
      "image/png": "[encoded data removed]",
      "text/plain": [
       "<matplotlib.figure.Figure at 0x7f1ac55d7e90>"
      ]
     },
     "metadata": {},
     "output_type": "display_data"
    }
   ],
   "source": [
    "print labels\n",
    "plt.hist(labels, bins=100, log=True)"
   ]
  },
  {
   "cell_type": "markdown",
   "metadata": {},
   "source": [
    "# plot stuff"
   ]
  },
  {
   "cell_type": "code",
   "execution_count": 14,
   "metadata": {
    "collapsed": false
   },
   "outputs": [
    {
     "data": {
      "text/plain": [
       "<matplotlib.legend.Legend at 0x7f86f21b71d0>"
      ]
     },
     "execution_count": 14,
     "metadata": {},
     "output_type": "execute_result"
    },
    {
     "data": {
      "image/png": "[encoded data removed]",
      "text/plain": [
       "<matplotlib.figure.Figure at 0x7f86f2310dd0>"
      ]
     },
     "metadata": {},
     "output_type": "display_data"
    }
   ],
   "source": [
    "fig1 = plt.figure(figsize=(16,6))\n",
    "\n",
    "ax = fig1.add_subplot(1,2,1)\n",
    "x = np.arange(n_samples)\n",
    "y = fullEAC.coassoc.degree[:-1]\n",
    "\n",
    "x_max = [0, n_samples]\n",
    "y_max = [fullEAC.sp_max_assocs, fullEAC.sp_max_assocs]\n",
    "\n",
    "ax.plot(x, y, 'k', alpha=1)\n",
    "ax.fill_between(x, 0, y, color='k', alpha=1)\n",
    "ax.plot(x_max, y_max, 'r', label=\"max. number of assocs.\")\n",
    "\n",
    "ax.set_title(\"Number of associations per sample on a condensed matrix\")\n",
    "ax.set_xlabel(\"Sample no.\")\n",
    "ax.set_ylabel(\"Number of associations\")\n",
    "#ax.legend(loc=4)\n",
    "\n",
    "################################################\n",
    "\n",
    "ax = fig1.add_subplot(1,2,2)\n",
    "x = np.arange(n_samples)\n",
    "y = spEAC.coassoc.degree[:-1]\n",
    "\n",
    "lin_indptr = myEacSp.indptr_linear(n_samples, fullEAC.sp_max_assocs,\n",
    "                                   spEAC.coassoc.n_s, spEAC.coassoc.n_e,\n",
    "                                   spEAC.coassoc.val_s, spEAC.coassoc.val_e)\n",
    "y_lin = lin_indptr[1:] - lin_indptr[:-1]\n",
    "\n",
    "fit = np.polyfit(x,y,1) # linear regression of degree\n",
    "fit_fn = np.poly1d(fit)\n",
    "y_reg = fit_fn(x)\n",
    "y_reg = np.where(y_reg<0,0,y_reg)\n",
    "\n",
    "ax.plot(x, y, color='k')\n",
    "ax.fill_between(x, 0, y, color='k', alpha=1)\n",
    "ax.plot(x, y_reg, label=\"linear regression of no. of assocs.\")\n",
    "ax.plot(x, y_lin, label=\"pre-allocated no. assocs.\")\n",
    "ax.plot(x_max, y_max, label=\"max. number of assocs.\")\n",
    "\n",
    "ax.set_title(\"Number of associations per sample on a condensed matrix\")\n",
    "ax.set_xlabel(\"Sample no.\")\n",
    "ax.set_ylabel(\"Number of associations\")\n",
    "ax.legend(loc=[0.5,0.7])"
   ]
  },
  {
   "cell_type": "code",
   "execution_count": 15,
   "metadata": {
    "collapsed": false
   },
   "outputs": [],
   "source": [
    "save_fig(fig1, \"/home/chiroptera/eac_csr_cond_full_degree_100k\")"
   ]
  },
  {
   "cell_type": "code",
   "execution_count": 54,
   "metadata": {
    "collapsed": false
   },
   "outputs": [
    {
     "data": {
      "text/plain": [
       "[<matplotlib.lines.Line2D at 0x7ff763e48710>]"
      ]
     },
     "execution_count": 54,
     "metadata": {},
     "output_type": "execute_result"
    },
    {
     "data": {
      "image/png": "[encoded data removed]",
      "text/plain": [
       "<matplotlib.figure.Figure at 0x7ff763df0810>"
      ]
     },
     "metadata": {},
     "output_type": "display_data"
    }
   ],
   "source": [
    "x = np.arange(1,10,0.05)\n",
    "y = 1 / np.sqrt(x)\n",
    "y = y.max() -y\n",
    "y = y / y.max()\n",
    "plt.plot(x,y)\n",
    "plt.plot(x,y[::-1])\n",
    "#plt.plot(x,np.sqrt(x)[::-1]/np.sqrt(x).max())"
   ]
  },
  {
   "cell_type": "code",
   "execution_count": 52,
   "metadata": {
    "collapsed": false
   },
   "outputs": [
    {
     "data": {
      "text/plain": [
       "136.40980611903461"
      ]
     },
     "execution_count": 52,
     "metadata": {},
     "output_type": "execute_result"
    }
   ],
   "source": [
    "y.sum()"
   ]
  },
  {
   "cell_type": "code",
   "execution_count": 15,
   "metadata": {
    "collapsed": false
   },
   "outputs": [
    {
     "name": "stderr",
     "output_type": "stream",
     "text": [
      "/home/chiroptera/anaconda/lib/python2.7/site-packages/IPython/kernel/__main__.py:2: RuntimeWarning: divide by zero encountered in log\n",
      "  from IPython.kernel.zmq import kernelapp as app\n"
     ]
    },
    {
     "data": {
      "text/plain": [
       "[<matplotlib.lines.Line2D at 0x7ff76b6e5c90>]"
      ]
     },
     "execution_count": 15,
     "metadata": {},
     "output_type": "execute_result"
    },
    {
     "data": {
      "image/png": "[encoded data removed]",
      "text/plain": [
       "<matplotlib.figure.Figure at 0x7ff76f013c50>"
      ]
     },
     "metadata": {},
     "output_type": "display_data"
    }
   ],
   "source": [
    "x = np.arange(0,2,0.05)\n",
    "y = np.exp(x)\n",
    "y /= y.max()\n",
    "y = 1-y\n",
    "plt.plot(x,y)"
   ]
  },
  {
   "cell_type": "code",
   "execution_count": 57,
   "metadata": {
    "collapsed": false
   },
   "outputs": [
    {
     "data": {
      "text/plain": [
       "<module 'MyML.utils.sparse' from '/home/chiroptera/workspace/QCThesis/MyML/utils/sparse.pyc'>"
      ]
     },
     "execution_count": 57,
     "metadata": {},
     "output_type": "execute_result"
    }
   ],
   "source": [
    "reload(myEacSp)"
   ]
  },
  {
   "cell_type": "code",
   "execution_count": 60,
   "metadata": {
    "collapsed": false
   },
   "outputs": [],
   "source": [
    "y, y_sum = myEacSp.linear(n_samples, max_assocs, 0.1, 1, 1, 0.02)"
   ]
  },
  {
   "cell_type": "code",
   "execution_count": 61,
   "metadata": {
    "collapsed": false
   },
   "outputs": [
    {
     "data": {
      "text/plain": [
       "0.55873891547049437"
      ]
     },
     "execution_count": 61,
     "metadata": {},
     "output_type": "execute_result"
    }
   ],
   "source": [
    "total_area = n_samples * max_assocs\n",
    "y_sum * 1.0 / total_area"
   ]
  },
  {
   "cell_type": "code",
   "execution_count": 13,
   "metadata": {
    "collapsed": false
   },
   "outputs": [
    {
     "data": {
      "text/plain": [
       "<matplotlib.text.Text at 0x7ff76c3cf9d0>"
      ]
     },
     "execution_count": 13,
     "metadata": {},
     "output_type": "execute_result"
    },
    {
     "data": {
      "image/png": "[encoded data removed]",
      "text/plain": [
       "<matplotlib.figure.Figure at 0x7ff76c5f2d50>"
      ]
     },
     "metadata": {},
     "output_type": "display_data"
    }
   ],
   "source": [
    "fig = plt.figure(figsize=(8,6))\n",
    "x = np.arange(n_samples)\n",
    "ax = fig.add_subplot(1,1,1)\n",
    "ax.bar(x, csp.degree[:-1])\n",
    "ax.plot([0,n_samples],[max_assocs, max_assocs])\n",
    "#ax.plot(np.arange(n_samples), max_assoc_scheme)\n",
    "ax.plot(x,y)\n",
    "\n",
    "ax.set_title(\"full sparse matrix\")\n",
    "ax.set_xlabel(\"sample id\")"
   ]
  },
  {
   "cell_type": "code",
   "execution_count": 67,
   "metadata": {
    "collapsed": false
   },
   "outputs": [
    {
     "data": {
      "text/plain": [
       "<module 'MyML.helper.scan' from '/home/chiroptera/workspace/QCThesis/MyML/helper/scan.py'>"
      ]
     },
     "execution_count": 67,
     "metadata": {},
     "output_type": "execute_result"
    }
   ],
   "source": [
    "import MyML.helper.scan as myScan\n",
    "reload(myScan)"
   ]
  },
  {
   "cell_type": "code",
   "execution_count": 63,
   "metadata": {
    "collapsed": true
   },
   "outputs": [],
   "source": [
    "y_c = y.copy()"
   ]
  },
  {
   "cell_type": "code",
   "execution_count": 71,
   "metadata": {
    "collapsed": false
   },
   "outputs": [
    {
     "data": {
      "text/plain": [
       "3503293"
      ]
     },
     "execution_count": 71,
     "metadata": {},
     "output_type": "execute_result"
    }
   ],
   "source": [
    "y_sum"
   ]
  },
  {
   "cell_type": "code",
   "execution_count": 72,
   "metadata": {
    "collapsed": false
   },
   "outputs": [
    {
     "data": {
      "text/plain": [
       "array([1254, 1254, 1254, ...,   25,   25, 5000], dtype=int32)"
      ]
     },
     "execution_count": 72,
     "metadata": {},
     "output_type": "execute_result"
    }
   ],
   "source": [
    "y_c"
   ]
  },
  {
   "cell_type": "code",
   "execution_count": 68,
   "metadata": {
    "collapsed": false
   },
   "outputs": [
    {
     "data": {
      "text/plain": [
       "3508293"
      ]
     },
     "execution_count": 68,
     "metadata": {},
     "output_type": "execute_result"
    }
   ],
   "source": [
    "myScan.exprefixsumNumbaSingle(y)"
   ]
  },
  {
   "cell_type": "code",
   "execution_count": 77,
   "metadata": {
    "collapsed": true
   },
   "outputs": [],
   "source": [
    "class testme:\n",
    "    def __init__(self,**kwargs):\n",
    "        self.val2=kwargs.get(\"val2\", 50)"
   ]
  },
  {
   "cell_type": "code",
   "execution_count": 80,
   "metadata": {
    "collapsed": false
   },
   "outputs": [
    {
     "data": {
      "text/plain": [
       "100"
      ]
     },
     "execution_count": 80,
     "metadata": {},
     "output_type": "execute_result"
    }
   ],
   "source": [
    "a=testme(val2=100)\n",
    "a.val2"
   ]
  },
  {
   "cell_type": "code",
   "execution_count": 73,
   "metadata": {
    "collapsed": false
   },
   "outputs": [
    {
     "data": {
      "text/plain": [
       "array([      0,    1254,    2508, ..., 3503243, 3503268, 3503293], dtype=int32)"
      ]
     },
     "execution_count": 73,
     "metadata": {},
     "output_type": "execute_result"
    }
   ],
   "source": [
    "y"
   ]
  },
  {
   "cell_type": "code",
   "execution_count": 76,
   "metadata": {
    "collapsed": false
   },
   "outputs": [
    {
     "data": {
      "text/plain": [
       "True"
      ]
     },
     "execution_count": 76,
     "metadata": {},
     "output_type": "execute_result"
    }
   ],
   "source": [
    "((y[1:] - y[:-1]) == y_c[:-1]).all()"
   ]
  }
 ],
 "metadata": {
  "kernelspec": {
   "display_name": "Python 2",
   "language": "python",
   "name": "python2"
  },
  "language_info": {
   "codemirror_mode": {
    "name": "ipython",
    "version": 2
   },
   "file_extension": ".py",
   "mimetype": "text/x-python",
   "name": "python",
   "nbconvert_exporter": "python",
   "pygments_lexer": "ipython2",
   "version": "2.7.10"
  }
 },
 "nbformat": 4,
 "nbformat_minor": 0
}
